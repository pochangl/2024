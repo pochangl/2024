{
 "cells": [
  {
   "cell_type": "markdown",
   "id": "f50b4445-6199-4cba-8d7c-81392f716d2e",
   "metadata": {},
   "source": [
    "# 作業"
   ]
  },
  {
   "cell_type": "markdown",
   "id": "dd106bac-8d2e-4c8c-beb2-5e8c8b9ecc01",
   "metadata": {},
   "source": [
    "## i510. 尋找子字串"
   ]
  },
  {
   "cell_type": "code",
   "execution_count": 1,
   "id": "5bb70c3d-bc12-4b54-abe9-79dd8fd34805",
   "metadata": {},
   "outputs": [],
   "source": [
    "text = 'I am batman.'\n",
    "target = 'bat'"
   ]
  },
  {
   "cell_type": "code",
   "execution_count": 2,
   "id": "c85cf0ca-e0f0-45f9-ab6d-aa7aa36e7f42",
   "metadata": {},
   "outputs": [
    {
     "data": {
      "text/plain": [
       "False"
      ]
     },
     "execution_count": 2,
     "metadata": {},
     "output_type": "execute_result"
    }
   ],
   "source": [
    "text[0:3] == target"
   ]
  },
  {
   "cell_type": "code",
   "execution_count": 3,
   "id": "316f6b82-dfab-4fc9-a452-296697bc4c30",
   "metadata": {},
   "outputs": [
    {
     "data": {
      "text/plain": [
       "False"
      ]
     },
     "execution_count": 3,
     "metadata": {},
     "output_type": "execute_result"
    }
   ],
   "source": [
    "text[1:1+3] == target"
   ]
  },
  {
   "cell_type": "code",
   "execution_count": 4,
   "id": "ccb4829a-3efe-49f7-b71e-eda4b99658ef",
   "metadata": {},
   "outputs": [
    {
     "data": {
      "text/plain": [
       "True"
      ]
     },
     "execution_count": 4,
     "metadata": {},
     "output_type": "execute_result"
    }
   ],
   "source": [
    "text[5:5+3] == target"
   ]
  },
  {
   "cell_type": "code",
   "execution_count": 5,
   "id": "d3fd5522-e8e4-4122-8307-d731b02ea7cf",
   "metadata": {},
   "outputs": [
    {
     "data": {
      "text/plain": [
       "'bat'"
      ]
     },
     "execution_count": 5,
     "metadata": {},
     "output_type": "execute_result"
    }
   ],
   "source": [
    "text[5:5+3]"
   ]
  },
  {
   "cell_type": "code",
   "execution_count": 6,
   "id": "fc3b6d15-f38c-4b95-86ec-517b2bb360f2",
   "metadata": {},
   "outputs": [
    {
     "data": {
      "text/plain": [
       "\u001b[1;31mDocstring:\u001b[0m\n",
       "S.find(sub[, start[, end]]) -> int\n",
       "\n",
       "Return the lowest index in S where substring sub is found,\n",
       "such that sub is contained within S[start:end].  Optional\n",
       "arguments start and end are interpreted as in slice notation.\n",
       "\n",
       "Return -1 on failure.\n",
       "\u001b[1;31mType:\u001b[0m      builtin_function_or_method"
      ]
     },
     "metadata": {},
     "output_type": "display_data"
    }
   ],
   "source": [
    "text.find?"
   ]
  },
  {
   "cell_type": "code",
   "execution_count": 8,
   "id": "6d4ef1cb-57f3-454e-997c-e474d313b1c9",
   "metadata": {},
   "outputs": [
    {
     "data": {
      "text/plain": [
       "5"
      ]
     },
     "execution_count": 8,
     "metadata": {},
     "output_type": "execute_result"
    }
   ],
   "source": [
    "'I am batman.'.find('bat')"
   ]
  },
  {
   "cell_type": "code",
   "execution_count": 23,
   "id": "3b686a23-6ad1-4a5a-a2ea-ab67b0bb64e1",
   "metadata": {},
   "outputs": [],
   "source": [
    "text = 'aab'\n",
    "target = 'ab'\n",
    "# 要在 aab 裡找到 ab 的位置"
   ]
  },
  {
   "cell_type": "code",
   "execution_count": 24,
   "id": "b72f50b8-d05b-49ed-9ea5-d075d7c44b91",
   "metadata": {},
   "outputs": [
    {
     "data": {
      "text/plain": [
       "'aa'"
      ]
     },
     "execution_count": 24,
     "metadata": {},
     "output_type": "execute_result"
    }
   ],
   "source": [
    "text[0: 0 + 2]"
   ]
  },
  {
   "cell_type": "code",
   "execution_count": 30,
   "id": "5d39da0c-2115-4b29-8050-c647c78daee8",
   "metadata": {},
   "outputs": [
    {
     "data": {
      "text/plain": [
       "'ab'"
      ]
     },
     "execution_count": 30,
     "metadata": {},
     "output_type": "execute_result"
    }
   ],
   "source": [
    "text[1: 1 + 2]"
   ]
  },
  {
   "cell_type": "markdown",
   "id": "4730cb28-d72d-4b6e-b1a8-e358e6b4b6ff",
   "metadata": {
    "scrolled": true
   },
   "source": [
    "text[1: 1+2] == target"
   ]
  },
  {
   "cell_type": "code",
   "execution_count": 28,
   "id": "d02c2308-6dde-48c6-a458-bb7fb5ba9f94",
   "metadata": {},
   "outputs": [
    {
     "data": {
      "text/plain": [
       "1"
      ]
     },
     "execution_count": 28,
     "metadata": {},
     "output_type": "execute_result"
    }
   ],
   "source": [
    "text.find(target)"
   ]
  },
  {
   "cell_type": "markdown",
   "id": "5908cb78-ba73-409a-b7ac-cf50f83d795a",
   "metadata": {
    "jp-MarkdownHeadingCollapsed": true
   },
   "source": [
    "while loop 的作法\n",
    "```python\n",
    "i = 0\n",
    "while i < len(target):\n",
    "    ...\n",
    "```"
   ]
  },
  {
   "cell_type": "markdown",
   "id": "e2f29186-f4f0-4a2a-83c8-0324ec4cefa5",
   "metadata": {},
   "source": [
    "for loop 作法\n",
    "```python\n",
    "for i in range(length(target)):\n",
    "    ...\n",
    "```"
   ]
  },
  {
   "cell_type": "markdown",
   "id": "c0ac73a0-ce38-44d8-929a-5a519033b520",
   "metadata": {},
   "source": [
    "## nc638. 天干地支"
   ]
  },
  {
   "cell_type": "code",
   "execution_count": 9,
   "id": "3244cf20-fd05-4416-92c9-87ff7009e320",
   "metadata": {},
   "outputs": [],
   "source": [
    "t = ['甲', '乙','丙','丁','戊','己','庚','辛','壬','癸']\n",
    "d = ['子', '丑', '寅', '卯', '辰', '巳', '午', '未', '申', '酉', '戌', '亥']"
   ]
  },
  {
   "cell_type": "code",
   "execution_count": 11,
   "id": "7e2ed1d9-3013-4c71-8cd5-763bc7f8253e",
   "metadata": {},
   "outputs": [
    {
     "data": {
      "text/plain": [
       "'甲子'"
      ]
     },
     "execution_count": 11,
     "metadata": {},
     "output_type": "execute_result"
    }
   ],
   "source": [
    "t[0] + d[0]"
   ]
  },
  {
   "cell_type": "code",
   "execution_count": 12,
   "id": "2aca13a2-01c0-4090-9154-ae5ecf90d307",
   "metadata": {},
   "outputs": [
    {
     "data": {
      "text/plain": [
       "'乙丑'"
      ]
     },
     "execution_count": 12,
     "metadata": {},
     "output_type": "execute_result"
    }
   ],
   "source": [
    "t[1] + d[1]"
   ]
  },
  {
   "cell_type": "code",
   "execution_count": 14,
   "id": "5ef296e7-3cbf-41cd-96c2-b252aff7b701",
   "metadata": {},
   "outputs": [
    {
     "data": {
      "text/plain": [
       "'癸酉'"
      ]
     },
     "execution_count": 14,
     "metadata": {},
     "output_type": "execute_result"
    }
   ],
   "source": [
    "t[9] +d[9]"
   ]
  },
  {
   "cell_type": "code",
   "execution_count": 18,
   "id": "adb32595-6958-40c4-a59c-a8dc1f15ec94",
   "metadata": {},
   "outputs": [
    {
     "data": {
      "text/plain": [
       "'甲戌'"
      ]
     },
     "execution_count": 18,
     "metadata": {},
     "output_type": "execute_result"
    }
   ],
   "source": [
    "t[10%10] + d[10]"
   ]
  },
  {
   "cell_type": "code",
   "execution_count": 20,
   "id": "1072edac-9a13-4aae-a6db-7dd8f061df64",
   "metadata": {},
   "outputs": [
    {
     "data": {
      "text/plain": [
       "'乙亥'"
      ]
     },
     "execution_count": 20,
     "metadata": {},
     "output_type": "execute_result"
    }
   ],
   "source": [
    "t[11 % 10] + d[11]"
   ]
  },
  {
   "cell_type": "code",
   "execution_count": 22,
   "id": "167509a7-3933-410b-ad55-2a5f1ea62f96",
   "metadata": {},
   "outputs": [
    {
     "data": {
      "text/plain": [
       "'丙丑'"
      ]
     },
     "execution_count": 22,
     "metadata": {},
     "output_type": "execute_result"
    }
   ],
   "source": [
    "t[12 % 10] + d[13 % 12]"
   ]
  },
  {
   "cell_type": "markdown",
   "id": "8660c122-3344-4dfc-84b0-27020284eae1",
   "metadata": {},
   "source": [
    "1906 是 丙午年"
   ]
  },
  {
   "cell_type": "code",
   "execution_count": 37,
   "id": "e1dfca6a-7d98-443d-b204-6bce0ce42e73",
   "metadata": {},
   "outputs": [
    {
     "data": {
      "text/plain": [
       "44"
      ]
     },
     "execution_count": 37,
     "metadata": {},
     "output_type": "execute_result"
    }
   ],
   "source": [
    "# 假設 1800 是甲子年 (不正確)\n",
    "\n",
    "year = 2024\n",
    "r = (year - 1800) % 60\n",
    "r"
   ]
  },
  {
   "cell_type": "code",
   "execution_count": 38,
   "id": "cbcc8dc4-458e-4013-a3df-061c254f2c97",
   "metadata": {},
   "outputs": [
    {
     "data": {
      "text/plain": [
       "'戊申'"
      ]
     },
     "execution_count": 38,
     "metadata": {},
     "output_type": "execute_result"
    }
   ],
   "source": [
    "t[r % 10] + d[r % 12]"
   ]
  },
  {
   "cell_type": "markdown",
   "id": "613c2ac2-baef-40b9-bd75-a1e2dd7446f1",
   "metadata": {},
   "source": [
    "## b572. 忘了東西的傑克"
   ]
  },
  {
   "cell_type": "code",
   "execution_count": 41,
   "id": "a49691c5-f346-4850-9c20-7828a226f5b8",
   "metadata": {},
   "outputs": [],
   "source": [
    "h1, m1, h2, m2, minutes = map(int, '21 00 21 15 13'.split())"
   ]
  },
  {
   "cell_type": "code",
   "execution_count": 44,
   "id": "9dde892a-ebe2-4f4f-8306-96f2f7ab4884",
   "metadata": {},
   "outputs": [
    {
     "data": {
      "text/plain": [
       "'21點0分, 公車21點15分到, 回家拿東西需要13分鐘'"
      ]
     },
     "execution_count": 44,
     "metadata": {},
     "output_type": "execute_result"
    }
   ],
   "source": [
    "f'{h1}點{m1}分, 公車{h2}點{m2}分到, 回家拿東西需要{minutes}分鐘'"
   ]
  },
  {
   "cell_type": "code",
   "execution_count": 45,
   "id": "aa7d9f0a-6ad7-4864-a186-190b157b4dab",
   "metadata": {},
   "outputs": [],
   "source": [
    "import datetime"
   ]
  },
  {
   "cell_type": "code",
   "execution_count": 51,
   "id": "b61e9c17-ab67-493e-a23c-a667eb720912",
   "metadata": {},
   "outputs": [
    {
     "data": {
      "text/plain": [
       "datetime.datetime(2000, 1, 1, 21, 0)"
      ]
     },
     "execution_count": 51,
     "metadata": {},
     "output_type": "execute_result"
    }
   ],
   "source": [
    "t1 = datetime.datetime(year=2000, month=1, day=1, hour=h1, minute=m1)\n",
    "t1"
   ]
  },
  {
   "cell_type": "code",
   "execution_count": 59,
   "id": "d0238770-f2e5-4db2-a24d-f3387282a15e",
   "metadata": {
    "scrolled": true
   },
   "outputs": [
    {
     "data": {
      "text/plain": [
       "datetime.datetime(2000, 1, 1, 21, 15)"
      ]
     },
     "execution_count": 59,
     "metadata": {},
     "output_type": "execute_result"
    }
   ],
   "source": [
    "t2 = datetime.datetime(year=2000, month=1, day=1, hour=h2, minute=m2)\n",
    "t2"
   ]
  },
  {
   "cell_type": "code",
   "execution_count": 60,
   "id": "ede565de-9b1c-4d91-93cd-e0cda4a63a9f",
   "metadata": {},
   "outputs": [
    {
     "data": {
      "text/plain": [
       "datetime.timedelta(seconds=900)"
      ]
     },
     "execution_count": 60,
     "metadata": {},
     "output_type": "execute_result"
    }
   ],
   "source": [
    "delta = t2 - t1\n",
    "delta"
   ]
  },
  {
   "cell_type": "code",
   "execution_count": 61,
   "id": "b0e49e23-6e5e-4097-9514-848a33a47a78",
   "metadata": {},
   "outputs": [
    {
     "data": {
      "text/plain": [
       "15.0"
      ]
     },
     "execution_count": 61,
     "metadata": {},
     "output_type": "execute_result"
    }
   ],
   "source": [
    "delta.seconds /60"
   ]
  },
  {
   "cell_type": "markdown",
   "id": "74918901-99a6-45bd-9f1e-a486bb02f1b6",
   "metadata": {},
   "source": [
    "# 其它"
   ]
  },
  {
   "cell_type": "markdown",
   "id": "e37ca760-e2b8-4ef4-8e11-e6a7684cd56e",
   "metadata": {},
   "source": [
    "## 輸出時間, 的格式"
   ]
  },
  {
   "cell_type": "code",
   "execution_count": 65,
   "id": "cbad0e6e-e239-4e82-a053-6f922851fcd6",
   "metadata": {},
   "outputs": [
    {
     "data": {
      "text/plain": [
       "datetime.datetime(2024, 4, 17, 14, 14, 41, 95092)"
      ]
     },
     "execution_count": 65,
     "metadata": {},
     "output_type": "execute_result"
    }
   ],
   "source": [
    "import datetime\n",
    "t = datetime.datetime.now()\n",
    "t"
   ]
  },
  {
   "cell_type": "markdown",
   "id": "cdfe306e-12b9-4f58-ab5d-902b069fd295",
   "metadata": {},
   "source": [
    "https://docs.python.org/3/library/datetime.html#strftime-and-strptime-format-codes"
   ]
  },
  {
   "cell_type": "markdown",
   "id": "1c5d8ad6-dbb2-491e-9510-32e6c79357b4",
   "metadata": {},
   "source": [
    "strftime = string from time"
   ]
  },
  {
   "cell_type": "code",
   "execution_count": 68,
   "id": "76346bd4-f7bc-4cc8-95ba-7c1178a1e68d",
   "metadata": {},
   "outputs": [
    {
     "data": {
      "text/plain": [
       "'2024'"
      ]
     },
     "execution_count": 68,
     "metadata": {},
     "output_type": "execute_result"
    }
   ],
   "source": [
    "t.strftime('%Y')"
   ]
  },
  {
   "cell_type": "code",
   "execution_count": 69,
   "id": "591b1e01-53b0-4c2e-8de0-5bf7e82ff716",
   "metadata": {
    "jupyter": {
     "source_hidden": true
    }
   },
   "outputs": [
    {
     "data": {
      "text/plain": [
       "'2024-04-17'"
      ]
     },
     "execution_count": 69,
     "metadata": {},
     "output_type": "execute_result"
    }
   ],
   "source": [
    "# 2024-04-27\n",
    "t.strftime('%Y-%m-%d')"
   ]
  },
  {
   "cell_type": "code",
   "execution_count": 77,
   "id": "0fa2f7b7-e0ae-4cbe-92a0-655e818fdaa6",
   "metadata": {},
   "outputs": [
    {
     "data": {
      "text/plain": [
       "datetime.datetime(2024, 4, 27, 12, 12, 12)"
      ]
     },
     "execution_count": 77,
     "metadata": {},
     "output_type": "execute_result"
    }
   ],
   "source": [
    "s = '2024-04-27 12:12:12'\n",
    "\n",
    "t2 = datetime.datetime.strptime(s, '%Y-%m-%d %H:%M:%S')\n",
    "t2"
   ]
  },
  {
   "cell_type": "code",
   "execution_count": 78,
   "id": "039ff10d-55b1-4406-be57-0e254e8318bd",
   "metadata": {},
   "outputs": [
    {
     "data": {
      "text/plain": [
       "datetime.datetime(2024, 4, 10, 14, 14, 41, 95092)"
      ]
     },
     "execution_count": 78,
     "metadata": {},
     "output_type": "execute_result"
    }
   ],
   "source": [
    "t - datetime.timedelta(days=7)"
   ]
  },
  {
   "cell_type": "code",
   "execution_count": 80,
   "id": "ca9deb34-3c9f-41d4-9d0e-c0864d2ee112",
   "metadata": {},
   "outputs": [
    {
     "data": {
      "text/plain": [
       "datetime.datetime(2024, 4, 17, 14, 4, 41, 95092)"
      ]
     },
     "execution_count": 80,
     "metadata": {},
     "output_type": "execute_result"
    }
   ],
   "source": [
    "t - datetime.timedelta(minutes=10)"
   ]
  },
  {
   "cell_type": "code",
   "execution_count": 81,
   "id": "df07717c-933d-43a5-aada-c70748bf103f",
   "metadata": {},
   "outputs": [
    {
     "data": {
      "text/plain": [
       "datetime.timedelta(days=9, seconds=79050, microseconds=904908)"
      ]
     },
     "execution_count": 81,
     "metadata": {},
     "output_type": "execute_result"
    }
   ],
   "source": [
    "t2 - t"
   ]
  },
  {
   "cell_type": "code",
   "execution_count": 83,
   "id": "e2985d6f-3e5a-4692-9072-e528e781398d",
   "metadata": {},
   "outputs": [],
   "source": [
    "# 練習\n"
   ]
  },
  {
   "cell_type": "markdown",
   "id": "0ce4eb50-cc24-4803-ad28-8851be4d9cab",
   "metadata": {},
   "source": [
    "## 練習1. Mobile Price Range\n",
    "https://www.kaggle.com/datasets/iabhishekofficial/mobile-price-classification?resource=download"
   ]
  },
  {
   "cell_type": "code",
   "execution_count": 87,
   "id": "442d6746-c02d-430c-8b54-579f2656de77",
   "metadata": {},
   "outputs": [],
   "source": [
    "import pandas as pd"
   ]
  },
  {
   "cell_type": "code",
   "execution_count": 90,
   "id": "4ddd42b5-f736-475b-9f96-8722b97520d8",
   "metadata": {},
   "outputs": [
    {
     "data": {
      "text/html": [
       "<div>\n",
       "<style scoped>\n",
       "    .dataframe tbody tr th:only-of-type {\n",
       "        vertical-align: middle;\n",
       "    }\n",
       "\n",
       "    .dataframe tbody tr th {\n",
       "        vertical-align: top;\n",
       "    }\n",
       "\n",
       "    .dataframe thead th {\n",
       "        text-align: right;\n",
       "    }\n",
       "</style>\n",
       "<table border=\"1\" class=\"dataframe\">\n",
       "  <thead>\n",
       "    <tr style=\"text-align: right;\">\n",
       "      <th></th>\n",
       "      <th>battery_power</th>\n",
       "      <th>blue</th>\n",
       "      <th>clock_speed</th>\n",
       "      <th>dual_sim</th>\n",
       "      <th>fc</th>\n",
       "      <th>four_g</th>\n",
       "      <th>int_memory</th>\n",
       "      <th>m_dep</th>\n",
       "      <th>mobile_wt</th>\n",
       "      <th>n_cores</th>\n",
       "      <th>...</th>\n",
       "      <th>px_height</th>\n",
       "      <th>px_width</th>\n",
       "      <th>ram</th>\n",
       "      <th>sc_h</th>\n",
       "      <th>sc_w</th>\n",
       "      <th>talk_time</th>\n",
       "      <th>three_g</th>\n",
       "      <th>touch_screen</th>\n",
       "      <th>wifi</th>\n",
       "      <th>price_range</th>\n",
       "    </tr>\n",
       "  </thead>\n",
       "  <tbody>\n",
       "    <tr>\n",
       "      <th>0</th>\n",
       "      <td>842</td>\n",
       "      <td>0</td>\n",
       "      <td>2.2</td>\n",
       "      <td>0</td>\n",
       "      <td>1</td>\n",
       "      <td>0</td>\n",
       "      <td>7</td>\n",
       "      <td>0.6</td>\n",
       "      <td>188</td>\n",
       "      <td>2</td>\n",
       "      <td>...</td>\n",
       "      <td>20</td>\n",
       "      <td>756</td>\n",
       "      <td>2549</td>\n",
       "      <td>9</td>\n",
       "      <td>7</td>\n",
       "      <td>19</td>\n",
       "      <td>0</td>\n",
       "      <td>0</td>\n",
       "      <td>1</td>\n",
       "      <td>1</td>\n",
       "    </tr>\n",
       "    <tr>\n",
       "      <th>1</th>\n",
       "      <td>1021</td>\n",
       "      <td>1</td>\n",
       "      <td>0.5</td>\n",
       "      <td>1</td>\n",
       "      <td>0</td>\n",
       "      <td>1</td>\n",
       "      <td>53</td>\n",
       "      <td>0.7</td>\n",
       "      <td>136</td>\n",
       "      <td>3</td>\n",
       "      <td>...</td>\n",
       "      <td>905</td>\n",
       "      <td>1988</td>\n",
       "      <td>2631</td>\n",
       "      <td>17</td>\n",
       "      <td>3</td>\n",
       "      <td>7</td>\n",
       "      <td>1</td>\n",
       "      <td>1</td>\n",
       "      <td>0</td>\n",
       "      <td>2</td>\n",
       "    </tr>\n",
       "    <tr>\n",
       "      <th>2</th>\n",
       "      <td>563</td>\n",
       "      <td>1</td>\n",
       "      <td>0.5</td>\n",
       "      <td>1</td>\n",
       "      <td>2</td>\n",
       "      <td>1</td>\n",
       "      <td>41</td>\n",
       "      <td>0.9</td>\n",
       "      <td>145</td>\n",
       "      <td>5</td>\n",
       "      <td>...</td>\n",
       "      <td>1263</td>\n",
       "      <td>1716</td>\n",
       "      <td>2603</td>\n",
       "      <td>11</td>\n",
       "      <td>2</td>\n",
       "      <td>9</td>\n",
       "      <td>1</td>\n",
       "      <td>1</td>\n",
       "      <td>0</td>\n",
       "      <td>2</td>\n",
       "    </tr>\n",
       "    <tr>\n",
       "      <th>3</th>\n",
       "      <td>615</td>\n",
       "      <td>1</td>\n",
       "      <td>2.5</td>\n",
       "      <td>0</td>\n",
       "      <td>0</td>\n",
       "      <td>0</td>\n",
       "      <td>10</td>\n",
       "      <td>0.8</td>\n",
       "      <td>131</td>\n",
       "      <td>6</td>\n",
       "      <td>...</td>\n",
       "      <td>1216</td>\n",
       "      <td>1786</td>\n",
       "      <td>2769</td>\n",
       "      <td>16</td>\n",
       "      <td>8</td>\n",
       "      <td>11</td>\n",
       "      <td>1</td>\n",
       "      <td>0</td>\n",
       "      <td>0</td>\n",
       "      <td>2</td>\n",
       "    </tr>\n",
       "    <tr>\n",
       "      <th>4</th>\n",
       "      <td>1821</td>\n",
       "      <td>1</td>\n",
       "      <td>1.2</td>\n",
       "      <td>0</td>\n",
       "      <td>13</td>\n",
       "      <td>1</td>\n",
       "      <td>44</td>\n",
       "      <td>0.6</td>\n",
       "      <td>141</td>\n",
       "      <td>2</td>\n",
       "      <td>...</td>\n",
       "      <td>1208</td>\n",
       "      <td>1212</td>\n",
       "      <td>1411</td>\n",
       "      <td>8</td>\n",
       "      <td>2</td>\n",
       "      <td>15</td>\n",
       "      <td>1</td>\n",
       "      <td>1</td>\n",
       "      <td>0</td>\n",
       "      <td>1</td>\n",
       "    </tr>\n",
       "    <tr>\n",
       "      <th>...</th>\n",
       "      <td>...</td>\n",
       "      <td>...</td>\n",
       "      <td>...</td>\n",
       "      <td>...</td>\n",
       "      <td>...</td>\n",
       "      <td>...</td>\n",
       "      <td>...</td>\n",
       "      <td>...</td>\n",
       "      <td>...</td>\n",
       "      <td>...</td>\n",
       "      <td>...</td>\n",
       "      <td>...</td>\n",
       "      <td>...</td>\n",
       "      <td>...</td>\n",
       "      <td>...</td>\n",
       "      <td>...</td>\n",
       "      <td>...</td>\n",
       "      <td>...</td>\n",
       "      <td>...</td>\n",
       "      <td>...</td>\n",
       "      <td>...</td>\n",
       "    </tr>\n",
       "    <tr>\n",
       "      <th>1995</th>\n",
       "      <td>794</td>\n",
       "      <td>1</td>\n",
       "      <td>0.5</td>\n",
       "      <td>1</td>\n",
       "      <td>0</td>\n",
       "      <td>1</td>\n",
       "      <td>2</td>\n",
       "      <td>0.8</td>\n",
       "      <td>106</td>\n",
       "      <td>6</td>\n",
       "      <td>...</td>\n",
       "      <td>1222</td>\n",
       "      <td>1890</td>\n",
       "      <td>668</td>\n",
       "      <td>13</td>\n",
       "      <td>4</td>\n",
       "      <td>19</td>\n",
       "      <td>1</td>\n",
       "      <td>1</td>\n",
       "      <td>0</td>\n",
       "      <td>0</td>\n",
       "    </tr>\n",
       "    <tr>\n",
       "      <th>1996</th>\n",
       "      <td>1965</td>\n",
       "      <td>1</td>\n",
       "      <td>2.6</td>\n",
       "      <td>1</td>\n",
       "      <td>0</td>\n",
       "      <td>0</td>\n",
       "      <td>39</td>\n",
       "      <td>0.2</td>\n",
       "      <td>187</td>\n",
       "      <td>4</td>\n",
       "      <td>...</td>\n",
       "      <td>915</td>\n",
       "      <td>1965</td>\n",
       "      <td>2032</td>\n",
       "      <td>11</td>\n",
       "      <td>10</td>\n",
       "      <td>16</td>\n",
       "      <td>1</td>\n",
       "      <td>1</td>\n",
       "      <td>1</td>\n",
       "      <td>2</td>\n",
       "    </tr>\n",
       "    <tr>\n",
       "      <th>1997</th>\n",
       "      <td>1911</td>\n",
       "      <td>0</td>\n",
       "      <td>0.9</td>\n",
       "      <td>1</td>\n",
       "      <td>1</td>\n",
       "      <td>1</td>\n",
       "      <td>36</td>\n",
       "      <td>0.7</td>\n",
       "      <td>108</td>\n",
       "      <td>8</td>\n",
       "      <td>...</td>\n",
       "      <td>868</td>\n",
       "      <td>1632</td>\n",
       "      <td>3057</td>\n",
       "      <td>9</td>\n",
       "      <td>1</td>\n",
       "      <td>5</td>\n",
       "      <td>1</td>\n",
       "      <td>1</td>\n",
       "      <td>0</td>\n",
       "      <td>3</td>\n",
       "    </tr>\n",
       "    <tr>\n",
       "      <th>1998</th>\n",
       "      <td>1512</td>\n",
       "      <td>0</td>\n",
       "      <td>0.9</td>\n",
       "      <td>0</td>\n",
       "      <td>4</td>\n",
       "      <td>1</td>\n",
       "      <td>46</td>\n",
       "      <td>0.1</td>\n",
       "      <td>145</td>\n",
       "      <td>5</td>\n",
       "      <td>...</td>\n",
       "      <td>336</td>\n",
       "      <td>670</td>\n",
       "      <td>869</td>\n",
       "      <td>18</td>\n",
       "      <td>10</td>\n",
       "      <td>19</td>\n",
       "      <td>1</td>\n",
       "      <td>1</td>\n",
       "      <td>1</td>\n",
       "      <td>0</td>\n",
       "    </tr>\n",
       "    <tr>\n",
       "      <th>1999</th>\n",
       "      <td>510</td>\n",
       "      <td>1</td>\n",
       "      <td>2.0</td>\n",
       "      <td>1</td>\n",
       "      <td>5</td>\n",
       "      <td>1</td>\n",
       "      <td>45</td>\n",
       "      <td>0.9</td>\n",
       "      <td>168</td>\n",
       "      <td>6</td>\n",
       "      <td>...</td>\n",
       "      <td>483</td>\n",
       "      <td>754</td>\n",
       "      <td>3919</td>\n",
       "      <td>19</td>\n",
       "      <td>4</td>\n",
       "      <td>2</td>\n",
       "      <td>1</td>\n",
       "      <td>1</td>\n",
       "      <td>1</td>\n",
       "      <td>3</td>\n",
       "    </tr>\n",
       "  </tbody>\n",
       "</table>\n",
       "<p>2000 rows × 21 columns</p>\n",
       "</div>"
      ],
      "text/plain": [
       "      battery_power  blue  clock_speed  dual_sim  fc  four_g  int_memory  \\\n",
       "0               842     0          2.2         0   1       0           7   \n",
       "1              1021     1          0.5         1   0       1          53   \n",
       "2               563     1          0.5         1   2       1          41   \n",
       "3               615     1          2.5         0   0       0          10   \n",
       "4              1821     1          1.2         0  13       1          44   \n",
       "...             ...   ...          ...       ...  ..     ...         ...   \n",
       "1995            794     1          0.5         1   0       1           2   \n",
       "1996           1965     1          2.6         1   0       0          39   \n",
       "1997           1911     0          0.9         1   1       1          36   \n",
       "1998           1512     0          0.9         0   4       1          46   \n",
       "1999            510     1          2.0         1   5       1          45   \n",
       "\n",
       "      m_dep  mobile_wt  n_cores  ...  px_height  px_width   ram  sc_h  sc_w  \\\n",
       "0       0.6        188        2  ...         20       756  2549     9     7   \n",
       "1       0.7        136        3  ...        905      1988  2631    17     3   \n",
       "2       0.9        145        5  ...       1263      1716  2603    11     2   \n",
       "3       0.8        131        6  ...       1216      1786  2769    16     8   \n",
       "4       0.6        141        2  ...       1208      1212  1411     8     2   \n",
       "...     ...        ...      ...  ...        ...       ...   ...   ...   ...   \n",
       "1995    0.8        106        6  ...       1222      1890   668    13     4   \n",
       "1996    0.2        187        4  ...        915      1965  2032    11    10   \n",
       "1997    0.7        108        8  ...        868      1632  3057     9     1   \n",
       "1998    0.1        145        5  ...        336       670   869    18    10   \n",
       "1999    0.9        168        6  ...        483       754  3919    19     4   \n",
       "\n",
       "      talk_time  three_g  touch_screen  wifi  price_range  \n",
       "0            19        0             0     1            1  \n",
       "1             7        1             1     0            2  \n",
       "2             9        1             1     0            2  \n",
       "3            11        1             0     0            2  \n",
       "4            15        1             1     0            1  \n",
       "...         ...      ...           ...   ...          ...  \n",
       "1995         19        1             1     0            0  \n",
       "1996         16        1             1     1            2  \n",
       "1997          5        1             1     0            3  \n",
       "1998         19        1             1     1            0  \n",
       "1999          2        1             1     1            3  \n",
       "\n",
       "[2000 rows x 21 columns]"
      ]
     },
     "execution_count": 90,
     "metadata": {},
     "output_type": "execute_result"
    }
   ],
   "source": [
    "price_range = pd.read_csv('mobile_price_range.csv')\n",
    "price_range"
   ]
  },
  {
   "cell_type": "code",
   "execution_count": 92,
   "id": "3d22bdb3-5286-4c54-a90c-e3fe78a603f9",
   "metadata": {},
   "outputs": [],
   "source": [
    "from sklearn.model_selection import train_test_split"
   ]
  },
  {
   "cell_type": "code",
   "execution_count": null,
   "id": "cba8e454-6c1b-4e99-95d6-e590aeb98b6c",
   "metadata": {},
   "outputs": [],
   "source": []
  }
 ],
 "metadata": {
  "kernelspec": {
   "display_name": "Python 3 (ipykernel)",
   "language": "python",
   "name": "python3"
  },
  "language_info": {
   "codemirror_mode": {
    "name": "ipython",
    "version": 3
   },
   "file_extension": ".py",
   "mimetype": "text/x-python",
   "name": "python",
   "nbconvert_exporter": "python",
   "pygments_lexer": "ipython3",
   "version": "3.12.2"
  }
 },
 "nbformat": 4,
 "nbformat_minor": 5
}
