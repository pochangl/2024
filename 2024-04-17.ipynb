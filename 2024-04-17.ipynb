{
 "cells": [
  {
   "cell_type": "markdown",
   "id": "f50b4445-6199-4cba-8d7c-81392f716d2e",
   "metadata": {},
   "source": [
    "# 作業"
   ]
  },
  {
   "cell_type": "markdown",
   "id": "dd106bac-8d2e-4c8c-beb2-5e8c8b9ecc01",
   "metadata": {},
   "source": [
    "## i510. 尋找子字串"
   ]
  },
  {
   "cell_type": "code",
   "execution_count": 1,
   "id": "5bb70c3d-bc12-4b54-abe9-79dd8fd34805",
   "metadata": {},
   "outputs": [],
   "source": [
    "text = 'I am batman.'\n",
    "target = 'bat'"
   ]
  },
  {
   "cell_type": "code",
   "execution_count": 2,
   "id": "c85cf0ca-e0f0-45f9-ab6d-aa7aa36e7f42",
   "metadata": {},
   "outputs": [
    {
     "data": {
      "text/plain": [
       "False"
      ]
     },
     "execution_count": 2,
     "metadata": {},
     "output_type": "execute_result"
    }
   ],
   "source": [
    "text[0:3] == target"
   ]
  },
  {
   "cell_type": "code",
   "execution_count": 3,
   "id": "316f6b82-dfab-4fc9-a452-296697bc4c30",
   "metadata": {},
   "outputs": [
    {
     "data": {
      "text/plain": [
       "False"
      ]
     },
     "execution_count": 3,
     "metadata": {},
     "output_type": "execute_result"
    }
   ],
   "source": [
    "text[1:1+3] == target"
   ]
  },
  {
   "cell_type": "code",
   "execution_count": 4,
   "id": "ccb4829a-3efe-49f7-b71e-eda4b99658ef",
   "metadata": {},
   "outputs": [
    {
     "data": {
      "text/plain": [
       "True"
      ]
     },
     "execution_count": 4,
     "metadata": {},
     "output_type": "execute_result"
    }
   ],
   "source": [
    "text[5:5+3] == target"
   ]
  },
  {
   "cell_type": "code",
   "execution_count": 5,
   "id": "d3fd5522-e8e4-4122-8307-d731b02ea7cf",
   "metadata": {},
   "outputs": [
    {
     "data": {
      "text/plain": [
       "'bat'"
      ]
     },
     "execution_count": 5,
     "metadata": {},
     "output_type": "execute_result"
    }
   ],
   "source": [
    "text[5:5+3]"
   ]
  },
  {
   "cell_type": "code",
   "execution_count": 6,
   "id": "fc3b6d15-f38c-4b95-86ec-517b2bb360f2",
   "metadata": {},
   "outputs": [
    {
     "data": {
      "text/plain": [
       "\u001b[1;31mDocstring:\u001b[0m\n",
       "S.find(sub[, start[, end]]) -> int\n",
       "\n",
       "Return the lowest index in S where substring sub is found,\n",
       "such that sub is contained within S[start:end].  Optional\n",
       "arguments start and end are interpreted as in slice notation.\n",
       "\n",
       "Return -1 on failure.\n",
       "\u001b[1;31mType:\u001b[0m      builtin_function_or_method"
      ]
     },
     "metadata": {},
     "output_type": "display_data"
    }
   ],
   "source": [
    "text.find?"
   ]
  },
  {
   "cell_type": "code",
   "execution_count": 8,
   "id": "6d4ef1cb-57f3-454e-997c-e474d313b1c9",
   "metadata": {},
   "outputs": [
    {
     "data": {
      "text/plain": [
       "5"
      ]
     },
     "execution_count": 8,
     "metadata": {},
     "output_type": "execute_result"
    }
   ],
   "source": [
    "'I am batman.'.find('bat')"
   ]
  },
  {
   "cell_type": "code",
   "execution_count": 23,
   "id": "3b686a23-6ad1-4a5a-a2ea-ab67b0bb64e1",
   "metadata": {},
   "outputs": [],
   "source": [
    "text = 'aab'\n",
    "target = 'ab'\n",
    "# 要在 aab 裡找到 ab 的位置"
   ]
  },
  {
   "cell_type": "code",
   "execution_count": 24,
   "id": "b72f50b8-d05b-49ed-9ea5-d075d7c44b91",
   "metadata": {},
   "outputs": [
    {
     "data": {
      "text/plain": [
       "'aa'"
      ]
     },
     "execution_count": 24,
     "metadata": {},
     "output_type": "execute_result"
    }
   ],
   "source": [
    "text[0: 0 + 2]"
   ]
  },
  {
   "cell_type": "code",
   "execution_count": 30,
   "id": "5d39da0c-2115-4b29-8050-c647c78daee8",
   "metadata": {},
   "outputs": [
    {
     "data": {
      "text/plain": [
       "'ab'"
      ]
     },
     "execution_count": 30,
     "metadata": {},
     "output_type": "execute_result"
    }
   ],
   "source": [
    "text[1: 1 + 2]"
   ]
  },
  {
   "cell_type": "code",
   "execution_count": 29,
   "id": "702f511b-75e9-4afb-bbb4-831d2bc4ffab",
   "metadata": {
    "scrolled": true
   },
   "outputs": [
    {
     "data": {
      "text/plain": [
       "True"
      ]
     },
     "execution_count": 29,
     "metadata": {},
     "output_type": "execute_result"
    }
   ],
   "source": [
    "text[1: 1+2] == target"
   ]
  },
  {
   "cell_type": "code",
   "execution_count": 28,
   "id": "d02c2308-6dde-48c6-a458-bb7fb5ba9f94",
   "metadata": {},
   "outputs": [
    {
     "data": {
      "text/plain": [
       "1"
      ]
     },
     "execution_count": 28,
     "metadata": {},
     "output_type": "execute_result"
    }
   ],
   "source": [
    "text.find(target)"
   ]
  },
  {
   "cell_type": "code",
   "execution_count": null,
   "id": "dfa3f551-3dd1-4a12-8a98-1e64b645b74e",
   "metadata": {},
   "outputs": [],
   "source": [
    "text"
   ]
  },
  {
   "cell_type": "markdown",
   "id": "c0ac73a0-ce38-44d8-929a-5a519033b520",
   "metadata": {},
   "source": [
    "## nc638. 天干地支"
   ]
  },
  {
   "cell_type": "code",
   "execution_count": 9,
   "id": "3244cf20-fd05-4416-92c9-87ff7009e320",
   "metadata": {},
   "outputs": [],
   "source": [
    "t = ['甲', '乙','丙','丁','戊','己','庚','辛','壬','癸']\n",
    "d = ['子', '丑', '寅', '卯', '辰', '巳', '午', '未', '申', '酉', '戌', '亥']"
   ]
  },
  {
   "cell_type": "code",
   "execution_count": 11,
   "id": "7e2ed1d9-3013-4c71-8cd5-763bc7f8253e",
   "metadata": {},
   "outputs": [
    {
     "data": {
      "text/plain": [
       "'甲子'"
      ]
     },
     "execution_count": 11,
     "metadata": {},
     "output_type": "execute_result"
    }
   ],
   "source": [
    "t[0] + d[0]"
   ]
  },
  {
   "cell_type": "code",
   "execution_count": 12,
   "id": "2aca13a2-01c0-4090-9154-ae5ecf90d307",
   "metadata": {},
   "outputs": [
    {
     "data": {
      "text/plain": [
       "'乙丑'"
      ]
     },
     "execution_count": 12,
     "metadata": {},
     "output_type": "execute_result"
    }
   ],
   "source": [
    "t[1] + d[1]"
   ]
  },
  {
   "cell_type": "code",
   "execution_count": 14,
   "id": "5ef296e7-3cbf-41cd-96c2-b252aff7b701",
   "metadata": {},
   "outputs": [
    {
     "data": {
      "text/plain": [
       "'癸酉'"
      ]
     },
     "execution_count": 14,
     "metadata": {},
     "output_type": "execute_result"
    }
   ],
   "source": [
    "t[9] +d[9]"
   ]
  },
  {
   "cell_type": "code",
   "execution_count": 18,
   "id": "adb32595-6958-40c4-a59c-a8dc1f15ec94",
   "metadata": {},
   "outputs": [
    {
     "data": {
      "text/plain": [
       "'甲戌'"
      ]
     },
     "execution_count": 18,
     "metadata": {},
     "output_type": "execute_result"
    }
   ],
   "source": [
    "t[10%10] + d[10]"
   ]
  },
  {
   "cell_type": "code",
   "execution_count": 20,
   "id": "1072edac-9a13-4aae-a6db-7dd8f061df64",
   "metadata": {},
   "outputs": [
    {
     "data": {
      "text/plain": [
       "'乙亥'"
      ]
     },
     "execution_count": 20,
     "metadata": {},
     "output_type": "execute_result"
    }
   ],
   "source": [
    "t[11 % 10] + d[11]"
   ]
  },
  {
   "cell_type": "code",
   "execution_count": 22,
   "id": "167509a7-3933-410b-ad55-2a5f1ea62f96",
   "metadata": {},
   "outputs": [
    {
     "data": {
      "text/plain": [
       "'丙丑'"
      ]
     },
     "execution_count": 22,
     "metadata": {},
     "output_type": "execute_result"
    }
   ],
   "source": [
    "t[12 % 10] + d[13 % 12]"
   ]
  },
  {
   "cell_type": "markdown",
   "id": "8660c122-3344-4dfc-84b0-27020284eae1",
   "metadata": {},
   "source": [
    "1906 是 丙午年"
   ]
  },
  {
   "cell_type": "code",
   "execution_count": null,
   "id": "70a644fe-5e0f-4f74-8ed1-d6bac05bd75e",
   "metadata": {
    "jupyter": {
     "source_hidden": true
    }
   },
   "outputs": [],
   "source": []
  }
 ],
 "metadata": {
  "kernelspec": {
   "display_name": "Python 3 (ipykernel)",
   "language": "python",
   "name": "python3"
  },
  "language_info": {
   "codemirror_mode": {
    "name": "ipython",
    "version": 3
   },
   "file_extension": ".py",
   "mimetype": "text/x-python",
   "name": "python",
   "nbconvert_exporter": "python",
   "pygments_lexer": "ipython3",
   "version": "3.12.2"
  }
 },
 "nbformat": 4,
 "nbformat_minor": 5
}
