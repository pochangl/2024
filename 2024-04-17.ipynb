{
 "cells": [
  {
   "cell_type": "markdown",
   "id": "f50b4445-6199-4cba-8d7c-81392f716d2e",
   "metadata": {},
   "source": [
    "# 作業"
   ]
  },
  {
   "cell_type": "markdown",
   "id": "dd106bac-8d2e-4c8c-beb2-5e8c8b9ecc01",
   "metadata": {},
   "source": [
    "## i510. 尋找子字串"
   ]
  },
  {
   "cell_type": "code",
   "execution_count": 1,
   "id": "5bb70c3d-bc12-4b54-abe9-79dd8fd34805",
   "metadata": {},
   "outputs": [],
   "source": [
    "text = 'I am batman.'\n",
    "target = 'bat'"
   ]
  },
  {
   "cell_type": "code",
   "execution_count": 2,
   "id": "c85cf0ca-e0f0-45f9-ab6d-aa7aa36e7f42",
   "metadata": {},
   "outputs": [
    {
     "data": {
      "text/plain": [
       "False"
      ]
     },
     "execution_count": 2,
     "metadata": {},
     "output_type": "execute_result"
    }
   ],
   "source": [
    "text[0:3] == target"
   ]
  },
  {
   "cell_type": "code",
   "execution_count": 3,
   "id": "316f6b82-dfab-4fc9-a452-296697bc4c30",
   "metadata": {},
   "outputs": [
    {
     "data": {
      "text/plain": [
       "False"
      ]
     },
     "execution_count": 3,
     "metadata": {},
     "output_type": "execute_result"
    }
   ],
   "source": [
    "text[1:1+3] == target"
   ]
  },
  {
   "cell_type": "code",
   "execution_count": 4,
   "id": "ccb4829a-3efe-49f7-b71e-eda4b99658ef",
   "metadata": {},
   "outputs": [
    {
     "data": {
      "text/plain": [
       "True"
      ]
     },
     "execution_count": 4,
     "metadata": {},
     "output_type": "execute_result"
    }
   ],
   "source": [
    "text[5:5+3] == target"
   ]
  },
  {
   "cell_type": "code",
   "execution_count": 5,
   "id": "d3fd5522-e8e4-4122-8307-d731b02ea7cf",
   "metadata": {},
   "outputs": [
    {
     "data": {
      "text/plain": [
       "'bat'"
      ]
     },
     "execution_count": 5,
     "metadata": {},
     "output_type": "execute_result"
    }
   ],
   "source": [
    "text[5:5+3]"
   ]
  },
  {
   "cell_type": "code",
   "execution_count": 6,
   "id": "fc3b6d15-f38c-4b95-86ec-517b2bb360f2",
   "metadata": {},
   "outputs": [
    {
     "data": {
      "text/plain": [
       "\u001b[1;31mDocstring:\u001b[0m\n",
       "S.find(sub[, start[, end]]) -> int\n",
       "\n",
       "Return the lowest index in S where substring sub is found,\n",
       "such that sub is contained within S[start:end].  Optional\n",
       "arguments start and end are interpreted as in slice notation.\n",
       "\n",
       "Return -1 on failure.\n",
       "\u001b[1;31mType:\u001b[0m      builtin_function_or_method"
      ]
     },
     "metadata": {},
     "output_type": "display_data"
    }
   ],
   "source": [
    "text.find?"
   ]
  },
  {
   "cell_type": "code",
   "execution_count": 8,
   "id": "6d4ef1cb-57f3-454e-997c-e474d313b1c9",
   "metadata": {},
   "outputs": [
    {
     "data": {
      "text/plain": [
       "5"
      ]
     },
     "execution_count": 8,
     "metadata": {},
     "output_type": "execute_result"
    }
   ],
   "source": [
    "'I am batman.'.find('bat')"
   ]
  },
  {
   "cell_type": "code",
   "execution_count": 23,
   "id": "3b686a23-6ad1-4a5a-a2ea-ab67b0bb64e1",
   "metadata": {},
   "outputs": [],
   "source": [
    "text = 'aab'\n",
    "target = 'ab'\n",
    "# 要在 aab 裡找到 ab 的位置"
   ]
  },
  {
   "cell_type": "code",
   "execution_count": 24,
   "id": "b72f50b8-d05b-49ed-9ea5-d075d7c44b91",
   "metadata": {},
   "outputs": [
    {
     "data": {
      "text/plain": [
       "'aa'"
      ]
     },
     "execution_count": 24,
     "metadata": {},
     "output_type": "execute_result"
    }
   ],
   "source": [
    "text[0: 0 + 2]"
   ]
  },
  {
   "cell_type": "code",
   "execution_count": 30,
   "id": "5d39da0c-2115-4b29-8050-c647c78daee8",
   "metadata": {},
   "outputs": [
    {
     "data": {
      "text/plain": [
       "'ab'"
      ]
     },
     "execution_count": 30,
     "metadata": {},
     "output_type": "execute_result"
    }
   ],
   "source": [
    "text[1: 1 + 2]"
   ]
  },
  {
   "cell_type": "markdown",
   "id": "4730cb28-d72d-4b6e-b1a8-e358e6b4b6ff",
   "metadata": {
    "scrolled": true
   },
   "source": [
    "text[1: 1+2] == target"
   ]
  },
  {
   "cell_type": "code",
   "execution_count": 28,
   "id": "d02c2308-6dde-48c6-a458-bb7fb5ba9f94",
   "metadata": {},
   "outputs": [
    {
     "data": {
      "text/plain": [
       "1"
      ]
     },
     "execution_count": 28,
     "metadata": {},
     "output_type": "execute_result"
    }
   ],
   "source": [
    "text.find(target)"
   ]
  },
  {
   "cell_type": "markdown",
   "id": "5908cb78-ba73-409a-b7ac-cf50f83d795a",
   "metadata": {
    "jp-MarkdownHeadingCollapsed": true
   },
   "source": [
    "while loop 的作法\n",
    "```python\n",
    "i = 0\n",
    "while i < len(target):\n",
    "    ...\n",
    "```"
   ]
  },
  {
   "cell_type": "markdown",
   "id": "e2f29186-f4f0-4a2a-83c8-0324ec4cefa5",
   "metadata": {},
   "source": [
    "for loop 作法\n",
    "```python\n",
    "for i in range(length(target)):\n",
    "    ...\n",
    "```"
   ]
  },
  {
   "cell_type": "markdown",
   "id": "c0ac73a0-ce38-44d8-929a-5a519033b520",
   "metadata": {},
   "source": [
    "## nc638. 天干地支"
   ]
  },
  {
   "cell_type": "code",
   "execution_count": 9,
   "id": "3244cf20-fd05-4416-92c9-87ff7009e320",
   "metadata": {},
   "outputs": [],
   "source": [
    "t = ['甲', '乙','丙','丁','戊','己','庚','辛','壬','癸']\n",
    "d = ['子', '丑', '寅', '卯', '辰', '巳', '午', '未', '申', '酉', '戌', '亥']"
   ]
  },
  {
   "cell_type": "code",
   "execution_count": 11,
   "id": "7e2ed1d9-3013-4c71-8cd5-763bc7f8253e",
   "metadata": {},
   "outputs": [
    {
     "data": {
      "text/plain": [
       "'甲子'"
      ]
     },
     "execution_count": 11,
     "metadata": {},
     "output_type": "execute_result"
    }
   ],
   "source": [
    "t[0] + d[0]"
   ]
  },
  {
   "cell_type": "code",
   "execution_count": 12,
   "id": "2aca13a2-01c0-4090-9154-ae5ecf90d307",
   "metadata": {},
   "outputs": [
    {
     "data": {
      "text/plain": [
       "'乙丑'"
      ]
     },
     "execution_count": 12,
     "metadata": {},
     "output_type": "execute_result"
    }
   ],
   "source": [
    "t[1] + d[1]"
   ]
  },
  {
   "cell_type": "code",
   "execution_count": 14,
   "id": "5ef296e7-3cbf-41cd-96c2-b252aff7b701",
   "metadata": {},
   "outputs": [
    {
     "data": {
      "text/plain": [
       "'癸酉'"
      ]
     },
     "execution_count": 14,
     "metadata": {},
     "output_type": "execute_result"
    }
   ],
   "source": [
    "t[9] +d[9]"
   ]
  },
  {
   "cell_type": "code",
   "execution_count": 18,
   "id": "adb32595-6958-40c4-a59c-a8dc1f15ec94",
   "metadata": {},
   "outputs": [
    {
     "data": {
      "text/plain": [
       "'甲戌'"
      ]
     },
     "execution_count": 18,
     "metadata": {},
     "output_type": "execute_result"
    }
   ],
   "source": [
    "t[10%10] + d[10]"
   ]
  },
  {
   "cell_type": "code",
   "execution_count": 20,
   "id": "1072edac-9a13-4aae-a6db-7dd8f061df64",
   "metadata": {},
   "outputs": [
    {
     "data": {
      "text/plain": [
       "'乙亥'"
      ]
     },
     "execution_count": 20,
     "metadata": {},
     "output_type": "execute_result"
    }
   ],
   "source": [
    "t[11 % 10] + d[11]"
   ]
  },
  {
   "cell_type": "code",
   "execution_count": 22,
   "id": "167509a7-3933-410b-ad55-2a5f1ea62f96",
   "metadata": {},
   "outputs": [
    {
     "data": {
      "text/plain": [
       "'丙丑'"
      ]
     },
     "execution_count": 22,
     "metadata": {},
     "output_type": "execute_result"
    }
   ],
   "source": [
    "t[12 % 10] + d[13 % 12]"
   ]
  },
  {
   "cell_type": "markdown",
   "id": "8660c122-3344-4dfc-84b0-27020284eae1",
   "metadata": {},
   "source": [
    "1906 是 丙午年"
   ]
  },
  {
   "cell_type": "code",
   "execution_count": 37,
   "id": "e1dfca6a-7d98-443d-b204-6bce0ce42e73",
   "metadata": {},
   "outputs": [
    {
     "data": {
      "text/plain": [
       "44"
      ]
     },
     "execution_count": 37,
     "metadata": {},
     "output_type": "execute_result"
    }
   ],
   "source": [
    "# 假設 1800 是甲子年 (不正確)\n",
    "\n",
    "year = 2024\n",
    "r = (year - 1800) % 60\n",
    "r"
   ]
  },
  {
   "cell_type": "code",
   "execution_count": 38,
   "id": "cbcc8dc4-458e-4013-a3df-061c254f2c97",
   "metadata": {},
   "outputs": [
    {
     "data": {
      "text/plain": [
       "'戊申'"
      ]
     },
     "execution_count": 38,
     "metadata": {},
     "output_type": "execute_result"
    }
   ],
   "source": [
    "t[r % 10] + d[r % 12]"
   ]
  },
  {
   "cell_type": "markdown",
   "id": "613c2ac2-baef-40b9-bd75-a1e2dd7446f1",
   "metadata": {},
   "source": [
    "## b572. 忘了東西的傑克"
   ]
  },
  {
   "cell_type": "code",
   "execution_count": 41,
   "id": "a49691c5-f346-4850-9c20-7828a226f5b8",
   "metadata": {},
   "outputs": [],
   "source": [
    "h1, m1, h2, m2, minutes = map(int, '21 00 21 15 13'.split())"
   ]
  },
  {
   "cell_type": "code",
   "execution_count": 44,
   "id": "9dde892a-ebe2-4f4f-8306-96f2f7ab4884",
   "metadata": {},
   "outputs": [
    {
     "data": {
      "text/plain": [
       "'21點0分, 公車21點15分到, 回家拿東西需要13分鐘'"
      ]
     },
     "execution_count": 44,
     "metadata": {},
     "output_type": "execute_result"
    }
   ],
   "source": [
    "f'{h1}點{m1}分, 公車{h2}點{m2}分到, 回家拿東西需要{minutes}分鐘'"
   ]
  },
  {
   "cell_type": "code",
   "execution_count": 45,
   "id": "aa7d9f0a-6ad7-4864-a186-190b157b4dab",
   "metadata": {},
   "outputs": [],
   "source": [
    "import datetime"
   ]
  },
  {
   "cell_type": "code",
   "execution_count": 51,
   "id": "b61e9c17-ab67-493e-a23c-a667eb720912",
   "metadata": {},
   "outputs": [
    {
     "data": {
      "text/plain": [
       "datetime.datetime(2000, 1, 1, 21, 0)"
      ]
     },
     "execution_count": 51,
     "metadata": {},
     "output_type": "execute_result"
    }
   ],
   "source": [
    "t1 = datetime.datetime(year=2000, month=1, day=1, hour=h1, minute=m1)\n",
    "t1"
   ]
  },
  {
   "cell_type": "code",
   "execution_count": 59,
   "id": "d0238770-f2e5-4db2-a24d-f3387282a15e",
   "metadata": {
    "scrolled": true
   },
   "outputs": [
    {
     "data": {
      "text/plain": [
       "datetime.datetime(2000, 1, 1, 21, 15)"
      ]
     },
     "execution_count": 59,
     "metadata": {},
     "output_type": "execute_result"
    }
   ],
   "source": [
    "t2 = datetime.datetime(year=2000, month=1, day=1, hour=h2, minute=m2)\n",
    "t2"
   ]
  },
  {
   "cell_type": "code",
   "execution_count": 60,
   "id": "ede565de-9b1c-4d91-93cd-e0cda4a63a9f",
   "metadata": {},
   "outputs": [
    {
     "data": {
      "text/plain": [
       "datetime.timedelta(seconds=900)"
      ]
     },
     "execution_count": 60,
     "metadata": {},
     "output_type": "execute_result"
    }
   ],
   "source": [
    "delta = t2 - t1\n",
    "delta"
   ]
  },
  {
   "cell_type": "code",
   "execution_count": 61,
   "id": "b0e49e23-6e5e-4097-9514-848a33a47a78",
   "metadata": {},
   "outputs": [
    {
     "data": {
      "text/plain": [
       "15.0"
      ]
     },
     "execution_count": 61,
     "metadata": {},
     "output_type": "execute_result"
    }
   ],
   "source": [
    "delta.seconds /60"
   ]
  },
  {
   "cell_type": "markdown",
   "id": "74918901-99a6-45bd-9f1e-a486bb02f1b6",
   "metadata": {},
   "source": [
    "# 其它"
   ]
  },
  {
   "cell_type": "markdown",
   "id": "e37ca760-e2b8-4ef4-8e11-e6a7684cd56e",
   "metadata": {},
   "source": [
    "## 輸出時間, 的格式"
   ]
  },
  {
   "cell_type": "code",
   "execution_count": 65,
   "id": "cbad0e6e-e239-4e82-a053-6f922851fcd6",
   "metadata": {},
   "outputs": [
    {
     "data": {
      "text/plain": [
       "datetime.datetime(2024, 4, 17, 14, 14, 41, 95092)"
      ]
     },
     "execution_count": 65,
     "metadata": {},
     "output_type": "execute_result"
    }
   ],
   "source": [
    "import datetime\n",
    "t = datetime.datetime.now()\n",
    "t"
   ]
  },
  {
   "cell_type": "markdown",
   "id": "cdfe306e-12b9-4f58-ab5d-902b069fd295",
   "metadata": {},
   "source": [
    "https://docs.python.org/3/library/datetime.html#strftime-and-strptime-format-codes"
   ]
  },
  {
   "cell_type": "markdown",
   "id": "1c5d8ad6-dbb2-491e-9510-32e6c79357b4",
   "metadata": {},
   "source": [
    "strftime = string from time"
   ]
  },
  {
   "cell_type": "code",
   "execution_count": 68,
   "id": "76346bd4-f7bc-4cc8-95ba-7c1178a1e68d",
   "metadata": {},
   "outputs": [
    {
     "data": {
      "text/plain": [
       "'2024'"
      ]
     },
     "execution_count": 68,
     "metadata": {},
     "output_type": "execute_result"
    }
   ],
   "source": [
    "t.strftime('%Y')"
   ]
  },
  {
   "cell_type": "code",
   "execution_count": 69,
   "id": "591b1e01-53b0-4c2e-8de0-5bf7e82ff716",
   "metadata": {},
   "outputs": [
    {
     "data": {
      "text/plain": [
       "'2024-04-17'"
      ]
     },
     "execution_count": 69,
     "metadata": {},
     "output_type": "execute_result"
    }
   ],
   "source": [
    "# 2024-04-27\n",
    "t.strftime('%Y-%m-%d')"
   ]
  },
  {
   "cell_type": "code",
   "execution_count": 77,
   "id": "0fa2f7b7-e0ae-4cbe-92a0-655e818fdaa6",
   "metadata": {},
   "outputs": [
    {
     "data": {
      "text/plain": [
       "datetime.datetime(2024, 4, 27, 12, 12, 12)"
      ]
     },
     "execution_count": 77,
     "metadata": {},
     "output_type": "execute_result"
    }
   ],
   "source": [
    "s = '2024-04-27 12:12:12'\n",
    "\n",
    "t2 = datetime.datetime.strptime(s, '%Y-%m-%d %H:%M:%S')\n",
    "t2"
   ]
  },
  {
   "cell_type": "code",
   "execution_count": null,
   "id": "039ff10d-55b1-4406-be57-0e254e8318bd",
   "metadata": {},
   "outputs": [],
   "source": []
  }
 ],
 "metadata": {
  "kernelspec": {
   "display_name": "Python 3 (ipykernel)",
   "language": "python",
   "name": "python3"
  },
  "language_info": {
   "codemirror_mode": {
    "name": "ipython",
    "version": 3
   },
   "file_extension": ".py",
   "mimetype": "text/x-python",
   "name": "python",
   "nbconvert_exporter": "python",
   "pygments_lexer": "ipython3",
   "version": "3.12.2"
  }
 },
 "nbformat": 4,
 "nbformat_minor": 5
}
