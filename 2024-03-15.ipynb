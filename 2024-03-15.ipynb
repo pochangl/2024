{
 "cells": [
  {
   "cell_type": "markdown",
   "id": "2fcdba72-fd32-4c22-b608-4c4566c1c0fc",
   "metadata": {},
   "source": [
    "# 作業"
   ]
  },
  {
   "cell_type": "markdown",
   "id": "d84a7e32-54a3-4dd8-8953-87b4c1980b65",
   "metadata": {},
   "source": [
    "## 1. a038. 數字翻轉\n",
    "https://zerojudge.tw/ShowProblem?problemid=a038"
   ]
  },
  {
   "cell_type": "code",
   "execution_count": null,
   "id": "de77b7c8-4203-4a4b-a36f-e4ac896c9b10",
   "metadata": {},
   "outputs": [],
   "source": [
    "'0'\n",
    "'01'"
   ]
  },
  {
   "cell_type": "code",
   "execution_count": 2,
   "id": "547ea96e-c1d6-46d3-8ca4-59480e2f36f8",
   "metadata": {
    "scrolled": true
   },
   "outputs": [
    {
     "ename": "ValueError",
     "evalue": "invalid literal for int() with base 10: ''",
     "output_type": "error",
     "traceback": [
      "\u001b[1;31m---------------------------------------------------------------------------\u001b[0m",
      "\u001b[1;31mValueError\u001b[0m                                Traceback (most recent call last)",
      "Cell \u001b[1;32mIn[2], line 2\u001b[0m\n\u001b[0;32m      1\u001b[0m \u001b[38;5;66;03m### ValueError\u001b[39;00m\n\u001b[1;32m----> 2\u001b[0m \u001b[38;5;28;43mint\u001b[39;49m\u001b[43m(\u001b[49m\u001b[38;5;124;43m'\u001b[39;49m\u001b[38;5;124;43m'\u001b[39;49m\u001b[43m)\u001b[49m\n",
      "\u001b[1;31mValueError\u001b[0m: invalid literal for int() with base 10: ''"
     ]
    }
   ],
   "source": [
    "### ValueError\n",
    "int('')"
   ]
  },
  {
   "cell_type": "code",
   "execution_count": 3,
   "id": "3ab32e02-052c-4d7c-bfad-35395ec8cc85",
   "metadata": {},
   "outputs": [
    {
     "data": {
      "text/plain": [
       "1"
      ]
     },
     "execution_count": 3,
     "metadata": {},
     "output_type": "execute_result"
    }
   ],
   "source": [
    "int('1')"
   ]
  },
  {
   "cell_type": "markdown",
   "id": "a33e6fbc-f4ab-49ce-b2fb-0541015eb52a",
   "metadata": {},
   "source": [
    "### 解法\n",
    "* for loop\n",
    "* slicing\n",
    "* reverse"
   ]
  },
  {
   "cell_type": "code",
   "execution_count": 23,
   "id": "4d78247d-b839-4b5b-a930-4c9eb79d7c42",
   "metadata": {},
   "outputs": [],
   "source": [
    "a = [1, 2, 3, 4, 5]"
   ]
  },
  {
   "cell_type": "code",
   "execution_count": 40,
   "id": "b9451e77-e444-4664-9615-6ad55236ab90",
   "metadata": {},
   "outputs": [
    {
     "data": {
      "text/plain": [
       "[1, 2, 3, 4, 5]"
      ]
     },
     "execution_count": 40,
     "metadata": {},
     "output_type": "execute_result"
    }
   ],
   "source": [
    "# 作法 1 for loop\n",
    "tmp = a[0]\n",
    "a[0] = a[-1]\n",
    "a[-1] = tmp\n",
    "\n",
    "tmp = a[1]\n",
    "a[1] = a[-2]\n",
    "a[-2] = tmp\n",
    "\n",
    "a"
   ]
  },
  {
   "cell_type": "code",
   "execution_count": 25,
   "id": "9c0f45ee-e578-4ca4-a6f3-086f8b30a654",
   "metadata": {},
   "outputs": [],
   "source": [
    "# 作法 2"
   ]
  },
  {
   "cell_type": "code",
   "execution_count": 29,
   "id": "775abb2e-1a21-4411-aabf-09ab42b344b8",
   "metadata": {},
   "outputs": [
    {
     "data": {
      "text/plain": [
       "[1, 2, 3, 4, 5]"
      ]
     },
     "execution_count": 29,
     "metadata": {},
     "output_type": "execute_result"
    }
   ],
   "source": [
    "a = [1, 2, 3, 4, 5]\n",
    "a"
   ]
  },
  {
   "cell_type": "code",
   "execution_count": 37,
   "id": "da9c30be-c544-4b71-a58d-474f142f9086",
   "metadata": {},
   "outputs": [
    {
     "data": {
      "text/plain": [
       "[5, 4, 3, 2, 1]"
      ]
     },
     "execution_count": 37,
     "metadata": {},
     "output_type": "execute_result"
    }
   ],
   "source": [
    "# 作法2 slicing\n",
    "a[::-1]"
   ]
  },
  {
   "cell_type": "code",
   "execution_count": 38,
   "id": "3b00c2be-855b-49e9-8a15-908563f79265",
   "metadata": {},
   "outputs": [
    {
     "data": {
      "text/plain": [
       "[1, 2, 3, 4, 5]"
      ]
     },
     "execution_count": 38,
     "metadata": {},
     "output_type": "execute_result"
    }
   ],
   "source": [
    "a = [1, 2, 3, 4, 5]\n",
    "a"
   ]
  },
  {
   "cell_type": "code",
   "execution_count": 39,
   "id": "5e8eacc1-8eb0-4ac0-8640-c5cc7bc08969",
   "metadata": {},
   "outputs": [],
   "source": [
    "# 作法 3\n",
    "a.reverse()"
   ]
  },
  {
   "cell_type": "code",
   "execution_count": 35,
   "id": "8751af27-a7ac-4564-bd73-c16730433bed",
   "metadata": {},
   "outputs": [
    {
     "data": {
      "text/plain": [
       "[5, 4, 3, 2, 1]"
      ]
     },
     "execution_count": 35,
     "metadata": {},
     "output_type": "execute_result"
    }
   ],
   "source": [
    "a"
   ]
  },
  {
   "cell_type": "code",
   "execution_count": null,
   "id": "0efaf77a-e927-4221-b078-8a164d94c7c2",
   "metadata": {},
   "outputs": [],
   "source": []
  },
  {
   "cell_type": "markdown",
   "id": "e5f0e016-683c-40da-a65c-3663788e1386",
   "metadata": {},
   "source": [
    "## 2. k860. 重複數字\n",
    "https://zerojudge.tw/ShowProblem?problemid=k860"
   ]
  },
  {
   "cell_type": "markdown",
   "id": "2004214b-bbd0-4777-93bc-f0e6d8debb97",
   "metadata": {},
   "source": [
    "### 使用 count 的問題"
   ]
  },
  {
   "cell_type": "code",
   "execution_count": 45,
   "id": "cf3717c7-86f0-4af1-8062-df3c2c25c846",
   "metadata": {},
   "outputs": [],
   "source": [
    "a = [1, 1, 2]"
   ]
  },
  {
   "cell_type": "code",
   "execution_count": 46,
   "id": "20a7ed21-fb9c-4fea-b0b4-abd59e633028",
   "metadata": {},
   "outputs": [
    {
     "ename": "TypeError",
     "evalue": "list.count() takes exactly one argument (3 given)",
     "output_type": "error",
     "traceback": [
      "\u001b[1;31m---------------------------------------------------------------------------\u001b[0m",
      "\u001b[1;31mTypeError\u001b[0m                                 Traceback (most recent call last)",
      "Cell \u001b[1;32mIn[46], line 1\u001b[0m\n\u001b[1;32m----> 1\u001b[0m \u001b[43ma\u001b[49m\u001b[38;5;241;43m.\u001b[39;49m\u001b[43mcount\u001b[49m\u001b[43m(\u001b[49m\u001b[38;5;241;43m1\u001b[39;49m\u001b[43m,\u001b[49m\u001b[43m \u001b[49m\u001b[38;5;241;43m0\u001b[39;49m\u001b[43m,\u001b[49m\u001b[43m \u001b[49m\u001b[38;5;241;43m1\u001b[39;49m\u001b[43m)\u001b[49m\n",
      "\u001b[1;31mTypeError\u001b[0m: list.count() takes exactly one argument (3 given)"
     ]
    }
   ],
   "source": [
    "a.count(1, 0, 1)"
   ]
  },
  {
   "cell_type": "markdown",
   "id": "53be6706-1e2c-42bf-afe4-03d3e2371be6",
   "metadata": {},
   "source": [
    "上面的錯誤訊息是指函式只有一個參數, 但程式碼給了三個參數\n",
    "下面舉個例"
   ]
  },
  {
   "cell_type": "code",
   "execution_count": 65,
   "id": "571acc6b-6f75-475f-90de-0afbf9bc00ff",
   "metadata": {},
   "outputs": [],
   "source": [
    "def c(a):\n",
    "    # c 需要1個參數\n",
    "    print(a)"
   ]
  },
  {
   "cell_type": "code",
   "execution_count": 53,
   "id": "31384982-ca48-45c3-852b-c75413a01a95",
   "metadata": {},
   "outputs": [
    {
     "name": "stdout",
     "output_type": "stream",
     "text": [
      "1\n"
     ]
    }
   ],
   "source": [
    "c(1)"
   ]
  },
  {
   "cell_type": "code",
   "execution_count": 54,
   "id": "66a193bd-4a55-4a23-a629-9992cd6c2e56",
   "metadata": {
    "scrolled": true
   },
   "outputs": [
    {
     "ename": "TypeError",
     "evalue": "c() takes 1 positional argument but 2 were given",
     "output_type": "error",
     "traceback": [
      "\u001b[1;31m---------------------------------------------------------------------------\u001b[0m",
      "\u001b[1;31mTypeError\u001b[0m                                 Traceback (most recent call last)",
      "Cell \u001b[1;32mIn[54], line 1\u001b[0m\n\u001b[1;32m----> 1\u001b[0m \u001b[43mc\u001b[49m\u001b[43m(\u001b[49m\u001b[38;5;241;43m1\u001b[39;49m\u001b[43m,\u001b[49m\u001b[43m \u001b[49m\u001b[38;5;241;43m2\u001b[39;49m\u001b[43m)\u001b[49m\n",
      "\u001b[1;31mTypeError\u001b[0m: c() takes 1 positional argument but 2 were given"
     ]
    }
   ],
   "source": [
    "c(1, 2)"
   ]
  },
  {
   "cell_type": "markdown",
   "id": "d83d4611-b8ab-41e9-98da-5117294529df",
   "metadata": {},
   "source": [
    "# count 的用法"
   ]
  },
  {
   "cell_type": "code",
   "execution_count": 60,
   "id": "1e42f79e-543e-4941-924b-54fd0f96f6a9",
   "metadata": {},
   "outputs": [
    {
     "data": {
      "text/plain": [
       "2"
      ]
     },
     "execution_count": 60,
     "metadata": {},
     "output_type": "execute_result"
    }
   ],
   "source": [
    "a.count(1)"
   ]
  },
  {
   "cell_type": "code",
   "execution_count": 61,
   "id": "2136abcf-edd8-47f3-a86b-dc91021b80c8",
   "metadata": {},
   "outputs": [
    {
     "data": {
      "text/plain": [
       "True"
      ]
     },
     "execution_count": 61,
     "metadata": {},
     "output_type": "execute_result"
    }
   ],
   "source": [
    "a.count(1) == 2"
   ]
  },
  {
   "cell_type": "code",
   "execution_count": 63,
   "id": "00c30ffc-46e0-4dda-ab85-253f257a52f1",
   "metadata": {},
   "outputs": [
    {
     "data": {
      "text/plain": [
       "False"
      ]
     },
     "execution_count": 63,
     "metadata": {},
     "output_type": "execute_result"
    }
   ],
   "source": [
    "a.count(1) == 1"
   ]
  },
  {
   "cell_type": "code",
   "execution_count": 64,
   "id": "f8a02142-cb2e-4d6a-9a43-17db25a065fa",
   "metadata": {},
   "outputs": [
    {
     "name": "stdout",
     "output_type": "stream",
     "text": [
      "1 有 2 個\n"
     ]
    }
   ],
   "source": [
    "if a.count(1) == 2:\n",
    "    print('1 有 2 個')"
   ]
  },
  {
   "cell_type": "code",
   "execution_count": 69,
   "id": "de472018-573e-4220-a41a-3146b54b9089",
   "metadata": {},
   "outputs": [
    {
     "name": "stdout",
     "output_type": "stream",
     "text": [
      "1\n",
      "2\n"
     ]
    }
   ],
   "source": [
    "a = [ 1, 1, 2]\n",
    "\n",
    "for i in set(a):\n",
    "    print(i)"
   ]
  },
  {
   "cell_type": "code",
   "execution_count": 70,
   "id": "1c4cb1ca-8d9f-4bcb-b8bf-da1a4482c920",
   "metadata": {},
   "outputs": [
    {
     "data": {
      "text/plain": [
       "{1, 2}"
      ]
     },
     "execution_count": 70,
     "metadata": {},
     "output_type": "execute_result"
    }
   ],
   "source": [
    "set(a)"
   ]
  },
  {
   "cell_type": "markdown",
   "id": "51791cc0-4fe2-4ba1-aacf-f6726509dd9b",
   "metadata": {},
   "source": [
    "## 3. k861. 驗證費氏數列\n",
    "https://zerojudge.tw/ShowProblem?problemid=k861"
   ]
  },
  {
   "cell_type": "markdown",
   "id": "ee5a02ca-4bda-439c-a74e-794239ef227d",
   "metadata": {},
   "source": [
    "0 1 1 2 3 5 (3 + 5)"
   ]
  },
  {
   "cell_type": "code",
   "execution_count": 88,
   "id": "e2c2338c-681c-4c78-98ee-c830d8ce2e7c",
   "metadata": {},
   "outputs": [],
   "source": [
    "nums = [0, 1, 1, 3, 4]"
   ]
  },
  {
   "cell_type": "code",
   "execution_count": 89,
   "id": "2c149363-88d5-4540-811e-daf77828e7db",
   "metadata": {},
   "outputs": [
    {
     "data": {
      "text/plain": [
       "True"
      ]
     },
     "execution_count": 89,
     "metadata": {},
     "output_type": "execute_result"
    }
   ],
   "source": [
    "nums[0] == 0"
   ]
  },
  {
   "cell_type": "code",
   "execution_count": 90,
   "id": "d608872a-e562-45b9-bb7c-809c1a4aa776",
   "metadata": {
    "scrolled": true
   },
   "outputs": [
    {
     "data": {
      "text/plain": [
       "True"
      ]
     },
     "execution_count": 90,
     "metadata": {},
     "output_type": "execute_result"
    }
   ],
   "source": [
    "nums[1] == 1"
   ]
  },
  {
   "cell_type": "code",
   "execution_count": 91,
   "id": "474f6670-7495-4b45-9bea-7b99bcab03ec",
   "metadata": {},
   "outputs": [
    {
     "data": {
      "text/plain": [
       "True"
      ]
     },
     "execution_count": 91,
     "metadata": {},
     "output_type": "execute_result"
    }
   ],
   "source": [
    "nums[2] == nums[0] + nums[1]"
   ]
  },
  {
   "cell_type": "code",
   "execution_count": 92,
   "id": "211f1ef3-53cb-4381-91ea-a4675e60d87e",
   "metadata": {},
   "outputs": [
    {
     "data": {
      "text/plain": [
       "False"
      ]
     },
     "execution_count": 92,
     "metadata": {},
     "output_type": "execute_result"
    }
   ],
   "source": [
    "nums[3] == nums[1] + nums[2]"
   ]
  },
  {
   "cell_type": "code",
   "execution_count": 94,
   "id": "56c4d7b8-3930-4758-85da-1b5fee3e4c51",
   "metadata": {},
   "outputs": [
    {
     "data": {
      "text/plain": [
       "True"
      ]
     },
     "execution_count": 94,
     "metadata": {},
     "output_type": "execute_result"
    }
   ],
   "source": [
    "nums[4] == nums[2] + nums[3]"
   ]
  },
  {
   "cell_type": "markdown",
   "id": "8f0757df-33e9-4c61-8602-67d03b3925f5",
   "metadata": {},
   "source": [
    "費式數列的第3項開始的規則\n",
    "```python \n",
    "for n in ....:\n",
    "   nums[n] = nums[n - 1] + nums[n-2]\n",
    "```\n",
    "n 是從 2 到長度 - 1"
   ]
  },
  {
   "cell_type": "code",
   "execution_count": 96,
   "id": "a19e92a4-bd47-447b-9321-682a0a760b01",
   "metadata": {},
   "outputs": [
    {
     "data": {
      "text/plain": [
       "5"
      ]
     },
     "execution_count": 96,
     "metadata": {},
     "output_type": "execute_result"
    }
   ],
   "source": [
    "len(nums)"
   ]
  },
  {
   "cell_type": "code",
   "execution_count": 97,
   "id": "2e44b920-9ca6-4d17-959e-5e9503917378",
   "metadata": {},
   "outputs": [
    {
     "data": {
      "text/plain": [
       "4"
      ]
     },
     "execution_count": 97,
     "metadata": {},
     "output_type": "execute_result"
    }
   ],
   "source": [
    "nums[4]"
   ]
  },
  {
   "cell_type": "code",
   "execution_count": 98,
   "id": "4c0602e1-97b5-4d9a-b0e4-2a439a723ceb",
   "metadata": {},
   "outputs": [
    {
     "ename": "IndexError",
     "evalue": "list index out of range",
     "output_type": "error",
     "traceback": [
      "\u001b[1;31m---------------------------------------------------------------------------\u001b[0m",
      "\u001b[1;31mIndexError\u001b[0m                                Traceback (most recent call last)",
      "Cell \u001b[1;32mIn[98], line 1\u001b[0m\n\u001b[1;32m----> 1\u001b[0m \u001b[43mnums\u001b[49m\u001b[43m[\u001b[49m\u001b[38;5;241;43m5\u001b[39;49m\u001b[43m]\u001b[49m\n",
      "\u001b[1;31mIndexError\u001b[0m: list index out of range"
     ]
    }
   ],
   "source": [
    "nums[5]"
   ]
  },
  {
   "cell_type": "code",
   "execution_count": 99,
   "id": "74f7f1c1-faf7-4d3b-9145-d32d3c0a281a",
   "metadata": {},
   "outputs": [
    {
     "data": {
      "text/plain": [
       "[2, 3, 4]"
      ]
     },
     "execution_count": 99,
     "metadata": {},
     "output_type": "execute_result"
    }
   ],
   "source": [
    "list(range(2, 5))"
   ]
  },
  {
   "cell_type": "markdown",
   "id": "1ccac4ca-c1d0-477b-b2d6-f9efe314f626",
   "metadata": {},
   "source": [
    "```python \n",
    "for n in range(2, 5):\n",
    "    .....\n",
    "```"
   ]
  },
  {
   "cell_type": "markdown",
   "id": "0c8c401a-73f1-42b4-8119-a3dcf9ae08e7",
   "metadata": {},
   "source": [
    "# 上次上課的內容"
   ]
  },
  {
   "cell_type": "markdown",
   "id": "0198ff10-edd3-4d99-81d3-8205e14ce1a2",
   "metadata": {},
   "source": [
    "* numpy\n",
    "* pandas"
   ]
  },
  {
   "cell_type": "code",
   "execution_count": 101,
   "id": "c2dd550b-76ef-49da-9f07-5484a0a84829",
   "metadata": {},
   "outputs": [],
   "source": [
    "import pandas"
   ]
  },
  {
   "cell_type": "markdown",
   "id": "da377431-62fd-4284-b691-2189f5f7af90",
   "metadata": {},
   "source": [
    "## CSV\n",
    "comma-separated values\n",
    "\n",
    "像 ｅｘｃｅｌ　每一行用換行隔開\n",
    "\n",
    "每一欄用 , 隔開"
   ]
  },
  {
   "cell_type": "markdown",
   "id": "0693d478-7553-40e4-b2ac-baaf2d111fe0",
   "metadata": {},
   "source": [
    "### Pandas 讀入 CSV"
   ]
  },
  {
   "cell_type": "code",
   "execution_count": 135,
   "id": "3cb28436-465e-47ea-bf2c-d772c43bf82a",
   "metadata": {},
   "outputs": [],
   "source": [
    "df = pandas.read_csv('addresses.csv',)"
   ]
  },
  {
   "cell_type": "code",
   "execution_count": 104,
   "id": "b0270140-f448-4375-bf8c-456f4028d10c",
   "metadata": {},
   "outputs": [
    {
     "data": {
      "text/html": [
       "<div>\n",
       "<style scoped>\n",
       "    .dataframe tbody tr th:only-of-type {\n",
       "        vertical-align: middle;\n",
       "    }\n",
       "\n",
       "    .dataframe tbody tr th {\n",
       "        vertical-align: top;\n",
       "    }\n",
       "\n",
       "    .dataframe thead th {\n",
       "        text-align: right;\n",
       "    }\n",
       "</style>\n",
       "<table border=\"1\" class=\"dataframe\">\n",
       "  <thead>\n",
       "    <tr style=\"text-align: right;\">\n",
       "      <th></th>\n",
       "      <th>John</th>\n",
       "      <th>Doe</th>\n",
       "      <th>120 jefferson st.</th>\n",
       "      <th>Riverside</th>\n",
       "      <th>NJ</th>\n",
       "      <th>08075</th>\n",
       "    </tr>\n",
       "  </thead>\n",
       "  <tbody>\n",
       "    <tr>\n",
       "      <th>0</th>\n",
       "      <td>Jack</td>\n",
       "      <td>McGinnis</td>\n",
       "      <td>220 hobo Av.</td>\n",
       "      <td>Phila</td>\n",
       "      <td>PA</td>\n",
       "      <td>9119</td>\n",
       "    </tr>\n",
       "    <tr>\n",
       "      <th>1</th>\n",
       "      <td>John \"Da Man\"</td>\n",
       "      <td>Repici</td>\n",
       "      <td>120 Jefferson St.</td>\n",
       "      <td>Riverside</td>\n",
       "      <td>NJ</td>\n",
       "      <td>8075</td>\n",
       "    </tr>\n",
       "    <tr>\n",
       "      <th>2</th>\n",
       "      <td>Stephen</td>\n",
       "      <td>Tyler</td>\n",
       "      <td>7452 Terrace \"At the Plaza\" road</td>\n",
       "      <td>SomeTown</td>\n",
       "      <td>SD</td>\n",
       "      <td>91234</td>\n",
       "    </tr>\n",
       "    <tr>\n",
       "      <th>3</th>\n",
       "      <td>NaN</td>\n",
       "      <td>Blankman</td>\n",
       "      <td>NaN</td>\n",
       "      <td>SomeTown</td>\n",
       "      <td>SD</td>\n",
       "      <td>298</td>\n",
       "    </tr>\n",
       "    <tr>\n",
       "      <th>4</th>\n",
       "      <td>Joan \"the bone\", Anne</td>\n",
       "      <td>Jet</td>\n",
       "      <td>9th, at Terrace plc</td>\n",
       "      <td>Desert City</td>\n",
       "      <td>CO</td>\n",
       "      <td>123</td>\n",
       "    </tr>\n",
       "  </tbody>\n",
       "</table>\n",
       "</div>"
      ],
      "text/plain": [
       "                    John       Doe                 120 jefferson st.  \\\n",
       "0                   Jack  McGinnis                      220 hobo Av.   \n",
       "1          John \"Da Man\"    Repici                 120 Jefferson St.   \n",
       "2                Stephen     Tyler  7452 Terrace \"At the Plaza\" road   \n",
       "3                    NaN  Blankman                               NaN   \n",
       "4  Joan \"the bone\", Anne       Jet               9th, at Terrace plc   \n",
       "\n",
       "     Riverside   NJ   08075  \n",
       "0        Phila   PA    9119  \n",
       "1    Riverside   NJ    8075  \n",
       "2     SomeTown   SD   91234  \n",
       "3     SomeTown   SD     298  \n",
       "4  Desert City   CO     123  "
      ]
     },
     "execution_count": 104,
     "metadata": {},
     "output_type": "execute_result"
    }
   ],
   "source": [
    "df"
   ]
  },
  {
   "cell_type": "code",
   "execution_count": 112,
   "id": "f11b2bde-1362-474b-b231-f05e3995646c",
   "metadata": {},
   "outputs": [
    {
     "data": {
      "text/html": [
       "<div>\n",
       "<style scoped>\n",
       "    .dataframe tbody tr th:only-of-type {\n",
       "        vertical-align: middle;\n",
       "    }\n",
       "\n",
       "    .dataframe tbody tr th {\n",
       "        vertical-align: top;\n",
       "    }\n",
       "\n",
       "    .dataframe thead th {\n",
       "        text-align: right;\n",
       "    }\n",
       "</style>\n",
       "<table border=\"1\" class=\"dataframe\">\n",
       "  <thead>\n",
       "    <tr style=\"text-align: right;\">\n",
       "      <th></th>\n",
       "      <th>0</th>\n",
       "      <th>1</th>\n",
       "      <th>2</th>\n",
       "      <th>3</th>\n",
       "      <th>4</th>\n",
       "      <th>5</th>\n",
       "    </tr>\n",
       "  </thead>\n",
       "  <tbody>\n",
       "    <tr>\n",
       "      <th>0</th>\n",
       "      <td>John</td>\n",
       "      <td>Doe</td>\n",
       "      <td>120 jefferson st.</td>\n",
       "      <td>Riverside</td>\n",
       "      <td>NJ</td>\n",
       "      <td>8075</td>\n",
       "    </tr>\n",
       "    <tr>\n",
       "      <th>1</th>\n",
       "      <td>Jack</td>\n",
       "      <td>McGinnis</td>\n",
       "      <td>220 hobo Av.</td>\n",
       "      <td>Phila</td>\n",
       "      <td>PA</td>\n",
       "      <td>9119</td>\n",
       "    </tr>\n",
       "    <tr>\n",
       "      <th>2</th>\n",
       "      <td>John \"Da Man\"</td>\n",
       "      <td>Repici</td>\n",
       "      <td>120 Jefferson St.</td>\n",
       "      <td>Riverside</td>\n",
       "      <td>NJ</td>\n",
       "      <td>8075</td>\n",
       "    </tr>\n",
       "    <tr>\n",
       "      <th>3</th>\n",
       "      <td>Stephen</td>\n",
       "      <td>Tyler</td>\n",
       "      <td>7452 Terrace \"At the Plaza\" road</td>\n",
       "      <td>SomeTown</td>\n",
       "      <td>SD</td>\n",
       "      <td>91234</td>\n",
       "    </tr>\n",
       "    <tr>\n",
       "      <th>4</th>\n",
       "      <td>NaN</td>\n",
       "      <td>Blankman</td>\n",
       "      <td>NaN</td>\n",
       "      <td>SomeTown</td>\n",
       "      <td>SD</td>\n",
       "      <td>298</td>\n",
       "    </tr>\n",
       "    <tr>\n",
       "      <th>5</th>\n",
       "      <td>Joan \"the bone\", Anne</td>\n",
       "      <td>Jet</td>\n",
       "      <td>9th, at Terrace plc</td>\n",
       "      <td>Desert City</td>\n",
       "      <td>CO</td>\n",
       "      <td>123</td>\n",
       "    </tr>\n",
       "  </tbody>\n",
       "</table>\n",
       "</div>"
      ],
      "text/plain": [
       "                       0         1                                 2  \\\n",
       "0                   John       Doe                 120 jefferson st.   \n",
       "1                   Jack  McGinnis                      220 hobo Av.   \n",
       "2          John \"Da Man\"    Repici                 120 Jefferson St.   \n",
       "3                Stephen     Tyler  7452 Terrace \"At the Plaza\" road   \n",
       "4                    NaN  Blankman                               NaN   \n",
       "5  Joan \"the bone\", Anne       Jet               9th, at Terrace plc   \n",
       "\n",
       "             3    4      5  \n",
       "0    Riverside   NJ   8075  \n",
       "1        Phila   PA   9119  \n",
       "2    Riverside   NJ   8075  \n",
       "3     SomeTown   SD  91234  \n",
       "4     SomeTown   SD    298  \n",
       "5  Desert City   CO    123  "
      ]
     },
     "execution_count": 112,
     "metadata": {},
     "output_type": "execute_result"
    }
   ],
   "source": [
    "df = pandas.read_csv('addresses.csv', header=None)\n",
    "df"
   ]
  },
  {
   "cell_type": "markdown",
   "id": "767b673c-a87d-47f6-b5c2-5e0283ecafc9",
   "metadata": {},
   "source": [
    "### pandas 複寫 column 名稱"
   ]
  },
  {
   "cell_type": "code",
   "execution_count": 117,
   "id": "c145e4e2-e39e-461b-9425-363823b0c7d1",
   "metadata": {},
   "outputs": [],
   "source": [
    "df.columns = ['first name', 'last name','address', 'city', 'state', 'zipcode']"
   ]
  },
  {
   "cell_type": "code",
   "execution_count": 118,
   "id": "34bbd787-809a-4bba-9430-3abce65dcb80",
   "metadata": {},
   "outputs": [
    {
     "data": {
      "text/html": [
       "<div>\n",
       "<style scoped>\n",
       "    .dataframe tbody tr th:only-of-type {\n",
       "        vertical-align: middle;\n",
       "    }\n",
       "\n",
       "    .dataframe tbody tr th {\n",
       "        vertical-align: top;\n",
       "    }\n",
       "\n",
       "    .dataframe thead th {\n",
       "        text-align: right;\n",
       "    }\n",
       "</style>\n",
       "<table border=\"1\" class=\"dataframe\">\n",
       "  <thead>\n",
       "    <tr style=\"text-align: right;\">\n",
       "      <th></th>\n",
       "      <th>first name</th>\n",
       "      <th>last name</th>\n",
       "      <th>address</th>\n",
       "      <th>city</th>\n",
       "      <th>state</th>\n",
       "      <th>zipcode</th>\n",
       "    </tr>\n",
       "  </thead>\n",
       "  <tbody>\n",
       "    <tr>\n",
       "      <th>0</th>\n",
       "      <td>John</td>\n",
       "      <td>Doe</td>\n",
       "      <td>120 jefferson st.</td>\n",
       "      <td>Riverside</td>\n",
       "      <td>NJ</td>\n",
       "      <td>8075</td>\n",
       "    </tr>\n",
       "    <tr>\n",
       "      <th>1</th>\n",
       "      <td>Jack</td>\n",
       "      <td>McGinnis</td>\n",
       "      <td>220 hobo Av.</td>\n",
       "      <td>Phila</td>\n",
       "      <td>PA</td>\n",
       "      <td>9119</td>\n",
       "    </tr>\n",
       "    <tr>\n",
       "      <th>2</th>\n",
       "      <td>John \"Da Man\"</td>\n",
       "      <td>Repici</td>\n",
       "      <td>120 Jefferson St.</td>\n",
       "      <td>Riverside</td>\n",
       "      <td>NJ</td>\n",
       "      <td>8075</td>\n",
       "    </tr>\n",
       "    <tr>\n",
       "      <th>3</th>\n",
       "      <td>Stephen</td>\n",
       "      <td>Tyler</td>\n",
       "      <td>7452 Terrace \"At the Plaza\" road</td>\n",
       "      <td>SomeTown</td>\n",
       "      <td>SD</td>\n",
       "      <td>91234</td>\n",
       "    </tr>\n",
       "    <tr>\n",
       "      <th>4</th>\n",
       "      <td>NaN</td>\n",
       "      <td>Blankman</td>\n",
       "      <td>NaN</td>\n",
       "      <td>SomeTown</td>\n",
       "      <td>SD</td>\n",
       "      <td>298</td>\n",
       "    </tr>\n",
       "    <tr>\n",
       "      <th>5</th>\n",
       "      <td>Joan \"the bone\", Anne</td>\n",
       "      <td>Jet</td>\n",
       "      <td>9th, at Terrace plc</td>\n",
       "      <td>Desert City</td>\n",
       "      <td>CO</td>\n",
       "      <td>123</td>\n",
       "    </tr>\n",
       "  </tbody>\n",
       "</table>\n",
       "</div>"
      ],
      "text/plain": [
       "              first name last name                           address  \\\n",
       "0                   John       Doe                 120 jefferson st.   \n",
       "1                   Jack  McGinnis                      220 hobo Av.   \n",
       "2          John \"Da Man\"    Repici                 120 Jefferson St.   \n",
       "3                Stephen     Tyler  7452 Terrace \"At the Plaza\" road   \n",
       "4                    NaN  Blankman                               NaN   \n",
       "5  Joan \"the bone\", Anne       Jet               9th, at Terrace plc   \n",
       "\n",
       "          city state  zipcode  \n",
       "0    Riverside    NJ     8075  \n",
       "1        Phila    PA     9119  \n",
       "2    Riverside    NJ     8075  \n",
       "3     SomeTown    SD    91234  \n",
       "4     SomeTown    SD      298  \n",
       "5  Desert City    CO      123  "
      ]
     },
     "execution_count": 118,
     "metadata": {},
     "output_type": "execute_result"
    }
   ],
   "source": [
    "df"
   ]
  },
  {
   "cell_type": "markdown",
   "id": "924c4a33-88ae-4b72-a183-3474cb4a39b0",
   "metadata": {},
   "source": [
    "###　Dataframe 取得某一欄位"
   ]
  },
  {
   "cell_type": "code",
   "execution_count": 119,
   "id": "7bfa6584-dba5-4f67-b08d-0d1f13444fc1",
   "metadata": {},
   "outputs": [
    {
     "data": {
      "text/plain": [
       "0                     John\n",
       "1                     Jack\n",
       "2            John \"Da Man\"\n",
       "3                  Stephen\n",
       "4                      NaN\n",
       "5    Joan \"the bone\", Anne\n",
       "Name: first name, dtype: object"
      ]
     },
     "execution_count": 119,
     "metadata": {},
     "output_type": "execute_result"
    }
   ],
   "source": [
    "df['first name']"
   ]
  },
  {
   "cell_type": "code",
   "execution_count": 120,
   "id": "a10d553b-e492-436d-a8eb-42543cb4083a",
   "metadata": {},
   "outputs": [
    {
     "data": {
      "text/plain": [
       "0     NJ\n",
       "1     PA\n",
       "2     NJ\n",
       "3     SD\n",
       "4     SD\n",
       "5     CO\n",
       "Name: state, dtype: object"
      ]
     },
     "execution_count": 120,
     "metadata": {},
     "output_type": "execute_result"
    }
   ],
   "source": [
    "df['state']"
   ]
  },
  {
   "cell_type": "code",
   "execution_count": 121,
   "id": "dfb9dacd-24ce-4f22-83b5-8ce6c1e59f72",
   "metadata": {},
   "outputs": [
    {
     "data": {
      "text/plain": [
       "0      Riverside\n",
       "1          Phila\n",
       "2      Riverside\n",
       "3       SomeTown\n",
       "4       SomeTown\n",
       "5    Desert City\n",
       "Name: city, dtype: object"
      ]
     },
     "execution_count": 121,
     "metadata": {},
     "output_type": "execute_result"
    }
   ],
   "source": [
    "df['city']"
   ]
  },
  {
   "cell_type": "markdown",
   "id": "8e131197-361f-4481-82cc-d09850033f43",
   "metadata": {},
   "source": [
    "### pandas Search\n",
    "找出 city 等於 Riverside 的資料"
   ]
  },
  {
   "cell_type": "code",
   "execution_count": 122,
   "id": "b377f6ab-1f47-4e81-b6ee-36e27cce38c2",
   "metadata": {},
   "outputs": [
    {
     "data": {
      "text/html": [
       "<div>\n",
       "<style scoped>\n",
       "    .dataframe tbody tr th:only-of-type {\n",
       "        vertical-align: middle;\n",
       "    }\n",
       "\n",
       "    .dataframe tbody tr th {\n",
       "        vertical-align: top;\n",
       "    }\n",
       "\n",
       "    .dataframe thead th {\n",
       "        text-align: right;\n",
       "    }\n",
       "</style>\n",
       "<table border=\"1\" class=\"dataframe\">\n",
       "  <thead>\n",
       "    <tr style=\"text-align: right;\">\n",
       "      <th></th>\n",
       "      <th>first name</th>\n",
       "      <th>last name</th>\n",
       "      <th>address</th>\n",
       "      <th>city</th>\n",
       "      <th>state</th>\n",
       "      <th>zipcode</th>\n",
       "    </tr>\n",
       "  </thead>\n",
       "  <tbody>\n",
       "    <tr>\n",
       "      <th>0</th>\n",
       "      <td>John</td>\n",
       "      <td>Doe</td>\n",
       "      <td>120 jefferson st.</td>\n",
       "      <td>Riverside</td>\n",
       "      <td>NJ</td>\n",
       "      <td>8075</td>\n",
       "    </tr>\n",
       "    <tr>\n",
       "      <th>2</th>\n",
       "      <td>John \"Da Man\"</td>\n",
       "      <td>Repici</td>\n",
       "      <td>120 Jefferson St.</td>\n",
       "      <td>Riverside</td>\n",
       "      <td>NJ</td>\n",
       "      <td>8075</td>\n",
       "    </tr>\n",
       "  </tbody>\n",
       "</table>\n",
       "</div>"
      ],
      "text/plain": [
       "      first name last name            address       city state  zipcode\n",
       "0           John       Doe  120 jefferson st.  Riverside    NJ     8075\n",
       "2  John \"Da Man\"    Repici  120 Jefferson St.  Riverside    NJ     8075"
      ]
     },
     "execution_count": 122,
     "metadata": {},
     "output_type": "execute_result"
    }
   ],
   "source": [
    "df[df['city'] == 'Riverside']"
   ]
  },
  {
   "cell_type": "code",
   "execution_count": 123,
   "id": "96ee784d-b2fa-4172-ae3a-31a553b78ce4",
   "metadata": {},
   "outputs": [
    {
     "data": {
      "text/plain": [
       "0     True\n",
       "1    False\n",
       "2     True\n",
       "3    False\n",
       "4    False\n",
       "5    False\n",
       "Name: city, dtype: bool"
      ]
     },
     "execution_count": 123,
     "metadata": {},
     "output_type": "execute_result"
    }
   ],
   "source": [
    "df['city'] == 'Riverside'"
   ]
  },
  {
   "cell_type": "code",
   "execution_count": 125,
   "id": "cf4385c0-6d23-4b9e-8bbf-dec74212a355",
   "metadata": {},
   "outputs": [
    {
     "data": {
      "text/html": [
       "<div>\n",
       "<style scoped>\n",
       "    .dataframe tbody tr th:only-of-type {\n",
       "        vertical-align: middle;\n",
       "    }\n",
       "\n",
       "    .dataframe tbody tr th {\n",
       "        vertical-align: top;\n",
       "    }\n",
       "\n",
       "    .dataframe thead th {\n",
       "        text-align: right;\n",
       "    }\n",
       "</style>\n",
       "<table border=\"1\" class=\"dataframe\">\n",
       "  <thead>\n",
       "    <tr style=\"text-align: right;\">\n",
       "      <th></th>\n",
       "      <th>first name</th>\n",
       "      <th>last name</th>\n",
       "      <th>address</th>\n",
       "      <th>city</th>\n",
       "      <th>state</th>\n",
       "      <th>zipcode</th>\n",
       "    </tr>\n",
       "  </thead>\n",
       "  <tbody>\n",
       "    <tr>\n",
       "      <th>0</th>\n",
       "      <td>John</td>\n",
       "      <td>Doe</td>\n",
       "      <td>120 jefferson st.</td>\n",
       "      <td>Riverside</td>\n",
       "      <td>NJ</td>\n",
       "      <td>8075</td>\n",
       "    </tr>\n",
       "    <tr>\n",
       "      <th>2</th>\n",
       "      <td>John \"Da Man\"</td>\n",
       "      <td>Repici</td>\n",
       "      <td>120 Jefferson St.</td>\n",
       "      <td>Riverside</td>\n",
       "      <td>NJ</td>\n",
       "      <td>8075</td>\n",
       "    </tr>\n",
       "  </tbody>\n",
       "</table>\n",
       "</div>"
      ],
      "text/plain": [
       "      first name last name            address       city state  zipcode\n",
       "0           John       Doe  120 jefferson st.  Riverside    NJ     8075\n",
       "2  John \"Da Man\"    Repici  120 Jefferson St.  Riverside    NJ     8075"
      ]
     },
     "execution_count": 125,
     "metadata": {},
     "output_type": "execute_result"
    }
   ],
   "source": [
    "search_result = df[df['city'] == 'Riverside']\n",
    "search_result"
   ]
  },
  {
   "cell_type": "code",
   "execution_count": 132,
   "id": "4587d29b-ddbe-4fe5-ade4-bf80ca268983",
   "metadata": {},
   "outputs": [],
   "source": [
    "### 新增欄位"
   ]
  },
  {
   "cell_type": "code",
   "execution_count": 129,
   "id": "b5598f9f-1787-48ce-bb7e-3ab9d1d782cc",
   "metadata": {},
   "outputs": [],
   "source": [
    "df['age'] = 0"
   ]
  },
  {
   "cell_type": "code",
   "execution_count": 130,
   "id": "7d5ab254-1bc0-4ed6-9066-a542fb83d83e",
   "metadata": {
    "scrolled": true
   },
   "outputs": [
    {
     "data": {
      "text/html": [
       "<div>\n",
       "<style scoped>\n",
       "    .dataframe tbody tr th:only-of-type {\n",
       "        vertical-align: middle;\n",
       "    }\n",
       "\n",
       "    .dataframe tbody tr th {\n",
       "        vertical-align: top;\n",
       "    }\n",
       "\n",
       "    .dataframe thead th {\n",
       "        text-align: right;\n",
       "    }\n",
       "</style>\n",
       "<table border=\"1\" class=\"dataframe\">\n",
       "  <thead>\n",
       "    <tr style=\"text-align: right;\">\n",
       "      <th></th>\n",
       "      <th>first name</th>\n",
       "      <th>last name</th>\n",
       "      <th>address</th>\n",
       "      <th>city</th>\n",
       "      <th>state</th>\n",
       "      <th>zipcode</th>\n",
       "      <th>age</th>\n",
       "    </tr>\n",
       "  </thead>\n",
       "  <tbody>\n",
       "    <tr>\n",
       "      <th>0</th>\n",
       "      <td>John</td>\n",
       "      <td>Doe</td>\n",
       "      <td>120 jefferson st.</td>\n",
       "      <td>Riverside</td>\n",
       "      <td>NJ</td>\n",
       "      <td>8075</td>\n",
       "      <td>0</td>\n",
       "    </tr>\n",
       "    <tr>\n",
       "      <th>1</th>\n",
       "      <td>Jack</td>\n",
       "      <td>McGinnis</td>\n",
       "      <td>220 hobo Av.</td>\n",
       "      <td>Phila</td>\n",
       "      <td>PA</td>\n",
       "      <td>9119</td>\n",
       "      <td>0</td>\n",
       "    </tr>\n",
       "    <tr>\n",
       "      <th>2</th>\n",
       "      <td>John \"Da Man\"</td>\n",
       "      <td>Repici</td>\n",
       "      <td>120 Jefferson St.</td>\n",
       "      <td>Riverside</td>\n",
       "      <td>NJ</td>\n",
       "      <td>8075</td>\n",
       "      <td>0</td>\n",
       "    </tr>\n",
       "    <tr>\n",
       "      <th>3</th>\n",
       "      <td>Stephen</td>\n",
       "      <td>Tyler</td>\n",
       "      <td>7452 Terrace \"At the Plaza\" road</td>\n",
       "      <td>SomeTown</td>\n",
       "      <td>SD</td>\n",
       "      <td>91234</td>\n",
       "      <td>0</td>\n",
       "    </tr>\n",
       "    <tr>\n",
       "      <th>4</th>\n",
       "      <td>NaN</td>\n",
       "      <td>Blankman</td>\n",
       "      <td>NaN</td>\n",
       "      <td>SomeTown</td>\n",
       "      <td>SD</td>\n",
       "      <td>298</td>\n",
       "      <td>0</td>\n",
       "    </tr>\n",
       "    <tr>\n",
       "      <th>5</th>\n",
       "      <td>Joan \"the bone\", Anne</td>\n",
       "      <td>Jet</td>\n",
       "      <td>9th, at Terrace plc</td>\n",
       "      <td>Desert City</td>\n",
       "      <td>CO</td>\n",
       "      <td>123</td>\n",
       "      <td>0</td>\n",
       "    </tr>\n",
       "  </tbody>\n",
       "</table>\n",
       "</div>"
      ],
      "text/plain": [
       "              first name last name                           address  \\\n",
       "0                   John       Doe                 120 jefferson st.   \n",
       "1                   Jack  McGinnis                      220 hobo Av.   \n",
       "2          John \"Da Man\"    Repici                 120 Jefferson St.   \n",
       "3                Stephen     Tyler  7452 Terrace \"At the Plaza\" road   \n",
       "4                    NaN  Blankman                               NaN   \n",
       "5  Joan \"the bone\", Anne       Jet               9th, at Terrace plc   \n",
       "\n",
       "          city state  zipcode  age  \n",
       "0    Riverside    NJ     8075    0  \n",
       "1        Phila    PA     9119    0  \n",
       "2    Riverside    NJ     8075    0  \n",
       "3     SomeTown    SD    91234    0  \n",
       "4     SomeTown    SD      298    0  \n",
       "5  Desert City    CO      123    0  "
      ]
     },
     "execution_count": 130,
     "metadata": {},
     "output_type": "execute_result"
    }
   ],
   "source": [
    "df"
   ]
  },
  {
   "cell_type": "code",
   "execution_count": 133,
   "id": "9a3615aa-fedd-432b-bc8f-cf7fc93afc86",
   "metadata": {},
   "outputs": [
    {
     "data": {
      "text/html": [
       "<div>\n",
       "<style scoped>\n",
       "    .dataframe tbody tr th:only-of-type {\n",
       "        vertical-align: middle;\n",
       "    }\n",
       "\n",
       "    .dataframe tbody tr th {\n",
       "        vertical-align: top;\n",
       "    }\n",
       "\n",
       "    .dataframe thead th {\n",
       "        text-align: right;\n",
       "    }\n",
       "</style>\n",
       "<table border=\"1\" class=\"dataframe\">\n",
       "  <thead>\n",
       "    <tr style=\"text-align: right;\">\n",
       "      <th></th>\n",
       "      <th>first name</th>\n",
       "      <th>last name</th>\n",
       "      <th>address</th>\n",
       "      <th>city</th>\n",
       "      <th>state</th>\n",
       "      <th>zipcode</th>\n",
       "      <th>age</th>\n",
       "    </tr>\n",
       "  </thead>\n",
       "  <tbody>\n",
       "    <tr>\n",
       "      <th>0</th>\n",
       "      <td>John</td>\n",
       "      <td>Doe</td>\n",
       "      <td>120 jefferson st.</td>\n",
       "      <td>Riverside</td>\n",
       "      <td>NJ</td>\n",
       "      <td>8075</td>\n",
       "      <td>0</td>\n",
       "    </tr>\n",
       "  </tbody>\n",
       "</table>\n",
       "</div>"
      ],
      "text/plain": [
       "  first name last name            address       city state  zipcode  age\n",
       "0       John       Doe  120 jefferson st.  Riverside    NJ     8075    0"
      ]
     },
     "execution_count": 133,
     "metadata": {},
     "output_type": "execute_result"
    }
   ],
   "source": [
    "df[df['first name'] == 'John']"
   ]
  },
  {
   "cell_type": "code",
   "execution_count": 134,
   "id": "ea209d45-ebb4-48e0-85e7-db3a2d556316",
   "metadata": {},
   "outputs": [
    {
     "name": "stderr",
     "output_type": "stream",
     "text": [
      "C:\\Users\\charlie\\AppData\\Local\\Temp\\ipykernel_2556\\142507977.py:1: SettingWithCopyWarning: \n",
      "A value is trying to be set on a copy of a slice from a DataFrame.\n",
      "Try using .loc[row_indexer,col_indexer] = value instead\n",
      "\n",
      "See the caveats in the documentation: https://pandas.pydata.org/pandas-docs/stable/user_guide/indexing.html#returning-a-view-versus-a-copy\n",
      "  df[df['first name'] == 'John']['age'] = 10\n"
     ]
    }
   ],
   "source": []
  },
  {
   "cell_type": "code",
   "execution_count": 136,
   "id": "2c9ab9ef-53d3-4137-8c2f-19a3f3138363",
   "metadata": {},
   "outputs": [],
   "source": [
    "import pandas"
   ]
  },
  {
   "cell_type": "code",
   "execution_count": 140,
   "id": "75b523ae-b533-4075-bdaa-d0c927c01c6c",
   "metadata": {
    "scrolled": true
   },
   "outputs": [
    {
     "data": {
      "text/html": [
       "<div>\n",
       "<style scoped>\n",
       "    .dataframe tbody tr th:only-of-type {\n",
       "        vertical-align: middle;\n",
       "    }\n",
       "\n",
       "    .dataframe tbody tr th {\n",
       "        vertical-align: top;\n",
       "    }\n",
       "\n",
       "    .dataframe thead th {\n",
       "        text-align: right;\n",
       "    }\n",
       "</style>\n",
       "<table border=\"1\" class=\"dataframe\">\n",
       "  <thead>\n",
       "    <tr style=\"text-align: right;\">\n",
       "      <th></th>\n",
       "      <th>Last name</th>\n",
       "      <th>\"First name\"</th>\n",
       "      <th>\"SSN\"</th>\n",
       "      <th>\"Test1\"</th>\n",
       "      <th>\"Test2\"</th>\n",
       "      <th>\"Test3\"</th>\n",
       "      <th>\"Test4\"</th>\n",
       "      <th>\"Final\"</th>\n",
       "      <th>\"Grade\"</th>\n",
       "    </tr>\n",
       "  </thead>\n",
       "  <tbody>\n",
       "    <tr>\n",
       "      <th>0</th>\n",
       "      <td>Alfalfa</td>\n",
       "      <td>\"Aloysius\"</td>\n",
       "      <td>\"123-45-6789\"</td>\n",
       "      <td>40.0</td>\n",
       "      <td>90.0</td>\n",
       "      <td>100.0</td>\n",
       "      <td>83.0</td>\n",
       "      <td>49.0</td>\n",
       "      <td>\"D-\"</td>\n",
       "    </tr>\n",
       "    <tr>\n",
       "      <th>1</th>\n",
       "      <td>Alfred</td>\n",
       "      <td>\"University\"</td>\n",
       "      <td>\"123-12-1234\"</td>\n",
       "      <td>41.0</td>\n",
       "      <td>97.0</td>\n",
       "      <td>96.0</td>\n",
       "      <td>97.0</td>\n",
       "      <td>48.0</td>\n",
       "      <td>\"D+\"</td>\n",
       "    </tr>\n",
       "    <tr>\n",
       "      <th>2</th>\n",
       "      <td>Gerty</td>\n",
       "      <td>\"Gramma\"</td>\n",
       "      <td>\"567-89-0123\"</td>\n",
       "      <td>41.0</td>\n",
       "      <td>80.0</td>\n",
       "      <td>60.0</td>\n",
       "      <td>40.0</td>\n",
       "      <td>44.0</td>\n",
       "      <td>\"C\"</td>\n",
       "    </tr>\n",
       "    <tr>\n",
       "      <th>3</th>\n",
       "      <td>Android</td>\n",
       "      <td>\"Electric\"</td>\n",
       "      <td>\"087-65-4321\"</td>\n",
       "      <td>42.0</td>\n",
       "      <td>23.0</td>\n",
       "      <td>36.0</td>\n",
       "      <td>45.0</td>\n",
       "      <td>47.0</td>\n",
       "      <td>\"B-\"</td>\n",
       "    </tr>\n",
       "    <tr>\n",
       "      <th>4</th>\n",
       "      <td>Bumpkin</td>\n",
       "      <td>\"Fred\"</td>\n",
       "      <td>\"456-78-9012\"</td>\n",
       "      <td>43.0</td>\n",
       "      <td>78.0</td>\n",
       "      <td>88.0</td>\n",
       "      <td>77.0</td>\n",
       "      <td>45.0</td>\n",
       "      <td>\"A-\"</td>\n",
       "    </tr>\n",
       "    <tr>\n",
       "      <th>5</th>\n",
       "      <td>Rubble</td>\n",
       "      <td>\"Betty\"</td>\n",
       "      <td>\"234-56-7890\"</td>\n",
       "      <td>44.0</td>\n",
       "      <td>90.0</td>\n",
       "      <td>80.0</td>\n",
       "      <td>90.0</td>\n",
       "      <td>46.0</td>\n",
       "      <td>\"C-\"</td>\n",
       "    </tr>\n",
       "    <tr>\n",
       "      <th>6</th>\n",
       "      <td>Noshow</td>\n",
       "      <td>\"Cecil\"</td>\n",
       "      <td>\"345-67-8901\"</td>\n",
       "      <td>45.0</td>\n",
       "      <td>11.0</td>\n",
       "      <td>-1.0</td>\n",
       "      <td>4.0</td>\n",
       "      <td>43.0</td>\n",
       "      <td>\"F\"</td>\n",
       "    </tr>\n",
       "    <tr>\n",
       "      <th>7</th>\n",
       "      <td>Buff</td>\n",
       "      <td>\"Bif\"</td>\n",
       "      <td>\"632-79-9939\"</td>\n",
       "      <td>46.0</td>\n",
       "      <td>20.0</td>\n",
       "      <td>30.0</td>\n",
       "      <td>40.0</td>\n",
       "      <td>50.0</td>\n",
       "      <td>\"B+\"</td>\n",
       "    </tr>\n",
       "    <tr>\n",
       "      <th>8</th>\n",
       "      <td>Airpump</td>\n",
       "      <td>\"Andrew\"</td>\n",
       "      <td>\"223-45-6789\"</td>\n",
       "      <td>49.0</td>\n",
       "      <td>1.0</td>\n",
       "      <td>90.0</td>\n",
       "      <td>100.0</td>\n",
       "      <td>83.0</td>\n",
       "      <td>\"A\"</td>\n",
       "    </tr>\n",
       "    <tr>\n",
       "      <th>9</th>\n",
       "      <td>Backus</td>\n",
       "      <td>\"Jim\"</td>\n",
       "      <td>\"143-12-1234\"</td>\n",
       "      <td>48.0</td>\n",
       "      <td>1.0</td>\n",
       "      <td>97.0</td>\n",
       "      <td>96.0</td>\n",
       "      <td>97.0</td>\n",
       "      <td>\"A+\"</td>\n",
       "    </tr>\n",
       "    <tr>\n",
       "      <th>10</th>\n",
       "      <td>Carnivore</td>\n",
       "      <td>\"Art\"</td>\n",
       "      <td>\"565-89-0123\"</td>\n",
       "      <td>44.0</td>\n",
       "      <td>1.0</td>\n",
       "      <td>80.0</td>\n",
       "      <td>60.0</td>\n",
       "      <td>40.0</td>\n",
       "      <td>\"D+\"</td>\n",
       "    </tr>\n",
       "    <tr>\n",
       "      <th>11</th>\n",
       "      <td>Dandy</td>\n",
       "      <td>\"Jim\"</td>\n",
       "      <td>\"087-75-4321\"</td>\n",
       "      <td>47.0</td>\n",
       "      <td>1.0</td>\n",
       "      <td>23.0</td>\n",
       "      <td>36.0</td>\n",
       "      <td>45.0</td>\n",
       "      <td>\"C+\"</td>\n",
       "    </tr>\n",
       "    <tr>\n",
       "      <th>12</th>\n",
       "      <td>Elephant</td>\n",
       "      <td>\"Ima\"</td>\n",
       "      <td>\"456-71-9012\"</td>\n",
       "      <td>45.0</td>\n",
       "      <td>1.0</td>\n",
       "      <td>78.0</td>\n",
       "      <td>88.0</td>\n",
       "      <td>77.0</td>\n",
       "      <td>\"B-\"</td>\n",
       "    </tr>\n",
       "    <tr>\n",
       "      <th>13</th>\n",
       "      <td>Franklin</td>\n",
       "      <td>\"Benny\"</td>\n",
       "      <td>\"234-56-2890\"</td>\n",
       "      <td>50.0</td>\n",
       "      <td>1.0</td>\n",
       "      <td>90.0</td>\n",
       "      <td>80.0</td>\n",
       "      <td>90.0</td>\n",
       "      <td>\"B-\"</td>\n",
       "    </tr>\n",
       "    <tr>\n",
       "      <th>14</th>\n",
       "      <td>George</td>\n",
       "      <td>\"Boy\"</td>\n",
       "      <td>\"345-67-3901\"</td>\n",
       "      <td>40.0</td>\n",
       "      <td>1.0</td>\n",
       "      <td>11.0</td>\n",
       "      <td>-1.0</td>\n",
       "      <td>4.0</td>\n",
       "      <td>\"B\"</td>\n",
       "    </tr>\n",
       "    <tr>\n",
       "      <th>15</th>\n",
       "      <td>Heffalump</td>\n",
       "      <td>\"Harvey\"</td>\n",
       "      <td>\"632-79-9439\"</td>\n",
       "      <td>30.0</td>\n",
       "      <td>1.0</td>\n",
       "      <td>20.0</td>\n",
       "      <td>30.0</td>\n",
       "      <td>40.0</td>\n",
       "      <td>\"C\"</td>\n",
       "    </tr>\n",
       "  </tbody>\n",
       "</table>\n",
       "</div>"
      ],
      "text/plain": [
       "    Last name      \"First name\"                  \"SSN\"          \"Test1\"  \\\n",
       "0     Alfalfa        \"Aloysius\"          \"123-45-6789\"             40.0   \n",
       "1      Alfred      \"University\"          \"123-12-1234\"             41.0   \n",
       "2       Gerty          \"Gramma\"          \"567-89-0123\"             41.0   \n",
       "3     Android        \"Electric\"          \"087-65-4321\"             42.0   \n",
       "4     Bumpkin            \"Fred\"          \"456-78-9012\"             43.0   \n",
       "5      Rubble           \"Betty\"          \"234-56-7890\"             44.0   \n",
       "6      Noshow           \"Cecil\"          \"345-67-8901\"             45.0   \n",
       "7        Buff             \"Bif\"          \"632-79-9939\"             46.0   \n",
       "8     Airpump          \"Andrew\"          \"223-45-6789\"             49.0   \n",
       "9      Backus             \"Jim\"          \"143-12-1234\"             48.0   \n",
       "10  Carnivore             \"Art\"          \"565-89-0123\"             44.0   \n",
       "11      Dandy             \"Jim\"          \"087-75-4321\"             47.0   \n",
       "12   Elephant             \"Ima\"          \"456-71-9012\"             45.0   \n",
       "13   Franklin           \"Benny\"          \"234-56-2890\"             50.0   \n",
       "14     George             \"Boy\"          \"345-67-3901\"             40.0   \n",
       "15  Heffalump          \"Harvey\"          \"632-79-9439\"             30.0   \n",
       "\n",
       "     \"Test2\"   \"Test3\"   \"Test4\"   \"Final\"  \"Grade\"  \n",
       "0       90.0     100.0      83.0      49.0     \"D-\"  \n",
       "1       97.0      96.0      97.0      48.0     \"D+\"  \n",
       "2       80.0      60.0      40.0      44.0      \"C\"  \n",
       "3       23.0      36.0      45.0      47.0     \"B-\"  \n",
       "4       78.0      88.0      77.0      45.0     \"A-\"  \n",
       "5       90.0      80.0      90.0      46.0     \"C-\"  \n",
       "6       11.0      -1.0       4.0      43.0      \"F\"  \n",
       "7       20.0      30.0      40.0      50.0     \"B+\"  \n",
       "8        1.0      90.0     100.0      83.0      \"A\"  \n",
       "9        1.0      97.0      96.0      97.0     \"A+\"  \n",
       "10       1.0      80.0      60.0      40.0     \"D+\"  \n",
       "11       1.0      23.0      36.0      45.0     \"C+\"  \n",
       "12       1.0      78.0      88.0      77.0     \"B-\"  \n",
       "13       1.0      90.0      80.0      90.0     \"B-\"  \n",
       "14       1.0      11.0      -1.0       4.0      \"B\"  \n",
       "15       1.0      20.0      30.0      40.0      \"C\"  "
      ]
     },
     "execution_count": 140,
     "metadata": {},
     "output_type": "execute_result"
    }
   ],
   "source": [
    "df = pandas.read_csv('grades.csv')\n",
    "df"
   ]
  },
  {
   "cell_type": "code",
   "execution_count": 146,
   "id": "1832f42a-cc09-4ccb-8e74-95865fd55d3c",
   "metadata": {},
   "outputs": [],
   "source": [
    "df.columns = ['Last name', 'First name', 'SSN', 'Test1', 'Test2', 'Test3', 'Test4', 'Final', 'Grade']"
   ]
  },
  {
   "cell_type": "code",
   "execution_count": 147,
   "id": "8aaaa482-7b7f-4236-9ebb-7746c92472ee",
   "metadata": {},
   "outputs": [
    {
     "data": {
      "text/html": [
       "<div>\n",
       "<style scoped>\n",
       "    .dataframe tbody tr th:only-of-type {\n",
       "        vertical-align: middle;\n",
       "    }\n",
       "\n",
       "    .dataframe tbody tr th {\n",
       "        vertical-align: top;\n",
       "    }\n",
       "\n",
       "    .dataframe thead th {\n",
       "        text-align: right;\n",
       "    }\n",
       "</style>\n",
       "<table border=\"1\" class=\"dataframe\">\n",
       "  <thead>\n",
       "    <tr style=\"text-align: right;\">\n",
       "      <th></th>\n",
       "      <th>Last name</th>\n",
       "      <th>First name</th>\n",
       "      <th>SSN</th>\n",
       "      <th>Test1</th>\n",
       "      <th>Test2</th>\n",
       "      <th>Test3</th>\n",
       "      <th>Test4</th>\n",
       "      <th>Final</th>\n",
       "      <th>Grade</th>\n",
       "    </tr>\n",
       "  </thead>\n",
       "  <tbody>\n",
       "    <tr>\n",
       "      <th>0</th>\n",
       "      <td>Alfalfa</td>\n",
       "      <td>\"Aloysius\"</td>\n",
       "      <td>\"123-45-6789\"</td>\n",
       "      <td>40.0</td>\n",
       "      <td>90.0</td>\n",
       "      <td>100.0</td>\n",
       "      <td>83.0</td>\n",
       "      <td>49.0</td>\n",
       "      <td>\"D-\"</td>\n",
       "    </tr>\n",
       "    <tr>\n",
       "      <th>1</th>\n",
       "      <td>Alfred</td>\n",
       "      <td>\"University\"</td>\n",
       "      <td>\"123-12-1234\"</td>\n",
       "      <td>41.0</td>\n",
       "      <td>97.0</td>\n",
       "      <td>96.0</td>\n",
       "      <td>97.0</td>\n",
       "      <td>48.0</td>\n",
       "      <td>\"D+\"</td>\n",
       "    </tr>\n",
       "    <tr>\n",
       "      <th>2</th>\n",
       "      <td>Gerty</td>\n",
       "      <td>\"Gramma\"</td>\n",
       "      <td>\"567-89-0123\"</td>\n",
       "      <td>41.0</td>\n",
       "      <td>80.0</td>\n",
       "      <td>60.0</td>\n",
       "      <td>40.0</td>\n",
       "      <td>44.0</td>\n",
       "      <td>\"C\"</td>\n",
       "    </tr>\n",
       "    <tr>\n",
       "      <th>3</th>\n",
       "      <td>Android</td>\n",
       "      <td>\"Electric\"</td>\n",
       "      <td>\"087-65-4321\"</td>\n",
       "      <td>42.0</td>\n",
       "      <td>23.0</td>\n",
       "      <td>36.0</td>\n",
       "      <td>45.0</td>\n",
       "      <td>47.0</td>\n",
       "      <td>\"B-\"</td>\n",
       "    </tr>\n",
       "    <tr>\n",
       "      <th>4</th>\n",
       "      <td>Bumpkin</td>\n",
       "      <td>\"Fred\"</td>\n",
       "      <td>\"456-78-9012\"</td>\n",
       "      <td>43.0</td>\n",
       "      <td>78.0</td>\n",
       "      <td>88.0</td>\n",
       "      <td>77.0</td>\n",
       "      <td>45.0</td>\n",
       "      <td>\"A-\"</td>\n",
       "    </tr>\n",
       "    <tr>\n",
       "      <th>5</th>\n",
       "      <td>Rubble</td>\n",
       "      <td>\"Betty\"</td>\n",
       "      <td>\"234-56-7890\"</td>\n",
       "      <td>44.0</td>\n",
       "      <td>90.0</td>\n",
       "      <td>80.0</td>\n",
       "      <td>90.0</td>\n",
       "      <td>46.0</td>\n",
       "      <td>\"C-\"</td>\n",
       "    </tr>\n",
       "    <tr>\n",
       "      <th>6</th>\n",
       "      <td>Noshow</td>\n",
       "      <td>\"Cecil\"</td>\n",
       "      <td>\"345-67-8901\"</td>\n",
       "      <td>45.0</td>\n",
       "      <td>11.0</td>\n",
       "      <td>-1.0</td>\n",
       "      <td>4.0</td>\n",
       "      <td>43.0</td>\n",
       "      <td>\"F\"</td>\n",
       "    </tr>\n",
       "    <tr>\n",
       "      <th>7</th>\n",
       "      <td>Buff</td>\n",
       "      <td>\"Bif\"</td>\n",
       "      <td>\"632-79-9939\"</td>\n",
       "      <td>46.0</td>\n",
       "      <td>20.0</td>\n",
       "      <td>30.0</td>\n",
       "      <td>40.0</td>\n",
       "      <td>50.0</td>\n",
       "      <td>\"B+\"</td>\n",
       "    </tr>\n",
       "    <tr>\n",
       "      <th>8</th>\n",
       "      <td>Airpump</td>\n",
       "      <td>\"Andrew\"</td>\n",
       "      <td>\"223-45-6789\"</td>\n",
       "      <td>49.0</td>\n",
       "      <td>1.0</td>\n",
       "      <td>90.0</td>\n",
       "      <td>100.0</td>\n",
       "      <td>83.0</td>\n",
       "      <td>\"A\"</td>\n",
       "    </tr>\n",
       "    <tr>\n",
       "      <th>9</th>\n",
       "      <td>Backus</td>\n",
       "      <td>\"Jim\"</td>\n",
       "      <td>\"143-12-1234\"</td>\n",
       "      <td>48.0</td>\n",
       "      <td>1.0</td>\n",
       "      <td>97.0</td>\n",
       "      <td>96.0</td>\n",
       "      <td>97.0</td>\n",
       "      <td>\"A+\"</td>\n",
       "    </tr>\n",
       "    <tr>\n",
       "      <th>10</th>\n",
       "      <td>Carnivore</td>\n",
       "      <td>\"Art\"</td>\n",
       "      <td>\"565-89-0123\"</td>\n",
       "      <td>44.0</td>\n",
       "      <td>1.0</td>\n",
       "      <td>80.0</td>\n",
       "      <td>60.0</td>\n",
       "      <td>40.0</td>\n",
       "      <td>\"D+\"</td>\n",
       "    </tr>\n",
       "    <tr>\n",
       "      <th>11</th>\n",
       "      <td>Dandy</td>\n",
       "      <td>\"Jim\"</td>\n",
       "      <td>\"087-75-4321\"</td>\n",
       "      <td>47.0</td>\n",
       "      <td>1.0</td>\n",
       "      <td>23.0</td>\n",
       "      <td>36.0</td>\n",
       "      <td>45.0</td>\n",
       "      <td>\"C+\"</td>\n",
       "    </tr>\n",
       "    <tr>\n",
       "      <th>12</th>\n",
       "      <td>Elephant</td>\n",
       "      <td>\"Ima\"</td>\n",
       "      <td>\"456-71-9012\"</td>\n",
       "      <td>45.0</td>\n",
       "      <td>1.0</td>\n",
       "      <td>78.0</td>\n",
       "      <td>88.0</td>\n",
       "      <td>77.0</td>\n",
       "      <td>\"B-\"</td>\n",
       "    </tr>\n",
       "    <tr>\n",
       "      <th>13</th>\n",
       "      <td>Franklin</td>\n",
       "      <td>\"Benny\"</td>\n",
       "      <td>\"234-56-2890\"</td>\n",
       "      <td>50.0</td>\n",
       "      <td>1.0</td>\n",
       "      <td>90.0</td>\n",
       "      <td>80.0</td>\n",
       "      <td>90.0</td>\n",
       "      <td>\"B-\"</td>\n",
       "    </tr>\n",
       "    <tr>\n",
       "      <th>14</th>\n",
       "      <td>George</td>\n",
       "      <td>\"Boy\"</td>\n",
       "      <td>\"345-67-3901\"</td>\n",
       "      <td>40.0</td>\n",
       "      <td>1.0</td>\n",
       "      <td>11.0</td>\n",
       "      <td>-1.0</td>\n",
       "      <td>4.0</td>\n",
       "      <td>\"B\"</td>\n",
       "    </tr>\n",
       "    <tr>\n",
       "      <th>15</th>\n",
       "      <td>Heffalump</td>\n",
       "      <td>\"Harvey\"</td>\n",
       "      <td>\"632-79-9439\"</td>\n",
       "      <td>30.0</td>\n",
       "      <td>1.0</td>\n",
       "      <td>20.0</td>\n",
       "      <td>30.0</td>\n",
       "      <td>40.0</td>\n",
       "      <td>\"C\"</td>\n",
       "    </tr>\n",
       "  </tbody>\n",
       "</table>\n",
       "</div>"
      ],
      "text/plain": [
       "    Last name        First name                    SSN  Test1  Test2  Test3  \\\n",
       "0     Alfalfa        \"Aloysius\"          \"123-45-6789\"   40.0   90.0  100.0   \n",
       "1      Alfred      \"University\"          \"123-12-1234\"   41.0   97.0   96.0   \n",
       "2       Gerty          \"Gramma\"          \"567-89-0123\"   41.0   80.0   60.0   \n",
       "3     Android        \"Electric\"          \"087-65-4321\"   42.0   23.0   36.0   \n",
       "4     Bumpkin            \"Fred\"          \"456-78-9012\"   43.0   78.0   88.0   \n",
       "5      Rubble           \"Betty\"          \"234-56-7890\"   44.0   90.0   80.0   \n",
       "6      Noshow           \"Cecil\"          \"345-67-8901\"   45.0   11.0   -1.0   \n",
       "7        Buff             \"Bif\"          \"632-79-9939\"   46.0   20.0   30.0   \n",
       "8     Airpump          \"Andrew\"          \"223-45-6789\"   49.0    1.0   90.0   \n",
       "9      Backus             \"Jim\"          \"143-12-1234\"   48.0    1.0   97.0   \n",
       "10  Carnivore             \"Art\"          \"565-89-0123\"   44.0    1.0   80.0   \n",
       "11      Dandy             \"Jim\"          \"087-75-4321\"   47.0    1.0   23.0   \n",
       "12   Elephant             \"Ima\"          \"456-71-9012\"   45.0    1.0   78.0   \n",
       "13   Franklin           \"Benny\"          \"234-56-2890\"   50.0    1.0   90.0   \n",
       "14     George             \"Boy\"          \"345-67-3901\"   40.0    1.0   11.0   \n",
       "15  Heffalump          \"Harvey\"          \"632-79-9439\"   30.0    1.0   20.0   \n",
       "\n",
       "    Test4  Final    Grade  \n",
       "0    83.0   49.0     \"D-\"  \n",
       "1    97.0   48.0     \"D+\"  \n",
       "2    40.0   44.0      \"C\"  \n",
       "3    45.0   47.0     \"B-\"  \n",
       "4    77.0   45.0     \"A-\"  \n",
       "5    90.0   46.0     \"C-\"  \n",
       "6     4.0   43.0      \"F\"  \n",
       "7    40.0   50.0     \"B+\"  \n",
       "8   100.0   83.0      \"A\"  \n",
       "9    96.0   97.0     \"A+\"  \n",
       "10   60.0   40.0     \"D+\"  \n",
       "11   36.0   45.0     \"C+\"  \n",
       "12   88.0   77.0     \"B-\"  \n",
       "13   80.0   90.0     \"B-\"  \n",
       "14   -1.0    4.0      \"B\"  \n",
       "15   30.0   40.0      \"C\"  "
      ]
     },
     "execution_count": 147,
     "metadata": {},
     "output_type": "execute_result"
    }
   ],
   "source": [
    "df"
   ]
  },
  {
   "cell_type": "code",
   "execution_count": 148,
   "id": "5f1ba076-1d3c-45fc-9308-37357d5490be",
   "metadata": {},
   "outputs": [],
   "source": [
    "df['total'] = df['Test1'] + df['Test2'] + df['Test3'] + df['Test4']"
   ]
  },
  {
   "cell_type": "code",
   "execution_count": 150,
   "id": "053fb068-6d80-45bd-9784-c65a83c6edba",
   "metadata": {},
   "outputs": [],
   "source": [
    "df['average'] = df['total'] / 4"
   ]
  },
  {
   "cell_type": "code",
   "execution_count": 151,
   "id": "cfc637c7-b888-4944-bf5c-4b4301e694f7",
   "metadata": {},
   "outputs": [
    {
     "data": {
      "text/html": [
       "<div>\n",
       "<style scoped>\n",
       "    .dataframe tbody tr th:only-of-type {\n",
       "        vertical-align: middle;\n",
       "    }\n",
       "\n",
       "    .dataframe tbody tr th {\n",
       "        vertical-align: top;\n",
       "    }\n",
       "\n",
       "    .dataframe thead th {\n",
       "        text-align: right;\n",
       "    }\n",
       "</style>\n",
       "<table border=\"1\" class=\"dataframe\">\n",
       "  <thead>\n",
       "    <tr style=\"text-align: right;\">\n",
       "      <th></th>\n",
       "      <th>Last name</th>\n",
       "      <th>First name</th>\n",
       "      <th>SSN</th>\n",
       "      <th>Test1</th>\n",
       "      <th>Test2</th>\n",
       "      <th>Test3</th>\n",
       "      <th>Test4</th>\n",
       "      <th>Final</th>\n",
       "      <th>Grade</th>\n",
       "      <th>total</th>\n",
       "      <th>average</th>\n",
       "    </tr>\n",
       "  </thead>\n",
       "  <tbody>\n",
       "    <tr>\n",
       "      <th>0</th>\n",
       "      <td>Alfalfa</td>\n",
       "      <td>\"Aloysius\"</td>\n",
       "      <td>\"123-45-6789\"</td>\n",
       "      <td>40.0</td>\n",
       "      <td>90.0</td>\n",
       "      <td>100.0</td>\n",
       "      <td>83.0</td>\n",
       "      <td>49.0</td>\n",
       "      <td>\"D-\"</td>\n",
       "      <td>313.0</td>\n",
       "      <td>78.25</td>\n",
       "    </tr>\n",
       "    <tr>\n",
       "      <th>1</th>\n",
       "      <td>Alfred</td>\n",
       "      <td>\"University\"</td>\n",
       "      <td>\"123-12-1234\"</td>\n",
       "      <td>41.0</td>\n",
       "      <td>97.0</td>\n",
       "      <td>96.0</td>\n",
       "      <td>97.0</td>\n",
       "      <td>48.0</td>\n",
       "      <td>\"D+\"</td>\n",
       "      <td>331.0</td>\n",
       "      <td>82.75</td>\n",
       "    </tr>\n",
       "    <tr>\n",
       "      <th>2</th>\n",
       "      <td>Gerty</td>\n",
       "      <td>\"Gramma\"</td>\n",
       "      <td>\"567-89-0123\"</td>\n",
       "      <td>41.0</td>\n",
       "      <td>80.0</td>\n",
       "      <td>60.0</td>\n",
       "      <td>40.0</td>\n",
       "      <td>44.0</td>\n",
       "      <td>\"C\"</td>\n",
       "      <td>221.0</td>\n",
       "      <td>55.25</td>\n",
       "    </tr>\n",
       "    <tr>\n",
       "      <th>3</th>\n",
       "      <td>Android</td>\n",
       "      <td>\"Electric\"</td>\n",
       "      <td>\"087-65-4321\"</td>\n",
       "      <td>42.0</td>\n",
       "      <td>23.0</td>\n",
       "      <td>36.0</td>\n",
       "      <td>45.0</td>\n",
       "      <td>47.0</td>\n",
       "      <td>\"B-\"</td>\n",
       "      <td>146.0</td>\n",
       "      <td>36.50</td>\n",
       "    </tr>\n",
       "    <tr>\n",
       "      <th>4</th>\n",
       "      <td>Bumpkin</td>\n",
       "      <td>\"Fred\"</td>\n",
       "      <td>\"456-78-9012\"</td>\n",
       "      <td>43.0</td>\n",
       "      <td>78.0</td>\n",
       "      <td>88.0</td>\n",
       "      <td>77.0</td>\n",
       "      <td>45.0</td>\n",
       "      <td>\"A-\"</td>\n",
       "      <td>286.0</td>\n",
       "      <td>71.50</td>\n",
       "    </tr>\n",
       "    <tr>\n",
       "      <th>5</th>\n",
       "      <td>Rubble</td>\n",
       "      <td>\"Betty\"</td>\n",
       "      <td>\"234-56-7890\"</td>\n",
       "      <td>44.0</td>\n",
       "      <td>90.0</td>\n",
       "      <td>80.0</td>\n",
       "      <td>90.0</td>\n",
       "      <td>46.0</td>\n",
       "      <td>\"C-\"</td>\n",
       "      <td>304.0</td>\n",
       "      <td>76.00</td>\n",
       "    </tr>\n",
       "    <tr>\n",
       "      <th>6</th>\n",
       "      <td>Noshow</td>\n",
       "      <td>\"Cecil\"</td>\n",
       "      <td>\"345-67-8901\"</td>\n",
       "      <td>45.0</td>\n",
       "      <td>11.0</td>\n",
       "      <td>-1.0</td>\n",
       "      <td>4.0</td>\n",
       "      <td>43.0</td>\n",
       "      <td>\"F\"</td>\n",
       "      <td>59.0</td>\n",
       "      <td>14.75</td>\n",
       "    </tr>\n",
       "    <tr>\n",
       "      <th>7</th>\n",
       "      <td>Buff</td>\n",
       "      <td>\"Bif\"</td>\n",
       "      <td>\"632-79-9939\"</td>\n",
       "      <td>46.0</td>\n",
       "      <td>20.0</td>\n",
       "      <td>30.0</td>\n",
       "      <td>40.0</td>\n",
       "      <td>50.0</td>\n",
       "      <td>\"B+\"</td>\n",
       "      <td>136.0</td>\n",
       "      <td>34.00</td>\n",
       "    </tr>\n",
       "    <tr>\n",
       "      <th>8</th>\n",
       "      <td>Airpump</td>\n",
       "      <td>\"Andrew\"</td>\n",
       "      <td>\"223-45-6789\"</td>\n",
       "      <td>49.0</td>\n",
       "      <td>1.0</td>\n",
       "      <td>90.0</td>\n",
       "      <td>100.0</td>\n",
       "      <td>83.0</td>\n",
       "      <td>\"A\"</td>\n",
       "      <td>240.0</td>\n",
       "      <td>60.00</td>\n",
       "    </tr>\n",
       "    <tr>\n",
       "      <th>9</th>\n",
       "      <td>Backus</td>\n",
       "      <td>\"Jim\"</td>\n",
       "      <td>\"143-12-1234\"</td>\n",
       "      <td>48.0</td>\n",
       "      <td>1.0</td>\n",
       "      <td>97.0</td>\n",
       "      <td>96.0</td>\n",
       "      <td>97.0</td>\n",
       "      <td>\"A+\"</td>\n",
       "      <td>242.0</td>\n",
       "      <td>60.50</td>\n",
       "    </tr>\n",
       "    <tr>\n",
       "      <th>10</th>\n",
       "      <td>Carnivore</td>\n",
       "      <td>\"Art\"</td>\n",
       "      <td>\"565-89-0123\"</td>\n",
       "      <td>44.0</td>\n",
       "      <td>1.0</td>\n",
       "      <td>80.0</td>\n",
       "      <td>60.0</td>\n",
       "      <td>40.0</td>\n",
       "      <td>\"D+\"</td>\n",
       "      <td>185.0</td>\n",
       "      <td>46.25</td>\n",
       "    </tr>\n",
       "    <tr>\n",
       "      <th>11</th>\n",
       "      <td>Dandy</td>\n",
       "      <td>\"Jim\"</td>\n",
       "      <td>\"087-75-4321\"</td>\n",
       "      <td>47.0</td>\n",
       "      <td>1.0</td>\n",
       "      <td>23.0</td>\n",
       "      <td>36.0</td>\n",
       "      <td>45.0</td>\n",
       "      <td>\"C+\"</td>\n",
       "      <td>107.0</td>\n",
       "      <td>26.75</td>\n",
       "    </tr>\n",
       "    <tr>\n",
       "      <th>12</th>\n",
       "      <td>Elephant</td>\n",
       "      <td>\"Ima\"</td>\n",
       "      <td>\"456-71-9012\"</td>\n",
       "      <td>45.0</td>\n",
       "      <td>1.0</td>\n",
       "      <td>78.0</td>\n",
       "      <td>88.0</td>\n",
       "      <td>77.0</td>\n",
       "      <td>\"B-\"</td>\n",
       "      <td>212.0</td>\n",
       "      <td>53.00</td>\n",
       "    </tr>\n",
       "    <tr>\n",
       "      <th>13</th>\n",
       "      <td>Franklin</td>\n",
       "      <td>\"Benny\"</td>\n",
       "      <td>\"234-56-2890\"</td>\n",
       "      <td>50.0</td>\n",
       "      <td>1.0</td>\n",
       "      <td>90.0</td>\n",
       "      <td>80.0</td>\n",
       "      <td>90.0</td>\n",
       "      <td>\"B-\"</td>\n",
       "      <td>221.0</td>\n",
       "      <td>55.25</td>\n",
       "    </tr>\n",
       "    <tr>\n",
       "      <th>14</th>\n",
       "      <td>George</td>\n",
       "      <td>\"Boy\"</td>\n",
       "      <td>\"345-67-3901\"</td>\n",
       "      <td>40.0</td>\n",
       "      <td>1.0</td>\n",
       "      <td>11.0</td>\n",
       "      <td>-1.0</td>\n",
       "      <td>4.0</td>\n",
       "      <td>\"B\"</td>\n",
       "      <td>51.0</td>\n",
       "      <td>12.75</td>\n",
       "    </tr>\n",
       "    <tr>\n",
       "      <th>15</th>\n",
       "      <td>Heffalump</td>\n",
       "      <td>\"Harvey\"</td>\n",
       "      <td>\"632-79-9439\"</td>\n",
       "      <td>30.0</td>\n",
       "      <td>1.0</td>\n",
       "      <td>20.0</td>\n",
       "      <td>30.0</td>\n",
       "      <td>40.0</td>\n",
       "      <td>\"C\"</td>\n",
       "      <td>81.0</td>\n",
       "      <td>20.25</td>\n",
       "    </tr>\n",
       "  </tbody>\n",
       "</table>\n",
       "</div>"
      ],
      "text/plain": [
       "    Last name        First name                    SSN  Test1  Test2  Test3  \\\n",
       "0     Alfalfa        \"Aloysius\"          \"123-45-6789\"   40.0   90.0  100.0   \n",
       "1      Alfred      \"University\"          \"123-12-1234\"   41.0   97.0   96.0   \n",
       "2       Gerty          \"Gramma\"          \"567-89-0123\"   41.0   80.0   60.0   \n",
       "3     Android        \"Electric\"          \"087-65-4321\"   42.0   23.0   36.0   \n",
       "4     Bumpkin            \"Fred\"          \"456-78-9012\"   43.0   78.0   88.0   \n",
       "5      Rubble           \"Betty\"          \"234-56-7890\"   44.0   90.0   80.0   \n",
       "6      Noshow           \"Cecil\"          \"345-67-8901\"   45.0   11.0   -1.0   \n",
       "7        Buff             \"Bif\"          \"632-79-9939\"   46.0   20.0   30.0   \n",
       "8     Airpump          \"Andrew\"          \"223-45-6789\"   49.0    1.0   90.0   \n",
       "9      Backus             \"Jim\"          \"143-12-1234\"   48.0    1.0   97.0   \n",
       "10  Carnivore             \"Art\"          \"565-89-0123\"   44.0    1.0   80.0   \n",
       "11      Dandy             \"Jim\"          \"087-75-4321\"   47.0    1.0   23.0   \n",
       "12   Elephant             \"Ima\"          \"456-71-9012\"   45.0    1.0   78.0   \n",
       "13   Franklin           \"Benny\"          \"234-56-2890\"   50.0    1.0   90.0   \n",
       "14     George             \"Boy\"          \"345-67-3901\"   40.0    1.0   11.0   \n",
       "15  Heffalump          \"Harvey\"          \"632-79-9439\"   30.0    1.0   20.0   \n",
       "\n",
       "    Test4  Final    Grade  total  average  \n",
       "0    83.0   49.0     \"D-\"  313.0    78.25  \n",
       "1    97.0   48.0     \"D+\"  331.0    82.75  \n",
       "2    40.0   44.0      \"C\"  221.0    55.25  \n",
       "3    45.0   47.0     \"B-\"  146.0    36.50  \n",
       "4    77.0   45.0     \"A-\"  286.0    71.50  \n",
       "5    90.0   46.0     \"C-\"  304.0    76.00  \n",
       "6     4.0   43.0      \"F\"   59.0    14.75  \n",
       "7    40.0   50.0     \"B+\"  136.0    34.00  \n",
       "8   100.0   83.0      \"A\"  240.0    60.00  \n",
       "9    96.0   97.0     \"A+\"  242.0    60.50  \n",
       "10   60.0   40.0     \"D+\"  185.0    46.25  \n",
       "11   36.0   45.0     \"C+\"  107.0    26.75  \n",
       "12   88.0   77.0     \"B-\"  212.0    53.00  \n",
       "13   80.0   90.0     \"B-\"  221.0    55.25  \n",
       "14   -1.0    4.0      \"B\"   51.0    12.75  \n",
       "15   30.0   40.0      \"C\"   81.0    20.25  "
      ]
     },
     "execution_count": 151,
     "metadata": {},
     "output_type": "execute_result"
    }
   ],
   "source": [
    "df"
   ]
  },
  {
   "cell_type": "code",
   "execution_count": null,
   "id": "6f3493a8-28ca-4d98-b32a-104b29e685ff",
   "metadata": {},
   "outputs": [],
   "source": []
  }
 ],
 "metadata": {
  "kernelspec": {
   "display_name": "Python 3 (ipykernel)",
   "language": "python",
   "name": "python3"
  },
  "language_info": {
   "codemirror_mode": {
    "name": "ipython",
    "version": 3
   },
   "file_extension": ".py",
   "mimetype": "text/x-python",
   "name": "python",
   "nbconvert_exporter": "python",
   "pygments_lexer": "ipython3",
   "version": "3.12.2"
  }
 },
 "nbformat": 4,
 "nbformat_minor": 5
}
