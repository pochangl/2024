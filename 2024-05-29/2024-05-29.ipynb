{
 "cells": [
  {
   "cell_type": "markdown",
   "metadata": {},
   "source": [
    "# 基礎班時問 1330"
   ]
  },
  {
   "cell_type": "markdown",
   "metadata": {},
   "source": [
    "問1. 怎麼用python抓share point的資料\n",
    "\n",
    "程式相關問題通常把問題翻譯成英文的簡短句子丟到 google 裡, 第一筆 stack overflow 的資料有 5, 6 成是解答\n",
    "\n",
    "https://stackoverflow.com/questions/53671547/python-download-files-from-sharepoint-site"
   ]
  },
  {
   "cell_type": "markdown",
   "metadata": {},
   "source": [
    "# 影像班時問 1430"
   ]
  },
  {
   "cell_type": "code",
   "execution_count": null,
   "metadata": {},
   "outputs": [],
   "source": [
    "問1.  怎麼使用 GPU 加速 YOLO\n",
    "\n",
    "\n",
    "- 1. 查 torch 版本\n",
    "- 2. 安裝相對應的 CUDA toolkit\n",
    "- 3. 重新安裝 torch 與 cuda 相關的套件\n",
    "\n",
    "https://developer.nvidia.com/cuda-toolkit-archive/\n",
    "https://pytorch.org/get-started/previous-versions/\n",
    "\n",
    "cuda 12.1\n",
    "pytorch 2.2.2\n",
    "會使用以下設定\n",
    "conda install pytorch==2.2.2 torchvision==0.17.2 torchaudio==2.2.2 pytorch-cuda=12.1 -c pytorch -c nvidia\n"
   ]
  },
  {
   "cell_type": "code",
   "execution_count": 3,
   "metadata": {},
   "outputs": [],
   "source": [
    "import torch"
   ]
  },
  {
   "cell_type": "code",
   "execution_count": 22,
   "metadata": {},
   "outputs": [
    {
     "data": {
      "text/plain": [
       "True"
      ]
     },
     "execution_count": 22,
     "metadata": {},
     "output_type": "execute_result"
    }
   ],
   "source": [
    "# 確認 cuda 可以用\n",
    "torch.cuda.is_available()"
   ]
  },
  {
   "cell_type": "code",
   "execution_count": 2,
   "metadata": {},
   "outputs": [],
   "source": [
    "from ultralytics import YOLO"
   ]
  },
  {
   "cell_type": "code",
   "execution_count": null,
   "metadata": {
    "scrolled": true
   },
   "outputs": [],
   "source": [
    "model = YOLO('yolov8n.pt')"
   ]
  },
  {
   "cell_type": "code",
   "execution_count": 21,
   "metadata": {},
   "outputs": [],
   "source": [
    "model = model.to('cuda') # 這裡可以指定 使用 cuda"
   ]
  },
  {
   "cell_type": "markdown",
   "metadata": {},
   "source": [
    "## yolo 模型使用"
   ]
  },
  {
   "cell_type": "code",
   "execution_count": 23,
   "metadata": {},
   "outputs": [],
   "source": [
    "from ultralytics import YOLO\n",
    "model = YOLO('yolov8n.pt')\n",
    "model = model.to('cuda') # 這裡可以指定 使用 cuda\n"
   ]
  },
  {
   "cell_type": "code",
   "execution_count": 25,
   "metadata": {},
   "outputs": [
    {
     "name": "stdout",
     "output_type": "stream",
     "text": [
      "\n",
      "image 1/1 C:\\Users\\Charlie Lee\\workspace\\2024\\2024-05-29\\kaohsiung-traffic.jpg: 480x640 2 persons, 9 cars, 1 motorcycle, 1 bus, 2 trucks, 94.5ms\n",
      "Speed: 3.0ms preprocess, 94.5ms inference, 711.5ms postprocess per image at shape (1, 3, 480, 640)\n"
     ]
    }
   ],
   "source": [
    "results = model(\"kaohsiung-traffic.jpg\")"
   ]
  },
  {
   "cell_type": "code",
   "execution_count": 26,
   "metadata": {},
   "outputs": [],
   "source": [
    "results[0].show()"
   ]
  },
  {
   "cell_type": "markdown",
   "metadata": {},
   "source": [
    "## yolo 模型訓練步驟\n",
    "- 準備資料\n",
    "- 選擇模型\n",
    "- 訓練\n",
    "- 使用模型\n"
   ]
  },
  {
   "cell_type": "code",
   "execution_count": 27,
   "metadata": {},
   "outputs": [],
   "source": [
    "# 選擇模型\n",
    "from ultralytics import YOLO\n",
    "model = YOLO('yolov8n.pt')"
   ]
  },
  {
   "cell_type": "code",
   "execution_count": 28,
   "metadata": {},
   "outputs": [],
   "source": [
    "import os\n",
    "from bs4 import BeautifulSoup\n",
    "\n",
    "def convert_voc_to_yolo(voc_dir, yolo_dir, classes):\n",
    "    # 創建 YOLO 目錄（如果不存在）\n",
    "    if not os.path.exists(yolo_dir):\n",
    "        os.makedirs(yolo_dir)\n",
    "\n",
    "    for filename in os.listdir(voc_dir):\n",
    "        if not filename.endswith('.xml'):\n",
    "            continue\n",
    "\n",
    "        # 解析 XML 文件\n",
    "        xml_path = os.path.join(voc_dir, filename)\n",
    "        with open(xml_path) as f:\n",
    "            data = f.read()\n",
    "        soup = BeautifulSoup(data)\n",
    "\n",
    "        # 獲取圖片尺寸\n",
    "        width = int(soup.find('size').find('width').text)\n",
    "        height = int(soup.find('size').find('height').text)\n",
    "\n",
    "        # 打開 YOLO 格式的標註文件\n",
    "        yolo_path = os.path.join(yolo_dir, filename.replace('.xml', '.txt'))\n",
    "        with open(yolo_path, 'w') as f:\n",
    "            for obj in soup.find_all('object'):\n",
    "                # 獲取物件類別\n",
    "                class_name = obj.find('name').text\n",
    "                if class_name not in classes:\n",
    "                    continue\n",
    "                class_id = classes.index(class_name)\n",
    "\n",
    "                # 獲取邊界框座標\n",
    "                bndbox = obj.find('bndbox')\n",
    "                xmin = int(bndbox.find('xmin').text)\n",
    "                ymin = int(bndbox.find('ymin').text)\n",
    "                xmax = int(bndbox.find('xmax').text)\n",
    "                ymax = int(bndbox.find('ymax').text)\n",
    "\n",
    "                # 轉換為 YOLO 格式\n",
    "                x_center = (xmin + xmax) / 2 / width\n",
    "                y_center = (ymin + ymax) / 2 / height\n",
    "                box_width = (xmax - xmin) / width\n",
    "                box_height = (ymax - ymin) / height\n",
    "\n",
    "                # 寫入 YOLO 格式\n",
    "                f.write(f'{class_id} {x_center} {y_center} {box_width} {box_height}\\n')"
   ]
  },
  {
   "cell_type": "code",
   "execution_count": 30,
   "metadata": {},
   "outputs": [],
   "source": [
    "# 定義類別列表（根據你的 Pascal VOC 資料集）\n",
    "classes = [\"with_mask\", \"without_mask\", \"mask_weared_incorrect\"]  # 替換為你的類別名稱\n",
    "\n",
    "# 設定 Pascal VOC 和 YOLO 目錄\n",
    "voc_directory = 'datasets/annotations'\n",
    "yolo_directory = 'datasets/yolo'\n",
    "\n",
    "# 執行轉換\n",
    "convert_voc_to_yolo(voc_directory, yolo_directory, classes)"
   ]
  },
  {
   "cell_type": "code",
   "execution_count": null,
   "metadata": {
    "scrolled": true
   },
   "outputs": [],
   "source": [
    "model.train(data='mask.yaml', epochs=5)"
   ]
  },
  {
   "cell_type": "code",
   "execution_count": 47,
   "metadata": {},
   "outputs": [],
   "source": [
    "trained_model = YOLO('runs/detect/train42/weights/best.pt')"
   ]
  },
  {
   "cell_type": "code",
   "execution_count": null,
   "metadata": {
    "scrolled": true
   },
   "outputs": [],
   "source": [
    "results = trained_model('Masks_faces_courtesy-of-Ashley-Ruba.jpg')"
   ]
  },
  {
   "cell_type": "code",
   "execution_count": 60,
   "metadata": {},
   "outputs": [],
   "source": [
    "results[0].show()"
   ]
  },
  {
   "cell_type": "markdown",
   "metadata": {},
   "source": [
    "# 綜合時間 1530"
   ]
  },
  {
   "cell_type": "code",
   "execution_count": 62,
   "metadata": {},
   "outputs": [],
   "source": [
    "import pandas as pd\n"
   ]
  },
  {
   "cell_type": "code",
   "execution_count": 83,
   "metadata": {},
   "outputs": [],
   "source": [
    "last_name = 'Todd'\n",
    "all_customers = pd.read_csv('customers.csv')[['customer_id', 'first_name', 'last_name']]\n",
    "customers = all_customers[all_customers['last_name'] == last_name]\n",
    "\n",
    "## https://raw.githubusercontent.com/pochangl/2024/main/2024-05-08/orders.csv\n",
    "orders = pd.read_csv('orders.csv')[['order_id', 'customer_id', 'order_date']]\n",
    "\n",
    "filtered_orders = pd.merge(left=customers, right=orders, on='customer_id')\n"
   ]
  },
  {
   "cell_type": "code",
   "execution_count": 84,
   "metadata": {},
   "outputs": [],
   "source": [
    "groups = filtered_orders.groupby('customer_id').size()"
   ]
  },
  {
   "cell_type": "code",
   "execution_count": 86,
   "metadata": {},
   "outputs": [
    {
     "data": {
      "text/plain": [
       "pandas.core.series.Series"
      ]
     },
     "execution_count": 86,
     "metadata": {},
     "output_type": "execute_result"
    }
   ],
   "source": [
    "type(groups)"
   ]
  },
  {
   "cell_type": "code",
   "execution_count": 87,
   "metadata": {},
   "outputs": [
    {
     "data": {
      "text/plain": [
       "pandas.core.frame.DataFrame"
      ]
     },
     "execution_count": 87,
     "metadata": {},
     "output_type": "execute_result"
    }
   ],
   "source": [
    "groups = groups.reset_index()\n",
    "type(groups)"
   ]
  },
  {
   "cell_type": "code",
   "execution_count": 89,
   "metadata": {},
   "outputs": [],
   "source": [
    "groups.columns = ['customer_id', 'count']"
   ]
  },
  {
   "cell_type": "code",
   "execution_count": 90,
   "metadata": {},
   "outputs": [
    {
     "data": {
      "text/html": [
       "<div>\n",
       "<style scoped>\n",
       "    .dataframe tbody tr th:only-of-type {\n",
       "        vertical-align: middle;\n",
       "    }\n",
       "\n",
       "    .dataframe tbody tr th {\n",
       "        vertical-align: top;\n",
       "    }\n",
       "\n",
       "    .dataframe thead th {\n",
       "        text-align: right;\n",
       "    }\n",
       "</style>\n",
       "<table border=\"1\" class=\"dataframe\">\n",
       "  <thead>\n",
       "    <tr style=\"text-align: right;\">\n",
       "      <th></th>\n",
       "      <th>customer_id</th>\n",
       "      <th>count</th>\n",
       "    </tr>\n",
       "  </thead>\n",
       "  <tbody>\n",
       "    <tr>\n",
       "      <th>0</th>\n",
       "      <td>2</td>\n",
       "      <td>3</td>\n",
       "    </tr>\n",
       "    <tr>\n",
       "      <th>1</th>\n",
       "      <td>440</td>\n",
       "      <td>1</td>\n",
       "    </tr>\n",
       "  </tbody>\n",
       "</table>\n",
       "</div>"
      ],
      "text/plain": [
       "   customer_id  count\n",
       "0            2      3\n",
       "1          440      1"
      ]
     },
     "execution_count": 90,
     "metadata": {},
     "output_type": "execute_result"
    }
   ],
   "source": [
    "groups"
   ]
  },
  {
   "cell_type": "code",
   "execution_count": 93,
   "metadata": {},
   "outputs": [],
   "source": [
    "order_count = pd.merge(left=groups, right=all_customers, on='customer_id')\n",
    "order_count = order_count[['last_name','first_name', 'count']]\n",
    "order_count['name'] = order_count['first_name'] + ' ' + order_count['last_name']"
   ]
  },
  {
   "cell_type": "code",
   "execution_count": 92,
   "metadata": {},
   "outputs": [
    {
     "data": {
      "text/html": [
       "<div>\n",
       "<style scoped>\n",
       "    .dataframe tbody tr th:only-of-type {\n",
       "        vertical-align: middle;\n",
       "    }\n",
       "\n",
       "    .dataframe tbody tr th {\n",
       "        vertical-align: top;\n",
       "    }\n",
       "\n",
       "    .dataframe thead th {\n",
       "        text-align: right;\n",
       "    }\n",
       "</style>\n",
       "<table border=\"1\" class=\"dataframe\">\n",
       "  <thead>\n",
       "    <tr style=\"text-align: right;\">\n",
       "      <th></th>\n",
       "      <th>last_name</th>\n",
       "      <th>first_name</th>\n",
       "      <th>count</th>\n",
       "      <th>name</th>\n",
       "    </tr>\n",
       "  </thead>\n",
       "  <tbody>\n",
       "    <tr>\n",
       "      <th>0</th>\n",
       "      <td>Todd</td>\n",
       "      <td>Kasha</td>\n",
       "      <td>3</td>\n",
       "      <td>Kasha Todd</td>\n",
       "    </tr>\n",
       "    <tr>\n",
       "      <th>1</th>\n",
       "      <td>Todd</td>\n",
       "      <td>Yevette</td>\n",
       "      <td>1</td>\n",
       "      <td>Yevette Todd</td>\n",
       "    </tr>\n",
       "  </tbody>\n",
       "</table>\n",
       "</div>"
      ],
      "text/plain": [
       "  last_name first_name  count          name\n",
       "0      Todd      Kasha      3    Kasha Todd\n",
       "1      Todd    Yevette      1  Yevette Todd"
      ]
     },
     "execution_count": 92,
     "metadata": {},
     "output_type": "execute_result"
    }
   ],
   "source": [
    "order_count"
   ]
  },
  {
   "cell_type": "code",
   "execution_count": null,
   "metadata": {},
   "outputs": [],
   "source": []
  }
 ],
 "metadata": {
  "kernelspec": {
   "display_name": "Python 3 (ipykernel)",
   "language": "python",
   "name": "python3"
  },
  "language_info": {
   "codemirror_mode": {
    "name": "ipython",
    "version": 3
   },
   "file_extension": ".py",
   "mimetype": "text/x-python",
   "name": "python",
   "nbconvert_exporter": "python",
   "pygments_lexer": "ipython3",
   "version": "3.10.14"
  }
 },
 "nbformat": 4,
 "nbformat_minor": 4
}
