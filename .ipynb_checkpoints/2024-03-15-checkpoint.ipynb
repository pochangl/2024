{
 "cells": [
  {
   "cell_type": "markdown",
   "id": "2fcdba72-fd32-4c22-b608-4c4566c1c0fc",
   "metadata": {},
   "source": [
    "# 作業"
   ]
  },
  {
   "cell_type": "markdown",
   "id": "d84a7e32-54a3-4dd8-8953-87b4c1980b65",
   "metadata": {},
   "source": [
    "## 1. a038. 數字翻轉\n",
    "https://zerojudge.tw/ShowProblem?problemid=a038"
   ]
  },
  {
   "cell_type": "markdown",
   "id": "e5f0e016-683c-40da-a65c-3663788e1386",
   "metadata": {},
   "source": [
    "## 2. k860. 重複數字\n",
    "https://zerojudge.tw/ShowProblem?problemid=k860"
   ]
  },
  {
   "cell_type": "markdown",
   "id": "51791cc0-4fe2-4ba1-aacf-f6726509dd9b",
   "metadata": {},
   "source": [
    "## 3. k861. 驗證費氏數列\n",
    "https://zerojudge.tw/ShowProblem?problemid=k861"
   ]
  },
  {
   "cell_type": "code",
   "execution_count": null,
   "id": "e2c2338c-681c-4c78-98ee-c830d8ce2e7c",
   "metadata": {},
   "outputs": [],
   "source": []
  }
 ],
 "metadata": {
  "kernelspec": {
   "display_name": "Python 3 (ipykernel)",
   "language": "python",
   "name": "python3"
  },
  "language_info": {
   "codemirror_mode": {
    "name": "ipython",
    "version": 3
   },
   "file_extension": ".py",
   "mimetype": "text/x-python",
   "name": "python",
   "nbconvert_exporter": "python",
   "pygments_lexer": "ipython3",
   "version": "3.12.2"
  }
 },
 "nbformat": 4,
 "nbformat_minor": 5
}
