


# 圖
lena1 = "https://upload.wikimedia.org/wikipedia/en/7/7d/Lenna_%28test_image%29.png"


import numpy as np






