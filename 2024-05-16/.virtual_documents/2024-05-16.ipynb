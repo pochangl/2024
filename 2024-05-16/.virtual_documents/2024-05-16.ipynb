





# 圖
lena_url = "https://upload.wikimedia.org/wikipedia/en/7/7d/Lenna_%28test_image%29.png"
moon_url = "https://upload.wikimedia.org/wikipedia/commons/e/e1/FullMoon2010.jpg"


import numpy as np











a = np.array([1, 2, 3, 4])
b = np.array([7, 8, 9, 10])


a + b












