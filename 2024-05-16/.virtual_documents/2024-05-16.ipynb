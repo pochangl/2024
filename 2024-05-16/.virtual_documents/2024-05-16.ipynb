





# 圖
lena_url = "https://upload.wikimedia.org/wikipedia/en/7/7d/Lenna_%28test_image%29.png"
moon_url = "https://upload.wikimedia.org/wikipedia/commons/e/e1/FullMoon2010.jpg"


import numpy as np











a = np.array([1, 2, 3, 4])
b = np.array([7, 8, 9, 10])


a + b





a = np.array([1, 2, 3, 4])





a[2]


a = np.array([1, 2, 3, 4, 5])





start = 2 - 1
end = 4

a[start: end]
a[1: 4]
a[1: 1 + 3]
# 都一樣


img = np.arange(3*3*3).reshape((3, 3, 3))
img





red = img[:, :, 0]
red





a = np.arange(100)
a





np.clip(a, a_min=30, a_max=70)





img = np.arange(3*3*3).reshape((3, 3, 3))
img





img.ravel()


img.reshape((27,))








!curl -O https://upload.wikimedia.org/wikipedia/en/7/7d/Lenna_%28test_image%29.png







