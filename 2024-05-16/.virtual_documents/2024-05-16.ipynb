








# 圖
lena_url = "https://upload.wikimedia.org/wikipedia/en/7/7d/Lenna_%28test_image%29.png"
moon_url = "https://upload.wikimedia.org/wikipedia/commons/e/e1/FullMoon2010.jpg"


import numpy as np











a = np.array([1, 2, 3, 4])
b = np.array([7, 8, 9, 10])


a + b





a = np.array([1, 2, 3, 4])





a[2]


a = np.array([1, 2, 3, 4, 5])





start = 2 - 1
end = 4

a[start: end]
a[1: 4]
a[1: 1 + 3]
# 都一樣


img = np.arange(3*3*3).reshape((3, 3, 3))
img





red = img[:, :, 0]
red





a = np.arange(100)
a





np.clip(a, a_min=30, a_max=70)





img = np.arange(3*3*3).reshape((3, 3, 3))
img





img.ravel()


img.reshape((27,))








!curl -O https://upload.wikimedia.org/wikipedia/en/7/7d/Lenna_%28test_image%29.png
!curl -O https://upload.wikimedia.org/wikipedia/commons/e/e1/FullMoon2010.jpg


使用任意方法開啟檔案
opencv
pillow
skimage


# pillow
from PIL import Image
pil_img = Image.open('lena.png')


# open cv
import cv2
cv_img = cv2.imread('lena.png')


# sci-kit image
import skimage as ski
sk_img = ski.io.imread('lena.png')





使用任意方法顯示圖案
jupyter, cv2, matplotlib, plotly express


# jupyter, 只適用 pillow 的圖檔
pil_img


# open cv 的作法, 適用於 np.array 
cv2.imshow('title', cv_img)
cv2.waitKey(0)
cv2.destroyAllWindows()


# matplotlib
from matplotlib import pyplot as plt
plt.imshow(sk_img)


# plotly express
import plotly.express as px
px.imshow(sk_img)








pil_pen = Image.open('pen.jpg')


pil_pen.size


# thumbnail 會等比縮放
img = pil_pen.copy()
size = (50, 50)
img.thumbnail(size)
print(img.size)
img



使用 resize 把圖片縮放到 50x50


img = pil_pen.copy()
size = (50, 50)
resized = img.resize(size)
print(resized.size)
resized


img = pil_pen.copy()
print(img.size)
img.thumbnail((50, 50))
print(img.size)
img.thumbnail((100, 100))
print(img.size)


img = pil_pen.copy()
print(img.size)
img = img.resize((50, 50))
print(img.size)
img = img.resize((100, 100))
print(img.size)
img











print(pil_img.rotate(-45).size)
print(pil_img.size)
pil_img.rotate(-45)


print(pil_img.rotate(45, expand=True).size)
pil_img.rotate(45, expand=True)


pil_img.rotate(45, expand=True, fillcolor='green')


*






