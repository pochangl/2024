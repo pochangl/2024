


# 圖
lena1 = "https://upload.wikimedia.org/wikipedia/en/7/7d/Lenna_%28test_image%29.png"


import nump as np



