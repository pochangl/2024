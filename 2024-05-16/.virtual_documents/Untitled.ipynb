'l = np.arange(3*3*3)
