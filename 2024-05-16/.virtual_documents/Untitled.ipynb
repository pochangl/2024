import numpy as np


l = np.arange(3*3*3).reshape((3, 3, 3))


l


l.reshape((3, 3, 3))


l.reshape((3, 9))


l.reshape((9, 3))


l


l.reshape((3, 3, 3))[:, :, 0]


c = l.copy()
c


c[:,:, 0], c[:,:, 2] = l[:, :
