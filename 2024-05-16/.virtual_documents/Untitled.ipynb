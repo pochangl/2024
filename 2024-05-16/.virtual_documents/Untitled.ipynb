import numpy as np


l = np.arange(3*3*3).reshape((3, 3, 3))


l


l.reshape((3, 3, 3))


l.reshape((3, 9))


l.reshape((9, 3))


l


l.reshape((3, 3, 3))[:, :, 0]


c = l.copy()
c





a = c[:, :, 2].copy()
b = c[:, :, 0].copy()
c[:,:, 0], c[:,:, 2] = a, b


c


a


b


c



