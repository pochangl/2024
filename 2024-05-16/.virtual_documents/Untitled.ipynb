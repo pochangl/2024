import numpy as np


l = np.arange(3*3*3)


l


l.reshape((3, 3, 3))


l.reshape((3, 9))


l.reshape((9, 3))


l


l.reshape((3, 3, 3))
