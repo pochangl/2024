{
 "cells": [
  {
   "cell_type": "code",
   "execution_count": 2,
   "id": "4e4cf769-ec5d-40c9-89f6-04c86958ea9d",
   "metadata": {},
   "outputs": [],
   "source": [
    "import numpy as np"
   ]
  },
  {
   "cell_type": "code",
   "execution_count": 12,
   "id": "409c6411-e5f6-4804-bfbf-be3182959f5a",
   "metadata": {},
   "outputs": [],
   "source": [
    "l = np.arange(3*3*3).reshape((3, 3, 3))"
   ]
  },
  {
   "cell_type": "code",
   "execution_count": 5,
   "id": "9c5a6819-de37-4da1-b095-ab1b7c9a6f05",
   "metadata": {},
   "outputs": [
    {
     "data": {
      "text/plain": [
       "array([ 0,  1,  2,  3,  4,  5,  6,  7,  8,  9, 10, 11, 12, 13, 14, 15, 16,\n",
       "       17, 18, 19, 20, 21, 22, 23, 24, 25, 26])"
      ]
     },
     "execution_count": 5,
     "metadata": {},
     "output_type": "execute_result"
    }
   ],
   "source": [
    "l"
   ]
  },
  {
   "cell_type": "code",
   "execution_count": 6,
   "id": "c555fb24-411e-4cbb-a935-f0bcfae6d2d3",
   "metadata": {},
   "outputs": [
    {
     "data": {
      "text/plain": [
       "array([[[ 0,  1,  2],\n",
       "        [ 3,  4,  5],\n",
       "        [ 6,  7,  8]],\n",
       "\n",
       "       [[ 9, 10, 11],\n",
       "        [12, 13, 14],\n",
       "        [15, 16, 17]],\n",
       "\n",
       "       [[18, 19, 20],\n",
       "        [21, 22, 23],\n",
       "        [24, 25, 26]]])"
      ]
     },
     "execution_count": 6,
     "metadata": {},
     "output_type": "execute_result"
    }
   ],
   "source": [
    "l.reshape((3, 3, 3))"
   ]
  },
  {
   "cell_type": "code",
   "execution_count": 7,
   "id": "b7528c4d-9409-4e8f-aa99-d51f1fe20d33",
   "metadata": {},
   "outputs": [
    {
     "data": {
      "text/plain": [
       "array([[ 0,  1,  2,  3,  4,  5,  6,  7,  8],\n",
       "       [ 9, 10, 11, 12, 13, 14, 15, 16, 17],\n",
       "       [18, 19, 20, 21, 22, 23, 24, 25, 26]])"
      ]
     },
     "execution_count": 7,
     "metadata": {},
     "output_type": "execute_result"
    }
   ],
   "source": [
    "l.reshape((3, 9))"
   ]
  },
  {
   "cell_type": "code",
   "execution_count": 8,
   "id": "3fd72d61-ee7d-4dd7-93ba-3da6c6ee9684",
   "metadata": {},
   "outputs": [
    {
     "data": {
      "text/plain": [
       "array([[ 0,  1,  2],\n",
       "       [ 3,  4,  5],\n",
       "       [ 6,  7,  8],\n",
       "       [ 9, 10, 11],\n",
       "       [12, 13, 14],\n",
       "       [15, 16, 17],\n",
       "       [18, 19, 20],\n",
       "       [21, 22, 23],\n",
       "       [24, 25, 26]])"
      ]
     },
     "execution_count": 8,
     "metadata": {},
     "output_type": "execute_result"
    }
   ],
   "source": [
    "l.reshape((9, 3))"
   ]
  },
  {
   "cell_type": "code",
   "execution_count": 9,
   "id": "51e34f6e-b5de-4146-9bb5-f90467cc9fec",
   "metadata": {},
   "outputs": [
    {
     "data": {
      "text/plain": [
       "array([ 0,  1,  2,  3,  4,  5,  6,  7,  8,  9, 10, 11, 12, 13, 14, 15, 16,\n",
       "       17, 18, 19, 20, 21, 22, 23, 24, 25, 26])"
      ]
     },
     "execution_count": 9,
     "metadata": {},
     "output_type": "execute_result"
    }
   ],
   "source": [
    "l"
   ]
  },
  {
   "cell_type": "code",
   "execution_count": 10,
   "id": "973fbeba-8bd8-4bc1-825b-1046d9c24333",
   "metadata": {},
   "outputs": [
    {
     "data": {
      "text/plain": [
       "array([[ 0,  3,  6],\n",
       "       [ 9, 12, 15],\n",
       "       [18, 21, 24]])"
      ]
     },
     "execution_count": 10,
     "metadata": {},
     "output_type": "execute_result"
    }
   ],
   "source": [
    "l.reshape((3, 3, 3))[:, :, 0]"
   ]
  },
  {
   "cell_type": "code",
   "execution_count": 18,
   "id": "c9faefa2-05a3-4e50-aaf8-77cf6a64435e",
   "metadata": {},
   "outputs": [
    {
     "data": {
      "text/plain": [
       "array([[[ 0,  1,  2],\n",
       "        [ 3,  4,  5],\n",
       "        [ 6,  7,  8]],\n",
       "\n",
       "       [[ 9, 10, 11],\n",
       "        [12, 13, 14],\n",
       "        [15, 16, 17]],\n",
       "\n",
       "       [[18, 19, 20],\n",
       "        [21, 22, 23],\n",
       "        [24, 25, 26]]])"
      ]
     },
     "execution_count": 18,
     "metadata": {},
     "output_type": "execute_result"
    }
   ],
   "source": [
    "c = l.copy()\n",
    "c"
   ]
  },
  {
   "cell_type": "code",
   "execution_count": 16,
   "id": "4274edff-634d-4c4b-910c-686dbf55970b",
   "metadata": {},
   "outputs": [],
   "source": [
    "b = c[:, :, 2]\n",
    "c = \n",
    "c[:,:, 0], c[:,:, 2] = c[:, :, 2], c[:,:, 0]"
   ]
  },
  {
   "cell_type": "code",
   "execution_count": 17,
   "id": "c3e4c7d1-4e07-47ba-a777-4c3056c8a08b",
   "metadata": {},
   "outputs": [
    {
     "data": {
      "text/plain": [
       "array([[[ 2,  1,  2],\n",
       "        [ 5,  4,  5],\n",
       "        [ 8,  7,  8]],\n",
       "\n",
       "       [[11, 10, 11],\n",
       "        [14, 13, 14],\n",
       "        [17, 16, 17]],\n",
       "\n",
       "       [[20, 19, 20],\n",
       "        [23, 22, 23],\n",
       "        [26, 25, 26]]])"
      ]
     },
     "execution_count": 17,
     "metadata": {},
     "output_type": "execute_result"
    }
   ],
   "source": [
    "c"
   ]
  },
  {
   "cell_type": "code",
   "execution_count": null,
   "id": "9791de3a-b442-4c95-8d42-8d0e083a5567",
   "metadata": {},
   "outputs": [],
   "source": []
  }
 ],
 "metadata": {
  "kernelspec": {
   "display_name": "Python 3 (ipykernel)",
   "language": "python",
   "name": "python3"
  },
  "language_info": {
   "codemirror_mode": {
    "name": "ipython",
    "version": 3
   },
   "file_extension": ".py",
   "mimetype": "text/x-python",
   "name": "python",
   "nbconvert_exporter": "python",
   "pygments_lexer": "ipython3",
   "version": "3.8.10"
  }
 },
 "nbformat": 4,
 "nbformat_minor": 5
}
