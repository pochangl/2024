{
 "cells": [
  {
   "cell_type": "markdown",
   "metadata": {},
   "source": [
    "前面的課\n",
    "\n",
    "https://github.com/vcdemy/20240328/blob/main/20240328%E7%AD%86%E8%A8%98.ipynb\n",
    "\n",
    "https://github.com/vcdemy/20240411/blob/main/20240411.ipynb\n",
    "\n",
    "https://github.com/vcdemy/20240418/blob/main/20240418%E7%AD%86%E8%A8%98.ipynb\n",
    "\n",
    "https://github.com/vcdemy/20240425/blob/main/20240425%E7%AD%86%E8%A8%98.ipynb"
   ]
  },
  {
   "cell_type": "markdown",
   "metadata": {},
   "source": [
    "\n",
    "* numpy\n",
    "    * 基本運算\n",
    "    * indexing\n",
    "    * slicing\n",
    "    * clip\n",
    "    * ravel\n",
    "* 影像處理基本操作\n",
    "    * 開啟檔案\n",
    "        * PIL\n",
    "        * skimage\n",
    "        * cv2\n",
    "    * 圖片縮放\n",
    "        * thumbnail\n",
    "        * resize\n",
    "    * 圖片旋轉\n",
    "    * 灰階轉換\n",
    "* 影像處理再階一點點\n",
    "    * 裁切\n",
    "    * 貼圖\n",
    "    * 嵌字\n",
    "    * 圖層操作\n",
    "    * histogram\n",
    "    * thresholding"
   ]
  },
  {
   "cell_type": "code",
   "execution_count": 5,
   "metadata": {},
   "outputs": [],
   "source": [
    "# 圖\n",
    "lena_url = \"https://upload.wikimedia.org/wikipedia/en/7/7d/Lenna_%28test_image%29.png\"\n",
    "moon_url = \"https://upload.wikimedia.org/wikipedia/commons/e/e1/FullMoon2010.jpg\""
   ]
  },
  {
   "cell_type": "code",
   "execution_count": 3,
   "metadata": {},
   "outputs": [],
   "source": [
    "import numpy as np"
   ]
  },
  {
   "cell_type": "code",
   "execution_count": null,
   "metadata": {},
   "outputs": [],
   "source": []
  },
  {
   "cell_type": "markdown",
   "metadata": {},
   "source": [
    "## 四則運算"
   ]
  },
  {
   "cell_type": "code",
   "execution_count": 6,
   "metadata": {},
   "outputs": [],
   "source": [
    "a = np.array([1, 2, 3, 4])\n",
    "b = np.array([7, 8, 9, 10])"
   ]
  },
  {
   "cell_type": "code",
   "execution_count": 7,
   "metadata": {},
   "outputs": [
    {
     "data": {
      "text/plain": [
       "array([ 8, 10, 12, 14])"
      ]
     },
     "execution_count": 7,
     "metadata": {},
     "output_type": "execute_result"
    }
   ],
   "source": [
    "a + b"
   ]
  },
  {
   "cell_type": "markdown",
   "metadata": {},
   "source": [
    "\n",
    "* numpy\n",
    "    * 基本運算\n",
    "    * indexing\n",
    "    * slicing\n",
    "    * clip\n",
    "    * ravel\n",
    "* 影像處理基本操作\n",
    "    * 開啟檔案\n",
    "        * PIL\n",
    "        * skimage\n",
    "        * cv2\n",
    "    * 圖片縮放\n",
    "        * thumbnail\n",
    "        * resize\n",
    "    * 圖片旋轉\n",
    "    * 灰階轉換\n",
    "* 影像處理再階一點點\n",
    "    * 裁切\n",
    "    * 貼圖\n",
    "    * 嵌字\n",
    "    * 圖層操作\n",
    "    * histogram\n",
    "    * thresholding"
   ]
  }
 ],
 "metadata": {
  "kernelspec": {
   "display_name": "Python 3 (ipykernel)",
   "language": "python",
   "name": "python3"
  },
  "language_info": {
   "codemirror_mode": {
    "name": "ipython",
    "version": 3
   },
   "file_extension": ".py",
   "mimetype": "text/x-python",
   "name": "python",
   "nbconvert_exporter": "python",
   "pygments_lexer": "ipython3",
   "version": "3.8.10"
  }
 },
 "nbformat": 4,
 "nbformat_minor": 4
}
