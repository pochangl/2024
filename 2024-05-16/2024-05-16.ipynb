{
 "cells": [
  {
   "cell_type": "markdown",
   "metadata": {},
   "source": [
    "\n",
    "* numpy\n",
    "    * 基本運算\n",
    "    * indexing\n",
    "    * slicing\n",
    "* 影像處理基本操作\n",
    "    * 開啟檔案\n",
    "        * PIL\n",
    "        * skimage\n",
    "        * cv2\n",
    "    * 圖片縮放\n",
    "        * thumbnail\n",
    "        * resize\n",
    "    * 圖片旋轉\n",
    "    * 灰階轉換\n",
    "* 影像處理再階一點點\n",
    "    * 裁切\n",
    "    * 貼圖\n",
    "    * 嵌字\n",
    "    * 圖層操作\n",
    "    * histogram"
   ]
  },
  {
   "cell_type": "markdown",
   "metadata": {},
   "source": []
  }
 ],
 "metadata": {
  "kernelspec": {
   "display_name": "Python 3 (ipykernel)",
   "language": "python",
   "name": "python3"
  },
  "language_info": {
   "codemirror_mode": {
    "name": "ipython",
    "version": 3
   },
   "file_extension": ".py",
   "mimetype": "text/x-python",
   "name": "python",
   "nbconvert_exporter": "python",
   "pygments_lexer": "ipython3",
   "version": "3.8.10"
  }
 },
 "nbformat": 4,
 "nbformat_minor": 4
}
