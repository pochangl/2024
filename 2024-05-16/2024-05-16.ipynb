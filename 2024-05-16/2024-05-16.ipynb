{
 "cells": [
  {
   "cell_type": "markdown",
   "metadata": {},
   "source": [
    "Slido\n",
    "\n",
    "https://app.sli.do/event/3SUPDfwYUh2KuZQkGAyXqA"
   ]
  },
  {
   "cell_type": "markdown",
   "metadata": {},
   "source": [
    "前面的課\n",
    "\n",
    "https://github.com/vcdemy/20240328/blob/main/20240328%E7%AD%86%E8%A8%98.ipynb\n",
    "\n",
    "https://github.com/vcdemy/20240411/blob/main/20240411.ipynb\n",
    "\n",
    "https://github.com/vcdemy/20240418/blob/main/20240418%E7%AD%86%E8%A8%98.ipynb\n",
    "\n",
    "https://github.com/vcdemy/20240425/blob/main/20240425%E7%AD%86%E8%A8%98.ipynb"
   ]
  },
  {
   "cell_type": "markdown",
   "metadata": {},
   "source": [
    "\n",
    "* numpy\n",
    "    * 基本運算\n",
    "    * indexing\n",
    "    * slicing\n",
    "    * clip\n",
    "    * ravel\n",
    "* 影像處理基本操作\n",
    "    * 開啟檔案\n",
    "        * PIL\n",
    "        * skimage\n",
    "        * cv2\n",
    "    * 圖片縮放\n",
    "        * thumbnail\n",
    "        * resize\n",
    "    * 圖片旋轉\n",
    "    * 灰階轉換\n",
    "* 影像處理再階一點點\n",
    "    * 裁切\n",
    "    * 貼圖\n",
    "    * 嵌字\n",
    "    * 圖層操作\n",
    "    * histogram\n",
    "    * thresholding"
   ]
  },
  {
   "cell_type": "code",
   "execution_count": null,
   "metadata": {},
   "outputs": [],
   "source": [
    "# 圖\n",
    "lena_url = \"https://upload.wikimedia.org/wikipedia/en/7/7d/Lenna_%28test_image%29.png\"\n",
    "moon_url = \"https://upload.wikimedia.org/wikipedia/commons/e/e1/FullMoon2010.jpg\""
   ]
  },
  {
   "cell_type": "code",
   "execution_count": null,
   "metadata": {},
   "outputs": [],
   "source": [
    "import numpy as np"
   ]
  },
  {
   "cell_type": "code",
   "execution_count": null,
   "metadata": {},
   "outputs": [],
   "source": []
  },
  {
   "cell_type": "markdown",
   "metadata": {},
   "source": [
    "# numpy"
   ]
  },
  {
   "cell_type": "markdown",
   "metadata": {},
   "source": [
    "## 四則運算"
   ]
  },
  {
   "cell_type": "code",
   "execution_count": null,
   "metadata": {},
   "outputs": [],
   "source": [
    "a = np.array([1, 2, 3, 4])\n",
    "b = np.array([7, 8, 9, 10])"
   ]
  },
  {
   "cell_type": "code",
   "execution_count": null,
   "metadata": {},
   "outputs": [],
   "source": [
    "a + b"
   ]
  },
  {
   "cell_type": "markdown",
   "metadata": {},
   "source": [
    "## indexing"
   ]
  },
  {
   "cell_type": "code",
   "execution_count": null,
   "metadata": {},
   "outputs": [],
   "source": [
    "a = np.array([1, 2, 3, 4])"
   ]
  },
  {
   "cell_type": "raw",
   "metadata": {},
   "source": [
    "請取出第 3 個元素"
   ]
  },
  {
   "cell_type": "code",
   "execution_count": null,
   "metadata": {
    "scrolled": true
   },
   "outputs": [],
   "source": [
    "a[2]"
   ]
  },
  {
   "cell_type": "code",
   "execution_count": null,
   "metadata": {},
   "outputs": [],
   "source": [
    "a = np.array([1, 2, 3, 4, 5])"
   ]
  },
  {
   "cell_type": "raw",
   "metadata": {},
   "source": [
    "取出第 2 個到第 4 個數字"
   ]
  },
  {
   "cell_type": "code",
   "execution_count": null,
   "metadata": {
    "scrolled": true
   },
   "outputs": [],
   "source": [
    "start = 2 - 1\n",
    "end = 4\n",
    "\n",
    "a[start: end]\n",
    "a[1: 4]\n",
    "a[1: 1 + 3]\n",
    "# 都一樣"
   ]
  },
  {
   "cell_type": "code",
   "execution_count": null,
   "metadata": {},
   "outputs": [],
   "source": [
    "img = np.arange(3*3*3).reshape((3, 3, 3))\n",
    "img"
   ]
  },
  {
   "cell_type": "raw",
   "metadata": {},
   "source": [
    "取出紅色圖層"
   ]
  },
  {
   "cell_type": "code",
   "execution_count": null,
   "metadata": {},
   "outputs": [],
   "source": [
    "red = img[:, :, 0]\n",
    "red"
   ]
  },
  {
   "cell_type": "markdown",
   "metadata": {},
   "source": [
    "## Clip"
   ]
  },
  {
   "cell_type": "code",
   "execution_count": null,
   "metadata": {},
   "outputs": [],
   "source": [
    "a = np.arange(100)\n",
    "a"
   ]
  },
  {
   "cell_type": "raw",
   "metadata": {},
   "source": [
    "試著把 30 以下或 100 以上的數字 clip 掉"
   ]
  },
  {
   "cell_type": "code",
   "execution_count": null,
   "metadata": {
    "scrolled": true
   },
   "outputs": [],
   "source": [
    "np.clip(a, a_min=30, a_max=70)"
   ]
  },
  {
   "cell_type": "markdown",
   "metadata": {},
   "source": [
    "## ravel "
   ]
  },
  {
   "cell_type": "code",
   "execution_count": null,
   "metadata": {},
   "outputs": [],
   "source": [
    "img = np.arange(3*3*3).reshape((3, 3, 3))\n",
    "img"
   ]
  },
  {
   "cell_type": "raw",
   "metadata": {},
   "source": [
    "怎麼把它變成一維的"
   ]
  },
  {
   "cell_type": "code",
   "execution_count": null,
   "metadata": {},
   "outputs": [],
   "source": [
    "img.ravel()"
   ]
  },
  {
   "cell_type": "code",
   "execution_count": null,
   "metadata": {},
   "outputs": [],
   "source": [
    "img.reshape((27,))"
   ]
  },
  {
   "cell_type": "markdown",
   "metadata": {},
   "source": [
    "# 影像處理的基本操作"
   ]
  },
  {
   "cell_type": "markdown",
   "metadata": {},
   "source": [
    "## 開啟檔案"
   ]
  },
  {
   "cell_type": "code",
   "execution_count": null,
   "metadata": {
    "scrolled": true
   },
   "outputs": [],
   "source": [
    "!curl -O https://upload.wikimedia.org/wikipedia/en/7/7d/Lenna_%28test_image%29.png\n",
    "!curl -O https://upload.wikimedia.org/wikipedia/commons/e/e1/FullMoon2010.jpg"
   ]
  },
  {
   "cell_type": "code",
   "execution_count": null,
   "metadata": {},
   "outputs": [],
   "source": [
    "使用任意方法開啟檔案\n",
    "opencv\n",
    "pillow\n",
    "skimage"
   ]
  },
  {
   "cell_type": "code",
   "execution_count": null,
   "metadata": {},
   "outputs": [],
   "source": [
    "# pillow\n",
    "from PIL import Image\n",
    "pil_img = Image.open('lena.png')"
   ]
  },
  {
   "cell_type": "code",
   "execution_count": null,
   "metadata": {},
   "outputs": [],
   "source": [
    "# open cv\n",
    "import cv2\n",
    "cv_img = cv2.imread('lena.png')"
   ]
  },
  {
   "cell_type": "code",
   "execution_count": null,
   "metadata": {},
   "outputs": [],
   "source": [
    "# sci-kit image\n",
    "import skimage as ski\n",
    "sk_img = ski.io.imread('lena.png')"
   ]
  },
  {
   "cell_type": "markdown",
   "metadata": {},
   "source": [
    "## 顯示圖案"
   ]
  },
  {
   "cell_type": "code",
   "execution_count": null,
   "metadata": {},
   "outputs": [],
   "source": [
    "使用任意方法顯示圖案\n",
    "jupyter, cv2, matplotlib, plotly express"
   ]
  },
  {
   "cell_type": "code",
   "execution_count": null,
   "metadata": {},
   "outputs": [],
   "source": [
    "# jupyter, 只適用 pillow 的圖檔\n",
    "pil_img"
   ]
  },
  {
   "cell_type": "code",
   "execution_count": null,
   "metadata": {},
   "outputs": [],
   "source": [
    "# open cv 的作法, 適用於 np.array \n",
    "cv2.imshow('title', cv_img)\n",
    "cv2.waitKey(0)\n",
    "cv2.destroyAllWindows()"
   ]
  },
  {
   "cell_type": "code",
   "execution_count": null,
   "metadata": {},
   "outputs": [],
   "source": [
    "# matplotlib\n",
    "from matplotlib import pyplot as plt\n",
    "plt.imshow(sk_img)"
   ]
  },
  {
   "cell_type": "code",
   "execution_count": null,
   "metadata": {},
   "outputs": [],
   "source": [
    "# plotly express\n",
    "import plotly.express as px\n",
    "px.imshow(sk_img)"
   ]
  },
  {
   "cell_type": "markdown",
   "metadata": {},
   "source": [
    "## 圖片縮放"
   ]
  },
  {
   "cell_type": "raw",
   "metadata": {},
   "source": [
    "做出 50x50 的 thumbnail"
   ]
  },
  {
   "cell_type": "code",
   "execution_count": null,
   "metadata": {},
   "outputs": [],
   "source": [
    "pil_pen = Image.open('pen.jpg')"
   ]
  },
  {
   "cell_type": "code",
   "execution_count": null,
   "metadata": {},
   "outputs": [],
   "source": [
    "pil_pen.size"
   ]
  },
  {
   "cell_type": "code",
   "execution_count": null,
   "metadata": {},
   "outputs": [],
   "source": [
    "# thumbnail 會等比縮放\n",
    "img = pil_pen.copy()\n",
    "size = (50, 50)\n",
    "img.thumbnail(size)\n",
    "print(img.size)\n",
    "img\n"
   ]
  },
  {
   "cell_type": "code",
   "execution_count": null,
   "metadata": {},
   "outputs": [],
   "source": [
    "使用 resize 把圖片縮放到 50x50"
   ]
  },
  {
   "cell_type": "code",
   "execution_count": null,
   "metadata": {},
   "outputs": [],
   "source": [
    "img = pil_pen.copy()\n",
    "size = (50, 50)\n",
    "resized = img.resize(size)\n",
    "print(resized.size)\n",
    "resized"
   ]
  },
  {
   "cell_type": "code",
   "execution_count": null,
   "metadata": {},
   "outputs": [],
   "source": [
    "img = pil_pen.copy()\n",
    "print(img.size)\n",
    "img.thumbnail((50, 50))\n",
    "print(img.size)\n",
    "img.thumbnail((100, 100))\n",
    "print(img.size)"
   ]
  },
  {
   "cell_type": "code",
   "execution_count": null,
   "metadata": {},
   "outputs": [],
   "source": [
    "img = pil_pen.copy()\n",
    "print(img.size)\n",
    "img = img.resize((50, 50))\n",
    "print(img.size)\n",
    "img = img.resize((100, 100))\n",
    "print(img.size)\n",
    "img"
   ]
  },
  {
   "cell_type": "markdown",
   "metadata": {},
   "source": [
    "* thumbnail 的特徵\n",
    "    * 只能縮小\n",
    "    * 等比縮小\n",
    "    * inplace 縮放, 會更動到原圖\n",
    "* resize 的特徵\n",
    "    * 可以放大縮小\n",
    "    * 強制指定 size (不管原圖的比例)\n",
    "    * 不會動到原圖, 會產生新圖"
   ]
  },
  {
   "cell_type": "markdown",
   "metadata": {},
   "source": [
    "## 圖片旋轉"
   ]
  },
  {
   "cell_type": "raw",
   "metadata": {},
   "source": [
    "將圖片旋轉 45 度"
   ]
  },
  {
   "cell_type": "code",
   "execution_count": null,
   "metadata": {},
   "outputs": [],
   "source": [
    "print(pil_img.rotate(-45).size)\n",
    "print(pil_img.size)\n",
    "pil_img.rotate(-45)"
   ]
  },
  {
   "cell_type": "code",
   "execution_count": null,
   "metadata": {},
   "outputs": [],
   "source": [
    "print(pil_img.rotate(45, expand=True).size)\n",
    "pil_img.rotate(45, expand=True)"
   ]
  },
  {
   "cell_type": "code",
   "execution_count": null,
   "metadata": {},
   "outputs": [],
   "source": [
    "pil_img.rotate(45, expand=True, fillcolor='green')"
   ]
  },
  {
   "cell_type": "markdown",
   "metadata": {},
   "source": [
    "* expand=True 會放大圖, 把每個像素都保留\n",
    "* expand=False 圖的長寬不變, 原圖會被截掉\n",
    "* fillcolor 可以指定背景顏色"
   ]
  },
  {
   "cell_type": "markdown",
   "metadata": {},
   "source": [
    "## 灰階處理"
   ]
  },
  {
   "cell_type": "raw",
   "metadata": {},
   "source": [
    "把圖片轉成灰階"
   ]
  },
  {
   "cell_type": "code",
   "execution_count": null,
   "metadata": {},
   "outputs": [],
   "source": [
    "# pillow 作法\n",
    "pil_img.convert('L')"
   ]
  },
  {
   "cell_type": "code",
   "execution_count": null,
   "metadata": {},
   "outputs": [],
   "source": [
    "# scikit image 的作法\n",
    "from skimage.color import rgb2gray\n",
    "sk_img_gray = (rgb2gray(sk_img) * 256).astype(np.uint8)\n",
    "px.imshow(sk_img_gray, color_continuous_scale='gray')"
   ]
  },
  {
   "cell_type": "code",
   "execution_count": null,
   "metadata": {},
   "outputs": [],
   "source": [
    "# open cv 作法\n",
    "gray = cv2.cvtColor(cv_img, cv2.COLOR_BGR2GRAY)\n",
    "print(gray.shape)\n",
    "px.imshow(gray, color_continuous_scale='gray')"
   ]
  },
  {
   "cell_type": "code",
   "execution_count": null,
   "metadata": {},
   "outputs": [],
   "source": [
    "# opencv 作法 2\n",
    "gray2 = cv2.imread('lena.png', cv2.IMREAD_GRAYSCALE)\n",
    "gray2.shape"
   ]
  },
  {
   "cell_type": "markdown",
   "metadata": {},
   "source": [
    "## 存檔"
   ]
  },
  {
   "cell_type": "code",
   "execution_count": null,
   "metadata": {},
   "outputs": [],
   "source": [
    "# pillow 的作法\n",
    "img2 = pil_img.convert('L')\n",
    "img2.save('lena_grey_pil.png')"
   ]
  },
  {
   "cell_type": "code",
   "execution_count": null,
   "metadata": {},
   "outputs": [],
   "source": [
    "# opencv 的作法\n",
    "cv2.imwrite('lena_grey_cv.png', gray2)"
   ]
  },
  {
   "cell_type": "code",
   "execution_count": null,
   "metadata": {},
   "outputs": [],
   "source": [
    "# scikit-image 的作法\n",
    "from skimage.color import gray2rgb\n",
    "ski.io.imsave('lena_grey_sk.png', sk_img_gray)\n"
   ]
  },
  {
   "cell_type": "markdown",
   "metadata": {},
   "source": [
    "# 影像處理再階一點點"
   ]
  },
  {
   "cell_type": "markdown",
   "metadata": {},
   "source": [
    "## 裁切"
   ]
  },
  {
   "cell_type": "raw",
   "metadata": {},
   "source": [
    "將 lena 的臉裁出來"
   ]
  },
  {
   "cell_type": "code",
   "execution_count": null,
   "metadata": {},
   "outputs": [],
   "source": [
    "px.imshow(pil_img)"
   ]
  },
  {
   "cell_type": "code",
   "execution_count": null,
   "metadata": {},
   "outputs": [],
   "source": [
    "left = 180\n",
    "top = 180\n",
    "right = 400\n",
    "bottom = 400\n",
    "box = (left, top, right, bottom)\n",
    "pil_img.crop(box)"
   ]
  },
  {
   "cell_type": "markdown",
   "metadata": {},
   "source": [
    "## 貼圖\n",
    "將圖片(小)嵌到另一個圖片(大)內"
   ]
  },
  {
   "cell_type": "code",
   "execution_count": null,
   "metadata": {},
   "outputs": [],
   "source": [
    "small = pil_pen.copy()\n",
    "small.thumbnail((50, 50))\n",
    "small"
   ]
  },
  {
   "cell_type": "code",
   "execution_count": null,
   "metadata": {},
   "outputs": [],
   "source": [
    "large = pil_img.copy()"
   ]
  },
  {
   "cell_type": "code",
   "execution_count": null,
   "metadata": {},
   "outputs": [],
   "source": [
    "large.paste(small, box=(160, 160))"
   ]
  },
  {
   "cell_type": "code",
   "execution_count": null,
   "metadata": {
    "scrolled": true
   },
   "outputs": [],
   "source": [
    "px.imshow(large)"
   ]
  },
  {
   "cell_type": "markdown",
   "metadata": {},
   "source": [
    "## 嵌字"
   ]
  },
  {
   "cell_type": "raw",
   "metadata": {},
   "source": [
    "在圖片右上角面嵌字"
   ]
  },
  {
   "cell_type": "code",
   "execution_count": null,
   "metadata": {},
   "outputs": [],
   "source": [
    "from PIL import ImageDraw\n",
    "draw = ImageDraw.Draw(large)\n",
    "draw.text((100, 100), 'lena')\n",
    "large"
   ]
  },
  {
   "cell_type": "markdown",
   "metadata": {},
   "source": [
    "## 圖層操作"
   ]
  },
  {
   "cell_type": "code",
   "execution_count": null,
   "metadata": {
    "scrolled": true
   },
   "outputs": [],
   "source": [
    "!curl -O https://raw.githubusercontent.com/pochangl/2024/main/2024-05-16/colors.png"
   ]
  },
  {
   "cell_type": "code",
   "execution_count": 211,
   "metadata": {},
   "outputs": [
    {
     "data": {
      "image/png": "[encoded data removed]",
      "text/plain": [
       "<PIL.PngImagePlugin.PngImageFile image mode=RGBA size=802x799>"
      ]
     },
     "execution_count": 211,
     "metadata": {},
     "output_type": "execute_result"
    }
   ],
   "source": [
    "colors_pil = Image.open('colors.png')\n",
    "colors_pil"
   ]
  },
  {
   "cell_type": "code",
   "execution_count": 204,
   "metadata": {},
   "outputs": [],
   "source": [
    "colors_cv = cv2.imread('colors.png')"
   ]
  },
  {
   "cell_type": "code",
   "execution_count": 206,
   "metadata": {},
   "outputs": [
    {
     "data": {
      "application/vnd.plotly.v1+json": {
       "config": {
        "plotlyServerURL": "https://plot.ly"
       },
       "data": [
        {
         "hovertemplate": "x: %{x}<br>y: %{y}<br>color: [%{z[0]}, %{z[1]}, %{z[2]}]<extra></extra>",
         "name": "0",
         "source": "data:image/png;base64,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",
         "type": "image",
         "xaxis": "x",
         "yaxis": "y"
        }
       ],
       "layout": {
        "autosize": true,
        "margin": {
         "t": 60
        },
        "template": {
         "data": {
          "bar": [
           {
            "error_x": {
             "color": "#2a3f5f"
            },
            "error_y": {
             "color": "#2a3f5f"
            },
            "marker": {
             "line": {
              "color": "#E5ECF6",
              "width": 0.5
             },
             "pattern": {
              "fillmode": "overlay",
              "size": 10,
              "solidity": 0.2
             }
            },
            "type": "bar"
           }
          ],
          "barpolar": [
           {
            "marker": {
             "line": {
              "color": "#E5ECF6",
              "width": 0.5
             },
             "pattern": {
              "fillmode": "overlay",
              "size": 10,
              "solidity": 0.2
             }
            },
            "type": "barpolar"
           }
          ],
          "carpet": [
           {
            "aaxis": {
             "endlinecolor": "#2a3f5f",
             "gridcolor": "white",
             "linecolor": "white",
             "minorgridcolor": "white",
             "startlinecolor": "#2a3f5f"
            },
            "baxis": {
             "endlinecolor": "#2a3f5f",
             "gridcolor": "white",
             "linecolor": "white",
             "minorgridcolor": "white",
             "startlinecolor": "#2a3f5f"
            },
            "type": "carpet"
           }
          ],
          "choropleth": [
           {
            "colorbar": {
             "outlinewidth": 0,
             "ticks": ""
            },
            "type": "choropleth"
           }
          ],
          "contour": [
           {
            "colorbar": {
             "outlinewidth": 0,
             "ticks": ""
            },
            "colorscale": [
             [
              0,
              "#0d0887"
             ],
             [
              0.1111111111111111,
              "#46039f"
             ],
             [
              0.2222222222222222,
              "#7201a8"
             ],
             [
              0.3333333333333333,
              "#9c179e"
             ],
             [
              0.4444444444444444,
              "#bd3786"
             ],
             [
              0.5555555555555556,
              "#d8576b"
             ],
             [
              0.6666666666666666,
              "#ed7953"
             ],
             [
              0.7777777777777778,
              "#fb9f3a"
             ],
             [
              0.8888888888888888,
              "#fdca26"
             ],
             [
              1,
              "#f0f921"
             ]
            ],
            "type": "contour"
           }
          ],
          "contourcarpet": [
           {
            "colorbar": {
             "outlinewidth": 0,
             "ticks": ""
            },
            "type": "contourcarpet"
           }
          ],
          "heatmap": [
           {
            "colorbar": {
             "outlinewidth": 0,
             "ticks": ""
            },
            "colorscale": [
             [
              0,
              "#0d0887"
             ],
             [
              0.1111111111111111,
              "#46039f"
             ],
             [
              0.2222222222222222,
              "#7201a8"
             ],
             [
              0.3333333333333333,
              "#9c179e"
             ],
             [
              0.4444444444444444,
              "#bd3786"
             ],
             [
              0.5555555555555556,
              "#d8576b"
             ],
             [
              0.6666666666666666,
              "#ed7953"
             ],
             [
              0.7777777777777778,
              "#fb9f3a"
             ],
             [
              0.8888888888888888,
              "#fdca26"
             ],
             [
              1,
              "#f0f921"
             ]
            ],
            "type": "heatmap"
           }
          ],
          "heatmapgl": [
           {
            "colorbar": {
             "outlinewidth": 0,
             "ticks": ""
            },
            "colorscale": [
             [
              0,
              "#0d0887"
             ],
             [
              0.1111111111111111,
              "#46039f"
             ],
             [
              0.2222222222222222,
              "#7201a8"
             ],
             [
              0.3333333333333333,
              "#9c179e"
             ],
             [
              0.4444444444444444,
              "#bd3786"
             ],
             [
              0.5555555555555556,
              "#d8576b"
             ],
             [
              0.6666666666666666,
              "#ed7953"
             ],
             [
              0.7777777777777778,
              "#fb9f3a"
             ],
             [
              0.8888888888888888,
              "#fdca26"
             ],
             [
              1,
              "#f0f921"
             ]
            ],
            "type": "heatmapgl"
           }
          ],
          "histogram": [
           {
            "marker": {
             "pattern": {
              "fillmode": "overlay",
              "size": 10,
              "solidity": 0.2
             }
            },
            "type": "histogram"
           }
          ],
          "histogram2d": [
           {
            "colorbar": {
             "outlinewidth": 0,
             "ticks": ""
            },
            "colorscale": [
             [
              0,
              "#0d0887"
             ],
             [
              0.1111111111111111,
              "#46039f"
             ],
             [
              0.2222222222222222,
              "#7201a8"
             ],
             [
              0.3333333333333333,
              "#9c179e"
             ],
             [
              0.4444444444444444,
              "#bd3786"
             ],
             [
              0.5555555555555556,
              "#d8576b"
             ],
             [
              0.6666666666666666,
              "#ed7953"
             ],
             [
              0.7777777777777778,
              "#fb9f3a"
             ],
             [
              0.8888888888888888,
              "#fdca26"
             ],
             [
              1,
              "#f0f921"
             ]
            ],
            "type": "histogram2d"
           }
          ],
          "histogram2dcontour": [
           {
            "colorbar": {
             "outlinewidth": 0,
             "ticks": ""
            },
            "colorscale": [
             [
              0,
              "#0d0887"
             ],
             [
              0.1111111111111111,
              "#46039f"
             ],
             [
              0.2222222222222222,
              "#7201a8"
             ],
             [
              0.3333333333333333,
              "#9c179e"
             ],
             [
              0.4444444444444444,
              "#bd3786"
             ],
             [
              0.5555555555555556,
              "#d8576b"
             ],
             [
              0.6666666666666666,
              "#ed7953"
             ],
             [
              0.7777777777777778,
              "#fb9f3a"
             ],
             [
              0.8888888888888888,
              "#fdca26"
             ],
             [
              1,
              "#f0f921"
             ]
            ],
            "type": "histogram2dcontour"
           }
          ],
          "mesh3d": [
           {
            "colorbar": {
             "outlinewidth": 0,
             "ticks": ""
            },
            "type": "mesh3d"
           }
          ],
          "parcoords": [
           {
            "line": {
             "colorbar": {
              "outlinewidth": 0,
              "ticks": ""
             }
            },
            "type": "parcoords"
           }
          ],
          "pie": [
           {
            "automargin": true,
            "type": "pie"
           }
          ],
          "scatter": [
           {
            "fillpattern": {
             "fillmode": "overlay",
             "size": 10,
             "solidity": 0.2
            },
            "type": "scatter"
           }
          ],
          "scatter3d": [
           {
            "line": {
             "colorbar": {
              "outlinewidth": 0,
              "ticks": ""
             }
            },
            "marker": {
             "colorbar": {
              "outlinewidth": 0,
              "ticks": ""
             }
            },
            "type": "scatter3d"
           }
          ],
          "scattercarpet": [
           {
            "marker": {
             "colorbar": {
              "outlinewidth": 0,
              "ticks": ""
             }
            },
            "type": "scattercarpet"
           }
          ],
          "scattergeo": [
           {
            "marker": {
             "colorbar": {
              "outlinewidth": 0,
              "ticks": ""
             }
            },
            "type": "scattergeo"
           }
          ],
          "scattergl": [
           {
            "marker": {
             "colorbar": {
              "outlinewidth": 0,
              "ticks": ""
             }
            },
            "type": "scattergl"
           }
          ],
          "scattermapbox": [
           {
            "marker": {
             "colorbar": {
              "outlinewidth": 0,
              "ticks": ""
             }
            },
            "type": "scattermapbox"
           }
          ],
          "scatterpolar": [
           {
            "marker": {
             "colorbar": {
              "outlinewidth": 0,
              "ticks": ""
             }
            },
            "type": "scatterpolar"
           }
          ],
          "scatterpolargl": [
           {
            "marker": {
             "colorbar": {
              "outlinewidth": 0,
              "ticks": ""
             }
            },
            "type": "scatterpolargl"
           }
          ],
          "scatterternary": [
           {
            "marker": {
             "colorbar": {
              "outlinewidth": 0,
              "ticks": ""
             }
            },
            "type": "scatterternary"
           }
          ],
          "surface": [
           {
            "colorbar": {
             "outlinewidth": 0,
             "ticks": ""
            },
            "colorscale": [
             [
              0,
              "#0d0887"
             ],
             [
              0.1111111111111111,
              "#46039f"
             ],
             [
              0.2222222222222222,
              "#7201a8"
             ],
             [
              0.3333333333333333,
              "#9c179e"
             ],
             [
              0.4444444444444444,
              "#bd3786"
             ],
             [
              0.5555555555555556,
              "#d8576b"
             ],
             [
              0.6666666666666666,
              "#ed7953"
             ],
             [
              0.7777777777777778,
              "#fb9f3a"
             ],
             [
              0.8888888888888888,
              "#fdca26"
             ],
             [
              1,
              "#f0f921"
             ]
            ],
            "type": "surface"
           }
          ],
          "table": [
           {
            "cells": {
             "fill": {
              "color": "#EBF0F8"
             },
             "line": {
              "color": "white"
             }
            },
            "header": {
             "fill": {
              "color": "#C8D4E3"
             },
             "line": {
              "color": "white"
             }
            },
            "type": "table"
           }
          ]
         },
         "layout": {
          "annotationdefaults": {
           "arrowcolor": "#2a3f5f",
           "arrowhead": 0,
           "arrowwidth": 1
          },
          "autotypenumbers": "strict",
          "coloraxis": {
           "colorbar": {
            "outlinewidth": 0,
            "ticks": ""
           }
          },
          "colorscale": {
           "diverging": [
            [
             0,
             "#8e0152"
            ],
            [
             0.1,
             "#c51b7d"
            ],
            [
             0.2,
             "#de77ae"
            ],
            [
             0.3,
             "#f1b6da"
            ],
            [
             0.4,
             "#fde0ef"
            ],
            [
             0.5,
             "#f7f7f7"
            ],
            [
             0.6,
             "#e6f5d0"
            ],
            [
             0.7,
             "#b8e186"
            ],
            [
             0.8,
             "#7fbc41"
            ],
            [
             0.9,
             "#4d9221"
            ],
            [
             1,
             "#276419"
            ]
           ],
           "sequential": [
            [
             0,
             "#0d0887"
            ],
            [
             0.1111111111111111,
             "#46039f"
            ],
            [
             0.2222222222222222,
             "#7201a8"
            ],
            [
             0.3333333333333333,
             "#9c179e"
            ],
            [
             0.4444444444444444,
             "#bd3786"
            ],
            [
             0.5555555555555556,
             "#d8576b"
            ],
            [
             0.6666666666666666,
             "#ed7953"
            ],
            [
             0.7777777777777778,
             "#fb9f3a"
            ],
            [
             0.8888888888888888,
             "#fdca26"
            ],
            [
             1,
             "#f0f921"
            ]
           ],
           "sequentialminus": [
            [
             0,
             "#0d0887"
            ],
            [
             0.1111111111111111,
             "#46039f"
            ],
            [
             0.2222222222222222,
             "#7201a8"
            ],
            [
             0.3333333333333333,
             "#9c179e"
            ],
            [
             0.4444444444444444,
             "#bd3786"
            ],
            [
             0.5555555555555556,
             "#d8576b"
            ],
            [
             0.6666666666666666,
             "#ed7953"
            ],
            [
             0.7777777777777778,
             "#fb9f3a"
            ],
            [
             0.8888888888888888,
             "#fdca26"
            ],
            [
             1,
             "#f0f921"
            ]
           ]
          },
          "colorway": [
           "#636efa",
           "#EF553B",
           "#00cc96",
           "#ab63fa",
           "#FFA15A",
           "#19d3f3",
           "#FF6692",
           "#B6E880",
           "#FF97FF",
           "#FECB52"
          ],
          "font": {
           "color": "#2a3f5f"
          },
          "geo": {
           "bgcolor": "white",
           "lakecolor": "white",
           "landcolor": "#E5ECF6",
           "showlakes": true,
           "showland": true,
           "subunitcolor": "white"
          },
          "hoverlabel": {
           "align": "left"
          },
          "hovermode": "closest",
          "mapbox": {
           "style": "light"
          },
          "paper_bgcolor": "white",
          "plot_bgcolor": "#E5ECF6",
          "polar": {
           "angularaxis": {
            "gridcolor": "white",
            "linecolor": "white",
            "ticks": ""
           },
           "bgcolor": "#E5ECF6",
           "radialaxis": {
            "gridcolor": "white",
            "linecolor": "white",
            "ticks": ""
           }
          },
          "scene": {
           "xaxis": {
            "backgroundcolor": "#E5ECF6",
            "gridcolor": "white",
            "gridwidth": 2,
            "linecolor": "white",
            "showbackground": true,
            "ticks": "",
            "zerolinecolor": "white"
           },
           "yaxis": {
            "backgroundcolor": "#E5ECF6",
            "gridcolor": "white",
            "gridwidth": 2,
            "linecolor": "white",
            "showbackground": true,
            "ticks": "",
            "zerolinecolor": "white"
           },
           "zaxis": {
            "backgroundcolor": "#E5ECF6",
            "gridcolor": "white",
            "gridwidth": 2,
            "linecolor": "white",
            "showbackground": true,
            "ticks": "",
            "zerolinecolor": "white"
           }
          },
          "shapedefaults": {
           "line": {
            "color": "#2a3f5f"
           }
          },
          "ternary": {
           "aaxis": {
            "gridcolor": "white",
            "linecolor": "white",
            "ticks": ""
           },
           "baxis": {
            "gridcolor": "white",
            "linecolor": "white",
            "ticks": ""
           },
           "bgcolor": "#E5ECF6",
           "caxis": {
            "gridcolor": "white",
            "linecolor": "white",
            "ticks": ""
           }
          },
          "title": {
           "x": 0.05
          },
          "xaxis": {
           "automargin": true,
           "gridcolor": "white",
           "linecolor": "white",
           "ticks": "",
           "title": {
            "standoff": 15
           },
           "zerolinecolor": "white",
           "zerolinewidth": 2
          },
          "yaxis": {
           "automargin": true,
           "gridcolor": "white",
           "linecolor": "white",
           "ticks": "",
           "title": {
            "standoff": 15
           },
           "zerolinecolor": "white",
           "zerolinewidth": 2
          }
         }
        },
        "xaxis": {
         "anchor": "y",
         "autorange": true,
         "domain": [
          0.058347934918648314,
          0.9416520650813517
         ],
         "range": [
          -0.5,
          801.5
         ]
        },
        "yaxis": {
         "anchor": "x",
         "autorange": true,
         "domain": [
          0,
          1
         ],
         "range": [
          798.5,
          -0.5
         ]
        }
       }
      },
      "text/html": [
       "<div>                            <div id=\"fe9f9a70-1ce9-48ac-b416-1cb23affa7a3\" class=\"plotly-graph-div\" style=\"height:525px; width:100%;\"></div>            <script type=\"text/javascript\">                require([\"plotly\"], function(Plotly) {                    window.PLOTLYENV=window.PLOTLYENV || {};                                    if (document.getElementById(\"fe9f9a70-1ce9-48ac-b416-1cb23affa7a3\")) {                    Plotly.newPlot(                        \"fe9f9a70-1ce9-48ac-b416-1cb23affa7a3\",                        [{\"name\":\"0\",\"source\":\"data:image\\u002fpng;base64,iVBORw0KGgoAAAANSUhEUgAAAyIAAAMfCAIAAACly\\u002fR6AAB8B0lEQVR4Xuzdd5geVeE24Huz6QmE3nvvKFURkS6goCIoICpiL6BYUUQFVCzgJ3b9gQgWsKCggIoIiKIiRem9h94ChPTsfn\\u002fExXBINtt33pnnvnJ5hee8oJKdd545c+YMERERERERERERERERERERERERERERERERERERERERERERERERERERERFRZzvvvHMZRUREREQ\\u002fHXDAAVdeeeWuu+5aDkREREREn+28885XdknTioiIiBhIu+++e5pWRERExKDYbbfd0rQiIiIiBkWaVkRERMRgeWHT2nXXXdvKT0VERERE7+22227HH3\\u002f8vN\\u002f\\u002f9Kc\\u002ffdOb3pSaFRERETEw5m9aSM2KiAoYyThGMZqRjKWdMYxkxHyfaZ\\u002fvb5nLnK7fdzCHmcxlBnOYxWymz\\u002feZiIgh8eEPf\\u002figgw6a9\\u002fuRzx+KiBgEY1maZVmKpVmCxZjY9Z8TGN1VqkYxktG0d\\u002f3+uYvB+SuXrmo1TydzmM1cZnX9fl7xmsWzTOWZrv98kid4gkd5nBnz\\u002fTMjIvpn1113fa5jyWxWRAykEazOGqzB6qzKaizP+Pkq1Lxf7Yygves3g\\u002fdV1EkHc5nb9Zs5Xb\\u002fmVbFneYR7uY97uJu7uYeO8p8UEdG9XXfd9Utf+tK8389bm5XZrIjosbauhjTvP8exPhuzIRuyASsNZmHqm7auMtcrndzPzdzEzVzPrV23IOcVtbl0ln9TRDTZ\\u002fB3ryCOPvPDCC6+77rqqfSNGRJWMYHGWZBKLsyzrsj7rsjbL9r6+tK65PMId3MYt3MajPM3TPMnTmf2KaLQXdqx5v0\\u002fNiojnG9N1s28lVmEt1mBlVmTS81dHNVkHT\\u002fEAD3A39\\u002fIQD3Iv9\\u002fB0+fGIqLGFdSypWREBo3kRL2IzVmfZroXqkxhVfDQWZC5TmcITPMLtXMt\\u002f+A+zio9GRK1007EiosFG8BI+yfncz5M8y2w686vfv2bzLE9yP+dxJNtmIjCihnbeeee8YyciGMUkVuBFHMaveeoF5SC\\u002fBvXXs1zIp9mWFTJTGFETBx54YDcdKzcNI2ptMVZjZTZhW17Mmtkvb7jN5i7+zb+4iQeZzGPlpyKiVey8884XXXRRmSI1K6KGRrASL2JT1mED1mPpHO7V08lT3MktXNe1nOvBPLQYUR\\u002f53o2okaXZg13YlBVYhrHlR6KiZvAoD3M7f+GP3FV+JCJaTmpWROubxN68me0Y07WverSozq5XBl3NLzmDR8uPRESrSM2KaEHtLMnSvIL92J5x5UeiJqZzKb\\u002fibzzJ43kZdkQrSc2KaB1trMKGrMf27MAKOYiboZPH+Sd\\u002f5kZu5H46y09FRNXkGzqiFYxhG3ZmGzZh5Sa95SbmN5f7uZ5\\u002f8zf+wvTyIxFRHalZEdW2Nq\\u002fltazOMrk5GF1m8jj38CfO4tpyPCIiIhakjTHsxgXMeMEul\\u002fmVX8WvGfyBXRibpx8iqiWzWRGV0c4yrMLOHMymOUCjl+7kp5zL\\u002fTycxfIRwy\\u002ff4hEVMILN2I4d2Illc2hGPzzBZfyZy7kyZStiOOW7PGJYLc4OvJqt2IAJ5XhEH03ndq7gT\\u002fyJx8vxiBgCqVkRw6SdN\\u002fFONmSJPDkYg2MuT3MrP+F7mdmKGGqpWRFDqI3RLM3BfJIlyvGIQfQM3+AHPMJMOsvxiBhwqVkRQ2V5NmJPDmTlHHwxTB7mN\\u002fyam5hcDkbEwMo3fcQga2MNdmVndmL5cjxiGDzG3ziPC7knM1sRgyU1K2IwLc2h7MMmuUUY1TOF6\\u002fkTP+ChcjAi+i81K2JwLMn7eS9LMzqHWlRVJ7N5gp\\u002fwFR4txyOiP\\u002fLdHzGgRrMKB\\u002fIBVigHIyrtQb7Fz5nMzHIwIvogNStigIxjA3bjzWycYyta1u38iAu5jmnlYET0Sk4FEf02ihezL7vzohxVUQs3cj6\\u002f4UpmlYMR0UM5IUT0zyp8gt1ZnTHlYEQLm8W9\\u002fJHjub8cjIieSM2K6KuJHMGRjGVEORhREx3M4tt8ninlYER0LzUropfaWIWd+Dgb5RiKZujkDr7CH5icfbYieiqniIjeWIUdOZTtGVUORtTcbP7KD\\u002fkr95aDEfFCqVkRPbMYe3EAuzGhHIxokKlcwpmcy1PlYETMLzUrogc25nPsyFJZhhVBB0\\u002fyN47h3+VgRBN85CMfWX\\u002f99YvwlltuOfHEE+dPRs7\\u002fFxHxPG1M5PO8n\\u002fZyMKK5RrA0r+HVnMRneTYLtqJZ1l9\\u002f\\u002fS222KJMXyA1K2JB2lienfk4m2XaN2Ih2jmCPfgqv+eRlK1olqlTp956663P\\u002feUtt9wy3yCpWRELMIZXcjB7sFg5GBHP08ZGfIPz+Tl\\u002fYHr5kYi6uvXWW9\\u002f1rneV6XxSsyKebwvewx6sWo5ExEItxhvZnvP4XhZsRfxXVvNGdBnHO\\u002fgZb0vHiuiTlTmUM3kf48vBiAZKzYpgFCtxJt9n\\u002fUzyRvTDSNbjW5zFSowuxyMaJeeTaLZ21mAfjmLpcjAi+qiNPbier\\u002fEz7mFu+ZGIljZvtfsL17wX8gBVNNg49uJdvCJvfY4YHDO5hNP4Lc+WgxG1l5oVTbU0x7APK+fmecRg6uQhfsdneLgcjKi31KxopFfyHVbLbfOIoTKHB\\u002fgwZ5UjETWWmhVNMoJVOJx3M7EcjIhB9wzf51vcR0c5GFE\\u002fqVnRGKPYjQ+xc96cEzF85vJ3vsoFzCwHI2omNSuaYU3ezluyIVZENTzA6ZzC7eVIRJ2kZkXdjeAVHMX2eZwwokpm8Q++wJ9zAzFqKzUram0U7+UYJuWHPaJ6OpnC0XyfOeVgRJV95CMfWX\\u002f99W+55ZYTTzyxHJtPnrOKmmpnNT7LW1KwIqqqjSX5JjvzsexiGq1k\\u002ffXX32KLLcr0BbJfUNTR4ryWX\\u002fHWdKyIymtjX37N65lUDka0tNSsqJ3l+RRf58XlSERU12b8Pz7JcuVIROtKzYp6WY2fchirZB4roqW0sRKH8XPWLAcjWlTWZkVdtLMLv2TxciQiWsZ4duRa3sgfs1Qrqm699db7wQ9+8NxfvnBFfGpWtL42luUQjkzHiqiFifyM\\u002f8f3eITOcjyiIiZOnNj9QvjUrGh9m3EEr8\\u002f7cyJqZBIfY21O4NpyMGLY3XLLLWW0oDCrV6LF7c2n2SKXDBF1NIer+AK\\u002fK0ciWkJqVrSsNj7AZ1imHImIWnmML\\u002fL13D2M1pOaFS2ojSX4KB9kQjkYETU0jW\\u002fyFZ5M2YpWkpoVLWgTPsxBeUdhRJPM4gy+wo3lSERlpWZFq9mNT\\u002fPy\\u002fPBGNE8Hl\\u002fJl\\u002flCORFRTzlTROkZwMEexXjkSEQ1yO1\\u002fgdDrKkYiqSc2KFjGG93JUFrxHBI\\u002fxeb7HzHIkolJSs6IVLMUHOJJx5UhENNQMvsrXeaIciaiO1KyovLX4NG+hvRyJiEabw484gXJLyIiqSM2KatuWo9i7jCMi\\u002fusCPsc\\u002fyjiiClKzosK258tsm3msiFi4uVzBx\\u002flrORIx7FKzoqq25gzWLuOIiAW4mwP5ZxlHDK\\u002fUrKie0ezEaSxfjkRELNRDvIVL8\\u002fhhVMiIMogYXhN5Cz9Px4qIXlqBX3EIi5UjEcMls1lRJZN4Fx9luXIkIqJHHuVEvs+UciRi6KVmRWVM4EN8hCXLkYiIXpjC\\u002f+NrTC1HIoZYalZUw0iO4jO5jx0RA6GDL3IMc8qRiKGUmhUVsBxH8qH8PEbEwOnkBE7gkXIkYsjktBbDbTWO5F3ZHCsiBtpcfsCXuacciRgauUMTw2plPpUX6UTE4GjnrXyaVcuRiKGR2awYPpM4kYMZU45ERAyYmfycD+bZwxgGqVkxTCbwHd5SxhERg+JHfIBnyzhiUI0sg4ghsDKfT8eKiCF0CB18hvvLkYiBdfDBB3\\u002foQx+a9\\u002fvUrBhyq3I0byrjiIjB9Wbm8oWsiI\\u002fBtfrqqz\\u002f3+yyBj6G1AkdyEKPKkYiIwTWKg\\u002fgkK5YjEX223Xbb7bnnnvMn89eszGbFEBrbtXdDfu4iYlhM4FCm8SlmlIMRvbXFFluccMIJo0eP3nLLLb\\u002fyla\\u002fMmjVrpZVWWnfddZ\\u002f7QJbAx1AZz1F8Mj90ETHcOjmOr2RFfPTLpptu+t3vfnfs2LHz\\u002fvLee++dMWPGeuutN\\u002f9nMqsQQ2IJPsCR6VgRUQFtfJpOvp5dHqLvFltssec6FlZbbbX5Bv8ra7Ni8C3Ge\\u002fhYftwiojJGcATvY\\u002fFyJKKH\\u002fv73v\\u002f\\u002f4xz8u0+fL3EIMsrEcymdZrhyJiBhmj3EMJ2edVvRRe3v7L37xi\\u002fnXvBdy0zAGUxu7c3yuFyOikpbh89zJ7+ksByMWadKkSUsuuWQRTp48+ZJLLnniiSeWXnrp1KwYTFvzg3SsiKiwSfyI1\\u002fCPciRikXbZZZfFF3\\u002feSe73v\\u002f\\u002f90Ucf\\u002fdxf5qZhDJqXczprlHFEROXcy5u5tIwjFugVr3jFOuuss\\u002frqq2+77bZLL730c\\u002fk999zz+te\\u002ffr4P5qZhDJKXckI6VkS0iNU4gQ\\u002fx93Ik4oVOPPHEMgJnnnlmkeTRrxgEG3MsW5ZxRER1bcFn2aCMI3ruvvvuK5LUrBhoy\\u002fEpdqW9HImIqK52dudIli1HInpo+eWXL5LUrBhQYzmcN5ZxRERreDNH8L8tJyMW4IwzzvjXv\\u002f71yCOPFPnrXve6IskS+Bg4I\\u002fkgn883VES0shl8mq8ztxyJKOy2227HH3\\u002f8\\u002fMl555332c9+9rm\\u002fTM2KgfNOvsqkMo6IaDFP8XF+UMYRhTFjxpx11lkrrLDC\\u002fOGtt976ne9859prr918881Ts2KAvIpvsFYZR0S0pLv5IL8t44j5tbe3n3HGGWuttdCTX9ZmRb+18WKOTseKiBpZgyN5Ue76RHcOP\\u002fzwbjqW1KwYAMvxUbYp44iI1vYSPkH56FjEf2233XZvetObyvT5UrOif0bwMfbLBV9E1E4br+cT2Z4mFuyZZ56ZMeN\\u002fbx1\\u002f+OGHp06dOt84qVnRXx\\u002flvYwu44iIOhjFu\\u002fl4GUfguuuuO\\u002fzww2fNmoVf\\u002f\\u002frXr3vd63bffff3vve9M2fOfO4zmYKIfngj38+jhRFRd0\\u002fxds4q4wi87GUvmzBhwgUXXPBccsopp2y++ebzfp93GkaftLE1R6VjRUQDTOJo7uZqOsvBaLjLLrusSO6+++7nalZuGkafrMxH2aiMIyLqaRM+zsplHPFCd99993O\\u002fz03D6L0xfIYPMb4ciYiorWl8jc\\u002fzv4U3EYuQ2azovX14fzpWRDTMeD7Aa8s4ohuZzYpeWodrGVfGERGNMI1NubOMIxYos1nRGyvxs3SsiGiw8fyUFcs4YoFSs6LHluZTbFbGERHN8mI+yVJlHPFCqVnRM6PYm\\u002f0ZU45ERDTLGN7APowqRyIKWZsVPbMxv2DD\\u002fMhERNDJjbyRG8qRiPllNit6YCzHs1E6VkQEaGNjjmVsORIxv9SsWJSRfIhXl3FERNO9jiPyYunoTmYnYlH24YzskhURsSDPcgDnlnHEPJnNim5tzKfTsSIiFmICR7NhGUfMk5oVCzee9\\u002fKiMo6IiP95MYcxoYwjpGbFQrWzD2\\u002fIE8sREd0axf7snTNqLEB+KGIh1udDLFvGERFRWobDWb+MI1KzYiE+yNZlFhERC7YtH8pzZVFKzYoFOZiD89MREdFjIziYA8o4Gi7FO15gJa7L67oiInrvCTZnchlHY2W+Ip5vAieyZBlHRMSiLcmX89Rh\\u002fE9qVsxnJAewa2Y5IyL6pI3deGOe0Y7\\u002fSs2K+WzIoSxdxhER0VPL8PY8dRj\\u002flZoVXSZwMFtnKisioh\\u002fa2IqD8v6MIGfU+J\\u002fN+Xu+FyIiBsKzvJTryjiaJrNZARbnW+lYEREDZALfYLEyjqZJzQrwAbYvs4iI6Lsd+UBuGjVdalbwct5fZhER0V+HsV2ZRaOkZjXeYnyQFco4IiL6a3mOYPEyjuZIzWq2Nl7PK\\u002fKDEBExCEawA6\\u002fLrcPmytm12dbkIJYp44iIGBjLchBrlHE0RGpWg43iNVn5HhExyF7OPtkXvqEyj9lga3ARa5ZxREQMsDvYmXvLOGovs1kN9sXMY0dEDIm1OLbMogkym9VUO3BJ\\u002fvwjIoZKJzvxlzKOestsViMtzbHpWBERQ6iNY1mqjKPeUrMa6Y1sWWYRETG4XswbyizqLTWreTbkjUwo44iIGFwTOYD1yzhqLDWrYdrZg21zxzAiYsi18RL2oL0cibpKzWqYDTiYMWUcERFDYQwHs14ZR12lZjXJCF7Ni8o4IiKGzot5dU6\\u002fTZFbR02yKn9jtTKOiIghdTfbc38ZR\\u002f2kTjfJ0elYEREVsAafKrOopcxmNcbGXJc\\u002f8IiIauhkM64v46iZzGY1wzg+l44VEVEZbRzF2DKOmknNaoad2L7MIiJiOL2CV5RZ1ExqVgMsyf4sU8YRETGclmV\\u002flijjqJPUrAbYmp0YWcYRETGcRrIzW5Vx1ElqVt0txl6sXsYRETH81mQvFivjqI3UrLpbn\\u002f3KLCIiquL1ecthnaVm1d1bWLnMIiKiKlbjzWUWtZFH\\u002fGttLa7K+sqIiGp7ki24u4yjBjKbVWufSceKiKi8JbMpfG1lNqu+1uU6xpRxRERUzkw25o4yjlaX2ayaauf9jCrjiIioolG8j\\u002fYyjlaXmlVTm7Br\\u002fngjIlrECHZnozKOVpfzcB2N4NWsVcYREVFda\\u002fHqrOWpm9SsOlqXXRlXxhERUV3j2ZV1yjhaWmpW7Yxgi7y9ISKiBW3Nljkz10r+MGtnEq9jYhlHRETVLcZrWLyMo3WlZtXOeuxWZhER0RpeyXplFq0rNat23pEtSSMiWtaSHFpm0brySEO9LMlDjC7jiIhoGTNZjqfLOFpRZrPq5RPpWBERLW4MnyizaFGpWTWyAm8ss4iIaD0HslyZRStKzaqR17JCmUVEROtZkdeUWbSi1Ky6GM+r8qLoiIhaGMM+TCjjaDmpWXWxA5vkkYaIiFpoY2NeVsbRclKzamEML2eVMo6IiFa1CjvkHkXLS82qhTXYgZFlHBERrWoU27N6GUdrSc1qfW2sz4vLOCIiWtuWrJfVIK0tNav1jWXvrJSMiKidibyKsWUcLSQ1q\\u002fUtwavLLCIi6mAfJpVZtJDUrNb3mmyXFRFRUyvlQrq15ZZvi2vj32xexhERURNXsxWdZRwtIbNZLW47NimziIioj83ZpsyiVaRmtbi30l5mERFRH+0cUmbRKlKzWtmS7FpmERFRN7uzRJlFS0jNamWvYqkyi4iIulmaPcssWkJqVssazU5MLOOIiKibiezMqDKO6kvNalkbsFkWZkVENEA7m7FeGUf1pWa1rBexTplFREQ9rZOXqrWk1KzWNIHNsyIyIqIxlmLzvFet9aRmtaaV2K7MIiKizl7KimUWFZea1ZpWYdMyi4iIOtucVcssKi41qwW1s3umjiMiGmbe84Z58qmlpGa1oJF5k2hERCO9mpFlFlWWmtWC1mGjMouIiPrblDXLLKosNasFvTV\\u002fbhERjdTOm8ssqqytDKLi2rgjVzMREU11RzZNbCWZFWk1L2aNMouIiKZYi83KLCorNavV7J0pyIiIBmtj7zKLykrNailj2bnMIiKiWXZhTJlFNaVmtZQNWb3MIiKiWdbMa6RbRmpWS9km7zGMiGi8SWxTZlFNqVktZVMWK7OIiGiWxXlRmUU1pWa1jjVYL39iERGN1846eb9ha8hJu3WsxVplFhERTbQWa5dZVFBqVotoY01WLuOIiGiiVVkz+\\u002fu0gNSsFrEYmzO2jCMioonGsRkTyziqJjWrRSzBFmUWERHN9eI8e94CUrNaxBJsWGYREdFcGzOpzKJqUrNaxAYsVWYREdFcy2ST0haQmtUidiqDiIhouh3LIKomNatF7FAGERHRdDk1VF4eBm0FS\\u002fBE\\u002fqwiIuL5OpjE1DKO6shsVivYOx0rIiJeYASvKrOolNSsVrBbGURERMDuZRCVkprVCl5RBhEREeQBqapLzaq81VmxzCIiImCVvIet0lKzKm+b\\u002fClFRMRCjGDbMovqyAm88rbK+veIiFiINrYqs6iO1KxqG8Gm+VOKiIiFGMFmuRqvrpzAq23FLMyKiIhurcQKZRYVkZpVbevkzaAREdGtSaxTZlERqVnVtiaLl1lERMT\\u002fLM6aZRYVkZpVbauzWJlFRET8z2KsUWZREalZFTaBVRhdxhEREf8zmlUYX8ZRBalZFbYsq5ZZRETE87SxCsuWcVRBalaFLZvHDCMiogdWSs2qqNSsClsqz+hGREQPLM9SZRZVkJpVVW0sncMmIiJ6YN75IpuUVk9qVlWNZjVGlnFERERpFKsxqoxj2KVmVdWYbDcXERE9tjZjyyyGXWpWVY1hrTKLiIhYsLUYU2Yx7FKzqmpMdvWNiIgeS82qpNSsqhrHSmUWERGxYCvnpmEVpWZV1erZ\\u002fz0iInpsDKuUWQy71Kyq2qAMIiIiurNhGcSwS82qqvXLICIiojs5cVRP9mWqqnXLIAZDG6MZzUjaGNl15THiBRvQdDKHDtDBbDqZzUzm0vn8D0fUy0jGMIo2Rs13lMw7buY3e76jZE7XUTKr64iJQZYTR\\u002fWkZlXVemUQvTWeJViCSUxicRZnPGMZy\\u002fiu88ZoxjC6q2a1Y1E1a27XSWMW05nT9ZsZzORZpvMUT\\u002fMUTzGFKcx63j8vogpGseR8R8m8A2UcExjTdaCMZBTjumrW6PmOkm5q1nNHybyLkXlNaybTmMEMnuXpFxwl05\\u002f3D4veSs2qnuzMX0ntTH\\u002fBeT4WYnFWZzVWYRVWZnmW6CpP836N6mpU7V2\\u002f5jWqgToAOpjb9WsOc5g931X8vJPMDJ7gQe5nMvdxL5NzYomhMI5V5ztKVmEFlmLsfEfJcwfKyK7jY96vgVpb0tl1fDx3oMx\\u002flMzqOkqm8Aj3dR0o93IPz5T\\u002fsFigmYzLvGG1ZDarktZMx1qwNtblRWzOhqzN2oyfb3S4jFjQBFg3nvsa7OBJ7uR2ruc\\u002fXM0j+Z6MvmtjObbkRWzMOqzFkvO1peE6UNq6ClzPPXccTON27uAmruU\\u002f3JajZAHGsBr3lHEMo+E63qJbr+QPZdYQbV13LCYykRVYj\\u002fVZh7VZvRnb7z3TVbxu41Zu5lmeYSrPMq38eDTQaBZjAouxGBuyHut1laqJ5cdraAb3cAe3cwu38WjXITLvP+fdu2yeXflzmcUw6tWFRQyVtcug3iayIiuwPMuyKmuyBmuxzMDdsWghi7E5m8+XPM7t3Mnd3MXDPMyDPMCc+T4W9TWSlboOlOVYnnVZnbVYuZFHyVjWn+\\u002fJuk6e5m7u4S5um+8oeZBn5\\u002fsb627t1KxqSc2qpDXLoH7GsxEbdN37W5HlWIYl8kO5IEuzNNuC2TzGozzCg9zHTVzDrcws\\u002frZobaNYi01Yn\\u002fVYmeVYlmV6c4O6IdqYNN\\u002flyRymdB0lD3Eft3Md\\u002f67\\u002fYsgGnD5aS85olbRGGdTDaF7KdryE9ZjIBMZ3PeUXPTSKFVkRXU87TmMqj3Mtl3MZN+XBxlY1mo26jpJNWbLrKBmXo6Q3RrIMy3Tt1zmbaTzLU9zCP\\u002fkH\\u002f2B28bfVQWpWxeS4raSr2KLMWk5713rX1dmT3diJ0eWnYlA8yT+5gLN5pOvhx6auVamyEV1HySR255W8Im8zHSpzuJJzOY\\u002fbmd31\\u002fGOL+1fXvHdUQ2pW9YxgctdkRQtaluVYmk15CVuzbiNXjlTEHG7jCi7hlq6bKE\\u002fnGa3h1MbiLM8yrMH2bMeGuQYZPp1M5mr+zr94hEd4rPxUq3iAVXKEV0hqVvVM4m6WKOMqG8kqbMgGvJhNWacZDzu1lie6VnHdyG3cxH3lR2JQLdu1HHHeEqINWar8SAyzZ7pWcV3LndzIXS12B\\u002f5JVs9GYxWSmlU963Ili5dxBbWxIduxLRuyMitnaW4rmMZDTOYGLucS7s3V72BpY3m2Ywc2ZhVWYrF891benK5dUm\\u002fjSv7Ola1xlDzFltxRxjFccqhXz8v4Q6XngtpYj4N4Fat1vb6mvfxUtIA5XS89uZ6z+Q33lx+JPluF1\\u002fFaNupaw55rkFbUwQymcxfn8VNur3Tfmspu\\u002fLOMY7ikZlXPa\\u002fjZfFubV8NoxrMCe3MQm+dHp46mczk\\u002f59yuHR7r+CDW4BnJeCayAwezIxPKj0TL6+RmzuKXTO56RWOVTOMAflfGMVxyrqyed\\u002fBNxpbxsBjHaqzBFuzEtq1xMzP6ayp\\u002f5QKu5m7uLcejsDqrsyG7smuLrayMPprGNVzMpdzFfVXZkWsG7+PUMo7hMrIMYtgtW4kH85bj5WzHlmye80bDTGRPducBruFKruIKHi4\\u002f2HBLsgUv5SVszoq5ed4k43kpL+W9XMuV\\u002fIu\\u002f8UD5wSE2gmXKLIZRalb1LDmcNWsk27I\\u002f27I6y+ZHpMHaWZVV2YMHuZNL+S1Xlh9soPXYl51Zm1Wz6KrZluQVvIzHuJfr+AWXDNvziW15gLVactOwer7P24fhqngib+dtrMuYYfjvj6rrZC6z+Q\\u002f\\u002fx695qvxI7U1gD97PtoxiZL5C4wU6mMm9nMnXmVKOD7a5\\u002fID3lXEMl3xHVM8ZvGGIJrRGszRbcAh7M6Ycj1ioB\\u002fklp\\u002fIgT9R5sfxIlmBl3s5+LbxxcAyDGfyOU7mWx4bopaMdnMHBZRzDJTWren7Hq8tswC3LZryYvdmmKgvuo\\u002fXM4C+cy9VcV7c9EcezIVuyB6+s3NO\\u002f0TJmcg1ncxU3DPquKZ38jteUcQyXLLypmJGDO6fUzlrswcvZmtWGaNYsamssr2RH7uAK\\u002fs4F3F1+quUsz268gi3ZgHHleEQvjGEbtuJ+\\u002fs2l\\u002fJGbmFt+cEC0de1kODj\\u002f+OitzGZVzCTOZscyHhBb8y5exsrZhToGQSdPcQ\\u002fncQp3luMtYS3ewStZjaVyGRIDrZNnuZ9L+cFgPU9yMfswtYxjWORUWzEr8SteWsb90cZLOY6dy5GIwTKds\\u002fkID1V6w+zntLEUX+Dg7CkaQ+gffJY\\u002f01GO9MffeT0PlXEMi1yrVcy4AXs2fCxrsR9\\u002f5uJ0rBha4ziQyZzNa1mtogsU2lmZV3I6D\\u002fHudKwYWi\\u002flPC7jTaw3YD9+o7KSsEIq+dXXZGMGYCuFxdial\\u002fFqtkqVjuEzgn3YmX9xDpfxn6qsGGnnxby0a6XiYuV4xBAZxUvYluv5LX\\u002fmyv4+TDKS0WUWwyU1q2JG9+vPpI3deSPbs2a\\u002f\\u002fkkRA2YiO\\u002fMybuASfsFVzCk\\u002fNWTa2ZQD2J2NczqKamhjUzbkDfydszmn7\\u002ffb2\\u002fNzXSE5EVfM6D7OZo1gFz7OZiyVP9eonjFswSa8gYv5IjeXHxkCa\\u002fEx9mSFwX2mN6IvRrIua\\u002fEqPshJ\\u002fK4v87\\u002ft+emukNxQqpgxvatIbYxnOy7gPHZlud79AyKG1GhW4c3cwK\\u002fYjDGD\\u002fiROG2PYkJO5lfewes5CUWHtLMOO\\u002fJJL2YXxvTtKctOwSnJGrphRPZ3NamdFtuTd7Dpg6+YjhsgIXs\\u002fOnMUvuJrHy48MiCXZkgN4fV6AHq1mJNtxPhfyA67m\\u002fh49k5ibhlWSmlUxPbtpuCx78Vp2zwMl0cqW5B3sw\\u002fmcx0U8UX6kz5bg5ezDq\\u002fKGnGhlo9mLnbiQczhv0Vs1pGZVSWpWxYxcRM0azRt4E1uyTO\\u002fmkSMqajkO4ZVcxqn8ub\\u002fvfhvN9hzKy1mtHIxoSeN4NS\\u002fjAH7F6UwvP\\u002fKc9pzbKyRrsyqmfaHVaQS7cgnf5ZUsu9APRrSkFdmXn\\u002fFLNiwHe25NfspZHJCOFfXSxlLswte4lH0WelHelnN7heSPomLaFtCeJrAV53I+L2XiAj4SUQcjmMTeXM\\u002f32LAXLzUfzQZ8n9vZjyUWegaKaG1tjGcrfsk5bMnEBXwk5\\u002fbKyMRixTx\\u002fNmsim3EwB2f\\u002fxGiSEbyLPTmZc\\u002fnPInYQ2oS9eCdr5xokGmM0r2InzuBHXMdT\\u002fx1JzaqS1KyKGfHf00Q7m3Ig+7JO+aGI+mtjNT7Da\\u002fkF5yx4n6012Zd92SbfZtFI43k7u3A2P\\u002fnvexZGZDK3QvLFVDEjaLM4H2J\\u002f1unFTZOIGhrJFmzI6ziVM\\u002f93wb4Y+3EoW+Rx22i8NXgvr+RcvqTticxmVUf+KKqlbaTXt7uOo9kkHSsCjGMbvskFbAObcQ7f52XpWBHo2oP3w1yn\\u002fRCjMp1VFalZVTGKbfhJh9M6rJZpxojna2OUMdtY6\\u002fwp3\\u002f3ulIvWsdMYo7ISK+L52llJx7d0nM422T6rCnI2r4RVeB2Hs3ZHzhsRLzRvpdY+vHPpJTZ+lxGv4Af8hnsXsTo+onk6x5t7IC\\u002flG\\u002fyWO8sPxBBKzRpmo9iNd7LnvLesdfToVQoRTdLOG3kzL5v3xO0INuRYducn\\u002fLwvL9eNqK\\u002fONh1Yky+zO9\\u002flj8wqPxZDIjVrOC3LRziIlZ+7fduRa\\u002fOI+b2IT7HjC996sBh7sBWv5Yv8Z\\u002f6xiCb73+X6aF7JpvyUE3js+Z+LoZC1WcOjjRX5LZ9g1fn\\u002fGFKzIv5rAodzAfsv7K0HbSzL\\u002flzAB7IYPmKezvnvioxgFT7BH1h1gcdRDKrUrKHWxvK8j5t5STmYmhWB8byIH\\u002fE1li0HF2RZTuJXbMGEcjCiYToXeB99S27i46yQsjWUctNwSI1ma97H6xhXDiI1K2JtDuQDLF+OdGsEe7I13+EMbsmRFI31vNms+U3gc2zBd\\u002fhHVmsNjdSsodPGB3gbG3Tz7z01K5prDK\\u002fmXbx8YZchi7QMH+flfJ9zmFGORzTAQmsWxvJ6NuEU\\u002fl\\u002fON0Ngoaf7GFgr8D12WcBLPp8vNSsaajQncBBL9HMxw1hewYvYk\\u002fcxrRyPqLvuahba2YjPsTPvYXI5HgOqX19n0RMj2ZGLeM0iOxbmLPCeekSNjWYv7uIDLDUgX0ojWJK3cit7ZYvGaJq5zCmzF1iMV3ExezKqHIyBMwDfaNGNFfgAP2HDcmQhZvbk8IiohxGsxac4nZXKwYGwMj\\u002flONbJl100xxxmltlCrMMpHM4K5UgMkNw0HERb8lFe06tlJjNSs6I5XsX72XHe1ryDZAk+xBb8gF\\u002flnnw0wZxeLUtckWO71sVfVg5Gv6VmDYoRHMBHeVFvH5zNbFY0wjJ8hANYoxwZBKPZlQ3ZhhN4uByPqJfe1SyM50A248ucmZPQwMo8+sBbjE9xUh86lsxmRRNsxVl8eGg61nNW5oOczfblSES99OKm4XPa2ISTOJpJ5WD0Q2rWAFuVb\\u002fC5F74ZpIdSs6LOJvI2fssOw7IwfRQv4eccMu\\u002fliBG1NLu3s1nPWYqj+A6rlSPRV6lZA2YMO3EWh9BeDvbYDGaXWUQtbMgX+A4rliNDayW+z5fZrG\\u002fXQhEV1+ubhvNr5yB+wY7Dci1UP6lZA2NJ3smpbF2O9FJqVtTQWF7DdzicseXgcBjNe\\u002fleN+9jiGhds5leZr20LafyTpYsR6KXsgR+ACzLJziEpcuR3puem4ZRM5N4P+9mlXJkuG3L19mAb\\u002fNUORjRsvqyNuuFVucY1uF4HikHo8dSs\\u002fprDD9kz\\u002f7cKJzfrLxmKupkBN\\u002fmgIE6PgbWCFblWLZl32wMHLUxa0DuirSxNIexIa\\u002ftz23IhstNw74bzTZcz6sH9hzydPfvSYhoCePYnlt408AeHwOunX24nR1zAzFqoIMpZdYP7bySa9g6S7X6JjWrjxbnDZzJOuVIvz2RLRSj1S3Du\\u002fn5YBwfg2QNfsp7Wa4ciWgpHTxRZv22Hr\\u002fkQBYvR2JRUrP6YhIf4PhB2vbnycxmRUtbgc9x1CC9P2fwrMSnOY6Vy5GI1tHJk2U2EFbnC3yQJcqR6FbWZvVaG18e1Fb\\u002fRGpWtK61+SHbVOSJwt5akreyMW\\u002fnlnIwohUMymzWPCvzMdbgnTlL9Vxms3pnCf7BuwevY0nNihbVxiu5gh1atGPNM4aXcTmvzvdjtKIOHi+zgbMYh\\u002fLXzGn1XL5GemokL+a3bFuODLQnsjYrWs6SvJ\\u002fTarPLziRO5Yja\\u002fP+J5ugYpJuG89uO89iSUeVIvEBqVo+MYhe+zcvKkUGQ2axoMavwWY5j+XKklS3Dp\\u002fkcq5YjERXWOaizWc95Cd9mtzStRUrN6pHX8zVeMjT\\u002fvh5PzYoWsj7f5T21vImwBO\\u002fhe2xcjkRU1eDeNHzOCLbhBPYtR+L5hqI2tLr38B02GrLXnz2QmhWtYnt+xV6MKUfqYjR78Et2LEciKmkuD5TZ4GhjQ77Lx8uRmE9qVnfG8BlOGuL1GU8xrcwiKmYke3Mam9T+a2QEG3Iqr8uz2VF9U3m2zAbTkhzHUTW+1uqnmn8\\u002f9seSHMkRw7Lx7X1lEFEl43gL32atcqS+1uCbvI3x5UhEldxTBoNvNB\\u002fjKJYqRyI1a2EW4xPDuBHbXWUQURlLcyRfbeDS8JX5Mp\\u002fMySSqbHhOH5M4jE8O6mZHLSo1awEm8A0+MMT3Cuc3PMdJxCKtwtf4RGObxpJ8lG+wWjkSUQ13l8FQWYL38i0mliPNlppVWpJf8WYmlCNDKDUrqmh1vsGBDV+EMZY38g3WLEciKmA4Tx8TOIhfMqkcabDUrP9pYyW+z260l4ND684yiBhu6\\u002fL\\u002feG22ycFI9uEkNihHIobbHWUwtNrZjR+y6pA9nV9xqVn\\u002fsyZf4TXD3rFwWxlEDKst+Bavy\\u002ffmc9rYmx+wVTkSMayGuWahnb35MmvnG0P+FTxnRb7Oa4flucIXGsXUivxPidiL49iijANcw9H8rowjhsNMJjC3jIfDbM7hQ9xfjjRMZrNgFX7GvtUpNrPzkxlV0MZ+nJiO1Y3NOYE35po1quC+inQsjOK1nMHq5UjDpGZZkV\\u002fyiqptPHhrGUQMrTZenQVIPbFe11x4vk9jmN1SBsNqJC\\u002fnF6xSjjRJo78W2liDb7F1Ba9Eby6DiCE0glfyXVYqR2JBVuDb7Nnwr9QYdlU8cWzJt1irgqfZodH374Tllltu3333LdOWshrH8uoqrHl\\u002foZvKIGKojGQ\\u002ffsTK5Ugs3IqczP55FDOGURVrVjt7cWyrbza37777LrfccmXaA328UbbccsudcsopK6ywwtSpUy+44IJyuBUszpcqtR6rcEMZRAyJUbyN4+jLF0rDrcA3WYpTmFUORgy+68ugGkaxPyN4L0+Vg61g9913\\u002f+QnP\\u002fnQQw+9\\u002fe1vf+SRR8rhbvVlNmu55ZY7+eSTV1xxxba2tj322KMcbgWL8XNeX9mOhQeZXmYRg2w07+Bz6Vh9tiyf5d0N38I1hsWz9K4ADKXR7M8ZLbpH\\u002fB577NHW1rbiiiuefPLJvZ3T6nXNmjePtdJKK+Gqq6468sgjy09U3jh+yB4Vn9ufwQNlFjGYRvIGjmfFciR6Y3k+z0F9vlkQ0TeTmVlmVTKSPfkhY8uRyjvyyCOvuuoqrLTSSqecckqvmlbvata8jrXiiiviqquuOuyww2bNarGp8SU4jr3KuHpmcW+ZRQyakRzAt\\u002fOWjAGxOP+PAyp+LRc1c2\\u002fFa9Y8r+aLw\\u002fjG4L6ZNWvWYYcdNq9prbjiir1qWr2oWTXoWBP4IIcyvhypnlnD+AbQaJqRvIVvsng5En01iW9zSJVXJkTN3NMSSwLH8TY+NLzvDe6DPjetntasGnQsHM7hrdKiZ+SVOzE0RnIoX2SJciT6Z3E+z9ty9zCGxi3MKLNKWoIP8KEyrry+Na0e1ax6dKwjOIqlyriqZnEXs8s4YkC1sT+fyZr3QbIsn+GAHn7VRvTZvHUmLXNmXopPclgZV14fmtaij\\u002f0adKx29ucLrTVH2cljPFrGEQOnjZ35Cis3dufAwdbGSnyZXfOvOAbVIzxeZtU2gS9zYDV3ruxGb5vWImpWDTrWSHbj84wrRyrvcR4ss4iBswMnN\\u002fw9GENjJf6PHcs4YuA8yGNlVnnjOIZXttyzIr1qWt3VrBp0rDa24DOsW460gsdSs2LwvIofskYZx+BYjR\\u002fyqjKOGCAtWbOwDp9hy+7bSAX1vGl193\\u002fsuOOOm9expk2bdsQRR7Rcx8LyfIltWnS6\\u002flHuL7OIgbALX2WtMo7BtAZfZfcyjhgI97foIpM2tuJLrFCOVN6sWbOOOOKIadOmYcUVVzzuuOPKT6D7mvW5z31u3qby48eP\\u002f9KXvtTe3mI3UEfwc17Rcjd+nzODB1toSWO0ii35IhuUcQy+DTiWLco4on\\u002fmbWfdqieLdl7OT7svJBXU3t7+pS99afz48XjkkUc+97nPlZ9A9\\u002f+vHnzwwede37Pddtt99atfHTGiu89XykROZYfu\\u002fx9W3z08U2YR\\u002fbA2n2vdGd5W18a2fJ51ypGIfpja6ttZj2BHTmuhB9VGjBjx1a9+dbvttsMjjzzy9re\\u002f\\u002fcEHF7zKZxElZP6mtcMOOxx\\u002f\\u002fPEt0bQW48PsV8Yt6E6eLrOIvlqao1viJQj1tgefZdkyjuirp7mzzFrQvhzREpskjxgx4vjjj99hhx0sqmNZZM3y\\u002fKa1yy67VL9pjWFf3tUSW70v0i1MKbOIPlmSL3NwT476GFRtHMhXWLocieiTJ7mlzFrQeN7L6yv+4vV5HWuXXXbRg46lh1+4RdM65phj2toqesdh3pz8p1mpHGlNjzK5zCJ6bxzH8dbWXalYM+28mc+30D2SqKxO7mvRxwxfaEU+VeVVDW1tbcccc0zPO5Ye1izPb1p77rnn0UcfXX6iGiZwMutU9o+otzq4ho4yjuiNNo7gkLz0pVLaeQsf7vm3cMQCdfJvOsu4NbWxDj+o7O2oo48+es8999TjjqVXB\\u002fj8TWufffY58sgjy08Mt6U5p0W3yOrGFbU5fmJYjOJA3p95kwoaz\\u002fs4MP03+qOTK8usxW3Aryv4brwjjzxyn3320ZuOpVc1y\\u002fOb1n777ffhD3+4\\u002fMTwWYJj2LmMW98VzCmziB7bvk530etnBT7Jy8s4osdmc1WZtb7d+SxLlvHw+fCHP7zffvvpZcfS25rl+U3roIMOeu9731t+YjiM5q0cXMa18CD3lFlEz6zDl9iwjKNKNuYrrFfGET1zJw+XWS28lUMqshz+ve9970EHHaT3HUsfapbnN625c+eWw8NhZz7YEo+B9s1fyyCiB5blx2xdxlE9W3Iay5RxRA9cWgZ1sTiHs0sZD4d5VacPHUt\\u002fVoqvtNJKO++8809+8pNyYMity5n13lj5QH5WZhHdGsuP2L9vl1Ix9Do5i7cwvRyJ6NYb+GWZ1cgVHMgdZTzk3vrWt\\u002f7pT3964IEHyoFF6XvNqoiJfI83lXG9LMP9jC7jiIWYyEf5CBPLkaiwqXyNrzK1HIlYiJmsxBNlXC+n8X6eLeMW0dpXuu18hAPKuHYe48Yyi1iIUV0b9KZjtZiJvJ19GVWORCzE9bXvWHgTR7RuXWnV\\u002f93zvImPNmS\\u002fxdrefY8BtwlHsmIZRytYmU+xWRlHLMRfyqCORvLx1n3IrYVr1vYc2ZwL9j+XQcSCjOVUNijjaB3rcSrjyjhiQS4qg5pajE\\u002fw0jJuBa1as1biw406mdzOo2UW8Xxj+Rmb12DNZZO1sSlnMrYciXi+h+rxxuge2pCPtOI8fUvWrLG8mT0adTJ5imvKLGI+EziSPcs4WtPufLw5s\\u002fXRN9fyVJnVVxt78paWuwBpyZq1C4c1bVL9Kf5TZhFdRvFqDm25L6BYmLG8k32yHD66cU2jahbGczg7lXG1tV7NWo7jWbmM6+5ZbmJGGUeAjTiSVco4WtnKfIyNyjgCTOcmppVx3a3El1m+jCusxWpWG6exSRk3QCd3MbmMIxjH57Mkq37a2JxjmzZzHz00mbvpLOMG2IRTW+jrrpVq1ig+xs4t9G93YN1ehY1wo2pG8lFe3djDot7a2IcPM7Icica7g9vKrBna2IWPtMod9ZapWW28jHc0eS\\u002f0+7mJOWUczfZqPlVmUS9H85oyi2abw030+r0vtTGad\\u002fKylri8bJmatQrvZ60ybpIO\\u002fsPTZRwNti2fz7L32hvDsWxTxtFgT\\u002fFvOsq4Sdbm\\u002fS2xTrs1atZo3sBeDdnwvRv\\u002fZEqZRVOtzEdZv4yjjtbjo6xUxtFUU\\u002fhHmTVMO3tyQPVvcbVGzVqVTzO+jJvnFu4ps2ikUbyRvbNopyFGsg8HVf+UEkPjXm4vs+aZwKdZvYwrpgVq1pKcwRJl3FQXlEE00g58lDFlHPU1hg+xfRlHI51fBk01idMqXhCqXrNG8Sm2LuMGO6\\u002fh9+MDy3JMK750IvppZY5huTKOhulIzZrfS\\u002fl4lef1q16z9uStZdZsN2Zbh4Zr4\\u002fNsV8bRDC\\u002fjuJZ4vCoGz23cXGbN9nZeWWaVUematRaHsXQZN9tcfllm0SRv45CcZxurjbfyljKOJjkz9zQKy3A4a5RxNVS3Zo1if15e5f+Jw+X\\u002fcow11ryX6mQZdKON4ZNsWMbRDB38sMwabwQ7ckA1NyytaIdpYzvelSW+C\\u002fQAV5dZNMCSfJg1yziaZ20+xlJlHA3wLx4qs2A0h7JtBWf6K1qzRnNYwzcj7cZcfldmUXej2Y\\u002fXVHmlZwyZkbya12dis4HOZW6ZBViXwyt4TFS0Zr2VV5VZdJnLX7MdfNOsyeEsU8bRVMtWeTVKDJIp\\u002fC01qxt7c1CZDbcq1qzV+FJeINK9e7mmzKLWjmHjMotm24jPlVnU2jXcV2Yxn7F8tWpv4KlczRrN11iyjOP5HuKfdJZx1NTreWMF1xzE8BrBgbyhjKOmOvlnFmYt0tJ8rVK3DqtVs0bwRnYq43iBZ\\u002fkPT5Rx1NE6fL3MIrqcyDplFnX0BNcyrYzjBXbh9dWpN1X53zHPOhySqaweuib7lDbBJI7KK4OjGyvxKSaVcdTO7fy7zGJBluKQ6jyUXaGaNZbX8pLcGumh27guayFrb2\\u002f2qtRxGlUzglezTxlHvczh2lxa91AbL+O1FVnjXaGv79V5J+PLOBZiFhcytYyjRjbgHSxbxhHPtwyHsn4ZR41M5U\\u002fMKuNYiAm8i9XLeDhUpWa1cXhWGPTWH3mkzKIuxrAv22d6NxapjZezX\\u002fZzrrFHuKDMolvr8d4qfH9WpWa9lEPKLBblSf5QZlEXW3AY7WUcsSDtvJ8XlXHUxXk8VWaxKO9g6zIbcsNf9LAkF7JFGUcPbM5VORfXTzvnVfmd81FNf2Bv5pRxtLi5vIjryzh64Ap2Z0oZD6FKzGa9OxdhfXZd3m9YS+9mlzKLWJRdeUeZReu7ghvLLHpmS95eZkNr+GvWOry5Cv87WlTe1l5Dq\\u002fDpvLsw+mAkn2W1Mo4WdzIdZRY9M4JDWbeMh9Aw15sxHJpXRPfTWVkIXyfj+GTeXRh9tgxHMq6Mo2U9xDllFr2xFm8dxudDhrlmbcE+FdnaonVNzUFYJzuyF6PKOKJnRrInO1Vk4W303294tsyiN8ayzzAuTRrOmjWR\\u002fbPXS\\u002f\\u002fNzEMotbEib2bVMo7ojVU5mBXKOFrQFH7PjDKOXtqQ\\u002fZhYxkNiOGvWWrwlK1D6r4MbshC+BkawA3vnwdHop3b2Zvvh\\u002fX6PAXElN9JZxtFLI3nrcK1aHLbDsI1Ps3QZR5\\u002fcycV5jLvVLcbHh+t6K2pmIh9nsTKOljKHv3BXGUefLMunhuVe+rDVrJfyujKLvurgH9xbxtFS3prN42IAbcWhZRYt5W7+nmcMB9Ab2KbMBt\\u002fw1KzF+XJuFw6sK7g+c8utaz2OLLOI\\u002fvnE8D7IHv0xbzXIlWUc\\u002fTCKLw39HYPhqVn7sVWZRf88xR+YWcbRIo5kxTKL6J\\u002fl+eSw3CaJ\\u002fpvF73m6jKN\\u002fXjL0N9KGoWatyFuzicNgOIMnyyxawSvZs8wiBsKe7Fpm0Qqe4Mwyi34bw9tYrowH01DXrBHsw6ZlHANhCj8qs6i8ibx1iA\\u002f7aI7lODRr4VvRqdmmZzC0sTl7D2X5Gbr\\u002fpnlW5lUsWcYxQL7JE2UWFTaCPXnF0B+J0RAjeDm75yestTzBd8ssBshS7M1KZTxohvTQa+dlvLyMY+A8mHnm1rIc+2dVVgyqldifZcs4Kuyn3F9mMXBezkuHbIfCIa1ZE3kLS5RxDKhTmFJmUVVbsEfWKMegamPPPHXUQp7k1DKLAbUUb2ZCGQ+OIa1ZW7B7mcVAu4s\\u002flllU0gg+kmUzMQQW54ND\\u002fHUfffaHbEk6BPYaskuPoTvuRnP8kE3SNdkUfsnUMo7q2ZWdyixicOSnrTVM5awsfh8C7RzD6DIeBENXs\\u002fYclu1XG6iTa\\u002flXGUfFLMEJuV0YQ6aNE5hUxlEx\\u002f+KabDQ9NF7GbmU2CIaoZk3gIzmlDJm7uZhpZRxVclA2Nokh9iIOKLOokme5iHvKOAZHGx9hfBkPtCGqWXuyWZnFoJnNOTlWq2xlDimziMH3dlYps6iMe\\u002fkts8s4Bs2LeWWZDbShqFljeCOLl3EMpuu4JDPPlXUAG5ZZxODbgP3LLKqhgwu5roxjME3iwMFeoTUUNWsXtsodw6H3XZ4ps6iAtdhz6F9fGoHF2JM1yjgqYGq2JB16bWw12A+HDHrNWoxdWbWMY\\u002fBdx8\\u002fLLIZbO9uzZRlHDJWteHke+q6gM7ipzGLwrcaug3rdO+g1ay32yiE9XL6Yd+9UzVK8Lnv0xjBakteyVBnHsHqSL5ZZDIl2XsVaZTxwBrdmtbML65RxDJW7+VmZxbDaIHv0xrDbg43KLIbV6dxbZjFU1mOnwZsOGtyaNY63D97\\u002f9uiJ72VCqzra+NgQPD8c0b3xfDDrZavjcf6vzGIItfM2xpbxABncmrVXrpmG3QP8ko4yjuHwYvYss4jhsDebl1kMhw5+kRdFD7vNB+8+wyDWrDF8ssxiyD3Jb7ivjGPItfN5RpZxxHAYyXG51VAF93I2U8o4htwnGVVmA2EQa9YrsyVpRfyTi5lbxjG0duIVZRYxfHZihzKLoTWXS\\u002fhnGcdw2JJdymwgDGLNes+g\\u002ftOj557iFzxaxjG0DmVcmUUMn\\u002fG8vcxiaD3CmTxdxjEcRvD+MhsIg1WEtstUVqX8gb+XWQyh7bJHb1RNG1uzbRnHEPoHF5RZDJ8XsXWZ9dug1KyRvJqlyziGTycn5GXSw2U0u+VVclFBq7L7IC1IiUV6li\\u002fnlWiVsgx7D\\u002fgK2kGpWWvxssF7ODL65h\\u002fZFH64rMlOuWMYFTSOnfLuneFyBv8qsxhWY3k5q5dx\\u002fwxKzdoqjwpX0zE8UmYxyEawWd6uE5W1NS8epDNBdONRjiuzqIDN2arM+mfgD66l2IVJZRwVMJnvlVkMssV5w6C+MCuiPyayL4uVcQyyb2WvrGpakp0G9n1oA1+zVmLnMotqmMuZXFfGMZhWYa8yi6iSV7NqmcVgup5fZZOdytqVlcusHwa+Zg38jc0YQHfxE54t4xg0H8zbdaLiJvCBMotB8yw\\u002f4c4yjspYi+3KrB8Gvma9LY+tV9kMzuHfebxlaKzM68ssonr2Z8Uyi8HxH85mRhlHZbRxSJn1wwDXrJfwojKLirmNX2ZCa2gcwpJlFlE9S\\u002fGWMotBMJWfc3sZR8VszRZl1lcDPPH0q1y8t4TR\\u002fCuPgw62dm5lrTKOqKQ7WD\\u002frhQbbtWzDzDKO6vkpB5dZnwzkbNayWevbKmbxuRzqg20\\u002fliuziKpanteWWQyoWRydL95W8bqB2mR9IGvWgdmStIWczTllFgNnHK\\u002fOlqTRQsaxT77DB9U5\\u002fLbMoqrG8YYy65MBq1njeNWA34OMQfV57i6zGCCb8mLayziiqtp5MZuUcQyQezm2zKLC2tibMWXcewNWs7ZmvTKLaruJk7IWY5C8JKuyouWsPbAPssdz5nISt5RxVNsGA\\u002fICj4GpWW3swPJlHNU2h99zWRlHv63CzrljGC1nPDuwUhlHv\\u002f2Vc5ldxlFty\\u002fOK\\u002ft+lG5iatQJb5azSim7lNB4v4+iftXlJmUW0gu1Yu8yifx7ndG4r46i88WzV\\u002fyeZBqZmrc9mZRatoJPz+Asd5Uj01Si26\\u002f+RGTEsVuCljCzj6KsO\\u002fsJ52RG6RW3OBmXWSwNQs0axKauUcbSIh\\u002fk6T5dx9NUY9u3\\u002fPHPEsGhj3zxvOICe5iQeKeNoEauxcT+vOwagZi3OTowq42gdf+fUMou+2pAXl1lE69gqzzMNoJOz\\u002frWljWJHJpVxbwxAzVqGl5dZtJS5HMmtZRx98u7s4xAtrZ13lln0yS18Mk9zt7od+7lP6QDUrJ1Ypsyi1cziCJ4o4+ilJXldmUW0mv1Zosyilx7no8wp42g1y\\u002fKyMuuNAahZB5RBtKZLOT1fCv30GpYqs4hWszSvLrPojTmcxsVlHK3pwDLojf7WrBXZtsyiNT3L6VxdxtEbB5VBRGt6cxlEb1zFj5lWxtGatu\\u002fPfcP+1qz980xKbXTyH07nqXIkeuZFbFRmEa1p42zT02dP81OuySYOtTGOfcusx\\u002fpVs0awf5lFK+vkNC7Jt0Pf7NzPB1IiqmMSO5VZ9EAnF3NavkVr5sA+b9PTr5q1Ri536mcqX84uL30wgW0YX8YRrWk8L2FCGceiPMrx2YmwfrZktTLrmX7VrD1zx7CW\\u002fsGxeQi5tzZk\\u002fX4eUBHVMYL1soFWb83lGC4v42h9Y3hlmfVM388KbeyQXUnr6of8ssyiWxuxVplFtLK12aTMoltn8sMyi1oY1ee76H2vWWuzTp\\u002fvVUbFzeBobinjWIjF2JLFyziilU3ixUws41iI2\\u002fgcM8o4amEE67BmGfdA32vW5qxQZlEjd\\u002fMlnizjWJB579uNqJuXsnyZxYI8yZe4u4yjRlZk8zLrgT7WrHY2zubv9TaH33M2s8qReIE12bjMIlrfpqxRZvECszibc7O9c70tw8Z9eJdaH2vWMmzE6DKOenmYr3N7GcfzjWDnPGMYtTSBnbI4ZJFu4+t5QLv2xrBxH\\u002fYp7WPNWpVNyyzq6Ho+V2bxfG19fgIlovpe2efzRHMcx3VlFnW0MauU2aL08fBZmXXKLOqog19yGh3lSHRZum837CNawhYsWWbRpYNT+Hk2I22I9Vm5zBalLzVrLFvljmGjvI+\\u002f5XtkYd6SmypRYyP6+eLcGuvkbxxexlFfY9iCMWXcrT7WrJeUWdTadD7DrWUcYL8yiKiX1KwFu5XPMr2Mo9Ze0tt92ftYs7Yos6i1Ti7nOzxRjjTeqry4zCLqZUtWKrPGe5Lv8s9M8zfN1owrs271pWZtnVv1DTSDH3J+XsJT2C33z6P2RrNrmTXbXM7llGxG2kBL9XaiqS81a88sRWmmqXwuW8PPr43dyyyijnbP1\\u002f78buE4ppZxNEAbe5VZt\\u002fpSs3JZ01x38AkeK+OmWja7kkZDbJb9qJ\\u002fzOB\\u002fjtjKOxti1Vxcdva5Zq+UFuQ13LsdlqnyerfqwVV1EK1qaLcuskaZzLOeXcTTJOr3a1qHXNWvnPmw1HzVzKidnJy1szqQyi6ijSWxWZs3Twcn8sIyjYdrZscwWrtc1a8cyiOZ5hpO4uIwbZgzr5h070RATWC+Pe\\u002fyZk7IkK7BTGSxc72rWqOyYFfPczle4pckPM6\\u002fB2mUWUV9rs3qZNUYnt\\u002fBV7ihHopFeysgyW4je1awNWarMoqn+xIk8U8aNsRprlFlEfa3OamXWGE9zAheWcTTVMqxbZgvRu5r14t7ufho11slP+EYzJ7RGsBorlHFEfa3Ear09Z9RDJyfxk2Z+18UCje35MyG9O2Q2S82K+U3nK\\u002fy8jBtgAptlpUo0yhg2beZqxJ9xQh6vjvnNOxp6pBc1q501GVXG0WzPcARXlXHdLZ537EQDvZjFy6zuruAjTV4dEQs0mnV7uO9CL2rWWqxYZhE8zAe5sVEz6pPYpMwi6m6TRm1h0smNfIRHypEIlu\\u002fhMyG9qFmrs2yZRdDJv\\u002fgiD5Qj9bVOXuwZDbQMa5ZZfT3AF\\u002fJy6FiYZQe+Zq2WmhULM5vfcAJzypGa2r4MIpphuzKoqTl8jbOZXY5EYOBr1khWYbEyjugyje\\u002fz7TKuqW3LIKIZmrJ14kl8l2llHNFlcVbqSYla9CfmmcSavXpZYjTQdD7Er5lbjtRLO1uUWUQzbN3z00aL6uAcPsr0ciRiPiNYiyXK+AV6erwska0Yo4c+yMX1blovYmKZRTTD4vV++mMOF3NYGUcsyBo9eSakpzVr8R7ehIx4gM9wVY3fLb1bGUQ0ya5lUBcdXMWnmVyORCzIagNcs1Yqs4gF6eAKjuLucqQudiyDiCbpxVtzW8s9HM2VebQwemiVnmwk16OaNYJ1GVPGEQsxh4t4fy0fPGxjmzKLaJKX1nKd7lwO56JafmvFIBnHmovsUYsYnqe93jfjYzB08AcOqd\\u002fuyQ193UjEcyayYZm1uKd5M+fWe1FpDIZNF7kXfI9q1gg2KLOIHjiDY3isjFvZpj08aiLqakTNLrwf53PNfDdr9N8GizwjLGJ4nnbWLbOIHujgZL7LlHKkZW3Uw6Mmoq5GsFGZtayn+D6n1viRnRhUi36zYY9OGKNYpcwieuYpTuLnzCpHWtOGPTxqIupqBBuXWWuaxc\\u002f4Wp2uA2OIrT4wNWsjRpdZRI89zmH8roxb0CRWrOXy34iea2Oleuwd93uO4PEyjuixMaxfZs\\u002fXo5q1ZRlE9NJsDuScVn9B2Jo92SUlovYmtfqG1bM4lzcysxyJ6KUtyuD5elSzXlQGEb03m7fxS2aUI61j9Z7skhJRe61ds2ZyFm9Jx4oB8eIyeL4e1axaPVQSw+hJjuLs1l2ntVpqVgQWY7UyaxGzOYdPZz1WDJRNy+D5elSzFnHjMaLn7uEoLmnF53rmrUiZUMYRzTORlcusFXRwEZ\\u002fkrmz1HgNlERteLbpmLdGTN1BH9FAnd\\u002fIWbmy5r7nFWbEnh0xE7bWzAouVcbV1cguHcmfLfflElS3d\\u002feX3os8Zi+hpEX3wMHtxWWu912IJliuziKZajiXLrMLmcBm780A5EtFv3RWlRdes9cogYiDcxyGc10LPHi7BsmUW0VTLttBjt7M4j7czuRyJGAjd7eC+6JrV3d8d0R938okW2uVhUmpWxHNapmbN5lyO5LZyJGKArFMG81l0zVqzDCIGSCe38mH+3BJLJVKzIv6nNWpWJ5fwYW5piS+ZaFFrl8F8Fl2zWvWp3WgJndzH\\u002flzK3HKwStqYxPgyjmiqxVii4q9EmMtl7Mc96VgxqFYtg\\u002fksomaNZOkyixhoU3kVv67yzqVjur9eiWigNav8Hrbp\\u002fIY9ebociRhoy3fzZsNF1KxlGVtmEYPgWT7I6UwtR6phVEvveh0xGNaobM2ayukcVtnvk6iZsSxVZl0WUbNWqOxRFPXzIJ\\u002fhBzxbjlTA6Nw\\u002fjyiszqgyq4BpnMxneagciRgcY1ihzLosomYtn5oVQ+lhjuIbZVwBo1ipzCKabcVq1qzv8EkeLuOIQTOK5cusyyJq1rLVPIqixmbwKT7CU+XIsBrZzVEU0UzLM7LMhtVTfIqPVXmVZ9TS6G6eQ1\\u002fEMbJ0alYMi6\\u002fzDJ9kjYo8yzSuJZ5ejxhKS1Zn8W4nd\\u002fFVflCORAy+Ud08LriI2awlF1nEIgZDBz\\u002fhKG6uyJPYqyzyYIlomvaK3Erv5GY+xWmt+E76qIGR3bx6ahFnjtSsGDbT+TXv4+ZyZDhkm96IBajEgXEbh3E208uRiCExsu9PGi6emhXDaCZ\\u002fYQeuL0eGXCXOJhFVs0YZDLmbeAUXMbMciRgqI7tZVdJdzRqfTa9j2HXyGC\\u002fjl8O70cPqZRARw1uzpvEbtuOhiiwtiMZqYxxjyhjd16zFmFBmEcPhaQ7j2zxejgyV1KyIBRi2A+MJ\\u002fo8PMKUciRgOE1iszNB9zRrPuDKLGCYP81WO5YlyZEisUgYRMVwHxhS+wBd4oByJGCbjFzYx1d3Kq\\u002fHVeVg3Ao\\u002fxA27lxyxTDg6ybJoVsQDDcGA8wlu4NAveo1LGLmxiqrvZrHGpWVE1M\\u002fgD2\\u002fDvoXxyu31hlykRDTep+7PIwOrgWrbnj+lYUTV9qlljF7agK2J43cX+nDFk74WtxN5AEdW0XBkMjmf5NW\\u002fktnIkogLGLGxiqrualdmsqK47+AQn8mQ5MghWKIOI6LJiGQyCp\\u002fg6H67ILnoRL5TZrKif+\\u002fkqhw7B1e1QnEciWtSgX4XcxTv4MveVIxGV0aeaNSY1KyruWc5hP\\u002f5SjgyoYVjmG9EqBrdm\\u002fYv9+DXPlCMRVTJ6YY2pu5o1Ku+Njurr5FoO4czBWxWbmhWxUIN1eEznTN7I1UP5vEtE3yy0MXW3ocPohf1NEVVzN+\\u002fmet4xGPtSD9Ea34hWNCg1637+j28MzeLLiP4bubDG1F3NGtX9cESlPM0XuZoPsfPA\\u002fuwuXQYR0WWA97Cbw1\\u002f4NmfnFTrRQkYxuszQ\\u002fblooVNgEdXUye+5nfdxKIuX43210HeCRsSC3zDSN1P5Ed\\u002fOE4XRchbamBZas9pop62MIyrvNo7kVo4fqII0kOeRiJoZsMNjKsfwLWaUIxGV176wQrXQJfAjFrZoPqL6ZvJd9uZ6ZpaDvTexDCKiywDUrFncwB6ckI4VrWvkAuemuqtZCy5mEa3ir+zK97mvn4s8BuA8ElFX\\u002fTo8OnmAk9mdy8rBiJYycoGdaqFVqq2bsYhW8TBH8TeOYNsFHgI9kRcaRixU3yd7O7iSb3AuT5WDEa2ml7NZqVlRE1P5DW\\u002fmu33bfWdkDoWIbozq5kTSjU5+zMH8Ih0r6qF9gYfCAqJ5ctMw6mMOd3AYr+XhcnBRxi\\u002fwAiUi5hmxsJeMdOMx9u96U9bscjCiNfV+Nqu9zCJaWSe\\u002fY1fO6dWLOyYs8MiJiHnaenXf8BnOZVfO6tvsckRlLbhmLXTGKjUr6ul63sNBvIXNFnhQFMb15EMRjdXW89ms6zmVn\\u002fFQORLR+kYucOpqoTVLzi1RVw\\u002fxdf7KWzl4kXtrLfgCJSLm6dFC3mc4g1P5Vyaxolm6Ozr69Qh8RJV1cAW38GeOYZNuqlRmdSMWobuDpJPb+Cx\\u002fYEo5GFEjnQvsTQuY4HrOAj4eUSdP8xt250xmlYNd8jaEiEVYaM2azVnswpnpWFF7Cy5NC61ZC\\u002f54RP08xEG8mct5thzs5gwSERa2kHcaV\\u002fIe3sDkcjCijhbcm3LTMAL8gis5hDew7vwXIAu9FImIeZ5Xszq4m1\\u002fwQ26bfyCi3hZ807C7mpV1itEsd\\u002fJlzucdvOW5t63npmFEd543mzWHX\\u002fFtrunVtikRNbCAjqWbmtXB3DKLqLtn+Sc38BO+zuYWeD8kIub334PkRj7E5Tz9vNGIZpi7wKa10BsiHd2sCY6ot2e4hF04ngfbM68b0Z0OIx7mJHbhT+lY0VizFngXsLvZrNSsaLTHOYrz2zreP3fE9qycm4cRL\\u002fCwOZd2dHx3hEsWeCUf0RypWRG91cnf5oy4qt2e7MceLFl+JKKhpvAnzjbynBELekQ3omlm97pmzSmziAaabXqn33AZZ3M422VaK5qtk6v4Jn\\u002fiIZ2duSaPQMcCZ3QXujbLAltZROPMgk4e5lfszrt4vPxQRFM8xSfYkZ\\u002fy4H9PK7OLz0Q0TsfCSlN3NWtOJrQizP7fBUoH0ziZjfgO9+X0Eo0xh8l8m\\u002fX4Ks\\u002f+71n0zqwwiTBnYeeDhd40xCxmd\\u002f+JiPqbr2Y95xEO53QOZmc26P6CJaKVdXIHF\\u002fEzLlvAxXfnwk4vEQ0ye2GXG92VqFnMYlwZRzTKQs4gc7mcq9mGfdiPNbNmK+qlk3s5i\\u002fO4jJnl+DypWRHMWtgR0l3NmrmwbhbRILMWMJv1nNlcxn\\u002f4BQfyLhYrPxLRkp7lx\\u002fyIGxe9n3vOFNF4C61Z3d3qmDebFdFs3daseZ7lKj7K5vxu0R+PqLROzmET3svli+5YWZsV0U1j6q5mZTYrgpm96E138Vq25IfckVsp0VLmcA8\\u002fYzv25e5yfGE6mVFmEU2z0Nms7m4azkjNijB9YY\\u002fpLlgH\\u002f+Y9bMF+7MZGz72FOqKS5nAzF\\u002fBb\\u002frmwk8VCzen13xFRPzMXdhwsomblGiUar5NpZbZIs7mcq\\u002fgFO3Agm3d\\u002ftEUMh7ncxM+4mCsX8BRhT0wtg4gGmsH0MkP3X\\u002fzPLuxvimiWp8qgh+ZwBdfwc\\u002fbiQ2xYfiRi2NzI1\\u002fkjj\\u002fTrkrqvh0dEnUxf2AV5d2uzpi3sb4polill0CuzmMwP2Ii9+AvTencfMmLAdDCdf7AvG\\u002fN\\u002f3NuvjiU1KwKmW8irPTObFbFIU8qgz37PhbyUQ9maNbMxXQyVmdzLFfyYixe2jKQvppRBRAP1tWZlNitigC\\u002fXZ3Mpf+XF7MXObMni5aciBszTXMml\\u002fJnLevHgbA8N6OER0aKe7UvNmp7ZrAgG5XK9k6u5jp+zMXuwL8uWn4rolyc5j7O5lrsHa4eRJ8sgooFmLGyKuLua1cEzzKW9HIlolCllMFBmcxu38yc+z768nU26XzMZsSgd3MKPOIMpPDu4awGnlEFE08zh6YVNFHdXs\\u002fAEs1OzoukeK4OB1dk13\\u002fwNvsMOHMFLWIzReU9i9My8vdif4d98m98P3baHj5dBRNPM5oky67KImvUYsxlbxhGN8kAZDJ45XMRFbM5reQnrsMYij9RosLnczy1cxm+4thwfbPeXQUTTzO7manwRX96PD9bd\\u002fIgWMoQ16znXcA3LsDlbsj1bsUImt2I+j\\u002fNvLuYarubBcnxopGZF483pZlZ3ETVr3mxWRLNNLoMh8xh\\u002f5mJ+xhq8nNewbfmpaJwb+A0XcTf3MrccH0rDd3hEVMSsvs9mpWZF8CCdwzmP1MFkJvNPvs5GHMprWLn8YNTc\\u002fZzND7mZWcxd2KLbodPBo2UW0TSzuzkOFnHmWJVLWKuMI5rmSZYos+E1jpfxWnZmaSYxpvxItLzZPM1j\\u002fI1fc2nl3iD4KMuVWUTT3Mn2C7ttv4jZrIf7+xqGiHp4qHI1azoXciHj2ZEd2Jx1WDV9q\\u002fXN27H9Dm7iH1xQ3T1AHy6DiAaa1s1s1iJq1iweYaMyjmiah9igzCpiGufzB1ZkfdZmE7ZmUyaWn41Km84tXMkV3MYtXferK+yhMohooIeZU2ZdFlGzcE8ZRDRQ5c8mHdzP\\u002fVzMYizF0mzPXrwkL\\u002fOptmn8h9\\u002fzJx7ncaZUvV09p\\u002fIHRsQQ6K4oLbpm3V0GEQ10XxlUVidP8zR3cxUnsQS78lr2ZMlFLsiMIdHJE\\u002fyes\\u002flzC++kfm8ZRDTQXWUwn0XXrO7+7oimuL0MWsgUfsWvwNrsxitYj6VZkgl5z8Pgm8uzPMkT3M0\\u002f+DNXl59qRa18YEQMlLvLYD6Lrll3lEFEA9XlbHIHd\\u002fA9lmFTNmEtVmEVVmbFnnwlRM\\u002fM5fGuO7l3cwvXc3032+u0pNvKIKKBuitKi75\\u002fsFQ3m5tGNMW63FTPaZ92lmIFlmdV1mdDNmGNvMG69zp4gFu4mWuZzMM8zKPMLD9bA3NYnzvLOKJpluLJMuuy6EvXJ3mSJcs4olGm8STLlHENzOVRHuU6RjCW8UxgcTZhSzZlK5Yq\\u002f774r2e4nhu4mn\\u002fyJNOZxrRh3px9CDxez\\u002fYY0SuPdb+4ctE1q5Ob2K6MIxplDg\\u002fWs2bNr6OrH8y7sXUdZ3QNrcFL2IYt2ZCxtDOC9q7f1Fgnc5lLB3OYwY1cxeVc3v0zRjX3YF4TEuHG7h8MXnTNwvWpWdF0s3mQTcu4Oe7mbs4EbSzHeqzO6qzDKkxiIuMZzzjGteYt1jlM7\\u002fo1jWeYyhPczr3cyU3c1\\u002f2XaoM80M1mQRFNcX0ZPF9Pa1ZEs83mgTJrrM6uJUd\\u002f7UpGd63uWoalWIolmdT1+6VYnIksxgTGDvfsVwczmNr166muZwCf4Cme4Mmu\\u002fase4mFmlf+AmCezWRGLrEg9qln\\u002fKYOIppnN5DKL58zi3hfsoTSaCUxkAuMY2\\u002fVrDJNYumtHicUYx2Jd02ATun4znjbG9GxWbC4z6WRa10TUVGZ0zUhN55n5ytMUZjKTGcxgOs92Va60ht64P\\u002f\\u002fCIlxTBs\\u002fXo5p1HXN6+NGIepqVB6p6bRazFvL8zfyLukbQtqD\\u002fnPcY9HO\\u002fGcHort+gA8zq+k1n1428eb\\u002fpWNB\\u002fdsy3xCoGwp2Z6Yumm80NZfZ8PepOs7iHtcs4ojk6eIxpjC9Hog\\u002fmlZ7MhLSyqTyeyhpNd+civ8h6tERiLreUWUTTPMUjZRbRVI90\\u002fxR7RCPcssiNW3pUszq4ucwimmYKj5ZZRFOlZkVw88DUrLmLvPcYUX9P8nCZRTRValYENyzyznmPalZHljpGeJKHyiyiqR7kiTKLaJSZ3DMwNQtPc3+ZRTTKVB5e5PxwRBPM5VGmlXFEo0zm6TJ7gZ7WrCncVWYRTfNwziwReDZTuxHu6smd89SsiJ6bzDNlFtE8z2S73gh3LmRjwOfpac16ijsXeQcyoubu5qkyi2iep3LhHU3Xwd0DedNwLg\\u002f05J8XUWd3pGZFYEreihBNN4XJPZl96mnNwn08VmYRjTLvUZB5b3WJaKhO7mdqGUc0yuM9vHPei5p1TzZnjOjBLikR9dbBdWUW0TSPck+ZLUgvatZ9PJgL+Wi661OzouE6uL7MIhqlkwcHfjZrJrcu8h2JETV3TWpWNFwH15RZRKPM4uYe7trei5qFa5hRZhGNclsWpUTDPZ3179F0M7m2zBaidzXr36lZ0XSdXFVmEU1yRRlENM0Mri6zhehdzbojq+AjXFoGEU3ylzKIaJqHe75zXO9q1pxcx0S4oAwimuSPZRDRNP\\u002fq+ftte1ez8OcyiGiaq\\u002fPKnWisp\\u002fOYYURvqlCva9YFPa9wEfU0lyvLLKIZLs8pIJpuLn8qs4Xrdc16hBvLLKJp\\u002fl4GEc2QH\\u002f1ovOt69U6cXtcsXFgGEU3z1+zUGw3Uyd\\u002fKLKJpejGVpW816\\u002fdlENE0d\\u002ffqaiaiHh7m3jKLaJrelaC+1KzreLLMIhplKjeXWUTd3ZTNeaPpHuOmMutWX2rWdC4vs4hGeSYvz40Guj4P2UbT\\u002fZPpZdatPtas3J6PZnuWa\\u002fKGz2iUWVzDs2Uc0Sh\\u002fG4qaNZv\\u002f8HQZRzTHXO7mwTKOqK8HuCcvTo9Ge4pre3uB3Zea1clkbi\\u002fjiEa5p+cvW4iogbu4p8wiGuU27u\\u002ftY+Z9qVm4P7tnRdPdmWuNaJQ7uLvMIhrlRiaX2aL0sWY9xg3MLOOI5pjNLVmpEg0x79na3t0siaiVmdzAE2W8KH2sWbiBR8osolH+w5Qyi6ijKfynzCIa5WFuKLMe6HvNupoHyiyiUa7uw5VNRCt6MjUrmu4Bri6zHuh7zXqQG\\u002fLUSTTaE9mkNBrixlxSRKPN5ToeKuMe6HvN6uBiZpVxRHN05g2f0RAX9Pbxqohamc1FfTsI+l6zcHEWAEfT\\u002fSHXGlF7s7igzCIaZSoXl1nP9Ktm3c8VZRbRKPfy7zKLqJer+vAUe0St\\u002fIuHy6xn+lWz8LMyiGiaM8ogol5+WgYRTfPjMuixtjLopTE8xsQyjmiOpXmY9jKOqIU5LMeTZRzRHFNZus\\u002frQ\\u002fo7mzWT88ssolGmcFWZRdTFv\\u002fIG22i63\\u002fW5Y+l\\u002fzcIvmVtmEc3RwR\\u002fLLKIu\\u002fpCNe6LR5vLLMuuNAahZV3JvmUU0RyeXMr2MI1rfs\\u002fytb0+xR9TE3X3blfQ5A1CzpnBpmUU0yj19ewlDRMXdwH1lFtEol\\u002fJUmfXGANSsp\\u002fgzc8o4ojke4u9lFtH6LuvbvtcRNTFvV9Lhrlmd3MYtZRzRHM9wVRYKR808xb+ZWsYRzXETt\\u002fbztvkA1CzcwtVZJhmNdj23l1lEK7ud68osojk6+A+3lnEvDUzNepLLeaaMI5rjFm7OtUbURgc39\\u002f8ME9HCnuGfTCnjXhqYmoW\\u002f9Hkj+og6eJZ\\u002f5CWfURvPchnTyjiiOR7ikjLrvQGrWdfnUatouv6ulIyojin8ucwiGuUmbiqz3huwmoVf9HOdWERru5EbyyyiNd2QO4bRaJ0D9dLmgaxZv+fBMotolJ+XQURrOrMMIhplMheUWZ8MZM16qj\\u002fvsI6og3Pyjt2ogSf4XZlFNMqPBmoRyEDWLHyVmWUW0RyPc1aZRbSaX\\u002fBEmUU0xwz+X5n11QDXrMf5Q5lFNMq38y71aGlz+W6ZRTTKuQN4X2KAaxZ+xqwyi2iO27mizCJaxz+5s8wimmMWZ5RZPwx8zboqT1tFo83gV3noNlpUJ2cxo4wjmuN6\\u002flNm\\u002fTDwNetBzstJJpprDv\\u002fk\\u002fjKOaAWT+SdzyjiiITo4b2B3TRj4mjWNfzC5jCOa4y4uL7OIVvBP7i6ziOa4j78zvYz7YeBrFq7k6kxoRXM9wN9y4yVaznQuG9gL+YhW0snVXFnG\\u002fTMoNethLmFqGUc0xz+4o8wiqu0O\\u002fl5mEc0xlUt4rIz7Z1BqFn6bS6JotGv5d3Z2iBYyl6u5rowjmuMBzimzfhusmnUXF5ZZRHNM55yBvcEfMaimc3ZudUejXcC9ZdZvbWUwcNbh1kH9L4iotHZuYt0yjqik29kwzxhGc3Wy1mA8ATJYs1m4nd+UWURzzOX7ZRZRVd9Jx4pG+\\u002flgdCyDPdm0LRcysYwjGmIZbmKZMo6omEfZmEfLOKIhnuUVXFXGA2EQZ7PwHy4qs4jmeIxflFlE9ZyZjhWNdiHXl9kAGdyaNYtTmFnGEc3xPaaVWUSVTOP\\u002fyiyiOWbyw8F7G\\u002fPg1qxObuCfZRzRHPdxfplFVMm5g\\u002fF4VUTL+DvXD96W6oNbs3APv8tz7dFcT\\u002fOLbNYblTWVX\\u002fJMGUc0xHTOH9QLjUGvWXP4MzeVcURDdPAf\\u002flXGEdXwL\\u002f5DRxlHNMRNXDioT9kOes3CDVw8eLc9I6rubi7OCq2ooGn8mXvKOKIhZvFnbizjATUUNWs2P+KpMo5oiNn8YVAnpSP65h7+wOwyjmiIKZw22LNAQ1GzcH2WAUejXcnluTMTldLBv7i6jCOa41xuKLOBNkQ1C1\\u002fNKstotFPzKEhUyvTs4xCN9jQnlNkgGLqadQM\\u002fLbOI5vgrfy2ziOHzF\\u002f5RZhHNcfrQPJ43uC\\u002fbKWzIhaxUxhENsQX\\u002fZFQZRwy52WzLv8s4oiEeZCduKeNBMHSzWbgrE1rRaP\\u002fOGsWoiN\\u002fynzKLaI7Th+wR2yGtWTP4DXeVcURDdHJCdnaIYfcs\\u002f2\\u002fwNr2OqLq7+C0zynhwDGnNwk2cl+eHo7luzoRWDLvzhuZmSUQVzea8IXjA8DlDXbOm8Fsml3FEQzzJb3i8jCOGymOczZNlHNEQkzlnKLfyHOqahb\\u002fxF+aWcUQTzOWvXF7GEUPlCv6Wb+BoqLlczGVlPJiGoWZN58QhuykaUTn3cQFPl3HE4HuK87mvjCMaYgYnDfEWhsNQs3A9p5ZZRHOcxa1lFjH4buXXZRbRHCdzbZkNsuGpWfj8kD1MGVE5kzmlzCIG3yk8UGYRDXE3Xy6zwTdsNethTsw73qK5zsi+RTHErubMMotoiA5O4MEyHnzDVrNwDleUWURDPMVHsnVRDJkOPjyUj1dFVMvl\\u002fLbMhsRw1qzJfDtr4aO5LuEPZRYxOM7POzWjuWbwfe4v4yExnDWrg79xUW4dRkN18P8yvxBD4ElOyjdtNFQHf+Yvw3UEDGfNwl2cwRNlHNEQ\\u002f+Hc3DqMQdXJuVxTxhEN8ThncncZD5Vhrlk4l7+VWURDPM5vhmVVZjTHA3nzQDTaPzi3zIbQ8NesKXxpuObyIoZZB38cxtnsqL0OLuVP+QmLhurky0wp4yE0\\u002fDULl3NqbpxEQ03lRzxSxhED4RFOYWoZRzRBJyfz9zIeWpWoWfgwt5VZRENcwO\\u002fKLGIg\\u002fI4\\u002fl1lEQ9zGJ8psyFWlZj3N8TxbxhEN8RUml1lE\\u002fzzAl8osoiGe5XieLOMhV5WahfM5r8wiGuJ2Pp875zGAOvkCd5ZxREP8gd+X2XCoUM16lJ8N1\\u002fZhEcPvTP5RZhF99Xd+WmYRDTGZ0yuy5rVCNauTP3Euc8qRiCZ4hhOyWDkGxFS+xjNlHNEEs\\u002fkdF1bk\\u002fkCFahamcXLWwkdDdfBPfsfcciSiN+byO\\u002f6RTRyioe7gFKaV8TCpVs3ClXyrIhU0Yqg9xE+4r4wjeuM+fsJDZRzRBJ18m6vLePhUrmbhNP5UZhFN0MklnMfsciSiZ+bwey7OxWo01B\\u002f4UaV+\\u002fNvKoBqW4xaWKOOIJliZK1ixjCN64AG25oEyjmiCp1mPh8t4WFVxNguP80VmlnFEE9zPZzOhFX0wm8+kY0VDzeBYHivj4VbRmjWXX2TeO5rrlIrs+BKt5fecWmYRTdDJxfyqgo8QVbRmYTInZ2PsaKgOPs+9ZRyxcPdxXJ4ujIa6l\\u002f+rZmWobs2ay\\u002fn8hlnlSEQTXMv3KnhlFtU0l+9wXRlHNMFsfsvvq\\u002fmFWd2ahel8gbvKOKIJZvIb\\u002fpY757FInVzKr7OeNRrqDo5jRhlXQ6VrFh7h4zxdxhFNcDM\\u002fqMj7IqLKHuUUbi3jiCZ4ho\\u002fwaBlXRtVrFn7Lt6o5FRgx6M7lvKy3iW508Ft+V8YRTTCXb3F+GVdJRffNKqzIj9mljCOaYG0uZI0yjgB3swt3lnFEE1zAITxYxlXSArNZeIgvV\\u002fMRgohBdweHZYVWLFAnH0zHioa6j69W\\u002f7VSrVGzOvkLP6jsCreIwXUup+XWYRQ6+CG\\u002fLeOIJpjOyfy1+pegrVGzMIsfc0lONdFQx3F9mUWzXc\\u002fxZRbRBB1czGkt8XBty9Qs3M0Xq\\u002fayooghMplvVvlpmhhij3AS95VxRBM8wvHcU8aV1Eo1C3\\u002fjc9WfIowYeLM4i9\\u002fkXYeB2ZyT3ZujoTo5mr+XcVW1xpOG82vnFN5axhFNsB7nsEEZR8Pcwuu4qYwjmuCHvKuFdnlqsdkszOWTXJ45rWiiW\\u002fliHgVpuJkck44VTdTJFRzdQh1LK9YsPMyxrXJXNmKA\\u002fYTvt9a3TAygDv6PM8s4ognu4Zjq7+BQaMma1cGlnMoz5UhE7XVyDJeWcTTDRVmfGg31NCfzl5bbb6Alaxam8m0uLuOIJniSY\\u002fOQWQPdy+d5vIwjmuAvfJepZVx5rVqz8Djv5akyjmiCyzgpz5k1yky+zmVlHNEET\\u002fAunijjVtDCNQsPsDePlXFE7c3mZ\\u002fyGOeVI1NEczuHn+fOOJnqUfVtuSdZzWrtm4a98PnNa0UQPciI3lnHU0U18hQfKOKL2pnAsfynj1tHyNQuncXpun0QTXcGnmFbGUS\\u002fT+TRXlXFE7c3iJ\\u002fykjFtKHWrWFE7i0jx9E030Bz5bZlEjnXya88s4ovY6+SvfaPX7VW1l0LJ24VRWLeOI2hvHj9m3TodzzNPJLzmE6eVIRO3dy1u5pIxbTR1ms+b5M5\\u002fh6TKOqL3pfI6rM59bM51cxXHpWNFET3NsDTqWOtUsnMYXs1AlmugWvsrkMo5WNpmvcnMZR9TedL7IKWXcmmpVszr5Jt\\u002fJi0iicWZzHv+X1x3WxnS+z3nZwSEaZy7f55tl3LJqVbMwjW9xbhlH1N5UTsjPfm2cx9d4towjau93\\u002fL863Zeq55rZ7fg2m9f1\\u002f17EQo3k72yVn\\u002f3W1cm\\u002feWk2qYnGmfez\\u002f37+WY60srrNZs3zd47l3jKOqL05vI0byjhax40cko4VTXQfx9WsY6lrzcLZfJpnyjii9m7hC3mxdIu6h89zUxlH1N4zHM05Zdz6aluzOjmTj2ZJcDTOHM7l5FxltJynOZnfZdl7NM5MPsEZtdyVprY1C3P4MSfQUY5E1NtUvsI5+dlvIR2cx4lZ9h6N08nXOI3Z5Ugt1LlmYTrf48y6\\u002fulFLNQMDueftbw6rJ9OLuew7EQajTOLn\\u002fKtOj1aWKh5zcL9HM+fcl0fjfMkb+byMo7q+RcH8XgZR9RbB3\\u002fieB4oR2qk\\u002fjUL1\\u002fMprijjiNq7k49xXRlHlVzDx7m7jCNq70qO4sYyrpcGba6zNuexfhlH1NsoXsdXWa0ciQqYzEc5K8veo3FuYy9uL+PaacRs1jx38Np6T01GLMBsfsm3mFqOxHCbytf5eTpWNM797N2EjqVRNQu38X7uyqrgaJZOvsGP8ihIpczh1Dq9uS2iRzq5i\\u002fc1pGNpWs2ay+\\u002f5HPeXIxH1NpOjOC3zJhUxhx9xdHZ7j8a5n2P5I3PLkZpq0Nqs54zjAL7NuHIkot6W4su8jfZyJIZQB6fxUZ4oRyLqbQYf4GeN2rqkiTULo9mfUxlVjkTU2xqcyOsae+xXwTkcwV1lHFFvc3g7P2dmOVJrzbpp+Jx5G6IdkVfxROPczWe4LAsUh0Unf+cz6VjRONM5nNOb1rE0tmbNczqfz5aA0Tg38BmuL+MYfNfzSa4t44h6e5xj+XEZN0Oja9YzfJevMaUciai3i\\u002fkod5ZxDKY7+DiXlnFEvT3FSfxfY\\u002feUyfoMS\\u002fB+jsu\\u002fi2icHfkB65ZxDII7eCcXl3FEvXXwab7Hk+VIY6RawBgO4yv51xHN0sYunJIN4gfbZA7lwiyIi2bp4GN8u4HrsebX6JuGz5nJ\\u002f+MzjZ3TjIbq5M98hPtSAAZJZ9frdNKxomGmchQnNbxjYWQZNNVcvslcPsRy5WBEXXXyaxbnOFYqB6PfHuZYfpWOFc3yKCfx3ebsQdqN3CV7niV4O0exZDkSUWMjeBNfY5lyJPrhCT7CT7L1fjTLU3yBk5u8Hmt+qVmliezHdxlbjkTUWDuv43ssXY5EnzzB+zgrHSuaZQaH8XOeKUeaKjVrAUawDz\\u002fL23iiWUZyAN9kiXIkeunJrlNNOlY0yTQO5Fw6ypEGyxL4BejgXA7lnvywRIPM4Uw+zgPlSPTGg3yKX6RjRYN0ci9v47ycNgupWQs2h7P4MDdl7Wo0yBx+xOd4sByJnnmIz3Ays8uRiLrq5CY+ytlZ8\\u002f5CuWnYnZHsyNfZuByJqLF2XsNJrFKORLfu44icaqJxbuJDXJQJ3AVKzVqENtblDLYoRyJqrI1d+AFrliOxEPfyjuyPFY1zJW\\u002fi9twrXJjUrB5ZgTPZIf++olleyQ+yR3xPTOZd\\u002fCEdKxqkk4s5kEfKkZhP1mb1yEO8jZ8yvRyJqLELOIKbyjie7yYOT8eKZpnGmbwrHWuRMjvTC6vxId6bLbWiWXbnWLYt4wDX8El+X8YRNTaD7\\u002fB17itH4gVSs3pnSd7E55lUjkTU2GYcz575xihcwFFcWcYRNfY0R\\u002fPjbPLeQ\\u002fnS7LVRvIpv5w1w0Szrcjyvy0qDeTr4NZ\\u002fitnIkosbu5\\u002f38nlnlSCxEalYfvYJvsnHOOdEgK3Eir2dUOdIwszmbDzO5HImoq3mbYx3GxVmF2CspCX30F97OhdkgJxrkAT7Ej5lRjjTJdH7KB9OxokHm8mfew0XpWL2V2ax+WZsP81YmlCMRdTWJw\\u002fkAy5UjDfAY3+Akni5HIupqGqfzVe4sR6IHUrP6axJv50iWLUci6mo0B\\u002fC5pm1eeg\\u002fH8DNmliMRdfUwX+ZHWfDeZ6lZA2AUe\\u002fA11ilHIupqJLtwEuuXIzV1G0fwx7xPJBrkHj7KOXlFZ3+kZg2YbfgOmzOyHImoqy05mc3qvcqzgxt4J5eXIxF1NZdreT\\u002f\\u002fKEeil+r85TjE\\u002fsU+\\u002fJQp5UhEXV3F6zi7xu9HmMY5vC4dKxrkKc7ktelYAyKzWQNsMd7D+1ijHImoq+X4GIeyVDnS4h7nFE7g0XIkoq7u4nt8L4959MRHPvKR9ddf\\u002f5ZbbjnxxBPLsS65wTXAnuHbXMexbJUaG43wCF\\u002fgNo5mlXKwZT3EFzmdp8qRiFrq5N8czSVMKwdjQdZff\\u002f0tttiiTJ8vNw0H3jT+yF5cWI5E1NUUTuag2rxH9jHexLfTsaJB\\u002fsQr+X061sBKzRoUnTzG7hzFw9nNLRqhg7+yBRe29FKtGVzCllxERzkYUT8dPMzx7MFjOV8NuNSswXUC7+dvef9TNMX9HMj3WnRa63FO5o3cW45E1NIs\\u002fs57+VwK1iDJ2qzBNYvfcAvv5t15FVw0wmN8nts4ktXKwQqbzFc4g8fKkYhamsOP+QY35L1xgyezWYOug+s5moN4qByMqKUnOJU3cH05UlU3cwAnp2NFUzzAAXyCa9OxBlVq1hCZwq\\u002fYhj9lwUc0wgwuZ3POqPiXeAdnsTGXtfSasoie6uAytucsHi8HY6ClZg2p+3grX2VyORJRSx28m49zVwWvLzq4h09yaAX\\u002fx0UMivv4MvtxVzkSgyNrs4bagxzNv3g7uzK6HI+omWf4FjfzQXar1F5yf+VELsiroKMRZvNXvsm5eTPnUKrQV17TrM5BvJ+Vy5GIWlqXt\\u002fMBJpQjQ2463+UUbixHImrpQb7Dz7mtHIne2HnnnQ844IDn\\u002fnK99dabOHHi1KlTb7311ufCM88886KLLnruL1OzhtNYduCLbJE\\u002fiWiECezDl4b3CcR7+TjnMbUciaifDq7k0\\u002fyVGeVg9NKIESNOOumkl770peVAl3\\u002f84x+HH354Z+f\\u002fdsfIyX34TeQLHMqE\\u002fHlEI2zK19hh6O+Zz+KffJQrypGI+ulkGqfxybygcACNHz\\u002f+Rz\\u002f60VprrVUOcOeddx5yyCHTpj1vG\\u002f2c1qtiNz7ONixejkTUz1J8lDew1tB8C3VyLz\\u002fPe6CjKaZyJd\\u002fgN+VI9Nvyyy9\\u002fxhlnLL74807XTz755MEHH\\u002fzwww\\u002fPHxqaL7jooZU5hLcN2ZknYpjtzmHswrhyZEDN4GK+zznlSET9dHIHP+ZH3Je93fvpBz\\u002f4wRZbbHH11Ve\\u002f613vmj\\u002fffPPNv\\u002f\\u002f9748c+d\\u002fnCOfMmfPud7\\u002f7mmuumf8z8\\u002f7ebOhQIffzdQ7mtDwHEo1wIR\\u002fg+EGdYHqSE3k\\u002fvytHIuqng19xMCdybzrW4LnmmmuOPfbY5\\u002f7y2GOPLTrWc1KzquVZ\\u002fsn7eT13lIMRNTNv46ov8ybuKQcHwt3sz3HV3LYrYoDdzmt5G5fzbDkYA+38888\\u002f\\u002ffTTcfrpp59\\u002f\\u002fvnlcJfsm1VF0\\u002fgtV3MUr2fZcjyiTmbxJ9blK7yZJft\\u002f+dfBFM7kQ8wuByNqppPH+C3HDdLlSizMt771rSlTpvzkJz8pB+bT36+zGDyTOYz3cD5TysGImpnNJ3gbF\\u002fTzQnw6F\\u002fMOPpyOFfX3FH\\u002fknbwnHWvodXR0nH766R0d3c2VZzar0ubway5lXw7ipUP\\u002fBHzE0JnF77iB\\u002ffkAq5TjPTBvE8Zfcks5ElEzs\\u002fkXP+XXlE+3RXXkgbbWMJLV2Y8Ps1w5GFEzY9mQj\\u002fN6RpWDCzGH33MMN+YN0FF\\u002fj\\u002fMtfspdeWJqUH3961\\u002fffvvti33ee2jeHvGpWa1kBKvyHfYqRyLqZzxv4hhWLEde4EE+wxn9vN0Y0QI6+R0f4P481zEE3vrWtx522GFl2hupWa2njd35GFuxeP4Io+bW52h2Y9kX\\u002frB38gQXcTz\\u002fLsYiaqWTp\\u002fkPJ3BedmoYMuPGjdt333233HLLiRMnlmOLMnXq1Kuuuqr82opWsSyv5\\u002fVsz9hyMKJORvA6DuHlTHoufZq\\u002f8zN+mov6qLmZXM6ZWYbVilKzWtva7Mbb2JL2cjCiNtpYmdfwTjbtMOJmTuFX2eU6am4OV3Iaf+GmcjBaQWpWy2tndfbhCFYrByPqZAwrP+aDP3PQNy0zmRnlByLq5B5O5FzuZW45GC0iNas+luDTvI8x2Q8taqezaxvTD3KnlTiR1zImX2JROx3M4Ed8hsfLwWg1+Yaqm\\u002fU5gp1YI5tsRS108jCX8x0uYdZ\\u002f49HsyPvYkpXzVRa1MJt7+RNf47ZyMFpTvptqaBQvZl\\u002f2YuPMbEXL6mQyF3E+v+eZchzj2YXXs0vKVrSyDq7nj\\u002fyOfzGzHI+WlW+l2hrLpuzIm1O2ogU9wS\\u002f4Df9a9MumlmQb9uaNLFMORlRaB7dzGhdwXQpW\\u002faRm1dxoVmQ\\u002fjmDlcjCiiqZxGifxAFN7+iBhGxNYmQ\\u002fxFsaX4xFVNJmv8RseTMGqq9SsphjFO\\u002fkQqzA2f\\u002fBRPXN4gt\\u002fz2f6+AndFjuL1LN3zd\\u002fVEDJVOZvIg\\u002f8fX0q5qL2fbZlmCA9mXzfJuxKiMp7mNv\\u002fITru7p9NUibcQh7My6LF4ORgyPh7me8zmdx8rBqKPUrCZamVewIzuydpZtxfB5isv4Ixdwczk4IDZkV3bm5SxdDkYMkQ7u4yIu4FIeKMejvlKzmmsSG7Abb2Gd\\u002fCjE0HqKsziLG7ifOeX4AGpnBTbljeybma0YWp3cyulcws08UY5H3eXc2nSjmMC+fJDNysGIgfcAP+S7PMmMAbtFuEhtjGUp3sfbWLEcjxh4\\u002f+EkzuZZZpeD0QypWfFfI3kJ7+flLMOYcjyi7+bwNPdzKj8e\\u002fjUpS7A\\u002f72M1FmdkOR7RdzN5jCv4LhenXUVqVjzPCLZgX17KBiyXlVvRP89yM1fzB347uDcHe2skr2EPtmB9JpTjEb3QwSPcxD\\u002f49UA+yxEtLjUrFmx1tuIl7MgWKVvRe49wCX\\u002fiSm6u7muex7IhW7A9O+f169F7ndzEhVzKFdxbjkezpWZFdyayIhvxVnbJ4uHogTlcy5lcyt080jIX9UuzJjtxIJvmTmL0wFNcyOncxgM8VY5HpGZFT7QxguU5kPezZjkeAc9yLt\\u002fkcua2TLsqtNHOBnyAA3NlEQsxme9zOvfT0ao\\u002f7DEkUrOid9rYiTeyHSuwJO3lR6IpOpnKY9z6\\u002f9u7v9+s6jsO4K8WKLVooUV+VNsyqRUUZc3cJovOgUsWksWEZdnVkt3IjV4Y\\u002fwL\\u002fAa+MF2oiXswsWTLNTCTZdjEXh\\u002fNHfTYnxinCphToA1UQQWttabuLJ6drT6VTofbX+5WTJyfn+32eq89zvp\\u002fz\\u002fXX4Pb9bbKvV1\\u002fILfkY361iVG+YSNspHVPkbv+WFcnnEReSuEV9HXbHH6ffZxo1szPytpeRz3uMNXuUA\\u002f5xfc9svr+X0cCe3so3uvDBxKRnjNId4nVf4KyfSdxVfSdKsuCR1XMdWbmUXt6UJWtQucJgXeYkjvMXZJdTmNLOVrfyQO7g+87cWtUFe5gUO8i6HGCtXifgSkmbF5dFIK2u4kz3czpXlKrGAHWc\\u002fz3KYM3y8hLKrkjpW08omdvNzuspVYgEb5B\\u002fsZz8fcWb+rpGNBSJpVsyKNvbwS77DcpZlSHGhGWWUKvv5Nb3l8phwG7\\u002fip2xkOfW5ry4oY4wxwt\\u002f5Dc9yslwl4hLkdhCzaz27uIvtbOTqTCSexy5whgH6eY0\\u002fUsmz\\u002fJe1gpv5CT+ik\\u002fW0ZFRxvhrnUz7kJId4kT9xrFwr4nJIexffkHV8m1vopotuOrNKcX4Y5D0O8TZv8zpvL90xwUtXz430sJXNbKGLNeVaMQfGOMVh3uUt3uSNuX\\u002fzUywWbW1t1Wq1fDVpVnzzmtjItXSwg+9xS1508o0b5zgVXuUQJzjOqczyvZzqWEs77WxjB9+lvVwrZt0nvMlr9FKlnxOcL9eKuDTPPffcPffcMzAwULqeNCvmTB1NNNHINn7MLm7OW6tn03le4y\\u002f8gSqDDDKSvqvZVceKIthb2cUu7mRtuWJcNiMc4UX+zMt8VgR7Ij1mS6VSqVar0zOtpFkxv6zldn7ED7iORhpYwYpyxZjJOCOMMMxHvFE0OAfTzswXdfRwF3ewndU0FMGe5SJfySjDDDPEEV7hBV7idLlixGyqVCqYnmklzYr560q2cgs3s4V1tNDCmkwtnmacQc5yltN8wGHe4iDvMFyuHvPKMjYVkX4THcXuKGtoyl16mpEi0s9whr5iotXBxfYaglhQammWaZlW\\u002fsCxMDTSQTvX0E4bnbTRxgYay9UXvzHOcZKT9HFs0qyTY3ywmLdlX9yWs44OruUarqGDDjaykeYl2dc1xKkiwPuocqKYT3g8a2FjznV2dvb09Dz44IMTV\\u002fr7+\\u002ffu3VvLtJJmxcJTxxW00MxVNLOBLVzPJjrYQEP5SwvbOJ9ygr5iVeB7nOY85znLx4yUvxSLwApWs4aruIq1bOYGNtPJtYuxu2u4eHbo4wjvcpLznOMcZ\\u002fksQ98x5+rr63fv3r1z586enp7W1tZy8aRMa5H9P2OJqmfZpH1QG+jgpmIx\\u002faaiRVoo\\u002fQBDHKOPfxev+XiHDxlljFEuMJqmZimqmxrpy1jHVrZwA1100r5wunfHimeH9\\u002fkP7\\u002fAvjjNcBHst0sfK34uYO7UEa+\\u002fevZ2dneWyqWqjh0mzYqmoo41v0cF6NrCBq9lAa9FwTT7qqaN+0ompO3xPJG2lRqCWAI0zVnzWcqPa50TrMcSHDDBQnBzjGEeX9Kts4tLVsbp4uGhnPVezvjhpLLaqnwjz2udEmE9E\\u002fWTTg70W2rUrE2FeO6+F+cRxgTOc4gMGOMUpjvM+1UR6LCwtLS2PPfZYV1dXueAi+vv7k2ZFwEpWF6OQtWMlV9BAIytZyTIaJ+VbDcX2qkOMFr8zzmcMM8Igo3zKMOf5ZNKRMb6YI7VRyCsnHbVgb2JZEfINXDHpgaIW+BhleFJ2VQv8oWKV3+cMMcQnxWj2x5zj8+J3Iha25ubmJ554YvPmzeWCGSXNioiIiJhJU1PTvn37uru7ywUzeuqpp0o9wxERERExxQMPPPA1cqyHH344aVZERETERXV2du7Zs6d8dUa1HEt2eYyIiIiYwf33319f\\u002f79uqaNHjx44cKBSqfT19VWr1ZGREZO2J8W+ffseffTR2nnSrIiIiIgvtn379p07d9bOn3\\u002f++aeffrq3t3dKjamefPLJiRwrIiIiIi7qkUceqVQqzzzzzMz7OFQqlUqlcu+995YLIiIiImK6xsbG3t7exx9\\u002ffNWqVeWyqSqVyn333Ve+GhERERFfaMeOHQ899NDy5f9\\u002fhlX6sSIiIiK+grvvvruhYZG9IzciIiJiHpi8wDAiIiIiIiIiIiIiIiIiIiIiIiIiIiIiIiIiIiIiIiIiIiIiIiJi8fovluOyp6Z2O1EAAAAASUVORK5CYII=\",\"type\":\"image\",\"xaxis\":\"x\",\"yaxis\":\"y\",\"hovertemplate\":\"x: %{x}\\u003cbr\\u003ey: %{y}\\u003cbr\\u003ecolor: [%{z[0]}, %{z[1]}, %{z[2]}]\\u003cextra\\u003e\\u003c\\u002fextra\\u003e\"}],                        {\"template\":{\"data\":{\"histogram2dcontour\":[{\"type\":\"histogram2dcontour\",\"colorbar\":{\"outlinewidth\":0,\"ticks\":\"\"},\"colorscale\":[[0.0,\"#0d0887\"],[0.1111111111111111,\"#46039f\"],[0.2222222222222222,\"#7201a8\"],[0.3333333333333333,\"#9c179e\"],[0.4444444444444444,\"#bd3786\"],[0.5555555555555556,\"#d8576b\"],[0.6666666666666666,\"#ed7953\"],[0.7777777777777778,\"#fb9f3a\"],[0.8888888888888888,\"#fdca26\"],[1.0,\"#f0f921\"]]}],\"choropleth\":[{\"type\":\"choropleth\",\"colorbar\":{\"outlinewidth\":0,\"ticks\":\"\"}}],\"histogram2d\":[{\"type\":\"histogram2d\",\"colorbar\":{\"outlinewidth\":0,\"ticks\":\"\"},\"colorscale\":[[0.0,\"#0d0887\"],[0.1111111111111111,\"#46039f\"],[0.2222222222222222,\"#7201a8\"],[0.3333333333333333,\"#9c179e\"],[0.4444444444444444,\"#bd3786\"],[0.5555555555555556,\"#d8576b\"],[0.6666666666666666,\"#ed7953\"],[0.7777777777777778,\"#fb9f3a\"],[0.8888888888888888,\"#fdca26\"],[1.0,\"#f0f921\"]]}],\"heatmap\":[{\"type\":\"heatmap\",\"colorbar\":{\"outlinewidth\":0,\"ticks\":\"\"},\"colorscale\":[[0.0,\"#0d0887\"],[0.1111111111111111,\"#46039f\"],[0.2222222222222222,\"#7201a8\"],[0.3333333333333333,\"#9c179e\"],[0.4444444444444444,\"#bd3786\"],[0.5555555555555556,\"#d8576b\"],[0.6666666666666666,\"#ed7953\"],[0.7777777777777778,\"#fb9f3a\"],[0.8888888888888888,\"#fdca26\"],[1.0,\"#f0f921\"]]}],\"heatmapgl\":[{\"type\":\"heatmapgl\",\"colorbar\":{\"outlinewidth\":0,\"ticks\":\"\"},\"colorscale\":[[0.0,\"#0d0887\"],[0.1111111111111111,\"#46039f\"],[0.2222222222222222,\"#7201a8\"],[0.3333333333333333,\"#9c179e\"],[0.4444444444444444,\"#bd3786\"],[0.5555555555555556,\"#d8576b\"],[0.6666666666666666,\"#ed7953\"],[0.7777777777777778,\"#fb9f3a\"],[0.8888888888888888,\"#fdca26\"],[1.0,\"#f0f921\"]]}],\"contourcarpet\":[{\"type\":\"contourcarpet\",\"colorbar\":{\"outlinewidth\":0,\"ticks\":\"\"}}],\"contour\":[{\"type\":\"contour\",\"colorbar\":{\"outlinewidth\":0,\"ticks\":\"\"},\"colorscale\":[[0.0,\"#0d0887\"],[0.1111111111111111,\"#46039f\"],[0.2222222222222222,\"#7201a8\"],[0.3333333333333333,\"#9c179e\"],[0.4444444444444444,\"#bd3786\"],[0.5555555555555556,\"#d8576b\"],[0.6666666666666666,\"#ed7953\"],[0.7777777777777778,\"#fb9f3a\"],[0.8888888888888888,\"#fdca26\"],[1.0,\"#f0f921\"]]}],\"surface\":[{\"type\":\"surface\",\"colorbar\":{\"outlinewidth\":0,\"ticks\":\"\"},\"colorscale\":[[0.0,\"#0d0887\"],[0.1111111111111111,\"#46039f\"],[0.2222222222222222,\"#7201a8\"],[0.3333333333333333,\"#9c179e\"],[0.4444444444444444,\"#bd3786\"],[0.5555555555555556,\"#d8576b\"],[0.6666666666666666,\"#ed7953\"],[0.7777777777777778,\"#fb9f3a\"],[0.8888888888888888,\"#fdca26\"],[1.0,\"#f0f921\"]]}],\"mesh3d\":[{\"type\":\"mesh3d\",\"colorbar\":{\"outlinewidth\":0,\"ticks\":\"\"}}],\"scatter\":[{\"fillpattern\":{\"fillmode\":\"overlay\",\"size\":10,\"solidity\":0.2},\"type\":\"scatter\"}],\"parcoords\":[{\"type\":\"parcoords\",\"line\":{\"colorbar\":{\"outlinewidth\":0,\"ticks\":\"\"}}}],\"scatterpolargl\":[{\"type\":\"scatterpolargl\",\"marker\":{\"colorbar\":{\"outlinewidth\":0,\"ticks\":\"\"}}}],\"bar\":[{\"error_x\":{\"color\":\"#2a3f5f\"},\"error_y\":{\"color\":\"#2a3f5f\"},\"marker\":{\"line\":{\"color\":\"#E5ECF6\",\"width\":0.5},\"pattern\":{\"fillmode\":\"overlay\",\"size\":10,\"solidity\":0.2}},\"type\":\"bar\"}],\"scattergeo\":[{\"type\":\"scattergeo\",\"marker\":{\"colorbar\":{\"outlinewidth\":0,\"ticks\":\"\"}}}],\"scatterpolar\":[{\"type\":\"scatterpolar\",\"marker\":{\"colorbar\":{\"outlinewidth\":0,\"ticks\":\"\"}}}],\"histogram\":[{\"marker\":{\"pattern\":{\"fillmode\":\"overlay\",\"size\":10,\"solidity\":0.2}},\"type\":\"histogram\"}],\"scattergl\":[{\"type\":\"scattergl\",\"marker\":{\"colorbar\":{\"outlinewidth\":0,\"ticks\":\"\"}}}],\"scatter3d\":[{\"type\":\"scatter3d\",\"line\":{\"colorbar\":{\"outlinewidth\":0,\"ticks\":\"\"}},\"marker\":{\"colorbar\":{\"outlinewidth\":0,\"ticks\":\"\"}}}],\"scattermapbox\":[{\"type\":\"scattermapbox\",\"marker\":{\"colorbar\":{\"outlinewidth\":0,\"ticks\":\"\"}}}],\"scatterternary\":[{\"type\":\"scatterternary\",\"marker\":{\"colorbar\":{\"outlinewidth\":0,\"ticks\":\"\"}}}],\"scattercarpet\":[{\"type\":\"scattercarpet\",\"marker\":{\"colorbar\":{\"outlinewidth\":0,\"ticks\":\"\"}}}],\"carpet\":[{\"aaxis\":{\"endlinecolor\":\"#2a3f5f\",\"gridcolor\":\"white\",\"linecolor\":\"white\",\"minorgridcolor\":\"white\",\"startlinecolor\":\"#2a3f5f\"},\"baxis\":{\"endlinecolor\":\"#2a3f5f\",\"gridcolor\":\"white\",\"linecolor\":\"white\",\"minorgridcolor\":\"white\",\"startlinecolor\":\"#2a3f5f\"},\"type\":\"carpet\"}],\"table\":[{\"cells\":{\"fill\":{\"color\":\"#EBF0F8\"},\"line\":{\"color\":\"white\"}},\"header\":{\"fill\":{\"color\":\"#C8D4E3\"},\"line\":{\"color\":\"white\"}},\"type\":\"table\"}],\"barpolar\":[{\"marker\":{\"line\":{\"color\":\"#E5ECF6\",\"width\":0.5},\"pattern\":{\"fillmode\":\"overlay\",\"size\":10,\"solidity\":0.2}},\"type\":\"barpolar\"}],\"pie\":[{\"automargin\":true,\"type\":\"pie\"}]},\"layout\":{\"autotypenumbers\":\"strict\",\"colorway\":[\"#636efa\",\"#EF553B\",\"#00cc96\",\"#ab63fa\",\"#FFA15A\",\"#19d3f3\",\"#FF6692\",\"#B6E880\",\"#FF97FF\",\"#FECB52\"],\"font\":{\"color\":\"#2a3f5f\"},\"hovermode\":\"closest\",\"hoverlabel\":{\"align\":\"left\"},\"paper_bgcolor\":\"white\",\"plot_bgcolor\":\"#E5ECF6\",\"polar\":{\"bgcolor\":\"#E5ECF6\",\"angularaxis\":{\"gridcolor\":\"white\",\"linecolor\":\"white\",\"ticks\":\"\"},\"radialaxis\":{\"gridcolor\":\"white\",\"linecolor\":\"white\",\"ticks\":\"\"}},\"ternary\":{\"bgcolor\":\"#E5ECF6\",\"aaxis\":{\"gridcolor\":\"white\",\"linecolor\":\"white\",\"ticks\":\"\"},\"baxis\":{\"gridcolor\":\"white\",\"linecolor\":\"white\",\"ticks\":\"\"},\"caxis\":{\"gridcolor\":\"white\",\"linecolor\":\"white\",\"ticks\":\"\"}},\"coloraxis\":{\"colorbar\":{\"outlinewidth\":0,\"ticks\":\"\"}},\"colorscale\":{\"sequential\":[[0.0,\"#0d0887\"],[0.1111111111111111,\"#46039f\"],[0.2222222222222222,\"#7201a8\"],[0.3333333333333333,\"#9c179e\"],[0.4444444444444444,\"#bd3786\"],[0.5555555555555556,\"#d8576b\"],[0.6666666666666666,\"#ed7953\"],[0.7777777777777778,\"#fb9f3a\"],[0.8888888888888888,\"#fdca26\"],[1.0,\"#f0f921\"]],\"sequentialminus\":[[0.0,\"#0d0887\"],[0.1111111111111111,\"#46039f\"],[0.2222222222222222,\"#7201a8\"],[0.3333333333333333,\"#9c179e\"],[0.4444444444444444,\"#bd3786\"],[0.5555555555555556,\"#d8576b\"],[0.6666666666666666,\"#ed7953\"],[0.7777777777777778,\"#fb9f3a\"],[0.8888888888888888,\"#fdca26\"],[1.0,\"#f0f921\"]],\"diverging\":[[0,\"#8e0152\"],[0.1,\"#c51b7d\"],[0.2,\"#de77ae\"],[0.3,\"#f1b6da\"],[0.4,\"#fde0ef\"],[0.5,\"#f7f7f7\"],[0.6,\"#e6f5d0\"],[0.7,\"#b8e186\"],[0.8,\"#7fbc41\"],[0.9,\"#4d9221\"],[1,\"#276419\"]]},\"xaxis\":{\"gridcolor\":\"white\",\"linecolor\":\"white\",\"ticks\":\"\",\"title\":{\"standoff\":15},\"zerolinecolor\":\"white\",\"automargin\":true,\"zerolinewidth\":2},\"yaxis\":{\"gridcolor\":\"white\",\"linecolor\":\"white\",\"ticks\":\"\",\"title\":{\"standoff\":15},\"zerolinecolor\":\"white\",\"automargin\":true,\"zerolinewidth\":2},\"scene\":{\"xaxis\":{\"backgroundcolor\":\"#E5ECF6\",\"gridcolor\":\"white\",\"linecolor\":\"white\",\"showbackground\":true,\"ticks\":\"\",\"zerolinecolor\":\"white\",\"gridwidth\":2},\"yaxis\":{\"backgroundcolor\":\"#E5ECF6\",\"gridcolor\":\"white\",\"linecolor\":\"white\",\"showbackground\":true,\"ticks\":\"\",\"zerolinecolor\":\"white\",\"gridwidth\":2},\"zaxis\":{\"backgroundcolor\":\"#E5ECF6\",\"gridcolor\":\"white\",\"linecolor\":\"white\",\"showbackground\":true,\"ticks\":\"\",\"zerolinecolor\":\"white\",\"gridwidth\":2}},\"shapedefaults\":{\"line\":{\"color\":\"#2a3f5f\"}},\"annotationdefaults\":{\"arrowcolor\":\"#2a3f5f\",\"arrowhead\":0,\"arrowwidth\":1},\"geo\":{\"bgcolor\":\"white\",\"landcolor\":\"#E5ECF6\",\"subunitcolor\":\"white\",\"showland\":true,\"showlakes\":true,\"lakecolor\":\"white\"},\"title\":{\"x\":0.05},\"mapbox\":{\"style\":\"light\"}}},\"xaxis\":{\"anchor\":\"y\",\"domain\":[0.0,1.0]},\"yaxis\":{\"anchor\":\"x\",\"domain\":[0.0,1.0]},\"margin\":{\"t\":60}},                        {\"responsive\": true}                    ).then(function(){\n",
       "                            \n",
       "var gd = document.getElementById('fe9f9a70-1ce9-48ac-b416-1cb23affa7a3');\n",
       "var x = new MutationObserver(function (mutations, observer) {{\n",
       "        var display = window.getComputedStyle(gd).display;\n",
       "        if (!display || display === 'none') {{\n",
       "            console.log([gd, 'removed!']);\n",
       "            Plotly.purge(gd);\n",
       "            observer.disconnect();\n",
       "        }}\n",
       "}});\n",
       "\n",
       "// Listen for the removal of the full notebook cells\n",
       "var notebookContainer = gd.closest('#notebook-container');\n",
       "if (notebookContainer) {{\n",
       "    x.observe(notebookContainer, {childList: true});\n",
       "}}\n",
       "\n",
       "// Listen for the clearing of the current output cell\n",
       "var outputEl = gd.closest('.output');\n",
       "if (outputEl) {{\n",
       "    x.observe(outputEl, {childList: true});\n",
       "}}\n",
       "\n",
       "                        })                };                });            </script>        </div>"
      ]
     },
     "metadata": {},
     "output_type": "display_data"
    }
   ],
   "source": [
    "px.imshow(colors_cv)"
   ]
  },
  {
   "cell_type": "raw",
   "metadata": {},
   "source": [
    "只顯示綠色的部份"
   ]
  },
  {
   "cell_type": "code",
   "execution_count": 213,
   "metadata": {},
   "outputs": [
    {
     "data": {
      "text/plain": [
       "array([0, 0, 0], dtype=uint8)"
      ]
     },
     "execution_count": 213,
     "metadata": {},
     "output_type": "execute_result"
    }
   ],
   "source": [
    "img[0,0]"
   ]
  },
  {
   "cell_type": "code",
   "execution_count": 214,
   "metadata": {},
   "outputs": [
    {
     "data": {
      "application/vnd.plotly.v1+json": {
       "config": {
        "plotlyServerURL": "https://plot.ly"
       },
       "data": [
        {
         "hovertemplate": "x: %{x}<br>y: %{y}<br>color: [%{z[0]}, %{z[1]}, %{z[2]}]<extra></extra>",
         "name": "0",
         "source": "data:image/png;base64,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",
         "type": "image",
         "xaxis": "x",
         "yaxis": "y"
        }
       ],
       "layout": {
        "autosize": true,
        "margin": {
         "t": 60
        },
        "template": {
         "data": {
          "bar": [
           {
            "error_x": {
             "color": "#2a3f5f"
            },
            "error_y": {
             "color": "#2a3f5f"
            },
            "marker": {
             "line": {
              "color": "#E5ECF6",
              "width": 0.5
             },
             "pattern": {
              "fillmode": "overlay",
              "size": 10,
              "solidity": 0.2
             }
            },
            "type": "bar"
           }
          ],
          "barpolar": [
           {
            "marker": {
             "line": {
              "color": "#E5ECF6",
              "width": 0.5
             },
             "pattern": {
              "fillmode": "overlay",
              "size": 10,
              "solidity": 0.2
             }
            },
            "type": "barpolar"
           }
          ],
          "carpet": [
           {
            "aaxis": {
             "endlinecolor": "#2a3f5f",
             "gridcolor": "white",
             "linecolor": "white",
             "minorgridcolor": "white",
             "startlinecolor": "#2a3f5f"
            },
            "baxis": {
             "endlinecolor": "#2a3f5f",
             "gridcolor": "white",
             "linecolor": "white",
             "minorgridcolor": "white",
             "startlinecolor": "#2a3f5f"
            },
            "type": "carpet"
           }
          ],
          "choropleth": [
           {
            "colorbar": {
             "outlinewidth": 0,
             "ticks": ""
            },
            "type": "choropleth"
           }
          ],
          "contour": [
           {
            "colorbar": {
             "outlinewidth": 0,
             "ticks": ""
            },
            "colorscale": [
             [
              0,
              "#0d0887"
             ],
             [
              0.1111111111111111,
              "#46039f"
             ],
             [
              0.2222222222222222,
              "#7201a8"
             ],
             [
              0.3333333333333333,
              "#9c179e"
             ],
             [
              0.4444444444444444,
              "#bd3786"
             ],
             [
              0.5555555555555556,
              "#d8576b"
             ],
             [
              0.6666666666666666,
              "#ed7953"
             ],
             [
              0.7777777777777778,
              "#fb9f3a"
             ],
             [
              0.8888888888888888,
              "#fdca26"
             ],
             [
              1,
              "#f0f921"
             ]
            ],
            "type": "contour"
           }
          ],
          "contourcarpet": [
           {
            "colorbar": {
             "outlinewidth": 0,
             "ticks": ""
            },
            "type": "contourcarpet"
           }
          ],
          "heatmap": [
           {
            "colorbar": {
             "outlinewidth": 0,
             "ticks": ""
            },
            "colorscale": [
             [
              0,
              "#0d0887"
             ],
             [
              0.1111111111111111,
              "#46039f"
             ],
             [
              0.2222222222222222,
              "#7201a8"
             ],
             [
              0.3333333333333333,
              "#9c179e"
             ],
             [
              0.4444444444444444,
              "#bd3786"
             ],
             [
              0.5555555555555556,
              "#d8576b"
             ],
             [
              0.6666666666666666,
              "#ed7953"
             ],
             [
              0.7777777777777778,
              "#fb9f3a"
             ],
             [
              0.8888888888888888,
              "#fdca26"
             ],
             [
              1,
              "#f0f921"
             ]
            ],
            "type": "heatmap"
           }
          ],
          "heatmapgl": [
           {
            "colorbar": {
             "outlinewidth": 0,
             "ticks": ""
            },
            "colorscale": [
             [
              0,
              "#0d0887"
             ],
             [
              0.1111111111111111,
              "#46039f"
             ],
             [
              0.2222222222222222,
              "#7201a8"
             ],
             [
              0.3333333333333333,
              "#9c179e"
             ],
             [
              0.4444444444444444,
              "#bd3786"
             ],
             [
              0.5555555555555556,
              "#d8576b"
             ],
             [
              0.6666666666666666,
              "#ed7953"
             ],
             [
              0.7777777777777778,
              "#fb9f3a"
             ],
             [
              0.8888888888888888,
              "#fdca26"
             ],
             [
              1,
              "#f0f921"
             ]
            ],
            "type": "heatmapgl"
           }
          ],
          "histogram": [
           {
            "marker": {
             "pattern": {
              "fillmode": "overlay",
              "size": 10,
              "solidity": 0.2
             }
            },
            "type": "histogram"
           }
          ],
          "histogram2d": [
           {
            "colorbar": {
             "outlinewidth": 0,
             "ticks": ""
            },
            "colorscale": [
             [
              0,
              "#0d0887"
             ],
             [
              0.1111111111111111,
              "#46039f"
             ],
             [
              0.2222222222222222,
              "#7201a8"
             ],
             [
              0.3333333333333333,
              "#9c179e"
             ],
             [
              0.4444444444444444,
              "#bd3786"
             ],
             [
              0.5555555555555556,
              "#d8576b"
             ],
             [
              0.6666666666666666,
              "#ed7953"
             ],
             [
              0.7777777777777778,
              "#fb9f3a"
             ],
             [
              0.8888888888888888,
              "#fdca26"
             ],
             [
              1,
              "#f0f921"
             ]
            ],
            "type": "histogram2d"
           }
          ],
          "histogram2dcontour": [
           {
            "colorbar": {
             "outlinewidth": 0,
             "ticks": ""
            },
            "colorscale": [
             [
              0,
              "#0d0887"
             ],
             [
              0.1111111111111111,
              "#46039f"
             ],
             [
              0.2222222222222222,
              "#7201a8"
             ],
             [
              0.3333333333333333,
              "#9c179e"
             ],
             [
              0.4444444444444444,
              "#bd3786"
             ],
             [
              0.5555555555555556,
              "#d8576b"
             ],
             [
              0.6666666666666666,
              "#ed7953"
             ],
             [
              0.7777777777777778,
              "#fb9f3a"
             ],
             [
              0.8888888888888888,
              "#fdca26"
             ],
             [
              1,
              "#f0f921"
             ]
            ],
            "type": "histogram2dcontour"
           }
          ],
          "mesh3d": [
           {
            "colorbar": {
             "outlinewidth": 0,
             "ticks": ""
            },
            "type": "mesh3d"
           }
          ],
          "parcoords": [
           {
            "line": {
             "colorbar": {
              "outlinewidth": 0,
              "ticks": ""
             }
            },
            "type": "parcoords"
           }
          ],
          "pie": [
           {
            "automargin": true,
            "type": "pie"
           }
          ],
          "scatter": [
           {
            "fillpattern": {
             "fillmode": "overlay",
             "size": 10,
             "solidity": 0.2
            },
            "type": "scatter"
           }
          ],
          "scatter3d": [
           {
            "line": {
             "colorbar": {
              "outlinewidth": 0,
              "ticks": ""
             }
            },
            "marker": {
             "colorbar": {
              "outlinewidth": 0,
              "ticks": ""
             }
            },
            "type": "scatter3d"
           }
          ],
          "scattercarpet": [
           {
            "marker": {
             "colorbar": {
              "outlinewidth": 0,
              "ticks": ""
             }
            },
            "type": "scattercarpet"
           }
          ],
          "scattergeo": [
           {
            "marker": {
             "colorbar": {
              "outlinewidth": 0,
              "ticks": ""
             }
            },
            "type": "scattergeo"
           }
          ],
          "scattergl": [
           {
            "marker": {
             "colorbar": {
              "outlinewidth": 0,
              "ticks": ""
             }
            },
            "type": "scattergl"
           }
          ],
          "scattermapbox": [
           {
            "marker": {
             "colorbar": {
              "outlinewidth": 0,
              "ticks": ""
             }
            },
            "type": "scattermapbox"
           }
          ],
          "scatterpolar": [
           {
            "marker": {
             "colorbar": {
              "outlinewidth": 0,
              "ticks": ""
             }
            },
            "type": "scatterpolar"
           }
          ],
          "scatterpolargl": [
           {
            "marker": {
             "colorbar": {
              "outlinewidth": 0,
              "ticks": ""
             }
            },
            "type": "scatterpolargl"
           }
          ],
          "scatterternary": [
           {
            "marker": {
             "colorbar": {
              "outlinewidth": 0,
              "ticks": ""
             }
            },
            "type": "scatterternary"
           }
          ],
          "surface": [
           {
            "colorbar": {
             "outlinewidth": 0,
             "ticks": ""
            },
            "colorscale": [
             [
              0,
              "#0d0887"
             ],
             [
              0.1111111111111111,
              "#46039f"
             ],
             [
              0.2222222222222222,
              "#7201a8"
             ],
             [
              0.3333333333333333,
              "#9c179e"
             ],
             [
              0.4444444444444444,
              "#bd3786"
             ],
             [
              0.5555555555555556,
              "#d8576b"
             ],
             [
              0.6666666666666666,
              "#ed7953"
             ],
             [
              0.7777777777777778,
              "#fb9f3a"
             ],
             [
              0.8888888888888888,
              "#fdca26"
             ],
             [
              1,
              "#f0f921"
             ]
            ],
            "type": "surface"
           }
          ],
          "table": [
           {
            "cells": {
             "fill": {
              "color": "#EBF0F8"
             },
             "line": {
              "color": "white"
             }
            },
            "header": {
             "fill": {
              "color": "#C8D4E3"
             },
             "line": {
              "color": "white"
             }
            },
            "type": "table"
           }
          ]
         },
         "layout": {
          "annotationdefaults": {
           "arrowcolor": "#2a3f5f",
           "arrowhead": 0,
           "arrowwidth": 1
          },
          "autotypenumbers": "strict",
          "coloraxis": {
           "colorbar": {
            "outlinewidth": 0,
            "ticks": ""
           }
          },
          "colorscale": {
           "diverging": [
            [
             0,
             "#8e0152"
            ],
            [
             0.1,
             "#c51b7d"
            ],
            [
             0.2,
             "#de77ae"
            ],
            [
             0.3,
             "#f1b6da"
            ],
            [
             0.4,
             "#fde0ef"
            ],
            [
             0.5,
             "#f7f7f7"
            ],
            [
             0.6,
             "#e6f5d0"
            ],
            [
             0.7,
             "#b8e186"
            ],
            [
             0.8,
             "#7fbc41"
            ],
            [
             0.9,
             "#4d9221"
            ],
            [
             1,
             "#276419"
            ]
           ],
           "sequential": [
            [
             0,
             "#0d0887"
            ],
            [
             0.1111111111111111,
             "#46039f"
            ],
            [
             0.2222222222222222,
             "#7201a8"
            ],
            [
             0.3333333333333333,
             "#9c179e"
            ],
            [
             0.4444444444444444,
             "#bd3786"
            ],
            [
             0.5555555555555556,
             "#d8576b"
            ],
            [
             0.6666666666666666,
             "#ed7953"
            ],
            [
             0.7777777777777778,
             "#fb9f3a"
            ],
            [
             0.8888888888888888,
             "#fdca26"
            ],
            [
             1,
             "#f0f921"
            ]
           ],
           "sequentialminus": [
            [
             0,
             "#0d0887"
            ],
            [
             0.1111111111111111,
             "#46039f"
            ],
            [
             0.2222222222222222,
             "#7201a8"
            ],
            [
             0.3333333333333333,
             "#9c179e"
            ],
            [
             0.4444444444444444,
             "#bd3786"
            ],
            [
             0.5555555555555556,
             "#d8576b"
            ],
            [
             0.6666666666666666,
             "#ed7953"
            ],
            [
             0.7777777777777778,
             "#fb9f3a"
            ],
            [
             0.8888888888888888,
             "#fdca26"
            ],
            [
             1,
             "#f0f921"
            ]
           ]
          },
          "colorway": [
           "#636efa",
           "#EF553B",
           "#00cc96",
           "#ab63fa",
           "#FFA15A",
           "#19d3f3",
           "#FF6692",
           "#B6E880",
           "#FF97FF",
           "#FECB52"
          ],
          "font": {
           "color": "#2a3f5f"
          },
          "geo": {
           "bgcolor": "white",
           "lakecolor": "white",
           "landcolor": "#E5ECF6",
           "showlakes": true,
           "showland": true,
           "subunitcolor": "white"
          },
          "hoverlabel": {
           "align": "left"
          },
          "hovermode": "closest",
          "mapbox": {
           "style": "light"
          },
          "paper_bgcolor": "white",
          "plot_bgcolor": "#E5ECF6",
          "polar": {
           "angularaxis": {
            "gridcolor": "white",
            "linecolor": "white",
            "ticks": ""
           },
           "bgcolor": "#E5ECF6",
           "radialaxis": {
            "gridcolor": "white",
            "linecolor": "white",
            "ticks": ""
           }
          },
          "scene": {
           "xaxis": {
            "backgroundcolor": "#E5ECF6",
            "gridcolor": "white",
            "gridwidth": 2,
            "linecolor": "white",
            "showbackground": true,
            "ticks": "",
            "zerolinecolor": "white"
           },
           "yaxis": {
            "backgroundcolor": "#E5ECF6",
            "gridcolor": "white",
            "gridwidth": 2,
            "linecolor": "white",
            "showbackground": true,
            "ticks": "",
            "zerolinecolor": "white"
           },
           "zaxis": {
            "backgroundcolor": "#E5ECF6",
            "gridcolor": "white",
            "gridwidth": 2,
            "linecolor": "white",
            "showbackground": true,
            "ticks": "",
            "zerolinecolor": "white"
           }
          },
          "shapedefaults": {
           "line": {
            "color": "#2a3f5f"
           }
          },
          "ternary": {
           "aaxis": {
            "gridcolor": "white",
            "linecolor": "white",
            "ticks": ""
           },
           "baxis": {
            "gridcolor": "white",
            "linecolor": "white",
            "ticks": ""
           },
           "bgcolor": "#E5ECF6",
           "caxis": {
            "gridcolor": "white",
            "linecolor": "white",
            "ticks": ""
           }
          },
          "title": {
           "x": 0.05
          },
          "xaxis": {
           "automargin": true,
           "gridcolor": "white",
           "linecolor": "white",
           "ticks": "",
           "title": {
            "standoff": 15
           },
           "zerolinecolor": "white",
           "zerolinewidth": 2
          },
          "yaxis": {
           "automargin": true,
           "gridcolor": "white",
           "linecolor": "white",
           "ticks": "",
           "title": {
            "standoff": 15
           },
           "zerolinecolor": "white",
           "zerolinewidth": 2
          }
         }
        },
        "xaxis": {
         "anchor": "y",
         "autorange": true,
         "domain": [
          0.058347934918648314,
          0.9416520650813517
         ],
         "range": [
          -0.5,
          801.5
         ]
        },
        "yaxis": {
         "anchor": "x",
         "autorange": true,
         "domain": [
          0,
          1
         ],
         "range": [
          798.5,
          -0.5
         ]
        }
       }
      },
      "text/html": [
       "<div>                            <div id=\"82f5b3fe-b348-4524-bcba-fc59cf222f44\" class=\"plotly-graph-div\" style=\"height:525px; width:100%;\"></div>            <script type=\"text/javascript\">                require([\"plotly\"], function(Plotly) {                    window.PLOTLYENV=window.PLOTLYENV || {};                                    if (document.getElementById(\"82f5b3fe-b348-4524-bcba-fc59cf222f44\")) {                    Plotly.newPlot(                        \"82f5b3fe-b348-4524-bcba-fc59cf222f44\",                        [{\"name\":\"0\",\"source\":\"data:image\\u002fpng;base64,iVBORw0KGgoAAAANSUhEUgAAAyIAAAMfCAIAAACly\\u002fR6AAA2RUlEQVR4Xu3dd7hlZ133\\u002f\\u002ffMZNILSSAkECAJkNBDR5EaygNIU1EUEfmBjz4oVX0QRVCwoIA+oFhAQAQVEJEiCIIIUgQh9AiEGgIJJJBK6mTK748wZnJn+syZs\\u002fber9c111z7fL47+eecfdZn7rXWvQoAAAAAAAAAAAAAAAAAAAAAAAAAAJhrJ40BAAC77Cfr5LrvGAMAsAtOqpM3\\u002ftG0AAB2p\\u002ftrWgAAS+R+mhYAwBLRtAAAlso1m9Z9WzG8BwCAnXG\\u002fet7G139XP61mAQDsLps2rdQsYAr2qv1qde1de9W+tar2qb1q5SbvWbXJf7Ku1m58vb7W1uW1ri6rtbWmrqhLN3kPwJ7xy\\u002fWo77\\u002fc62oDgKWwbx1e16nD6vC6Vh1UB278+4Dae2OpWl171d61auPr\\u002f\\u002fnH4KaVq43V6kobam1dUetqzcbXVxavNXVxXVTf2\\u002fj3eXVunVvfqXPqsk3+nwC76L5XdaysZgG708q6UR1Tx9SN6gZ1w7pu7b9Jhbryz6paWas2vli6X0Uban2tq3UbX6zd+OfKKnZxnV2n1zfq63VanVZfr\\u002fXj\\u002fwlgG+5bf7Dx9d\\u002fVT1vNArbfio0N6cq\\u002f96sT6pZ187p53ayut5SFaees2FjmdsiGOqO+UJ+vL9Qp9cWNpyCvLGrrasP4HwELbdOO9Yz6t\\u002frs5H4jAlOysg6uQ+uQOriuUzetE+qmdeO6zo7Xl9m1rs6ur9SX6tT6Un2nLqwL67y60OoXLLZrdqxqev\\u002fwBJbbPhtP9l2vjq7j6pi6fh1Vh1z96qhFtr4uqDPrzDqtTq9v17fq9Pp6XTi+HZhnW+hYqVlA1d5127pt3aZuVNfZeKH6IbV6eCubs64uqvPr3Dq7vlyfqU\\u002fVp2rN8FZgvmy5Y6VmweJaWXeue9fd68Tav\\u002fbeuJ8Cu2htrak1dUl9qj5Q762PObEIc+ekev7G19foWKlZsChW1\\u002f61Xx1Zd697133q4PFdLKFL6sP1vnp3fb0urUvqivFdwIz5qfqVzXes1CyYcwfVDev6dau6S92ujrVetdyuqK\\u002fVJ+uj9fn6Vn2zvju+C5gZJ9W\\u002fj9mV1CyYOyvrenXbunXdpG5Wx9fhPu7Ts6EuqK\\u002fWqfXZjZdzfcu5RZgffu\\u002fCHDm8HlD3qVvXkXXt2nd8CxN1WX2nzqov13\\u002fUv9bXxrcAM0fNgtl3SD2kfqbuWvts3FedGbVh4yODPlFvqNfWd8a3ALNCzYIZtKoOrcPrnvWIulvtN76FOXFpvb\\u002f+sT5Y59U5HoYNs0TNgtmxoo6um9fxdbe6Rx3pQ7wYNtQ59ZF6T32uPldneNoPzAC\\u002foWEW7FN3rpPqznWruv4iPeWGTa2rM+qU+mR9sP6jLh3fAkyHmgXTduN6eD28blTXdnKQjS6vc+rr9e56Y31mnAMAm7Oi9qn71bvqstrgjz9b\\u002fXNZvbPuU\\u002fu6+wGmxWoWTMaqunYdXSfVo+vWPqDsoK\\u002fW39Xb6ow6y8XysPz8FocJWFm3qbvWPeredR0fTXbBufWhek\\u002f9V52sbMFy8rscltXBdY96cN2xblYHjHPYSZfWl+tj9e56d50zzoE9QM2CZbKqfrr+d928ruXOQZbGurqwvlh\\u002fW39pZQv2NDUL9qAVtXcdXo+uX69rjXNYQt+rP6mX1dl1eW0Y58Bup2bBnnLdukU9sH6qru\\u002fDxzI5q95U\\u002f1Sfr2+OQ2D38pseltiKOqbuWyfVveu64xyWwXfrg\\u002fX2+rf6upUtWCpqFiylw+tx9dC6lVOETM\\u002f5dUq9u15W3x6HwK5Ts2BpHFq\\u002fVE+ow2tvHzWmakNdUefW39bz6zvjHNgVfvfDbrV3HV0\\u002fVU+sI8chTNq36iX1+vpmXT4OgZ2gZsFusl\\u002fdrO5XP1O39NliZn25XlX\\u002fVp+tS8YhsEMcCmCXra7b1Y\\u002fW\\u002feu2PlXMhc\\u002fVv9Sb6uRaMw6B7eSAALvm6Pq1un\\u002fdqPYZhzDD1tTp9a\\u002f1vDpjHALbQ82CnXVgPa2eUfvWynEIc2J9rak\\u002fq9+t88chsHVqFuygFXV03bueXrfwGWIxbKiv1PPrnfVN+2zB9nKIgB1xdN2rHld3q9XjEObcFfWBemV9oE4fh8A1qVmwfQ6qB9VP1v3qgHEIC+Siel+9rt5WF4xDYFNqFmyHW9Zv173qMJdhQa2v8+qD9Zz65DiEhfArdcKYdWr90dWCva72FbCpFXVg\\u002fW79Uq0ah7C4Vtbh9bB6cL24fqsudsEWC+aEuv2YXZOaBZuzoq5bJ9XT6zaWfWELVtXT6gH1gnpHna1ssWAuqi9u8uWpm7yu1CzYjH3qf9Wj6wF10DgErmZF3aL+pP6lXl\\u002fvrEvHt8Dc+mL9\\u002fJhtSs2Cq7t9\\u002fZ96QN1gnABbdFA9su5Wb6+\\u002fdMEWfJ+reWGj\\u002fern6u\\u002fr\\u002f9OxYKdcvx5Xr6tfrP3HISwgNQtqdV2vXlcvrRMs8sIu2KuOr5fUG+t6tfc4h4WiZrHYVtWN64n1mXqoDwTsJivqAXVKPb2Oc6Mu8+jU+sRmrnkfuIGKBbZfPah+vu7pqc+wNC6v99Xf1Fvr4nEIc0\\u002fNYlEdXs+ph9b1LWLBUtpQ365\\u002frmfXWeMQ5puaxUL6X\\u002fXndUOXYcGesrbOrF+uN44TmGNqFotkZR1dT65fqAPHIbDkvlcvrZfUN2r9OIT5o2axMFbX\\u002feqpdZILcmH5rKv\\u002frBfUu+rycQhzRs1iMRxbj6\\u002fH2BALpuHMenW9or48TmCeqFnMu5V1z3pm3c3thDAla+rD9Xv1HicQmVtqFnNtdT2hnlOH+GGH6dlQ59ez6qW1dhzCpP1KnVCn1h+Nk025kZ05taqOrb+qF9W1dCyYpBV1aP1pvd4upsyaE+r2dcIYD9Qs5tHB9fD6x\\u002fpZBQsmb0X9aP1T\\u002fVgdMg5hpqlZzJ3r1m\\u002fUi+p24wSYrtvU\\u002f6tfryPGCcwuNYv5csP6u3pSHW0dC2bKirpePaleX8eOQ5hRDkTMi1V1n3pDHTxOgBlzUT2y\\u002frXWjROYipfV7eui+uIm4TWuiPeoEWbfirpOPbaeoWPBXDiw\\u002fr7+X\\u002f1lnV0bxjlMxYF1+zHblJrF7LtNPa1+zPNzYI4cUv+3blwvrM+MQ1h+p45BbSZ00pAZ95D6zbq9fzLAPFpbH6\\u002ffq38eJzAT1Cxm1op6Yj27rj1OgLny3fr9epGzh8weNYsZtKKuVb9aT6kDxiEwhy6pP63n13nKFrNEzWIG3ap+uR7lGYWwSNbUa+v59blxApOlZjFr7le\\u002fWXf3wwuLZ329v\\u002f6w3jlOYJocqZgdK+vR9cw6fpwAC+TL9Xv16lo\\u002fTmBq1CxmxD71hHqmC96B+m79bv1lXT5OYFLULGbBYfXEekbtN06ABXVZvaBeVOeOE5gONYvJO65+sx5Tq8YJsNDW1qvqhZvZExImQs1i2u5Sz6yHjDHA972rfrs+PMYwBWoWE3a3+sO6i3UsYMvW1cfq6fWBcQLLTs1iqu5Ur60bjzHAZpxWP1UfGWNYXmoW07N33bv+pq47TgC26Nv1mHq\\u002f2w+ZkJVjAMvrwHpMvV7HAnbQkfWP9dg6aJzAcrGaxZQcUj9fv1pHjBOA7fKd+qN6aZ0\\u002fTmDPU7OYjAPqqfUrdeg4AdgB59f\\u002fqz+ui8YJ7GFqFtOwVz2znu08NrA7rK\\u002ffr+fU2nECe5KaxQQcUc+op\\u002fp5BHafDfXCemGdPU5gj3FYY7ndsJ5RP29zLGB3W1cvqz+sr48T2DOcoWFZXb9+w4N0gKWxqn62frNuME5gz7CaxfI5pP6oHl37jBOA3ebyen09xb2HLAM1i2VyQP15PWaMAZbEq+qJdfEYw5LaawxgD7h+\\u002fa6OBexBj6319ew6Y5zAbvboeur3X6pZ7HE3qGfVT48xwNL6mVpXv+eKeJbYja566RJ49qwj6xn1qFo9TgCW1up6VP16HTVOYOfdtR549WSTmmU1iz1o3417N\\u002fi5A5bFAfW4uqR+oy4bh7DDbl8vrL3rDvX8WlPXq5teNXcJPHvK\\u002fvXM+nU\\u002fdMBy21C\\u002fU893RTy75tb1F7Xvxi9Pr8vq+E3fYVWBPeNa9cR6ho4FTMCK+s3aUC+yywO74KBNOlZ1w01eb+TaLJbeQfV\\u002f6v\\u002f6cQMmY2U9rX6xDh4nsL3+s14zZgPHPZbYvvUz9TS\\u002fy4CJObieVo+5+oIE7JCXbOPGVadwWEor6iH1Gh0LmKoL6lH1jtowTmDbDqt\\u002fvMYx7pv1vjq3DndtFkvqTvWya\\u002fz8AUzHIfWqelh9eJzAtt3nGse4d9SzrvrKahZL5u716jpmjAEm5\\u002fT6mXr\\u002fGMPm3bNuUjequ9Thm+Rfrx\\u002fb5Es1i6Xyg\\u002fWiuvMYA0zUx+qp9Z9jDJtx8hh83x\\u002fWG64WuASeJXDLem7dYYwBpuv29Vt1szGGHfCNMVCz2N2OqN+o+9aqcQIwXavq\\u002fvWMus44ge113TFQs9it9q0n1yPHGGA2XLkBjS0e2LrX1kfr7DHuR8bAtVnsPnvVU+p3\\u002fYYCZtll9Zv1olo3TmB0v3re1ZO3129d9ZWaxe7zv+sFdcgYA8yYC+rp9bIxhtE+9cY68urhF+vP6zN1oprF7vLD9Sd13BgDzKTT6in11jGGq1lVr93asc+1WeyyFXW7etbWfs4AZswx9Yy6rbM+bNWTt3HsU7PYZUfUr9oiC5g7P1C\\u002ftpl7x+D77lo\\u002fPWYDNYtds7L+bz3CP\\u002fiAubOifqx+zfY0bMH36rJNvjyrLtrky0rNYlf9aj2h9h5jgHmwun6hnj7GUPXZenKtqeqf6kfq\\u002fvWEuvyqt1iCYBc8sl7q1kJg3l1Qj683jjFU\\u002fVAdUO\\u002faJHlFnfj9l1az2Ckr6s71TB0LWACH1LPqDpYm2JwPXb1jVadd9VLNYqdcv361bjHGAPPpVvX0uv4Yw2acdtVLzZwdt089u55a+48TgLl1Sf1x\\u002fe7VrryBrbOaxY57aP2SjgUsmP3rifXwMYatsJrFDrpJfab2G2OAhXBJ3bq+OsawWVaz2BHXq7\\u002fXsYAFtn\\u002f9XR01xrBZahbb7fD6jbrNGAMsltvVr9dhYwzXpGaxfVbXQ+rHa59xArBY9qmfqIfW6nECA9dmsX1uWf9QN\\u002fcjA1Ab6nP1yPrvcQKbsprFdti3nle30LEAqlpRt6zn1r7jBDalZrEte9VT68FjDLDofqSe5sHSbI3VCbblofVau2QBbM7F9ZP1tjGGK1nNYqtuWb+pYwFswQH1rLr5GMOV1Cy2bP96Qt12jAG4yu3qSXXAGENqFlu0qh5aP+GOZYCtWl0\\u002fXg9xRGUz\\u002fFCwBSfUU+s6YwzA6Nr15DphjEHNYgueUncaMwA27y71VPeVMVKz2JxH16P9dABst5X16PrJMWbBKd5cw\\u002fXqsx7XBbDjzq0T65tjzMKyXsHVHVB\\u002fVIeOMQDbdmj9obsOuYqaxSb2qp+s+1rlBNgpK+p+9Uj3aPN9ahabuHk9rg4fYwC217Xr8e465PvULDY6oB5dd7KUBbALVtQd61Gen0E5onKVE+s\\u002f\\u002fV4A2B0urh+sz44xi8ZqFlUdXC\\u002fRsQB2kwPqT+qgMWbRqFlU9cS625gBsPPuVU900mjRqVnU3euXxgyAXfWkuuuYsVDUrIV3UD2ljhxjAHbVdetpdfAYszjUrMW2on6s7ukHAWAJrKx71I84dbi4HF0X27H1qLr2GAOwe1ynHlXHjDELQs1aYKvrYa58B1hid6+H2hd+QVnHXGDH1L\\u002fXsWMMwG72lTqpTh9j5p7VrAX2+9axAfaI4+q5Y8YisJq1qO5R7\\u002fP9B9hTNtS96z\\u002fGmPlmNWshHV7P1bEA9qAV9dw6bIyZb2rWQnpk3WHMAFhat6ufGDPmm5q1eG5ej6wDxhiApXVg\\u002fWSdMMbMMTVrwayqB9RdnDEE2ONW1A\\u002fUA2rVOGFeqVkL5mb16NpnjAHYE\\u002fapR9fxY8y8UrMWycp6cN12jAHYc25XD3b4XRROHS2SG9QH64ZjDMAedVrdrc4YY+aPOr1InqVjAUzAMfUbY8Zcspq1MG5Zn\\u002fUNB5iGDXWbOmWMmTNWsxbDfvXbOhbAZKyoZ9a+Y8ycUbMWw73rbmMGwHK6Z91zzJgzatYCOLR+vK49xgAsp+vUj9e1xph5omYtgDvVvWuvMQZgOe1VJ9Udx5h5ombNu4PqQXWjMQZg+R1bD6qDxpi5oWbNuxPqEWMGwFT8mKcczjM1a949pq4\\u002fZgBMxQ3rZ8aMueEW\\u002f7l2XH3c9ZUA03Ze3b5OG2PmgNWsufZsHQtg8g61Kfzcspo1v25an619xhiAybm8bllfGWNmndWsObWqfqlWjzEAU7S6frFWjTGzTs2aU7eq+\\u002fr2AsyIlXX\\u002fusUYM+sch+fRynpwHTfGAEzXcfVg1\\u002fLMGzVrHt207lv7jTEA07V\\u002f3bduMsbMNDVr7qys23t6A8AMulPdwZF5rvhmzp1D6kfqwDEGYOoOqofVwWPM7FKz5s7xdb8xA2A2\\u002fK86fsyYXWrW3Pk5W5ICzKxD63FjxuxyS8N8ObS+XXuPMQAz4\\u002fI6oi4cY2aR1az58ms6FsCM26d+bcyYUWrWHDmyHjlmAMyen6ojxoxZpGbNkYfXkWMGwOw5qh42ZswiNWte7F8\\u002f7EHRAHNhn3poHTDGzBw1a17co27llgaAubCiblk\\u002fNMbMHDVrLuxTd6+jxxiAWXV03cM5ipmnZs2FY+oetdcYAzCrVtfd6kZjzGxRs2bfijqhbjfGAMy2O9TxrgaZbWrW7Nu3HuJKSYC5c2D9cO07xswQNWv2XasePGYAzIOH1iFjxgxRs2bfw2yXBTCnrucf0rPNKd8Zt6I+WSeOMQBz4hN1x9owxswEq1kz7q51qzEDYH6cWHceM2aFmjXjfrZWjRkA82NVPXbMmBVq1iw7tO47ZgDMm\\u002fvXtcaMmaBmzbIfrsPGDIB5c3g9cMyYCWrWzNq77l0HjjEA8+bAOqlWjzHTp2bNrJvVbVyYBbAAVtVt6vgxZvrUrJl127rJmAEwn27ioWozSc2aTQfUia6IBFgYh9WJnqs2e9Ss2XS9uuuYATDPfrCOGjMmTs2aTUfXrccMgHl2Yt1gzJg4NWsGrar7WzoGWDBX3m\\u002fozqeZombNoL08SRRgIT249hozpkzNmkE3qVuMGQDz79Z17JgxZWrWDPpZ3zeAhbSqfmbMmLIVY8DEraiv+NcMwKL6ik0TZ4lVkVlzuzpmzABYFMfVbcaMyVKzZs1DLEECLLAV9ZAxY7LUrJmyb500ZgAslvvUPmPGNKlZM+XmdaMxA2CxHOsx0jNDzZopd\\u002fYcQ4CFd0jdecyYJjVrpty6DhozABbLwXXbMWOa1KzZcUwd7zsGsPBW1U0833A2OGjPjuPquDEDYBEdVzceMyZIzZoRK+rYuv4YA7CIblDH2t9nBqhZM+KgOrH2HWMAFtF+dZs6cIyZGjVrRlyrbj9mACyu27n3fAaoWTPiWnXzMQNgcd2yDhkzpkbNmhE3q8PGDIDFdW2blM4ANWtG3HsMAFh09xoDpkbNmhH3GAMAFp1Dw+S5GXQWXKvO9b0C4OrW1yF10RgzHVazZsFDdCwArmFl\\u002ffCYMSlq1iy43xgAQNX9x4BJUbNmwT3HAADKDVJTp2ZN3o3qqDEDgKqjPYdt0tSsybuz7xIAW7Cy7jJmTIcD+OTd0fXvAGzBirrjmDEdata0raxb+y4BsAUr6zb+NT5dDuDTdpQLswDYquvVkWPGRKhZ03YTTwYFYKsOqZuMGROhZk3bsXXwmAHAVQ6uY8eMiVCzpu1GddCYAcBVDqpjxoyJULMm7IA6uvYeYwC4yt51dO0\\u002fxkyBmjVh16kbjBkAXM2KOrquM8ZMgZo1YddxmyEA2+F6atZEqVkTdph7dAHYDtetw8aMKVCzpmpFHe5jA8B2uPJ4YZPS6VGzpmrvumHtNcYAMFpdN6zVY8yyU7Omah\\u002fbzQGw3W5c+44Zy07Nmqp96rgxA4DNO672GTOWnZo1VfvY1ReA7aZmTZKaNVX71fXGDAA27\\u002fpOGk6RmjVVN7L\\u002fOwDbbZ86esxYdmrWVN1sDABga24+Biw7NWuqThgDANgaB47pUbOm6qZjAABb48AxPWrWVB0\\u002fBgCwNWrW9NiZf5JW1aX28wVgR1xe+9WGMWYZWc2apGN1LAB20D51wzFjealZk3TjMQCAbfOUtolRsyZJzQJgJzh8TIyaNUkeswPATnD4mBg1a5KOGQMA2DY1a2LUrEk6bgwAYNvUrIlRs6ZnZR01ZgCwbUfbqWla1KzpOaj2GzMA2Lb96sAxYxmpWdNzhG8LADtlZR0xZiwjx\\u002fPpUbMA2Dmr6jpjxjJyPJ+ea\\u002fu2ALBTVqpZ0+J4Pj3X8W0BYKesrGuPGcvI8Xx61CwAdo6aNTGO59NzqG8LADtlRR02Ziwjx\\u002fPpOcSuJwDslJV1yJixjNSs6TlYzQJgp6yog8eMZaRmTc+Bvi0A7JQVddCYsYwczydmr9pnzABgu6yofWvVGLNc1KyJOaBWjxkAbK\\u002fVntg2IWrWxBxgNQuAXbCPxxpOiJo1MftZzQJgF6yu\\u002fceM5aJmTcw+zqkDsAv2qr3HjOWiZk3M3rXXmAHA9lqlZk2ImjUxe1vNAmAXrHKN74SoWROzj9UsAHaBk4ZTomZNzGqrWQDsAicNp0TNmhgnDQHYFWrWlKhZE7OXmgXALljl4pMJUbMmZpXnRgOwC1Y4tk+Ib8XErFCzANgFataU+FZMjNUsAHaFmjUlvhUTs1LNAmAXrHSN74SoWROjZgGwK6xmTYlvxcS40xCAXbGqVo8Zy0XNmpj1tX7MgKucX+ePGXAVx5EpsbfGxPhswNZdawyAq9lQ68aM5WI1a2L8KwSAXbHBcWRC1KyJWV8bxgwAtpd\\u002frk+JmjUxahYAu8Jq1pSoWROjZgGwK1ybNSVq1sSoWQDsCqtZU6JmTYyaBcCuULOmRM2aGDULgF2hZk2JmjUxa51TB2AXrKu1Y8ZyUbMm5nIfDwB2wdq6fMxYLmrWxFymZgGwC9bWZWPGclGzJsZqFgC7Qs2aEjVrYqxmAbArnDScEjVrYtQsAHbFFVazJkTNmpjL6ooxA4Dt5aThlKhZE6NmAbArrqhLx4zlomZNzKVOGgKwC1ybNSVq1sSsqTVjBgDba42zIhOiZk3PhZ6TAMBOWV\\u002fnjxnLSM2annM91hCAnbK+zh0zlpGaNT3nWc0CYKdsqPPGjGWkZk3PuWoWADvFatbEqFnTo2YBsHPW1zljxjJSs6bHtVkA7Jz1ThpOi5o1PVazANg5G6xmTYuaNT3nqFkA7BQnDSdGzZqeM9UsAHbKujpzzFhGatb0XFCXjBkAbNtFdfGYsYzUrEn6xhgAwLZ9fQxYXmrWJH1tDABg2xw+JkbNmiSfEwB2wmljwPJSsyZJzQJgJzh8TIyaNUlfHQMA2LavjAHLS82apC+NAQBsm5o1MSvGgClYXRfV3mMMAFt0eR1Q68aYZWQ1a5KuqDPGDAC25hs61uSoWVP1xTEAgK05dQxYdmrWVH1hDABgaxw4pmcXatYR9aNjxm7z+TEAgK1Rs5bOj9YRY7Y99hqD7XREvaKOrIvqXeOQ3eC\\u002fxwAAtuaUMWD3uH\\u002f9en27Hl9nj8Ot26nVrCPq5XVUragHjEN2j2\\u002fVpWMGAJt38Q43ALbXA2pFHVUv3+E1rR2vWVeuY12vqo\\u002fXM4Yxu8lldeaYAcDmfbMuHzN2j2fUx6u6Xr1ix5rWDtasKzvWUVV9vJ5Ua4Z3sJusqdPHDAA273Q1a8msqSdtbFpH7VjT2pGapWPtSWs8ARSA7fZ1B+WltLNNa7trlo61h13mkTsAbLdT67IxY3faqaa1fTVLx9rz1tTX6ooxBoDRldeZODQvtR1vWttRs3SsZbGhvlvfGWMAGJ1d54wZS2IHm9a2apaOtYzOqW+NGQCMvlXfHTOWyo40ra3WLB1reX1XzQJgO6hZe9h2N62t1qzf2dixLqmn6Vh73HfqjDEDgNEZLjLZ49bU0+qSqo6q3xnG37fVmvXbG7eU3b\\u002f+oFZdfcpSu6y+pd0CsFVXbmftYLGHrao\\u002fqP2rOrt+++rTjbZas761yeN77lov2Mbb2f2+Xt8bMwC4ykW2s97jVtYL6q5VnV2P3+JFPtvqTZs2rXvU87b9X7A7fbUuHDMAuMqF9dUxYwmtrOfVPaptdKy2qzRt2rTuo2ntWafW+WMGAFc5r04dM5bKlR3rPtW2O1bb25iGpvWcWjG8g6XxnfrmmAHA922ob7jNcE9ZUc\\u002fZgY7V9tasrt60HljPGsYsjfX16Vo\\u002fxgBQtaE+WRvGmCXxrHpgtb0dqx2oWV29aT20njGMWRof8\\u002fkBYAs21MljxpJ4Rj202oGO1Y7VrK7etB5RvzyMWQIfq7VjBgBVV2zcJJMl9cv1iGrHOlY7XLO6etN6VD1hGLO7fau+PmYAUPXVOmvM2M2eUI+qdrhjtTM1q6s3rXXDjCXwgTEAgKr3jwG735VVZ8c7VrXXGGynb9XP1Un1t+OE3e899fgxA4D+fQzY\\u002fV5Wl9e7d7hjZWOG2XDtOqP2HmMAFtrldb06d4yZjp06acge9t363JgBsOhO0bGmTs2aEc6+AzD4jzFgatSsGfGeMQBg0bkwa\\u002fLUrBnx5frOmAGwuL7tidEzQM2aERfUp8cMgMX1mbpgzJgaNWtGXFCfGjMAFten1awZoGbNiIvr83XZGAOwiC6tz9clY8zUqFkzYkN9rb45xgAsom\\u002fWabVhjJkaNWt2fLm+MmYALKKv1JfGjAlSs2bHGfX5WjvGACyWtfX5OnOMmSA1a3asr0\\u002fVhWMMwGK5oD5Z68eYCVKzZspH6vwxA2CxnF8fHjOmSc2aKafW18cMgMVyen15zJgmNWvWvGsMAFgs\\u002fzIGTJaaNWve7nw8wAJbr2bNEjVr1nzOtg4AC+xL9YUxY7LUrFmzrt4wZgAsitc5pzFLVowB03dMfUVDBlg86+vYOn2MmSzH6hl0Zn1izACYfx+tb48ZU6ZmzaB19c9jBsD8e1utGzOmTM2aQevqA7aDB1gw59cH1awZo2bNptPr02MGwDz7dH1jzJg4NWs2fbs+UhvGGID5tKE+4sKs2aNmzaaL61N17hgDMJ\\u002fOrc\\u002fUJWPMxKlZM+vT9ikFWBhfrk+OGdOnZs2sL9VnXQsJsADW1mf803omqVkza039W100xgDMm4vq3bVmjJk+NWuW\\u002fWudPWYAzJuz611jxkxQs2bZefXOMQNg3ry9LhgzZoJnGs64E+vjtWqMAZgT6+q2dcoYMxOsZs24z3q+IcBc+1h9bsyYFWrWjFtfrxwzAObHy2v9mDErnDScfdepU+qIMQZg5n27bl3fHWNmhdWs2XdRvWXMAJgHb6qLx4wZombNvsvdhAIwj86vd9RlY8wMUbNm3\\u002fr6bxfCA8ydk+tztWGMmSFq1lz4ar231o4xALNqbf1HfW2MmS1q1lxYXx+u08cYgFl1Wv2newxnnpo1Lz5Wp1hbBpgLV14NcvIYM3PUrHlxQb2zLh9jAGbPmnpHXTjGzBz7Zs2Ra9Xn6qgxBmDGnFm3cAv5PLCaNUfOr1eNGQCz5691rDlhNWu+HFWn1GFjDMDMOLduU2eMMbPIatZ8+Va9bswAmCV\\u002fp2PNDzVr7ryizh8zAGbDefXXY8bsUrPmztfqX8cMgNnwTluSzhU1a+6cX2+oi8YYgKm7qN7o4ve5ombNnQ31mfroGAMwdR+tT9toeq6oWfPotHpvXTLGAEzXxfXv9fUxZqapWfPoinqLzyrATDm93lpXjDEzTc2aU5+t91l5BpgR6+vf6rNjzKyzPen8unV9sA4eYwAm58L6gfr8GDPrrGbNr8\\u002fW68cMgCl6rY41n6xmzbVj6uOevQMwbefVbev0MWYOWM2aa6fV348ZANPyah1rbqlZ8+4v69wxA2Aqzqm\\u002fGjPmhpo1786sN9T6MQZg+a2vf\\u002fCg6HmmZs278+pN9Y0xBmD5nV5vrvPHmLmhZi2Aj9R7a90YA7Cc1tX76iNjzDxRsxbABfUP9Z0xBmA5nV2vqwvHmHmiZi2Gd9Z\\u002fjhkAy+nD9a4xY86oWYthQ73Qw6QBJuPi+kOPRJt\\u002fatbC+LBN4QEm47X10TFj\\u002ftgFfpHcqD5aR4wxAHvUd+qOtiRdCFazFsk36y\\u002fHDIA97SX2yloUatYiWVevq8+OMQB7zin1jzbZWRRq1oL5Wv1tXTzGAOwJF9ff1lfHmHmlZi2Yy+ot9Um3twAsh0\\u002fVm+uyMWZeqVmL50v1BgtaAHvcRfX6+vIYM8fcabiQ9q6P1oljDMAS+kzduS4fY+aY1ayFtKZ+20cdYA9aU8\\u002fyi3fhqFmL6s31ljEDYKm8pd46Zsw9Jw0X2K3rrXXMGAOwm51eP1ynjDFzz2rWAvt8vdjeLQBLbF29uE4dYxaBmrXA1tY76kNjDMDu9IF6W10xxiwCNWuxfbH+ps4ZYwB2j3Pq1fWlMWZBqFmLbUO9vf6j1o8TAHbV+vqPersdoReXmrXwzqoX1YVjDMCuurBeXGePMYtDzaL+s\\u002f56zADYVS93\\u002feuis6EDVe1dn63jxxiAnXRq3arWjjELxWoWVa2pp9W5YwzAzjinflXHQs3if7y\\u002fXu2XAsAuW1t\\u002fU+8dYxaQmsVGF9er6xNjDMCO+Xi9pi4ZYxaQmsVGG+pT9eq6YJwAsL0urL+rT9vEgVKzuJoN9Tf1Pr8dAHbKhnpv\\u002fY3fonyfmsXVXVR\\u002faJcXgJ3ynXqenQi5iprFNXy4nuuR0gA7aF09p\\u002f5rjFlkahab88p6w5gBsDWvq1eOGQvO9qRswU3qbXXCGAOwGV+qB9WXx5gFZzWLLTit\\u002fqDOG2MARufVH9RpYwxqFluwtt5Rb6414wSAq6ypN9fbbO\\u002fMZqhZbNlZ9SJr4ABb9aV6kRu02Tw1i606pX57zAC4yu\\u002fUZ8cMrqRmsVXr6w31N7V+nAAsuvX1inq9zUjZIncash32r3fU3f28AGy0oT5QD\\u002fTsQrbGahbb4dJ6dn1xjAEW1xfrt+rSMYZNqVlshw31X\\u002fXnde44AVhE59Vf1EecLmQb1Cy2z2X1yvoXD+EBFt66elu9oi4bJzBwrQ074sb11rrFGAMskM\\u002fVw+tLYwzXZDWLHfGV+rX67hgDLIpz6v\\u002fqWGwvNYsd9Lb6HUvlwEK6tJ5b\\u002fzLGsCVqFjvur+vldtICFsz6enm9coxhK9Qsdtz36sX13jEGmGfvqRfXRWMMW6FmsVO+XM+vU93MDCyADXVqvaC+Mk5g69Qsdta764\\u002fqe2MMMG8urBfWv40xbJOaxc7aUH9bf2JBC5hrG+rF9bd+17Ez7JvFrjmoXlY\\u002fOcYAc+Lv6glW7tlJaha77Mh6W91hjAFm3sfqIXXWGMN2ctKQXXZWPaU+Z0UdmCMb6nP1K3X2OIHtp2axyzbUR+v368xxAjCrzqzf83BodpWaxe5wRb2pXlhrxwnA7Flbf1xvrivGCewQNYvd5JJ6af3ZGAPMnhfXX9QlYww7yiXw7G5vrIfVqjEGmAHr65\\u002fr4WMMO8dqFrvbU+q9tW6MAaZubb23njTGsNPULHa3M+vZ9XHPlgZmyvr6eP1mfXOcwE5z0pAlsFfdq15ax40TgIn6Wv1CvdetPOxOahZLY2Xdv\\u002f659honAJOzrh5e73DBA7uZk4YsjfX1znqsJ1QAk3dh\\u002fUy9Tcdi91OzWEqvrefUd8cYYCrOqd+u148x7BZqFktpfb28\\u002fqLOHycAy++Cemn9tVt2WCpqFkvsgnpxvb7WjBOA5bSm\\u002fr7+2L8DWUIugWePWF2vrR8bY4Bl85Z6ZF0+xrAbqVnsKavrDfWgWj1OAPaoNfWueoSOxZJz0pA95Yr6\\u002f+oNddk4AdhzLq831mN0LPYENYs96Lx6Zr3ZdVrAMrmi3lK\\u002f6Xos9hAnDdmzVtSx9Rd1XyUf2LPW17vrF+trtWEcwlJQs1gO161\\u002fq1v6AQT2lA31hbpvnTlOYOlYT2A5nFUPqg95dhiwR6ytD9X9dSz2NDWLZfKNemy9va4YJwC705p6ez2+vjlOYKmpWSyfr9av1Vs0LWDJXFFvq2fUl8YJ7AEujWFZraij62X1v\\u002fwwArvbhvq3+t91umveWR6ObEzAgfW2ulutGicAO2ldfbh+uC4cJ7DHOGnIBFxUP1z\\u002fZOdSYDe5tN5UD9SxWGZqFtNwcT2lXl0XjROAHXNRvbqe5PcJy89JQ6bkuvX0+oU6YJwAbJdL6mX1B3XWOIE9T81iYvatZ9evjzHAdnlhPcsVCEyFmsUk\\u002fXI9uw4ZY4AtuqD+sJ43xrCM1CwmaWU9vn69jvFDCmzLhvpavaBeVuvHISwjRzCmar96eD2rbubnFNiyKx9W+Jx6a106DmF5OXwxYfvUD9af183HCcD3fbF+sT5Yl48TWHZqFtO2og6v99atxglAn6+T6iybvDNR9s1i2jbUd+uH6g118TgEFtcl9aa6a31bx2K61CxmwYX1pPqzOmecAIvo3PqremKdP05gUpw0ZHZcux5Vv1WHjRNggZxfv1Ovqe+ME5gaNYuZsm\\u002fdq15T1x4nwEI4ux5T73dTIbNBzWIGHVtvrBOd9IZFsr5OqUfUl8YJTJbDFDPoa\\u002fXj9VrPhYWFcXH9Uz1Sx2LGWM1iZl2\\u002f\\u002fnc9uQ4dJ8BcuaBeUi+tb4wTmDg1i1l2QN2vnl83HSfAnPhaPb3+tb43TmD61Cxm3Iq6df1J3XOcADPvo\\u002fWE+pQnFTKrXJvFjNtQn6nH1uvceQRz5NJ6XT2yPqFjMcOsZjEvDq4n1c\\u002fVMeMEmDFn1F\\u002fVn9R54wRmi5rFHFlRD6in1km11zgEZsDa+o\\u002f6s3qzR+gwD9Qs5s5N6xfrcXXwOAEm7aJ6Vf1ZfWGcwIxSs5hH+9Tj6nl1yDgBJuqiek69pC4bJzC71Czm193rz+umtc84ASZkTX2pfqE+NE5g1qlZzLXr1m\\u002fUj9TRfthhejbUt+rN9Xt15jiEOeDIw7w7sB5YT6u72MAEpmR9nVx\\u002fUm+rC8YhzAc1iwWwV92onlZP0LRgGjbUq+v36rS6YhzC3FCzWBgr6sH1V3XdcQLsUd+t\\u002f1Nvsu8o888\\u002f7VkYG+qf6771Fg9Hg2XyvXpb3bfeqGOxEKxmsXiOrEfVY+o2PgGwB51Sf11\\u002fX98eJzCvHGRYSCvrDvWz9Wh7a8HS+169tv66PmoRi8WiZrHADq771HPqVj4KsDQ21Jfqt+qddf44hLnn2MLCO7L+uH6s9h4nwC65ot5ST6tvjhNYEGoWVPUT9ct1qzpgnAA77JL6XP1F\\u002fbUnQLPQ1CzY6Lh6bP1E3dQ9uLCz1tdp9Q\\u002f1yvrSOIRFo2bBJg6oW9fP1WNq9TgEtmFt\\u002fWP9WX3atilQahZsxkF1h3pRnThOgC36XD21\\u002fqsuHCewsNQs2ILD61fqsXVd5xBhy9bXd+p19Qc2xIKRmgVbtqJ+qH6p7lbX93GBazir3l9\\u002fUe9zqTtshuMGbMt+9cB6RD2gDh2HsKDOr3fXm+stdfE4BK6kZsF2WFFH1D3ryXVXnxsW24b6eP1pvbu+bRELtsbhArbbytq3HlV\\u002fUIePQ1gIF9Tv1Z\\u002fXZbVuHAIDNQt23BH1W\\u002fWQOtK+DyyGtfXteks9t84eh8CWqFmwU1bVHevRdVLdzK2IzK8N9ZX69\\u002fr7+lCtHefAVqhZsAtW153rofWIOtbnifmyoU6vN9bb60N1+TgHtslhAXbZAXWz+qn6+TpoHMJMurheU6+qz9nPHXaemgW7z7H14nqwDxazbEO9tZ5ap40TYEc5GsButbJOrCfWPeuGLpBndqytM+pD9af10Vo\\u002fzoGdoGbBElhdt69H1P3qFsoW07a2vlDvqrfWR1yDBbuTmgVLZq+6Xd2jfqpOrL3GOSyzdfX5+vt6b53sLkLY\\u002fdQsWGJ71xH1oHpq3XwcwrL5XL2o\\u002frXOrsvGIbBbqFmwBz2wfq3uVPvaaovlsL4ur0\\u002fVC+pN4xDY7dQs2LNW1w\\u002fW4+pOdWztN85hSVxep9fH6jX1XhdgwR6iZsFyWFG3qwfVSXWHOnicw25zYZ1c76\\u002f31Ic86Rn2KDULls\\u002fqOqZuWQ+oH63rjHPYJefV2+vN9Zk6ra4Y58BSU7Ngua2o\\u002fevQ+tF6fN3KZVvsmvV1ar2qXlvn18U2wYJlo2bBlOxV96in1Q\\u002fUQbW3zyjbZ0Otqe\\u002fVJ+vP6h21ZnwLsOf5FQ6TdGI9vH6gblLH2HOLLVtXZ9Sp9aF6U31mnAPLSM2CCbt2nVh3qLvVHetIH1k2cU59st5bn65P1LfGObDs\\u002fM6GyVtZ16tj6u71sLrLOGfh\\u002fHe9qf69TqvTa904ByZCzYLZsVetrlvU4+phdf1xzpw7o95cr6wv1JpaZ3cGmDo1C2bTfvVD9fA6qQ6vQ2qf8S3MvCvqwvpufbD+qd5fF41vAaZMzYIZt3\\u002fdq+5RJ9ZN6gb61uy7csf2r9Tn68P1rrpgfAswE9QsmAsr66g6oW5ct6o71a3rwPFdTNqldWqdXB+rL9Wp9S2nBWG2qVkwX1bUQXVYHV53qwfVD3iYz7RdUp+qd9S765w6p87XrmBOqFkw765V962H1wPrUB\\u002f6adhQ59Y76s31njp\\u002fnAPzwW9cWCQ3rvvVPev4OrwOrQNq1fgudrN1dXGdV+fWafXhek99YnwXMH\\u002fULFhI165b163quDq6jq7r11G2m9991tU5dUadUafVqXVKnVLfHd8IzDE1Cxbbqjqsjqzr1g3qhLp53aqO8QTrHbe+zqxT6wv1mfpmnVVn1Xfq8vG9wCJQs4CNVta+tX8dUAfXreoOdeu6Yx02vpfv+16dUv9dn6iP1Hl1aV1Sl9icHVCzgO1xTP1A3bnuUDevfWtVraxVG1\\u002fMsQ21rtbV+lpbl9Xn6uP1X\\u002fVf9fXx7QD\\u002fQ80CdtCKOqKOrxvVjeomdXQdUgfW\\u002frV\\u002f7Vf7zeaV9Wvr0o1\\u002fLqnv1UV1bn25Tq+v1ufrG3ZbALaXmgXssr03Xt117TqsDqtD65CNrw+rg+vAOqgOqH2Xe\\u002fVrfV1WF238c8HGewDPrQvq3Dpv4\\u002f5V366zas34PwDYTmoWsDT2rgPqwDqg9qt9N\\u002f7Zpw6pwzfuKHFQ7VcHbVwGO2Dji\\u002f1rRe2zfati6+ry2lCXbFyIuqgu27gidWl9b5PydH5dXpfXZXVZXVoXb6xcV4z\\u002fY4BdoWYBe9ymF3WtrBWb+\\u002fvKX07\\u002f82Jl7b3xRbW+qjUbX2zYeCLvyhfrN\\u002ff3+k0usQIAAAAAAAAAAAAAAAAAAAAAAAAAAAAAAAAAAAAAAAAAAAAAAAAAAAAAAAAAAAAAAAAAAAAAAAAAAAAAAAAAAAAAAAAAAAAAAAAAAAAAAAAAAAAAAAAAAAAAAAAAAAAAAAAAAAAAAAAAAAAAAAAAAAAAAAAAAAAAAAAAAAAAAAAAAAAAAAAAAAAAAAAAAAAAAAAAAAAAAAAAAAAAAAAAAAAAAAAAAAAAAAAAAAAAAAAAAAAAAAAAAAAAAAAAAAAAAAAAAAAAAAAAAAAAAAAAAAAAAAAAAAAAAAAAAAAAAAAAAAAAAAAAAAAAAAAAAAAAAAAAAAAAAAAAAAAAAAAAAAAAAAAAAAAAAAAAAAAAAAAAAAAAAAAAAAAAAAAAAAAAAAAAAAAAAAAAAAAAAAAAAAAAAAAAAAAAAAAAAAAAAAAAAAAAAAAAAAAAAAAAAAAAAAAAAAAAAAAAAAAAAAAAAAAAAAAAAAAAAAAAAAAAAAAAAAAAAAAAAAAAAAAAAAAAAAAAAAAAAAAAAGbcijEAAGCbfqVOqFPrj8bJ\\u002f9hrDAAA2KYT6vZjNlg5BgAA7A5qFgDAklCzAACWhJoFALAk1CwAgCWhZgEALAk1CwBgSahZAABLwi7wAADb4aT6yU2+PL4OrIvqi5uEr6t\\u002fv+orNQsAYDusrBfXD47xVT5cT64NVwVqFgDA9tm\\u002fXlXHjXHVV+uxdcnVMjULAGC7XbdeWwdfPTyvHl1nXT10CTwAwOa9rE6ul109PKueVms3SdbWr16jY72sTlazAAB2yKfruZt8+dz69CZfbkLNAgDYQf9Sr67q1fUvw+wqe40BAADb9JI6v\\u002f52jDelZgEA7Lj1Gxe0tsxJQwCAJWE1CwBgc67cBOv4a9xsuD2OLzULAGDzPll3qwPr9uNkO6lZAACb8w+1tu5QB46TbbuoPj5mAAAAAAAAAAAAAAAAAAAAAAAAAAAAAAAAAAAAAAAAAAAAAAAAAAAAAAAAAAAAAAAAAAAAAAAAAAAAAGzBUWMAAMDu8M91xJhVK8cAAIAdclS9YjNNS80CANhlm2taahYAwO5wjaalZgEA7Kwb1kM3+fKoevlVTWvFJhMAALZlZT2g7lW3rcPGYdWZ9XN1tpoFALCdrixYP1c3HCejb9Xj1SwAgO1xaP1l3XiMt+hMNQsAYJsOrpfXcWO8dWoWAMBW7V+vqJuO8Ta8xp2GAABb99Sd6Vi9WM0CANiKG9bDx2wbXlMvrtprHAAA8D+efPVtRr9eH6iT6\\u002fT6Vl1R1cmbvOEV9Rfff6lmAQBswW3qXhtf\\u002f3v9Y310k+k1vfKqjgUAwJb9aZ1cb9zWPg4n18n1hDEGAGBz9q2P1kvrgHEyOrl+ccwAANiCH6gXbN8FVtaxAAB2wENq7zEDAGCX2fYKAAAAAAAAAAAAAAAAAAAAAACAhfD\\u002fA4AMbIGfavyYAAAAAElFTkSuQmCC\",\"type\":\"image\",\"xaxis\":\"x\",\"yaxis\":\"y\",\"hovertemplate\":\"x: %{x}\\u003cbr\\u003ey: %{y}\\u003cbr\\u003ecolor: [%{z[0]}, %{z[1]}, %{z[2]}]\\u003cextra\\u003e\\u003c\\u002fextra\\u003e\"}],                        {\"template\":{\"data\":{\"histogram2dcontour\":[{\"type\":\"histogram2dcontour\",\"colorbar\":{\"outlinewidth\":0,\"ticks\":\"\"},\"colorscale\":[[0.0,\"#0d0887\"],[0.1111111111111111,\"#46039f\"],[0.2222222222222222,\"#7201a8\"],[0.3333333333333333,\"#9c179e\"],[0.4444444444444444,\"#bd3786\"],[0.5555555555555556,\"#d8576b\"],[0.6666666666666666,\"#ed7953\"],[0.7777777777777778,\"#fb9f3a\"],[0.8888888888888888,\"#fdca26\"],[1.0,\"#f0f921\"]]}],\"choropleth\":[{\"type\":\"choropleth\",\"colorbar\":{\"outlinewidth\":0,\"ticks\":\"\"}}],\"histogram2d\":[{\"type\":\"histogram2d\",\"colorbar\":{\"outlinewidth\":0,\"ticks\":\"\"},\"colorscale\":[[0.0,\"#0d0887\"],[0.1111111111111111,\"#46039f\"],[0.2222222222222222,\"#7201a8\"],[0.3333333333333333,\"#9c179e\"],[0.4444444444444444,\"#bd3786\"],[0.5555555555555556,\"#d8576b\"],[0.6666666666666666,\"#ed7953\"],[0.7777777777777778,\"#fb9f3a\"],[0.8888888888888888,\"#fdca26\"],[1.0,\"#f0f921\"]]}],\"heatmap\":[{\"type\":\"heatmap\",\"colorbar\":{\"outlinewidth\":0,\"ticks\":\"\"},\"colorscale\":[[0.0,\"#0d0887\"],[0.1111111111111111,\"#46039f\"],[0.2222222222222222,\"#7201a8\"],[0.3333333333333333,\"#9c179e\"],[0.4444444444444444,\"#bd3786\"],[0.5555555555555556,\"#d8576b\"],[0.6666666666666666,\"#ed7953\"],[0.7777777777777778,\"#fb9f3a\"],[0.8888888888888888,\"#fdca26\"],[1.0,\"#f0f921\"]]}],\"heatmapgl\":[{\"type\":\"heatmapgl\",\"colorbar\":{\"outlinewidth\":0,\"ticks\":\"\"},\"colorscale\":[[0.0,\"#0d0887\"],[0.1111111111111111,\"#46039f\"],[0.2222222222222222,\"#7201a8\"],[0.3333333333333333,\"#9c179e\"],[0.4444444444444444,\"#bd3786\"],[0.5555555555555556,\"#d8576b\"],[0.6666666666666666,\"#ed7953\"],[0.7777777777777778,\"#fb9f3a\"],[0.8888888888888888,\"#fdca26\"],[1.0,\"#f0f921\"]]}],\"contourcarpet\":[{\"type\":\"contourcarpet\",\"colorbar\":{\"outlinewidth\":0,\"ticks\":\"\"}}],\"contour\":[{\"type\":\"contour\",\"colorbar\":{\"outlinewidth\":0,\"ticks\":\"\"},\"colorscale\":[[0.0,\"#0d0887\"],[0.1111111111111111,\"#46039f\"],[0.2222222222222222,\"#7201a8\"],[0.3333333333333333,\"#9c179e\"],[0.4444444444444444,\"#bd3786\"],[0.5555555555555556,\"#d8576b\"],[0.6666666666666666,\"#ed7953\"],[0.7777777777777778,\"#fb9f3a\"],[0.8888888888888888,\"#fdca26\"],[1.0,\"#f0f921\"]]}],\"surface\":[{\"type\":\"surface\",\"colorbar\":{\"outlinewidth\":0,\"ticks\":\"\"},\"colorscale\":[[0.0,\"#0d0887\"],[0.1111111111111111,\"#46039f\"],[0.2222222222222222,\"#7201a8\"],[0.3333333333333333,\"#9c179e\"],[0.4444444444444444,\"#bd3786\"],[0.5555555555555556,\"#d8576b\"],[0.6666666666666666,\"#ed7953\"],[0.7777777777777778,\"#fb9f3a\"],[0.8888888888888888,\"#fdca26\"],[1.0,\"#f0f921\"]]}],\"mesh3d\":[{\"type\":\"mesh3d\",\"colorbar\":{\"outlinewidth\":0,\"ticks\":\"\"}}],\"scatter\":[{\"fillpattern\":{\"fillmode\":\"overlay\",\"size\":10,\"solidity\":0.2},\"type\":\"scatter\"}],\"parcoords\":[{\"type\":\"parcoords\",\"line\":{\"colorbar\":{\"outlinewidth\":0,\"ticks\":\"\"}}}],\"scatterpolargl\":[{\"type\":\"scatterpolargl\",\"marker\":{\"colorbar\":{\"outlinewidth\":0,\"ticks\":\"\"}}}],\"bar\":[{\"error_x\":{\"color\":\"#2a3f5f\"},\"error_y\":{\"color\":\"#2a3f5f\"},\"marker\":{\"line\":{\"color\":\"#E5ECF6\",\"width\":0.5},\"pattern\":{\"fillmode\":\"overlay\",\"size\":10,\"solidity\":0.2}},\"type\":\"bar\"}],\"scattergeo\":[{\"type\":\"scattergeo\",\"marker\":{\"colorbar\":{\"outlinewidth\":0,\"ticks\":\"\"}}}],\"scatterpolar\":[{\"type\":\"scatterpolar\",\"marker\":{\"colorbar\":{\"outlinewidth\":0,\"ticks\":\"\"}}}],\"histogram\":[{\"marker\":{\"pattern\":{\"fillmode\":\"overlay\",\"size\":10,\"solidity\":0.2}},\"type\":\"histogram\"}],\"scattergl\":[{\"type\":\"scattergl\",\"marker\":{\"colorbar\":{\"outlinewidth\":0,\"ticks\":\"\"}}}],\"scatter3d\":[{\"type\":\"scatter3d\",\"line\":{\"colorbar\":{\"outlinewidth\":0,\"ticks\":\"\"}},\"marker\":{\"colorbar\":{\"outlinewidth\":0,\"ticks\":\"\"}}}],\"scattermapbox\":[{\"type\":\"scattermapbox\",\"marker\":{\"colorbar\":{\"outlinewidth\":0,\"ticks\":\"\"}}}],\"scatterternary\":[{\"type\":\"scatterternary\",\"marker\":{\"colorbar\":{\"outlinewidth\":0,\"ticks\":\"\"}}}],\"scattercarpet\":[{\"type\":\"scattercarpet\",\"marker\":{\"colorbar\":{\"outlinewidth\":0,\"ticks\":\"\"}}}],\"carpet\":[{\"aaxis\":{\"endlinecolor\":\"#2a3f5f\",\"gridcolor\":\"white\",\"linecolor\":\"white\",\"minorgridcolor\":\"white\",\"startlinecolor\":\"#2a3f5f\"},\"baxis\":{\"endlinecolor\":\"#2a3f5f\",\"gridcolor\":\"white\",\"linecolor\":\"white\",\"minorgridcolor\":\"white\",\"startlinecolor\":\"#2a3f5f\"},\"type\":\"carpet\"}],\"table\":[{\"cells\":{\"fill\":{\"color\":\"#EBF0F8\"},\"line\":{\"color\":\"white\"}},\"header\":{\"fill\":{\"color\":\"#C8D4E3\"},\"line\":{\"color\":\"white\"}},\"type\":\"table\"}],\"barpolar\":[{\"marker\":{\"line\":{\"color\":\"#E5ECF6\",\"width\":0.5},\"pattern\":{\"fillmode\":\"overlay\",\"size\":10,\"solidity\":0.2}},\"type\":\"barpolar\"}],\"pie\":[{\"automargin\":true,\"type\":\"pie\"}]},\"layout\":{\"autotypenumbers\":\"strict\",\"colorway\":[\"#636efa\",\"#EF553B\",\"#00cc96\",\"#ab63fa\",\"#FFA15A\",\"#19d3f3\",\"#FF6692\",\"#B6E880\",\"#FF97FF\",\"#FECB52\"],\"font\":{\"color\":\"#2a3f5f\"},\"hovermode\":\"closest\",\"hoverlabel\":{\"align\":\"left\"},\"paper_bgcolor\":\"white\",\"plot_bgcolor\":\"#E5ECF6\",\"polar\":{\"bgcolor\":\"#E5ECF6\",\"angularaxis\":{\"gridcolor\":\"white\",\"linecolor\":\"white\",\"ticks\":\"\"},\"radialaxis\":{\"gridcolor\":\"white\",\"linecolor\":\"white\",\"ticks\":\"\"}},\"ternary\":{\"bgcolor\":\"#E5ECF6\",\"aaxis\":{\"gridcolor\":\"white\",\"linecolor\":\"white\",\"ticks\":\"\"},\"baxis\":{\"gridcolor\":\"white\",\"linecolor\":\"white\",\"ticks\":\"\"},\"caxis\":{\"gridcolor\":\"white\",\"linecolor\":\"white\",\"ticks\":\"\"}},\"coloraxis\":{\"colorbar\":{\"outlinewidth\":0,\"ticks\":\"\"}},\"colorscale\":{\"sequential\":[[0.0,\"#0d0887\"],[0.1111111111111111,\"#46039f\"],[0.2222222222222222,\"#7201a8\"],[0.3333333333333333,\"#9c179e\"],[0.4444444444444444,\"#bd3786\"],[0.5555555555555556,\"#d8576b\"],[0.6666666666666666,\"#ed7953\"],[0.7777777777777778,\"#fb9f3a\"],[0.8888888888888888,\"#fdca26\"],[1.0,\"#f0f921\"]],\"sequentialminus\":[[0.0,\"#0d0887\"],[0.1111111111111111,\"#46039f\"],[0.2222222222222222,\"#7201a8\"],[0.3333333333333333,\"#9c179e\"],[0.4444444444444444,\"#bd3786\"],[0.5555555555555556,\"#d8576b\"],[0.6666666666666666,\"#ed7953\"],[0.7777777777777778,\"#fb9f3a\"],[0.8888888888888888,\"#fdca26\"],[1.0,\"#f0f921\"]],\"diverging\":[[0,\"#8e0152\"],[0.1,\"#c51b7d\"],[0.2,\"#de77ae\"],[0.3,\"#f1b6da\"],[0.4,\"#fde0ef\"],[0.5,\"#f7f7f7\"],[0.6,\"#e6f5d0\"],[0.7,\"#b8e186\"],[0.8,\"#7fbc41\"],[0.9,\"#4d9221\"],[1,\"#276419\"]]},\"xaxis\":{\"gridcolor\":\"white\",\"linecolor\":\"white\",\"ticks\":\"\",\"title\":{\"standoff\":15},\"zerolinecolor\":\"white\",\"automargin\":true,\"zerolinewidth\":2},\"yaxis\":{\"gridcolor\":\"white\",\"linecolor\":\"white\",\"ticks\":\"\",\"title\":{\"standoff\":15},\"zerolinecolor\":\"white\",\"automargin\":true,\"zerolinewidth\":2},\"scene\":{\"xaxis\":{\"backgroundcolor\":\"#E5ECF6\",\"gridcolor\":\"white\",\"linecolor\":\"white\",\"showbackground\":true,\"ticks\":\"\",\"zerolinecolor\":\"white\",\"gridwidth\":2},\"yaxis\":{\"backgroundcolor\":\"#E5ECF6\",\"gridcolor\":\"white\",\"linecolor\":\"white\",\"showbackground\":true,\"ticks\":\"\",\"zerolinecolor\":\"white\",\"gridwidth\":2},\"zaxis\":{\"backgroundcolor\":\"#E5ECF6\",\"gridcolor\":\"white\",\"linecolor\":\"white\",\"showbackground\":true,\"ticks\":\"\",\"zerolinecolor\":\"white\",\"gridwidth\":2}},\"shapedefaults\":{\"line\":{\"color\":\"#2a3f5f\"}},\"annotationdefaults\":{\"arrowcolor\":\"#2a3f5f\",\"arrowhead\":0,\"arrowwidth\":1},\"geo\":{\"bgcolor\":\"white\",\"landcolor\":\"#E5ECF6\",\"subunitcolor\":\"white\",\"showland\":true,\"showlakes\":true,\"lakecolor\":\"white\"},\"title\":{\"x\":0.05},\"mapbox\":{\"style\":\"light\"}}},\"xaxis\":{\"anchor\":\"y\",\"domain\":[0.0,1.0]},\"yaxis\":{\"anchor\":\"x\",\"domain\":[0.0,1.0]},\"margin\":{\"t\":60}},                        {\"responsive\": true}                    ).then(function(){\n",
       "                            \n",
       "var gd = document.getElementById('82f5b3fe-b348-4524-bcba-fc59cf222f44');\n",
       "var x = new MutationObserver(function (mutations, observer) {{\n",
       "        var display = window.getComputedStyle(gd).display;\n",
       "        if (!display || display === 'none') {{\n",
       "            console.log([gd, 'removed!']);\n",
       "            Plotly.purge(gd);\n",
       "            observer.disconnect();\n",
       "        }}\n",
       "}});\n",
       "\n",
       "// Listen for the removal of the full notebook cells\n",
       "var notebookContainer = gd.closest('#notebook-container');\n",
       "if (notebookContainer) {{\n",
       "    x.observe(notebookContainer, {childList: true});\n",
       "}}\n",
       "\n",
       "// Listen for the clearing of the current output cell\n",
       "var outputEl = gd.closest('.output');\n",
       "if (outputEl) {{\n",
       "    x.observe(outputEl, {childList: true});\n",
       "}}\n",
       "\n",
       "                        })                };                });            </script>        </div>"
      ]
     },
     "metadata": {},
     "output_type": "display_data"
    }
   ],
   "source": [
    "img = colors_cv.copy()\n",
    "img\n",
    "img[:,:, 0] = 0\n",
    "img[:,:, 2] = 0\n",
    "px.imshow(img)"
   ]
  },
  {
   "cell_type": "code",
   "execution_count": 215,
   "metadata": {},
   "outputs": [
    {
     "data": {
      "application/vnd.plotly.v1+json": {
       "config": {
        "plotlyServerURL": "https://plot.ly"
       },
       "data": [
        {
         "hovertemplate": "x: %{x}<br>y: %{y}<br>color: [%{z[0]}, %{z[1]}, %{z[2]}]<extra></extra>",
         "name": "0",
         "source": "data:image/png;base64,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",
         "type": "image",
         "xaxis": "x",
         "yaxis": "y"
        }
       ],
       "layout": {
        "autosize": true,
        "margin": {
         "t": 60
        },
        "template": {
         "data": {
          "bar": [
           {
            "error_x": {
             "color": "#2a3f5f"
            },
            "error_y": {
             "color": "#2a3f5f"
            },
            "marker": {
             "line": {
              "color": "#E5ECF6",
              "width": 0.5
             },
             "pattern": {
              "fillmode": "overlay",
              "size": 10,
              "solidity": 0.2
             }
            },
            "type": "bar"
           }
          ],
          "barpolar": [
           {
            "marker": {
             "line": {
              "color": "#E5ECF6",
              "width": 0.5
             },
             "pattern": {
              "fillmode": "overlay",
              "size": 10,
              "solidity": 0.2
             }
            },
            "type": "barpolar"
           }
          ],
          "carpet": [
           {
            "aaxis": {
             "endlinecolor": "#2a3f5f",
             "gridcolor": "white",
             "linecolor": "white",
             "minorgridcolor": "white",
             "startlinecolor": "#2a3f5f"
            },
            "baxis": {
             "endlinecolor": "#2a3f5f",
             "gridcolor": "white",
             "linecolor": "white",
             "minorgridcolor": "white",
             "startlinecolor": "#2a3f5f"
            },
            "type": "carpet"
           }
          ],
          "choropleth": [
           {
            "colorbar": {
             "outlinewidth": 0,
             "ticks": ""
            },
            "type": "choropleth"
           }
          ],
          "contour": [
           {
            "colorbar": {
             "outlinewidth": 0,
             "ticks": ""
            },
            "colorscale": [
             [
              0,
              "#0d0887"
             ],
             [
              0.1111111111111111,
              "#46039f"
             ],
             [
              0.2222222222222222,
              "#7201a8"
             ],
             [
              0.3333333333333333,
              "#9c179e"
             ],
             [
              0.4444444444444444,
              "#bd3786"
             ],
             [
              0.5555555555555556,
              "#d8576b"
             ],
             [
              0.6666666666666666,
              "#ed7953"
             ],
             [
              0.7777777777777778,
              "#fb9f3a"
             ],
             [
              0.8888888888888888,
              "#fdca26"
             ],
             [
              1,
              "#f0f921"
             ]
            ],
            "type": "contour"
           }
          ],
          "contourcarpet": [
           {
            "colorbar": {
             "outlinewidth": 0,
             "ticks": ""
            },
            "type": "contourcarpet"
           }
          ],
          "heatmap": [
           {
            "colorbar": {
             "outlinewidth": 0,
             "ticks": ""
            },
            "colorscale": [
             [
              0,
              "#0d0887"
             ],
             [
              0.1111111111111111,
              "#46039f"
             ],
             [
              0.2222222222222222,
              "#7201a8"
             ],
             [
              0.3333333333333333,
              "#9c179e"
             ],
             [
              0.4444444444444444,
              "#bd3786"
             ],
             [
              0.5555555555555556,
              "#d8576b"
             ],
             [
              0.6666666666666666,
              "#ed7953"
             ],
             [
              0.7777777777777778,
              "#fb9f3a"
             ],
             [
              0.8888888888888888,
              "#fdca26"
             ],
             [
              1,
              "#f0f921"
             ]
            ],
            "type": "heatmap"
           }
          ],
          "heatmapgl": [
           {
            "colorbar": {
             "outlinewidth": 0,
             "ticks": ""
            },
            "colorscale": [
             [
              0,
              "#0d0887"
             ],
             [
              0.1111111111111111,
              "#46039f"
             ],
             [
              0.2222222222222222,
              "#7201a8"
             ],
             [
              0.3333333333333333,
              "#9c179e"
             ],
             [
              0.4444444444444444,
              "#bd3786"
             ],
             [
              0.5555555555555556,
              "#d8576b"
             ],
             [
              0.6666666666666666,
              "#ed7953"
             ],
             [
              0.7777777777777778,
              "#fb9f3a"
             ],
             [
              0.8888888888888888,
              "#fdca26"
             ],
             [
              1,
              "#f0f921"
             ]
            ],
            "type": "heatmapgl"
           }
          ],
          "histogram": [
           {
            "marker": {
             "pattern": {
              "fillmode": "overlay",
              "size": 10,
              "solidity": 0.2
             }
            },
            "type": "histogram"
           }
          ],
          "histogram2d": [
           {
            "colorbar": {
             "outlinewidth": 0,
             "ticks": ""
            },
            "colorscale": [
             [
              0,
              "#0d0887"
             ],
             [
              0.1111111111111111,
              "#46039f"
             ],
             [
              0.2222222222222222,
              "#7201a8"
             ],
             [
              0.3333333333333333,
              "#9c179e"
             ],
             [
              0.4444444444444444,
              "#bd3786"
             ],
             [
              0.5555555555555556,
              "#d8576b"
             ],
             [
              0.6666666666666666,
              "#ed7953"
             ],
             [
              0.7777777777777778,
              "#fb9f3a"
             ],
             [
              0.8888888888888888,
              "#fdca26"
             ],
             [
              1,
              "#f0f921"
             ]
            ],
            "type": "histogram2d"
           }
          ],
          "histogram2dcontour": [
           {
            "colorbar": {
             "outlinewidth": 0,
             "ticks": ""
            },
            "colorscale": [
             [
              0,
              "#0d0887"
             ],
             [
              0.1111111111111111,
              "#46039f"
             ],
             [
              0.2222222222222222,
              "#7201a8"
             ],
             [
              0.3333333333333333,
              "#9c179e"
             ],
             [
              0.4444444444444444,
              "#bd3786"
             ],
             [
              0.5555555555555556,
              "#d8576b"
             ],
             [
              0.6666666666666666,
              "#ed7953"
             ],
             [
              0.7777777777777778,
              "#fb9f3a"
             ],
             [
              0.8888888888888888,
              "#fdca26"
             ],
             [
              1,
              "#f0f921"
             ]
            ],
            "type": "histogram2dcontour"
           }
          ],
          "mesh3d": [
           {
            "colorbar": {
             "outlinewidth": 0,
             "ticks": ""
            },
            "type": "mesh3d"
           }
          ],
          "parcoords": [
           {
            "line": {
             "colorbar": {
              "outlinewidth": 0,
              "ticks": ""
             }
            },
            "type": "parcoords"
           }
          ],
          "pie": [
           {
            "automargin": true,
            "type": "pie"
           }
          ],
          "scatter": [
           {
            "fillpattern": {
             "fillmode": "overlay",
             "size": 10,
             "solidity": 0.2
            },
            "type": "scatter"
           }
          ],
          "scatter3d": [
           {
            "line": {
             "colorbar": {
              "outlinewidth": 0,
              "ticks": ""
             }
            },
            "marker": {
             "colorbar": {
              "outlinewidth": 0,
              "ticks": ""
             }
            },
            "type": "scatter3d"
           }
          ],
          "scattercarpet": [
           {
            "marker": {
             "colorbar": {
              "outlinewidth": 0,
              "ticks": ""
             }
            },
            "type": "scattercarpet"
           }
          ],
          "scattergeo": [
           {
            "marker": {
             "colorbar": {
              "outlinewidth": 0,
              "ticks": ""
             }
            },
            "type": "scattergeo"
           }
          ],
          "scattergl": [
           {
            "marker": {
             "colorbar": {
              "outlinewidth": 0,
              "ticks": ""
             }
            },
            "type": "scattergl"
           }
          ],
          "scattermapbox": [
           {
            "marker": {
             "colorbar": {
              "outlinewidth": 0,
              "ticks": ""
             }
            },
            "type": "scattermapbox"
           }
          ],
          "scatterpolar": [
           {
            "marker": {
             "colorbar": {
              "outlinewidth": 0,
              "ticks": ""
             }
            },
            "type": "scatterpolar"
           }
          ],
          "scatterpolargl": [
           {
            "marker": {
             "colorbar": {
              "outlinewidth": 0,
              "ticks": ""
             }
            },
            "type": "scatterpolargl"
           }
          ],
          "scatterternary": [
           {
            "marker": {
             "colorbar": {
              "outlinewidth": 0,
              "ticks": ""
             }
            },
            "type": "scatterternary"
           }
          ],
          "surface": [
           {
            "colorbar": {
             "outlinewidth": 0,
             "ticks": ""
            },
            "colorscale": [
             [
              0,
              "#0d0887"
             ],
             [
              0.1111111111111111,
              "#46039f"
             ],
             [
              0.2222222222222222,
              "#7201a8"
             ],
             [
              0.3333333333333333,
              "#9c179e"
             ],
             [
              0.4444444444444444,
              "#bd3786"
             ],
             [
              0.5555555555555556,
              "#d8576b"
             ],
             [
              0.6666666666666666,
              "#ed7953"
             ],
             [
              0.7777777777777778,
              "#fb9f3a"
             ],
             [
              0.8888888888888888,
              "#fdca26"
             ],
             [
              1,
              "#f0f921"
             ]
            ],
            "type": "surface"
           }
          ],
          "table": [
           {
            "cells": {
             "fill": {
              "color": "#EBF0F8"
             },
             "line": {
              "color": "white"
             }
            },
            "header": {
             "fill": {
              "color": "#C8D4E3"
             },
             "line": {
              "color": "white"
             }
            },
            "type": "table"
           }
          ]
         },
         "layout": {
          "annotationdefaults": {
           "arrowcolor": "#2a3f5f",
           "arrowhead": 0,
           "arrowwidth": 1
          },
          "autotypenumbers": "strict",
          "coloraxis": {
           "colorbar": {
            "outlinewidth": 0,
            "ticks": ""
           }
          },
          "colorscale": {
           "diverging": [
            [
             0,
             "#8e0152"
            ],
            [
             0.1,
             "#c51b7d"
            ],
            [
             0.2,
             "#de77ae"
            ],
            [
             0.3,
             "#f1b6da"
            ],
            [
             0.4,
             "#fde0ef"
            ],
            [
             0.5,
             "#f7f7f7"
            ],
            [
             0.6,
             "#e6f5d0"
            ],
            [
             0.7,
             "#b8e186"
            ],
            [
             0.8,
             "#7fbc41"
            ],
            [
             0.9,
             "#4d9221"
            ],
            [
             1,
             "#276419"
            ]
           ],
           "sequential": [
            [
             0,
             "#0d0887"
            ],
            [
             0.1111111111111111,
             "#46039f"
            ],
            [
             0.2222222222222222,
             "#7201a8"
            ],
            [
             0.3333333333333333,
             "#9c179e"
            ],
            [
             0.4444444444444444,
             "#bd3786"
            ],
            [
             0.5555555555555556,
             "#d8576b"
            ],
            [
             0.6666666666666666,
             "#ed7953"
            ],
            [
             0.7777777777777778,
             "#fb9f3a"
            ],
            [
             0.8888888888888888,
             "#fdca26"
            ],
            [
             1,
             "#f0f921"
            ]
           ],
           "sequentialminus": [
            [
             0,
             "#0d0887"
            ],
            [
             0.1111111111111111,
             "#46039f"
            ],
            [
             0.2222222222222222,
             "#7201a8"
            ],
            [
             0.3333333333333333,
             "#9c179e"
            ],
            [
             0.4444444444444444,
             "#bd3786"
            ],
            [
             0.5555555555555556,
             "#d8576b"
            ],
            [
             0.6666666666666666,
             "#ed7953"
            ],
            [
             0.7777777777777778,
             "#fb9f3a"
            ],
            [
             0.8888888888888888,
             "#fdca26"
            ],
            [
             1,
             "#f0f921"
            ]
           ]
          },
          "colorway": [
           "#636efa",
           "#EF553B",
           "#00cc96",
           "#ab63fa",
           "#FFA15A",
           "#19d3f3",
           "#FF6692",
           "#B6E880",
           "#FF97FF",
           "#FECB52"
          ],
          "font": {
           "color": "#2a3f5f"
          },
          "geo": {
           "bgcolor": "white",
           "lakecolor": "white",
           "landcolor": "#E5ECF6",
           "showlakes": true,
           "showland": true,
           "subunitcolor": "white"
          },
          "hoverlabel": {
           "align": "left"
          },
          "hovermode": "closest",
          "mapbox": {
           "style": "light"
          },
          "paper_bgcolor": "white",
          "plot_bgcolor": "#E5ECF6",
          "polar": {
           "angularaxis": {
            "gridcolor": "white",
            "linecolor": "white",
            "ticks": ""
           },
           "bgcolor": "#E5ECF6",
           "radialaxis": {
            "gridcolor": "white",
            "linecolor": "white",
            "ticks": ""
           }
          },
          "scene": {
           "xaxis": {
            "backgroundcolor": "#E5ECF6",
            "gridcolor": "white",
            "gridwidth": 2,
            "linecolor": "white",
            "showbackground": true,
            "ticks": "",
            "zerolinecolor": "white"
           },
           "yaxis": {
            "backgroundcolor": "#E5ECF6",
            "gridcolor": "white",
            "gridwidth": 2,
            "linecolor": "white",
            "showbackground": true,
            "ticks": "",
            "zerolinecolor": "white"
           },
           "zaxis": {
            "backgroundcolor": "#E5ECF6",
            "gridcolor": "white",
            "gridwidth": 2,
            "linecolor": "white",
            "showbackground": true,
            "ticks": "",
            "zerolinecolor": "white"
           }
          },
          "shapedefaults": {
           "line": {
            "color": "#2a3f5f"
           }
          },
          "ternary": {
           "aaxis": {
            "gridcolor": "white",
            "linecolor": "white",
            "ticks": ""
           },
           "baxis": {
            "gridcolor": "white",
            "linecolor": "white",
            "ticks": ""
           },
           "bgcolor": "#E5ECF6",
           "caxis": {
            "gridcolor": "white",
            "linecolor": "white",
            "ticks": ""
           }
          },
          "title": {
           "x": 0.05
          },
          "xaxis": {
           "automargin": true,
           "gridcolor": "white",
           "linecolor": "white",
           "ticks": "",
           "title": {
            "standoff": 15
           },
           "zerolinecolor": "white",
           "zerolinewidth": 2
          },
          "yaxis": {
           "automargin": true,
           "gridcolor": "white",
           "linecolor": "white",
           "ticks": "",
           "title": {
            "standoff": 15
           },
           "zerolinecolor": "white",
           "zerolinewidth": 2
          }
         }
        },
        "xaxis": {
         "anchor": "y",
         "autorange": true,
         "domain": [
          0.058347934918648314,
          0.9416520650813517
         ],
         "range": [
          -0.5,
          801.5
         ]
        },
        "yaxis": {
         "anchor": "x",
         "autorange": true,
         "domain": [
          0,
          1
         ],
         "range": [
          798.5,
          -0.5
         ]
        }
       }
      },
      "text/html": [
       "<div>                            <div id=\"c245bd55-7ef6-4b31-b610-68e848716783\" class=\"plotly-graph-div\" style=\"height:525px; width:100%;\"></div>            <script type=\"text/javascript\">                require([\"plotly\"], function(Plotly) {                    window.PLOTLYENV=window.PLOTLYENV || {};                                    if (document.getElementById(\"c245bd55-7ef6-4b31-b610-68e848716783\")) {                    Plotly.newPlot(                        \"c245bd55-7ef6-4b31-b610-68e848716783\",                        [{\"name\":\"0\",\"source\":\"data:image\\u002fpng;base64,iVBORw0KGgoAAAANSUhEUgAAAyIAAAMfCAIAAACly\\u002fR6AAB8B0lEQVR4Xuzdd5geVeE24Huz6QmE3nvvKFURkS6goCIoICpiL6BYUUQFVCzgJ3b9gQgWsKCggIoIiKIiRem9h94ChPTsfn\\u002fExXBINtt33pnnvnJ5hee8oJKdd545c+YMERERERERERERERERERERERERERERERERERERERERERERERERERERERFRZzvvvHMZRUREREQ\\u002fHXDAAVdeeeWuu+5aDkREREREn+28885XdknTioiIiBhIu+++e5pWRERExKDYbbfd0rQiIiIiBkWaVkRERMRgeWHT2nXXXdvKT0VERERE7+22227HH3\\u002f8vN\\u002f\\u002f9Kc\\u002ffdOb3pSaFRERETEw5m9aSM2KiAoYyThGMZqRjKWdMYxkxHyfaZ\\u002fvb5nLnK7fdzCHmcxlBnOYxWymz\\u002feZiIgh8eEPf\\u002figgw6a9\\u002fuRzx+KiBgEY1maZVmKpVmCxZjY9Z8TGN1VqkYxktG0d\\u002f3+uYvB+SuXrmo1TydzmM1cZnX9fl7xmsWzTOWZrv98kid4gkd5nBnz\\u002fTMjIvpn1113fa5jyWxWRAykEazOGqzB6qzKaizP+Pkq1Lxf7Yygves3g\\u002fdV1EkHc5nb9Zs5Xb\\u002fmVbFneYR7uY97uJu7uYeO8p8UEdG9XXfd9Utf+tK8389bm5XZrIjosbauhjTvP8exPhuzIRuyASsNZmHqm7auMtcrndzPzdzEzVzPrV23IOcVtbl0ln9TRDTZ\\u002fB3ryCOPvPDCC6+77rqqfSNGRJWMYHGWZBKLsyzrsj7rsjbL9r6+tK65PMId3MYt3MajPM3TPMnTmf2KaLQXdqx5v0\\u002fNiojnG9N1s28lVmEt1mBlVmTS81dHNVkHT\\u002fEAD3A39\\u002fIQD3Iv9\\u002fB0+fGIqLGFdSypWREBo3kRL2IzVmfZroXqkxhVfDQWZC5TmcITPMLtXMt\\u002f+A+zio9GRK1007EiosFG8BI+yfncz5M8y2w686vfv2bzLE9yP+dxJNtmIjCihnbeeee8YyciGMUkVuBFHMaveeoF5SC\\u002fBvXXs1zIp9mWFTJTGFETBx54YDcdKzcNI2ptMVZjZTZhW17Mmtkvb7jN5i7+zb+4iQeZzGPlpyKiVey8884XXXRRmSI1K6KGRrASL2JT1mED1mPpHO7V08lT3MktXNe1nOvBPLQYUR\\u002f53o2okaXZg13YlBVYhrHlR6KiZvAoD3M7f+GP3FV+JCJaTmpWROubxN68me0Y07WverSozq5XBl3NLzmDR8uPRESrSM2KaEHtLMnSvIL92J5x5UeiJqZzKb\\u002fibzzJ43kZdkQrSc2KaB1trMKGrMf27MAKOYiboZPH+Sd\\u002f5kZu5H46y09FRNXkGzqiFYxhG3ZmGzZh5Sa95SbmN5f7uZ5\\u002f8zf+wvTyIxFRHalZEdW2Nq\\u002fltazOMrk5GF1m8jj38CfO4tpyPCIiIhakjTHsxgXMeMEul\\u002fmVX8WvGfyBXRibpx8iqiWzWRGV0c4yrMLOHMymOUCjl+7kp5zL\\u002fTycxfIRwy\\u002ff4hEVMILN2I4d2Illc2hGPzzBZfyZy7kyZStiOOW7PGJYLc4OvJqt2IAJ5XhEH03ndq7gT\\u002fyJx8vxiBgCqVkRw6SdN\\u002fFONmSJPDkYg2MuT3MrP+F7mdmKGGqpWRFDqI3RLM3BfJIlyvGIQfQM3+AHPMJMOsvxiBhwqVkRQ2V5NmJPDmTlHHwxTB7mN\\u002fyam5hcDkbEwMo3fcQga2MNdmVndmL5cjxiGDzG3ziPC7knM1sRgyU1K2IwLc2h7MMmuUUY1TOF6\\u002fkTP+ChcjAi+i81K2JwLMn7eS9LMzqHWlRVJ7N5gp\\u002fwFR4txyOiP\\u002fLdHzGgRrMKB\\u002fIBVigHIyrtQb7Fz5nMzHIwIvogNStigIxjA3bjzWycYyta1u38iAu5jmnlYET0Sk4FEf02ihezL7vzohxVUQs3cj6\\u002f4UpmlYMR0UM5IUT0zyp8gt1ZnTHlYEQLm8W9\\u002fJHjub8cjIieSM2K6KuJHMGRjGVEORhREx3M4tt8ninlYER0LzUropfaWIWd+Dgb5RiKZujkDr7CH5icfbYieiqniIjeWIUdOZTtGVUORtTcbP7KD\\u002fkr95aDEfFCqVkRPbMYe3EAuzGhHIxokKlcwpmcy1PlYETMLzUrogc25nPsyFJZhhVBB0\\u002fyN47h3+VgRBN85CMfWX\\u002f99YvwlltuOfHEE+dPRs7\\u002fFxHxPG1M5PO8n\\u002fZyMKK5RrA0r+HVnMRneTYLtqJZ1l9\\u002f\\u002fS222KJMXyA1K2JB2lienfk4m2XaN2Ih2jmCPfgqv+eRlK1olqlTp956663P\\u002feUtt9wy3yCpWRELMIZXcjB7sFg5GBHP08ZGfIPz+Tl\\u002fYHr5kYi6uvXWW9\\u002f1rneV6XxSsyKebwvewx6sWo5ExEItxhvZnvP4XhZsRfxXVvNGdBnHO\\u002fgZb0vHiuiTlTmUM3kf48vBiAZKzYpgFCtxJt9n\\u002fUzyRvTDSNbjW5zFSowuxyMaJeeTaLZ21mAfjmLpcjAi+qiNPbier\\u002fEz7mFu+ZGIljZvtfsL17wX8gBVNNg49uJdvCJvfY4YHDO5hNP4Lc+WgxG1l5oVTbU0x7APK+fmecRg6uQhfsdneLgcjKi31KxopFfyHVbLbfOIoTKHB\\u002fgwZ5UjETWWmhVNMoJVOJx3M7EcjIhB9wzf51vcR0c5GFE\\u002fqVnRGKPYjQ+xc96cEzF85vJ3vsoFzCwHI2omNSuaYU3ezluyIVZENTzA6ZzC7eVIRJ2kZkXdjeAVHMX2eZwwokpm8Q++wJ9zAzFqKzUram0U7+UYJuWHPaJ6OpnC0XyfOeVgRJV95CMfWX\\u002f99W+55ZYTTzyxHJtPnrOKmmpnNT7LW1KwIqqqjSX5JjvzsexiGq1k\\u002ffXX32KLLcr0BbJfUNTR4ryWX\\u002fHWdKyIymtjX37N65lUDka0tNSsqJ3l+RRf58XlSERU12b8Pz7JcuVIROtKzYp6WY2fchirZB4roqW0sRKH8XPWLAcjWlTWZkVdtLMLv2TxciQiWsZ4duRa3sgfs1Qrqm699db7wQ9+8NxfvnBFfGpWtL42luUQjkzHiqiFifyM\\u002f8f3eITOcjyiIiZOnNj9QvjUrGh9m3EEr8\\u002f7cyJqZBIfY21O4NpyMGLY3XLLLWW0oDCrV6LF7c2n2SKXDBF1NIer+AK\\u002fK0ciWkJqVrSsNj7AZ1imHImIWnmML\\u002fL13D2M1pOaFS2ojSX4KB9kQjkYETU0jW\\u002fyFZ5M2YpWkpoVLWgTPsxBeUdhRJPM4gy+wo3lSERlpWZFq9mNT\\u002fPy\\u002fPBGNE8Hl\\u002fJl\\u002flCORFRTzlTROkZwMEexXjkSEQ1yO1\\u002fgdDrKkYiqSc2KFjGG93JUFrxHBI\\u002fxeb7HzHIkolJSs6IVLMUHOJJx5UhENNQMvsrXeaIciaiO1KyovLX4NG+hvRyJiEabw484gXJLyIiqSM2KatuWo9i7jCMi\\u002fusCPsc\\u002fyjiiClKzosK258tsm3msiFi4uVzBx\\u002flrORIx7FKzoqq25gzWLuOIiAW4mwP5ZxlHDK\\u002fUrKie0ezEaSxfjkRELNRDvIVL8\\u002fhhVMiIMogYXhN5Cz9Px4qIXlqBX3EIi5UjEcMls1lRJZN4Fx9luXIkIqJHHuVEvs+UciRi6KVmRWVM4EN8hCXLkYiIXpjC\\u002f+NrTC1HIoZYalZUw0iO4jO5jx0RA6GDL3IMc8qRiKGUmhUVsBxH8qH8PEbEwOnkBE7gkXIkYsjktBbDbTWO5F3ZHCsiBtpcfsCXuacciRgauUMTw2plPpUX6UTE4GjnrXyaVcuRiKGR2awYPpM4kYMZU45ERAyYmfycD+bZwxgGqVkxTCbwHd5SxhERg+JHfIBnyzhiUI0sg4ghsDKfT8eKiCF0CB18hvvLkYiBdfDBB3\\u002foQx+a9\\u002fvUrBhyq3I0byrjiIjB9Wbm8oWsiI\\u002fBtfrqqz\\u002f3+yyBj6G1AkdyEKPKkYiIwTWKg\\u002fgkK5YjEX223Xbb7bnnnvMn89eszGbFEBrbtXdDfu4iYlhM4FCm8SlmlIMRvbXFFluccMIJo0eP3nLLLb\\u002fyla\\u002fMmjVrpZVWWnfddZ\\u002f7QJbAx1AZz1F8Mj90ETHcOjmOr2RFfPTLpptu+t3vfnfs2LHz\\u002fvLee++dMWPGeuutN\\u002f9nMqsQQ2IJPsCR6VgRUQFtfJpOvp5dHqLvFltssec6FlZbbbX5Bv8ra7Ni8C3Ge\\u002fhYftwiojJGcATvY\\u002fFyJKKH\\u002fv73v\\u002f\\u002f4xz8u0+fL3EIMsrEcymdZrhyJiBhmj3EMJ2edVvRRe3v7L37xi\\u002fnXvBdy0zAGUxu7c3yuFyOikpbh89zJ7+ksByMWadKkSUsuuWQRTp48+ZJLLnniiSeWXnrp1KwYTFvzg3SsiKiwSfyI1\\u002fCPciRikXbZZZfFF3\\u002feSe73v\\u002f\\u002f90Ucf\\u002fdxf5qZhDJqXczprlHFEROXcy5u5tIwjFugVr3jFOuuss\\u002frqq2+77bZLL730c\\u002fk999zz+te\\u002ffr4P5qZhDJKXckI6VkS0iNU4gQ\\u002fx93Ik4oVOPPHEMgJnnnlmkeTRrxgEG3MsW5ZxRER1bcFn2aCMI3ruvvvuK5LUrBhoy\\u002fEpdqW9HImIqK52dudIli1HInpo+eWXL5LUrBhQYzmcN5ZxRERreDNH8L8tJyMW4IwzzvjXv\\u002f71yCOPFPnrXve6IskS+Bg4I\\u002fkgn883VES0shl8mq8ztxyJKOy2227HH3\\u002f8\\u002fMl555332c9+9rm\\u002fTM2KgfNOvsqkMo6IaDFP8XF+UMYRhTFjxpx11lkrrLDC\\u002fOGtt976ne9859prr918881Ts2KAvIpvsFYZR0S0pLv5IL8t44j5tbe3n3HGGWuttdCTX9ZmRb+18WKOTseKiBpZgyN5Ue76RHcOP\\u002fzwbjqW1KwYAMvxUbYp44iI1vYSPkH56FjEf2233XZvetObyvT5UrOif0bwMfbLBV9E1E4br+cT2Z4mFuyZZ56ZMeN\\u002fbx1\\u002f+OGHp06dOt84qVnRXx\\u002flvYwu44iIOhjFu\\u002fl4GUfguuuuO\\u002fzww2fNmoVf\\u002f\\u002frXr3vd63bffff3vve9M2fOfO4zmYKIfngj38+jhRFRd0\\u002fxds4q4wi87GUvmzBhwgUXXPBccsopp2y++ebzfp93GkaftLE1R6VjRUQDTOJo7uZqOsvBaLjLLrusSO6+++7nalZuGkafrMxH2aiMIyLqaRM+zsplHPFCd99993O\\u002fz03D6L0xfIYPMb4ciYiorWl8jc\\u002fzv4U3EYuQ2azovX14fzpWRDTMeD7Aa8s4ohuZzYpeWodrGVfGERGNMI1NubOMIxYos1nRGyvxs3SsiGiw8fyUFcs4YoFSs6LHluZTbFbGERHN8mI+yVJlHPFCqVnRM6PYm\\u002f0ZU45ERDTLGN7APowqRyIKWZsVPbMxv2DD\\u002fMhERNDJjbyRG8qRiPllNit6YCzHs1E6VkQEaGNjjmVsORIxv9SsWJSRfIhXl3FERNO9jiPyYunoTmYnYlH24YzskhURsSDPcgDnlnHEPJnNim5tzKfTsSIiFmICR7NhGUfMk5oVCzee9\\u002fKiMo6IiP95MYcxoYwjpGbFQrWzD2\\u002fIE8sREd0axf7snTNqLEB+KGIh1udDLFvGERFRWobDWb+MI1KzYiE+yNZlFhERC7YtH8pzZVFKzYoFOZiD89MREdFjIziYA8o4Gi7FO15gJa7L67oiInrvCTZnchlHY2W+Ip5vAieyZBlHRMSiLcmX89Rh\\u002fE9qVsxnJAewa2Y5IyL6pI3deGOe0Y7\\u002fSs2K+WzIoSxdxhER0VPL8PY8dRj\\u002flZoVXSZwMFtnKisioh\\u002fa2IqD8v6MIGfU+J\\u002fN+Xu+FyIiBsKzvJTryjiaJrNZARbnW+lYEREDZALfYLEyjqZJzQrwAbYvs4iI6Lsd+UBuGjVdalbwct5fZhER0V+HsV2ZRaOkZjXeYnyQFco4IiL6a3mOYPEyjuZIzWq2Nl7PK\\u002fKDEBExCEawA6\\u002fLrcPmytm12dbkIJYp44iIGBjLchBrlHE0RGpWg43iNVn5HhExyF7OPtkXvqEyj9lga3ARa5ZxREQMsDvYmXvLOGovs1kN9sXMY0dEDIm1OLbMogkym9VUO3BJ\\u002fvwjIoZKJzvxlzKOestsViMtzbHpWBERQ6iNY1mqjKPeUrMa6Y1sWWYRETG4XswbyizqLTWreTbkjUwo44iIGFwTOYD1yzhqLDWrYdrZg21zxzAiYsi18RL2oL0cibpKzWqYDTiYMWUcERFDYQwHs14ZR12lZjXJCF7Ni8o4IiKGzot5dU6\\u002fTZFbR02yKn9jtTKOiIghdTfbc38ZR\\u002f2kTjfJ0elYEREVsAafKrOopcxmNcbGXJc\\u002f8IiIauhkM64v46iZzGY1wzg+l44VEVEZbRzF2DKOmknNaoad2L7MIiJiOL2CV5RZ1ExqVgMsyf4sU8YRETGclmV\\u002flijjqJPUrAbYmp0YWcYRETGcRrIzW5Vx1ElqVt0txl6sXsYRETH81mQvFivjqI3UrLpbn\\u002f3KLCIiquL1ecthnaVm1d1bWLnMIiKiKlbjzWUWtZFH\\u002fGttLa7K+sqIiGp7ki24u4yjBjKbVWufSceKiKi8JbMpfG1lNqu+1uU6xpRxRERUzkw25o4yjlaX2ayaauf9jCrjiIioolG8j\\u002fYyjlaXmlVTm7Br\\u002fngjIlrECHZnozKOVpfzcB2N4NWsVcYREVFda\\u002fHqrOWpm9SsOlqXXRlXxhERUV3j2ZV1yjhaWmpW7Yxgi7y9ISKiBW3Nljkz10r+MGtnEq9jYhlHRETVLcZrWLyMo3WlZtXOeuxWZhER0RpeyXplFq0rNat23pEtSSMiWtaSHFpm0brySEO9LMlDjC7jiIhoGTNZjqfLOFpRZrPq5RPpWBERLW4MnyizaFGpWTWyAm8ss4iIaD0HslyZRStKzaqR17JCmUVEROtZkdeUWbSi1Ky6GM+r8qLoiIhaGMM+TCjjaDmpWXWxA5vkkYaIiFpoY2NeVsbRclKzamEML2eVMo6IiFa1CjvkHkXLS82qhTXYgZFlHBERrWoU27N6GUdrSc1qfW2sz4vLOCIiWtuWrJfVIK0tNav1jWXvrJSMiKidibyKsWUcLSQ1q\\u002fUtwavLLCIi6mAfJpVZtJDUrNb3mmyXFRFRUyvlQrq15ZZvi2vj32xexhERURNXsxWdZRwtIbNZLW47NimziIioj83ZpsyiVaRmtbi30l5mERFRH+0cUmbRKlKzWtmS7FpmERFRN7uzRJlFS0jNamWvYqkyi4iIulmaPcssWkJqVssazU5MLOOIiKibiezMqDKO6kvNalkbsFkWZkVENEA7m7FeGUf1pWa1rBexTplFREQ9rZOXqrWk1KzWNIHNsyIyIqIxlmLzvFet9aRmtaaV2K7MIiKizl7KimUWFZea1ZpWYdMyi4iIOtucVcssKi41qwW1s3umjiMiGmbe84Z58qmlpGa1oJF5k2hERCO9mpFlFlWWmtWC1mGjMouIiPrblDXLLKosNasFvTV\\u002fbhERjdTOm8ssqqytDKLi2rgjVzMREU11RzZNbCWZFWk1L2aNMouIiKZYi83KLCorNavV7J0pyIiIBmtj7zKLykrNailj2bnMIiKiWXZhTJlFNaVmtZQNWb3MIiKiWdbMa6RbRmpWS9km7zGMiGi8SWxTZlFNqVktZVMWK7OIiGiWxXlRmUU1pWa1jjVYL39iERGN1846eb9ha8hJu3WsxVplFhERTbQWa5dZVFBqVotoY01WLuOIiGiiVVkz+\\u002fu0gNSsFrEYmzO2jCMioonGsRkTyziqJjWrRSzBFmUWERHN9eI8e94CUrNaxBJsWGYREdFcGzOpzKJqUrNaxAYsVWYREdFcy2ST0haQmtUidiqDiIhouh3LIKomNatF7FAGERHRdDk1VF4eBm0FS\\u002fBE\\u002fqwiIuL5OpjE1DKO6shsVivYOx0rIiJeYASvKrOolNSsVrBbGURERMDuZRCVkprVCl5RBhEREeQBqapLzaq81VmxzCIiImCVvIet0lKzKm+b\\u002fClFRMRCjGDbMovqyAm88rbK+veIiFiINrYqs6iO1KxqG8Gm+VOKiIiFGMFmuRqvrpzAq23FLMyKiIhurcQKZRYVkZpVbevkzaAREdGtSaxTZlERqVnVtiaLl1lERMT\\u002fLM6aZRYVkZpVbauzWJlFRET8z2KsUWZREalZFTaBVRhdxhEREf8zmlUYX8ZRBalZFbYsq5ZZRETE87SxCsuWcVRBalaFLZvHDCMiogdWSs2qqNSsClsqz+hGREQPLM9SZRZVkJpVVW0sncMmIiJ6YN75IpuUVk9qVlWNZjVGlnFERERpFKsxqoxj2KVmVdWYbDcXERE9tjZjyyyGXWpWVY1hrTKLiIhYsLUYU2Yx7FKzqmpMdvWNiIgeS82qpNSsqhrHSmUWERGxYCvnpmEVpWZV1erZ\\u002fz0iInpsDKuUWQy71Kyq2qAMIiIiurNhGcSwS82qqvXLICIiojs5cVRP9mWqqnXLIAZDG6MZzUjaGNl15THiBRvQdDKHDtDBbDqZzUzm0vn8D0fUy0jGMIo2Rs13lMw7buY3e76jZE7XUTKr64iJQZYTR\\u002fWkZlXVemUQvTWeJViCSUxicRZnPGMZy\\u002fiu88ZoxjC6q2a1Y1E1a27XSWMW05nT9ZsZzORZpvMUT\\u002fMUTzGFKcx63j8vogpGseR8R8m8A2UcExjTdaCMZBTjumrW6PmOkm5q1nNHybyLkXlNaybTmMEMnuXpFxwl05\\u002f3D4veSs2qnuzMX0ntTH\\u002fBeT4WYnFWZzVWYRVWZnmW6CpP836N6mpU7V2\\u002f5jWqgToAOpjb9WsOc5g931X8vJPMDJ7gQe5nMvdxL5NzYomhMI5V5ztKVmEFlmLsfEfJcwfKyK7jY96vgVpb0tl1fDx3oMx\\u002flMzqOkqm8Aj3dR0o93IPz5T\\u002fsFigmYzLvGG1ZDarktZMx1qwNtblRWzOhqzN2oyfb3S4jFjQBFg3nvsa7OBJ7uR2ruc\\u002fXM0j+Z6MvmtjObbkRWzMOqzFkvO1peE6UNq6ClzPPXccTON27uAmruU\\u002f3JajZAHGsBr3lHEMo+E63qJbr+QPZdYQbV13LCYykRVYj\\u002fVZh7VZvRnb7z3TVbxu41Zu5lmeYSrPMq38eDTQaBZjAouxGBuyHut1laqJ5cdraAb3cAe3cwu38WjXITLvP+fdu2yeXflzmcUw6tWFRQyVtcug3iayIiuwPMuyKmuyBmuxzMDdsWghi7E5m8+XPM7t3Mnd3MXDPMyDPMCc+T4W9TWSlboOlOVYnnVZnbVYuZFHyVjWn+\\u002fJuk6e5m7u4S5um+8oeZBn5\\u002fsb627t1KxqSc2qpDXLoH7GsxEbdN37W5HlWIYl8kO5IEuzNNuC2TzGozzCg9zHTVzDrcws\\u002frZobaNYi01Yn\\u002fVYmeVYlmV6c4O6IdqYNN\\u002flyRymdB0lD3Eft3Md\\u002f67\\u002fYsgGnD5aS85olbRGGdTDaF7KdryE9ZjIBMZ3PeUXPTSKFVkRXU87TmMqj3Mtl3MZN+XBxlY1mo26jpJNWbLrKBmXo6Q3RrIMy3Tt1zmbaTzLU9zCP\\u002fkH\\u002f2B28bfVQWpWxeS4raSr2KLMWk5713rX1dmT3diJ0eWnYlA8yT+5gLN5pOvhx6auVamyEV1HySR255W8Im8zHSpzuJJzOY\\u002fbmd31\\u002fGOL+1fXvHdUQ2pW9YxgctdkRQtaluVYmk15CVuzbiNXjlTEHG7jCi7hlq6bKE\\u002fnGa3h1MbiLM8yrMH2bMeGuQYZPp1M5mr+zr94hEd4rPxUq3iAVXKEV0hqVvVM4m6WKOMqG8kqbMgGvJhNWacZDzu1lie6VnHdyG3cxH3lR2JQLdu1HHHeEqINWar8SAyzZ7pWcV3LndzIXS12B\\u002f5JVs9GYxWSmlU963Ili5dxBbWxIduxLRuyMitnaW4rmMZDTOYGLucS7s3V72BpY3m2Ywc2ZhVWYrF891benK5dUm\\u002fjSv7Ola1xlDzFltxRxjFccqhXz8v4Q6XngtpYj4N4Fat1vb6mvfxUtIA5XS89uZ6z+Q33lx+JPluF1\\u002fFaNupaw55rkFbUwQymcxfn8VNur3Tfmspu\\u002fLOMY7ikZlXPa\\u002fjZfFubV8NoxrMCe3MQm+dHp46mczk\\u002f59yuHR7r+CDW4BnJeCayAwezIxPKj0TL6+RmzuKXTO56RWOVTOMAflfGMVxyrqyed\\u002fBNxpbxsBjHaqzBFuzEtq1xMzP6ayp\\u002f5QKu5m7uLcejsDqrsyG7smuLrayMPprGNVzMpdzFfVXZkWsG7+PUMo7hMrIMYtgtW4kH85bj5WzHlmye80bDTGRPducBruFKruIKHi4\\u002f2HBLsgUv5SVszoq5ed4k43kpL+W9XMuV\\u002fIu\\u002f8UD5wSE2gmXKLIZRalb1LDmcNWsk27I\\u002f27I6y+ZHpMHaWZVV2YMHuZNL+S1Xlh9soPXYl51Zm1Wz6KrZluQVvIzHuJfr+AWXDNvziW15gLVactOwer7P24fhqngib+dtrMuYYfjvj6rrZC6z+Q\\u002f\\u002fx695qvxI7U1gD97PtoxiZL5C4wU6mMm9nMnXmVKOD7a5\\u002fID3lXEMl3xHVM8ZvGGIJrRGszRbcAh7M6Ycj1ioB\\u002fklp\\u002fIgT9R5sfxIlmBl3s5+LbxxcAyDGfyOU7mWx4bopaMdnMHBZRzDJTWren7Hq8tswC3LZryYvdmmKgvuo\\u002fXM4C+cy9VcV7c9EcezIVuyB6+s3NO\\u002f0TJmcg1ncxU3DPquKZ38jteUcQyXLLypmJGDO6fUzlrswcvZmtWGaNYsamssr2RH7uAK\\u002fs4F3F1+quUsz268gi3ZgHHleEQvjGEbtuJ+\\u002fs2l\\u002fJGbmFt+cEC0de1kODj\\u002f+OitzGZVzCTOZscyHhBb8y5exsrZhToGQSdPcQ\\u002fncQp3luMtYS3ewStZjaVyGRIDrZNnuZ9L+cFgPU9yMfswtYxjWORUWzEr8SteWsb90cZLOY6dy5GIwTKds\\u002fkID1V6w+zntLEUX+Dg7CkaQ+gffJY\\u002f01GO9MffeT0PlXEMi1yrVcy4AXs2fCxrsR9\\u002f5uJ0rBha4ziQyZzNa1mtogsU2lmZV3I6D\\u002fHudKwYWi\\u002flPC7jTaw3YD9+o7KSsEIq+dXXZGMGYCuFxdial\\u002fFqtkqVjuEzgn3YmX9xDpfxn6qsGGnnxby0a6XiYuV4xBAZxUvYluv5LX\\u002fmyv4+TDKS0WUWwyU1q2JG9+vPpI3deSPbs2a\\u002f\\u002fkkRA2YiO\\u002fMybuASfsFVzCk\\u002fNWTa2ZQD2J2NczqKamhjUzbkDfydszmn7\\u002ffb2\\u002fNzXSE5EVfM6D7OZo1gFz7OZiyVP9eonjFswSa8gYv5IjeXHxkCa\\u002fEx9mSFwX2mN6IvRrIua\\u002fEqPshJ\\u002fK4v87\\u002ft+emukNxQqpgxvatIbYxnOy7gPHZlud79AyKG1GhW4c3cwK\\u002fYjDGD\\u002fiROG2PYkJO5lfewes5CUWHtLMOO\\u002fJJL2YXxvTtKctOwSnJGrphRPZ3NamdFtuTd7Dpg6+YjhsgIXs\\u002fOnMUvuJrHy48MiCXZkgN4fV6AHq1mJNtxPhfyA67m\\u002fh49k5ibhlWSmlUxPbtpuCx78Vp2zwMl0cqW5B3sw\\u002fmcx0U8UX6kz5bg5ezDq\\u002fKGnGhlo9mLnbiQczhv0Vs1pGZVSWpWxYxcRM0azRt4E1uyTO\\u002fmkSMqajkO4ZVcxqn8ub\\u002fvfhvN9hzKy1mtHIxoSeN4NS\\u002fjAH7F6UwvP\\u002fKc9pzbKyRrsyqmfaHVaQS7cgnf5ZUsu9APRrSkFdmXn\\u002fFLNiwHe25NfspZHJCOFfXSxlLswte4lH0WelHelnN7heSPomLaFtCeJrAV53I+L2XiAj4SUQcjmMTeXM\\u002f32LAXLzUfzQZ8n9vZjyUWegaKaG1tjGcrfsk5bMnEBXwk5\\u002fbKyMRixTx\\u002fNmsim3EwB2f\\u002fxGiSEbyLPTmZc\\u002fnPInYQ2oS9eCdr5xokGmM0r2InzuBHXMdT\\u002fx1JzaqS1KyKGfHf00Q7m3Ig+7JO+aGI+mtjNT7Da\\u002fkF5yx4n6012Zd92SbfZtFI43k7u3A2P\\u002fnvexZGZDK3QvLFVDEjaLM4H2J\\u002f1unFTZOIGhrJFmzI6ziVM\\u002f93wb4Y+3EoW+Rx22i8NXgvr+RcvqTticxmVUf+KKqlbaTXt7uOo9kkHSsCjGMbvskFbAObcQ7f52XpWBHo2oP3w1yn\\u002fRCjMp1VFalZVTGKbfhJh9M6rJZpxojna2OUMdtY6\\u002fwp3\\u002f3ulIvWsdMYo7ISK+L52llJx7d0nM422T6rCnI2r4RVeB2Hs3ZHzhsRLzRvpdY+vHPpJTZ+lxGv4Af8hnsXsTo+onk6x5t7IC\\u002flG\\u002fyWO8sPxBBKzRpmo9iNd7LnvLesdfToVQoRTdLOG3kzL5v3xO0INuRYducn\\u002fLwvL9eNqK\\u002fONh1Yky+zO9\\u002flj8wqPxZDIjVrOC3LRziIlZ+7fduRa\\u002fOI+b2IT7HjC996sBh7sBWv5Yv8Z\\u002f6xiCb73+X6aF7JpvyUE3js+Z+LoZC1WcOjjRX5LZ9g1fn\\u002fGFKzIv5rAodzAfsv7K0HbSzL\\u002flzAB7IYPmKezvnvioxgFT7BH1h1gcdRDKrUrKHWxvK8j5t5STmYmhWB8byIH\\u002fE1li0HF2RZTuJXbMGEcjCiYToXeB99S27i46yQsjWUctNwSI1ma97H6xhXDiI1K2JtDuQDLF+OdGsEe7I13+EMbsmRFI31vNms+U3gc2zBd\\u002fhHVmsNjdSsodPGB3gbG3Tz7z01K5prDK\\u002fmXbx8YZchi7QMH+flfJ9zmFGORzTAQmsWxvJ6NuEU\\u002fl\\u002fON0Ngoaf7GFgr8D12WcBLPp8vNSsaajQncBBL9HMxw1hewYvYk\\u002fcxrRyPqLvuahba2YjPsTPvYXI5HgOqX19n0RMj2ZGLeM0iOxbmLPCeekSNjWYv7uIDLDUgX0ojWJK3cit7ZYvGaJq5zCmzF1iMV3ExezKqHIyBMwDfaNGNFfgAP2HDcmQhZvbk8IiohxGsxac4nZXKwYGwMj\\u002flONbJl100xxxmltlCrMMpHM4K5UgMkNw0HERb8lFe06tlJjNSs6I5XsX72XHe1ryDZAk+xBb8gF\\u002flnnw0wZxeLUtckWO71sVfVg5Gv6VmDYoRHMBHeVFvH5zNbFY0wjJ8hANYoxwZBKPZlQ3ZhhN4uByPqJfe1SyM50A248ucmZPQwMo8+sBbjE9xUh86lsxmRRNsxVl8eGg61nNW5oOczfblSES99OKm4XPa2ISTOJpJ5WD0Q2rWAFuVb\\u002fC5F74ZpIdSs6LOJvI2fssOw7IwfRQv4eccMu\\u002fliBG1NLu3s1nPWYqj+A6rlSPRV6lZA2YMO3EWh9BeDvbYDGaXWUQtbMgX+A4rliNDayW+z5fZrG\\u002fXQhEV1+ubhvNr5yB+wY7Dci1UP6lZA2NJ3smpbF2O9FJqVtTQWF7DdzicseXgcBjNe\\u002fleN+9jiGhds5leZr20LafyTpYsR6KXsgR+ACzLJziEpcuR3puem4ZRM5N4P+9mlXJkuG3L19mAb\\u002fNUORjRsvqyNuuFVucY1uF4HikHo8dSs\\u002fprDD9kz\\u002f7cKJzfrLxmKupkBN\\u002fmgIE6PgbWCFblWLZl32wMHLUxa0DuirSxNIexIa\\u002ftz23IhstNw74bzTZcz6sH9hzydPfvSYhoCePYnlt408AeHwOunX24nR1zAzFqoIMpZdYP7bySa9g6S7X6JjWrjxbnDZzJOuVIvz2RLRSj1S3Du\\u002fn5YBwfg2QNfsp7Wa4ciWgpHTxRZv22Hr\\u002fkQBYvR2JRUrP6YhIf4PhB2vbnycxmRUtbgc9x1CC9P2fwrMSnOY6Vy5GI1tHJk2U2EFbnC3yQJcqR6FbWZvVaG18e1Fb\\u002fRGpWtK61+SHbVOSJwt5akreyMW\\u002fnlnIwohUMymzWPCvzMdbgnTlL9Vxms3pnCf7BuwevY0nNihbVxiu5gh1atGPNM4aXcTmvzvdjtKIOHi+zgbMYh\\u002fLXzGn1XL5GemokL+a3bFuODLQnsjYrWs6SvJ\\u002fTarPLziRO5Yja\\u002fP+J5ugYpJuG89uO89iSUeVIvEBqVo+MYhe+zcvKkUGQ2axoMavwWY5j+XKklS3Dp\\u002fkcq5YjERXWOaizWc95Cd9mtzStRUrN6pHX8zVeMjT\\u002fvh5PzYoWsj7f5T21vImwBO\\u002fhe2xcjkRU1eDeNHzOCLbhBPYtR+L5hqI2tLr38B02GrLXnz2QmhWtYnt+xV6MKUfqYjR78Et2LEciKmkuD5TZ4GhjQ77Lx8uRmE9qVnfG8BlOGuL1GU8xrcwiKmYke3Mam9T+a2QEG3Iqr8uz2VF9U3m2zAbTkhzHUTW+1uqnmn8\\u002f9seSHMkRw7Lx7X1lEFEl43gL32atcqS+1uCbvI3x5UhEldxTBoNvNB\\u002fjKJYqRyI1a2EW4xPDuBHbXWUQURlLcyRfbeDS8JX5Mp\\u002fMySSqbHhOH5M4jE8O6mZHLSo1awEm8A0+MMT3Cuc3PMdJxCKtwtf4RGObxpJ8lG+wWjkSUQ13l8FQWYL38i0mliPNlppVWpJf8WYmlCNDKDUrqmh1vsGBDV+EMZY38g3WLEciKmA4Tx8TOIhfMqkcabDUrP9pYyW+z260l4ND684yiBhu6\\u002fL\\u002feG22ycFI9uEkNihHIobbHWUwtNrZjR+y6pA9nV9xqVn\\u002fsyZf4TXD3rFwWxlEDKst+Bavy\\u002ffmc9rYmx+wVTkSMayGuWahnb35MmvnG0P+FTxnRb7Oa4flucIXGsXUivxPidiL49iijANcw9H8rowjhsNMJjC3jIfDbM7hQ9xfjjRMZrNgFX7GvtUpNrPzkxlV0MZ+nJiO1Y3NOYE35po1quC+inQsjOK1nMHq5UjDpGZZkV\\u002fyiqptPHhrGUQMrTZenQVIPbFe11x4vk9jmN1SBsNqJC\\u002fnF6xSjjRJo78W2liDb7F1Ba9Eby6DiCE0glfyXVYqR2JBVuDb7Nnwr9QYdlU8cWzJt1irgqfZodH374Tllltu3333LdOWshrH8uoqrHl\\u002foZvKIGKojGQ\\u002ffsTK5Ugs3IqczP55FDOGURVrVjt7cWyrbza37777LrfccmXaA328UbbccsudcsopK6ywwtSpUy+44IJyuBUszpcqtR6rcEMZRAyJUbyN4+jLF0rDrcA3WYpTmFUORgy+68ugGkaxPyN4L0+Vg61g9913\\u002f+QnP\\u002fnQQw+9\\u002fe1vf+SRR8rhbvVlNmu55ZY7+eSTV1xxxba2tj322KMcbgWL8XNeX9mOhQeZXmYRg2w07+Bz6Vh9tiyf5d0N38I1hsWz9K4ADKXR7M8ZLbpH\\u002fB577NHW1rbiiiuefPLJvZ3T6nXNmjePtdJKK+Gqq6468sgjy09U3jh+yB4Vn9ufwQNlFjGYRvIGjmfFciR6Y3k+z0F9vlkQ0TeTmVlmVTKSPfkhY8uRyjvyyCOvuuoqrLTSSqecckqvmlbvata8jrXiiiviqquuOuyww2bNarGp8SU4jr3KuHpmcW+ZRQyakRzAt\\u002fOWjAGxOP+PAyp+LRc1c2\\u002fFa9Y8r+aLw\\u002fjG4L6ZNWvWYYcdNq9prbjiir1qWr2oWTXoWBP4IIcyvhypnlnD+AbQaJqRvIVvsng5En01iW9zSJVXJkTN3NMSSwLH8TY+NLzvDe6DPjetntasGnQsHM7hrdKiZ+SVOzE0RnIoX2SJciT6Z3E+z9ty9zCGxi3MKLNKWoIP8KEyrry+Na0e1ax6dKwjOIqlyriqZnEXs8s4YkC1sT+fyZr3QbIsn+GAHn7VRvTZvHUmLXNmXopPclgZV14fmtaij\\u002f0adKx29ucLrTVH2cljPFrGEQOnjZ35Cis3dufAwdbGSnyZXfOvOAbVIzxeZtU2gS9zYDV3ruxGb5vWImpWDTrWSHbj84wrRyrvcR4ss4iBswMnN\\u002fw9GENjJf6PHcs4YuA8yGNlVnnjOIZXttyzIr1qWt3VrBp0rDa24DOsW460gsdSs2LwvIofskYZx+BYjR\\u002fyqjKOGCAtWbOwDp9hy+7bSAX1vGl193\\u002fsuOOOm9expk2bdsQRR7Rcx8LyfIltWnS6\\u002flHuL7OIgbALX2WtMo7BtAZfZfcyjhgI97foIpM2tuJLrFCOVN6sWbOOOOKIadOmYcUVVzzuuOPKT6D7mvW5z31u3qby48eP\\u002f9KXvtTe3mI3UEfwc17Rcjd+nzODB1toSWO0ii35IhuUcQy+DTiWLco4on\\u002fmbWfdqieLdl7OT7svJBXU3t7+pS99afz48XjkkUc+97nPlZ9A9\\u002f+vHnzwwede37Pddtt99atfHTGiu89XykROZYfu\\u002fx9W3z08U2YR\\u002fbA2n2vdGd5W18a2fJ51ypGIfpja6ttZj2BHTmuhB9VGjBjx1a9+dbvttsMjjzzy9re\\u002f\\u002fcEHF7zKZxElZP6mtcMOOxx\\u002f\\u002fPEt0bQW48PsV8Yt6E6eLrOIvlqao1viJQj1tgefZdkyjuirp7mzzFrQvhzREpskjxgx4vjjj99hhx0sqmNZZM3y\\u002fKa1yy67VL9pjWFf3tUSW70v0i1MKbOIPlmSL3NwT476GFRtHMhXWLocieiTJ7mlzFrQeN7L6yv+4vV5HWuXXXbRg46lh1+4RdM65phj2toqesdh3pz8p1mpHGlNjzK5zCJ6bxzH8dbWXalYM+28mc+30D2SqKxO7mvRxwxfaEU+VeVVDW1tbcccc0zPO5Ye1izPb1p77rnn0UcfXX6iGiZwMutU9o+otzq4ho4yjuiNNo7gkLz0pVLaeQsf7vm3cMQCdfJvOsu4NbWxDj+o7O2oo48+es8999TjjqVXB\\u002fj8TWufffY58sgjy08Mt6U5p0W3yOrGFbU5fmJYjOJA3p95kwoaz\\u002fs4MP03+qOTK8usxW3Aryv4brwjjzxyn3320ZuOpVc1y\\u002fOb1n777ffhD3+4\\u002fMTwWYJj2LmMW98VzCmziB7bvk530etnBT7Jy8s4osdmc1WZtb7d+SxLlvHw+fCHP7zffvvpZcfS25rl+U3roIMOeu9731t+YjiM5q0cXMa18CD3lFlEz6zDl9iwjKNKNuYrrFfGET1zJw+XWS28lUMqshz+ve9970EHHaT3HUsfapbnN625c+eWw8NhZz7YEo+B9s1fyyCiB5blx2xdxlE9W3Iay5RxRA9cWgZ1sTiHs0sZD4d5VacPHUt\\u002fVoqvtNJKO++8809+8pNyYMity5n13lj5QH5WZhHdGsuP2L9vl1Ix9Do5i7cwvRyJ6NYb+GWZ1cgVHMgdZTzk3vrWt\\u002f7pT3964IEHyoFF6XvNqoiJfI83lXG9LMP9jC7jiIWYyEf5CBPLkaiwqXyNrzK1HIlYiJmsxBNlXC+n8X6eLeMW0dpXuu18hAPKuHYe48Yyi1iIUV0b9KZjtZiJvJ19GVWORCzE9bXvWHgTR7RuXWnV\\u002f93zvImPNmS\\u002fxdrefY8BtwlHsmIZRytYmU+xWRlHLMRfyqCORvLx1n3IrYVr1vYc2ZwL9j+XQcSCjOVUNijjaB3rcSrjyjhiQS4qg5pajE\\u002fw0jJuBa1as1biw406mdzOo2UW8Xxj+Rmb12DNZZO1sSlnMrYciXi+h+rxxuge2pCPtOI8fUvWrLG8mT0adTJ5imvKLGI+EziSPcs4WtPufLw5s\\u002fXRN9fyVJnVVxt78paWuwBpyZq1C4c1bVL9Kf5TZhFdRvFqDm25L6BYmLG8k32yHD66cU2jahbGczg7lXG1tV7NWo7jWbmM6+5ZbmJGGUeAjTiSVco4WtnKfIyNyjgCTOcmppVx3a3El1m+jCusxWpWG6exSRk3QCd3MbmMIxjH57Mkq37a2JxjmzZzHz00mbvpLOMG2IRTW+jrrpVq1ig+xs4t9G93YN1ehY1wo2pG8lFe3djDot7a2IcPM7Icica7g9vKrBna2IWPtMod9ZapWW28jHc0eS\\u002f0+7mJOWUczfZqPlVmUS9H85oyi2abw030+r0vtTGad\\u002fKylri8bJmatQrvZ60ybpIO\\u002fsPTZRwNti2fz7L32hvDsWxTxtFgT\\u002fFvOsq4Sdbm\\u002fS2xTrs1atZo3sBeDdnwvRv\\u002fZEqZRVOtzEdZv4yjjtbjo6xUxtFUU\\u002fhHmTVMO3tyQPVvcbVGzVqVTzO+jJvnFu4ps2ikUbyRvbNopyFGsg8HVf+UEkPjXm4vs+aZwKdZvYwrpgVq1pKcwRJl3FQXlEE00g58lDFlHPU1hg+xfRlHI51fBk01idMqXhCqXrNG8Sm2LuMGO6\\u002fh9+MDy3JMK750IvppZY5huTKOhulIzZrfS\\u002fl4lef1q16z9uStZdZsN2Zbh4Zr4\\u002fNsV8bRDC\\u002fjuJZ4vCoGz23cXGbN9nZeWWaVUematRaHsXQZN9tcfllm0SRv45CcZxurjbfyljKOJjkz9zQKy3A4a5RxNVS3Zo1if15e5f+Jw+X\\u002fcow11ryX6mQZdKON4ZNsWMbRDB38sMwabwQ7ckA1NyytaIdpYzvelSW+C\\u002fQAV5dZNMCSfJg1yziaZ20+xlJlHA3wLx4qs2A0h7JtBWf6K1qzRnNYwzcj7cZcfldmUXej2Y\\u002fXVHmlZwyZkbya12dis4HOZW6ZBViXwyt4TFS0Zr2VV5VZdJnLX7MdfNOsyeEsU8bRVMtWeTVKDJIp\\u002fC01qxt7c1CZDbcq1qzV+FJeINK9e7mmzKLWjmHjMotm24jPlVnU2jXcV2Yxn7F8tWpv4KlczRrN11iyjOP5HuKfdJZx1NTreWMF1xzE8BrBgbyhjKOmOvlnFmYt0tJ8rVK3DqtVs0bwRnYq43iBZ\\u002fkPT5Rx1NE6fL3MIrqcyDplFnX0BNcyrYzjBXbh9dWpN1X53zHPOhySqaweuib7lDbBJI7KK4OjGyvxKSaVcdTO7fy7zGJBluKQ6jyUXaGaNZbX8pLcGumh27guayFrb2\\u002f2qtRxGlUzglezTxlHvczh2lxa91AbL+O1FVnjXaGv79V5J+PLOBZiFhcytYyjRjbgHSxbxhHPtwyHsn4ZR41M5U\\u002fMKuNYiAm8i9XLeDhUpWa1cXhWGPTWH3mkzKIuxrAv22d6NxapjZezX\\u002fZzrrFHuKDMolvr8d4qfH9WpWa9lEPKLBblSf5QZlEXW3AY7WUcsSDtvJ8XlXHUxXk8VWaxKO9g6zIbcsNf9LAkF7JFGUcPbM5VORfXTzvnVfmd81FNf2Bv5pRxtLi5vIjryzh64Ap2Z0oZD6FKzGa9OxdhfXZd3m9YS+9mlzKLWJRdeUeZReu7ghvLLHpmS95eZkNr+GvWOry5Cv87WlTe1l5Dq\\u002fDpvLsw+mAkn2W1Mo4WdzIdZRY9M4JDWbeMh9Aw15sxHJpXRPfTWVkIXyfj+GTeXRh9tgxHMq6Mo2U9xDllFr2xFm8dxudDhrlmbcE+FdnaonVNzUFYJzuyF6PKOKJnRrInO1Vk4W303294tsyiN8ayzzAuTRrOmjWR\\u002fbPXS\\u002f\\u002fNzEMotbEib2bVMo7ojVU5mBXKOFrQFH7PjDKOXtqQ\\u002fZhYxkNiOGvWWrwlK1D6r4MbshC+BkawA3vnwdHop3b2Zvvh\\u002fX6PAXElN9JZxtFLI3nrcK1aHLbDsI1Ps3QZR5\\u002fcycV5jLvVLcbHh+t6K2pmIh9nsTKOljKHv3BXGUefLMunhuVe+rDVrJfyujKLvurgH9xbxtFS3prN42IAbcWhZRYt5W7+nmcMB9Ab2KbMBt\\u002fw1KzF+XJuFw6sK7g+c8utaz2OLLOI\\u002fvnE8D7IHv0xbzXIlWUc\\u002fTCKLw39HYPhqVn7sVWZRf88xR+YWcbRIo5kxTKL6J\\u002fl+eSw3CaJ\\u002fpvF73m6jKN\\u002fXjL0N9KGoWatyFuzicNgOIMnyyxawSvZs8wiBsKe7Fpm0Qqe4Mwyi34bw9tYrowH01DXrBHsw6ZlHANhCj8qs6i8ibx1iA\\u002f7aI7lODRr4VvRqdmmZzC0sTl7D2X5Gbr\\u002fpnlW5lUsWcYxQL7JE2UWFTaCPXnF0B+J0RAjeDm75yestTzBd8ssBshS7M1KZTxohvTQa+dlvLyMY+A8mHnm1rIc+2dVVgyqldifZcs4Kuyn3F9mMXBezkuHbIfCIa1ZE3kLS5RxDKhTmFJmUVVbsEfWKMegamPPPHXUQp7k1DKLAbUUb2ZCGQ+OIa1ZW7B7mcVAu4s\\u002flllU0gg+kmUzMQQW54ND\\u002fHUfffaHbEk6BPYaskuPoTvuRnP8kE3SNdkUfsnUMo7q2ZWdyixicOSnrTVM5awsfh8C7RzD6DIeBENXs\\u002fYclu1XG6iTa\\u002flXGUfFLMEJuV0YQ6aNE5hUxlEx\\u002f+KabDQ9NF7GbmU2CIaoZk3gIzmlDJm7uZhpZRxVclA2Nokh9iIOKLOokme5iHvKOAZHGx9hfBkPtCGqWXuyWZnFoJnNOTlWq2xlDimziMH3dlYps6iMe\\u002fkts8s4Bs2LeWWZDbShqFljeCOLl3EMpuu4JDPPlXUAG5ZZxODbgP3LLKqhgwu5roxjME3iwMFeoTUUNWsXtsodw6H3XZ4ps6iAtdhz6F9fGoHF2JM1yjgqYGq2JB16bWw12A+HDHrNWoxdWbWMY\\u002fBdx8\\u002fLLIZbO9uzZRlHDJWteHke+q6gM7ipzGLwrcaug3rdO+g1ay32yiE9XL6Yd+9UzVK8Lnv0xjBakteyVBnHsHqSL5ZZDIl2XsVaZTxwBrdmtbML65RxDJW7+VmZxbDaIHv0xrDbg43KLIbV6dxbZjFU1mOnwZsOGtyaNY63D97\\u002f9uiJ72VCqzra+NgQPD8c0b3xfDDrZavjcf6vzGIItfM2xpbxABncmrVXrpmG3QP8ko4yjuHwYvYss4jhsDebl1kMhw5+kRdFD7vNB+8+wyDWrDF8ssxiyD3Jb7ivjGPItfN5RpZxxHAYyXG51VAF93I2U8o4htwnGVVmA2EQa9YrsyVpRfyTi5lbxjG0duIVZRYxfHZihzKLoTWXS\\u002fhnGcdw2JJdymwgDGLNes+g\\u002ftOj557iFzxaxjG0DmVcmUUMn\\u002fG8vcxiaD3CmTxdxjEcRvD+MhsIg1WEtstUVqX8gb+XWQyh7bJHb1RNG1uzbRnHEPoHF5RZDJ8XsXWZ9dug1KyRvJqlyziGTycn5GXSw2U0u+VVclFBq7L7IC1IiUV6li\\u002fnlWiVsgx7D\\u002fgK2kGpWWvxssF7ODL65h\\u002fZFH64rMlOuWMYFTSOnfLuneFyBv8qsxhWY3k5q5dx\\u002fwxKzdoqjwpX0zE8UmYxyEawWd6uE5W1NS8epDNBdONRjiuzqIDN2arM+mfgD66l2IVJZRwVMJnvlVkMssV5w6C+MCuiPyayL4uVcQyyb2WvrGpakp0G9n1oA1+zVmLnMotqmMuZXFfGMZhWYa8yi6iSV7NqmcVgup5fZZOdytqVlcusHwa+Zg38jc0YQHfxE54t4xg0H8zbdaLiJvCBMotB8yw\\u002f4c4yjspYi+3KrB8Gvma9LY+tV9kMzuHfebxlaKzM68ssonr2Z8Uyi8HxH85mRhlHZbRxSJn1wwDXrJfwojKLirmNX2ZCa2gcwpJlFlE9S\\u002fGWMotBMJWfc3sZR8VszRZl1lcDPPH0q1y8t4TR\\u002fCuPgw62dm5lrTKOqKQ7WD\\u002frhQbbtWzDzDKO6vkpB5dZnwzkbNayWevbKmbxuRzqg20\\u002fliuziKpanteWWQyoWRydL95W8bqB2mR9IGvWgdmStIWczTllFgNnHK\\u002fOlqTRQsaxT77DB9U5\\u002fLbMoqrG8YYy65MBq1njeNWA34OMQfV57i6zGCCb8mLayziiqtp5MZuUcQyQezm2zKLC2tibMWXcewNWs7ZmvTKLaruJk7IWY5C8JKuyouWsPbAPssdz5nISt5RxVNsGA\\u002fICj4GpWW3swPJlHNU2h99zWRlHv63CzrljGC1nPDuwUhlHv\\u002f2Vc5ldxlFty\\u002fOK\\u002ft+lG5iatQJb5azSim7lNB4v4+iftXlJmUW0gu1Yu8yifx7ndG4r46i88WzV\\u002fyeZBqZmrc9mZRatoJPz+Asd5Uj01Si26\\u002f+RGTEsVuCljCzj6KsO\\u002fsJ52RG6RW3OBmXWSwNQs0axKauUcbSIh\\u002fk6T5dx9NUY9u3\\u002fPHPEsGhj3zxvOICe5iQeKeNoEauxcT+vOwagZi3OTowq42gdf+fUMou+2pAXl1lE69gqzzMNoJOz\\u002frWljWJHJpVxbwxAzVqGl5dZtJS5HMmtZRx98u7s4xAtrZ13lln0yS18Mk9zt7od+7lP6QDUrJ1Ypsyi1cziCJ4o4+ilJXldmUW0mv1Zosyilx7no8wp42g1y\\u002fKyMuuNAahZB5RBtKZLOT1fCv30GpYqs4hWszSvLrPojTmcxsVlHK3pwDLojf7WrBXZtsyiNT3L6VxdxtEbB5VBRGt6cxlEb1zFj5lWxtGatu\\u002fPfcP+1qz980xKbXTyH07nqXIkeuZFbFRmEa1p42zT02dP81OuySYOtTGOfcusx\\u002fpVs0awf5lFK+vkNC7Jt0Pf7NzPB1IiqmMSO5VZ9EAnF3NavkVr5sA+b9PTr5q1Ri536mcqX84uL30wgW0YX8YRrWk8L2FCGceiPMrx2YmwfrZktTLrmX7VrD1zx7CW\\u002fsGxeQi5tzZk\\u002fX4eUBHVMYL1soFWb83lGC4v42h9Y3hlmfVM388KbeyQXUnr6of8ssyiWxuxVplFtLK12aTMoltn8sMyi1oY1ee76H2vWWuzTp\\u002fvVUbFzeBobinjWIjF2JLFyziilU3ixUws41iI2\\u002fgcM8o4amEE67BmGfdA32vW5qxQZlEjd\\u002fMlnizjWJB579uNqJuXsnyZxYI8yZe4u4yjRlZk8zLrgT7WrHY2zubv9TaH33M2s8qReIE12bjMIlrfpqxRZvECszibc7O9c70tw8Z9eJdaH2vWMmzE6DKOenmYr3N7GcfzjWDnPGMYtTSBnbI4ZJFu4+t5QLv2xrBxH\\u002fYp7WPNWpVNyyzq6Ho+V2bxfG19fgIlovpe2efzRHMcx3VlFnW0MauU2aL08fBZmXXKLOqog19yGh3lSHRZum837CNawhYsWWbRpYNT+Hk2I22I9Vm5zBalLzVrLFvljmGjvI+\\u002f5XtkYd6SmypRYyP6+eLcGuvkbxxexlFfY9iCMWXcrT7WrJeUWdTadD7DrWUcYL8yiKiX1KwFu5XPMr2Mo9Ze0tt92ftYs7Yos6i1Ti7nOzxRjjTeqry4zCLqZUtWKrPGe5Lv8s9M8zfN1owrs271pWZtnVv1DTSDH3J+XsJT2C33z6P2RrNrmTXbXM7llGxG2kBL9XaiqS81a88sRWmmqXwuW8PPr43dyyyijnbP1\\u002f78buE4ppZxNEAbe5VZt\\u002fpSs3JZ01x38AkeK+OmWja7kkZDbJb9qJ\\u002fzOB\\u002fjtjKOxti1Vxcdva5Zq+UFuQ13LsdlqnyerfqwVV1EK1qaLcuskaZzLOeXcTTJOr3a1qHXNWvnPmw1HzVzKidnJy1szqQyi6ijSWxWZs3Twcn8sIyjYdrZscwWrtc1a8cyiOZ5hpO4uIwbZgzr5h070RATWC+Pe\\u002fyZk7IkK7BTGSxc72rWqOyYFfPczle4pckPM6\\u002fB2mUWUV9rs3qZNUYnt\\u002fBV7ihHopFeysgyW4je1awNWarMoqn+xIk8U8aNsRprlFlEfa3OamXWGE9zAheWcTTVMqxbZgvRu5r14t7ufho11slP+EYzJ7RGsBorlHFEfa3Ear09Z9RDJyfxk2Z+18UCje35MyG9O2Q2S82K+U3nK\\u002fy8jBtgAptlpUo0yhg2beZqxJ9xQh6vjvnNOxp6pBc1q501GVXG0WzPcARXlXHdLZ537EQDvZjFy6zuruAjTV4dEQs0mnV7uO9CL2rWWqxYZhE8zAe5sVEz6pPYpMwi6m6TRm1h0smNfIRHypEIlu\\u002fhMyG9qFmrs2yZRdDJv\\u002fgiD5Qj9bVOXuwZDbQMa5ZZfT3AF\\u002fJy6FiYZQe+Zq2WmhULM5vfcAJzypGa2r4MIpphuzKoqTl8jbOZXY5EYOBr1khWYbEyjugyje\\u002fz7TKuqW3LIKIZmrJ14kl8l2llHNFlcVbqSYla9CfmmcSavXpZYjTQdD7Er5lbjtRLO1uUWUQzbN3z00aL6uAcPsr0ciRiPiNYiyXK+AV6erwska0Yo4c+yMX1blovYmKZRTTD4vV++mMOF3NYGUcsyBo9eSakpzVr8R7ehIx4gM9wVY3fLb1bGUQ0ya5lUBcdXMWnmVyORCzIagNcs1Yqs4gF6eAKjuLucqQudiyDiCbpxVtzW8s9HM2VebQwemiVnmwk16OaNYJ1GVPGEQsxh4t4fy0fPGxjmzKLaJKX1nKd7lwO56JafmvFIBnHmovsUYsYnqe93jfjYzB08AcOqd\\u002fuyQ193UjEcyayYZm1uKd5M+fWe1FpDIZNF7kXfI9q1gg2KLOIHjiDY3isjFvZpj08aiLqakTNLrwf53PNfDdr9N8GizwjLGJ4nnbWLbOIHujgZL7LlHKkZW3Uw6Mmoq5GsFGZtayn+D6n1viRnRhUi36zYY9OGKNYpcwieuYpTuLnzCpHWtOGPTxqIupqBBuXWWuaxc\\u002f4Wp2uA2OIrT4wNWsjRpdZRI89zmH8roxb0CRWrOXy34iea2Oleuwd93uO4PEyjuixMaxfZs\\u002fXo5q1ZRlE9NJsDuScVn9B2Jo92SUlovYmtfqG1bM4lzcysxyJ6KUtyuD5elSzXlQGEb03m7fxS2aUI61j9Z7skhJRe61ds2ZyFm9Jx4oB8eIyeL4e1axaPVQSw+hJjuLs1l2ntVpqVgQWY7UyaxGzOYdPZz1WDJRNy+D5elSzFnHjMaLn7uEoLmnF53rmrUiZUMYRzTORlcusFXRwEZ\\u002fkrmz1HgNlERteLbpmLdGTN1BH9FAnd\\u002fIWbmy5r7nFWbEnh0xE7bWzAouVcbV1cguHcmfLfflElS3d\\u002feX3os8Zi+hpEX3wMHtxWWu912IJliuziKZajiXLrMLmcBm780A5EtFv3RWlRdes9cogYiDcxyGc10LPHi7BsmUW0VTLttBjt7M4j7czuRyJGAjd7eC+6JrV3d8d0R938okW2uVhUmpWxHNapmbN5lyO5LZyJGKArFMG81l0zVqzDCIGSCe38mH+3BJLJVKzIv6nNWpWJ5fwYW5piS+ZaFFrl8F8Fl2zWvWp3WgJndzH\\u002flzK3HKwStqYxPgyjmiqxVii4q9EmMtl7Mc96VgxqFYtg\\u002fksomaNZOkyixhoU3kVv67yzqVjur9eiWigNav8Hrbp\\u002fIY9ebociRhoy3fzZsNF1KxlGVtmEYPgWT7I6UwtR6phVEvveh0xGNaobM2ayukcVtnvk6iZsSxVZl0WUbNWqOxRFPXzIJ\\u002fhBzxbjlTA6Nw\\u002fjyiszqgyq4BpnMxneagciRgcY1ihzLosomYtn5oVQ+lhjuIbZVwBo1ipzCKabcVq1qzv8EkeLuOIQTOK5cusyyJq1rLVPIqixmbwKT7CU+XIsBrZzVEU0UzLM7LMhtVTfIqPVXmVZ9TS6G6eQ1\\u002fEMbJ0alYMi6\\u002fzDJ9kjYo8yzSuJZ5ejxhKS1Zn8W4nd\\u002fFVflCORAy+Ud08LriI2awlF1nEIgZDBz\\u002fhKG6uyJPYqyzyYIlomvaK3Erv5GY+xWmt+E76qIGR3bx6ahFnjtSsGDbT+TXv4+ZyZDhkm96IBajEgXEbh3E208uRiCExsu9PGi6emhXDaCZ\\u002fYQeuL0eGXCXOJhFVs0YZDLmbeAUXMbMciRgqI7tZVdJdzRqfTa9j2HXyGC\\u002fjl8O70cPqZRARw1uzpvEbtuOhiiwtiMZqYxxjyhjd16zFmFBmEcPhaQ7j2zxejgyV1KyIBRi2A+MJ\\u002fo8PMKUciRgOE1iszNB9zRrPuDKLGCYP81WO5YlyZEisUgYRMVwHxhS+wBd4oByJGCbjFzYx1d3Kq\\u002fHVeVg3Ao\\u002fxA27lxyxTDg6ybJoVsQDDcGA8wlu4NAveo1LGLmxiqrvZrHGpWVE1M\\u002fgD2\\u002fDvoXxyu31hlykRDTep+7PIwOrgWrbnj+lYUTV9qlljF7agK2J43cX+nDFk74WtxN5AEdW0XBkMjmf5NW\\u002fktnIkogLGLGxiqrualdmsqK47+AQn8mQ5MghWKIOI6LJiGQyCp\\u002fg6H67ILnoRL5TZrKif+\\u002fkqhw7B1e1QnEciWtSgX4XcxTv4MveVIxGV0aeaNSY1KyruWc5hP\\u002f5SjgyoYVjmG9EqBrdm\\u002fYv9+DXPlCMRVTJ6YY2pu5o1Ku+Njurr5FoO4czBWxWbmhWxUIN1eEznTN7I1UP5vEtE3yy0MXW3ocPohf1NEVVzN+\\u002fmet4xGPtSD9Ea34hWNCg1637+j28MzeLLiP4bubDG1F3NGtX9cESlPM0XuZoPsfPA\\u002fuwuXQYR0WWA97Cbw1\\u002f4NmfnFTrRQkYxuszQ\\u002fblooVNgEdXUye+5nfdxKIuX43210HeCRsSC3zDSN1P5Ed\\u002fOE4XRchbamBZas9pop62MIyrvNo7kVo4fqII0kOeRiJoZsMNjKsfwLWaUIxGV176wQrXQJfAjFrZoPqL6ZvJd9uZ6ZpaDvTexDCKiywDUrFncwB6ckI4VrWvkAuemuqtZCy5mEa3ir+zK97mvn4s8BuA8ElFX\\u002fTo8OnmAk9mdy8rBiJYycoGdaqFVqq2bsYhW8TBH8TeOYNsFHgI9kRcaRixU3yd7O7iSb3AuT5WDEa2ml7NZqVlRE1P5DW\\u002fmu33bfWdkDoWIbozq5kTSjU5+zMH8Ih0r6qF9gYfCAqJ5ctMw6mMOd3AYr+XhcnBRxi\\u002fwAiUi5hmxsJeMdOMx9u96U9bscjCiNfV+Nqu9zCJaWSe\\u002fY1fO6dWLOyYs8MiJiHnaenXf8BnOZVfO6tvsckRlLbhmLXTGKjUr6ul63sNBvIXNFnhQFMb15EMRjdXW89ms6zmVn\\u002fFQORLR+kYucOpqoTVLzi1RVw\\u002fxdf7KWzl4kXtrLfgCJSLm6dFC3mc4g1P5Vyaxolm6Ozr69Qh8RJV1cAW38GeOYZNuqlRmdSMWobuDpJPb+Cx\\u002fYEo5GFEjnQvsTQuY4HrOAj4eUSdP8xt250xmlYNd8jaEiEVYaM2azVnswpnpWFF7Cy5NC61ZC\\u002f54RP08xEG8mct5thzs5gwSERa2kHcaV\\u002fIe3sDkcjCijhbcm3LTMAL8gis5hDew7vwXIAu9FImIeZ5Xszq4m1\\u002fwQ26bfyCi3hZ807C7mpV1itEsd\\u002fJlzucdvOW5t63npmFEd543mzWHX\\u002fFtrunVtikRNbCAjqWbmtXB3DKLqLtn+Sc38BO+zuYWeD8kIub334PkRj7E5Tz9vNGIZpi7wKa10BsiHd2sCY6ot2e4hF04ngfbM68b0Z0OIx7mJHbhT+lY0VizFngXsLvZrNSsaLTHOYrz2zreP3fE9qycm4cRL\\u002fCwOZd2dHx3hEsWeCUf0RypWRG91cnf5oy4qt2e7MceLFl+JKKhpvAnzjbynBELekQ3omlm97pmzSmziAaabXqn33AZZ3M422VaK5qtk6v4Jn\\u002fiIZ2duSaPQMcCZ3QXujbLAltZROPMgk4e5lfszrt4vPxQRFM8xSfYkZ\\u002fy4H9PK7OLz0Q0TsfCSlN3NWtOJrQizP7fBUoH0ziZjfgO9+X0Eo0xh8l8m\\u002fX4Ks\\u002f+71n0zqwwiTBnYeeDhd40xCxmd\\u002f+JiPqbr2Y95xEO53QOZmc26P6CJaKVdXIHF\\u002fEzLlvAxXfnwk4vEQ0ye2GXG92VqFnMYlwZRzTKQs4gc7mcq9mGfdiPNbNmK+qlk3s5i\\u002fO4jJnl+DypWRHMWtgR0l3NmrmwbhbRILMWMJv1nNlcxn\\u002f4BQfyLhYrPxLRkp7lx\\u002fyIGxe9n3vOFNF4C61Z3d3qmDebFdFs3daseZ7lKj7K5vxu0R+PqLROzmET3svli+5YWZsV0U1j6q5mZTYrgpm96E138Vq25IfckVsp0VLmcA8\\u002fYzv25e5yfGE6mVFmEU2z0Nms7m4azkjNijB9YY\\u002fpLlgH\\u002f+Y9bMF+7MZGz72FOqKS5nAzF\\u002fBb\\u002frmwk8VCzen13xFRPzMXdhwsomblGiUar5NpZbZIs7mcq\\u002fgFO3Agm3d\\u002ftEUMh7ncxM+4mCsX8BRhT0wtg4gGmsH0MkP3X\\u002fzPLuxvimiWp8qgh+ZwBdfwc\\u002fbiQ2xYfiRi2NzI1\\u002fkjj\\u002fTrkrqvh0dEnUxf2AV5d2uzpi3sb4polill0CuzmMwP2Ii9+AvTencfMmLAdDCdf7AvG\\u002fN\\u002f3NuvjiU1KwKmW8irPTObFbFIU8qgz37PhbyUQ9maNbMxXQyVmdzLFfyYixe2jKQvppRBRAP1tWZlNitigC\\u002fXZ3Mpf+XF7MXObMni5aciBszTXMml\\u002fJnLevHgbA8N6OER0aKe7UvNmp7ZrAgG5XK9k6u5jp+zMXuwL8uWn4rolyc5j7O5lrsHa4eRJ8sgooFmLGyKuLua1cEzzKW9HIlolCllMFBmcxu38yc+z768nU26XzMZsSgd3MKPOIMpPDu4awGnlEFE08zh6YVNFHdXs\\u002fAEs1OzoukeK4OB1dk13\\u002fwNvsMOHMFLWIzReU9i9My8vdif4d98m98P3baHj5dBRNPM5oky67KImvUYsxlbxhGN8kAZDJ45XMRFbM5reQnrsMYij9RosLnczy1cxm+4thwfbPeXQUTTzO7manwRX96PD9bd\\u002fIgWMoQ16znXcA3LsDlbsj1bsUImt2I+j\\u002fNvLuYarubBcnxopGZF483pZlZ3ETVr3mxWRLNNLoMh8xh\\u002f5mJ+xhq8nNewbfmpaJwb+A0XcTf3MrccH0rDd3hEVMSsvs9mpWZF8CCdwzmP1MFkJvNPvs5GHMprWLn8YNTc\\u002fZzND7mZWcxd2KLbodPBo2UW0TSzuzkOFnHmWJVLWKuMI5rmSZYos+E1jpfxWnZmaSYxpvxItLzZPM1j\\u002fI1fc2nl3iD4KMuVWUTT3Mn2C7ttv4jZrIf7+xqGiHp4qHI1azoXciHj2ZEd2Jx1WDV9q\\u002fXN27H9Dm7iH1xQ3T1AHy6DiAaa1s1s1iJq1iweYaMyjmiah9igzCpiGufzB1ZkfdZmE7ZmUyaWn41Km84tXMkV3MYtXferK+yhMohooIeZU2ZdFlGzcE8ZRDRQ5c8mHdzP\\u002fVzMYizF0mzPXrwkL\\u002fOptmn8h9\\u002fzJx7ncaZUvV09p\\u002fIHRsQQ6K4oLbpm3V0GEQ10XxlUVidP8zR3cxUnsQS78lr2ZMlFLsiMIdHJE\\u002fyes\\u002flzC++kfm8ZRDTQXWUwn0XXrO7+7oimuL0MWsgUfsWvwNrsxitYj6VZkgl5z8Pgm8uzPMkT3M0\\u002f+DNXl59qRa18YEQMlLvLYD6Lrll3lEFEA9XlbHIHd\\u002fA9lmFTNmEtVmEVVmbFnnwlRM\\u002fM5fGuO7l3cwvXc3032+u0pNvKIKKBuitKi75\\u002fsFQ3m5tGNMW63FTPaZ92lmIFlmdV1mdDNmGNvMG69zp4gFu4mWuZzMM8zKPMLD9bA3NYnzvLOKJpluLJMuuy6EvXJ3mSJcs4olGm8STLlHENzOVRHuU6RjCW8UxgcTZhSzZlK5Yq\\u002f774r2e4nhu4mn\\u002fyJNOZxrRh3px9CDxez\\u002fYY0SuPdb+4ctE1q5Ob2K6MIxplDg\\u002fWs2bNr6OrH8y7sXUdZ3QNrcFL2IYt2ZCxtDOC9q7f1Fgnc5lLB3OYwY1cxeVc3v0zRjX3YF4TEuHG7h8MXnTNwvWpWdF0s3mQTcu4Oe7mbs4EbSzHeqzO6qzDKkxiIuMZzzjGteYt1jlM7\\u002fo1jWeYyhPczr3cyU3c1\\u002f2XaoM80M1mQRFNcX0ZPF9Pa1ZEs83mgTJrrM6uJUd\\u002f7UpGd63uWoalWIolmdT1+6VYnIksxgTGDvfsVwczmNr166muZwCf4Cme4Mmu\\u002fase4mFmlf+AmCezWRGLrEg9qln\\u002fKYOIppnN5DKL58zi3hfsoTSaCUxkAuMY2\\u002fVrDJNYumtHicUYx2Jd02ATun4znjbG9GxWbC4z6WRa10TUVGZ0zUhN55n5ytMUZjKTGcxgOs92Va60ht64P\\u002f\\u002fCIlxTBs\\u002fXo5p1HXN6+NGIepqVB6p6bRazFvL8zfyLukbQtqD\\u002fnPcY9HO\\u002fGcHort+gA8zq+k1n1428eb\\u002fpWNB\\u002fdsy3xCoGwp2Z6Yumm80NZfZ8PepOs7iHtcs4ojk6eIxpjC9Hog\\u002fmlZ7MhLSyqTyeyhpNd+civ8h6tERiLreUWUTTPMUjZRbRVI90\\u002fxR7RCPcssiNW3pUszq4ucwimmYKj5ZZRFOlZkVw88DUrLmLvPcYUX9P8nCZRTRValYENyzyznmPalZHljpGeJKHyiyiqR7kiTKLaJSZ3DMwNQtPc3+ZRTTKVB5e5PxwRBPM5VGmlXFEo0zm6TJ7gZ7WrCncVWYRTfNwziwReDZTuxHu6smd89SsiJ6bzDNlFtE8z2S73gh3LmRjwOfpac16ijsXeQcyoubu5qkyi2iep3LhHU3Xwd0DedNwLg\\u002f05J8XUWd3pGZFYEreihBNN4XJPZl96mnNwn08VmYRjTLvUZB5b3WJaKhO7mdqGUc0yuM9vHPei5p1TzZnjOjBLikR9dbBdWUW0TSPck+ZLUgvatZ9PJgL+Wi661OzouE6uL7MIhqlkwcHfjZrJrcu8h2JETV3TWpWNFwH15RZRKPM4uYe7trei5qFa5hRZhGNclsWpUTDPZ3179F0M7m2zBaidzXr36lZ0XSdXFVmEU1yRRlENM0Mri6zhehdzbojq+AjXFoGEU3ylzKIaJqHe75zXO9q1pxcx0S4oAwimuSPZRDRNP\\u002fq+ftte1ez8OcyiGiaq\\u002fPKnWisp\\u002fOYYURvqlCva9YFPa9wEfU0lyvLLKIZLs8pIJpuLn8qs4Xrdc16hBvLLKJp\\u002fl4GEc2QH\\u002f1ovOt69U6cXtcsXFgGEU3z1+zUGw3Uyd\\u002fKLKJpejGVpW816\\u002fdlENE0d\\u002ffqaiaiHh7m3jKLaJrelaC+1KzreLLMIhplKjeXWUTd3ZTNeaPpHuOmMutWX2rWdC4vs4hGeSYvz40Guj4P2UbT\\u002fZPpZdatPtas3J6PZnuWa\\u002fKGz2iUWVzDs2Uc0Sh\\u002fG4qaNZv\\u002f8HQZRzTHXO7mwTKOqK8HuCcvTo9Ge4pre3uB3Zea1clkbi\\u002fjiEa5p+cvW4iogbu4p8wiGuU27u\\u002ftY+Z9qVm4P7tnRdPdmWuNaJQ7uLvMIhrlRiaX2aL0sWY9xg3MLOOI5pjNLVmpEg0x79na3t0siaiVmdzAE2W8KH2sWbiBR8osolH+w5Qyi6ijKfynzCIa5WFuKLMe6HvNupoHyiyiUa7uw5VNRCt6MjUrmu4Bri6zHuh7zXqQG\\u002fLUSTTaE9mkNBrixlxSRKPN5ToeKuMe6HvN6uBiZpVxRHN05g2f0RAX9Pbxqohamc1FfTsI+l6zcHEWAEfT\\u002fSHXGlF7s7igzCIaZSoXl1nP9Ktm3c8VZRbRKPfy7zKLqJer+vAUe0St\\u002fIuHy6xn+lWz8LMyiGiaM8ogol5+WgYRTfPjMuixtjLopTE8xsQyjmiOpXmY9jKOqIU5LMeTZRzRHFNZus\\u002frQ\\u002fo7mzWT88ssolGmcFWZRdTFv\\u002fIG22i63\\u002fW5Y+l\\u002fzcIvmVtmEc3RwR\\u002fLLKIu\\u002fpCNe6LR5vLLMuuNAahZV3JvmUU0RyeXMr2MI1rfs\\u002fytb0+xR9TE3X3blfQ5A1CzpnBpmUU0yj19ewlDRMXdwH1lFtEol\\u002fJUmfXGANSsp\\u002fgzc8o4ojke4u9lFtH6LuvbvtcRNTFvV9Lhrlmd3MYtZRzRHM9wVRYKR808xb+ZWsYRzXETt\\u002fbztvkA1CzcwtVZJhmNdj23l1lEK7ud68osojk6+A+3lnEvDUzNepLLeaaMI5rjFm7OtUbURgc39\\u002f8ME9HCnuGfTCnjXhqYmoW\\u002f9Hkj+og6eJZ\\u002f5CWfURvPchnTyjiiOR7ikjLrvQGrWdfnUatouv6ulIyojin8ucwiGuUmbiqz3huwmoVf9HOdWERru5EbyyyiNd2QO4bRaJ0D9dLmgaxZv+fBMotolJ+XQURrOrMMIhplMheUWZ8MZM16qj\\u002fvsI6og3Pyjt2ogSf4XZlFNMqPBmoRyEDWLHyVmWUW0RyPc1aZRbSaX\\u002fBEmUU0xwz+X5n11QDXrMf5Q5lFNMq38y71aGlz+W6ZRTTKuQN4X2KAaxZ+xqwyi2iO27mizCJaxz+5s8wimmMWZ5RZPwx8zboqT1tFo83gV3noNlpUJ2cxo4wjmuN6\\u002flNm\\u002fTDwNetBzstJJpprDv\\u002fk\\u002fjKOaAWT+SdzyjiiITo4b2B3TRj4mjWNfzC5jCOa4y4uL7OIVvBP7i6ziOa4j78zvYz7YeBrFq7k6kxoRXM9wN9y4yVaznQuG9gL+YhW0snVXFnG\\u002fTMoNethLmFqGUc0xz+4o8wiqu0O\\u002fl5mEc0xlUt4rIz7Z1BqFn6bS6JotGv5d3Z2iBYyl6u5rowjmuMBzimzfhusmnUXF5ZZRHNM55yBvcEfMaimc3ZudUejXcC9ZdZvbWUwcNbh1kH9L4iotHZuYt0yjqik29kwzxhGc3Wy1mA8ATJYs1m4nd+UWURzzOX7ZRZRVd9Jx4pG+\\u002flgdCyDPdm0LRcysYwjGmIZbmKZMo6omEfZmEfLOKIhnuUVXFXGA2EQZ7PwHy4qs4jmeIxflFlE9ZyZjhWNdiHXl9kAGdyaNYtTmFnGEc3xPaaVWUSVTOP\\u002fyiyiOWbyw8F7G\\u002fPg1qxObuCfZRzRHPdxfplFVMm5g\\u002fF4VUTL+DvXD96W6oNbs3APv8tz7dFcT\\u002fOLbNYblTWVX\\u002fJMGUc0xHTOH9QLjUGvWXP4MzeVcURDdPAf\\u002flXGEdXwL\\u002f5DRxlHNMRNXDioT9kOes3CDVw8eLc9I6rubi7OCq2ooGn8mXvKOKIhZvFnbizjATUUNWs2P+KpMo5oiNn8YVAnpSP65h7+wOwyjmiIKZw22LNAQ1GzcH2WAUejXcnluTMTldLBv7i6jCOa41xuKLOBNkQ1C1\\u002fNKstotFPzKEhUyvTs4xCN9jQnlNkgGLqadQM\\u002fLbOI5vgrfy2ziOHzF\\u002f5RZhHNcfrQPJ43uC\\u002fbKWzIhaxUxhENsQX\\u002fZFQZRwy52WzLv8s4oiEeZCduKeNBMHSzWbgrE1rRaP\\u002fOGsWoiN\\u002fynzKLaI7Th+wR2yGtWTP4DXeVcURDdHJCdnaIYfcs\\u002f2\\u002fwNr2OqLq7+C0zynhwDGnNwk2cl+eHo7luzoRWDLvzhuZmSUQVzea8IXjA8DlDXbOm8Fsml3FEQzzJb3i8jCOGymOczZNlHNEQkzlnKLfyHOqahb\\u002fxF+aWcUQTzOWvXF7GEUPlCv6Wb+BoqLlczGVlPJiGoWZN58QhuykaUTn3cQFPl3HE4HuK87mvjCMaYgYnDfEWhsNQs3A9p5ZZRHOcxa1lFjH4buXXZRbRHCdzbZkNsuGpWfj8kD1MGVE5kzmlzCIG3yk8UGYRDXE3Xy6zwTdsNethTsw73qK5zsi+RTHErubMMotoiA5O4MEyHnzDVrNwDleUWURDPMVHsnVRDJkOPjyUj1dFVMvl\\u002fLbMhsRw1qzJfDtr4aO5LuEPZRYxOM7POzWjuWbwfe4v4yExnDWrg79xUW4dRkN18P8yvxBD4ElOyjdtNFQHf+Yvw3UEDGfNwl2cwRNlHNEQ\\u002f+Hc3DqMQdXJuVxTxhEN8ThncncZD5Vhrlk4l7+VWURDPM5vhmVVZjTHA3nzQDTaPzi3zIbQ8NesKXxpuObyIoZZB38cxtnsqL0OLuVP+QmLhurky0wp4yE0\\u002fDULl3NqbpxEQ03lRzxSxhED4RFOYWoZRzRBJyfz9zIeWpWoWfgwt5VZRENcwO\\u002fKLGIg\\u002fI4\\u002fl1lEQ9zGJ8psyFWlZj3N8TxbxhEN8RUml1lE\\u002fzzAl8osoiGe5XieLOMhV5WahfM5r8wiGuJ2Pp875zGAOvkCd5ZxREP8gd+X2XCoUM16lJ8N1\\u002fZhEcPvTP5RZhF99Xd+WmYRDTGZ0yuy5rVCNauTP3Euc8qRiCZ4hhOyWDkGxFS+xjNlHNEEs\\u002fkdF1bk\\u002fkCFahamcXLWwkdDdfBPfsfcciSiN+byO\\u002f6RTRyioe7gFKaV8TCpVs3ClXyrIhU0Yqg9xE+4r4wjeuM+fsJDZRzRBJ18m6vLePhUrmbhNP5UZhFN0MklnMfsciSiZ+bwey7OxWo01B\\u002f4UaV+\\u002fNvKoBqW4xaWKOOIJliZK1ixjCN64AG25oEyjmiCp1mPh8t4WFVxNguP80VmlnFEE9zPZzOhFX0wm8+kY0VDzeBYHivj4VbRmjWXX2TeO5rrlIrs+BKt5fecWmYRTdDJxfyqgo8QVbRmYTInZ2PsaKgOPs+9ZRyxcPdxXJ4ujIa6l\\u002f+rZmWobs2ay\\u002fn8hlnlSEQTXMv3KnhlFtU0l+9wXRlHNMFsfsvvq\\u002fmFWd2ahel8gbvKOKIJZvIb\\u002fpY757FInVzKr7OeNRrqDo5jRhlXQ6VrFh7h4zxdxhFNcDM\\u002fqMj7IqLKHuUUbi3jiCZ4ho\\u002fwaBlXRtVrFn7Lt6o5FRgx6M7lvKy3iW508Ft+V8YRTTCXb3F+GVdJRffNKqzIj9mljCOaYG0uZI0yjgB3swt3lnFEE1zAITxYxlXSArNZeIgvV\\u002fMRgohBdweHZYVWLFAnH0zHioa6j69W\\u002f7VSrVGzOvkLP6jsCreIwXUup+XWYRQ6+CG\\u002fLeOIJpjOyfy1+pegrVGzMIsfc0lONdFQx3F9mUWzXc\\u002fxZRbRBB1czGkt8XBty9Qs3M0Xq\\u002fayooghMplvVvlpmhhij3AS95VxRBM8wvHcU8aV1Eo1C3\\u002fjc9WfIowYeLM4i9\\u002fkXYeB2ZyT3ZujoTo5mr+XcVW1xpOG82vnFN5axhFNsB7nsEEZR8Pcwuu4qYwjmuCHvKuFdnlqsdkszOWTXJ45rWiiW\\u002fliHgVpuJkck44VTdTJFRzdQh1LK9YsPMyxrXJXNmKA\\u002fYTvt9a3TAygDv6PM8s4ognu4Zjq7+BQaMma1cGlnMoz5UhE7XVyDJeWcTTDRVmfGg31NCfzl5bbb6Alaxam8m0uLuOIJniSY\\u002fOQWQPdy+d5vIwjmuAvfJepZVx5rVqz8Djv5akyjmiCyzgpz5k1yky+zmVlHNEET\\u002fAunijjVtDCNQsPsDePlXFE7c3mZ\\u002fyGOeVI1NEczuHn+fOOJnqUfVtuSdZzWrtm4a98PnNa0UQPciI3lnHU0U18hQfKOKL2pnAsfynj1tHyNQuncXpun0QTXcGnmFbGUS\\u002fT+TRXlXFE7c3iJ\\u002fykjFtKHWrWFE7i0jx9E030Bz5bZlEjnXya88s4ovY6+SvfaPX7VW1l0LJ24VRWLeOI2hvHj9m3TodzzNPJLzmE6eVIRO3dy1u5pIxbTR1ms+b5M5\\u002fh6TKOqL3pfI6rM59bM51cxXHpWNFET3NsDTqWOtUsnMYXs1AlmugWvsrkMo5WNpmvcnMZR9TedL7IKWXcmmpVszr5Jt\\u002fJi0iicWZzHv+X1x3WxnS+z3nZwSEaZy7f55tl3LJqVbMwjW9xbhlH1N5UTsjPfm2cx9d4towjau93\\u002fL863Zeq55rZ7fg2m9f1\\u002f17EQo3k72yVn\\u002f3W1cm\\u002feWk2qYnGmfez\\u002f37+WY60srrNZs3zd47l3jKOqL05vI0byjhax40cko4VTXQfx9WsY6lrzcLZfJpnyjii9m7hC3mxdIu6h89zUxlH1N4zHM05Zdz6aluzOjmTj2ZJcDTOHM7l5FxltJynOZnfZdl7NM5MPsEZtdyVprY1C3P4MSfQUY5E1NtUvsI5+dlvIR2cx4lZ9h6N08nXOI3Z5Ugt1LlmYTrf48y6\\u002fulFLNQMDueftbw6rJ9OLuew7EQajTOLn\\u002fKtOj1aWKh5zcL9HM+fcl0fjfMkb+byMo7q+RcH8XgZR9RbB3\\u002fieB4oR2qk\\u002fjUL1\\u002fMprijjiNq7k49xXRlHlVzDx7m7jCNq70qO4sYyrpcGba6zNuexfhlH1NsoXsdXWa0ciQqYzEc5K8veo3FuYy9uL+PaacRs1jx38Np6T01GLMBsfsm3mFqOxHCbytf5eTpWNM797N2EjqVRNQu38X7uyqrgaJZOvsGP8ihIpczh1Dq9uS2iRzq5i\\u002fc1pGNpWs2ay+\\u002f5HPeXIxH1NpOjOC3zJhUxhx9xdHZ7j8a5n2P5I3PLkZpq0Nqs54zjAL7NuHIkot6W4su8jfZyJIZQB6fxUZ4oRyLqbQYf4GeN2rqkiTULo9mfUxlVjkTU2xqcyOsae+xXwTkcwV1lHFFvc3g7P2dmOVJrzbpp+Jx5G6IdkVfxROPczWe4LAsUh0Unf+cz6VjRONM5nNOb1rE0tmbNczqfz5aA0Tg38BmuL+MYfNfzSa4t44h6e5xj+XEZN0Oja9YzfJevMaUciai3i\\u002fkod5ZxDKY7+DiXlnFEvT3FSfxfY\\u002feUyfoMS\\u002fB+jsu\\u002fi2icHfkB65ZxDII7eCcXl3FEvXXwab7Hk+VIY6RawBgO4yv51xHN0sYunJIN4gfbZA7lwiyIi2bp4GN8u4HrsebX6JuGz5nJ\\u002f+MzjZ3TjIbq5M98hPtSAAZJZ9frdNKxomGmchQnNbxjYWQZNNVcvslcPsRy5WBEXXXyaxbnOFYqB6PfHuZYfpWOFc3yKCfx3ebsQdqN3CV7niV4O0exZDkSUWMjeBNfY5lyJPrhCT7CT7L1fjTLU3yBk5u8Hmt+qVmliezHdxlbjkTUWDuv43ssXY5EnzzB+zgrHSuaZQaH8XOeKUeaKjVrAUawDz\\u002fL23iiWUZyAN9kiXIkeunJrlNNOlY0yTQO5Fw6ypEGyxL4BejgXA7lnvywRIPM4Uw+zgPlSPTGg3yKX6RjRYN0ci9v47ycNgupWQs2h7P4MDdl7Wo0yBx+xOd4sByJnnmIz3Ays8uRiLrq5CY+ytlZ8\\u002f5CuWnYnZHsyNfZuByJqLF2XsNJrFKORLfu44icaqJxbuJDXJQJ3AVKzVqENtblDLYoRyJqrI1d+AFrliOxEPfyjuyPFY1zJW\\u002fi9twrXJjUrB5ZgTPZIf++olleyQ+yR3xPTOZd\\u002fCEdKxqkk4s5kEfKkZhP1mb1yEO8jZ8yvRyJqLELOIKbyjie7yYOT8eKZpnGmbwrHWuRMjvTC6vxId6bLbWiWXbnWLYt4wDX8El+X8YRNTaD7\\u002fB17itH4gVSs3pnSd7E55lUjkTU2GYcz575xihcwFFcWcYRNfY0R\\u002fPjbPLeQ\\u002fnS7LVRvIpv5w1w0Szrcjyvy0qDeTr4NZ\\u002fitnIkosbu5\\u002f38nlnlSCxEalYfvYJvsnHOOdEgK3Eir2dUOdIwszmbDzO5HImoq3mbYx3GxVmF2CspCX30F97OhdkgJxrkAT7Ej5lRjjTJdH7KB9OxokHm8mfew0XpWL2V2ax+WZsP81YmlCMRdTWJw\\u002fkAy5UjDfAY3+Akni5HIupqGqfzVe4sR6IHUrP6axJv50iWLUci6mo0B\\u002fC5pm1eeg\\u002fH8DNmliMRdfUwX+ZHWfDeZ6lZA2AUe\\u002fA11ilHIupqJLtwEuuXIzV1G0fwx7xPJBrkHj7KOXlFZ3+kZg2YbfgOmzOyHImoqy05mc3qvcqzgxt4J5eXIxF1NZdreT\\u002f\\u002fKEeil+r85TjE\\u002fsU+\\u002fJQp5UhEXV3F6zi7xu9HmMY5vC4dKxrkKc7ktelYAyKzWQNsMd7D+1ijHImoq+X4GIeyVDnS4h7nFE7g0XIkoq7u4nt8L4959MRHPvKR9ddf\\u002f5ZbbjnxxBPLsS65wTXAnuHbXMexbJUaG43wCF\\u002fgNo5mlXKwZT3EFzmdp8qRiFrq5N8czSVMKwdjQdZff\\u002f0tttiiTJ8vNw0H3jT+yF5cWI5E1NUUTuag2rxH9jHexLfTsaJB\\u002fsQr+X061sBKzRoUnTzG7hzFw9nNLRqhg7+yBRe29FKtGVzCllxERzkYUT8dPMzx7MFjOV8NuNSswXUC7+dvef9TNMX9HMj3WnRa63FO5o3cW45E1NIs\\u002fs57+VwK1iDJ2qzBNYvfcAvv5t15FVw0wmN8nts4ktXKwQqbzFc4g8fKkYhamsOP+QY35L1xgyezWYOug+s5moN4qByMqKUnOJU3cH05UlU3cwAnp2NFUzzAAXyCa9OxBlVq1hCZwq\\u002fYhj9lwUc0wgwuZ3POqPiXeAdnsTGXtfSasoie6uAytucsHi8HY6ClZg2p+3grX2VyORJRSx28m49zVwWvLzq4h09yaAX\\u002fx0UMivv4MvtxVzkSgyNrs4bagxzNv3g7uzK6HI+omWf4FjfzQXar1F5yf+VELsiroKMRZvNXvsm5eTPnUKrQV17TrM5BvJ+Vy5GIWlqXt\\u002fMBJpQjQ2463+UUbixHImrpQb7Dz7mtHIne2HnnnQ844IDn\\u002fnK99dabOHHi1KlTb7311ufCM88886KLLnruL1OzhtNYduCLbJE\\u002fiWiECezDl4b3CcR7+TjnMbUciaifDq7k0\\u002fyVGeVg9NKIESNOOumkl770peVAl3\\u002f84x+HH354Z+f\\u002fdsfIyX34TeQLHMqE\\u002fHlEI2zK19hh6O+Zz+KffJQrypGI+ulkGqfxybygcACNHz\\u002f+Rz\\u002f60VprrVUOcOeddx5yyCHTpj1vG\\u002f2c1qtiNz7ONixejkTUz1J8lDew1tB8C3VyLz\\u002fPe6CjKaZyJd\\u002fgN+VI9Nvyyy9\\u002fxhlnLL74807XTz755MEHH\\u002fzwww\\u002fPHxqaL7jooZU5hLcN2ZknYpjtzmHswrhyZEDN4GK+zznlSET9dHIHP+ZH3Je93fvpBz\\u002f4wRZbbHH11Ve\\u002f613vmj\\u002fffPPNv\\u002f\\u002f9748c+d\\u002fnCOfMmfPud7\\u002f7mmuumf8z8\\u002f7ebOhQIffzdQ7mtDwHEo1wIR\\u002fg+EGdYHqSE3k\\u002fvytHIuqng19xMCdybzrW4LnmmmuOPfbY5\\u002f7y2GOPLTrWc1KzquVZ\\u002fsn7eT13lIMRNTNv46ov8ybuKQcHwt3sz3HV3LYrYoDdzmt5G5fzbDkYA+38888\\u002f\\u002ffTTcfrpp59\\u002f\\u002fvnlcJfsm1VF0\\u002fgtV3MUr2fZcjyiTmbxJ9blK7yZJft\\u002f+dfBFM7kQ8wuByNqppPH+C3HDdLlSizMt771rSlTpvzkJz8pB+bT36+zGDyTOYz3cD5TysGImpnNJ3gbF\\u002fTzQnw6F\\u002fMOPpyOFfX3FH\\u002fknbwnHWvodXR0nH766R0d3c2VZzar0ubway5lXw7ipUP\\u002fBHzE0JnF77iB\\u002ffkAq5TjPTBvE8Zfcks5ElEzs\\u002fkXP+XXlE+3RXXkgbbWMJLV2Y8Ps1w5GFEzY9mQj\\u002fN6RpWDCzGH33MMN+YN0FF\\u002fj\\u002fMtfspdeWJqUH3961\\u002fffvvti33ee2jeHvGpWa1kBKvyHfYqRyLqZzxv4hhWLEde4EE+wxn9vN0Y0QI6+R0f4P481zEE3vrWtx522GFl2hupWa2njd35GFuxeP4Io+bW52h2Y9kX\\u002frB38gQXcTz\\u002fLsYiaqWTp\\u002fkPJ3BedmoYMuPGjdt333233HLLiRMnlmOLMnXq1Kuuuqr82opWsSyv5\\u002fVsz9hyMKJORvA6DuHlTHoufZq\\u002f8zN+mov6qLmZXM6ZWYbVilKzWtva7Mbb2JL2cjCiNtpYmdfwTjbtMOJmTuFX2eU6am4OV3Iaf+GmcjBaQWpWy2tndfbhCFYrByPqZAwrP+aDP3PQNy0zmRnlByLq5B5O5FzuZW45GC0iNas+luDTvI8x2Q8taqezaxvTD3KnlTiR1zImX2JROx3M4Ed8hsfLwWg1+Yaqm\\u002fU5gp1YI5tsRS108jCX8x0uYdZ\\u002f49HsyPvYkpXzVRa1MJt7+RNf47ZyMFpTvptqaBQvZl\\u002f2YuPMbEXL6mQyF3E+v+eZchzj2YXXs0vKVrSyDq7nj\\u002fyOfzGzHI+WlW+l2hrLpuzIm1O2ogU9wS\\u002f4Df9a9MumlmQb9uaNLFMORlRaB7dzGhdwXQpW\\u002faRm1dxoVmQ\\u002fjmDlcjCiiqZxGifxAFN7+iBhGxNYmQ\\u002fxFsaX4xFVNJmv8RseTMGqq9SsphjFO\\u002fkQqzA2f\\u002fBRPXN4gt\\u002fz2f6+AndFjuL1LN3zd\\u002fVEDJVOZvIg\\u002f8fX0q5qL2fbZlmCA9mXzfJuxKiMp7mNv\\u002fITru7p9NUibcQh7My6LF4ORgyPh7me8zmdx8rBqKPUrCZamVewIzuydpZtxfB5isv4Ixdwczk4IDZkV3bm5SxdDkYMkQ7u4yIu4FIeKMejvlKzmmsSG7Abb2Gd\\u002fCjE0HqKsziLG7ifOeX4AGpnBTbljeybma0YWp3cyulcws08UY5H3eXc2nSjmMC+fJDNysGIgfcAP+S7PMmMAbtFuEhtjGUp3sfbWLEcjxh4\\u002f+EkzuZZZpeD0QypWfFfI3kJ7+flLMOYcjyi7+bwNPdzKj8e\\u002fjUpS7A\\u002f72M1FmdkOR7RdzN5jCv4LhenXUVqVjzPCLZgX17KBiyXlVvRP89yM1fzB347uDcHe2skr2EPtmB9JpTjEb3QwSPcxD\\u002f49UA+yxEtLjUrFmx1tuIl7MgWKVvRe49wCX\\u002fiSm6u7muex7IhW7A9O+f169F7ndzEhVzKFdxbjkezpWZFdyayIhvxVnbJ4uHogTlcy5lcyt080jIX9UuzJjtxIJvmTmL0wFNcyOncxgM8VY5HpGZFT7QxguU5kPezZjkeAc9yLt\\u002fkcua2TLsqtNHOBnyAA3NlEQsxme9zOvfT0ao\\u002f7DEkUrOid9rYiTeyHSuwJO3lR6IpOpnKY9z6\\u002f9u7v9+s6jsO4K8WKLVooUV+VNsyqRUUZc3cJovOgUsWksWEZdnVkt3IjV4Y\\u002fwL\\u002fAa+MF2oiXswsWTLNTCTZdjEXh\\u002fNHfTYnxinCphToA1UQQWttabuLJ6drT6VTofbX+5WTJyfn+32eq89zvp\\u002fz\\u002fXX4Pb9bbKvV1\\u002fILfkY361iVG+YSNspHVPkbv+WFcnnEReSuEV9HXbHH6ffZxo1szPytpeRz3uMNXuUA\\u002f5xfc9svr+X0cCe3so3uvDBxKRnjNId4nVf4KyfSdxVfSdKsuCR1XMdWbmUXt6UJWtQucJgXeYkjvMXZJdTmNLOVrfyQO7g+87cWtUFe5gUO8i6HGCtXifgSkmbF5dFIK2u4kz3czpXlKrGAHWc\\u002fz3KYM3y8hLKrkjpW08omdvNzuspVYgEb5B\\u002fsZz8fcWb+rpGNBSJpVsyKNvbwS77DcpZlSHGhGWWUKvv5Nb3l8phwG7\\u002fip2xkOfW5ry4oY4wxwt\\u002f5Dc9yslwl4hLkdhCzaz27uIvtbOTqTCSexy5whgH6eY0\\u002fUsmz\\u002fJe1gpv5CT+ik\\u002fW0ZFRxvhrnUz7kJId4kT9xrFwr4nJIexffkHV8m1vopotuOrNKcX4Y5D0O8TZv8zpvL90xwUtXz430sJXNbKGLNeVaMQfGOMVh3uUt3uSNuX\\u002fzUywWbW1t1Wq1fDVpVnzzmtjItXSwg+9xS1508o0b5zgVXuUQJzjOqczyvZzqWEs77WxjB9+lvVwrZt0nvMlr9FKlnxOcL9eKuDTPPffcPffcMzAwULqeNCvmTB1NNNHINn7MLm7OW6tn03le4y\\u002f8gSqDDDKSvqvZVceKIthb2cUu7mRtuWJcNiMc4UX+zMt8VgR7Ij1mS6VSqVar0zOtpFkxv6zldn7ED7iORhpYwYpyxZjJOCOMMMxHvFE0OAfTzswXdfRwF3ewndU0FMGe5SJfySjDDDPEEV7hBV7idLlixGyqVCqYnmklzYr560q2cgs3s4V1tNDCmkwtnmacQc5yltN8wGHe4iDvMFyuHvPKMjYVkX4THcXuKGtoyl16mpEi0s9whr5iotXBxfYaglhQammWaZlW\\u002fsCxMDTSQTvX0E4bnbTRxgYay9UXvzHOcZKT9HFs0qyTY3ywmLdlX9yWs44OruUarqGDDjaykeYl2dc1xKkiwPuocqKYT3g8a2FjznV2dvb09Dz44IMTV\\u002fr7+\\u002ffu3VvLtJJmxcJTxxW00MxVNLOBLVzPJjrYQEP5SwvbOJ9ygr5iVeB7nOY85znLx4yUvxSLwApWs4aruIq1bOYGNtPJtYuxu2u4eHbo4wjvcpLznOMcZ\\u002fksQ98x5+rr63fv3r1z586enp7W1tZy8aRMa5H9P2OJqmfZpH1QG+jgpmIx\\u002faaiRVoo\\u002fQBDHKOPfxev+XiHDxlljFEuMJqmZimqmxrpy1jHVrZwA1100r5wunfHimeH9\\u002fkP7\\u002fAvjjNcBHst0sfK34uYO7UEa+\\u002fevZ2dneWyqWqjh0mzYqmoo41v0cF6NrCBq9lAa9FwTT7qqaN+0ompO3xPJG2lRqCWAI0zVnzWcqPa50TrMcSHDDBQnBzjGEeX9Kts4tLVsbp4uGhnPVezvjhpLLaqnwjz2udEmE9E\\u002fWTTg70W2rUrE2FeO6+F+cRxgTOc4gMGOMUpjvM+1UR6LCwtLS2PPfZYV1dXueAi+vv7k2ZFwEpWF6OQtWMlV9BAIytZyTIaJ+VbDcX2qkOMFr8zzmcMM8Igo3zKMOf5ZNKRMb6YI7VRyCsnHbVgb2JZEfINXDHpgaIW+BhleFJ2VQv8oWKV3+cMMcQnxWj2x5zj8+J3Iha25ubmJ554YvPmzeWCGSXNioiIiJhJU1PTvn37uru7ywUzeuqpp0o9wxERERExxQMPPPA1cqyHH344aVZERETERXV2du7Zs6d8dUa1HEt2eYyIiIiYwf33319f\\u002f79uqaNHjx44cKBSqfT19VWr1ZGREZO2J8W+ffseffTR2nnSrIiIiIgvtn379p07d9bOn3\\u002f++aeffrq3t3dKjamefPLJiRwrIiIiIi7qkUceqVQqzzzzzMz7OFQqlUqlcu+995YLIiIiImK6xsbG3t7exx9\\u002ffNWqVeWyqSqVyn333Ve+GhERERFfaMeOHQ899NDy5f9\\u002fhlX6sSIiIiK+grvvvruhYZG9IzciIiJiHpi8wDAiIiIiIiIiIiIiIiIiIiIiIiIiIiIiIiIiIiIiIiIiIiIiIiJi8fovluOyp6Z2O1EAAAAASUVORK5CYII=\",\"type\":\"image\",\"xaxis\":\"x\",\"yaxis\":\"y\",\"hovertemplate\":\"x: %{x}\\u003cbr\\u003ey: %{y}\\u003cbr\\u003ecolor: [%{z[0]}, %{z[1]}, %{z[2]}]\\u003cextra\\u003e\\u003c\\u002fextra\\u003e\"}],                        {\"template\":{\"data\":{\"histogram2dcontour\":[{\"type\":\"histogram2dcontour\",\"colorbar\":{\"outlinewidth\":0,\"ticks\":\"\"},\"colorscale\":[[0.0,\"#0d0887\"],[0.1111111111111111,\"#46039f\"],[0.2222222222222222,\"#7201a8\"],[0.3333333333333333,\"#9c179e\"],[0.4444444444444444,\"#bd3786\"],[0.5555555555555556,\"#d8576b\"],[0.6666666666666666,\"#ed7953\"],[0.7777777777777778,\"#fb9f3a\"],[0.8888888888888888,\"#fdca26\"],[1.0,\"#f0f921\"]]}],\"choropleth\":[{\"type\":\"choropleth\",\"colorbar\":{\"outlinewidth\":0,\"ticks\":\"\"}}],\"histogram2d\":[{\"type\":\"histogram2d\",\"colorbar\":{\"outlinewidth\":0,\"ticks\":\"\"},\"colorscale\":[[0.0,\"#0d0887\"],[0.1111111111111111,\"#46039f\"],[0.2222222222222222,\"#7201a8\"],[0.3333333333333333,\"#9c179e\"],[0.4444444444444444,\"#bd3786\"],[0.5555555555555556,\"#d8576b\"],[0.6666666666666666,\"#ed7953\"],[0.7777777777777778,\"#fb9f3a\"],[0.8888888888888888,\"#fdca26\"],[1.0,\"#f0f921\"]]}],\"heatmap\":[{\"type\":\"heatmap\",\"colorbar\":{\"outlinewidth\":0,\"ticks\":\"\"},\"colorscale\":[[0.0,\"#0d0887\"],[0.1111111111111111,\"#46039f\"],[0.2222222222222222,\"#7201a8\"],[0.3333333333333333,\"#9c179e\"],[0.4444444444444444,\"#bd3786\"],[0.5555555555555556,\"#d8576b\"],[0.6666666666666666,\"#ed7953\"],[0.7777777777777778,\"#fb9f3a\"],[0.8888888888888888,\"#fdca26\"],[1.0,\"#f0f921\"]]}],\"heatmapgl\":[{\"type\":\"heatmapgl\",\"colorbar\":{\"outlinewidth\":0,\"ticks\":\"\"},\"colorscale\":[[0.0,\"#0d0887\"],[0.1111111111111111,\"#46039f\"],[0.2222222222222222,\"#7201a8\"],[0.3333333333333333,\"#9c179e\"],[0.4444444444444444,\"#bd3786\"],[0.5555555555555556,\"#d8576b\"],[0.6666666666666666,\"#ed7953\"],[0.7777777777777778,\"#fb9f3a\"],[0.8888888888888888,\"#fdca26\"],[1.0,\"#f0f921\"]]}],\"contourcarpet\":[{\"type\":\"contourcarpet\",\"colorbar\":{\"outlinewidth\":0,\"ticks\":\"\"}}],\"contour\":[{\"type\":\"contour\",\"colorbar\":{\"outlinewidth\":0,\"ticks\":\"\"},\"colorscale\":[[0.0,\"#0d0887\"],[0.1111111111111111,\"#46039f\"],[0.2222222222222222,\"#7201a8\"],[0.3333333333333333,\"#9c179e\"],[0.4444444444444444,\"#bd3786\"],[0.5555555555555556,\"#d8576b\"],[0.6666666666666666,\"#ed7953\"],[0.7777777777777778,\"#fb9f3a\"],[0.8888888888888888,\"#fdca26\"],[1.0,\"#f0f921\"]]}],\"surface\":[{\"type\":\"surface\",\"colorbar\":{\"outlinewidth\":0,\"ticks\":\"\"},\"colorscale\":[[0.0,\"#0d0887\"],[0.1111111111111111,\"#46039f\"],[0.2222222222222222,\"#7201a8\"],[0.3333333333333333,\"#9c179e\"],[0.4444444444444444,\"#bd3786\"],[0.5555555555555556,\"#d8576b\"],[0.6666666666666666,\"#ed7953\"],[0.7777777777777778,\"#fb9f3a\"],[0.8888888888888888,\"#fdca26\"],[1.0,\"#f0f921\"]]}],\"mesh3d\":[{\"type\":\"mesh3d\",\"colorbar\":{\"outlinewidth\":0,\"ticks\":\"\"}}],\"scatter\":[{\"fillpattern\":{\"fillmode\":\"overlay\",\"size\":10,\"solidity\":0.2},\"type\":\"scatter\"}],\"parcoords\":[{\"type\":\"parcoords\",\"line\":{\"colorbar\":{\"outlinewidth\":0,\"ticks\":\"\"}}}],\"scatterpolargl\":[{\"type\":\"scatterpolargl\",\"marker\":{\"colorbar\":{\"outlinewidth\":0,\"ticks\":\"\"}}}],\"bar\":[{\"error_x\":{\"color\":\"#2a3f5f\"},\"error_y\":{\"color\":\"#2a3f5f\"},\"marker\":{\"line\":{\"color\":\"#E5ECF6\",\"width\":0.5},\"pattern\":{\"fillmode\":\"overlay\",\"size\":10,\"solidity\":0.2}},\"type\":\"bar\"}],\"scattergeo\":[{\"type\":\"scattergeo\",\"marker\":{\"colorbar\":{\"outlinewidth\":0,\"ticks\":\"\"}}}],\"scatterpolar\":[{\"type\":\"scatterpolar\",\"marker\":{\"colorbar\":{\"outlinewidth\":0,\"ticks\":\"\"}}}],\"histogram\":[{\"marker\":{\"pattern\":{\"fillmode\":\"overlay\",\"size\":10,\"solidity\":0.2}},\"type\":\"histogram\"}],\"scattergl\":[{\"type\":\"scattergl\",\"marker\":{\"colorbar\":{\"outlinewidth\":0,\"ticks\":\"\"}}}],\"scatter3d\":[{\"type\":\"scatter3d\",\"line\":{\"colorbar\":{\"outlinewidth\":0,\"ticks\":\"\"}},\"marker\":{\"colorbar\":{\"outlinewidth\":0,\"ticks\":\"\"}}}],\"scattermapbox\":[{\"type\":\"scattermapbox\",\"marker\":{\"colorbar\":{\"outlinewidth\":0,\"ticks\":\"\"}}}],\"scatterternary\":[{\"type\":\"scatterternary\",\"marker\":{\"colorbar\":{\"outlinewidth\":0,\"ticks\":\"\"}}}],\"scattercarpet\":[{\"type\":\"scattercarpet\",\"marker\":{\"colorbar\":{\"outlinewidth\":0,\"ticks\":\"\"}}}],\"carpet\":[{\"aaxis\":{\"endlinecolor\":\"#2a3f5f\",\"gridcolor\":\"white\",\"linecolor\":\"white\",\"minorgridcolor\":\"white\",\"startlinecolor\":\"#2a3f5f\"},\"baxis\":{\"endlinecolor\":\"#2a3f5f\",\"gridcolor\":\"white\",\"linecolor\":\"white\",\"minorgridcolor\":\"white\",\"startlinecolor\":\"#2a3f5f\"},\"type\":\"carpet\"}],\"table\":[{\"cells\":{\"fill\":{\"color\":\"#EBF0F8\"},\"line\":{\"color\":\"white\"}},\"header\":{\"fill\":{\"color\":\"#C8D4E3\"},\"line\":{\"color\":\"white\"}},\"type\":\"table\"}],\"barpolar\":[{\"marker\":{\"line\":{\"color\":\"#E5ECF6\",\"width\":0.5},\"pattern\":{\"fillmode\":\"overlay\",\"size\":10,\"solidity\":0.2}},\"type\":\"barpolar\"}],\"pie\":[{\"automargin\":true,\"type\":\"pie\"}]},\"layout\":{\"autotypenumbers\":\"strict\",\"colorway\":[\"#636efa\",\"#EF553B\",\"#00cc96\",\"#ab63fa\",\"#FFA15A\",\"#19d3f3\",\"#FF6692\",\"#B6E880\",\"#FF97FF\",\"#FECB52\"],\"font\":{\"color\":\"#2a3f5f\"},\"hovermode\":\"closest\",\"hoverlabel\":{\"align\":\"left\"},\"paper_bgcolor\":\"white\",\"plot_bgcolor\":\"#E5ECF6\",\"polar\":{\"bgcolor\":\"#E5ECF6\",\"angularaxis\":{\"gridcolor\":\"white\",\"linecolor\":\"white\",\"ticks\":\"\"},\"radialaxis\":{\"gridcolor\":\"white\",\"linecolor\":\"white\",\"ticks\":\"\"}},\"ternary\":{\"bgcolor\":\"#E5ECF6\",\"aaxis\":{\"gridcolor\":\"white\",\"linecolor\":\"white\",\"ticks\":\"\"},\"baxis\":{\"gridcolor\":\"white\",\"linecolor\":\"white\",\"ticks\":\"\"},\"caxis\":{\"gridcolor\":\"white\",\"linecolor\":\"white\",\"ticks\":\"\"}},\"coloraxis\":{\"colorbar\":{\"outlinewidth\":0,\"ticks\":\"\"}},\"colorscale\":{\"sequential\":[[0.0,\"#0d0887\"],[0.1111111111111111,\"#46039f\"],[0.2222222222222222,\"#7201a8\"],[0.3333333333333333,\"#9c179e\"],[0.4444444444444444,\"#bd3786\"],[0.5555555555555556,\"#d8576b\"],[0.6666666666666666,\"#ed7953\"],[0.7777777777777778,\"#fb9f3a\"],[0.8888888888888888,\"#fdca26\"],[1.0,\"#f0f921\"]],\"sequentialminus\":[[0.0,\"#0d0887\"],[0.1111111111111111,\"#46039f\"],[0.2222222222222222,\"#7201a8\"],[0.3333333333333333,\"#9c179e\"],[0.4444444444444444,\"#bd3786\"],[0.5555555555555556,\"#d8576b\"],[0.6666666666666666,\"#ed7953\"],[0.7777777777777778,\"#fb9f3a\"],[0.8888888888888888,\"#fdca26\"],[1.0,\"#f0f921\"]],\"diverging\":[[0,\"#8e0152\"],[0.1,\"#c51b7d\"],[0.2,\"#de77ae\"],[0.3,\"#f1b6da\"],[0.4,\"#fde0ef\"],[0.5,\"#f7f7f7\"],[0.6,\"#e6f5d0\"],[0.7,\"#b8e186\"],[0.8,\"#7fbc41\"],[0.9,\"#4d9221\"],[1,\"#276419\"]]},\"xaxis\":{\"gridcolor\":\"white\",\"linecolor\":\"white\",\"ticks\":\"\",\"title\":{\"standoff\":15},\"zerolinecolor\":\"white\",\"automargin\":true,\"zerolinewidth\":2},\"yaxis\":{\"gridcolor\":\"white\",\"linecolor\":\"white\",\"ticks\":\"\",\"title\":{\"standoff\":15},\"zerolinecolor\":\"white\",\"automargin\":true,\"zerolinewidth\":2},\"scene\":{\"xaxis\":{\"backgroundcolor\":\"#E5ECF6\",\"gridcolor\":\"white\",\"linecolor\":\"white\",\"showbackground\":true,\"ticks\":\"\",\"zerolinecolor\":\"white\",\"gridwidth\":2},\"yaxis\":{\"backgroundcolor\":\"#E5ECF6\",\"gridcolor\":\"white\",\"linecolor\":\"white\",\"showbackground\":true,\"ticks\":\"\",\"zerolinecolor\":\"white\",\"gridwidth\":2},\"zaxis\":{\"backgroundcolor\":\"#E5ECF6\",\"gridcolor\":\"white\",\"linecolor\":\"white\",\"showbackground\":true,\"ticks\":\"\",\"zerolinecolor\":\"white\",\"gridwidth\":2}},\"shapedefaults\":{\"line\":{\"color\":\"#2a3f5f\"}},\"annotationdefaults\":{\"arrowcolor\":\"#2a3f5f\",\"arrowhead\":0,\"arrowwidth\":1},\"geo\":{\"bgcolor\":\"white\",\"landcolor\":\"#E5ECF6\",\"subunitcolor\":\"white\",\"showland\":true,\"showlakes\":true,\"lakecolor\":\"white\"},\"title\":{\"x\":0.05},\"mapbox\":{\"style\":\"light\"}}},\"xaxis\":{\"anchor\":\"y\",\"domain\":[0.0,1.0]},\"yaxis\":{\"anchor\":\"x\",\"domain\":[0.0,1.0]},\"margin\":{\"t\":60}},                        {\"responsive\": true}                    ).then(function(){\n",
       "                            \n",
       "var gd = document.getElementById('c245bd55-7ef6-4b31-b610-68e848716783');\n",
       "var x = new MutationObserver(function (mutations, observer) {{\n",
       "        var display = window.getComputedStyle(gd).display;\n",
       "        if (!display || display === 'none') {{\n",
       "            console.log([gd, 'removed!']);\n",
       "            Plotly.purge(gd);\n",
       "            observer.disconnect();\n",
       "        }}\n",
       "}});\n",
       "\n",
       "// Listen for the removal of the full notebook cells\n",
       "var notebookContainer = gd.closest('#notebook-container');\n",
       "if (notebookContainer) {{\n",
       "    x.observe(notebookContainer, {childList: true});\n",
       "}}\n",
       "\n",
       "// Listen for the clearing of the current output cell\n",
       "var outputEl = gd.closest('.output');\n",
       "if (outputEl) {{\n",
       "    x.observe(outputEl, {childList: true});\n",
       "}}\n",
       "\n",
       "                        })                };                });            </script>        </div>"
      ]
     },
     "metadata": {},
     "output_type": "display_data"
    }
   ],
   "source": [
    "px.imshow(colors_cv)"
   ]
  },
  {
   "cell_type": "markdown",
   "metadata": {},
   "source": [
    "將藍紅對調"
   ]
  },
  {
   "cell_type": "code",
   "execution_count": null,
   "metadata": {},
   "outputs": [],
   "source": []
  },
  {
   "cell_type": "markdown",
   "metadata": {},
   "source": [
    "* 影像處理再階一點點\n",
    "    * 圖層操作\n",
    "    * histogram\n",
    "    * thresholding"
   ]
  }
 ],
 "metadata": {
  "kernelspec": {
   "display_name": "Python 3 (ipykernel)",
   "language": "python",
   "name": "python3"
  },
  "language_info": {
   "codemirror_mode": {
    "name": "ipython",
    "version": 3
   },
   "file_extension": ".py",
   "mimetype": "text/x-python",
   "name": "python",
   "nbconvert_exporter": "python",
   "pygments_lexer": "ipython3",
   "version": "3.8.10"
  }
 },
 "nbformat": 4,
 "nbformat_minor": 4
}
