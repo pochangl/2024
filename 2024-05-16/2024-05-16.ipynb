{
 "cells": [
  {
   "cell_type": "markdown",
   "metadata": {},
   "source": [
    "前面的課\n",
    "\n",
    "https://github.com/vcdemy/20240328/blob/main/20240328%E7%AD%86%E8%A8%98.ipynb\n",
    "\n",
    "https://github.com/vcdemy/20240411/blob/main/20240411.ipynb\n",
    "\n",
    "https://github.com/vcdemy/20240418/blob/main/20240418%E7%AD%86%E8%A8%98.ipynb\n",
    "\n",
    "https://github.com/vcdemy/20240425/blob/main/20240425%E7%AD%86%E8%A8%98.ipynb"
   ]
  },
  {
   "cell_type": "markdown",
   "metadata": {},
   "source": [
    "\n",
    "* numpy\n",
    "    * 基本運算\n",
    "    * indexing\n",
    "    * slicing\n",
    "    * clip\n",
    "    * ravel\n",
    "* 影像處理基本操作\n",
    "    * 開啟檔案\n",
    "        * PIL\n",
    "        * skimage\n",
    "        * cv2\n",
    "    * 圖片縮放\n",
    "        * thumbnail\n",
    "        * resize\n",
    "    * 圖片旋轉\n",
    "    * 灰階轉換\n",
    "* 影像處理再階一點點\n",
    "    * 裁切\n",
    "    * 貼圖\n",
    "    * 嵌字\n",
    "    * 圖層操作\n",
    "    * histogram\n",
    "    * thresholding"
   ]
  },
  {
   "cell_type": "code",
   "execution_count": null,
   "metadata": {},
   "outputs": [],
   "source": [
    "# 圖\n",
    "lena_url = \"https://upload.wikimedia.org/wikipedia/en/7/7d/Lenna_%28test_image%29.png\"\n",
    "moon_url = \"https://upload.wikimedia.org/wikipedia/commons/e/e1/FullMoon2010.jpg\""
   ]
  },
  {
   "cell_type": "code",
   "execution_count": null,
   "metadata": {},
   "outputs": [],
   "source": [
    "import numpy as np"
   ]
  },
  {
   "cell_type": "code",
   "execution_count": null,
   "metadata": {},
   "outputs": [],
   "source": []
  },
  {
   "cell_type": "markdown",
   "metadata": {},
   "source": [
    "# numpy"
   ]
  },
  {
   "cell_type": "markdown",
   "metadata": {},
   "source": [
    "## 四則運算"
   ]
  },
  {
   "cell_type": "code",
   "execution_count": null,
   "metadata": {},
   "outputs": [],
   "source": [
    "a = np.array([1, 2, 3, 4])\n",
    "b = np.array([7, 8, 9, 10])"
   ]
  },
  {
   "cell_type": "code",
   "execution_count": null,
   "metadata": {},
   "outputs": [],
   "source": [
    "a + b"
   ]
  },
  {
   "cell_type": "markdown",
   "metadata": {},
   "source": [
    "## indexing"
   ]
  },
  {
   "cell_type": "code",
   "execution_count": null,
   "metadata": {},
   "outputs": [],
   "source": [
    "a = np.array([1, 2, 3, 4])"
   ]
  },
  {
   "cell_type": "raw",
   "metadata": {},
   "source": [
    "請取出第 3 個元素"
   ]
  },
  {
   "cell_type": "code",
   "execution_count": null,
   "metadata": {
    "scrolled": true
   },
   "outputs": [],
   "source": [
    "a[2]"
   ]
  },
  {
   "cell_type": "code",
   "execution_count": null,
   "metadata": {},
   "outputs": [],
   "source": [
    "a = np.array([1, 2, 3, 4, 5])"
   ]
  },
  {
   "cell_type": "raw",
   "metadata": {},
   "source": [
    "取出第 2 個到第 4 個數字"
   ]
  },
  {
   "cell_type": "code",
   "execution_count": null,
   "metadata": {
    "scrolled": true
   },
   "outputs": [],
   "source": [
    "start = 2 - 1\n",
    "end = 4\n",
    "\n",
    "a[start: end]\n",
    "a[1: 4]\n",
    "a[1: 1 + 3]\n",
    "# 都一樣"
   ]
  },
  {
   "cell_type": "code",
   "execution_count": null,
   "metadata": {},
   "outputs": [],
   "source": [
    "img = np.arange(3*3*3).reshape((3, 3, 3))\n",
    "img"
   ]
  },
  {
   "cell_type": "raw",
   "metadata": {},
   "source": [
    "取出紅色圖層"
   ]
  },
  {
   "cell_type": "code",
   "execution_count": null,
   "metadata": {},
   "outputs": [],
   "source": [
    "red = img[:, :, 0]\n",
    "red"
   ]
  },
  {
   "cell_type": "markdown",
   "metadata": {},
   "source": [
    "## Clip"
   ]
  },
  {
   "cell_type": "code",
   "execution_count": null,
   "metadata": {},
   "outputs": [],
   "source": [
    "a = np.arange(100)\n",
    "a"
   ]
  },
  {
   "cell_type": "raw",
   "metadata": {},
   "source": [
    "試著把 30 以下或 100 以上的數字 clip 掉"
   ]
  },
  {
   "cell_type": "code",
   "execution_count": null,
   "metadata": {
    "scrolled": true
   },
   "outputs": [],
   "source": [
    "np.clip(a, a_min=30, a_max=70)"
   ]
  },
  {
   "cell_type": "markdown",
   "metadata": {},
   "source": [
    "## ravel "
   ]
  },
  {
   "cell_type": "code",
   "execution_count": null,
   "metadata": {},
   "outputs": [],
   "source": [
    "img = np.arange(3*3*3).reshape((3, 3, 3))\n",
    "img"
   ]
  },
  {
   "cell_type": "raw",
   "metadata": {},
   "source": [
    "怎麼把它變成一維的"
   ]
  },
  {
   "cell_type": "code",
   "execution_count": null,
   "metadata": {},
   "outputs": [],
   "source": [
    "img.ravel()"
   ]
  },
  {
   "cell_type": "code",
   "execution_count": null,
   "metadata": {},
   "outputs": [],
   "source": [
    "img.reshape((27,))"
   ]
  },
  {
   "cell_type": "markdown",
   "metadata": {},
   "source": [
    "# 影像處理的基本操作"
   ]
  },
  {
   "cell_type": "markdown",
   "metadata": {},
   "source": [
    "## 開啟檔案"
   ]
  },
  {
   "cell_type": "code",
   "execution_count": null,
   "metadata": {
    "scrolled": true
   },
   "outputs": [],
   "source": [
    "!curl -O https://upload.wikimedia.org/wikipedia/en/7/7d/Lenna_%28test_image%29.png\n",
    "!curl -O https://upload.wikimedia.org/wikipedia/commons/e/e1/FullMoon2010.jpg"
   ]
  },
  {
   "cell_type": "code",
   "execution_count": null,
   "metadata": {},
   "outputs": [],
   "source": [
    "使用任意方法開啟檔案\n",
    "opencv\n",
    "pillow\n",
    "skimage"
   ]
  },
  {
   "cell_type": "code",
   "execution_count": null,
   "metadata": {},
   "outputs": [],
   "source": [
    "# pillow\n",
    "from PIL import Image\n",
    "pil_img = Image.open('lena.png')"
   ]
  },
  {
   "cell_type": "code",
   "execution_count": null,
   "metadata": {},
   "outputs": [],
   "source": [
    "# open cv\n",
    "import cv2\n",
    "cv_img = cv2.imread('lena.png')"
   ]
  },
  {
   "cell_type": "code",
   "execution_count": null,
   "metadata": {},
   "outputs": [],
   "source": [
    "# sci-kit image\n",
    "import skimage as ski\n",
    "sk_img = ski.io.imread('lena.png')"
   ]
  },
  {
   "cell_type": "markdown",
   "metadata": {},
   "source": [
    "## 顯示圖案"
   ]
  },
  {
   "cell_type": "code",
   "execution_count": null,
   "metadata": {},
   "outputs": [],
   "source": [
    "使用任意方法顯示圖案\n",
    "jupyter, cv2, matplotlib, plotly express"
   ]
  },
  {
   "cell_type": "code",
   "execution_count": null,
   "metadata": {},
   "outputs": [],
   "source": [
    "# jupyter, 只適用 pillow 的圖檔\n",
    "pil_img"
   ]
  },
  {
   "cell_type": "code",
   "execution_count": null,
   "metadata": {},
   "outputs": [],
   "source": [
    "# open cv 的作法, 適用於 np.array \n",
    "cv2.imshow('title', cv_img)\n",
    "cv2.waitKey(0)\n",
    "cv2.destroyAllWindows()"
   ]
  },
  {
   "cell_type": "code",
   "execution_count": null,
   "metadata": {},
   "outputs": [],
   "source": [
    "# matplotlib\n",
    "from matplotlib import pyplot as plt\n",
    "plt.imshow(sk_img)"
   ]
  },
  {
   "cell_type": "code",
   "execution_count": null,
   "metadata": {},
   "outputs": [],
   "source": [
    "# plotly express\n",
    "import plotly.express as px\n",
    "px.imshow(sk_img)"
   ]
  },
  {
   "cell_type": "markdown",
   "metadata": {},
   "source": [
    "# 圖片縮放"
   ]
  },
  {
   "cell_type": "raw",
   "metadata": {},
   "source": [
    "做出 50x50 的 thumbnail"
   ]
  },
  {
   "cell_type": "code",
   "execution_count": 75,
   "metadata": {},
   "outputs": [],
   "source": [
    "pil_pen = Image.open('pen.jpg')"
   ]
  },
  {
   "cell_type": "code",
   "execution_count": 74,
   "metadata": {},
   "outputs": [
    {
     "data": {
      "text/plain": [
       "(1200, 1800)"
      ]
     },
     "execution_count": 74,
     "metadata": {},
     "output_type": "execute_result"
    }
   ],
   "source": [
    "pen_moon.size"
   ]
  },
  {
   "cell_type": "code",
   "execution_count": 68,
   "metadata": {},
   "outputs": [
    {
     "name": "stdout",
     "output_type": "stream",
     "text": [
      "(50, 50)\n"
     ]
    },
    {
     "data": {
      "image/png": "[encoded data removed]",
      "text/plain": [
       "<PIL.Image.Image image mode=RGB size=50x50>"
      ]
     },
     "execution_count": 68,
     "metadata": {},
     "output_type": "execute_result"
    }
   ],
   "source": [
    "img = pen_.copy()\n",
    "size = (50, 50)\n",
    "img.thumbnail(size)\n",
    "print(img.size)\n",
    "img\n"
   ]
  },
  {
   "cell_type": "markdown",
   "metadata": {},
   "source": [
    "\n",
    "* 影像處理基本操作\n",
    "    * 圖片縮放\n",
    "        * thumbnail\n",
    "        * resize\n",
    "    * 圖片旋轉\n",
    "    * 灰階轉換\n",
    "* 影像處理再階一點點\n",
    "    * 裁切\n",
    "    * 貼圖\n",
    "    * 嵌字\n",
    "    * 圖層操作\n",
    "    * histogram\n",
    "    * thresholding"
   ]
  }
 ],
 "metadata": {
  "kernelspec": {
   "display_name": "Python 3 (ipykernel)",
   "language": "python",
   "name": "python3"
  },
  "language_info": {
   "codemirror_mode": {
    "name": "ipython",
    "version": 3
   },
   "file_extension": ".py",
   "mimetype": "text/x-python",
   "name": "python",
   "nbconvert_exporter": "python",
   "pygments_lexer": "ipython3",
   "version": "3.8.10"
  }
 },
 "nbformat": 4,
 "nbformat_minor": 4
}
