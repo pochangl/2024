{
 "cells": [
  {
   "cell_type": "markdown",
   "metadata": {},
   "source": [
    "Slido\n",
    "\n",
    "https://app.sli.do/event/3SUPDfwYUh2KuZQkGAyXqA"
   ]
  },
  {
   "cell_type": "markdown",
   "metadata": {},
   "source": [
    "前面的課\n",
    "\n",
    "https://github.com/vcdemy/20240328/blob/main/20240328%E7%AD%86%E8%A8%98.ipynb\n",
    "\n",
    "https://github.com/vcdemy/20240411/blob/main/20240411.ipynb\n",
    "\n",
    "https://github.com/vcdemy/20240418/blob/main/20240418%E7%AD%86%E8%A8%98.ipynb\n",
    "\n",
    "https://github.com/vcdemy/20240425/blob/main/20240425%E7%AD%86%E8%A8%98.ipynb"
   ]
  },
  {
   "cell_type": "markdown",
   "metadata": {},
   "source": [
    "\n",
    "* numpy\n",
    "    * 基本運算\n",
    "    * indexing\n",
    "    * slicing\n",
    "    * clip\n",
    "    * ravel\n",
    "* 影像處理基本操作\n",
    "    * 開啟檔案\n",
    "        * PIL\n",
    "        * skimage\n",
    "        * cv2\n",
    "    * 圖片縮放\n",
    "        * thumbnail\n",
    "        * resize\n",
    "    * 圖片旋轉\n",
    "    * 灰階轉換\n",
    "* 影像處理再階一點點\n",
    "    * 裁切\n",
    "    * 貼圖\n",
    "    * 嵌字\n",
    "    * 圖層操作\n",
    "    * histogram\n",
    "    * thresholding"
   ]
  },
  {
   "cell_type": "code",
   "execution_count": null,
   "metadata": {},
   "outputs": [],
   "source": [
    "# 圖\n",
    "lena_url = \"https://upload.wikimedia.org/wikipedia/en/7/7d/Lenna_%28test_image%29.png\"\n",
    "moon_url = \"https://upload.wikimedia.org/wikipedia/commons/e/e1/FullMoon2010.jpg\""
   ]
  },
  {
   "cell_type": "code",
   "execution_count": null,
   "metadata": {},
   "outputs": [],
   "source": [
    "import numpy as np"
   ]
  },
  {
   "cell_type": "code",
   "execution_count": null,
   "metadata": {},
   "outputs": [],
   "source": []
  },
  {
   "cell_type": "markdown",
   "metadata": {},
   "source": [
    "# numpy"
   ]
  },
  {
   "cell_type": "markdown",
   "metadata": {},
   "source": [
    "## 四則運算"
   ]
  },
  {
   "cell_type": "code",
   "execution_count": null,
   "metadata": {},
   "outputs": [],
   "source": [
    "a = np.array([1, 2, 3, 4])\n",
    "b = np.array([7, 8, 9, 10])"
   ]
  },
  {
   "cell_type": "code",
   "execution_count": null,
   "metadata": {},
   "outputs": [],
   "source": [
    "a + b"
   ]
  },
  {
   "cell_type": "markdown",
   "metadata": {},
   "source": [
    "## indexing"
   ]
  },
  {
   "cell_type": "code",
   "execution_count": null,
   "metadata": {},
   "outputs": [],
   "source": [
    "a = np.array([1, 2, 3, 4])"
   ]
  },
  {
   "cell_type": "raw",
   "metadata": {},
   "source": [
    "請取出第 3 個元素"
   ]
  },
  {
   "cell_type": "code",
   "execution_count": null,
   "metadata": {
    "scrolled": true
   },
   "outputs": [],
   "source": [
    "a[2]"
   ]
  },
  {
   "cell_type": "code",
   "execution_count": null,
   "metadata": {},
   "outputs": [],
   "source": [
    "a = np.array([1, 2, 3, 4, 5])"
   ]
  },
  {
   "cell_type": "raw",
   "metadata": {},
   "source": [
    "取出第 2 個到第 4 個數字"
   ]
  },
  {
   "cell_type": "code",
   "execution_count": null,
   "metadata": {
    "scrolled": true
   },
   "outputs": [],
   "source": [
    "start = 2 - 1\n",
    "end = 4\n",
    "\n",
    "a[start: end]\n",
    "a[1: 4]\n",
    "a[1: 1 + 3]\n",
    "# 都一樣"
   ]
  },
  {
   "cell_type": "code",
   "execution_count": null,
   "metadata": {},
   "outputs": [],
   "source": [
    "img = np.arange(3*3*3).reshape((3, 3, 3))\n",
    "img"
   ]
  },
  {
   "cell_type": "raw",
   "metadata": {},
   "source": [
    "取出紅色圖層"
   ]
  },
  {
   "cell_type": "code",
   "execution_count": null,
   "metadata": {},
   "outputs": [],
   "source": [
    "red = img[:, :, 0]\n",
    "red"
   ]
  },
  {
   "cell_type": "markdown",
   "metadata": {},
   "source": [
    "## Clip"
   ]
  },
  {
   "cell_type": "code",
   "execution_count": null,
   "metadata": {},
   "outputs": [],
   "source": [
    "a = np.arange(100)\n",
    "a"
   ]
  },
  {
   "cell_type": "raw",
   "metadata": {},
   "source": [
    "試著把 30 以下或 100 以上的數字 clip 掉"
   ]
  },
  {
   "cell_type": "code",
   "execution_count": null,
   "metadata": {
    "scrolled": true
   },
   "outputs": [],
   "source": [
    "np.clip(a, a_min=30, a_max=70)"
   ]
  },
  {
   "cell_type": "markdown",
   "metadata": {},
   "source": [
    "## ravel "
   ]
  },
  {
   "cell_type": "code",
   "execution_count": null,
   "metadata": {},
   "outputs": [],
   "source": [
    "img = np.arange(3*3*3).reshape((3, 3, 3))\n",
    "img"
   ]
  },
  {
   "cell_type": "raw",
   "metadata": {},
   "source": [
    "怎麼把它變成一維的"
   ]
  },
  {
   "cell_type": "code",
   "execution_count": null,
   "metadata": {},
   "outputs": [],
   "source": [
    "img.ravel()"
   ]
  },
  {
   "cell_type": "code",
   "execution_count": null,
   "metadata": {},
   "outputs": [],
   "source": [
    "img.reshape((27,))"
   ]
  },
  {
   "cell_type": "markdown",
   "metadata": {},
   "source": [
    "# 影像處理的基本操作"
   ]
  },
  {
   "cell_type": "markdown",
   "metadata": {},
   "source": [
    "## 開啟檔案"
   ]
  },
  {
   "cell_type": "code",
   "execution_count": null,
   "metadata": {
    "scrolled": true
   },
   "outputs": [],
   "source": [
    "!curl -O https://upload.wikimedia.org/wikipedia/en/7/7d/Lenna_%28test_image%29.png\n",
    "!curl -O https://upload.wikimedia.org/wikipedia/commons/e/e1/FullMoon2010.jpg"
   ]
  },
  {
   "cell_type": "code",
   "execution_count": null,
   "metadata": {},
   "outputs": [],
   "source": [
    "使用任意方法開啟檔案\n",
    "opencv\n",
    "pillow\n",
    "skimage"
   ]
  },
  {
   "cell_type": "code",
   "execution_count": null,
   "metadata": {},
   "outputs": [],
   "source": [
    "# pillow\n",
    "from PIL import Image\n",
    "pil_img = Image.open('lena.png')"
   ]
  },
  {
   "cell_type": "code",
   "execution_count": null,
   "metadata": {},
   "outputs": [],
   "source": [
    "# open cv\n",
    "import cv2\n",
    "cv_img = cv2.imread('lena.png')"
   ]
  },
  {
   "cell_type": "code",
   "execution_count": null,
   "metadata": {},
   "outputs": [],
   "source": [
    "# sci-kit image\n",
    "import skimage as ski\n",
    "sk_img = ski.io.imread('lena.png')"
   ]
  },
  {
   "cell_type": "markdown",
   "metadata": {},
   "source": [
    "## 顯示圖案"
   ]
  },
  {
   "cell_type": "code",
   "execution_count": null,
   "metadata": {},
   "outputs": [],
   "source": [
    "使用任意方法顯示圖案\n",
    "jupyter, cv2, matplotlib, plotly express"
   ]
  },
  {
   "cell_type": "code",
   "execution_count": null,
   "metadata": {},
   "outputs": [],
   "source": [
    "# jupyter, 只適用 pillow 的圖檔\n",
    "pil_img"
   ]
  },
  {
   "cell_type": "code",
   "execution_count": null,
   "metadata": {},
   "outputs": [],
   "source": [
    "# open cv 的作法, 適用於 np.array \n",
    "cv2.imshow('title', cv_img)\n",
    "cv2.waitKey(0)\n",
    "cv2.destroyAllWindows()"
   ]
  },
  {
   "cell_type": "code",
   "execution_count": null,
   "metadata": {},
   "outputs": [],
   "source": [
    "# matplotlib\n",
    "from matplotlib import pyplot as plt\n",
    "plt.imshow(sk_img)"
   ]
  },
  {
   "cell_type": "code",
   "execution_count": null,
   "metadata": {},
   "outputs": [],
   "source": [
    "# plotly express\n",
    "import plotly.express as px\n",
    "px.imshow(sk_img)"
   ]
  },
  {
   "cell_type": "markdown",
   "metadata": {},
   "source": [
    "## 圖片縮放"
   ]
  },
  {
   "cell_type": "raw",
   "metadata": {},
   "source": [
    "做出 50x50 的 thumbnail"
   ]
  },
  {
   "cell_type": "code",
   "execution_count": null,
   "metadata": {},
   "outputs": [],
   "source": [
    "pil_pen = Image.open('pen.jpg')"
   ]
  },
  {
   "cell_type": "code",
   "execution_count": null,
   "metadata": {},
   "outputs": [],
   "source": [
    "pil_pen.size"
   ]
  },
  {
   "cell_type": "code",
   "execution_count": null,
   "metadata": {},
   "outputs": [],
   "source": [
    "# thumbnail 會等比縮放\n",
    "img = pil_pen.copy()\n",
    "size = (50, 50)\n",
    "img.thumbnail(size)\n",
    "print(img.size)\n",
    "img\n"
   ]
  },
  {
   "cell_type": "code",
   "execution_count": null,
   "metadata": {},
   "outputs": [],
   "source": [
    "使用 resize 把圖片縮放到 50x50"
   ]
  },
  {
   "cell_type": "code",
   "execution_count": null,
   "metadata": {},
   "outputs": [],
   "source": [
    "img = pil_pen.copy()\n",
    "size = (50, 50)\n",
    "resized = img.resize(size)\n",
    "print(resized.size)\n",
    "resized"
   ]
  },
  {
   "cell_type": "code",
   "execution_count": null,
   "metadata": {},
   "outputs": [],
   "source": [
    "img = pil_pen.copy()\n",
    "print(img.size)\n",
    "img.thumbnail((50, 50))\n",
    "print(img.size)\n",
    "img.thumbnail((100, 100))\n",
    "print(img.size)"
   ]
  },
  {
   "cell_type": "code",
   "execution_count": null,
   "metadata": {},
   "outputs": [],
   "source": [
    "img = pil_pen.copy()\n",
    "print(img.size)\n",
    "img = img.resize((50, 50))\n",
    "print(img.size)\n",
    "img = img.resize((100, 100))\n",
    "print(img.size)\n",
    "img"
   ]
  },
  {
   "cell_type": "markdown",
   "metadata": {},
   "source": [
    "* thumbnail 的特徵\n",
    "    * 只能縮小\n",
    "    * 等比縮小\n",
    "    * inplace 縮放, 會更動到原圖\n",
    "* resize 的特徵\n",
    "    * 可以放大縮小\n",
    "    * 強制指定 size (不管原圖的比例)\n",
    "    * 不會動到原圖, 會產生新圖"
   ]
  },
  {
   "cell_type": "markdown",
   "metadata": {},
   "source": [
    "## 圖片旋轉"
   ]
  },
  {
   "cell_type": "raw",
   "metadata": {},
   "source": [
    "將圖片旋轉 45 度"
   ]
  },
  {
   "cell_type": "code",
   "execution_count": null,
   "metadata": {},
   "outputs": [],
   "source": [
    "print(pil_img.rotate(-45).size)\n",
    "print(pil_img.size)\n",
    "pil_img.rotate(-45)"
   ]
  },
  {
   "cell_type": "code",
   "execution_count": null,
   "metadata": {},
   "outputs": [],
   "source": [
    "print(pil_img.rotate(45, expand=True).size)\n",
    "pil_img.rotate(45, expand=True)"
   ]
  },
  {
   "cell_type": "code",
   "execution_count": null,
   "metadata": {},
   "outputs": [],
   "source": [
    "pil_img.rotate(45, expand=True, fillcolor='green')"
   ]
  },
  {
   "cell_type": "markdown",
   "metadata": {},
   "source": [
    "* expand=True 會放大圖, 把每個像素都保留\n",
    "* expand=False 圖的長寬不變, 原圖會被截掉\n",
    "* fillcolor 可以指定背景顏色"
   ]
  },
  {
   "cell_type": "markdown",
   "metadata": {},
   "source": [
    "## 灰階處理"
   ]
  },
  {
   "cell_type": "raw",
   "metadata": {},
   "source": [
    "把圖片轉成灰階"
   ]
  },
  {
   "cell_type": "code",
   "execution_count": null,
   "metadata": {},
   "outputs": [],
   "source": [
    "# pillow 作法\n",
    "pil_img.convert('L')"
   ]
  },
  {
   "cell_type": "code",
   "execution_count": null,
   "metadata": {},
   "outputs": [],
   "source": [
    "# scikit image 的作法\n",
    "from skimage.color import rgb2gray\n",
    "sk_img_gray = (rgb2gray(sk_img) * 256).astype(np.uint8)\n",
    "px.imshow(sk_img_gray, color_continuous_scale='gray')"
   ]
  },
  {
   "cell_type": "code",
   "execution_count": null,
   "metadata": {},
   "outputs": [],
   "source": [
    "# open cv 作法\n",
    "gray = cv2.cvtColor(cv_img, cv2.COLOR_BGR2GRAY)\n",
    "print(gray.shape)\n",
    "px.imshow(gray, color_continuous_scale='gray')"
   ]
  },
  {
   "cell_type": "code",
   "execution_count": null,
   "metadata": {},
   "outputs": [],
   "source": [
    "# opencv 作法 2\n",
    "gray2 = cv2.imread('lena.png', cv2.IMREAD_GRAYSCALE)\n",
    "gray2.shape"
   ]
  },
  {
   "cell_type": "markdown",
   "metadata": {},
   "source": [
    "## 存檔"
   ]
  },
  {
   "cell_type": "code",
   "execution_count": null,
   "metadata": {},
   "outputs": [],
   "source": [
    "# pillow 的作法\n",
    "img2 = pil_img.convert('L')\n",
    "img2.save('lena_grey_pil.png')"
   ]
  },
  {
   "cell_type": "code",
   "execution_count": null,
   "metadata": {},
   "outputs": [],
   "source": [
    "# opencv 的作法\n",
    "cv2.imwrite('lena_grey_cv.png', gray2)"
   ]
  },
  {
   "cell_type": "code",
   "execution_count": null,
   "metadata": {},
   "outputs": [],
   "source": [
    "# scikit-image 的作法\n",
    "from skimage.color import gray2rgb\n",
    "ski.io.imsave('lena_grey_sk.png', sk_img_gray)\n"
   ]
  },
  {
   "cell_type": "markdown",
   "metadata": {},
   "source": [
    "# 影像處理再進階一點點"
   ]
  },
  {
   "cell_type": "markdown",
   "metadata": {},
   "source": [
    "## 裁切"
   ]
  },
  {
   "cell_type": "raw",
   "metadata": {},
   "source": [
    "將 lena 的臉裁出來"
   ]
  },
  {
   "cell_type": "code",
   "execution_count": null,
   "metadata": {},
   "outputs": [],
   "source": [
    "px.imshow(pil_img)"
   ]
  },
  {
   "cell_type": "code",
   "execution_count": null,
   "metadata": {},
   "outputs": [],
   "source": [
    "left = 180\n",
    "top = 180\n",
    "right = 400\n",
    "bottom = 400\n",
    "box = (left, top, right, bottom)\n",
    "pil_img.crop(box)"
   ]
  },
  {
   "cell_type": "markdown",
   "metadata": {},
   "source": [
    "## 貼圖\n",
    "將圖片(小)嵌到另一個圖片(大)內"
   ]
  },
  {
   "cell_type": "code",
   "execution_count": null,
   "metadata": {},
   "outputs": [],
   "source": [
    "small = pil_pen.copy()\n",
    "small.thumbnail((50, 50))\n",
    "small"
   ]
  },
  {
   "cell_type": "code",
   "execution_count": null,
   "metadata": {},
   "outputs": [],
   "source": [
    "large = pil_img.copy()"
   ]
  },
  {
   "cell_type": "code",
   "execution_count": null,
   "metadata": {},
   "outputs": [],
   "source": [
    "large.paste(small, box=(160, 160))"
   ]
  },
  {
   "cell_type": "code",
   "execution_count": null,
   "metadata": {
    "scrolled": true
   },
   "outputs": [],
   "source": [
    "px.imshow(large)"
   ]
  },
  {
   "cell_type": "markdown",
   "metadata": {},
   "source": [
    "## 嵌字"
   ]
  },
  {
   "cell_type": "raw",
   "metadata": {},
   "source": [
    "在圖片右上角面嵌字"
   ]
  },
  {
   "cell_type": "code",
   "execution_count": null,
   "metadata": {},
   "outputs": [],
   "source": [
    "from PIL import ImageDraw\n",
    "draw = ImageDraw.Draw(large)\n",
    "draw.text((100, 100), 'lena')\n",
    "large"
   ]
  },
  {
   "cell_type": "markdown",
   "metadata": {},
   "source": [
    "## 圖層操作"
   ]
  },
  {
   "cell_type": "code",
   "execution_count": null,
   "metadata": {
    "scrolled": true
   },
   "outputs": [],
   "source": [
    "!curl -O https://raw.githubusercontent.com/pochangl/2024/main/2024-05-16/colors.png"
   ]
  },
  {
   "cell_type": "code",
   "execution_count": null,
   "metadata": {},
   "outputs": [],
   "source": [
    "colors_pil = Image.open('colors.png')\n",
    "colors_pil"
   ]
  },
  {
   "cell_type": "code",
   "execution_count": null,
   "metadata": {},
   "outputs": [],
   "source": [
    "colors_cv = cv2.imread('colors.png')"
   ]
  },
  {
   "cell_type": "code",
   "execution_count": null,
   "metadata": {},
   "outputs": [],
   "source": [
    "px.imshow(colors_cv)"
   ]
  },
  {
   "cell_type": "raw",
   "metadata": {},
   "source": [
    "只顯示綠色的部份"
   ]
  },
  {
   "cell_type": "code",
   "execution_count": null,
   "metadata": {},
   "outputs": [],
   "source": [
    "img[0,0]"
   ]
  },
  {
   "cell_type": "code",
   "execution_count": null,
   "metadata": {},
   "outputs": [],
   "source": [
    "img = colors_cv.copy()\n",
    "img\n",
    "img[:,:, 0] = 0\n",
    "img[:,:, 2] = 0\n",
    "px.imshow(img)"
   ]
  },
  {
   "cell_type": "code",
   "execution_count": null,
   "metadata": {
    "scrolled": true
   },
   "outputs": [],
   "source": [
    "px.imshow(colors_cv)"
   ]
  },
  {
   "cell_type": "markdown",
   "metadata": {},
   "source": [
    "將藍紅對調"
   ]
  },
  {
   "cell_type": "code",
   "execution_count": null,
   "metadata": {},
   "outputs": [],
   "source": [
    "new_img = colors_cv.copy()\n",
    "new_img[:,:,0] = colors_cv[:,:,2]\n",
    "new_img[:,:,2] = colors_cv[:,:,0]\n",
    "px.imshow(new_img)"
   ]
  },
  {
   "cell_type": "code",
   "execution_count": null,
   "metadata": {},
   "outputs": [],
   "source": [
    "px.imshow(colors_cv[:, :, ::-1])"
   ]
  },
  {
   "cell_type": "markdown",
   "metadata": {},
   "source": [
    "## histogram"
   ]
  },
  {
   "cell_type": "code",
   "execution_count": null,
   "metadata": {},
   "outputs": [],
   "source": [
    "px.imshow(gray, color_continuous_scale='gray')"
   ]
  },
  {
   "cell_type": "markdown",
   "metadata": {},
   "source": [
    "把灰階圖片的像素做出 histogram"
   ]
  },
  {
   "cell_type": "code",
   "execution_count": null,
   "metadata": {},
   "outputs": [],
   "source": [
    "px.histogram(gray.ravel())"
   ]
  },
  {
   "cell_type": "code",
   "execution_count": null,
   "metadata": {},
   "outputs": [],
   "source": [
    "px.histogram(cv_img[:,:,0].ravel())"
   ]
  },
  {
   "cell_type": "code",
   "execution_count": null,
   "metadata": {},
   "outputs": [],
   "source": [
    "px.histogram(cv_img[:,:,1].ravel())"
   ]
  },
  {
   "cell_type": "code",
   "execution_count": null,
   "metadata": {},
   "outputs": [],
   "source": [
    "px.histogram(cv_img[:,:,1].ravel(), nbins=100)"
   ]
  },
  {
   "cell_type": "markdown",
   "metadata": {},
   "source": []
  },
  {
   "cell_type": "code",
   "execution_count": null,
   "metadata": {},
   "outputs": [],
   "source": [
    "pil_image = Image.open('lena.png')"
   ]
  },
  {
   "cell_type": "code",
   "execution_count": null,
   "metadata": {},
   "outputs": [],
   "source": [
    "pil_image"
   ]
  },
  {
   "cell_type": "code",
   "execution_count": null,
   "metadata": {},
   "outputs": [],
   "source": [
    "pillow 轉 cv2"
   ]
  },
  {
   "cell_type": "code",
   "execution_count": null,
   "metadata": {},
   "outputs": [],
   "source": [
    "cv2_img = np.array(pil_img.convert('RGB'))"
   ]
  },
  {
   "cell_type": "code",
   "execution_count": null,
   "metadata": {},
   "outputs": [],
   "source": [
    "cv2_img = cv2_img[:,:,::-1].copy()"
   ]
  },
  {
   "cell_type": "code",
   "execution_count": null,
   "metadata": {},
   "outputs": [],
   "source": [
    "cv2.imshow('title', cv2_img)\n",
    "cv2.waitKey(0)\n",
    "cv2.destroyAllWindows()"
   ]
  },
  {
   "cell_type": "markdown",
   "metadata": {},
   "source": [
    "## cv2 轉 pillow"
   ]
  },
  {
   "cell_type": "code",
   "execution_count": null,
   "metadata": {},
   "outputs": [],
   "source": [
    "cv2_img = cv2.imread('lena.png')"
   ]
  },
  {
   "cell_type": "code",
   "execution_count": null,
   "metadata": {},
   "outputs": [],
   "source": [
    "pil_image = Image.fromarray(cv2_img[:,:,::-1])\n",
    "pil_image"
   ]
  },
  {
   "cell_type": "code",
   "execution_count": null,
   "metadata": {},
   "outputs": [],
   "source": []
  },
  {
   "cell_type": "code",
   "execution_count": null,
   "metadata": {},
   "outputs": [],
   "source": []
  }
 ],
 "metadata": {
  "kernelspec": {
   "display_name": "Python 3 (ipykernel)",
   "language": "python",
   "name": "python3"
  },
  "language_info": {
   "codemirror_mode": {
    "name": "ipython",
    "version": 3
   },
   "file_extension": ".py",
   "mimetype": "text/x-python",
   "name": "python",
   "nbconvert_exporter": "python",
   "pygments_lexer": "ipython3",
   "version": "3.8.10"
  }
 },
 "nbformat": 4,
 "nbformat_minor": 4
}
