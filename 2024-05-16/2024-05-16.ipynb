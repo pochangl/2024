{
 "cells": [
  {
   "cell_type": "markdown",
   "metadata": {},
   "source": [
    "Slido\n",
    "\n",
    "https://app.sli.do/event/3SUPDfwYUh2KuZQkGAyXqA"
   ]
  },
  {
   "cell_type": "markdown",
   "metadata": {},
   "source": [
    "前面的課\n",
    "\n",
    "https://github.com/vcdemy/20240328/blob/main/20240328%E7%AD%86%E8%A8%98.ipynb\n",
    "\n",
    "https://github.com/vcdemy/20240411/blob/main/20240411.ipynb\n",
    "\n",
    "https://github.com/vcdemy/20240418/blob/main/20240418%E7%AD%86%E8%A8%98.ipynb\n",
    "\n",
    "https://github.com/vcdemy/20240425/blob/main/20240425%E7%AD%86%E8%A8%98.ipynb"
   ]
  },
  {
   "cell_type": "markdown",
   "metadata": {},
   "source": [
    "\n",
    "* numpy\n",
    "    * 基本運算\n",
    "    * indexing\n",
    "    * slicing\n",
    "    * clip\n",
    "    * ravel\n",
    "* 影像處理基本操作\n",
    "    * 開啟檔案\n",
    "        * PIL\n",
    "        * skimage\n",
    "        * cv2\n",
    "    * 圖片縮放\n",
    "        * thumbnail\n",
    "        * resize\n",
    "    * 圖片旋轉\n",
    "    * 灰階轉換\n",
    "* 影像處理再階一點點\n",
    "    * 裁切\n",
    "    * 貼圖\n",
    "    * 嵌字\n",
    "    * 圖層操作\n",
    "    * histogram\n",
    "    * thresholding"
   ]
  },
  {
   "cell_type": "code",
   "execution_count": null,
   "metadata": {},
   "outputs": [],
   "source": [
    "# 圖\n",
    "lena_url = \"https://upload.wikimedia.org/wikipedia/en/7/7d/Lenna_%28test_image%29.png\"\n",
    "moon_url = \"https://upload.wikimedia.org/wikipedia/commons/e/e1/FullMoon2010.jpg\""
   ]
  },
  {
   "cell_type": "code",
   "execution_count": null,
   "metadata": {},
   "outputs": [],
   "source": [
    "import numpy as np"
   ]
  },
  {
   "cell_type": "code",
   "execution_count": null,
   "metadata": {},
   "outputs": [],
   "source": []
  },
  {
   "cell_type": "markdown",
   "metadata": {},
   "source": [
    "# numpy"
   ]
  },
  {
   "cell_type": "markdown",
   "metadata": {},
   "source": [
    "## 四則運算"
   ]
  },
  {
   "cell_type": "code",
   "execution_count": null,
   "metadata": {},
   "outputs": [],
   "source": [
    "a = np.array([1, 2, 3, 4])\n",
    "b = np.array([7, 8, 9, 10])"
   ]
  },
  {
   "cell_type": "code",
   "execution_count": null,
   "metadata": {},
   "outputs": [],
   "source": [
    "a + b"
   ]
  },
  {
   "cell_type": "markdown",
   "metadata": {},
   "source": [
    "## indexing"
   ]
  },
  {
   "cell_type": "code",
   "execution_count": null,
   "metadata": {},
   "outputs": [],
   "source": [
    "a = np.array([1, 2, 3, 4])"
   ]
  },
  {
   "cell_type": "raw",
   "metadata": {},
   "source": [
    "請取出第 3 個元素"
   ]
  },
  {
   "cell_type": "code",
   "execution_count": null,
   "metadata": {
    "scrolled": true
   },
   "outputs": [],
   "source": [
    "a[2]"
   ]
  },
  {
   "cell_type": "code",
   "execution_count": null,
   "metadata": {},
   "outputs": [],
   "source": [
    "a = np.array([1, 2, 3, 4, 5])"
   ]
  },
  {
   "cell_type": "raw",
   "metadata": {},
   "source": [
    "取出第 2 個到第 4 個數字"
   ]
  },
  {
   "cell_type": "code",
   "execution_count": null,
   "metadata": {
    "scrolled": true
   },
   "outputs": [],
   "source": [
    "start = 2 - 1\n",
    "end = 4\n",
    "\n",
    "a[start: end]\n",
    "a[1: 4]\n",
    "a[1: 1 + 3]\n",
    "# 都一樣"
   ]
  },
  {
   "cell_type": "code",
   "execution_count": null,
   "metadata": {},
   "outputs": [],
   "source": [
    "img = np.arange(3*3*3).reshape((3, 3, 3))\n",
    "img"
   ]
  },
  {
   "cell_type": "raw",
   "metadata": {},
   "source": [
    "取出紅色圖層"
   ]
  },
  {
   "cell_type": "code",
   "execution_count": null,
   "metadata": {},
   "outputs": [],
   "source": [
    "red = img[:, :, 0]\n",
    "red"
   ]
  },
  {
   "cell_type": "markdown",
   "metadata": {},
   "source": [
    "## Clip"
   ]
  },
  {
   "cell_type": "code",
   "execution_count": null,
   "metadata": {},
   "outputs": [],
   "source": [
    "a = np.arange(100)\n",
    "a"
   ]
  },
  {
   "cell_type": "raw",
   "metadata": {},
   "source": [
    "試著把 30 以下或 100 以上的數字 clip 掉"
   ]
  },
  {
   "cell_type": "code",
   "execution_count": null,
   "metadata": {
    "scrolled": true
   },
   "outputs": [],
   "source": [
    "np.clip(a, a_min=30, a_max=70)"
   ]
  },
  {
   "cell_type": "markdown",
   "metadata": {},
   "source": [
    "## ravel "
   ]
  },
  {
   "cell_type": "code",
   "execution_count": null,
   "metadata": {},
   "outputs": [],
   "source": [
    "img = np.arange(3*3*3).reshape((3, 3, 3))\n",
    "img"
   ]
  },
  {
   "cell_type": "raw",
   "metadata": {},
   "source": [
    "怎麼把它變成一維的"
   ]
  },
  {
   "cell_type": "code",
   "execution_count": null,
   "metadata": {},
   "outputs": [],
   "source": [
    "img.ravel()"
   ]
  },
  {
   "cell_type": "code",
   "execution_count": null,
   "metadata": {},
   "outputs": [],
   "source": [
    "img.reshape((27,))"
   ]
  },
  {
   "cell_type": "markdown",
   "metadata": {},
   "source": [
    "# 影像處理的基本操作"
   ]
  },
  {
   "cell_type": "markdown",
   "metadata": {},
   "source": [
    "## 開啟檔案"
   ]
  },
  {
   "cell_type": "code",
   "execution_count": null,
   "metadata": {
    "scrolled": true
   },
   "outputs": [],
   "source": [
    "!curl -O https://upload.wikimedia.org/wikipedia/en/7/7d/Lenna_%28test_image%29.png\n",
    "!curl -O https://upload.wikimedia.org/wikipedia/commons/e/e1/FullMoon2010.jpg"
   ]
  },
  {
   "cell_type": "code",
   "execution_count": null,
   "metadata": {},
   "outputs": [],
   "source": [
    "使用任意方法開啟檔案\n",
    "opencv\n",
    "pillow\n",
    "skimage"
   ]
  },
  {
   "cell_type": "code",
   "execution_count": null,
   "metadata": {},
   "outputs": [],
   "source": [
    "# pillow\n",
    "from PIL import Image\n",
    "pil_img = Image.open('lena.png')"
   ]
  },
  {
   "cell_type": "code",
   "execution_count": null,
   "metadata": {},
   "outputs": [],
   "source": [
    "# open cv\n",
    "import cv2\n",
    "cv_img = cv2.imread('lena.png')"
   ]
  },
  {
   "cell_type": "code",
   "execution_count": null,
   "metadata": {},
   "outputs": [],
   "source": [
    "# sci-kit image\n",
    "import skimage as ski\n",
    "sk_img = ski.io.imread('lena.png')"
   ]
  },
  {
   "cell_type": "markdown",
   "metadata": {},
   "source": [
    "## 顯示圖案"
   ]
  },
  {
   "cell_type": "code",
   "execution_count": null,
   "metadata": {},
   "outputs": [],
   "source": [
    "使用任意方法顯示圖案\n",
    "jupyter, cv2, matplotlib, plotly express"
   ]
  },
  {
   "cell_type": "code",
   "execution_count": null,
   "metadata": {},
   "outputs": [],
   "source": [
    "# jupyter, 只適用 pillow 的圖檔\n",
    "pil_img"
   ]
  },
  {
   "cell_type": "code",
   "execution_count": null,
   "metadata": {},
   "outputs": [],
   "source": [
    "# open cv 的作法, 適用於 np.array \n",
    "cv2.imshow('title', cv_img)\n",
    "cv2.waitKey(0)\n",
    "cv2.destroyAllWindows()"
   ]
  },
  {
   "cell_type": "code",
   "execution_count": null,
   "metadata": {},
   "outputs": [],
   "source": [
    "# matplotlib\n",
    "from matplotlib import pyplot as plt\n",
    "plt.imshow(sk_img)"
   ]
  },
  {
   "cell_type": "code",
   "execution_count": null,
   "metadata": {},
   "outputs": [],
   "source": [
    "# plotly express\n",
    "import plotly.express as px\n",
    "px.imshow(sk_img)"
   ]
  },
  {
   "cell_type": "markdown",
   "metadata": {},
   "source": [
    "## 圖片縮放"
   ]
  },
  {
   "cell_type": "raw",
   "metadata": {},
   "source": [
    "做出 50x50 的 thumbnail"
   ]
  },
  {
   "cell_type": "code",
   "execution_count": null,
   "metadata": {},
   "outputs": [],
   "source": [
    "pil_pen = Image.open('pen.jpg')"
   ]
  },
  {
   "cell_type": "code",
   "execution_count": null,
   "metadata": {},
   "outputs": [],
   "source": [
    "pil_pen.size"
   ]
  },
  {
   "cell_type": "code",
   "execution_count": null,
   "metadata": {},
   "outputs": [],
   "source": [
    "# thumbnail 會等比縮放\n",
    "img = pil_pen.copy()\n",
    "size = (50, 50)\n",
    "img.thumbnail(size)\n",
    "print(img.size)\n",
    "img\n"
   ]
  },
  {
   "cell_type": "code",
   "execution_count": null,
   "metadata": {},
   "outputs": [],
   "source": [
    "使用 resize 把圖片縮放到 50x50"
   ]
  },
  {
   "cell_type": "code",
   "execution_count": null,
   "metadata": {},
   "outputs": [],
   "source": [
    "img = pil_pen.copy()\n",
    "size = (50, 50)\n",
    "resized = img.resize(size)\n",
    "print(resized.size)\n",
    "resized"
   ]
  },
  {
   "cell_type": "code",
   "execution_count": null,
   "metadata": {},
   "outputs": [],
   "source": [
    "img = pil_pen.copy()\n",
    "print(img.size)\n",
    "img.thumbnail((50, 50))\n",
    "print(img.size)\n",
    "img.thumbnail((100, 100))\n",
    "print(img.size)"
   ]
  },
  {
   "cell_type": "code",
   "execution_count": null,
   "metadata": {},
   "outputs": [],
   "source": [
    "img = pil_pen.copy()\n",
    "print(img.size)\n",
    "img = img.resize((50, 50))\n",
    "print(img.size)\n",
    "img = img.resize((100, 100))\n",
    "print(img.size)\n",
    "img"
   ]
  },
  {
   "cell_type": "markdown",
   "metadata": {},
   "source": [
    "* thumbnail 的特徵\n",
    "    * 只能縮小\n",
    "    * 等比縮小\n",
    "    * inplace 縮放, 會更動到原圖\n",
    "* resize 的特徵\n",
    "    * 可以放大縮小\n",
    "    * 強制指定 size (不管原圖的比例)\n",
    "    * 不會動到原圖, 會產生新圖"
   ]
  },
  {
   "cell_type": "markdown",
   "metadata": {},
   "source": [
    "## 圖片旋轉"
   ]
  },
  {
   "cell_type": "raw",
   "metadata": {},
   "source": [
    "將圖片旋轉 45 度"
   ]
  },
  {
   "cell_type": "code",
   "execution_count": null,
   "metadata": {},
   "outputs": [],
   "source": [
    "print(pil_img.rotate(-45).size)\n",
    "print(pil_img.size)\n",
    "pil_img.rotate(-45)"
   ]
  },
  {
   "cell_type": "code",
   "execution_count": null,
   "metadata": {},
   "outputs": [],
   "source": [
    "print(pil_img.rotate(45, expand=True).size)\n",
    "pil_img.rotate(45, expand=True)"
   ]
  },
  {
   "cell_type": "code",
   "execution_count": null,
   "metadata": {},
   "outputs": [],
   "source": [
    "pil_img.rotate(45, expand=True, fillcolor='green')"
   ]
  },
  {
   "cell_type": "markdown",
   "metadata": {},
   "source": [
    "* expand=True 會放大圖, 把每個像素都保留\n",
    "* expand=False 圖的長寬不變, 原圖會被截掉\n",
    "* fillcolor 可以指定背景顏色"
   ]
  },
  {
   "cell_type": "markdown",
   "metadata": {},
   "source": [
    "## 灰階處理"
   ]
  },
  {
   "cell_type": "raw",
   "metadata": {},
   "source": [
    "把圖片轉成灰階"
   ]
  },
  {
   "cell_type": "code",
   "execution_count": null,
   "metadata": {},
   "outputs": [],
   "source": [
    "# pillow 作法\n",
    "pil_img.convert('L')"
   ]
  },
  {
   "cell_type": "code",
   "execution_count": null,
   "metadata": {},
   "outputs": [],
   "source": [
    "# scikit image 的作法\n",
    "from skimage.color import rgb2gray\n",
    "sk_img_gray = (rgb2gray(sk_img) * 256).astype(np.uint8)\n",
    "px.imshow(sk_img_gray, color_continuous_scale='gray')"
   ]
  },
  {
   "cell_type": "code",
   "execution_count": null,
   "metadata": {},
   "outputs": [],
   "source": [
    "# open cv 作法\n",
    "gray = cv2.cvtColor(cv_img, cv2.COLOR_BGR2GRAY)\n",
    "print(gray.shape)\n",
    "px.imshow(gray, color_continuous_scale='gray')"
   ]
  },
  {
   "cell_type": "code",
   "execution_count": null,
   "metadata": {},
   "outputs": [],
   "source": [
    "# opencv 作法 2\n",
    "gray2 = cv2.imread('lena.png', cv2.IMREAD_GRAYSCALE)\n",
    "gray2.shape"
   ]
  },
  {
   "cell_type": "markdown",
   "metadata": {},
   "source": [
    "## 存檔"
   ]
  },
  {
   "cell_type": "code",
   "execution_count": null,
   "metadata": {},
   "outputs": [],
   "source": [
    "# pillow 的作法\n",
    "img2 = pil_img.convert('L')\n",
    "img2.save('lena_grey_pil.png')"
   ]
  },
  {
   "cell_type": "code",
   "execution_count": null,
   "metadata": {},
   "outputs": [],
   "source": [
    "# opencv 的作法\n",
    "cv2.imwrite('lena_grey_cv.png', gray2)"
   ]
  },
  {
   "cell_type": "code",
   "execution_count": null,
   "metadata": {},
   "outputs": [],
   "source": [
    "# scikit-image 的作法\n",
    "from skimage.color import gray2rgb\n",
    "ski.io.imsave('lena_grey_sk.png', sk_img_gray)\n"
   ]
  },
  {
   "cell_type": "markdown",
   "metadata": {},
   "source": [
    "# 影像處理再階一點點"
   ]
  },
  {
   "cell_type": "markdown",
   "metadata": {},
   "source": [
    "## 裁切"
   ]
  },
  {
   "cell_type": "raw",
   "metadata": {},
   "source": [
    "將 lena 的臉裁出來"
   ]
  },
  {
   "cell_type": "code",
   "execution_count": null,
   "metadata": {},
   "outputs": [],
   "source": [
    "px.imshow(pil_img)"
   ]
  },
  {
   "cell_type": "code",
   "execution_count": null,
   "metadata": {},
   "outputs": [],
   "source": [
    "left = 180\n",
    "top = 180\n",
    "right = 400\n",
    "bottom = 400\n",
    "box = (left, top, right, bottom)\n",
    "pil_img.crop(box)"
   ]
  },
  {
   "cell_type": "markdown",
   "metadata": {},
   "source": [
    "## 貼圖\n",
    "將圖片(小)嵌到另一個圖片(大)內"
   ]
  },
  {
   "cell_type": "code",
   "execution_count": null,
   "metadata": {},
   "outputs": [],
   "source": [
    "small = pil_pen.copy()\n",
    "small.thumbnail((50, 50))\n",
    "small"
   ]
  },
  {
   "cell_type": "code",
   "execution_count": null,
   "metadata": {},
   "outputs": [],
   "source": [
    "large = pil_img.copy()"
   ]
  },
  {
   "cell_type": "code",
   "execution_count": null,
   "metadata": {},
   "outputs": [],
   "source": [
    "large.paste(small, box=(160, 160))"
   ]
  },
  {
   "cell_type": "code",
   "execution_count": null,
   "metadata": {
    "scrolled": true
   },
   "outputs": [],
   "source": [
    "px.imshow(large)"
   ]
  },
  {
   "cell_type": "markdown",
   "metadata": {},
   "source": [
    "## 嵌字"
   ]
  },
  {
   "cell_type": "raw",
   "metadata": {},
   "source": [
    "在圖片右上角面嵌字"
   ]
  },
  {
   "cell_type": "code",
   "execution_count": null,
   "metadata": {},
   "outputs": [],
   "source": [
    "from PIL import ImageDraw\n",
    "draw = ImageDraw.Draw(large)\n",
    "draw.text((100, 100), 'lena')\n",
    "large"
   ]
  },
  {
   "cell_type": "markdown",
   "metadata": {},
   "source": [
    "## 圖層操作"
   ]
  },
  {
   "cell_type": "code",
   "execution_count": null,
   "metadata": {
    "scrolled": true
   },
   "outputs": [],
   "source": [
    "!curl -O https://raw.githubusercontent.com/pochangl/2024/main/2024-05-16/colors.png"
   ]
  },
  {
   "cell_type": "code",
   "execution_count": 211,
   "metadata": {},
   "outputs": [
    {
     "data": {
      "image/png": "[encoded data removed]",
      "text/plain": [
       "<PIL.PngImagePlugin.PngImageFile image mode=RGBA size=802x799>"
      ]
     },
     "execution_count": 211,
     "metadata": {},
     "output_type": "execute_result"
    }
   ],
   "source": [
    "colors_pil = Image.open('colors.png')\n",
    "colors_pil"
   ]
  },
  {
   "cell_type": "code",
   "execution_count": 204,
   "metadata": {},
   "outputs": [],
   "source": [
    "colors_cv = cv2.imread('colors.png')"
   ]
  },
  {
   "cell_type": "code",
   "execution_count": 206,
   "metadata": {},
   "outputs": [
    {
     "data": {
      "application/vnd.plotly.v1+json": {
       "config": {
        "plotlyServerURL": "https://plot.ly"
       },
       "data": [
        {
         "hovertemplate": "x: %{x}<br>y: %{y}<br>color: [%{z[0]}, %{z[1]}, %{z[2]}]<extra></extra>",
         "name": "0",
         "source": "data:image/png;base64,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",
         "type": "image",
         "xaxis": "x",
         "yaxis": "y"
        }
       ],
       "layout": {
        "autosize": true,
        "margin": {
         "t": 60
        },
        "template": {
         "data": {
          "bar": [
           {
            "error_x": {
             "color": "#2a3f5f"
            },
            "error_y": {
             "color": "#2a3f5f"
            },
            "marker": {
             "line": {
              "color": "#E5ECF6",
              "width": 0.5
             },
             "pattern": {
              "fillmode": "overlay",
              "size": 10,
              "solidity": 0.2
             }
            },
            "type": "bar"
           }
          ],
          "barpolar": [
           {
            "marker": {
             "line": {
              "color": "#E5ECF6",
              "width": 0.5
             },
             "pattern": {
              "fillmode": "overlay",
              "size": 10,
              "solidity": 0.2
             }
            },
            "type": "barpolar"
           }
          ],
          "carpet": [
           {
            "aaxis": {
             "endlinecolor": "#2a3f5f",
             "gridcolor": "white",
             "linecolor": "white",
             "minorgridcolor": "white",
             "startlinecolor": "#2a3f5f"
            },
            "baxis": {
             "endlinecolor": "#2a3f5f",
             "gridcolor": "white",
             "linecolor": "white",
             "minorgridcolor": "white",
             "startlinecolor": "#2a3f5f"
            },
            "type": "carpet"
           }
          ],
          "choropleth": [
           {
            "colorbar": {
             "outlinewidth": 0,
             "ticks": ""
            },
            "type": "choropleth"
           }
          ],
          "contour": [
           {
            "colorbar": {
             "outlinewidth": 0,
             "ticks": ""
            },
            "colorscale": [
             [
              0,
              "#0d0887"
             ],
             [
              0.1111111111111111,
              "#46039f"
             ],
             [
              0.2222222222222222,
              "#7201a8"
             ],
             [
              0.3333333333333333,
              "#9c179e"
             ],
             [
              0.4444444444444444,
              "#bd3786"
             ],
             [
              0.5555555555555556,
              "#d8576b"
             ],
             [
              0.6666666666666666,
              "#ed7953"
             ],
             [
              0.7777777777777778,
              "#fb9f3a"
             ],
             [
              0.8888888888888888,
              "#fdca26"
             ],
             [
              1,
              "#f0f921"
             ]
            ],
            "type": "contour"
           }
          ],
          "contourcarpet": [
           {
            "colorbar": {
             "outlinewidth": 0,
             "ticks": ""
            },
            "type": "contourcarpet"
           }
          ],
          "heatmap": [
           {
            "colorbar": {
             "outlinewidth": 0,
             "ticks": ""
            },
            "colorscale": [
             [
              0,
              "#0d0887"
             ],
             [
              0.1111111111111111,
              "#46039f"
             ],
             [
              0.2222222222222222,
              "#7201a8"
             ],
             [
              0.3333333333333333,
              "#9c179e"
             ],
             [
              0.4444444444444444,
              "#bd3786"
             ],
             [
              0.5555555555555556,
              "#d8576b"
             ],
             [
              0.6666666666666666,
              "#ed7953"
             ],
             [
              0.7777777777777778,
              "#fb9f3a"
             ],
             [
              0.8888888888888888,
              "#fdca26"
             ],
             [
              1,
              "#f0f921"
             ]
            ],
            "type": "heatmap"
           }
          ],
          "heatmapgl": [
           {
            "colorbar": {
             "outlinewidth": 0,
             "ticks": ""
            },
            "colorscale": [
             [
              0,
              "#0d0887"
             ],
             [
              0.1111111111111111,
              "#46039f"
             ],
             [
              0.2222222222222222,
              "#7201a8"
             ],
             [
              0.3333333333333333,
              "#9c179e"
             ],
             [
              0.4444444444444444,
              "#bd3786"
             ],
             [
              0.5555555555555556,
              "#d8576b"
             ],
             [
              0.6666666666666666,
              "#ed7953"
             ],
             [
              0.7777777777777778,
              "#fb9f3a"
             ],
             [
              0.8888888888888888,
              "#fdca26"
             ],
             [
              1,
              "#f0f921"
             ]
            ],
            "type": "heatmapgl"
           }
          ],
          "histogram": [
           {
            "marker": {
             "pattern": {
              "fillmode": "overlay",
              "size": 10,
              "solidity": 0.2
             }
            },
            "type": "histogram"
           }
          ],
          "histogram2d": [
           {
            "colorbar": {
             "outlinewidth": 0,
             "ticks": ""
            },
            "colorscale": [
             [
              0,
              "#0d0887"
             ],
             [
              0.1111111111111111,
              "#46039f"
             ],
             [
              0.2222222222222222,
              "#7201a8"
             ],
             [
              0.3333333333333333,
              "#9c179e"
             ],
             [
              0.4444444444444444,
              "#bd3786"
             ],
             [
              0.5555555555555556,
              "#d8576b"
             ],
             [
              0.6666666666666666,
              "#ed7953"
             ],
             [
              0.7777777777777778,
              "#fb9f3a"
             ],
             [
              0.8888888888888888,
              "#fdca26"
             ],
             [
              1,
              "#f0f921"
             ]
            ],
            "type": "histogram2d"
           }
          ],
          "histogram2dcontour": [
           {
            "colorbar": {
             "outlinewidth": 0,
             "ticks": ""
            },
            "colorscale": [
             [
              0,
              "#0d0887"
             ],
             [
              0.1111111111111111,
              "#46039f"
             ],
             [
              0.2222222222222222,
              "#7201a8"
             ],
             [
              0.3333333333333333,
              "#9c179e"
             ],
             [
              0.4444444444444444,
              "#bd3786"
             ],
             [
              0.5555555555555556,
              "#d8576b"
             ],
             [
              0.6666666666666666,
              "#ed7953"
             ],
             [
              0.7777777777777778,
              "#fb9f3a"
             ],
             [
              0.8888888888888888,
              "#fdca26"
             ],
             [
              1,
              "#f0f921"
             ]
            ],
            "type": "histogram2dcontour"
           }
          ],
          "mesh3d": [
           {
            "colorbar": {
             "outlinewidth": 0,
             "ticks": ""
            },
            "type": "mesh3d"
           }
          ],
          "parcoords": [
           {
            "line": {
             "colorbar": {
              "outlinewidth": 0,
              "ticks": ""
             }
            },
            "type": "parcoords"
           }
          ],
          "pie": [
           {
            "automargin": true,
            "type": "pie"
           }
          ],
          "scatter": [
           {
            "fillpattern": {
             "fillmode": "overlay",
             "size": 10,
             "solidity": 0.2
            },
            "type": "scatter"
           }
          ],
          "scatter3d": [
           {
            "line": {
             "colorbar": {
              "outlinewidth": 0,
              "ticks": ""
             }
            },
            "marker": {
             "colorbar": {
              "outlinewidth": 0,
              "ticks": ""
             }
            },
            "type": "scatter3d"
           }
          ],
          "scattercarpet": [
           {
            "marker": {
             "colorbar": {
              "outlinewidth": 0,
              "ticks": ""
             }
            },
            "type": "scattercarpet"
           }
          ],
          "scattergeo": [
           {
            "marker": {
             "colorbar": {
              "outlinewidth": 0,
              "ticks": ""
             }
            },
            "type": "scattergeo"
           }
          ],
          "scattergl": [
           {
            "marker": {
             "colorbar": {
              "outlinewidth": 0,
              "ticks": ""
             }
            },
            "type": "scattergl"
           }
          ],
          "scattermapbox": [
           {
            "marker": {
             "colorbar": {
              "outlinewidth": 0,
              "ticks": ""
             }
            },
            "type": "scattermapbox"
           }
          ],
          "scatterpolar": [
           {
            "marker": {
             "colorbar": {
              "outlinewidth": 0,
              "ticks": ""
             }
            },
            "type": "scatterpolar"
           }
          ],
          "scatterpolargl": [
           {
            "marker": {
             "colorbar": {
              "outlinewidth": 0,
              "ticks": ""
             }
            },
            "type": "scatterpolargl"
           }
          ],
          "scatterternary": [
           {
            "marker": {
             "colorbar": {
              "outlinewidth": 0,
              "ticks": ""
             }
            },
            "type": "scatterternary"
           }
          ],
          "surface": [
           {
            "colorbar": {
             "outlinewidth": 0,
             "ticks": ""
            },
            "colorscale": [
             [
              0,
              "#0d0887"
             ],
             [
              0.1111111111111111,
              "#46039f"
             ],
             [
              0.2222222222222222,
              "#7201a8"
             ],
             [
              0.3333333333333333,
              "#9c179e"
             ],
             [
              0.4444444444444444,
              "#bd3786"
             ],
             [
              0.5555555555555556,
              "#d8576b"
             ],
             [
              0.6666666666666666,
              "#ed7953"
             ],
             [
              0.7777777777777778,
              "#fb9f3a"
             ],
             [
              0.8888888888888888,
              "#fdca26"
             ],
             [
              1,
              "#f0f921"
             ]
            ],
            "type": "surface"
           }
          ],
          "table": [
           {
            "cells": {
             "fill": {
              "color": "#EBF0F8"
             },
             "line": {
              "color": "white"
             }
            },
            "header": {
             "fill": {
              "color": "#C8D4E3"
             },
             "line": {
              "color": "white"
             }
            },
            "type": "table"
           }
          ]
         },
         "layout": {
          "annotationdefaults": {
           "arrowcolor": "#2a3f5f",
           "arrowhead": 0,
           "arrowwidth": 1
          },
          "autotypenumbers": "strict",
          "coloraxis": {
           "colorbar": {
            "outlinewidth": 0,
            "ticks": ""
           }
          },
          "colorscale": {
           "diverging": [
            [
             0,
             "#8e0152"
            ],
            [
             0.1,
             "#c51b7d"
            ],
            [
             0.2,
             "#de77ae"
            ],
            [
             0.3,
             "#f1b6da"
            ],
            [
             0.4,
             "#fde0ef"
            ],
            [
             0.5,
             "#f7f7f7"
            ],
            [
             0.6,
             "#e6f5d0"
            ],
            [
             0.7,
             "#b8e186"
            ],
            [
             0.8,
             "#7fbc41"
            ],
            [
             0.9,
             "#4d9221"
            ],
            [
             1,
             "#276419"
            ]
           ],
           "sequential": [
            [
             0,
             "#0d0887"
            ],
            [
             0.1111111111111111,
             "#46039f"
            ],
            [
             0.2222222222222222,
             "#7201a8"
            ],
            [
             0.3333333333333333,
             "#9c179e"
            ],
            [
             0.4444444444444444,
             "#bd3786"
            ],
            [
             0.5555555555555556,
             "#d8576b"
            ],
            [
             0.6666666666666666,
             "#ed7953"
            ],
            [
             0.7777777777777778,
             "#fb9f3a"
            ],
            [
             0.8888888888888888,
             "#fdca26"
            ],
            [
             1,
             "#f0f921"
            ]
           ],
           "sequentialminus": [
            [
             0,
             "#0d0887"
            ],
            [
             0.1111111111111111,
             "#46039f"
            ],
            [
             0.2222222222222222,
             "#7201a8"
            ],
            [
             0.3333333333333333,
             "#9c179e"
            ],
            [
             0.4444444444444444,
             "#bd3786"
            ],
            [
             0.5555555555555556,
             "#d8576b"
            ],
            [
             0.6666666666666666,
             "#ed7953"
            ],
            [
             0.7777777777777778,
             "#fb9f3a"
            ],
            [
             0.8888888888888888,
             "#fdca26"
            ],
            [
             1,
             "#f0f921"
            ]
           ]
          },
          "colorway": [
           "#636efa",
           "#EF553B",
           "#00cc96",
           "#ab63fa",
           "#FFA15A",
           "#19d3f3",
           "#FF6692",
           "#B6E880",
           "#FF97FF",
           "#FECB52"
          ],
          "font": {
           "color": "#2a3f5f"
          },
          "geo": {
           "bgcolor": "white",
           "lakecolor": "white",
           "landcolor": "#E5ECF6",
           "showlakes": true,
           "showland": true,
           "subunitcolor": "white"
          },
          "hoverlabel": {
           "align": "left"
          },
          "hovermode": "closest",
          "mapbox": {
           "style": "light"
          },
          "paper_bgcolor": "white",
          "plot_bgcolor": "#E5ECF6",
          "polar": {
           "angularaxis": {
            "gridcolor": "white",
            "linecolor": "white",
            "ticks": ""
           },
           "bgcolor": "#E5ECF6",
           "radialaxis": {
            "gridcolor": "white",
            "linecolor": "white",
            "ticks": ""
           }
          },
          "scene": {
           "xaxis": {
            "backgroundcolor": "#E5ECF6",
            "gridcolor": "white",
            "gridwidth": 2,
            "linecolor": "white",
            "showbackground": true,
            "ticks": "",
            "zerolinecolor": "white"
           },
           "yaxis": {
            "backgroundcolor": "#E5ECF6",
            "gridcolor": "white",
            "gridwidth": 2,
            "linecolor": "white",
            "showbackground": true,
            "ticks": "",
            "zerolinecolor": "white"
           },
           "zaxis": {
            "backgroundcolor": "#E5ECF6",
            "gridcolor": "white",
            "gridwidth": 2,
            "linecolor": "white",
            "showbackground": true,
            "ticks": "",
            "zerolinecolor": "white"
           }
          },
          "shapedefaults": {
           "line": {
            "color": "#2a3f5f"
           }
          },
          "ternary": {
           "aaxis": {
            "gridcolor": "white",
            "linecolor": "white",
            "ticks": ""
           },
           "baxis": {
            "gridcolor": "white",
            "linecolor": "white",
            "ticks": ""
           },
           "bgcolor": "#E5ECF6",
           "caxis": {
            "gridcolor": "white",
            "linecolor": "white",
            "ticks": ""
           }
          },
          "title": {
           "x": 0.05
          },
          "xaxis": {
           "automargin": true,
           "gridcolor": "white",
           "linecolor": "white",
           "ticks": "",
           "title": {
            "standoff": 15
           },
           "zerolinecolor": "white",
           "zerolinewidth": 2
          },
          "yaxis": {
           "automargin": true,
           "gridcolor": "white",
           "linecolor": "white",
           "ticks": "",
           "title": {
            "standoff": 15
           },
           "zerolinecolor": "white",
           "zerolinewidth": 2
          }
         }
        },
        "xaxis": {
         "anchor": "y",
         "autorange": true,
         "domain": [
          0.058347934918648314,
          0.9416520650813517
         ],
         "range": [
          -0.5,
          801.5
         ]
        },
        "yaxis": {
         "anchor": "x",
         "autorange": true,
         "domain": [
          0,
          1
         ],
         "range": [
          798.5,
          -0.5
         ]
        }
       }
      },
      "text/html": [
       "<div>                            <div id=\"fe9f9a70-1ce9-48ac-b416-1cb23affa7a3\" class=\"plotly-graph-div\" style=\"height:525px; width:100%;\"></div>            <script type=\"text/javascript\">                require([\"plotly\"], function(Plotly) {                    window.PLOTLYENV=window.PLOTLYENV || {};                                    if (document.getElementById(\"fe9f9a70-1ce9-48ac-b416-1cb23affa7a3\")) {                    Plotly.newPlot(                        \"fe9f9a70-1ce9-48ac-b416-1cb23affa7a3\",                        [{\"name\":\"0\",\"source\":\"data:image\\u002fpng;base64,iVBORw0KGgoAAAANSUhEUgAAAyIAAAMfCAIAAACly\\u002fR6AAB8B0lEQVR4Xuzdd5geVeE24Huz6QmE3nvvKFURkS6goCIoICpiL6BYUUQFVCzgJ3b9gQgWsKCggIoIiKIiRem9h94ChPTsfn\\u002fExXBINtt33pnnvnJ5hee8oJKdd545c+YMERERERERERERERERERERERERERERERERERERERERERERERERERERERFRZzvvvHMZRUREREQ\\u002fHXDAAVdeeeWuu+5aDkREREREn+28885XdknTioiIiBhIu+++e5pWRERExKDYbbfd0rQiIiIiBkWaVkRERMRgeWHT2nXXXdvKT0VERERE7+22227HH3\\u002f8vN\\u002f\\u002f9Kc\\u002ffdOb3pSaFRERETEw5m9aSM2KiAoYyThGMZqRjKWdMYxkxHyfaZ\\u002fvb5nLnK7fdzCHmcxlBnOYxWymz\\u002feZiIgh8eEPf\\u002figgw6a9\\u002fuRzx+KiBgEY1maZVmKpVmCxZjY9Z8TGN1VqkYxktG0d\\u002f3+uYvB+SuXrmo1TydzmM1cZnX9fl7xmsWzTOWZrv98kid4gkd5nBnz\\u002fTMjIvpn1113fa5jyWxWRAykEazOGqzB6qzKaizP+Pkq1Lxf7Yygves3g\\u002fdV1EkHc5nb9Zs5Xb\\u002fmVbFneYR7uY97uJu7uYeO8p8UEdG9XXfd9Utf+tK8389bm5XZrIjosbauhjTvP8exPhuzIRuyASsNZmHqm7auMtcrndzPzdzEzVzPrV23IOcVtbl0ln9TRDTZ\\u002fB3ryCOPvPDCC6+77rqqfSNGRJWMYHGWZBKLsyzrsj7rsjbL9r6+tK65PMId3MYt3MajPM3TPMnTmf2KaLQXdqx5v0\\u002fNiojnG9N1s28lVmEt1mBlVmTS81dHNVkHT\\u002fEAD3A39\\u002fIQD3Iv9\\u002fB0+fGIqLGFdSypWREBo3kRL2IzVmfZroXqkxhVfDQWZC5TmcITPMLtXMt\\u002f+A+zio9GRK1007EiosFG8BI+yfncz5M8y2w686vfv2bzLE9yP+dxJNtmIjCihnbeeee8YyciGMUkVuBFHMaveeoF5SC\\u002fBvXXs1zIp9mWFTJTGFETBx54YDcdKzcNI2ptMVZjZTZhW17Mmtkvb7jN5i7+zb+4iQeZzGPlpyKiVey8884XXXRRmSI1K6KGRrASL2JT1mED1mPpHO7V08lT3MktXNe1nOvBPLQYUR\\u002f53o2okaXZg13YlBVYhrHlR6KiZvAoD3M7f+GP3FV+JCJaTmpWROubxN68me0Y07WverSozq5XBl3NLzmDR8uPRESrSM2KaEHtLMnSvIL92J5x5UeiJqZzKb\\u002fibzzJ43kZdkQrSc2KaB1trMKGrMf27MAKOYiboZPH+Sd\\u002f5kZu5H46y09FRNXkGzqiFYxhG3ZmGzZh5Sa95SbmN5f7uZ5\\u002f8zf+wvTyIxFRHalZEdW2Nq\\u002fltazOMrk5GF1m8jj38CfO4tpyPCIiIhakjTHsxgXMeMEul\\u002fmVX8WvGfyBXRibpx8iqiWzWRGV0c4yrMLOHMymOUCjl+7kp5zL\\u002fTycxfIRwy\\u002ff4hEVMILN2I4d2Illc2hGPzzBZfyZy7kyZStiOOW7PGJYLc4OvJqt2IAJ5XhEH03ndq7gT\\u002fyJx8vxiBgCqVkRw6SdN\\u002fFONmSJPDkYg2MuT3MrP+F7mdmKGGqpWRFDqI3RLM3BfJIlyvGIQfQM3+AHPMJMOsvxiBhwqVkRQ2V5NmJPDmTlHHwxTB7mN\\u002fyam5hcDkbEwMo3fcQga2MNdmVndmL5cjxiGDzG3ziPC7knM1sRgyU1K2IwLc2h7MMmuUUY1TOF6\\u002fkTP+ChcjAi+i81K2JwLMn7eS9LMzqHWlRVJ7N5gp\\u002fwFR4txyOiP\\u002fLdHzGgRrMKB\\u002fIBVigHIyrtQb7Fz5nMzHIwIvogNStigIxjA3bjzWycYyta1u38iAu5jmnlYET0Sk4FEf02ihezL7vzohxVUQs3cj6\\u002f4UpmlYMR0UM5IUT0zyp8gt1ZnTHlYEQLm8W9\\u002fJHjub8cjIieSM2K6KuJHMGRjGVEORhREx3M4tt8ninlYER0LzUropfaWIWd+Dgb5RiKZujkDr7CH5icfbYieiqniIjeWIUdOZTtGVUORtTcbP7KD\\u002fkr95aDEfFCqVkRPbMYe3EAuzGhHIxokKlcwpmcy1PlYETMLzUrogc25nPsyFJZhhVBB0\\u002fyN47h3+VgRBN85CMfWX\\u002f99YvwlltuOfHEE+dPRs7\\u002fFxHxPG1M5PO8n\\u002fZyMKK5RrA0r+HVnMRneTYLtqJZ1l9\\u002f\\u002fS222KJMXyA1K2JB2lienfk4m2XaN2Ih2jmCPfgqv+eRlK1olqlTp956663P\\u002feUtt9wy3yCpWRELMIZXcjB7sFg5GBHP08ZGfIPz+Tl\\u002fYHr5kYi6uvXWW9\\u002f1rneV6XxSsyKebwvewx6sWo5ExEItxhvZnvP4XhZsRfxXVvNGdBnHO\\u002fgZb0vHiuiTlTmUM3kf48vBiAZKzYpgFCtxJt9n\\u002fUzyRvTDSNbjW5zFSowuxyMaJeeTaLZ21mAfjmLpcjAi+qiNPbier\\u002fEz7mFu+ZGIljZvtfsL17wX8gBVNNg49uJdvCJvfY4YHDO5hNP4Lc+WgxG1l5oVTbU0x7APK+fmecRg6uQhfsdneLgcjKi31KxopFfyHVbLbfOIoTKHB\\u002fgwZ5UjETWWmhVNMoJVOJx3M7EcjIhB9wzf51vcR0c5GFE\\u002fqVnRGKPYjQ+xc96cEzF85vJ3vsoFzCwHI2omNSuaYU3ezluyIVZENTzA6ZzC7eVIRJ2kZkXdjeAVHMX2eZwwokpm8Q++wJ9zAzFqKzUram0U7+UYJuWHPaJ6OpnC0XyfOeVgRJV95CMfWX\\u002f99W+55ZYTTzyxHJtPnrOKmmpnNT7LW1KwIqqqjSX5JjvzsexiGq1k\\u002ffXX32KLLcr0BbJfUNTR4ryWX\\u002fHWdKyIymtjX37N65lUDka0tNSsqJ3l+RRf58XlSERU12b8Pz7JcuVIROtKzYp6WY2fchirZB4roqW0sRKH8XPWLAcjWlTWZkVdtLMLv2TxciQiWsZ4duRa3sgfs1Qrqm699db7wQ9+8NxfvnBFfGpWtL42luUQjkzHiqiFifyM\\u002f8f3eITOcjyiIiZOnNj9QvjUrGh9m3EEr8\\u002f7cyJqZBIfY21O4NpyMGLY3XLLLWW0oDCrV6LF7c2n2SKXDBF1NIer+AK\\u002fK0ciWkJqVrSsNj7AZ1imHImIWnmML\\u002fL13D2M1pOaFS2ojSX4KB9kQjkYETU0jW\\u002fyFZ5M2YpWkpoVLWgTPsxBeUdhRJPM4gy+wo3lSERlpWZFq9mNT\\u002fPy\\u002fPBGNE8Hl\\u002fJl\\u002flCORFRTzlTROkZwMEexXjkSEQ1yO1\\u002fgdDrKkYiqSc2KFjGG93JUFrxHBI\\u002fxeb7HzHIkolJSs6IVLMUHOJJx5UhENNQMvsrXeaIciaiO1KyovLX4NG+hvRyJiEabw484gXJLyIiqSM2KatuWo9i7jCMi\\u002fusCPsc\\u002fyjiiClKzosK258tsm3msiFi4uVzBx\\u002flrORIx7FKzoqq25gzWLuOIiAW4mwP5ZxlHDK\\u002fUrKie0ezEaSxfjkRELNRDvIVL8\\u002fhhVMiIMogYXhN5Cz9Px4qIXlqBX3EIi5UjEcMls1lRJZN4Fx9luXIkIqJHHuVEvs+UciRi6KVmRWVM4EN8hCXLkYiIXpjC\\u002f+NrTC1HIoZYalZUw0iO4jO5jx0RA6GDL3IMc8qRiKGUmhUVsBxH8qH8PEbEwOnkBE7gkXIkYsjktBbDbTWO5F3ZHCsiBtpcfsCXuacciRgauUMTw2plPpUX6UTE4GjnrXyaVcuRiKGR2awYPpM4kYMZU45ERAyYmfycD+bZwxgGqVkxTCbwHd5SxhERg+JHfIBnyzhiUI0sg4ghsDKfT8eKiCF0CB18hvvLkYiBdfDBB3\\u002foQx+a9\\u002fvUrBhyq3I0byrjiIjB9Wbm8oWsiI\\u002fBtfrqqz\\u002f3+yyBj6G1AkdyEKPKkYiIwTWKg\\u002fgkK5YjEX223Xbb7bnnnvMn89eszGbFEBrbtXdDfu4iYlhM4FCm8SlmlIMRvbXFFluccMIJo0eP3nLLLb\\u002fyla\\u002fMmjVrpZVWWnfddZ\\u002f7QJbAx1AZz1F8Mj90ETHcOjmOr2RFfPTLpptu+t3vfnfs2LHz\\u002fvLee++dMWPGeuutN\\u002f9nMqsQQ2IJPsCR6VgRUQFtfJpOvp5dHqLvFltssec6FlZbbbX5Bv8ra7Ni8C3Ge\\u002fhYftwiojJGcATvY\\u002fFyJKKH\\u002fv73v\\u002f\\u002f4xz8u0+fL3EIMsrEcymdZrhyJiBhmj3EMJ2edVvRRe3v7L37xi\\u002fnXvBdy0zAGUxu7c3yuFyOikpbh89zJ7+ksByMWadKkSUsuuWQRTp48+ZJLLnniiSeWXnrp1KwYTFvzg3SsiKiwSfyI1\\u002fCPciRikXbZZZfFF3\\u002feSe73v\\u002f\\u002f90Ucf\\u002fdxf5qZhDJqXczprlHFEROXcy5u5tIwjFugVr3jFOuuss\\u002frqq2+77bZLL730c\\u002fk999zz+te\\u002ffr4P5qZhDJKXckI6VkS0iNU4gQ\\u002fx93Ik4oVOPPHEMgJnnnlmkeTRrxgEG3MsW5ZxRER1bcFn2aCMI3ruvvvuK5LUrBhoy\\u002fEpdqW9HImIqK52dudIli1HInpo+eWXL5LUrBhQYzmcN5ZxRERreDNH8L8tJyMW4IwzzvjXv\\u002f71yCOPFPnrXve6IskS+Bg4I\\u002fkgn883VES0shl8mq8ztxyJKOy2227HH3\\u002f8\\u002fMl555332c9+9rm\\u002fTM2KgfNOvsqkMo6IaDFP8XF+UMYRhTFjxpx11lkrrLDC\\u002fOGtt976ne9859prr918881Ts2KAvIpvsFYZR0S0pLv5IL8t44j5tbe3n3HGGWuttdCTX9ZmRb+18WKOTseKiBpZgyN5Ue76RHcOP\\u002fzwbjqW1KwYAMvxUbYp44iI1vYSPkH56FjEf2233XZvetObyvT5UrOif0bwMfbLBV9E1E4br+cT2Z4mFuyZZ56ZMeN\\u002fbx1\\u002f+OGHp06dOt84qVnRXx\\u002flvYwu44iIOhjFu\\u002fl4GUfguuuuO\\u002fzww2fNmoVf\\u002f\\u002frXr3vd63bffff3vve9M2fOfO4zmYKIfngj38+jhRFRd0\\u002fxds4q4wi87GUvmzBhwgUXXPBccsopp2y++ebzfp93GkaftLE1R6VjRUQDTOJo7uZqOsvBaLjLLrusSO6+++7nalZuGkafrMxH2aiMIyLqaRM+zsplHPFCd99993O\\u002fz03D6L0xfIYPMb4ciYiorWl8jc\\u002fzv4U3EYuQ2azovX14fzpWRDTMeD7Aa8s4ohuZzYpeWodrGVfGERGNMI1NubOMIxYos1nRGyvxs3SsiGiw8fyUFcs4YoFSs6LHluZTbFbGERHN8mI+yVJlHPFCqVnRM6PYm\\u002f0ZU45ERDTLGN7APowqRyIKWZsVPbMxv2DD\\u002fMhERNDJjbyRG8qRiPllNit6YCzHs1E6VkQEaGNjjmVsORIxv9SsWJSRfIhXl3FERNO9jiPyYunoTmYnYlH24YzskhURsSDPcgDnlnHEPJnNim5tzKfTsSIiFmICR7NhGUfMk5oVCzee9\\u002fKiMo6IiP95MYcxoYwjpGbFQrWzD2\\u002fIE8sREd0axf7snTNqLEB+KGIh1udDLFvGERFRWobDWb+MI1KzYiE+yNZlFhERC7YtH8pzZVFKzYoFOZiD89MREdFjIziYA8o4Gi7FO15gJa7L67oiInrvCTZnchlHY2W+Ip5vAieyZBlHRMSiLcmX89Rh\\u002fE9qVsxnJAewa2Y5IyL6pI3deGOe0Y7\\u002fSs2K+WzIoSxdxhER0VPL8PY8dRj\\u002flZoVXSZwMFtnKisioh\\u002fa2IqD8v6MIGfU+J\\u002fN+Xu+FyIiBsKzvJTryjiaJrNZARbnW+lYEREDZALfYLEyjqZJzQrwAbYvs4iI6Lsd+UBuGjVdalbwct5fZhER0V+HsV2ZRaOkZjXeYnyQFco4IiL6a3mOYPEyjuZIzWq2Nl7PK\\u002fKDEBExCEawA6\\u002fLrcPmytm12dbkIJYp44iIGBjLchBrlHE0RGpWg43iNVn5HhExyF7OPtkXvqEyj9lga3ARa5ZxREQMsDvYmXvLOGovs1kN9sXMY0dEDIm1OLbMogkym9VUO3BJ\\u002fvwjIoZKJzvxlzKOestsViMtzbHpWBERQ6iNY1mqjKPeUrMa6Y1sWWYRETG4XswbyizqLTWreTbkjUwo44iIGFwTOYD1yzhqLDWrYdrZg21zxzAiYsi18RL2oL0cibpKzWqYDTiYMWUcERFDYQwHs14ZR12lZjXJCF7Ni8o4IiKGzot5dU6\\u002fTZFbR02yKn9jtTKOiIghdTfbc38ZR\\u002f2kTjfJ0elYEREVsAafKrOopcxmNcbGXJc\\u002f8IiIauhkM64v46iZzGY1wzg+l44VEVEZbRzF2DKOmknNaoad2L7MIiJiOL2CV5RZ1ExqVgMsyf4sU8YRETGclmV\\u002flijjqJPUrAbYmp0YWcYRETGcRrIzW5Vx1ElqVt0txl6sXsYRETH81mQvFivjqI3UrLpbn\\u002f3KLCIiquL1ecthnaVm1d1bWLnMIiKiKlbjzWUWtZFH\\u002fGttLa7K+sqIiGp7ki24u4yjBjKbVWufSceKiKi8JbMpfG1lNqu+1uU6xpRxRERUzkw25o4yjlaX2ayaauf9jCrjiIioolG8j\\u002fYyjlaXmlVTm7Br\\u002fngjIlrECHZnozKOVpfzcB2N4NWsVcYREVFda\\u002fHqrOWpm9SsOlqXXRlXxhERUV3j2ZV1yjhaWmpW7Yxgi7y9ISKiBW3Nljkz10r+MGtnEq9jYhlHRETVLcZrWLyMo3WlZtXOeuxWZhER0RpeyXplFq0rNat23pEtSSMiWtaSHFpm0brySEO9LMlDjC7jiIhoGTNZjqfLOFpRZrPq5RPpWBERLW4MnyizaFGpWTWyAm8ss4iIaD0HslyZRStKzaqR17JCmUVEROtZkdeUWbSi1Ky6GM+r8qLoiIhaGMM+TCjjaDmpWXWxA5vkkYaIiFpoY2NeVsbRclKzamEML2eVMo6IiFa1CjvkHkXLS82qhTXYgZFlHBERrWoU27N6GUdrSc1qfW2sz4vLOCIiWtuWrJfVIK0tNav1jWXvrJSMiKidibyKsWUcLSQ1q\\u002fUtwavLLCIi6mAfJpVZtJDUrNb3mmyXFRFRUyvlQrq15ZZvi2vj32xexhERURNXsxWdZRwtIbNZLW47NimziIioj83ZpsyiVaRmtbi30l5mERFRH+0cUmbRKlKzWtmS7FpmERFRN7uzRJlFS0jNamWvYqkyi4iIulmaPcssWkJqVssazU5MLOOIiKibiezMqDKO6kvNalkbsFkWZkVENEA7m7FeGUf1pWa1rBexTplFREQ9rZOXqrWk1KzWNIHNsyIyIqIxlmLzvFet9aRmtaaV2K7MIiKizl7KimUWFZea1ZpWYdMyi4iIOtucVcssKi41qwW1s3umjiMiGmbe84Z58qmlpGa1oJF5k2hERCO9mpFlFlWWmtWC1mGjMouIiPrblDXLLKosNasFvTV\\u002fbhERjdTOm8ssqqytDKLi2rgjVzMREU11RzZNbCWZFWk1L2aNMouIiKZYi83KLCorNavV7J0pyIiIBmtj7zKLykrNailj2bnMIiKiWXZhTJlFNaVmtZQNWb3MIiKiWdbMa6RbRmpWS9km7zGMiGi8SWxTZlFNqVktZVMWK7OIiGiWxXlRmUU1pWa1jjVYL39iERGN1846eb9ha8hJu3WsxVplFhERTbQWa5dZVFBqVotoY01WLuOIiGiiVVkz+\\u002fu0gNSsFrEYmzO2jCMioonGsRkTyziqJjWrRSzBFmUWERHN9eI8e94CUrNaxBJsWGYREdFcGzOpzKJqUrNaxAYsVWYREdFcy2ST0haQmtUidiqDiIhouh3LIKomNatF7FAGERHRdDk1VF4eBm0FS\\u002fBE\\u002fqwiIuL5OpjE1DKO6shsVivYOx0rIiJeYASvKrOolNSsVrBbGURERMDuZRCVkprVCl5RBhEREeQBqapLzaq81VmxzCIiImCVvIet0lKzKm+b\\u002fClFRMRCjGDbMovqyAm88rbK+veIiFiINrYqs6iO1KxqG8Gm+VOKiIiFGMFmuRqvrpzAq23FLMyKiIhurcQKZRYVkZpVbevkzaAREdGtSaxTZlERqVnVtiaLl1lERMT\\u002fLM6aZRYVkZpVbauzWJlFRET8z2KsUWZREalZFTaBVRhdxhEREf8zmlUYX8ZRBalZFbYsq5ZZRETE87SxCsuWcVRBalaFLZvHDCMiogdWSs2qqNSsClsqz+hGREQPLM9SZRZVkJpVVW0sncMmIiJ6YN75IpuUVk9qVlWNZjVGlnFERERpFKsxqoxj2KVmVdWYbDcXERE9tjZjyyyGXWpWVY1hrTKLiIhYsLUYU2Yx7FKzqmpMdvWNiIgeS82qpNSsqhrHSmUWERGxYCvnpmEVpWZV1erZ\\u002fz0iInpsDKuUWQy71Kyq2qAMIiIiurNhGcSwS82qqvXLICIiojs5cVRP9mWqqnXLIAZDG6MZzUjaGNl15THiBRvQdDKHDtDBbDqZzUzm0vn8D0fUy0jGMIo2Rs13lMw7buY3e76jZE7XUTKr64iJQZYTR\\u002fWkZlXVemUQvTWeJViCSUxicRZnPGMZy\\u002fiu88ZoxjC6q2a1Y1E1a27XSWMW05nT9ZsZzORZpvMUT\\u002fMUTzGFKcx63j8vogpGseR8R8m8A2UcExjTdaCMZBTjumrW6PmOkm5q1nNHybyLkXlNaybTmMEMnuXpFxwl05\\u002f3D4veSs2qnuzMX0ntTH\\u002fBeT4WYnFWZzVWYRVWZnmW6CpP836N6mpU7V2\\u002f5jWqgToAOpjb9WsOc5g931X8vJPMDJ7gQe5nMvdxL5NzYomhMI5V5ztKVmEFlmLsfEfJcwfKyK7jY96vgVpb0tl1fDx3oMx\\u002flMzqOkqm8Aj3dR0o93IPz5T\\u002fsFigmYzLvGG1ZDarktZMx1qwNtblRWzOhqzN2oyfb3S4jFjQBFg3nvsa7OBJ7uR2ruc\\u002fXM0j+Z6MvmtjObbkRWzMOqzFkvO1peE6UNq6ClzPPXccTON27uAmruU\\u002f3JajZAHGsBr3lHEMo+E63qJbr+QPZdYQbV13LCYykRVYj\\u002fVZh7VZvRnb7z3TVbxu41Zu5lmeYSrPMq38eDTQaBZjAouxGBuyHut1laqJ5cdraAb3cAe3cwu38WjXITLvP+fdu2yeXflzmcUw6tWFRQyVtcug3iayIiuwPMuyKmuyBmuxzMDdsWghi7E5m8+XPM7t3Mnd3MXDPMyDPMCc+T4W9TWSlboOlOVYnnVZnbVYuZFHyVjWn+\\u002fJuk6e5m7u4S5um+8oeZBn5\\u002fsb627t1KxqSc2qpDXLoH7GsxEbdN37W5HlWIYl8kO5IEuzNNuC2TzGozzCg9zHTVzDrcws\\u002frZobaNYi01Yn\\u002fVYmeVYlmV6c4O6IdqYNN\\u002flyRymdB0lD3Eft3Md\\u002f67\\u002fYsgGnD5aS85olbRGGdTDaF7KdryE9ZjIBMZ3PeUXPTSKFVkRXU87TmMqj3Mtl3MZN+XBxlY1mo26jpJNWbLrKBmXo6Q3RrIMy3Tt1zmbaTzLU9zCP\\u002fkH\\u002f2B28bfVQWpWxeS4raSr2KLMWk5713rX1dmT3diJ0eWnYlA8yT+5gLN5pOvhx6auVamyEV1HySR255W8Im8zHSpzuJJzOY\\u002fbmd31\\u002fGOL+1fXvHdUQ2pW9YxgctdkRQtaluVYmk15CVuzbiNXjlTEHG7jCi7hlq6bKE\\u002fnGa3h1MbiLM8yrMH2bMeGuQYZPp1M5mr+zr94hEd4rPxUq3iAVXKEV0hqVvVM4m6WKOMqG8kqbMgGvJhNWacZDzu1lie6VnHdyG3cxH3lR2JQLdu1HHHeEqINWar8SAyzZ7pWcV3LndzIXS12B\\u002f5JVs9GYxWSmlU963Ili5dxBbWxIduxLRuyMitnaW4rmMZDTOYGLucS7s3V72BpY3m2Ywc2ZhVWYrF891benK5dUm\\u002fjSv7Ola1xlDzFltxRxjFccqhXz8v4Q6XngtpYj4N4Fat1vb6mvfxUtIA5XS89uZ6z+Q33lx+JPluF1\\u002fFaNupaw55rkFbUwQymcxfn8VNur3Tfmspu\\u002fLOMY7ikZlXPa\\u002fjZfFubV8NoxrMCe3MQm+dHp46mczk\\u002f59yuHR7r+CDW4BnJeCayAwezIxPKj0TL6+RmzuKXTO56RWOVTOMAflfGMVxyrqyed\\u002fBNxpbxsBjHaqzBFuzEtq1xMzP6ayp\\u002f5QKu5m7uLcejsDqrsyG7smuLrayMPprGNVzMpdzFfVXZkWsG7+PUMo7hMrIMYtgtW4kH85bj5WzHlmye80bDTGRPducBruFKruIKHi4\\u002f2HBLsgUv5SVszoq5ed4k43kpL+W9XMuV\\u002fIu\\u002f8UD5wSE2gmXKLIZRalb1LDmcNWsk27I\\u002f27I6y+ZHpMHaWZVV2YMHuZNL+S1Xlh9soPXYl51Zm1Wz6KrZluQVvIzHuJfr+AWXDNvziW15gLVactOwer7P24fhqngib+dtrMuYYfjvj6rrZC6z+Q\\u002f\\u002fx695qvxI7U1gD97PtoxiZL5C4wU6mMm9nMnXmVKOD7a5\\u002fID3lXEMl3xHVM8ZvGGIJrRGszRbcAh7M6Ycj1ioB\\u002fklp\\u002fIgT9R5sfxIlmBl3s5+LbxxcAyDGfyOU7mWx4bopaMdnMHBZRzDJTWren7Hq8tswC3LZryYvdmmKgvuo\\u002fXM4C+cy9VcV7c9EcezIVuyB6+s3NO\\u002f0TJmcg1ncxU3DPquKZ38jteUcQyXLLypmJGDO6fUzlrswcvZmtWGaNYsamssr2RH7uAK\\u002fs4F3F1+quUsz268gi3ZgHHleEQvjGEbtuJ+\\u002fs2l\\u002fJGbmFt+cEC0de1kODj\\u002f+OitzGZVzCTOZscyHhBb8y5exsrZhToGQSdPcQ\\u002fncQp3luMtYS3ewStZjaVyGRIDrZNnuZ9L+cFgPU9yMfswtYxjWORUWzEr8SteWsb90cZLOY6dy5GIwTKds\\u002fkID1V6w+zntLEUX+Dg7CkaQ+gffJY\\u002f01GO9MffeT0PlXEMi1yrVcy4AXs2fCxrsR9\\u002f5uJ0rBha4ziQyZzNa1mtogsU2lmZV3I6D\\u002fHudKwYWi\\u002flPC7jTaw3YD9+o7KSsEIq+dXXZGMGYCuFxdial\\u002fFqtkqVjuEzgn3YmX9xDpfxn6qsGGnnxby0a6XiYuV4xBAZxUvYluv5LX\\u002fmyv4+TDKS0WUWwyU1q2JG9+vPpI3deSPbs2a\\u002f\\u002fkkRA2YiO\\u002fMybuASfsFVzCk\\u002fNWTa2ZQD2J2NczqKamhjUzbkDfydszmn7\\u002ffb2\\u002fNzXSE5EVfM6D7OZo1gFz7OZiyVP9eonjFswSa8gYv5IjeXHxkCa\\u002fEx9mSFwX2mN6IvRrIua\\u002fEqPshJ\\u002fK4v87\\u002ft+emukNxQqpgxvatIbYxnOy7gPHZlud79AyKG1GhW4c3cwK\\u002fYjDGD\\u002fiROG2PYkJO5lfewes5CUWHtLMOO\\u002fJJL2YXxvTtKctOwSnJGrphRPZ3NamdFtuTd7Dpg6+YjhsgIXs\\u002fOnMUvuJrHy48MiCXZkgN4fV6AHq1mJNtxPhfyA67m\\u002fh49k5ibhlWSmlUxPbtpuCx78Vp2zwMl0cqW5B3sw\\u002fmcx0U8UX6kz5bg5ezDq\\u002fKGnGhlo9mLnbiQczhv0Vs1pGZVSWpWxYxcRM0azRt4E1uyTO\\u002fmkSMqajkO4ZVcxqn8ub\\u002fvfhvN9hzKy1mtHIxoSeN4NS\\u002fjAH7F6UwvP\\u002fKc9pzbKyRrsyqmfaHVaQS7cgnf5ZUsu9APRrSkFdmXn\\u002fFLNiwHe25NfspZHJCOFfXSxlLswte4lH0WelHelnN7heSPomLaFtCeJrAV53I+L2XiAj4SUQcjmMTeXM\\u002f32LAXLzUfzQZ8n9vZjyUWegaKaG1tjGcrfsk5bMnEBXwk5\\u002fbKyMRixTx\\u002fNmsim3EwB2f\\u002fxGiSEbyLPTmZc\\u002fnPInYQ2oS9eCdr5xokGmM0r2InzuBHXMdT\\u002fx1JzaqS1KyKGfHf00Q7m3Ig+7JO+aGI+mtjNT7Da\\u002fkF5yx4n6012Zd92SbfZtFI43k7u3A2P\\u002fnvexZGZDK3QvLFVDEjaLM4H2J\\u002f1unFTZOIGhrJFmzI6ziVM\\u002f93wb4Y+3EoW+Rx22i8NXgvr+RcvqTticxmVUf+KKqlbaTXt7uOo9kkHSsCjGMbvskFbAObcQ7f52XpWBHo2oP3w1yn\\u002fRCjMp1VFalZVTGKbfhJh9M6rJZpxojna2OUMdtY6\\u002fwp3\\u002f3ulIvWsdMYo7ISK+L52llJx7d0nM422T6rCnI2r4RVeB2Hs3ZHzhsRLzRvpdY+vHPpJTZ+lxGv4Af8hnsXsTo+onk6x5t7IC\\u002flG\\u002fyWO8sPxBBKzRpmo9iNd7LnvLesdfToVQoRTdLOG3kzL5v3xO0INuRYducn\\u002fLwvL9eNqK\\u002fONh1Yky+zO9\\u002flj8wqPxZDIjVrOC3LRziIlZ+7fduRa\\u002fOI+b2IT7HjC996sBh7sBWv5Yv8Z\\u002f6xiCb73+X6aF7JpvyUE3js+Z+LoZC1WcOjjRX5LZ9g1fn\\u002fGFKzIv5rAodzAfsv7K0HbSzL\\u002flzAB7IYPmKezvnvioxgFT7BH1h1gcdRDKrUrKHWxvK8j5t5STmYmhWB8byIH\\u002fE1li0HF2RZTuJXbMGEcjCiYToXeB99S27i46yQsjWUctNwSI1ma97H6xhXDiI1K2JtDuQDLF+OdGsEe7I13+EMbsmRFI31vNms+U3gc2zBd\\u002fhHVmsNjdSsodPGB3gbG3Tz7z01K5prDK\\u002fmXbx8YZchi7QMH+flfJ9zmFGORzTAQmsWxvJ6NuEU\\u002fl\\u002fON0Ngoaf7GFgr8D12WcBLPp8vNSsaajQncBBL9HMxw1hewYvYk\\u002fcxrRyPqLvuahba2YjPsTPvYXI5HgOqX19n0RMj2ZGLeM0iOxbmLPCeekSNjWYv7uIDLDUgX0ojWJK3cit7ZYvGaJq5zCmzF1iMV3ExezKqHIyBMwDfaNGNFfgAP2HDcmQhZvbk8IiohxGsxac4nZXKwYGwMj\\u002flONbJl100xxxmltlCrMMpHM4K5UgMkNw0HERb8lFe06tlJjNSs6I5XsX72XHe1ryDZAk+xBb8gF\\u002flnnw0wZxeLUtckWO71sVfVg5Gv6VmDYoRHMBHeVFvH5zNbFY0wjJ8hANYoxwZBKPZlQ3ZhhN4uByPqJfe1SyM50A248ucmZPQwMo8+sBbjE9xUh86lsxmRRNsxVl8eGg61nNW5oOczfblSES99OKm4XPa2ISTOJpJ5WD0Q2rWAFuVb\\u002fC5F74ZpIdSs6LOJvI2fssOw7IwfRQv4eccMu\\u002fliBG1NLu3s1nPWYqj+A6rlSPRV6lZA2YMO3EWh9BeDvbYDGaXWUQtbMgX+A4rliNDayW+z5fZrG\\u002fXQhEV1+ubhvNr5yB+wY7Dci1UP6lZA2NJ3smpbF2O9FJqVtTQWF7DdzicseXgcBjNe\\u002fleN+9jiGhds5leZr20LafyTpYsR6KXsgR+ACzLJziEpcuR3puem4ZRM5N4P+9mlXJkuG3L19mAb\\u002fNUORjRsvqyNuuFVucY1uF4HikHo8dSs\\u002fprDD9kz\\u002f7cKJzfrLxmKupkBN\\u002fmgIE6PgbWCFblWLZl32wMHLUxa0DuirSxNIexIa\\u002ftz23IhstNw74bzTZcz6sH9hzydPfvSYhoCePYnlt408AeHwOunX24nR1zAzFqoIMpZdYP7bySa9g6S7X6JjWrjxbnDZzJOuVIvz2RLRSj1S3Du\\u002fn5YBwfg2QNfsp7Wa4ciWgpHTxRZv22Hr\\u002fkQBYvR2JRUrP6YhIf4PhB2vbnycxmRUtbgc9x1CC9P2fwrMSnOY6Vy5GI1tHJk2U2EFbnC3yQJcqR6FbWZvVaG18e1Fb\\u002fRGpWtK61+SHbVOSJwt5akreyMW\\u002fnlnIwohUMymzWPCvzMdbgnTlL9Vxms3pnCf7BuwevY0nNihbVxiu5gh1atGPNM4aXcTmvzvdjtKIOHi+zgbMYh\\u002fLXzGn1XL5GemokL+a3bFuODLQnsjYrWs6SvJ\\u002fTarPLziRO5Yja\\u002fP+J5ugYpJuG89uO89iSUeVIvEBqVo+MYhe+zcvKkUGQ2axoMavwWY5j+XKklS3Dp\\u002fkcq5YjERXWOaizWc95Cd9mtzStRUrN6pHX8zVeMjT\\u002fvh5PzYoWsj7f5T21vImwBO\\u002fhe2xcjkRU1eDeNHzOCLbhBPYtR+L5hqI2tLr38B02GrLXnz2QmhWtYnt+xV6MKUfqYjR78Et2LEciKmkuD5TZ4GhjQ77Lx8uRmE9qVnfG8BlOGuL1GU8xrcwiKmYke3Mam9T+a2QEG3Iqr8uz2VF9U3m2zAbTkhzHUTW+1uqnmn8\\u002f9seSHMkRw7Lx7X1lEFEl43gL32atcqS+1uCbvI3x5UhEldxTBoNvNB\\u002fjKJYqRyI1a2EW4xPDuBHbXWUQURlLcyRfbeDS8JX5Mp\\u002fMySSqbHhOH5M4jE8O6mZHLSo1awEm8A0+MMT3Cuc3PMdJxCKtwtf4RGObxpJ8lG+wWjkSUQ13l8FQWYL38i0mliPNlppVWpJf8WYmlCNDKDUrqmh1vsGBDV+EMZY38g3WLEciKmA4Tx8TOIhfMqkcabDUrP9pYyW+z260l4ND684yiBhu6\\u002fL\\u002feG22ycFI9uEkNihHIobbHWUwtNrZjR+y6pA9nV9xqVn\\u002fsyZf4TXD3rFwWxlEDKst+Bavy\\u002ffmc9rYmx+wVTkSMayGuWahnb35MmvnG0P+FTxnRb7Oa4flucIXGsXUivxPidiL49iijANcw9H8rowjhsNMJjC3jIfDbM7hQ9xfjjRMZrNgFX7GvtUpNrPzkxlV0MZ+nJiO1Y3NOYE35po1quC+inQsjOK1nMHq5UjDpGZZkV\\u002fyiqptPHhrGUQMrTZenQVIPbFe11x4vk9jmN1SBsNqJC\\u002fnF6xSjjRJo78W2liDb7F1Ba9Eby6DiCE0glfyXVYqR2JBVuDb7Nnwr9QYdlU8cWzJt1irgqfZodH374Tllltu3333LdOWshrH8uoqrHl\\u002foZvKIGKojGQ\\u002ffsTK5Ugs3IqczP55FDOGURVrVjt7cWyrbza37777LrfccmXaA328UbbccsudcsopK6ywwtSpUy+44IJyuBUszpcqtR6rcEMZRAyJUbyN4+jLF0rDrcA3WYpTmFUORgy+68ugGkaxPyN4L0+Vg61g9913\\u002f+QnP\\u002fnQQw+9\\u002fe1vf+SRR8rhbvVlNmu55ZY7+eSTV1xxxba2tj322KMcbgWL8XNeX9mOhQeZXmYRg2w07+Bz6Vh9tiyf5d0N38I1hsWz9K4ADKXR7M8ZLbpH\\u002fB577NHW1rbiiiuefPLJvZ3T6nXNmjePtdJKK+Gqq6468sgjy09U3jh+yB4Vn9ufwQNlFjGYRvIGjmfFciR6Y3k+z0F9vlkQ0TeTmVlmVTKSPfkhY8uRyjvyyCOvuuoqrLTSSqecckqvmlbvata8jrXiiiviqquuOuyww2bNarGp8SU4jr3KuHpmcW+ZRQyakRzAt\\u002fOWjAGxOP+PAyp+LRc1c2\\u002fFa9Y8r+aLw\\u002fjG4L6ZNWvWYYcdNq9prbjiir1qWr2oWTXoWBP4IIcyvhypnlnD+AbQaJqRvIVvsng5En01iW9zSJVXJkTN3NMSSwLH8TY+NLzvDe6DPjetntasGnQsHM7hrdKiZ+SVOzE0RnIoX2SJciT6Z3E+z9ty9zCGxi3MKLNKWoIP8KEyrry+Na0e1ax6dKwjOIqlyriqZnEXs8s4YkC1sT+fyZr3QbIsn+GAHn7VRvTZvHUmLXNmXopPclgZV14fmtaij\\u002f0adKx29ucLrTVH2cljPFrGEQOnjZ35Cis3dufAwdbGSnyZXfOvOAbVIzxeZtU2gS9zYDV3ruxGb5vWImpWDTrWSHbj84wrRyrvcR4ss4iBswMnN\\u002fw9GENjJf6PHcs4YuA8yGNlVnnjOIZXttyzIr1qWt3VrBp0rDa24DOsW460gsdSs2LwvIofskYZx+BYjR\\u002fyqjKOGCAtWbOwDp9hy+7bSAX1vGl193\\u002fsuOOOm9expk2bdsQRR7Rcx8LyfIltWnS6\\u002flHuL7OIgbALX2WtMo7BtAZfZfcyjhgI97foIpM2tuJLrFCOVN6sWbOOOOKIadOmYcUVVzzuuOPKT6D7mvW5z31u3qby48eP\\u002f9KXvtTe3mI3UEfwc17Rcjd+nzODB1toSWO0ii35IhuUcQy+DTiWLco4on\\u002fmbWfdqieLdl7OT7svJBXU3t7+pS99afz48XjkkUc+97nPlZ9A9\\u002f+vHnzwwede37Pddtt99atfHTGiu89XykROZYfu\\u002fx9W3z08U2YR\\u002fbA2n2vdGd5W18a2fJ51ypGIfpja6ttZj2BHTmuhB9VGjBjx1a9+dbvttsMjjzzy9re\\u002f\\u002fcEHF7zKZxElZP6mtcMOOxx\\u002f\\u002fPEt0bQW48PsV8Yt6E6eLrOIvlqao1viJQj1tgefZdkyjuirp7mzzFrQvhzREpskjxgx4vjjj99hhx0sqmNZZM3y\\u002fKa1yy67VL9pjWFf3tUSW70v0i1MKbOIPlmSL3NwT476GFRtHMhXWLocieiTJ7mlzFrQeN7L6yv+4vV5HWuXXXbRg46lh1+4RdM65phj2toqesdh3pz8p1mpHGlNjzK5zCJ6bxzH8dbWXalYM+28mc+30D2SqKxO7mvRxwxfaEU+VeVVDW1tbcccc0zPO5Ye1izPb1p77rnn0UcfXX6iGiZwMutU9o+otzq4ho4yjuiNNo7gkLz0pVLaeQsf7vm3cMQCdfJvOsu4NbWxDj+o7O2oo48+es8999TjjqVXB\\u002fj8TWufffY58sgjy08Mt6U5p0W3yOrGFbU5fmJYjOJA3p95kwoaz\\u002fs4MP03+qOTK8usxW3Aryv4brwjjzxyn3320ZuOpVc1y\\u002fOb1n777ffhD3+4\\u002fMTwWYJj2LmMW98VzCmziB7bvk530etnBT7Jy8s4osdmc1WZtb7d+SxLlvHw+fCHP7zffvvpZcfS25rl+U3roIMOeu9731t+YjiM5q0cXMa18CD3lFlEz6zDl9iwjKNKNuYrrFfGET1zJw+XWS28lUMqshz+ve9970EHHaT3HUsfapbnN625c+eWw8NhZz7YEo+B9s1fyyCiB5blx2xdxlE9W3Iay5RxRA9cWgZ1sTiHs0sZD4d5VacPHUt\\u002fVoqvtNJKO++8809+8pNyYMity5n13lj5QH5WZhHdGsuP2L9vl1Ix9Do5i7cwvRyJ6NYb+GWZ1cgVHMgdZTzk3vrWt\\u002f7pT3964IEHyoFF6XvNqoiJfI83lXG9LMP9jC7jiIWYyEf5CBPLkaiwqXyNrzK1HIlYiJmsxBNlXC+n8X6eLeMW0dpXuu18hAPKuHYe48Yyi1iIUV0b9KZjtZiJvJ19GVWORCzE9bXvWHgTR7RuXWnV\\u002f93zvImPNmS\\u002fxdrefY8BtwlHsmIZRytYmU+xWRlHLMRfyqCORvLx1n3IrYVr1vYc2ZwL9j+XQcSCjOVUNijjaB3rcSrjyjhiQS4qg5pajE\\u002fw0jJuBa1as1biw406mdzOo2UW8Xxj+Rmb12DNZZO1sSlnMrYciXi+h+rxxuge2pCPtOI8fUvWrLG8mT0adTJ5imvKLGI+EziSPcs4WtPufLw5s\\u002fXRN9fyVJnVVxt78paWuwBpyZq1C4c1bVL9Kf5TZhFdRvFqDm25L6BYmLG8k32yHD66cU2jahbGczg7lXG1tV7NWo7jWbmM6+5ZbmJGGUeAjTiSVco4WtnKfIyNyjgCTOcmppVx3a3El1m+jCusxWpWG6exSRk3QCd3MbmMIxjH57Mkq37a2JxjmzZzHz00mbvpLOMG2IRTW+jrrpVq1ig+xs4t9G93YN1ehY1wo2pG8lFe3djDot7a2IcPM7Icica7g9vKrBna2IWPtMod9ZapWW28jHc0eS\\u002f0+7mJOWUczfZqPlVmUS9H85oyi2abw030+r0vtTGad\\u002fKylri8bJmatQrvZ60ybpIO\\u002fsPTZRwNti2fz7L32hvDsWxTxtFgT\\u002fFvOsq4Sdbm\\u002fS2xTrs1atZo3sBeDdnwvRv\\u002fZEqZRVOtzEdZv4yjjtbjo6xUxtFUU\\u002fhHmTVMO3tyQPVvcbVGzVqVTzO+jJvnFu4ps2ikUbyRvbNopyFGsg8HVf+UEkPjXm4vs+aZwKdZvYwrpgVq1pKcwRJl3FQXlEE00g58lDFlHPU1hg+xfRlHI51fBk01idMqXhCqXrNG8Sm2LuMGO6\\u002fh9+MDy3JMK750IvppZY5huTKOhulIzZrfS\\u002fl4lef1q16z9uStZdZsN2Zbh4Zr4\\u002fNsV8bRDC\\u002fjuJZ4vCoGz23cXGbN9nZeWWaVUematRaHsXQZN9tcfllm0SRv45CcZxurjbfyljKOJjkz9zQKy3A4a5RxNVS3Zo1if15e5f+Jw+X\\u002fcow11ryX6mQZdKON4ZNsWMbRDB38sMwabwQ7ckA1NyytaIdpYzvelSW+C\\u002fQAV5dZNMCSfJg1yziaZ20+xlJlHA3wLx4qs2A0h7JtBWf6K1qzRnNYwzcj7cZcfldmUXej2Y\\u002fXVHmlZwyZkbya12dis4HOZW6ZBViXwyt4TFS0Zr2VV5VZdJnLX7MdfNOsyeEsU8bRVMtWeTVKDJIp\\u002fC01qxt7c1CZDbcq1qzV+FJeINK9e7mmzKLWjmHjMotm24jPlVnU2jXcV2Yxn7F8tWpv4KlczRrN11iyjOP5HuKfdJZx1NTreWMF1xzE8BrBgbyhjKOmOvlnFmYt0tJ8rVK3DqtVs0bwRnYq43iBZ\\u002fkPT5Rx1NE6fL3MIrqcyDplFnX0BNcyrYzjBXbh9dWpN1X53zHPOhySqaweuib7lDbBJI7KK4OjGyvxKSaVcdTO7fy7zGJBluKQ6jyUXaGaNZbX8pLcGumh27guayFrb2\\u002f2qtRxGlUzglezTxlHvczh2lxa91AbL+O1FVnjXaGv79V5J+PLOBZiFhcytYyjRjbgHSxbxhHPtwyHsn4ZR41M5U\\u002fMKuNYiAm8i9XLeDhUpWa1cXhWGPTWH3mkzKIuxrAv22d6NxapjZezX\\u002fZzrrFHuKDMolvr8d4qfH9WpWa9lEPKLBblSf5QZlEXW3AY7WUcsSDtvJ8XlXHUxXk8VWaxKO9g6zIbcsNf9LAkF7JFGUcPbM5VORfXTzvnVfmd81FNf2Bv5pRxtLi5vIjryzh64Ap2Z0oZD6FKzGa9OxdhfXZd3m9YS+9mlzKLWJRdeUeZReu7ghvLLHpmS95eZkNr+GvWOry5Cv87WlTe1l5Dq\\u002fDpvLsw+mAkn2W1Mo4WdzIdZRY9M4JDWbeMh9Aw15sxHJpXRPfTWVkIXyfj+GTeXRh9tgxHMq6Mo2U9xDllFr2xFm8dxudDhrlmbcE+FdnaonVNzUFYJzuyF6PKOKJnRrInO1Vk4W303294tsyiN8ayzzAuTRrOmjWR\\u002fbPXS\\u002f\\u002fNzEMotbEib2bVMo7ojVU5mBXKOFrQFH7PjDKOXtqQ\\u002fZhYxkNiOGvWWrwlK1D6r4MbshC+BkawA3vnwdHop3b2Zvvh\\u002fX6PAXElN9JZxtFLI3nrcK1aHLbDsI1Ps3QZR5\\u002fcycV5jLvVLcbHh+t6K2pmIh9nsTKOljKHv3BXGUefLMunhuVe+rDVrJfyujKLvurgH9xbxtFS3prN42IAbcWhZRYt5W7+nmcMB9Ab2KbMBt\\u002fw1KzF+XJuFw6sK7g+c8utaz2OLLOI\\u002fvnE8D7IHv0xbzXIlWUc\\u002fTCKLw39HYPhqVn7sVWZRf88xR+YWcbRIo5kxTKL6J\\u002fl+eSw3CaJ\\u002fpvF73m6jKN\\u002fXjL0N9KGoWatyFuzicNgOIMnyyxawSvZs8wiBsKe7Fpm0Qqe4Mwyi34bw9tYrowH01DXrBHsw6ZlHANhCj8qs6i8ibx1iA\\u002f7aI7lODRr4VvRqdmmZzC0sTl7D2X5Gbr\\u002fpnlW5lUsWcYxQL7JE2UWFTaCPXnF0B+J0RAjeDm75yestTzBd8ssBshS7M1KZTxohvTQa+dlvLyMY+A8mHnm1rIc+2dVVgyqldifZcs4Kuyn3F9mMXBezkuHbIfCIa1ZE3kLS5RxDKhTmFJmUVVbsEfWKMegamPPPHXUQp7k1DKLAbUUb2ZCGQ+OIa1ZW7B7mcVAu4s\\u002flllU0gg+kmUzMQQW54ND\\u002fHUfffaHbEk6BPYaskuPoTvuRnP8kE3SNdkUfsnUMo7q2ZWdyixicOSnrTVM5awsfh8C7RzD6DIeBENXs\\u002fYclu1XG6iTa\\u002flXGUfFLMEJuV0YQ6aNE5hUxlEx\\u002f+KabDQ9NF7GbmU2CIaoZk3gIzmlDJm7uZhpZRxVclA2Nokh9iIOKLOokme5iHvKOAZHGx9hfBkPtCGqWXuyWZnFoJnNOTlWq2xlDimziMH3dlYps6iMe\\u002fkts8s4Bs2LeWWZDbShqFljeCOLl3EMpuu4JDPPlXUAG5ZZxODbgP3LLKqhgwu5roxjME3iwMFeoTUUNWsXtsodw6H3XZ4ps6iAtdhz6F9fGoHF2JM1yjgqYGq2JB16bWw12A+HDHrNWoxdWbWMY\\u002fBdx8\\u002fLLIZbO9uzZRlHDJWteHke+q6gM7ipzGLwrcaug3rdO+g1ay32yiE9XL6Yd+9UzVK8Lnv0xjBakteyVBnHsHqSL5ZZDIl2XsVaZTxwBrdmtbML65RxDJW7+VmZxbDaIHv0xrDbg43KLIbV6dxbZjFU1mOnwZsOGtyaNY63D97\\u002f9uiJ72VCqzra+NgQPD8c0b3xfDDrZavjcf6vzGIItfM2xpbxABncmrVXrpmG3QP8ko4yjuHwYvYss4jhsDebl1kMhw5+kRdFD7vNB+8+wyDWrDF8ssxiyD3Jb7ivjGPItfN5RpZxxHAYyXG51VAF93I2U8o4htwnGVVmA2EQa9YrsyVpRfyTi5lbxjG0duIVZRYxfHZihzKLoTWXS\\u002fhnGcdw2JJdymwgDGLNes+g\\u002ftOj557iFzxaxjG0DmVcmUUMn\\u002fG8vcxiaD3CmTxdxjEcRvD+MhsIg1WEtstUVqX8gb+XWQyh7bJHb1RNG1uzbRnHEPoHF5RZDJ8XsXWZ9dug1KyRvJqlyziGTycn5GXSw2U0u+VVclFBq7L7IC1IiUV6li\\u002fnlWiVsgx7D\\u002fgK2kGpWWvxssF7ODL65h\\u002fZFH64rMlOuWMYFTSOnfLuneFyBv8qsxhWY3k5q5dx\\u002fwxKzdoqjwpX0zE8UmYxyEawWd6uE5W1NS8epDNBdONRjiuzqIDN2arM+mfgD66l2IVJZRwVMJnvlVkMssV5w6C+MCuiPyayL4uVcQyyb2WvrGpakp0G9n1oA1+zVmLnMotqmMuZXFfGMZhWYa8yi6iSV7NqmcVgup5fZZOdytqVlcusHwa+Zg38jc0YQHfxE54t4xg0H8zbdaLiJvCBMotB8yw\\u002f4c4yjspYi+3KrB8Gvma9LY+tV9kMzuHfebxlaKzM68ssonr2Z8Uyi8HxH85mRhlHZbRxSJn1wwDXrJfwojKLirmNX2ZCa2gcwpJlFlE9S\\u002fGWMotBMJWfc3sZR8VszRZl1lcDPPH0q1y8t4TR\\u002fCuPgw62dm5lrTKOqKQ7WD\\u002frhQbbtWzDzDKO6vkpB5dZnwzkbNayWevbKmbxuRzqg20\\u002fliuziKpanteWWQyoWRydL95W8bqB2mR9IGvWgdmStIWczTllFgNnHK\\u002fOlqTRQsaxT77DB9U5\\u002fLbMoqrG8YYy65MBq1njeNWA34OMQfV57i6zGCCb8mLayziiqtp5MZuUcQyQezm2zKLC2tibMWXcewNWs7ZmvTKLaruJk7IWY5C8JKuyouWsPbAPssdz5nISt5RxVNsGA\\u002fICj4GpWW3swPJlHNU2h99zWRlHv63CzrljGC1nPDuwUhlHv\\u002f2Vc5ldxlFty\\u002fOK\\u002ft+lG5iatQJb5azSim7lNB4v4+iftXlJmUW0gu1Yu8yifx7ndG4r46i88WzV\\u002fyeZBqZmrc9mZRatoJPz+Asd5Uj01Si26\\u002f+RGTEsVuCljCzj6KsO\\u002fsJ52RG6RW3OBmXWSwNQs0axKauUcbSIh\\u002fk6T5dx9NUY9u3\\u002fPHPEsGhj3zxvOICe5iQeKeNoEauxcT+vOwagZi3OTowq42gdf+fUMou+2pAXl1lE69gqzzMNoJOz\\u002frWljWJHJpVxbwxAzVqGl5dZtJS5HMmtZRx98u7s4xAtrZ13lln0yS18Mk9zt7od+7lP6QDUrJ1Ypsyi1cziCJ4o4+ilJXldmUW0mv1Zosyilx7no8wp42g1y\\u002fKyMuuNAahZB5RBtKZLOT1fCv30GpYqs4hWszSvLrPojTmcxsVlHK3pwDLojf7WrBXZtsyiNT3L6VxdxtEbB5VBRGt6cxlEb1zFj5lWxtGatu\\u002fPfcP+1qz980xKbXTyH07nqXIkeuZFbFRmEa1p42zT02dP81OuySYOtTGOfcusx\\u002fpVs0awf5lFK+vkNC7Jt0Pf7NzPB1IiqmMSO5VZ9EAnF3NavkVr5sA+b9PTr5q1Ri536mcqX84uL30wgW0YX8YRrWk8L2FCGceiPMrx2YmwfrZktTLrmX7VrD1zx7CW\\u002fsGxeQi5tzZk\\u002fX4eUBHVMYL1soFWb83lGC4v42h9Y3hlmfVM388KbeyQXUnr6of8ssyiWxuxVplFtLK12aTMoltn8sMyi1oY1ee76H2vWWuzTp\\u002fvVUbFzeBobinjWIjF2JLFyziilU3ixUws41iI2\\u002fgcM8o4amEE67BmGfdA32vW5qxQZlEjd\\u002fMlnizjWJB579uNqJuXsnyZxYI8yZe4u4yjRlZk8zLrgT7WrHY2zubv9TaH33M2s8qReIE12bjMIlrfpqxRZvECszibc7O9c70tw8Z9eJdaH2vWMmzE6DKOenmYr3N7GcfzjWDnPGMYtTSBnbI4ZJFu4+t5QLv2xrBxH\\u002fYp7WPNWpVNyyzq6Ho+V2bxfG19fgIlovpe2efzRHMcx3VlFnW0MauU2aL08fBZmXXKLOqog19yGh3lSHRZum837CNawhYsWWbRpYNT+Hk2I22I9Vm5zBalLzVrLFvljmGjvI+\\u002f5XtkYd6SmypRYyP6+eLcGuvkbxxexlFfY9iCMWXcrT7WrJeUWdTadD7DrWUcYL8yiKiX1KwFu5XPMr2Mo9Ze0tt92ftYs7Yos6i1Ti7nOzxRjjTeqry4zCLqZUtWKrPGe5Lv8s9M8zfN1owrs271pWZtnVv1DTSDH3J+XsJT2C33z6P2RrNrmTXbXM7llGxG2kBL9XaiqS81a88sRWmmqXwuW8PPr43dyyyijnbP1\\u002f78buE4ppZxNEAbe5VZt\\u002fpSs3JZ01x38AkeK+OmWja7kkZDbJb9qJ\\u002fzOB\\u002fjtjKOxti1Vxcdva5Zq+UFuQ13LsdlqnyerfqwVV1EK1qaLcuskaZzLOeXcTTJOr3a1qHXNWvnPmw1HzVzKidnJy1szqQyi6ijSWxWZs3Twcn8sIyjYdrZscwWrtc1a8cyiOZ5hpO4uIwbZgzr5h070RATWC+Pe\\u002fyZk7IkK7BTGSxc72rWqOyYFfPczle4pckPM6\\u002fB2mUWUV9rs3qZNUYnt\\u002fBV7ihHopFeysgyW4je1awNWarMoqn+xIk8U8aNsRprlFlEfa3OamXWGE9zAheWcTTVMqxbZgvRu5r14t7ufho11slP+EYzJ7RGsBorlHFEfa3Ear09Z9RDJyfxk2Z+18UCje35MyG9O2Q2S82K+U3nK\\u002fy8jBtgAptlpUo0yhg2beZqxJ9xQh6vjvnNOxp6pBc1q501GVXG0WzPcARXlXHdLZ537EQDvZjFy6zuruAjTV4dEQs0mnV7uO9CL2rWWqxYZhE8zAe5sVEz6pPYpMwi6m6TRm1h0smNfIRHypEIlu\\u002fhMyG9qFmrs2yZRdDJv\\u002fgiD5Qj9bVOXuwZDbQMa5ZZfT3AF\\u002fJy6FiYZQe+Zq2WmhULM5vfcAJzypGa2r4MIpphuzKoqTl8jbOZXY5EYOBr1khWYbEyjugyje\\u002fz7TKuqW3LIKIZmrJ14kl8l2llHNFlcVbqSYla9CfmmcSavXpZYjTQdD7Er5lbjtRLO1uUWUQzbN3z00aL6uAcPsr0ciRiPiNYiyXK+AV6erwska0Yo4c+yMX1blovYmKZRTTD4vV++mMOF3NYGUcsyBo9eSakpzVr8R7ehIx4gM9wVY3fLb1bGUQ0ya5lUBcdXMWnmVyORCzIagNcs1Yqs4gF6eAKjuLucqQudiyDiCbpxVtzW8s9HM2VebQwemiVnmwk16OaNYJ1GVPGEQsxh4t4fy0fPGxjmzKLaJKX1nKd7lwO56JafmvFIBnHmovsUYsYnqe93jfjYzB08AcOqd\\u002fuyQ193UjEcyayYZm1uKd5M+fWe1FpDIZNF7kXfI9q1gg2KLOIHjiDY3isjFvZpj08aiLqakTNLrwf53PNfDdr9N8GizwjLGJ4nnbWLbOIHujgZL7LlHKkZW3Uw6Mmoq5GsFGZtayn+D6n1viRnRhUi36zYY9OGKNYpcwieuYpTuLnzCpHWtOGPTxqIupqBBuXWWuaxc\\u002f4Wp2uA2OIrT4wNWsjRpdZRI89zmH8roxb0CRWrOXy34iea2Oleuwd93uO4PEyjuixMaxfZs\\u002fXo5q1ZRlE9NJsDuScVn9B2Jo92SUlovYmtfqG1bM4lzcysxyJ6KUtyuD5elSzXlQGEb03m7fxS2aUI61j9Z7skhJRe61ds2ZyFm9Jx4oB8eIyeL4e1axaPVQSw+hJjuLs1l2ntVpqVgQWY7UyaxGzOYdPZz1WDJRNy+D5elSzFnHjMaLn7uEoLmnF53rmrUiZUMYRzTORlcusFXRwEZ\\u002fkrmz1HgNlERteLbpmLdGTN1BH9FAnd\\u002fIWbmy5r7nFWbEnh0xE7bWzAouVcbV1cguHcmfLfflElS3d\\u002feX3os8Zi+hpEX3wMHtxWWu912IJliuziKZajiXLrMLmcBm780A5EtFv3RWlRdes9cogYiDcxyGc10LPHi7BsmUW0VTLttBjt7M4j7czuRyJGAjd7eC+6JrV3d8d0R938okW2uVhUmpWxHNapmbN5lyO5LZyJGKArFMG81l0zVqzDCIGSCe38mH+3BJLJVKzIv6nNWpWJ5fwYW5piS+ZaFFrl8F8Fl2zWvWp3WgJndzH\\u002flzK3HKwStqYxPgyjmiqxVii4q9EmMtl7Mc96VgxqFYtg\\u002fksomaNZOkyixhoU3kVv67yzqVjur9eiWigNav8Hrbp\\u002fIY9ebociRhoy3fzZsNF1KxlGVtmEYPgWT7I6UwtR6phVEvveh0xGNaobM2ayukcVtnvk6iZsSxVZl0WUbNWqOxRFPXzIJ\\u002fhBzxbjlTA6Nw\\u002fjyiszqgyq4BpnMxneagciRgcY1ihzLosomYtn5oVQ+lhjuIbZVwBo1ipzCKabcVq1qzv8EkeLuOIQTOK5cusyyJq1rLVPIqixmbwKT7CU+XIsBrZzVEU0UzLM7LMhtVTfIqPVXmVZ9TS6G6eQ1\\u002fEMbJ0alYMi6\\u002fzDJ9kjYo8yzSuJZ5ejxhKS1Zn8W4nd\\u002fFVflCORAy+Ud08LriI2awlF1nEIgZDBz\\u002fhKG6uyJPYqyzyYIlomvaK3Erv5GY+xWmt+E76qIGR3bx6ahFnjtSsGDbT+TXv4+ZyZDhkm96IBajEgXEbh3E208uRiCExsu9PGi6emhXDaCZ\\u002fYQeuL0eGXCXOJhFVs0YZDLmbeAUXMbMciRgqI7tZVdJdzRqfTa9j2HXyGC\\u002fjl8O70cPqZRARw1uzpvEbtuOhiiwtiMZqYxxjyhjd16zFmFBmEcPhaQ7j2zxejgyV1KyIBRi2A+MJ\\u002fo8PMKUciRgOE1iszNB9zRrPuDKLGCYP81WO5YlyZEisUgYRMVwHxhS+wBd4oByJGCbjFzYx1d3Kq\\u002fHVeVg3Ao\\u002fxA27lxyxTDg6ybJoVsQDDcGA8wlu4NAveo1LGLmxiqrvZrHGpWVE1M\\u002fgD2\\u002fDvoXxyu31hlykRDTep+7PIwOrgWrbnj+lYUTV9qlljF7agK2J43cX+nDFk74WtxN5AEdW0XBkMjmf5NW\\u002fktnIkogLGLGxiqrualdmsqK47+AQn8mQ5MghWKIOI6LJiGQyCp\\u002fg6H67ILnoRL5TZrKif+\\u002fkqhw7B1e1QnEciWtSgX4XcxTv4MveVIxGV0aeaNSY1KyruWc5hP\\u002f5SjgyoYVjmG9EqBrdm\\u002fYv9+DXPlCMRVTJ6YY2pu5o1Ku+Njurr5FoO4czBWxWbmhWxUIN1eEznTN7I1UP5vEtE3yy0MXW3ocPohf1NEVVzN+\\u002fmet4xGPtSD9Ea34hWNCg1637+j28MzeLLiP4bubDG1F3NGtX9cESlPM0XuZoPsfPA\\u002fuwuXQYR0WWA97Cbw1\\u002f4NmfnFTrRQkYxuszQ\\u002fblooVNgEdXUye+5nfdxKIuX43210HeCRsSC3zDSN1P5Ed\\u002fOE4XRchbamBZas9pop62MIyrvNo7kVo4fqII0kOeRiJoZsMNjKsfwLWaUIxGV176wQrXQJfAjFrZoPqL6ZvJd9uZ6ZpaDvTexDCKiywDUrFncwB6ckI4VrWvkAuemuqtZCy5mEa3ir+zK97mvn4s8BuA8ElFX\\u002fTo8OnmAk9mdy8rBiJYycoGdaqFVqq2bsYhW8TBH8TeOYNsFHgI9kRcaRixU3yd7O7iSb3AuT5WDEa2ml7NZqVlRE1P5DW\\u002fmu33bfWdkDoWIbozq5kTSjU5+zMH8Ih0r6qF9gYfCAqJ5ctMw6mMOd3AYr+XhcnBRxi\\u002fwAiUi5hmxsJeMdOMx9u96U9bscjCiNfV+Nqu9zCJaWSe\\u002fY1fO6dWLOyYs8MiJiHnaenXf8BnOZVfO6tvsckRlLbhmLXTGKjUr6ul63sNBvIXNFnhQFMb15EMRjdXW89ms6zmVn\\u002fFQORLR+kYucOpqoTVLzi1RVw\\u002fxdf7KWzl4kXtrLfgCJSLm6dFC3mc4g1P5Vyaxolm6Ozr69Qh8RJV1cAW38GeOYZNuqlRmdSMWobuDpJPb+Cx\\u002fYEo5GFEjnQvsTQuY4HrOAj4eUSdP8xt250xmlYNd8jaEiEVYaM2azVnswpnpWFF7Cy5NC61ZC\\u002f54RP08xEG8mct5thzs5gwSERa2kHcaV\\u002fIe3sDkcjCijhbcm3LTMAL8gis5hDew7vwXIAu9FImIeZ5Xszq4m1\\u002fwQ26bfyCi3hZ807C7mpV1itEsd\\u002fJlzucdvOW5t63npmFEd543mzWHX\\u002fFtrunVtikRNbCAjqWbmtXB3DKLqLtn+Sc38BO+zuYWeD8kIub334PkRj7E5Tz9vNGIZpi7wKa10BsiHd2sCY6ot2e4hF04ngfbM68b0Z0OIx7mJHbhT+lY0VizFngXsLvZrNSsaLTHOYrz2zreP3fE9qycm4cRL\\u002fCwOZd2dHx3hEsWeCUf0RypWRG91cnf5oy4qt2e7MceLFl+JKKhpvAnzjbynBELekQ3omlm97pmzSmziAaabXqn33AZZ3M422VaK5qtk6v4Jn\\u002fiIZ2duSaPQMcCZ3QXujbLAltZROPMgk4e5lfszrt4vPxQRFM8xSfYkZ\\u002fy4H9PK7OLz0Q0TsfCSlN3NWtOJrQizP7fBUoH0ziZjfgO9+X0Eo0xh8l8m\\u002fX4Ks\\u002f+71n0zqwwiTBnYeeDhd40xCxmd\\u002f+JiPqbr2Y95xEO53QOZmc26P6CJaKVdXIHF\\u002fEzLlvAxXfnwk4vEQ0ye2GXG92VqFnMYlwZRzTKQs4gc7mcq9mGfdiPNbNmK+qlk3s5i\\u002fO4jJnl+DypWRHMWtgR0l3NmrmwbhbRILMWMJv1nNlcxn\\u002f4BQfyLhYrPxLRkp7lx\\u002fyIGxe9n3vOFNF4C61Z3d3qmDebFdFs3daseZ7lKj7K5vxu0R+PqLROzmET3svli+5YWZsV0U1j6q5mZTYrgpm96E138Vq25IfckVsp0VLmcA8\\u002fYzv25e5yfGE6mVFmEU2z0Nms7m4azkjNijB9YY\\u002fpLlgH\\u002f+Y9bMF+7MZGz72FOqKS5nAzF\\u002fBb\\u002frmwk8VCzen13xFRPzMXdhwsomblGiUar5NpZbZIs7mcq\\u002fgFO3Agm3d\\u002ftEUMh7ncxM+4mCsX8BRhT0wtg4gGmsH0MkP3X\\u002fzPLuxvimiWp8qgh+ZwBdfwc\\u002fbiQ2xYfiRi2NzI1\\u002fkjj\\u002fTrkrqvh0dEnUxf2AV5d2uzpi3sb4polill0CuzmMwP2Ii9+AvTencfMmLAdDCdf7AvG\\u002fN\\u002f3NuvjiU1KwKmW8irPTObFbFIU8qgz37PhbyUQ9maNbMxXQyVmdzLFfyYixe2jKQvppRBRAP1tWZlNitigC\\u002fXZ3Mpf+XF7MXObMni5aciBszTXMml\\u002fJnLevHgbA8N6OER0aKe7UvNmp7ZrAgG5XK9k6u5jp+zMXuwL8uWn4rolyc5j7O5lrsHa4eRJ8sgooFmLGyKuLua1cEzzKW9HIlolCllMFBmcxu38yc+z768nU26XzMZsSgd3MKPOIMpPDu4awGnlEFE08zh6YVNFHdXs\\u002fAEs1OzoukeK4OB1dk13\\u002fwNvsMOHMFLWIzReU9i9My8vdif4d98m98P3baHj5dBRNPM5oky67KImvUYsxlbxhGN8kAZDJ45XMRFbM5reQnrsMYij9RosLnczy1cxm+4thwfbPeXQUTTzO7manwRX96PD9bd\\u002fIgWMoQ16znXcA3LsDlbsj1bsUImt2I+j\\u002fNvLuYarubBcnxopGZF483pZlZ3ETVr3mxWRLNNLoMh8xh\\u002f5mJ+xhq8nNewbfmpaJwb+A0XcTf3MrccH0rDd3hEVMSsvs9mpWZF8CCdwzmP1MFkJvNPvs5GHMprWLn8YNTc\\u002fZzND7mZWcxd2KLbodPBo2UW0TSzuzkOFnHmWJVLWKuMI5rmSZYos+E1jpfxWnZmaSYxpvxItLzZPM1j\\u002fI1fc2nl3iD4KMuVWUTT3Mn2C7ttv4jZrIf7+xqGiHp4qHI1azoXciHj2ZEd2Jx1WDV9q\\u002fXN27H9Dm7iH1xQ3T1AHy6DiAaa1s1s1iJq1iweYaMyjmiah9igzCpiGufzB1ZkfdZmE7ZmUyaWn41Km84tXMkV3MYtXferK+yhMohooIeZU2ZdFlGzcE8ZRDRQ5c8mHdzP\\u002fVzMYizF0mzPXrwkL\\u002fOptmn8h9\\u002fzJx7ncaZUvV09p\\u002fIHRsQQ6K4oLbpm3V0GEQ10XxlUVidP8zR3cxUnsQS78lr2ZMlFLsiMIdHJE\\u002fyes\\u002flzC++kfm8ZRDTQXWUwn0XXrO7+7oimuL0MWsgUfsWvwNrsxitYj6VZkgl5z8Pgm8uzPMkT3M0\\u002f+DNXl59qRa18YEQMlLvLYD6Lrll3lEFEA9XlbHIHd\\u002fA9lmFTNmEtVmEVVmbFnnwlRM\\u002fM5fGuO7l3cwvXc3032+u0pNvKIKKBuitKi75\\u002fsFQ3m5tGNMW63FTPaZ92lmIFlmdV1mdDNmGNvMG69zp4gFu4mWuZzMM8zKPMLD9bA3NYnzvLOKJpluLJMuuy6EvXJ3mSJcs4olGm8STLlHENzOVRHuU6RjCW8UxgcTZhSzZlK5Yq\\u002f774r2e4nhu4mn\\u002fyJNOZxrRh3px9CDxez\\u002fYY0SuPdb+4ctE1q5Ob2K6MIxplDg\\u002fWs2bNr6OrH8y7sXUdZ3QNrcFL2IYt2ZCxtDOC9q7f1Fgnc5lLB3OYwY1cxeVc3v0zRjX3YF4TEuHG7h8MXnTNwvWpWdF0s3mQTcu4Oe7mbs4EbSzHeqzO6qzDKkxiIuMZzzjGteYt1jlM7\\u002fo1jWeYyhPczr3cyU3c1\\u002f2XaoM80M1mQRFNcX0ZPF9Pa1ZEs83mgTJrrM6uJUd\\u002f7UpGd63uWoalWIolmdT1+6VYnIksxgTGDvfsVwczmNr166muZwCf4Cme4Mmu\\u002fase4mFmlf+AmCezWRGLrEg9qln\\u002fKYOIppnN5DKL58zi3hfsoTSaCUxkAuMY2\\u002fVrDJNYumtHicUYx2Jd02ATun4znjbG9GxWbC4z6WRa10TUVGZ0zUhN55n5ytMUZjKTGcxgOs92Va60ht64P\\u002f\\u002fCIlxTBs\\u002fXo5p1HXN6+NGIepqVB6p6bRazFvL8zfyLukbQtqD\\u002fnPcY9HO\\u002fGcHort+gA8zq+k1n1428eb\\u002fpWNB\\u002fdsy3xCoGwp2Z6Yumm80NZfZ8PepOs7iHtcs4ojk6eIxpjC9Hog\\u002fmlZ7MhLSyqTyeyhpNd+civ8h6tERiLreUWUTTPMUjZRbRVI90\\u002fxR7RCPcssiNW3pUszq4ucwimmYKj5ZZRFOlZkVw88DUrLmLvPcYUX9P8nCZRTRValYENyzyznmPalZHljpGeJKHyiyiqR7kiTKLaJSZ3DMwNQtPc3+ZRTTKVB5e5PxwRBPM5VGmlXFEo0zm6TJ7gZ7WrCncVWYRTfNwziwReDZTuxHu6smd89SsiJ6bzDNlFtE8z2S73gh3LmRjwOfpac16ijsXeQcyoubu5qkyi2iep3LhHU3Xwd0DedNwLg\\u002f05J8XUWd3pGZFYEreihBNN4XJPZl96mnNwn08VmYRjTLvUZB5b3WJaKhO7mdqGUc0yuM9vHPei5p1TzZnjOjBLikR9dbBdWUW0TSPck+ZLUgvatZ9PJgL+Wi661OzouE6uL7MIhqlkwcHfjZrJrcu8h2JETV3TWpWNFwH15RZRKPM4uYe7trei5qFa5hRZhGNclsWpUTDPZ3179F0M7m2zBaidzXr36lZ0XSdXFVmEU1yRRlENM0Mri6zhehdzbojq+AjXFoGEU3ylzKIaJqHe75zXO9q1pxcx0S4oAwimuSPZRDRNP\\u002fq+ftte1ez8OcyiGiaq\\u002fPKnWisp\\u002fOYYURvqlCva9YFPa9wEfU0lyvLLKIZLs8pIJpuLn8qs4Xrdc16hBvLLKJp\\u002fl4GEc2QH\\u002f1ovOt69U6cXtcsXFgGEU3z1+zUGw3Uyd\\u002fKLKJpejGVpW816\\u002fdlENE0d\\u002ffqaiaiHh7m3jKLaJrelaC+1KzreLLMIhplKjeXWUTd3ZTNeaPpHuOmMutWX2rWdC4vs4hGeSYvz40Guj4P2UbT\\u002fZPpZdatPtas3J6PZnuWa\\u002fKGz2iUWVzDs2Uc0Sh\\u002fG4qaNZv\\u002f8HQZRzTHXO7mwTKOqK8HuCcvTo9Ge4pre3uB3Zea1clkbi\\u002fjiEa5p+cvW4iogbu4p8wiGuU27u\\u002ftY+Z9qVm4P7tnRdPdmWuNaJQ7uLvMIhrlRiaX2aL0sWY9xg3MLOOI5pjNLVmpEg0x79na3t0siaiVmdzAE2W8KH2sWbiBR8osolH+w5Qyi6ijKfynzCIa5WFuKLMe6HvNupoHyiyiUa7uw5VNRCt6MjUrmu4Bri6zHuh7zXqQG\\u002fLUSTTaE9mkNBrixlxSRKPN5ToeKuMe6HvN6uBiZpVxRHN05g2f0RAX9Pbxqohamc1FfTsI+l6zcHEWAEfT\\u002fSHXGlF7s7igzCIaZSoXl1nP9Ktm3c8VZRbRKPfy7zKLqJer+vAUe0St\\u002fIuHy6xn+lWz8LMyiGiaM8ogol5+WgYRTfPjMuixtjLopTE8xsQyjmiOpXmY9jKOqIU5LMeTZRzRHFNZus\\u002frQ\\u002fo7mzWT88ssolGmcFWZRdTFv\\u002fIG22i63\\u002fW5Y+l\\u002fzcIvmVtmEc3RwR\\u002fLLKIu\\u002fpCNe6LR5vLLMuuNAahZV3JvmUU0RyeXMr2MI1rfs\\u002fytb0+xR9TE3X3blfQ5A1CzpnBpmUU0yj19ewlDRMXdwH1lFtEol\\u002fJUmfXGANSsp\\u002fgzc8o4ojke4u9lFtH6LuvbvtcRNTFvV9Lhrlmd3MYtZRzRHM9wVRYKR808xb+ZWsYRzXETt\\u002fbztvkA1CzcwtVZJhmNdj23l1lEK7ud68osojk6+A+3lnEvDUzNepLLeaaMI5rjFm7OtUbURgc39\\u002f8ME9HCnuGfTCnjXhqYmoW\\u002f9Hkj+og6eJZ\\u002f5CWfURvPchnTyjiiOR7ikjLrvQGrWdfnUatouv6ulIyojin8ucwiGuUmbiqz3huwmoVf9HOdWERru5EbyyyiNd2QO4bRaJ0D9dLmgaxZv+fBMotolJ+XQURrOrMMIhplMheUWZ8MZM16qj\\u002fvsI6og3Pyjt2ogSf4XZlFNMqPBmoRyEDWLHyVmWUW0RyPc1aZRbSaX\\u002fBEmUU0xwz+X5n11QDXrMf5Q5lFNMq38y71aGlz+W6ZRTTKuQN4X2KAaxZ+xqwyi2iO27mizCJaxz+5s8wimmMWZ5RZPwx8zboqT1tFo83gV3noNlpUJ2cxo4wjmuN6\\u002flNm\\u002fTDwNetBzstJJpprDv\\u002fk\\u002fjKOaAWT+SdzyjiiITo4b2B3TRj4mjWNfzC5jCOa4y4uL7OIVvBP7i6ziOa4j78zvYz7YeBrFq7k6kxoRXM9wN9y4yVaznQuG9gL+YhW0snVXFnG\\u002fTMoNethLmFqGUc0xz+4o8wiqu0O\\u002fl5mEc0xlUt4rIz7Z1BqFn6bS6JotGv5d3Z2iBYyl6u5rowjmuMBzimzfhusmnUXF5ZZRHNM55yBvcEfMaimc3ZudUejXcC9ZdZvbWUwcNbh1kH9L4iotHZuYt0yjqik29kwzxhGc3Wy1mA8ATJYs1m4nd+UWURzzOX7ZRZRVd9Jx4pG+\\u002flgdCyDPdm0LRcysYwjGmIZbmKZMo6omEfZmEfLOKIhnuUVXFXGA2EQZ7PwHy4qs4jmeIxflFlE9ZyZjhWNdiHXl9kAGdyaNYtTmFnGEc3xPaaVWUSVTOP\\u002fyiyiOWbyw8F7G\\u002fPg1qxObuCfZRzRHPdxfplFVMm5g\\u002fF4VUTL+DvXD96W6oNbs3APv8tz7dFcT\\u002fOLbNYblTWVX\\u002fJMGUc0xHTOH9QLjUGvWXP4MzeVcURDdPAf\\u002flXGEdXwL\\u002f5DRxlHNMRNXDioT9kOes3CDVw8eLc9I6rubi7OCq2ooGn8mXvKOKIhZvFnbizjATUUNWs2P+KpMo5oiNn8YVAnpSP65h7+wOwyjmiIKZw22LNAQ1GzcH2WAUejXcnluTMTldLBv7i6jCOa41xuKLOBNkQ1C1\\u002fNKstotFPzKEhUyvTs4xCN9jQnlNkgGLqadQM\\u002fLbOI5vgrfy2ziOHzF\\u002f5RZhHNcfrQPJ43uC\\u002fbKWzIhaxUxhENsQX\\u002fZFQZRwy52WzLv8s4oiEeZCduKeNBMHSzWbgrE1rRaP\\u002fOGsWoiN\\u002fynzKLaI7Th+wR2yGtWTP4DXeVcURDdHJCdnaIYfcs\\u002f2\\u002fwNr2OqLq7+C0zynhwDGnNwk2cl+eHo7luzoRWDLvzhuZmSUQVzea8IXjA8DlDXbOm8Fsml3FEQzzJb3i8jCOGymOczZNlHNEQkzlnKLfyHOqahb\\u002fxF+aWcUQTzOWvXF7GEUPlCv6Wb+BoqLlczGVlPJiGoWZN58QhuykaUTn3cQFPl3HE4HuK87mvjCMaYgYnDfEWhsNQs3A9p5ZZRHOcxa1lFjH4buXXZRbRHCdzbZkNsuGpWfj8kD1MGVE5kzmlzCIG3yk8UGYRDXE3Xy6zwTdsNethTsw73qK5zsi+RTHErubMMotoiA5O4MEyHnzDVrNwDleUWURDPMVHsnVRDJkOPjyUj1dFVMvl\\u002fLbMhsRw1qzJfDtr4aO5LuEPZRYxOM7POzWjuWbwfe4v4yExnDWrg79xUW4dRkN18P8yvxBD4ElOyjdtNFQHf+Yvw3UEDGfNwl2cwRNlHNEQ\\u002f+Hc3DqMQdXJuVxTxhEN8ThncncZD5Vhrlk4l7+VWURDPM5vhmVVZjTHA3nzQDTaPzi3zIbQ8NesKXxpuObyIoZZB38cxtnsqL0OLuVP+QmLhurky0wp4yE0\\u002fDULl3NqbpxEQ03lRzxSxhED4RFOYWoZRzRBJyfz9zIeWpWoWfgwt5VZRENcwO\\u002fKLGIg\\u002fI4\\u002fl1lEQ9zGJ8psyFWlZj3N8TxbxhEN8RUml1lE\\u002fzzAl8osoiGe5XieLOMhV5WahfM5r8wiGuJ2Pp875zGAOvkCd5ZxREP8gd+X2XCoUM16lJ8N1\\u002fZhEcPvTP5RZhF99Xd+WmYRDTGZ0yuy5rVCNauTP3Euc8qRiCZ4hhOyWDkGxFS+xjNlHNEEs\\u002fkdF1bk\\u002fkCFahamcXLWwkdDdfBPfsfcciSiN+byO\\u002f6RTRyioe7gFKaV8TCpVs3ClXyrIhU0Yqg9xE+4r4wjeuM+fsJDZRzRBJ18m6vLePhUrmbhNP5UZhFN0MklnMfsciSiZ+bwey7OxWo01B\\u002f4UaV+\\u002fNvKoBqW4xaWKOOIJliZK1ixjCN64AG25oEyjmiCp1mPh8t4WFVxNguP80VmlnFEE9zPZzOhFX0wm8+kY0VDzeBYHivj4VbRmjWXX2TeO5rrlIrs+BKt5fecWmYRTdDJxfyqgo8QVbRmYTInZ2PsaKgOPs+9ZRyxcPdxXJ4ujIa6l\\u002f+rZmWobs2ay\\u002fn8hlnlSEQTXMv3KnhlFtU0l+9wXRlHNMFsfsvvq\\u002fmFWd2ahel8gbvKOKIJZvIb\\u002fpY757FInVzKr7OeNRrqDo5jRhlXQ6VrFh7h4zxdxhFNcDM\\u002fqMj7IqLKHuUUbi3jiCZ4ho\\u002fwaBlXRtVrFn7Lt6o5FRgx6M7lvKy3iW508Ft+V8YRTTCXb3F+GVdJRffNKqzIj9mljCOaYG0uZI0yjgB3swt3lnFEE1zAITxYxlXSArNZeIgvV\\u002fMRgohBdweHZYVWLFAnH0zHioa6j69W\\u002f7VSrVGzOvkLP6jsCreIwXUup+XWYRQ6+CG\\u002fLeOIJpjOyfy1+pegrVGzMIsfc0lONdFQx3F9mUWzXc\\u002fxZRbRBB1czGkt8XBty9Qs3M0Xq\\u002fayooghMplvVvlpmhhij3AS95VxRBM8wvHcU8aV1Eo1C3\\u002fjc9WfIowYeLM4i9\\u002fkXYeB2ZyT3ZujoTo5mr+XcVW1xpOG82vnFN5axhFNsB7nsEEZR8Pcwuu4qYwjmuCHvKuFdnlqsdkszOWTXJ45rWiiW\\u002fliHgVpuJkck44VTdTJFRzdQh1LK9YsPMyxrXJXNmKA\\u002fYTvt9a3TAygDv6PM8s4ognu4Zjq7+BQaMma1cGlnMoz5UhE7XVyDJeWcTTDRVmfGg31NCfzl5bbb6Alaxam8m0uLuOIJniSY\\u002fOQWQPdy+d5vIwjmuAvfJepZVx5rVqz8Djv5akyjmiCyzgpz5k1yky+zmVlHNEET\\u002fAunijjVtDCNQsPsDePlXFE7c3mZ\\u002fyGOeVI1NEczuHn+fOOJnqUfVtuSdZzWrtm4a98PnNa0UQPciI3lnHU0U18hQfKOKL2pnAsfynj1tHyNQuncXpun0QTXcGnmFbGUS\\u002fT+TRXlXFE7c3iJ\\u002fykjFtKHWrWFE7i0jx9E030Bz5bZlEjnXya88s4ovY6+SvfaPX7VW1l0LJ24VRWLeOI2hvHj9m3TodzzNPJLzmE6eVIRO3dy1u5pIxbTR1ms+b5M5\\u002fh6TKOqL3pfI6rM59bM51cxXHpWNFET3NsDTqWOtUsnMYXs1AlmugWvsrkMo5WNpmvcnMZR9TedL7IKWXcmmpVszr5Jt\\u002fJi0iicWZzHv+X1x3WxnS+z3nZwSEaZy7f55tl3LJqVbMwjW9xbhlH1N5UTsjPfm2cx9d4towjau93\\u002fL863Zeq55rZ7fg2m9f1\\u002f17EQo3k72yVn\\u002f3W1cm\\u002feWk2qYnGmfez\\u002f37+WY60srrNZs3zd47l3jKOqL05vI0byjhax40cko4VTXQfx9WsY6lrzcLZfJpnyjii9m7hC3mxdIu6h89zUxlH1N4zHM05Zdz6aluzOjmTj2ZJcDTOHM7l5FxltJynOZnfZdl7NM5MPsEZtdyVprY1C3P4MSfQUY5E1NtUvsI5+dlvIR2cx4lZ9h6N08nXOI3Z5Ugt1LlmYTrf48y6\\u002fulFLNQMDueftbw6rJ9OLuew7EQajTOLn\\u002fKtOj1aWKh5zcL9HM+fcl0fjfMkb+byMo7q+RcH8XgZR9RbB3\\u002fieB4oR2qk\\u002fjUL1\\u002fMprijjiNq7k49xXRlHlVzDx7m7jCNq70qO4sYyrpcGba6zNuexfhlH1NsoXsdXWa0ciQqYzEc5K8veo3FuYy9uL+PaacRs1jx38Np6T01GLMBsfsm3mFqOxHCbytf5eTpWNM797N2EjqVRNQu38X7uyqrgaJZOvsGP8ihIpczh1Dq9uS2iRzq5i\\u002fc1pGNpWs2ay+\\u002f5HPeXIxH1NpOjOC3zJhUxhx9xdHZ7j8a5n2P5I3PLkZpq0Nqs54zjAL7NuHIkot6W4su8jfZyJIZQB6fxUZ4oRyLqbQYf4GeN2rqkiTULo9mfUxlVjkTU2xqcyOsae+xXwTkcwV1lHFFvc3g7P2dmOVJrzbpp+Jx5G6IdkVfxROPczWe4LAsUh0Unf+cz6VjRONM5nNOb1rE0tmbNczqfz5aA0Tg38BmuL+MYfNfzSa4t44h6e5xj+XEZN0Oja9YzfJevMaUciai3i\\u002fkod5ZxDKY7+DiXlnFEvT3FSfxfY\\u002feUyfoMS\\u002fB+jsu\\u002fi2icHfkB65ZxDII7eCcXl3FEvXXwab7Hk+VIY6RawBgO4yv51xHN0sYunJIN4gfbZA7lwiyIi2bp4GN8u4HrsebX6JuGz5nJ\\u002f+MzjZ3TjIbq5M98hPtSAAZJZ9frdNKxomGmchQnNbxjYWQZNNVcvslcPsRy5WBEXXXyaxbnOFYqB6PfHuZYfpWOFc3yKCfx3ebsQdqN3CV7niV4O0exZDkSUWMjeBNfY5lyJPrhCT7CT7L1fjTLU3yBk5u8Hmt+qVmliezHdxlbjkTUWDuv43ssXY5EnzzB+zgrHSuaZQaH8XOeKUeaKjVrAUawDz\\u002fL23iiWUZyAN9kiXIkeunJrlNNOlY0yTQO5Fw6ypEGyxL4BejgXA7lnvywRIPM4Uw+zgPlSPTGg3yKX6RjRYN0ci9v47ycNgupWQs2h7P4MDdl7Wo0yBx+xOd4sByJnnmIz3Ays8uRiLrq5CY+ytlZ8\\u002f5CuWnYnZHsyNfZuByJqLF2XsNJrFKORLfu44icaqJxbuJDXJQJ3AVKzVqENtblDLYoRyJqrI1d+AFrliOxEPfyjuyPFY1zJW\\u002fi9twrXJjUrB5ZgTPZIf++olleyQ+yR3xPTOZd\\u002fCEdKxqkk4s5kEfKkZhP1mb1yEO8jZ8yvRyJqLELOIKbyjie7yYOT8eKZpnGmbwrHWuRMjvTC6vxId6bLbWiWXbnWLYt4wDX8El+X8YRNTaD7\\u002fB17itH4gVSs3pnSd7E55lUjkTU2GYcz575xihcwFFcWcYRNfY0R\\u002fPjbPLeQ\\u002fnS7LVRvIpv5w1w0Szrcjyvy0qDeTr4NZ\\u002fitnIkosbu5\\u002f38nlnlSCxEalYfvYJvsnHOOdEgK3Eir2dUOdIwszmbDzO5HImoq3mbYx3GxVmF2CspCX30F97OhdkgJxrkAT7Ej5lRjjTJdH7KB9OxokHm8mfew0XpWL2V2ax+WZsP81YmlCMRdTWJw\\u002fkAy5UjDfAY3+Akni5HIupqGqfzVe4sR6IHUrP6axJv50iWLUci6mo0B\\u002fC5pm1eeg\\u002fH8DNmliMRdfUwX+ZHWfDeZ6lZA2AUe\\u002fA11ilHIupqJLtwEuuXIzV1G0fwx7xPJBrkHj7KOXlFZ3+kZg2YbfgOmzOyHImoqy05mc3qvcqzgxt4J5eXIxF1NZdreT\\u002f\\u002fKEeil+r85TjE\\u002fsU+\\u002fJQp5UhEXV3F6zi7xu9HmMY5vC4dKxrkKc7ktelYAyKzWQNsMd7D+1ijHImoq+X4GIeyVDnS4h7nFE7g0XIkoq7u4nt8L4959MRHPvKR9ddf\\u002f5ZbbjnxxBPLsS65wTXAnuHbXMexbJUaG43wCF\\u002fgNo5mlXKwZT3EFzmdp8qRiFrq5N8czSVMKwdjQdZff\\u002f0tttiiTJ8vNw0H3jT+yF5cWI5E1NUUTuag2rxH9jHexLfTsaJB\\u002fsQr+X061sBKzRoUnTzG7hzFw9nNLRqhg7+yBRe29FKtGVzCllxERzkYUT8dPMzx7MFjOV8NuNSswXUC7+dvef9TNMX9HMj3WnRa63FO5o3cW45E1NIs\\u002fs57+VwK1iDJ2qzBNYvfcAvv5t15FVw0wmN8nts4ktXKwQqbzFc4g8fKkYhamsOP+QY35L1xgyezWYOug+s5moN4qByMqKUnOJU3cH05UlU3cwAnp2NFUzzAAXyCa9OxBlVq1hCZwq\\u002fYhj9lwUc0wgwuZ3POqPiXeAdnsTGXtfSasoie6uAytucsHi8HY6ClZg2p+3grX2VyORJRSx28m49zVwWvLzq4h09yaAX\\u002fx0UMivv4MvtxVzkSgyNrs4bagxzNv3g7uzK6HI+omWf4FjfzQXar1F5yf+VELsiroKMRZvNXvsm5eTPnUKrQV17TrM5BvJ+Vy5GIWlqXt\\u002fMBJpQjQ2463+UUbixHImrpQb7Dz7mtHIne2HnnnQ844IDn\\u002fnK99dabOHHi1KlTb7311ufCM88886KLLnruL1OzhtNYduCLbJE\\u002fiWiECezDl4b3CcR7+TjnMbUciaifDq7k0\\u002fyVGeVg9NKIESNOOumkl770peVAl3\\u002f84x+HH354Z+f\\u002fdsfIyX34TeQLHMqE\\u002fHlEI2zK19hh6O+Zz+KffJQrypGI+ulkGqfxybygcACNHz\\u002f+Rz\\u002f60VprrVUOcOeddx5yyCHTpj1vG\\u002f2c1qtiNz7ONixejkTUz1J8lDew1tB8C3VyLz\\u002fPe6CjKaZyJd\\u002fgN+VI9Nvyyy9\\u002fxhlnLL74807XTz755MEHH\\u002fzwww\\u002fPHxqaL7jooZU5hLcN2ZknYpjtzmHswrhyZEDN4GK+zznlSET9dHIHP+ZH3Je93fvpBz\\u002f4wRZbbHH11Ve\\u002f613vmj\\u002fffPPNv\\u002f\\u002f9748c+d\\u002fnCOfMmfPud7\\u002f7mmuumf8z8\\u002f7ebOhQIffzdQ7mtDwHEo1wIR\\u002fg+EGdYHqSE3k\\u002fvytHIuqng19xMCdybzrW4LnmmmuOPfbY5\\u002f7y2GOPLTrWc1KzquVZ\\u002fsn7eT13lIMRNTNv46ov8ybuKQcHwt3sz3HV3LYrYoDdzmt5G5fzbDkYA+38888\\u002f\\u002ffTTcfrpp59\\u002f\\u002fvnlcJfsm1VF0\\u002fgtV3MUr2fZcjyiTmbxJ9blK7yZJft\\u002f+dfBFM7kQ8wuByNqppPH+C3HDdLlSizMt771rSlTpvzkJz8pB+bT36+zGDyTOYz3cD5TysGImpnNJ3gbF\\u002fTzQnw6F\\u002fMOPpyOFfX3FH\\u002fknbwnHWvodXR0nH766R0d3c2VZzar0ubway5lXw7ipUP\\u002fBHzE0JnF77iB\\u002ffkAq5TjPTBvE8Zfcks5ElEzs\\u002fkXP+XXlE+3RXXkgbbWMJLV2Y8Ps1w5GFEzY9mQj\\u002fN6RpWDCzGH33MMN+YN0FF\\u002fj\\u002fMtfspdeWJqUH3961\\u002fffvvti33ee2jeHvGpWa1kBKvyHfYqRyLqZzxv4hhWLEde4EE+wxn9vN0Y0QI6+R0f4P481zEE3vrWtx522GFl2hupWa2njd35GFuxeP4Io+bW52h2Y9kX\\u002frB38gQXcTz\\u002fLsYiaqWTp\\u002fkPJ3BedmoYMuPGjdt333233HLLiRMnlmOLMnXq1Kuuuqr82opWsSyv5\\u002fVsz9hyMKJORvA6DuHlTHoufZq\\u002f8zN+mov6qLmZXM6ZWYbVilKzWtva7Mbb2JL2cjCiNtpYmdfwTjbtMOJmTuFX2eU6am4OV3Iaf+GmcjBaQWpWy2tndfbhCFYrByPqZAwrP+aDP3PQNy0zmRnlByLq5B5O5FzuZW45GC0iNas+luDTvI8x2Q8taqezaxvTD3KnlTiR1zImX2JROx3M4Ed8hsfLwWg1+Yaqm\\u002fU5gp1YI5tsRS108jCX8x0uYdZ\\u002f49HsyPvYkpXzVRa1MJt7+RNf47ZyMFpTvptqaBQvZl\\u002f2YuPMbEXL6mQyF3E+v+eZchzj2YXXs0vKVrSyDq7nj\\u002fyOfzGzHI+WlW+l2hrLpuzIm1O2ogU9wS\\u002f4Df9a9MumlmQb9uaNLFMORlRaB7dzGhdwXQpW\\u002faRm1dxoVmQ\\u002fjmDlcjCiiqZxGifxAFN7+iBhGxNYmQ\\u002fxFsaX4xFVNJmv8RseTMGqq9SsphjFO\\u002fkQqzA2f\\u002fBRPXN4gt\\u002fz2f6+AndFjuL1LN3zd\\u002fVEDJVOZvIg\\u002f8fX0q5qL2fbZlmCA9mXzfJuxKiMp7mNv\\u002fITru7p9NUibcQh7My6LF4ORgyPh7me8zmdx8rBqKPUrCZamVewIzuydpZtxfB5isv4Ixdwczk4IDZkV3bm5SxdDkYMkQ7u4yIu4FIeKMejvlKzmmsSG7Abb2Gd\\u002fCjE0HqKsziLG7ifOeX4AGpnBTbljeybma0YWp3cyulcws08UY5H3eXc2nSjmMC+fJDNysGIgfcAP+S7PMmMAbtFuEhtjGUp3sfbWLEcjxh4\\u002f+EkzuZZZpeD0QypWfFfI3kJ7+flLMOYcjyi7+bwNPdzKj8e\\u002fjUpS7A\\u002f72M1FmdkOR7RdzN5jCv4LhenXUVqVjzPCLZgX17KBiyXlVvRP89yM1fzB347uDcHe2skr2EPtmB9JpTjEb3QwSPcxD\\u002f49UA+yxEtLjUrFmx1tuIl7MgWKVvRe49wCX\\u002fiSm6u7muex7IhW7A9O+f169F7ndzEhVzKFdxbjkezpWZFdyayIhvxVnbJ4uHogTlcy5lcyt080jIX9UuzJjtxIJvmTmL0wFNcyOncxgM8VY5HpGZFT7QxguU5kPezZjkeAc9yLt\\u002fkcua2TLsqtNHOBnyAA3NlEQsxme9zOvfT0ao\\u002f7DEkUrOid9rYiTeyHSuwJO3lR6IpOpnKY9z6\\u002f9u7v9+s6jsO4K8WKLVooUV+VNsyqRUUZc3cJovOgUsWksWEZdnVkt3IjV4Y\\u002fwL\\u002fAa+MF2oiXswsWTLNTCTZdjEXh\\u002fNHfTYnxinCphToA1UQQWttabuLJ6drT6VTofbX+5WTJyfn+32eq89zvp\\u002fz\\u002fXX4Pb9bbKvV1\\u002fILfkY361iVG+YSNspHVPkbv+WFcnnEReSuEV9HXbHH6ffZxo1szPytpeRz3uMNXuUA\\u002f5xfc9svr+X0cCe3so3uvDBxKRnjNId4nVf4KyfSdxVfSdKsuCR1XMdWbmUXt6UJWtQucJgXeYkjvMXZJdTmNLOVrfyQO7g+87cWtUFe5gUO8i6HGCtXifgSkmbF5dFIK2u4kz3czpXlKrGAHWc\\u002fz3KYM3y8hLKrkjpW08omdvNzuspVYgEb5B\\u002fsZz8fcWb+rpGNBSJpVsyKNvbwS77DcpZlSHGhGWWUKvv5Nb3l8phwG7\\u002fip2xkOfW5ry4oY4wxwt\\u002f5Dc9yslwl4hLkdhCzaz27uIvtbOTqTCSexy5whgH6eY0\\u002fUsmz\\u002fJe1gpv5CT+ik\\u002fW0ZFRxvhrnUz7kJId4kT9xrFwr4nJIexffkHV8m1vopotuOrNKcX4Y5D0O8TZv8zpvL90xwUtXz430sJXNbKGLNeVaMQfGOMVh3uUt3uSNuX\\u002fzUywWbW1t1Wq1fDVpVnzzmtjItXSwg+9xS1508o0b5zgVXuUQJzjOqczyvZzqWEs77WxjB9+lvVwrZt0nvMlr9FKlnxOcL9eKuDTPPffcPffcMzAwULqeNCvmTB1NNNHINn7MLm7OW6tn03le4y\\u002f8gSqDDDKSvqvZVceKIthb2cUu7mRtuWJcNiMc4UX+zMt8VgR7Ij1mS6VSqVar0zOtpFkxv6zldn7ED7iORhpYwYpyxZjJOCOMMMxHvFE0OAfTzswXdfRwF3ewndU0FMGe5SJfySjDDDPEEV7hBV7idLlixGyqVCqYnmklzYr560q2cgs3s4V1tNDCmkwtnmacQc5yltN8wGHe4iDvMFyuHvPKMjYVkX4THcXuKGtoyl16mpEi0s9whr5iotXBxfYaglhQammWaZlW\\u002fsCxMDTSQTvX0E4bnbTRxgYay9UXvzHOcZKT9HFs0qyTY3ywmLdlX9yWs44OruUarqGDDjaykeYl2dc1xKkiwPuocqKYT3g8a2FjznV2dvb09Dz44IMTV\\u002fr7+\\u002ffu3VvLtJJmxcJTxxW00MxVNLOBLVzPJjrYQEP5SwvbOJ9ygr5iVeB7nOY85znLx4yUvxSLwApWs4aruIq1bOYGNtPJtYuxu2u4eHbo4wjvcpLznOMcZ\\u002fksQ98x5+rr63fv3r1z586enp7W1tZy8aRMa5H9P2OJqmfZpH1QG+jgpmIx\\u002faaiRVoo\\u002fQBDHKOPfxev+XiHDxlljFEuMJqmZimqmxrpy1jHVrZwA1100r5wunfHimeH9\\u002fkP7\\u002fAvjjNcBHst0sfK34uYO7UEa+\\u002fevZ2dneWyqWqjh0mzYqmoo41v0cF6NrCBq9lAa9FwTT7qqaN+0ompO3xPJG2lRqCWAI0zVnzWcqPa50TrMcSHDDBQnBzjGEeX9Kts4tLVsbp4uGhnPVezvjhpLLaqnwjz2udEmE9E\\u002fWTTg70W2rUrE2FeO6+F+cRxgTOc4gMGOMUpjvM+1UR6LCwtLS2PPfZYV1dXueAi+vv7k2ZFwEpWF6OQtWMlV9BAIytZyTIaJ+VbDcX2qkOMFr8zzmcMM8Igo3zKMOf5ZNKRMb6YI7VRyCsnHbVgb2JZEfINXDHpgaIW+BhleFJ2VQv8oWKV3+cMMcQnxWj2x5zj8+J3Iha25ubmJ554YvPmzeWCGSXNioiIiJhJU1PTvn37uru7ywUzeuqpp0o9wxERERExxQMPPPA1cqyHH344aVZERETERXV2du7Zs6d8dUa1HEt2eYyIiIiYwf33319f\\u002f79uqaNHjx44cKBSqfT19VWr1ZGREZO2J8W+ffseffTR2nnSrIiIiIgvtn379p07d9bOn3\\u002f++aeffrq3t3dKjamefPLJiRwrIiIiIi7qkUceqVQqzzzzzMz7OFQqlUqlcu+995YLIiIiImK6xsbG3t7exx9\\u002ffNWqVeWyqSqVyn333Ve+GhERERFfaMeOHQ899NDy5f9\\u002fhlX6sSIiIiK+grvvvruhYZG9IzciIiJiHpi8wDAiIiIiIiIiIiIiIiIiIiIiIiIiIiIiIiIiIiIiIiIiIiIiIiJi8fovluOyp6Z2O1EAAAAASUVORK5CYII=\",\"type\":\"image\",\"xaxis\":\"x\",\"yaxis\":\"y\",\"hovertemplate\":\"x: %{x}\\u003cbr\\u003ey: %{y}\\u003cbr\\u003ecolor: [%{z[0]}, %{z[1]}, %{z[2]}]\\u003cextra\\u003e\\u003c\\u002fextra\\u003e\"}],                        {\"template\":{\"data\":{\"histogram2dcontour\":[{\"type\":\"histogram2dcontour\",\"colorbar\":{\"outlinewidth\":0,\"ticks\":\"\"},\"colorscale\":[[0.0,\"#0d0887\"],[0.1111111111111111,\"#46039f\"],[0.2222222222222222,\"#7201a8\"],[0.3333333333333333,\"#9c179e\"],[0.4444444444444444,\"#bd3786\"],[0.5555555555555556,\"#d8576b\"],[0.6666666666666666,\"#ed7953\"],[0.7777777777777778,\"#fb9f3a\"],[0.8888888888888888,\"#fdca26\"],[1.0,\"#f0f921\"]]}],\"choropleth\":[{\"type\":\"choropleth\",\"colorbar\":{\"outlinewidth\":0,\"ticks\":\"\"}}],\"histogram2d\":[{\"type\":\"histogram2d\",\"colorbar\":{\"outlinewidth\":0,\"ticks\":\"\"},\"colorscale\":[[0.0,\"#0d0887\"],[0.1111111111111111,\"#46039f\"],[0.2222222222222222,\"#7201a8\"],[0.3333333333333333,\"#9c179e\"],[0.4444444444444444,\"#bd3786\"],[0.5555555555555556,\"#d8576b\"],[0.6666666666666666,\"#ed7953\"],[0.7777777777777778,\"#fb9f3a\"],[0.8888888888888888,\"#fdca26\"],[1.0,\"#f0f921\"]]}],\"heatmap\":[{\"type\":\"heatmap\",\"colorbar\":{\"outlinewidth\":0,\"ticks\":\"\"},\"colorscale\":[[0.0,\"#0d0887\"],[0.1111111111111111,\"#46039f\"],[0.2222222222222222,\"#7201a8\"],[0.3333333333333333,\"#9c179e\"],[0.4444444444444444,\"#bd3786\"],[0.5555555555555556,\"#d8576b\"],[0.6666666666666666,\"#ed7953\"],[0.7777777777777778,\"#fb9f3a\"],[0.8888888888888888,\"#fdca26\"],[1.0,\"#f0f921\"]]}],\"heatmapgl\":[{\"type\":\"heatmapgl\",\"colorbar\":{\"outlinewidth\":0,\"ticks\":\"\"},\"colorscale\":[[0.0,\"#0d0887\"],[0.1111111111111111,\"#46039f\"],[0.2222222222222222,\"#7201a8\"],[0.3333333333333333,\"#9c179e\"],[0.4444444444444444,\"#bd3786\"],[0.5555555555555556,\"#d8576b\"],[0.6666666666666666,\"#ed7953\"],[0.7777777777777778,\"#fb9f3a\"],[0.8888888888888888,\"#fdca26\"],[1.0,\"#f0f921\"]]}],\"contourcarpet\":[{\"type\":\"contourcarpet\",\"colorbar\":{\"outlinewidth\":0,\"ticks\":\"\"}}],\"contour\":[{\"type\":\"contour\",\"colorbar\":{\"outlinewidth\":0,\"ticks\":\"\"},\"colorscale\":[[0.0,\"#0d0887\"],[0.1111111111111111,\"#46039f\"],[0.2222222222222222,\"#7201a8\"],[0.3333333333333333,\"#9c179e\"],[0.4444444444444444,\"#bd3786\"],[0.5555555555555556,\"#d8576b\"],[0.6666666666666666,\"#ed7953\"],[0.7777777777777778,\"#fb9f3a\"],[0.8888888888888888,\"#fdca26\"],[1.0,\"#f0f921\"]]}],\"surface\":[{\"type\":\"surface\",\"colorbar\":{\"outlinewidth\":0,\"ticks\":\"\"},\"colorscale\":[[0.0,\"#0d0887\"],[0.1111111111111111,\"#46039f\"],[0.2222222222222222,\"#7201a8\"],[0.3333333333333333,\"#9c179e\"],[0.4444444444444444,\"#bd3786\"],[0.5555555555555556,\"#d8576b\"],[0.6666666666666666,\"#ed7953\"],[0.7777777777777778,\"#fb9f3a\"],[0.8888888888888888,\"#fdca26\"],[1.0,\"#f0f921\"]]}],\"mesh3d\":[{\"type\":\"mesh3d\",\"colorbar\":{\"outlinewidth\":0,\"ticks\":\"\"}}],\"scatter\":[{\"fillpattern\":{\"fillmode\":\"overlay\",\"size\":10,\"solidity\":0.2},\"type\":\"scatter\"}],\"parcoords\":[{\"type\":\"parcoords\",\"line\":{\"colorbar\":{\"outlinewidth\":0,\"ticks\":\"\"}}}],\"scatterpolargl\":[{\"type\":\"scatterpolargl\",\"marker\":{\"colorbar\":{\"outlinewidth\":0,\"ticks\":\"\"}}}],\"bar\":[{\"error_x\":{\"color\":\"#2a3f5f\"},\"error_y\":{\"color\":\"#2a3f5f\"},\"marker\":{\"line\":{\"color\":\"#E5ECF6\",\"width\":0.5},\"pattern\":{\"fillmode\":\"overlay\",\"size\":10,\"solidity\":0.2}},\"type\":\"bar\"}],\"scattergeo\":[{\"type\":\"scattergeo\",\"marker\":{\"colorbar\":{\"outlinewidth\":0,\"ticks\":\"\"}}}],\"scatterpolar\":[{\"type\":\"scatterpolar\",\"marker\":{\"colorbar\":{\"outlinewidth\":0,\"ticks\":\"\"}}}],\"histogram\":[{\"marker\":{\"pattern\":{\"fillmode\":\"overlay\",\"size\":10,\"solidity\":0.2}},\"type\":\"histogram\"}],\"scattergl\":[{\"type\":\"scattergl\",\"marker\":{\"colorbar\":{\"outlinewidth\":0,\"ticks\":\"\"}}}],\"scatter3d\":[{\"type\":\"scatter3d\",\"line\":{\"colorbar\":{\"outlinewidth\":0,\"ticks\":\"\"}},\"marker\":{\"colorbar\":{\"outlinewidth\":0,\"ticks\":\"\"}}}],\"scattermapbox\":[{\"type\":\"scattermapbox\",\"marker\":{\"colorbar\":{\"outlinewidth\":0,\"ticks\":\"\"}}}],\"scatterternary\":[{\"type\":\"scatterternary\",\"marker\":{\"colorbar\":{\"outlinewidth\":0,\"ticks\":\"\"}}}],\"scattercarpet\":[{\"type\":\"scattercarpet\",\"marker\":{\"colorbar\":{\"outlinewidth\":0,\"ticks\":\"\"}}}],\"carpet\":[{\"aaxis\":{\"endlinecolor\":\"#2a3f5f\",\"gridcolor\":\"white\",\"linecolor\":\"white\",\"minorgridcolor\":\"white\",\"startlinecolor\":\"#2a3f5f\"},\"baxis\":{\"endlinecolor\":\"#2a3f5f\",\"gridcolor\":\"white\",\"linecolor\":\"white\",\"minorgridcolor\":\"white\",\"startlinecolor\":\"#2a3f5f\"},\"type\":\"carpet\"}],\"table\":[{\"cells\":{\"fill\":{\"color\":\"#EBF0F8\"},\"line\":{\"color\":\"white\"}},\"header\":{\"fill\":{\"color\":\"#C8D4E3\"},\"line\":{\"color\":\"white\"}},\"type\":\"table\"}],\"barpolar\":[{\"marker\":{\"line\":{\"color\":\"#E5ECF6\",\"width\":0.5},\"pattern\":{\"fillmode\":\"overlay\",\"size\":10,\"solidity\":0.2}},\"type\":\"barpolar\"}],\"pie\":[{\"automargin\":true,\"type\":\"pie\"}]},\"layout\":{\"autotypenumbers\":\"strict\",\"colorway\":[\"#636efa\",\"#EF553B\",\"#00cc96\",\"#ab63fa\",\"#FFA15A\",\"#19d3f3\",\"#FF6692\",\"#B6E880\",\"#FF97FF\",\"#FECB52\"],\"font\":{\"color\":\"#2a3f5f\"},\"hovermode\":\"closest\",\"hoverlabel\":{\"align\":\"left\"},\"paper_bgcolor\":\"white\",\"plot_bgcolor\":\"#E5ECF6\",\"polar\":{\"bgcolor\":\"#E5ECF6\",\"angularaxis\":{\"gridcolor\":\"white\",\"linecolor\":\"white\",\"ticks\":\"\"},\"radialaxis\":{\"gridcolor\":\"white\",\"linecolor\":\"white\",\"ticks\":\"\"}},\"ternary\":{\"bgcolor\":\"#E5ECF6\",\"aaxis\":{\"gridcolor\":\"white\",\"linecolor\":\"white\",\"ticks\":\"\"},\"baxis\":{\"gridcolor\":\"white\",\"linecolor\":\"white\",\"ticks\":\"\"},\"caxis\":{\"gridcolor\":\"white\",\"linecolor\":\"white\",\"ticks\":\"\"}},\"coloraxis\":{\"colorbar\":{\"outlinewidth\":0,\"ticks\":\"\"}},\"colorscale\":{\"sequential\":[[0.0,\"#0d0887\"],[0.1111111111111111,\"#46039f\"],[0.2222222222222222,\"#7201a8\"],[0.3333333333333333,\"#9c179e\"],[0.4444444444444444,\"#bd3786\"],[0.5555555555555556,\"#d8576b\"],[0.6666666666666666,\"#ed7953\"],[0.7777777777777778,\"#fb9f3a\"],[0.8888888888888888,\"#fdca26\"],[1.0,\"#f0f921\"]],\"sequentialminus\":[[0.0,\"#0d0887\"],[0.1111111111111111,\"#46039f\"],[0.2222222222222222,\"#7201a8\"],[0.3333333333333333,\"#9c179e\"],[0.4444444444444444,\"#bd3786\"],[0.5555555555555556,\"#d8576b\"],[0.6666666666666666,\"#ed7953\"],[0.7777777777777778,\"#fb9f3a\"],[0.8888888888888888,\"#fdca26\"],[1.0,\"#f0f921\"]],\"diverging\":[[0,\"#8e0152\"],[0.1,\"#c51b7d\"],[0.2,\"#de77ae\"],[0.3,\"#f1b6da\"],[0.4,\"#fde0ef\"],[0.5,\"#f7f7f7\"],[0.6,\"#e6f5d0\"],[0.7,\"#b8e186\"],[0.8,\"#7fbc41\"],[0.9,\"#4d9221\"],[1,\"#276419\"]]},\"xaxis\":{\"gridcolor\":\"white\",\"linecolor\":\"white\",\"ticks\":\"\",\"title\":{\"standoff\":15},\"zerolinecolor\":\"white\",\"automargin\":true,\"zerolinewidth\":2},\"yaxis\":{\"gridcolor\":\"white\",\"linecolor\":\"white\",\"ticks\":\"\",\"title\":{\"standoff\":15},\"zerolinecolor\":\"white\",\"automargin\":true,\"zerolinewidth\":2},\"scene\":{\"xaxis\":{\"backgroundcolor\":\"#E5ECF6\",\"gridcolor\":\"white\",\"linecolor\":\"white\",\"showbackground\":true,\"ticks\":\"\",\"zerolinecolor\":\"white\",\"gridwidth\":2},\"yaxis\":{\"backgroundcolor\":\"#E5ECF6\",\"gridcolor\":\"white\",\"linecolor\":\"white\",\"showbackground\":true,\"ticks\":\"\",\"zerolinecolor\":\"white\",\"gridwidth\":2},\"zaxis\":{\"backgroundcolor\":\"#E5ECF6\",\"gridcolor\":\"white\",\"linecolor\":\"white\",\"showbackground\":true,\"ticks\":\"\",\"zerolinecolor\":\"white\",\"gridwidth\":2}},\"shapedefaults\":{\"line\":{\"color\":\"#2a3f5f\"}},\"annotationdefaults\":{\"arrowcolor\":\"#2a3f5f\",\"arrowhead\":0,\"arrowwidth\":1},\"geo\":{\"bgcolor\":\"white\",\"landcolor\":\"#E5ECF6\",\"subunitcolor\":\"white\",\"showland\":true,\"showlakes\":true,\"lakecolor\":\"white\"},\"title\":{\"x\":0.05},\"mapbox\":{\"style\":\"light\"}}},\"xaxis\":{\"anchor\":\"y\",\"domain\":[0.0,1.0]},\"yaxis\":{\"anchor\":\"x\",\"domain\":[0.0,1.0]},\"margin\":{\"t\":60}},                        {\"responsive\": true}                    ).then(function(){\n",
       "                            \n",
       "var gd = document.getElementById('fe9f9a70-1ce9-48ac-b416-1cb23affa7a3');\n",
       "var x = new MutationObserver(function (mutations, observer) {{\n",
       "        var display = window.getComputedStyle(gd).display;\n",
       "        if (!display || display === 'none') {{\n",
       "            console.log([gd, 'removed!']);\n",
       "            Plotly.purge(gd);\n",
       "            observer.disconnect();\n",
       "        }}\n",
       "}});\n",
       "\n",
       "// Listen for the removal of the full notebook cells\n",
       "var notebookContainer = gd.closest('#notebook-container');\n",
       "if (notebookContainer) {{\n",
       "    x.observe(notebookContainer, {childList: true});\n",
       "}}\n",
       "\n",
       "// Listen for the clearing of the current output cell\n",
       "var outputEl = gd.closest('.output');\n",
       "if (outputEl) {{\n",
       "    x.observe(outputEl, {childList: true});\n",
       "}}\n",
       "\n",
       "                        })                };                });            </script>        </div>"
      ]
     },
     "metadata": {},
     "output_type": "display_data"
    }
   ],
   "source": [
    "px.imshow(colors_cv)"
   ]
  },
  {
   "cell_type": "raw",
   "metadata": {},
   "source": [
    "只顯示綠色的部份"
   ]
  },
  {
   "cell_type": "code",
   "execution_count": 213,
   "metadata": {},
   "outputs": [
    {
     "data": {
      "text/plain": [
       "array([0, 0, 0], dtype=uint8)"
      ]
     },
     "execution_count": 213,
     "metadata": {},
     "output_type": "execute_result"
    }
   ],
   "source": [
    "img[0,0]"
   ]
  },
  {
   "cell_type": "code",
   "execution_count": 214,
   "metadata": {},
   "outputs": [
    {
     "data": {
      "application/vnd.plotly.v1+json": {
       "config": {
        "plotlyServerURL": "https://plot.ly"
       },
       "data": [
        {
         "hovertemplate": "x: %{x}<br>y: %{y}<br>color: [%{z[0]}, %{z[1]}, %{z[2]}]<extra></extra>",
         "name": "0",
         "source": "data:image/png;base64,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",
         "type": "image",
         "xaxis": "x",
         "yaxis": "y"
        }
       ],
       "layout": {
        "autosize": true,
        "margin": {
         "t": 60
        },
        "template": {
         "data": {
          "bar": [
           {
            "error_x": {
             "color": "#2a3f5f"
            },
            "error_y": {
             "color": "#2a3f5f"
            },
            "marker": {
             "line": {
              "color": "#E5ECF6",
              "width": 0.5
             },
             "pattern": {
              "fillmode": "overlay",
              "size": 10,
              "solidity": 0.2
             }
            },
            "type": "bar"
           }
          ],
          "barpolar": [
           {
            "marker": {
             "line": {
              "color": "#E5ECF6",
              "width": 0.5
             },
             "pattern": {
              "fillmode": "overlay",
              "size": 10,
              "solidity": 0.2
             }
            },
            "type": "barpolar"
           }
          ],
          "carpet": [
           {
            "aaxis": {
             "endlinecolor": "#2a3f5f",
             "gridcolor": "white",
             "linecolor": "white",
             "minorgridcolor": "white",
             "startlinecolor": "#2a3f5f"
            },
            "baxis": {
             "endlinecolor": "#2a3f5f",
             "gridcolor": "white",
             "linecolor": "white",
             "minorgridcolor": "white",
             "startlinecolor": "#2a3f5f"
            },
            "type": "carpet"
           }
          ],
          "choropleth": [
           {
            "colorbar": {
             "outlinewidth": 0,
             "ticks": ""
            },
            "type": "choropleth"
           }
          ],
          "contour": [
           {
            "colorbar": {
             "outlinewidth": 0,
             "ticks": ""
            },
            "colorscale": [
             [
              0,
              "#0d0887"
             ],
             [
              0.1111111111111111,
              "#46039f"
             ],
             [
              0.2222222222222222,
              "#7201a8"
             ],
             [
              0.3333333333333333,
              "#9c179e"
             ],
             [
              0.4444444444444444,
              "#bd3786"
             ],
             [
              0.5555555555555556,
              "#d8576b"
             ],
             [
              0.6666666666666666,
              "#ed7953"
             ],
             [
              0.7777777777777778,
              "#fb9f3a"
             ],
             [
              0.8888888888888888,
              "#fdca26"
             ],
             [
              1,
              "#f0f921"
             ]
            ],
            "type": "contour"
           }
          ],
          "contourcarpet": [
           {
            "colorbar": {
             "outlinewidth": 0,
             "ticks": ""
            },
            "type": "contourcarpet"
           }
          ],
          "heatmap": [
           {
            "colorbar": {
             "outlinewidth": 0,
             "ticks": ""
            },
            "colorscale": [
             [
              0,
              "#0d0887"
             ],
             [
              0.1111111111111111,
              "#46039f"
             ],
             [
              0.2222222222222222,
              "#7201a8"
             ],
             [
              0.3333333333333333,
              "#9c179e"
             ],
             [
              0.4444444444444444,
              "#bd3786"
             ],
             [
              0.5555555555555556,
              "#d8576b"
             ],
             [
              0.6666666666666666,
              "#ed7953"
             ],
             [
              0.7777777777777778,
              "#fb9f3a"
             ],
             [
              0.8888888888888888,
              "#fdca26"
             ],
             [
              1,
              "#f0f921"
             ]
            ],
            "type": "heatmap"
           }
          ],
          "heatmapgl": [
           {
            "colorbar": {
             "outlinewidth": 0,
             "ticks": ""
            },
            "colorscale": [
             [
              0,
              "#0d0887"
             ],
             [
              0.1111111111111111,
              "#46039f"
             ],
             [
              0.2222222222222222,
              "#7201a8"
             ],
             [
              0.3333333333333333,
              "#9c179e"
             ],
             [
              0.4444444444444444,
              "#bd3786"
             ],
             [
              0.5555555555555556,
              "#d8576b"
             ],
             [
              0.6666666666666666,
              "#ed7953"
             ],
             [
              0.7777777777777778,
              "#fb9f3a"
             ],
             [
              0.8888888888888888,
              "#fdca26"
             ],
             [
              1,
              "#f0f921"
             ]
            ],
            "type": "heatmapgl"
           }
          ],
          "histogram": [
           {
            "marker": {
             "pattern": {
              "fillmode": "overlay",
              "size": 10,
              "solidity": 0.2
             }
            },
            "type": "histogram"
           }
          ],
          "histogram2d": [
           {
            "colorbar": {
             "outlinewidth": 0,
             "ticks": ""
            },
            "colorscale": [
             [
              0,
              "#0d0887"
             ],
             [
              0.1111111111111111,
              "#46039f"
             ],
             [
              0.2222222222222222,
              "#7201a8"
             ],
             [
              0.3333333333333333,
              "#9c179e"
             ],
             [
              0.4444444444444444,
              "#bd3786"
             ],
             [
              0.5555555555555556,
              "#d8576b"
             ],
             [
              0.6666666666666666,
              "#ed7953"
             ],
             [
              0.7777777777777778,
              "#fb9f3a"
             ],
             [
              0.8888888888888888,
              "#fdca26"
             ],
             [
              1,
              "#f0f921"
             ]
            ],
            "type": "histogram2d"
           }
          ],
          "histogram2dcontour": [
           {
            "colorbar": {
             "outlinewidth": 0,
             "ticks": ""
            },
            "colorscale": [
             [
              0,
              "#0d0887"
             ],
             [
              0.1111111111111111,
              "#46039f"
             ],
             [
              0.2222222222222222,
              "#7201a8"
             ],
             [
              0.3333333333333333,
              "#9c179e"
             ],
             [
              0.4444444444444444,
              "#bd3786"
             ],
             [
              0.5555555555555556,
              "#d8576b"
             ],
             [
              0.6666666666666666,
              "#ed7953"
             ],
             [
              0.7777777777777778,
              "#fb9f3a"
             ],
             [
              0.8888888888888888,
              "#fdca26"
             ],
             [
              1,
              "#f0f921"
             ]
            ],
            "type": "histogram2dcontour"
           }
          ],
          "mesh3d": [
           {
            "colorbar": {
             "outlinewidth": 0,
             "ticks": ""
            },
            "type": "mesh3d"
           }
          ],
          "parcoords": [
           {
            "line": {
             "colorbar": {
              "outlinewidth": 0,
              "ticks": ""
             }
            },
            "type": "parcoords"
           }
          ],
          "pie": [
           {
            "automargin": true,
            "type": "pie"
           }
          ],
          "scatter": [
           {
            "fillpattern": {
             "fillmode": "overlay",
             "size": 10,
             "solidity": 0.2
            },
            "type": "scatter"
           }
          ],
          "scatter3d": [
           {
            "line": {
             "colorbar": {
              "outlinewidth": 0,
              "ticks": ""
             }
            },
            "marker": {
             "colorbar": {
              "outlinewidth": 0,
              "ticks": ""
             }
            },
            "type": "scatter3d"
           }
          ],
          "scattercarpet": [
           {
            "marker": {
             "colorbar": {
              "outlinewidth": 0,
              "ticks": ""
             }
            },
            "type": "scattercarpet"
           }
          ],
          "scattergeo": [
           {
            "marker": {
             "colorbar": {
              "outlinewidth": 0,
              "ticks": ""
             }
            },
            "type": "scattergeo"
           }
          ],
          "scattergl": [
           {
            "marker": {
             "colorbar": {
              "outlinewidth": 0,
              "ticks": ""
             }
            },
            "type": "scattergl"
           }
          ],
          "scattermapbox": [
           {
            "marker": {
             "colorbar": {
              "outlinewidth": 0,
              "ticks": ""
             }
            },
            "type": "scattermapbox"
           }
          ],
          "scatterpolar": [
           {
            "marker": {
             "colorbar": {
              "outlinewidth": 0,
              "ticks": ""
             }
            },
            "type": "scatterpolar"
           }
          ],
          "scatterpolargl": [
           {
            "marker": {
             "colorbar": {
              "outlinewidth": 0,
              "ticks": ""
             }
            },
            "type": "scatterpolargl"
           }
          ],
          "scatterternary": [
           {
            "marker": {
             "colorbar": {
              "outlinewidth": 0,
              "ticks": ""
             }
            },
            "type": "scatterternary"
           }
          ],
          "surface": [
           {
            "colorbar": {
             "outlinewidth": 0,
             "ticks": ""
            },
            "colorscale": [
             [
              0,
              "#0d0887"
             ],
             [
              0.1111111111111111,
              "#46039f"
             ],
             [
              0.2222222222222222,
              "#7201a8"
             ],
             [
              0.3333333333333333,
              "#9c179e"
             ],
             [
              0.4444444444444444,
              "#bd3786"
             ],
             [
              0.5555555555555556,
              "#d8576b"
             ],
             [
              0.6666666666666666,
              "#ed7953"
             ],
             [
              0.7777777777777778,
              "#fb9f3a"
             ],
             [
              0.8888888888888888,
              "#fdca26"
             ],
             [
              1,
              "#f0f921"
             ]
            ],
            "type": "surface"
           }
          ],
          "table": [
           {
            "cells": {
             "fill": {
              "color": "#EBF0F8"
             },
             "line": {
              "color": "white"
             }
            },
            "header": {
             "fill": {
              "color": "#C8D4E3"
             },
             "line": {
              "color": "white"
             }
            },
            "type": "table"
           }
          ]
         },
         "layout": {
          "annotationdefaults": {
           "arrowcolor": "#2a3f5f",
           "arrowhead": 0,
           "arrowwidth": 1
          },
          "autotypenumbers": "strict",
          "coloraxis": {
           "colorbar": {
            "outlinewidth": 0,
            "ticks": ""
           }
          },
          "colorscale": {
           "diverging": [
            [
             0,
             "#8e0152"
            ],
            [
             0.1,
             "#c51b7d"
            ],
            [
             0.2,
             "#de77ae"
            ],
            [
             0.3,
             "#f1b6da"
            ],
            [
             0.4,
             "#fde0ef"
            ],
            [
             0.5,
             "#f7f7f7"
            ],
            [
             0.6,
             "#e6f5d0"
            ],
            [
             0.7,
             "#b8e186"
            ],
            [
             0.8,
             "#7fbc41"
            ],
            [
             0.9,
             "#4d9221"
            ],
            [
             1,
             "#276419"
            ]
           ],
           "sequential": [
            [
             0,
             "#0d0887"
            ],
            [
             0.1111111111111111,
             "#46039f"
            ],
            [
             0.2222222222222222,
             "#7201a8"
            ],
            [
             0.3333333333333333,
             "#9c179e"
            ],
            [
             0.4444444444444444,
             "#bd3786"
            ],
            [
             0.5555555555555556,
             "#d8576b"
            ],
            [
             0.6666666666666666,
             "#ed7953"
            ],
            [
             0.7777777777777778,
             "#fb9f3a"
            ],
            [
             0.8888888888888888,
             "#fdca26"
            ],
            [
             1,
             "#f0f921"
            ]
           ],
           "sequentialminus": [
            [
             0,
             "#0d0887"
            ],
            [
             0.1111111111111111,
             "#46039f"
            ],
            [
             0.2222222222222222,
             "#7201a8"
            ],
            [
             0.3333333333333333,
             "#9c179e"
            ],
            [
             0.4444444444444444,
             "#bd3786"
            ],
            [
             0.5555555555555556,
             "#d8576b"
            ],
            [
             0.6666666666666666,
             "#ed7953"
            ],
            [
             0.7777777777777778,
             "#fb9f3a"
            ],
            [
             0.8888888888888888,
             "#fdca26"
            ],
            [
             1,
             "#f0f921"
            ]
           ]
          },
          "colorway": [
           "#636efa",
           "#EF553B",
           "#00cc96",
           "#ab63fa",
           "#FFA15A",
           "#19d3f3",
           "#FF6692",
           "#B6E880",
           "#FF97FF",
           "#FECB52"
          ],
          "font": {
           "color": "#2a3f5f"
          },
          "geo": {
           "bgcolor": "white",
           "lakecolor": "white",
           "landcolor": "#E5ECF6",
           "showlakes": true,
           "showland": true,
           "subunitcolor": "white"
          },
          "hoverlabel": {
           "align": "left"
          },
          "hovermode": "closest",
          "mapbox": {
           "style": "light"
          },
          "paper_bgcolor": "white",
          "plot_bgcolor": "#E5ECF6",
          "polar": {
           "angularaxis": {
            "gridcolor": "white",
            "linecolor": "white",
            "ticks": ""
           },
           "bgcolor": "#E5ECF6",
           "radialaxis": {
            "gridcolor": "white",
            "linecolor": "white",
            "ticks": ""
           }
          },
          "scene": {
           "xaxis": {
            "backgroundcolor": "#E5ECF6",
            "gridcolor": "white",
            "gridwidth": 2,
            "linecolor": "white",
            "showbackground": true,
            "ticks": "",
            "zerolinecolor": "white"
           },
           "yaxis": {
            "backgroundcolor": "#E5ECF6",
            "gridcolor": "white",
            "gridwidth": 2,
            "linecolor": "white",
            "showbackground": true,
            "ticks": "",
            "zerolinecolor": "white"
           },
           "zaxis": {
            "backgroundcolor": "#E5ECF6",
            "gridcolor": "white",
            "gridwidth": 2,
            "linecolor": "white",
            "showbackground": true,
            "ticks": "",
            "zerolinecolor": "white"
           }
          },
          "shapedefaults": {
           "line": {
            "color": "#2a3f5f"
           }
          },
          "ternary": {
           "aaxis": {
            "gridcolor": "white",
            "linecolor": "white",
            "ticks": ""
           },
           "baxis": {
            "gridcolor": "white",
            "linecolor": "white",
            "ticks": ""
           },
           "bgcolor": "#E5ECF6",
           "caxis": {
            "gridcolor": "white",
            "linecolor": "white",
            "ticks": ""
           }
          },
          "title": {
           "x": 0.05
          },
          "xaxis": {
           "automargin": true,
           "gridcolor": "white",
           "linecolor": "white",
           "ticks": "",
           "title": {
            "standoff": 15
           },
           "zerolinecolor": "white",
           "zerolinewidth": 2
          },
          "yaxis": {
           "automargin": true,
           "gridcolor": "white",
           "linecolor": "white",
           "ticks": "",
           "title": {
            "standoff": 15
           },
           "zerolinecolor": "white",
           "zerolinewidth": 2
          }
         }
        },
        "xaxis": {
         "anchor": "y",
         "autorange": true,
         "domain": [
          0.058347934918648314,
          0.9416520650813517
         ],
         "range": [
          -0.5,
          801.5
         ]
        },
        "yaxis": {
         "anchor": "x",
         "autorange": true,
         "domain": [
          0,
          1
         ],
         "range": [
          798.5,
          -0.5
         ]
        }
       }
      },
      "text/html": [
       "<div>                            <div id=\"82f5b3fe-b348-4524-bcba-fc59cf222f44\" class=\"plotly-graph-div\" style=\"height:525px; width:100%;\"></div>            <script type=\"text/javascript\">                require([\"plotly\"], function(Plotly) {                    window.PLOTLYENV=window.PLOTLYENV || {};                                    if (document.getElementById(\"82f5b3fe-b348-4524-bcba-fc59cf222f44\")) {                    Plotly.newPlot(                        \"82f5b3fe-b348-4524-bcba-fc59cf222f44\",                        [{\"name\":\"0\",\"source\":\"data:image\\u002fpng;base64,iVBORw0KGgoAAAANSUhEUgAAAyIAAAMfCAIAAACly\\u002fR6AAA2RUlEQVR4Xu3dd7hlZ133\\u002f\\u002ffMZNILSSAkECAJkNBDR5EaygNIU1EUEfmBjz4oVX0QRVCwoIA+oFhAQAQVEJEiCIIIUgQh9AiEGgIJJJBK6mTK748wZnJn+syZs\\u002fber9c111z7fL47+eecfdZn7rXWvQoAAAAAAAAAAAAAAAAAAAAAAAAAAJhrJ40BAAC77Cfr5LrvGAMAsAtOqpM3\\u002ftG0AAB2p\\u002ftrWgAAS+R+mhYAwBLRtAAAlso1m9Z9WzG8BwCAnXG\\u002fet7G139XP61mAQDsLps2rdQsYAr2qv1qde1de9W+tar2qb1q5SbvWbXJf7Ku1m58vb7W1uW1ri6rtbWmrqhLN3kPwJ7xy\\u002fWo77\\u002fc62oDgKWwbx1e16nD6vC6Vh1UB278+4Dae2OpWl171d61auPr\\u002f\\u002fnH4KaVq43V6kobam1dUetqzcbXVxavNXVxXVTf2\\u002fj3eXVunVvfqXPqsk3+nwC76L5XdaysZgG708q6UR1Tx9SN6gZ1w7pu7b9Jhbryz6paWas2vli6X0Uban2tq3UbX6zd+OfKKnZxnV2n1zfq63VanVZfr\\u002fXj\\u002fwlgG+5bf7Dx9d\\u002fVT1vNArbfio0N6cq\\u002f96sT6pZ187p53ayut5SFaees2FjmdsiGOqO+UJ+vL9Qp9cWNpyCvLGrrasP4HwELbdOO9Yz6t\\u002frs5H4jAlOysg6uQ+uQOriuUzetE+qmdeO6zo7Xl9m1rs6ur9SX6tT6Un2nLqwL67y60OoXLLZrdqxqev\\u002fwBJbbPhtP9l2vjq7j6pi6fh1Vh1z96qhFtr4uqDPrzDqtTq9v17fq9Pp6XTi+HZhnW+hYqVlA1d5127pt3aZuVNfZeKH6IbV6eCubs64uqvPr3Dq7vlyfqU\\u002fVp2rN8FZgvmy5Y6VmweJaWXeue9fd68Tav\\u002fbeuJ8Cu2htrak1dUl9qj5Q762PObEIc+ekev7G19foWKlZsChW1\\u002f61Xx1Zd697133q4PFdLKFL6sP1vnp3fb0urUvqivFdwIz5qfqVzXes1CyYcwfVDev6dau6S92ujrVetdyuqK\\u002fVJ+uj9fn6Vn2zvju+C5gZJ9W\\u002fj9mV1CyYOyvrenXbunXdpG5Wx9fhPu7Ts6EuqK\\u002fWqfXZjZdzfcu5RZgffu\\u002fCHDm8HlD3qVvXkXXt2nd8CxN1WX2nzqov13\\u002fUv9bXxrcAM0fNgtl3SD2kfqbuWvts3FedGbVh4yODPlFvqNfWd8a3ALNCzYIZtKoOrcPrnvWIulvtN76FOXFpvb\\u002f+sT5Y59U5HoYNs0TNgtmxoo6um9fxdbe6Rx3pQ7wYNtQ59ZF6T32uPldneNoPzAC\\u002foWEW7FN3rpPqznWruv4iPeWGTa2rM+qU+mR9sP6jLh3fAkyHmgXTduN6eD28blTXdnKQjS6vc+rr9e56Y31mnAMAm7Oi9qn71bvqstrgjz9b\\u002fXNZvbPuU\\u002fu6+wGmxWoWTMaqunYdXSfVo+vWPqDsoK\\u002fW39Xb6ow6y8XysPz8FocJWFm3qbvWPeredR0fTXbBufWhek\\u002f9V52sbMFy8rscltXBdY96cN2xblYHjHPYSZfWl+tj9e56d50zzoE9QM2CZbKqfrr+d928ruXOQZbGurqwvlh\\u002fW39pZQv2NDUL9qAVtXcdXo+uX69rjXNYQt+rP6mX1dl1eW0Y58Bup2bBnnLdukU9sH6qru\\u002fDxzI5q95U\\u002f1Sfr2+OQ2D38pseltiKOqbuWyfVveu64xyWwXfrg\\u002fX2+rf6upUtWCpqFiylw+tx9dC6lVOETM\\u002f5dUq9u15W3x6HwK5Ts2BpHFq\\u002fVE+ow2tvHzWmakNdUefW39bz6zvjHNgVfvfDbrV3HV0\\u002fVU+sI8chTNq36iX1+vpmXT4OgZ2gZsFusl\\u002fdrO5XP1O39NliZn25XlX\\u002fVp+tS8YhsEMcCmCXra7b1Y\\u002fW\\u002feu2PlXMhc\\u002fVv9Sb6uRaMw6B7eSAALvm6Pq1un\\u002fdqPYZhzDD1tTp9a\\u002f1vDpjHALbQ82CnXVgPa2eUfvWynEIc2J9rak\\u002fq9+t88chsHVqFuygFXV03bueXrfwGWIxbKiv1PPrnfVN+2zB9nKIgB1xdN2rHld3q9XjEObcFfWBemV9oE4fh8A1qVmwfQ6qB9VP1v3qgHEIC+Siel+9rt5WF4xDYFNqFmyHW9Zv173qMJdhQa2v8+qD9Zz65DiEhfArdcKYdWr90dWCva72FbCpFXVg\\u002fW79Uq0ah7C4Vtbh9bB6cL24fqsudsEWC+aEuv2YXZOaBZuzoq5bJ9XT6zaWfWELVtXT6gH1gnpHna1ssWAuqi9u8uWpm7yu1CzYjH3qf9Wj6wF10DgErmZF3aL+pP6lXl\\u002fvrEvHt8Dc+mL9\\u002fJhtSs2Cq7t9\\u002fZ96QN1gnABbdFA9su5Wb6+\\u002fdMEWfJ+reWGj\\u002fern6u\\u002fr\\u002f9OxYKdcvx5Xr6tfrP3HISwgNQtqdV2vXlcvrRMs8sIu2KuOr5fUG+t6tfc4h4WiZrHYVtWN64n1mXqoDwTsJivqAXVKPb2Oc6Mu8+jU+sRmrnkfuIGKBbZfPah+vu7pqc+wNC6v99Xf1Fvr4nEIc0\\u002fNYlEdXs+ph9b1LWLBUtpQ365\\u002frmfXWeMQ5puaxUL6X\\u002fXndUOXYcGesrbOrF+uN44TmGNqFotkZR1dT65fqAPHIbDkvlcvrZfUN2r9OIT5o2axMFbX\\u002feqpdZILcmH5rKv\\u002frBfUu+rycQhzRs1iMRxbj6\\u002fH2BALpuHMenW9or48TmCeqFnMu5V1z3pm3c3thDAla+rD9Xv1HicQmVtqFnNtdT2hnlOH+GGH6dlQ59ez6qW1dhzCpP1KnVCn1h+Nk025kZ05taqOrb+qF9W1dCyYpBV1aP1pvd4upsyaE+r2dcIYD9Qs5tHB9fD6x\\u002fpZBQsmb0X9aP1T\\u002fVgdMg5hpqlZzJ3r1m\\u002fUi+p24wSYrtvU\\u002f6tfryPGCcwuNYv5csP6u3pSHW0dC2bKirpePaleX8eOQ5hRDkTMi1V1n3pDHTxOgBlzUT2y\\u002frXWjROYipfV7eui+uIm4TWuiPeoEWbfirpOPbaeoWPBXDiw\\u002fr7+X\\u002f1lnV0bxjlMxYF1+zHblJrF7LtNPa1+zPNzYI4cUv+3blwvrM+MQ1h+p45BbSZ00pAZ95D6zbq9fzLAPFpbH6\\u002ffq38eJzAT1Cxm1op6Yj27rj1OgLny3fr9epGzh8weNYsZtKKuVb9aT6kDxiEwhy6pP63n13nKFrNEzWIG3ap+uR7lGYWwSNbUa+v59blxApOlZjFr7le\\u002fWXf3wwuLZ329v\\u002f6w3jlOYJocqZgdK+vR9cw6fpwAC+TL9Xv16lo\\u002fTmBq1CxmxD71hHqmC96B+m79bv1lXT5OYFLULGbBYfXEekbtN06ABXVZvaBeVOeOE5gONYvJO65+sx5Tq8YJsNDW1qvqhZvZExImQs1i2u5Sz6yHjDHA972rfrs+PMYwBWoWE3a3+sO6i3UsYMvW1cfq6fWBcQLLTs1iqu5Ur60bjzHAZpxWP1UfGWNYXmoW07N33bv+pq47TgC26Nv1mHq\\u002f2w+ZkJVjAMvrwHpMvV7HAnbQkfWP9dg6aJzAcrGaxZQcUj9fv1pHjBOA7fKd+qN6aZ0\\u002fTmDPU7OYjAPqqfUrdeg4AdgB59f\\u002fqz+ui8YJ7GFqFtOwVz2znu08NrA7rK\\u002ffr+fU2nECe5KaxQQcUc+op\\u002fp5BHafDfXCemGdPU5gj3FYY7ndsJ5RP29zLGB3W1cvqz+sr48T2DOcoWFZXb9+w4N0gKWxqn62frNuME5gz7CaxfI5pP6oHl37jBOA3ebyen09xb2HLAM1i2VyQP15PWaMAZbEq+qJdfEYw5LaawxgD7h+\\u002fa6OBexBj6319ew6Y5zAbvboeur3X6pZ7HE3qGfVT48xwNL6mVpXv+eKeJbYja566RJ49qwj6xn1qFo9TgCW1up6VP16HTVOYOfdtR549WSTmmU1iz1o3417N\\u002fi5A5bFAfW4uqR+oy4bh7DDbl8vrL3rDvX8WlPXq5teNXcJPHvK\\u002fvXM+nU\\u002fdMBy21C\\u002fU893RTy75tb1F7Xvxi9Pr8vq+E3fYVWBPeNa9cR6ho4FTMCK+s3aUC+yywO74KBNOlZ1w01eb+TaLJbeQfV\\u002f6v\\u002f6cQMmY2U9rX6xDh4nsL3+s14zZgPHPZbYvvUz9TS\\u002fy4CJObieVo+5+oIE7JCXbOPGVadwWEor6iH1Gh0LmKoL6lH1jtowTmDbDqt\\u002fvMYx7pv1vjq3DndtFkvqTvWya\\u002fz8AUzHIfWqelh9eJzAtt3nGse4d9SzrvrKahZL5u716jpmjAEm5\\u002fT6mXr\\u002fGMPm3bNuUjequ9Thm+Rfrx\\u002fb5Es1i6Xyg\\u002fWiuvMYA0zUx+qp9Z9jDJtx8hh83x\\u002fWG64WuASeJXDLem7dYYwBpuv29Vt1szGGHfCNMVCz2N2OqN+o+9aqcQIwXavq\\u002fvWMus44ge113TFQs9it9q0n1yPHGGA2XLkBjS0e2LrX1kfr7DHuR8bAtVnsPnvVU+p3\\u002fYYCZtll9Zv1olo3TmB0v3re1ZO3129d9ZWaxe7zv+sFdcgYA8yYC+rp9bIxhtE+9cY68urhF+vP6zN1oprF7vLD9Sd13BgDzKTT6in11jGGq1lVr93asc+1WeyyFXW7etbWfs4AZswx9Yy6rbM+bNWTt3HsU7PYZUfUr9oiC5g7P1C\\u002ftpl7x+D77lo\\u002fPWYDNYtds7L+bz3CP\\u002fiAubOifqx+zfY0bMH36rJNvjyrLtrky0rNYlf9aj2h9h5jgHmwun6hnj7GUPXZenKtqeqf6kfq\\u002fvWEuvyqt1iCYBc8sl7q1kJg3l1Qj683jjFU\\u002fVAdUO\\u002faJHlFnfj9l1az2Ckr6s71TB0LWACH1LPqDpYm2JwPXb1jVadd9VLNYqdcv361bjHGAPPpVvX0uv4Yw2acdtVLzZwdt089u55a+48TgLl1Sf1x\\u002fe7VrryBrbOaxY57aP2SjgUsmP3rifXwMYatsJrFDrpJfab2G2OAhXBJ3bq+OsawWVaz2BHXq7\\u002fXsYAFtn\\u002f9XR01xrBZahbb7fD6jbrNGAMsltvVr9dhYwzXpGaxfVbXQ+rHa59xArBY9qmfqIfW6nECA9dmsX1uWf9QN\\u002fcjA1Ab6nP1yPrvcQKbsprFdti3nle30LEAqlpRt6zn1r7jBDalZrEte9VT68FjDLDofqSe5sHSbI3VCbblofVau2QBbM7F9ZP1tjGGK1nNYqtuWb+pYwFswQH1rLr5GMOV1Cy2bP96Qt12jAG4yu3qSXXAGENqFlu0qh5aP+GOZYCtWl0\\u002fXg9xRGUz\\u002fFCwBSfUU+s6YwzA6Nr15DphjEHNYgueUncaMwA27y71VPeVMVKz2JxH16P9dABst5X16PrJMWbBKd5cw\\u002fXqsx7XBbDjzq0T65tjzMKyXsHVHVB\\u002fVIeOMQDbdmj9obsOuYqaxSb2qp+s+1rlBNgpK+p+9Uj3aPN9ahabuHk9rg4fYwC217Xr8e465PvULDY6oB5dd7KUBbALVtQd61Gen0E5onKVE+s\\u002f\\u002fV4A2B0urh+sz44xi8ZqFlUdXC\\u002fRsQB2kwPqT+qgMWbRqFlU9cS625gBsPPuVU900mjRqVnU3euXxgyAXfWkuuuYsVDUrIV3UD2ljhxjAHbVdetpdfAYszjUrMW2on6s7ukHAWAJrKx71I84dbi4HF0X27H1qLr2GAOwe1ynHlXHjDELQs1aYKvrYa58B1hid6+H2hd+QVnHXGDH1L\\u002fXsWMMwG72lTqpTh9j5p7VrAX2+9axAfaI4+q5Y8YisJq1qO5R7\\u002fP9B9hTNtS96z\\u002fGmPlmNWshHV7P1bEA9qAV9dw6bIyZb2rWQnpk3WHMAFhat6ufGDPmm5q1eG5ej6wDxhiApXVg\\u002fWSdMMbMMTVrwayqB9RdnDEE2ONW1A\\u002fUA2rVOGFeqVkL5mb16NpnjAHYE\\u002fapR9fxY8y8UrMWycp6cN12jAHYc25XD3b4XRROHS2SG9QH64ZjDMAedVrdrc4YY+aPOr1InqVjAUzAMfUbY8Zcspq1MG5Zn\\u002fUNB5iGDXWbOmWMmTNWsxbDfvXbOhbAZKyoZ9a+Y8ycUbMWw73rbmMGwHK6Z91zzJgzatYCOLR+vK49xgAsp+vUj9e1xph5omYtgDvVvWuvMQZgOe1VJ9Udx5h5ombNu4PqQXWjMQZg+R1bD6qDxpi5oWbNuxPqEWMGwFT8mKcczjM1a949pq4\\u002fZgBMxQ3rZ8aMueEW\\u002f7l2XH3c9ZUA03Ze3b5OG2PmgNWsufZsHQtg8g61Kfzcspo1v25an619xhiAybm8bllfGWNmndWsObWqfqlWjzEAU7S6frFWjTGzTs2aU7eq+\\u002fr2AsyIlXX\\u002fusUYM+sch+fRynpwHTfGAEzXcfVg1\\u002fLMGzVrHt207lv7jTEA07V\\u002f3bduMsbMNDVr7qys23t6A8AMulPdwZF5rvhmzp1D6kfqwDEGYOoOqofVwWPM7FKz5s7xdb8xA2A2\\u002fK86fsyYXWrW3Pk5W5ICzKxD63FjxuxyS8N8ObS+XXuPMQAz4\\u002fI6oi4cY2aR1az58ms6FsCM26d+bcyYUWrWHDmyHjlmAMyen6ojxoxZpGbNkYfXkWMGwOw5qh42ZswiNWte7F8\\u002f7EHRAHNhn3poHTDGzBw1a17co27llgaAubCiblk\\u002fNMbMHDVrLuxTd6+jxxiAWXV03cM5ipmnZs2FY+oetdcYAzCrVtfd6kZjzGxRs2bfijqhbjfGAMy2O9TxrgaZbWrW7Nu3HuJKSYC5c2D9cO07xswQNWv2XasePGYAzIOH1iFjxgxRs2bfw2yXBTCnrucf0rPNKd8Zt6I+WSeOMQBz4hN1x9owxswEq1kz7q51qzEDYH6cWHceM2aFmjXjfrZWjRkA82NVPXbMmBVq1iw7tO47ZgDMm\\u002fvXtcaMmaBmzbIfrsPGDIB5c3g9cMyYCWrWzNq77l0HjjEA8+bAOqlWjzHTp2bNrJvVbVyYBbAAVtVt6vgxZvrUrJl127rJmAEwn27ioWozSc2aTQfUia6IBFgYh9WJnqs2e9Ss2XS9uuuYATDPfrCOGjMmTs2aTUfXrccMgHl2Yt1gzJg4NWsGrar7WzoGWDBX3m\\u002fozqeZombNoL08SRRgIT249hozpkzNmkE3qVuMGQDz79Z17JgxZWrWDPpZ3zeAhbSqfmbMmLIVY8DEraiv+NcMwKL6ik0TZ4lVkVlzuzpmzABYFMfVbcaMyVKzZs1DLEECLLAV9ZAxY7LUrJmyb500ZgAslvvUPmPGNKlZM+XmdaMxA2CxHOsx0jNDzZopd\\u002fYcQ4CFd0jdecyYJjVrpty6DhozABbLwXXbMWOa1KzZcUwd7zsGsPBW1U0833A2OGjPjuPquDEDYBEdVzceMyZIzZoRK+rYuv4YA7CIblDH2t9nBqhZM+KgOrH2HWMAFtF+dZs6cIyZGjVrRlyrbj9mACyu27n3fAaoWTPiWnXzMQNgcd2yDhkzpkbNmhE3q8PGDIDFdW2blM4ANWtG3HsMAFh09xoDpkbNmhH3GAMAFp1Dw+S5GXQWXKvO9b0C4OrW1yF10RgzHVazZsFDdCwArmFl\\u002ffCYMSlq1iy43xgAQNX9x4BJUbNmwT3HAADKDVJTp2ZN3o3qqDEDgKqjPYdt0tSsybuz7xIAW7Cy7jJmTIcD+OTd0fXvAGzBirrjmDEdata0raxb+y4BsAUr6zb+NT5dDuDTdpQLswDYquvVkWPGRKhZ03YTTwYFYKsOqZuMGROhZk3bsXXwmAHAVQ6uY8eMiVCzpu1GddCYAcBVDqpjxoyJULMm7IA6uvYeYwC4yt51dO0\\u002fxkyBmjVh16kbjBkAXM2KOrquM8ZMgZo1YddxmyEA2+F6atZEqVkTdph7dAHYDtetw8aMKVCzpmpFHe5jA8B2uPJ4YZPS6VGzpmrvumHtNcYAMFpdN6zVY8yyU7Omah\\u002fbzQGw3W5c+44Zy07Nmqp96rgxA4DNO672GTOWnZo1VfvY1ReA7aZmTZKaNVX71fXGDAA27\\u002fpOGk6RmjVVN7L\\u002fOwDbbZ86esxYdmrWVN1sDABga24+Biw7NWuqThgDANgaB47pUbOm6qZjAABb48AxPWrWVB0\\u002fBgCwNWrW9NiZf5JW1aX28wVgR1xe+9WGMWYZWc2apGN1LAB20D51wzFjealZk3TjMQCAbfOUtolRsyZJzQJgJzh8TIyaNUkeswPATnD4mBg1a5KOGQMA2DY1a2LUrEk6bgwAYNvUrIlRs6ZnZR01ZgCwbUfbqWla1KzpOaj2GzMA2Lb96sAxYxmpWdNzhG8LADtlZR0xZiwjx\\u002fPpUbMA2Dmr6jpjxjJyPJ+ea\\u002fu2ALBTVqpZ0+J4Pj3X8W0BYKesrGuPGcvI8Xx61CwAdo6aNTGO59NzqG8LADtlRR02Ziwjx\\u002fPpOcSuJwDslJV1yJixjNSs6TlYzQJgp6yog8eMZaRmTc+Bvi0A7JQVddCYsYwczydmr9pnzABgu6yofWvVGLNc1KyJOaBWjxkAbK\\u002fVntg2IWrWxBxgNQuAXbCPxxpOiJo1MftZzQJgF6yu\\u002fceM5aJmTcw+zqkDsAv2qr3HjOWiZk3M3rXXmAHA9lqlZk2ImjUxe1vNAmAXrHKN74SoWROzj9UsAHaBk4ZTomZNzGqrWQDsAicNp0TNmhgnDQHYFWrWlKhZE7OXmgXALljl4pMJUbMmZpXnRgOwC1Y4tk+Ib8XErFCzANgFataU+FZMjNUsAHaFmjUlvhUTs1LNAmAXrHSN74SoWROjZgGwK6xmTYlvxcS40xCAXbGqVo8Zy0XNmpj1tX7MgKucX+ePGXAVx5EpsbfGxPhswNZdawyAq9lQ68aM5WI1a2L8KwSAXbHBcWRC1KyJWV8bxgwAtpd\\u002frk+JmjUxahYAu8Jq1pSoWROjZgGwK1ybNSVq1sSoWQDsCqtZU6JmTYyaBcCuULOmRM2aGDULgF2hZk2JmjUxa51TB2AXrKu1Y8ZyUbMm5nIfDwB2wdq6fMxYLmrWxFymZgGwC9bWZWPGclGzJsZqFgC7Qs2aEjVrYqxmAbArnDScEjVrYtQsAHbFFVazJkTNmpjL6ooxA4Dt5aThlKhZE6NmAbArrqhLx4zlomZNzKVOGgKwC1ybNSVq1sSsqTVjBgDba42zIhOiZk3PhZ6TAMBOWV\\u002fnjxnLSM2annM91hCAnbK+zh0zlpGaNT3nWc0CYKdsqPPGjGWkZk3PuWoWADvFatbEqFnTo2YBsHPW1zljxjJSs6bHtVkA7Jz1ThpOi5o1PVazANg5G6xmTYuaNT3nqFkA7BQnDSdGzZqeM9UsAHbKujpzzFhGatb0XFCXjBkAbNtFdfGYsYzUrEn6xhgAwLZ9fQxYXmrWJH1tDABg2xw+JkbNmiSfEwB2wmljwPJSsyZJzQJgJzh8TIyaNUlfHQMA2LavjAHLS82apC+NAQBsm5o1MSvGgClYXRfV3mMMAFt0eR1Q68aYZWQ1a5KuqDPGDAC25hs61uSoWVP1xTEAgK05dQxYdmrWVH1hDABgaxw4pmcXatYR9aNjxm7z+TEAgK1Rs5bOj9YRY7Y99hqD7XREvaKOrIvqXeOQ3eC\\u002fxwAAtuaUMWD3uH\\u002f9en27Hl9nj8Ot26nVrCPq5XVUragHjEN2j2\\u002fVpWMGAJt38Q43ALbXA2pFHVUv3+E1rR2vWVeuY12vqo\\u002fXM4Yxu8lldeaYAcDmfbMuHzN2j2fUx6u6Xr1ix5rWDtasKzvWUVV9vJ5Ua4Z3sJusqdPHDAA273Q1a8msqSdtbFpH7VjT2pGapWPtSWs8ARSA7fZ1B+WltLNNa7trlo61h13mkTsAbLdT67IxY3faqaa1fTVLx9rz1tTX6ooxBoDRldeZODQvtR1vWttRs3SsZbGhvlvfGWMAGJ1d54wZS2IHm9a2apaOtYzOqW+NGQCMvlXfHTOWyo40ra3WLB1reX1XzQJgO6hZe9h2N62t1qzf2dixLqmn6Vh73HfqjDEDgNEZLjLZ49bU0+qSqo6q3xnG37fVmvXbG7eU3b\\u002f+oFZdfcpSu6y+pd0CsFVXbmftYLGHrao\\u002fqP2rOrt+++rTjbZas761yeN77lov2Mbb2f2+Xt8bMwC4ykW2s97jVtYL6q5VnV2P3+JFPtvqTZs2rXvU87b9X7A7fbUuHDMAuMqF9dUxYwmtrOfVPaptdKy2qzRt2rTuo2ntWafW+WMGAFc5r04dM5bKlR3rPtW2O1bb25iGpvWcWjG8g6XxnfrmmAHA922ob7jNcE9ZUc\\u002fZgY7V9tasrt60HljPGsYsjfX16Vo\\u002fxgBQtaE+WRvGmCXxrHpgtb0dqx2oWV29aT20njGMWRof8\\u002fkBYAs21MljxpJ4Rj202oGO1Y7VrK7etB5RvzyMWQIfq7VjBgBVV2zcJJMl9cv1iGrHOlY7XLO6etN6VD1hGLO7fau+PmYAUPXVOmvM2M2eUI+qdrhjtTM1q6s3rXXDjCXwgTEAgKr3jwG735VVZ8c7VrXXGGynb9XP1Un1t+OE3e899fgxA4D+fQzY\\u002fV5Wl9e7d7hjZWOG2XDtOqP2HmMAFtrldb06d4yZjp06acge9t363JgBsOhO0bGmTs2aEc6+AzD4jzFgatSsGfGeMQBg0bkwa\\u002fLUrBnx5frOmAGwuL7tidEzQM2aERfUp8cMgMX1mbpgzJgaNWtGXFCfGjMAFten1awZoGbNiIvr83XZGAOwiC6tz9clY8zUqFkzYkN9rb45xgAsom\\u002fWabVhjJkaNWt2fLm+MmYALKKv1JfGjAlSs2bHGfX5WjvGACyWtfX5OnOMmSA1a3asr0\\u002fVhWMMwGK5oD5Z68eYCVKzZspH6vwxA2CxnF8fHjOmSc2aKafW18cMgMVyen15zJgmNWvWvGsMAFgs\\u002fzIGTJaaNWve7nw8wAJbr2bNEjVr1nzOtg4AC+xL9YUxY7LUrFmzrt4wZgAsitc5pzFLVowB03dMfUVDBlg86+vYOn2MmSzH6hl0Zn1izACYfx+tb48ZU6ZmzaB19c9jBsD8e1utGzOmTM2aQevqA7aDB1gw59cH1awZo2bNptPr02MGwDz7dH1jzJg4NWs2fbs+UhvGGID5tKE+4sKs2aNmzaaL61N17hgDMJ\\u002fOrc\\u002fUJWPMxKlZM+vT9ikFWBhfrk+OGdOnZs2sL9VnXQsJsADW1mf803omqVkza039W100xgDMm4vq3bVmjJk+NWuW\\u002fWudPWYAzJuz611jxkxQs2bZefXOMQNg3ry9LhgzZoJnGs64E+vjtWqMAZgT6+q2dcoYMxOsZs24z3q+IcBc+1h9bsyYFWrWjFtfrxwzAObHy2v9mDErnDScfdepU+qIMQZg5n27bl3fHWNmhdWs2XdRvWXMAJgHb6qLx4wZombNvsvdhAIwj86vd9RlY8wMUbNm3\\u002fr6bxfCA8ydk+tztWGMmSFq1lz4ar231o4xALNqbf1HfW2MmS1q1lxYXx+u08cYgFl1Wv2newxnnpo1Lz5Wp1hbBpgLV14NcvIYM3PUrHlxQb2zLh9jAGbPmnpHXTjGzBz7Zs2Ra9Xn6qgxBmDGnFm3cAv5PLCaNUfOr1eNGQCz5691rDlhNWu+HFWn1GFjDMDMOLduU2eMMbPIatZ8+Va9bswAmCV\\u002fp2PNDzVr7ryizh8zAGbDefXXY8bsUrPmztfqX8cMgNnwTluSzhU1a+6cX2+oi8YYgKm7qN7o4ve5ombNnQ31mfroGAMwdR+tT9toeq6oWfPotHpvXTLGAEzXxfXv9fUxZqapWfPoinqLzyrATDm93lpXjDEzTc2aU5+t91l5BpgR6+vf6rNjzKyzPen8unV9sA4eYwAm58L6gfr8GDPrrGbNr8\\u002fW68cMgCl6rY41n6xmzbVj6uOevQMwbefVbev0MWYOWM2aa6fV348ZANPyah1rbqlZ8+4v69wxA2Aqzqm\\u002fGjPmhpo1786sN9T6MQZg+a2vf\\u002fCg6HmmZs278+pN9Y0xBmD5nV5vrvPHmLmhZi2Aj9R7a90YA7Cc1tX76iNjzDxRsxbABfUP9Z0xBmA5nV2vqwvHmHmiZi2Gd9Z\\u002fjhkAy+nD9a4xY86oWYthQ73Qw6QBJuPi+kOPRJt\\u002fatbC+LBN4QEm47X10TFj\\u002ftgFfpHcqD5aR4wxAHvUd+qOtiRdCFazFsk36y\\u002fHDIA97SX2yloUatYiWVevq8+OMQB7zin1jzbZWRRq1oL5Wv1tXTzGAOwJF9ff1lfHmHmlZi2Yy+ot9Um3twAsh0\\u002fVm+uyMWZeqVmL50v1BgtaAHvcRfX6+vIYM8fcabiQ9q6P1oljDMAS+kzduS4fY+aY1ayFtKZ+20cdYA9aU8\\u002fyi3fhqFmL6s31ljEDYKm8pd46Zsw9Jw0X2K3rrXXMGAOwm51eP1ynjDFzz2rWAvt8vdjeLQBLbF29uE4dYxaBmrXA1tY76kNjDMDu9IF6W10xxiwCNWuxfbH+ps4ZYwB2j3Pq1fWlMWZBqFmLbUO9vf6j1o8TAHbV+vqPersdoReXmrXwzqoX1YVjDMCuurBeXGePMYtDzaL+s\\u002f56zADYVS93\\u002feuis6EDVe1dn63jxxiAnXRq3arWjjELxWoWVa2pp9W5YwzAzjinflXHQs3if7y\\u002fXu2XAsAuW1t\\u002fU+8dYxaQmsVGF9er6xNjDMCO+Xi9pi4ZYxaQmsVGG+pT9eq6YJwAsL0urL+rT9vEgVKzuJoN9Tf1Pr8dAHbKhnpv\\u002fY3fonyfmsXVXVR\\u002faJcXgJ3ynXqenQi5iprFNXy4nuuR0gA7aF09p\\u002f5rjFlkahab88p6w5gBsDWvq1eOGQvO9qRswU3qbXXCGAOwGV+qB9WXx5gFZzWLLTit\\u002fqDOG2MARufVH9RpYwxqFluwtt5Rb6414wSAq6ypN9fbbO\\u002fMZqhZbNlZ9SJr4ABb9aV6kRu02Tw1i606pX57zAC4yu\\u002fUZ8cMrqRmsVXr6w31N7V+nAAsuvX1inq9zUjZIncash32r3fU3f28AGy0oT5QD\\u002fTsQrbGahbb4dJ6dn1xjAEW1xfrt+rSMYZNqVlshw31X\\u002fXnde44AVhE59Vf1EecLmQb1Cy2z2X1yvoXD+EBFt66elu9oi4bJzBwrQ074sb11rrFGAMskM\\u002fVw+tLYwzXZDWLHfGV+rX67hgDLIpz6v\\u002fqWGwvNYsd9Lb6HUvlwEK6tJ5b\\u002fzLGsCVqFjvur+vldtICFsz6enm9coxhK9Qsdtz36sX13jEGmGfvqRfXRWMMW6FmsVO+XM+vU93MDCyADXVqvaC+Mk5g69Qsdta764\\u002fqe2MMMG8urBfWv40xbJOaxc7aUH9bf2JBC5hrG+rF9bd+17Ez7JvFrjmoXlY\\u002fOcYAc+Lv6glW7tlJaha77Mh6W91hjAFm3sfqIXXWGMN2ctKQXXZWPaU+Z0UdmCMb6nP1K3X2OIHtp2axyzbUR+v368xxAjCrzqzf83BodpWaxe5wRb2pXlhrxwnA7Flbf1xvrivGCewQNYvd5JJ6af3ZGAPMnhfXX9QlYww7yiXw7G5vrIfVqjEGmAHr65\\u002fr4WMMO8dqFrvbU+q9tW6MAaZubb23njTGsNPULHa3M+vZ9XHPlgZmyvr6eP1mfXOcwE5z0pAlsFfdq15ax40TgIn6Wv1CvdetPOxOahZLY2Xdv\\u002f659honAJOzrh5e73DBA7uZk4YsjfX1znqsJ1QAk3dh\\u002fUy9Tcdi91OzWEqvrefUd8cYYCrOqd+u148x7BZqFktpfb28\\u002fqLOHycAy++Cemn9tVt2WCpqFkvsgnpxvb7WjBOA5bSm\\u002fr7+2L8DWUIugWePWF2vrR8bY4Bl85Z6ZF0+xrAbqVnsKavrDfWgWj1OAPaoNfWueoSOxZJz0pA95Yr6\\u002f+oNddk4AdhzLq831mN0LPYENYs96Lx6Zr3ZdVrAMrmi3lK\\u002f6Xos9hAnDdmzVtSx9Rd1XyUf2LPW17vrF+trtWEcwlJQs1gO161\\u002fq1v6AQT2lA31hbpvnTlOYOlYT2A5nFUPqg95dhiwR6ytD9X9dSz2NDWLZfKNemy9va4YJwC705p6ez2+vjlOYKmpWSyfr9av1Vs0LWDJXFFvq2fUl8YJ7AEujWFZraij62X1v\\u002fwwArvbhvq3+t91umveWR6ObEzAgfW2ulutGicAO2ldfbh+uC4cJ7DHOGnIBFxUP1z\\u002fZOdSYDe5tN5UD9SxWGZqFtNwcT2lXl0XjROAHXNRvbqe5PcJy89JQ6bkuvX0+oU6YJwAbJdL6mX1B3XWOIE9T81iYvatZ9evjzHAdnlhPcsVCEyFmsUk\\u002fXI9uw4ZY4AtuqD+sJ43xrCM1CwmaWU9vn69jvFDCmzLhvpavaBeVuvHISwjRzCmar96eD2rbubnFNiyKx9W+Jx6a106DmF5OXwxYfvUD9af183HCcD3fbF+sT5Yl48TWHZqFtO2og6v99atxglAn6+T6iybvDNR9s1i2jbUd+uH6g118TgEFtcl9aa6a31bx2K61CxmwYX1pPqzOmecAIvo3PqremKdP05gUpw0ZHZcux5Vv1WHjRNggZxfv1Ovqe+ME5gaNYuZsm\\u002fdq15T1x4nwEI4ux5T73dTIbNBzWIGHVtvrBOd9IZFsr5OqUfUl8YJTJbDFDPoa\\u002fXj9VrPhYWFcXH9Uz1Sx2LGWM1iZl2\\u002f\\u002fnc9uQ4dJ8BcuaBeUi+tb4wTmDg1i1l2QN2vnl83HSfAnPhaPb3+tb43TmD61Cxm3Iq6df1J3XOcADPvo\\u002fWE+pQnFTKrXJvFjNtQn6nH1uvceQRz5NJ6XT2yPqFjMcOsZjEvDq4n1c\\u002fVMeMEmDFn1F\\u002fVn9R54wRmi5rFHFlRD6in1km11zgEZsDa+o\\u002f6s3qzR+gwD9Qs5s5N6xfrcXXwOAEm7aJ6Vf1ZfWGcwIxSs5hH+9Tj6nl1yDgBJuqiek69pC4bJzC71Czm193rz+umtc84ASZkTX2pfqE+NE5g1qlZzLXr1m\\u002fUj9TRfthhejbUt+rN9Xt15jiEOeDIw7w7sB5YT6u72MAEpmR9nVx\\u002fUm+rC8YhzAc1iwWwV92onlZP0LRgGjbUq+v36rS6YhzC3FCzWBgr6sH1V3XdcQLsUd+t\\u002f1Nvsu8o888\\u002f7VkYG+qf6771Fg9Hg2XyvXpb3bfeqGOxEKxmsXiOrEfVY+o2PgGwB51Sf11\\u002fX98eJzCvHGRYSCvrDvWz9Wh7a8HS+169tv66PmoRi8WiZrHADq771HPqVj4KsDQ21Jfqt+qddf44hLnn2MLCO7L+uH6s9h4nwC65ot5ST6tvjhNYEGoWVPUT9ct1qzpgnAA77JL6XP1F\\u002fbUnQLPQ1CzY6Lh6bP1E3dQ9uLCz1tdp9Q\\u002f1yvrSOIRFo2bBJg6oW9fP1WNq9TgEtmFt\\u002fWP9WX3atilQahZsxkF1h3pRnThOgC36XD21\\u002fqsuHCewsNQs2ILD61fqsXVd5xBhy9bXd+p19Qc2xIKRmgVbtqJ+qH6p7lbX93GBazir3l9\\u002fUe9zqTtshuMGbMt+9cB6RD2gDh2HsKDOr3fXm+stdfE4BK6kZsF2WFFH1D3ryXVXnxsW24b6eP1pvbu+bRELtsbhArbbytq3HlV\\u002fUIePQ1gIF9Tv1Z\\u002fXZbVuHAIDNQt23BH1W\\u002fWQOtK+DyyGtfXteks9t84eh8CWqFmwU1bVHevRdVLdzK2IzK8N9ZX69\\u002fr7+lCtHefAVqhZsAtW153rofWIOtbnifmyoU6vN9bb60N1+TgHtslhAXbZAXWz+qn6+TpoHMJMurheU6+qz9nPHXaemgW7z7H14nqwDxazbEO9tZ5ap40TYEc5GsButbJOrCfWPeuGLpBndqytM+pD9af10Vo\\u002fzoGdoGbBElhdt69H1P3qFsoW07a2vlDvqrfWR1yDBbuTmgVLZq+6Xd2jfqpOrL3GOSyzdfX5+vt6b53sLkLY\\u002fdQsWGJ71xH1oHpq3XwcwrL5XL2o\\u002frXOrsvGIbBbqFmwBz2wfq3uVPvaaovlsL4ur0\\u002fVC+pN4xDY7dQs2LNW1w\\u002fW4+pOdWztN85hSVxep9fH6jX1XhdgwR6iZsFyWFG3qwfVSXWHOnicw25zYZ1c76\\u002f31Ic86Rn2KDULls\\u002fqOqZuWQ+oH63rjHPYJefV2+vN9Zk6ra4Y58BSU7Ngua2o\\u002fevQ+tF6fN3KZVvsmvV1ar2qXlvn18U2wYJlo2bBlOxV96in1Q\\u002fUQbW3zyjbZ0Otqe\\u002fVJ+vP6h21ZnwLsOf5FQ6TdGI9vH6gblLH2HOLLVtXZ9Sp9aF6U31mnAPLSM2CCbt2nVh3qLvVHetIH1k2cU59st5bn65P1LfGObDs\\u002fM6GyVtZ16tj6u71sLrLOGfh\\u002fHe9qf69TqvTa904ByZCzYLZsVetrlvU4+phdf1xzpw7o95cr6wv1JpaZ3cGmDo1C2bTfvVD9fA6qQ6vQ2qf8S3MvCvqwvpufbD+qd5fF41vAaZMzYIZt3\\u002fdq+5RJ9ZN6gb61uy7csf2r9Tn68P1rrpgfAswE9QsmAsr66g6oW5ct6o71a3rwPFdTNqldWqdXB+rL9Wp9S2nBWG2qVkwX1bUQXVYHV53qwfVD3iYz7RdUp+qd9S765w6p87XrmBOqFkw765V962H1wPrUB\\u002f6adhQ59Y76s31njp\\u002fnAPzwW9cWCQ3rvvVPev4OrwOrQNq1fgudrN1dXGdV+fWafXhek99YnwXMH\\u002fULFhI165b163quDq6jq7r11G2m9991tU5dUadUafVqXVKnVLfHd8IzDE1Cxbbqjqsjqzr1g3qhLp53aqO8QTrHbe+zqxT6wv1mfpmnVVn1Xfq8vG9wCJQs4CNVta+tX8dUAfXreoOdeu6Yx02vpfv+16dUv9dn6iP1Hl1aV1Sl9icHVCzgO1xTP1A3bnuUDevfWtVraxVG1\\u002fMsQ21rtbV+lpbl9Xn6uP1X\\u002fVf9fXx7QD\\u002fQ80CdtCKOqKOrxvVjeomdXQdUgfW\\u002frV\\u002f7Vf7zeaV9Wvr0o1\\u002fLqnv1UV1bn25Tq+v1ufrG3ZbALaXmgXssr03Xt117TqsDqtD65CNrw+rg+vAOqgOqH2Xe\\u002fVrfV1WF238c8HGewDPrQvq3Dpv4\\u002f5V366zas34PwDYTmoWsDT2rgPqwDqg9qt9N\\u002f7Zpw6pwzfuKHFQ7VcHbVwGO2Dji\\u002f1rRe2zfati6+ry2lCXbFyIuqgu27gidWl9b5PydH5dXpfXZXVZXVoXb6xcV4z\\u002fY4BdoWYBe9ymF3WtrBWb+\\u002fvKX07\\u002f82Jl7b3xRbW+qjUbX2zYeCLvyhfrN\\u002ff3+k0usQIAAAAAAAAAAAAAAAAAAAAAAAAAAAAAAAAAAAAAAAAAAAAAAAAAAAAAAAAAAAAAAAAAAAAAAAAAAAAAAAAAAAAAAAAAAAAAAAAAAAAAAAAAAAAAAAAAAAAAAAAAAAAAAAAAAAAAAAAAAAAAAAAAAAAAAAAAAAAAAAAAAAAAAAAAAAAAAAAAAAAAAAAAAAAAAAAAAAAAAAAAAAAAAAAAAAAAAAAAAAAAAAAAAAAAAAAAAAAAAAAAAAAAAAAAAAAAAAAAAAAAAAAAAAAAAAAAAAAAAAAAAAAAAAAAAAAAAAAAAAAAAAAAAAAAAAAAAAAAAAAAAAAAAAAAAAAAAAAAAAAAAAAAAAAAAAAAAAAAAAAAAAAAAAAAAAAAAAAAAAAAAAAAAAAAAAAAAAAAAAAAAAAAAAAAAAAAAAAAAAAAAAAAAAAAAAAAAAAAAAAAAAAAAAAAAAAAAAAAAAAAAAAAAAAAAAAAAAAAAAAAAAAAAAAAAAAAAAAAAAAAAAAAAAAAAAAAAAAAAAAAAGbcijEAAGCbfqVOqFPrj8bJ\\u002f9hrDAAA2KYT6vZjNlg5BgAA7A5qFgDAklCzAACWhJoFALAk1CwAgCWhZgEALAk1CwBgSahZAABLwi7wAADb4aT6yU2+PL4OrIvqi5uEr6t\\u002fv+orNQsAYDusrBfXD47xVT5cT64NVwVqFgDA9tm\\u002fXlXHjXHVV+uxdcnVMjULAGC7XbdeWwdfPTyvHl1nXT10CTwAwOa9rE6ul109PKueVms3SdbWr16jY72sTlazAAB2yKfruZt8+dz69CZfbkLNAgDYQf9Sr67q1fUvw+wqe40BAADb9JI6v\\u002f52jDelZgEA7Lj1Gxe0tsxJQwCAJWE1CwBgc67cBOv4a9xsuD2OLzULAGDzPll3qwPr9uNkO6lZAACb8w+1tu5QB46TbbuoPj5mAAAAAAAAAAAAAAAAAAAAAAAAAAAAAAAAAAAAAAAAAAAAAAAAAAAAAAAAAAAAAAAAAAAAAAAAAAAAAGzBUWMAAMDu8M91xJhVK8cAAIAdclS9YjNNS80CANhlm2taahYAwO5wjaalZgEA7Kwb1kM3+fKoevlVTWvFJhMAALZlZT2g7lW3rcPGYdWZ9XN1tpoFALCdrixYP1c3HCejb9Xj1SwAgO1xaP1l3XiMt+hMNQsAYJsOrpfXcWO8dWoWAMBW7V+vqJuO8Ta8xp2GAABb99Sd6Vi9WM0CANiKG9bDx2wbXlMvrtprHAAA8D+efPVtRr9eH6iT6\\u002fT6Vl1R1cmbvOEV9Rfff6lmAQBswW3qXhtf\\u002f3v9Y310k+k1vfKqjgUAwJb9aZ1cb9zWPg4n18n1hDEGAGBz9q2P1kvrgHEyOrl+ccwAANiCH6gXbN8FVtaxAAB2wENq7zEDAGCX2fYKAAAAAAAAAAAAAAAAAAAAAACAhfD\\u002fA4AMbIGfavyYAAAAAElFTkSuQmCC\",\"type\":\"image\",\"xaxis\":\"x\",\"yaxis\":\"y\",\"hovertemplate\":\"x: %{x}\\u003cbr\\u003ey: %{y}\\u003cbr\\u003ecolor: [%{z[0]}, %{z[1]}, %{z[2]}]\\u003cextra\\u003e\\u003c\\u002fextra\\u003e\"}],                        {\"template\":{\"data\":{\"histogram2dcontour\":[{\"type\":\"histogram2dcontour\",\"colorbar\":{\"outlinewidth\":0,\"ticks\":\"\"},\"colorscale\":[[0.0,\"#0d0887\"],[0.1111111111111111,\"#46039f\"],[0.2222222222222222,\"#7201a8\"],[0.3333333333333333,\"#9c179e\"],[0.4444444444444444,\"#bd3786\"],[0.5555555555555556,\"#d8576b\"],[0.6666666666666666,\"#ed7953\"],[0.7777777777777778,\"#fb9f3a\"],[0.8888888888888888,\"#fdca26\"],[1.0,\"#f0f921\"]]}],\"choropleth\":[{\"type\":\"choropleth\",\"colorbar\":{\"outlinewidth\":0,\"ticks\":\"\"}}],\"histogram2d\":[{\"type\":\"histogram2d\",\"colorbar\":{\"outlinewidth\":0,\"ticks\":\"\"},\"colorscale\":[[0.0,\"#0d0887\"],[0.1111111111111111,\"#46039f\"],[0.2222222222222222,\"#7201a8\"],[0.3333333333333333,\"#9c179e\"],[0.4444444444444444,\"#bd3786\"],[0.5555555555555556,\"#d8576b\"],[0.6666666666666666,\"#ed7953\"],[0.7777777777777778,\"#fb9f3a\"],[0.8888888888888888,\"#fdca26\"],[1.0,\"#f0f921\"]]}],\"heatmap\":[{\"type\":\"heatmap\",\"colorbar\":{\"outlinewidth\":0,\"ticks\":\"\"},\"colorscale\":[[0.0,\"#0d0887\"],[0.1111111111111111,\"#46039f\"],[0.2222222222222222,\"#7201a8\"],[0.3333333333333333,\"#9c179e\"],[0.4444444444444444,\"#bd3786\"],[0.5555555555555556,\"#d8576b\"],[0.6666666666666666,\"#ed7953\"],[0.7777777777777778,\"#fb9f3a\"],[0.8888888888888888,\"#fdca26\"],[1.0,\"#f0f921\"]]}],\"heatmapgl\":[{\"type\":\"heatmapgl\",\"colorbar\":{\"outlinewidth\":0,\"ticks\":\"\"},\"colorscale\":[[0.0,\"#0d0887\"],[0.1111111111111111,\"#46039f\"],[0.2222222222222222,\"#7201a8\"],[0.3333333333333333,\"#9c179e\"],[0.4444444444444444,\"#bd3786\"],[0.5555555555555556,\"#d8576b\"],[0.6666666666666666,\"#ed7953\"],[0.7777777777777778,\"#fb9f3a\"],[0.8888888888888888,\"#fdca26\"],[1.0,\"#f0f921\"]]}],\"contourcarpet\":[{\"type\":\"contourcarpet\",\"colorbar\":{\"outlinewidth\":0,\"ticks\":\"\"}}],\"contour\":[{\"type\":\"contour\",\"colorbar\":{\"outlinewidth\":0,\"ticks\":\"\"},\"colorscale\":[[0.0,\"#0d0887\"],[0.1111111111111111,\"#46039f\"],[0.2222222222222222,\"#7201a8\"],[0.3333333333333333,\"#9c179e\"],[0.4444444444444444,\"#bd3786\"],[0.5555555555555556,\"#d8576b\"],[0.6666666666666666,\"#ed7953\"],[0.7777777777777778,\"#fb9f3a\"],[0.8888888888888888,\"#fdca26\"],[1.0,\"#f0f921\"]]}],\"surface\":[{\"type\":\"surface\",\"colorbar\":{\"outlinewidth\":0,\"ticks\":\"\"},\"colorscale\":[[0.0,\"#0d0887\"],[0.1111111111111111,\"#46039f\"],[0.2222222222222222,\"#7201a8\"],[0.3333333333333333,\"#9c179e\"],[0.4444444444444444,\"#bd3786\"],[0.5555555555555556,\"#d8576b\"],[0.6666666666666666,\"#ed7953\"],[0.7777777777777778,\"#fb9f3a\"],[0.8888888888888888,\"#fdca26\"],[1.0,\"#f0f921\"]]}],\"mesh3d\":[{\"type\":\"mesh3d\",\"colorbar\":{\"outlinewidth\":0,\"ticks\":\"\"}}],\"scatter\":[{\"fillpattern\":{\"fillmode\":\"overlay\",\"size\":10,\"solidity\":0.2},\"type\":\"scatter\"}],\"parcoords\":[{\"type\":\"parcoords\",\"line\":{\"colorbar\":{\"outlinewidth\":0,\"ticks\":\"\"}}}],\"scatterpolargl\":[{\"type\":\"scatterpolargl\",\"marker\":{\"colorbar\":{\"outlinewidth\":0,\"ticks\":\"\"}}}],\"bar\":[{\"error_x\":{\"color\":\"#2a3f5f\"},\"error_y\":{\"color\":\"#2a3f5f\"},\"marker\":{\"line\":{\"color\":\"#E5ECF6\",\"width\":0.5},\"pattern\":{\"fillmode\":\"overlay\",\"size\":10,\"solidity\":0.2}},\"type\":\"bar\"}],\"scattergeo\":[{\"type\":\"scattergeo\",\"marker\":{\"colorbar\":{\"outlinewidth\":0,\"ticks\":\"\"}}}],\"scatterpolar\":[{\"type\":\"scatterpolar\",\"marker\":{\"colorbar\":{\"outlinewidth\":0,\"ticks\":\"\"}}}],\"histogram\":[{\"marker\":{\"pattern\":{\"fillmode\":\"overlay\",\"size\":10,\"solidity\":0.2}},\"type\":\"histogram\"}],\"scattergl\":[{\"type\":\"scattergl\",\"marker\":{\"colorbar\":{\"outlinewidth\":0,\"ticks\":\"\"}}}],\"scatter3d\":[{\"type\":\"scatter3d\",\"line\":{\"colorbar\":{\"outlinewidth\":0,\"ticks\":\"\"}},\"marker\":{\"colorbar\":{\"outlinewidth\":0,\"ticks\":\"\"}}}],\"scattermapbox\":[{\"type\":\"scattermapbox\",\"marker\":{\"colorbar\":{\"outlinewidth\":0,\"ticks\":\"\"}}}],\"scatterternary\":[{\"type\":\"scatterternary\",\"marker\":{\"colorbar\":{\"outlinewidth\":0,\"ticks\":\"\"}}}],\"scattercarpet\":[{\"type\":\"scattercarpet\",\"marker\":{\"colorbar\":{\"outlinewidth\":0,\"ticks\":\"\"}}}],\"carpet\":[{\"aaxis\":{\"endlinecolor\":\"#2a3f5f\",\"gridcolor\":\"white\",\"linecolor\":\"white\",\"minorgridcolor\":\"white\",\"startlinecolor\":\"#2a3f5f\"},\"baxis\":{\"endlinecolor\":\"#2a3f5f\",\"gridcolor\":\"white\",\"linecolor\":\"white\",\"minorgridcolor\":\"white\",\"startlinecolor\":\"#2a3f5f\"},\"type\":\"carpet\"}],\"table\":[{\"cells\":{\"fill\":{\"color\":\"#EBF0F8\"},\"line\":{\"color\":\"white\"}},\"header\":{\"fill\":{\"color\":\"#C8D4E3\"},\"line\":{\"color\":\"white\"}},\"type\":\"table\"}],\"barpolar\":[{\"marker\":{\"line\":{\"color\":\"#E5ECF6\",\"width\":0.5},\"pattern\":{\"fillmode\":\"overlay\",\"size\":10,\"solidity\":0.2}},\"type\":\"barpolar\"}],\"pie\":[{\"automargin\":true,\"type\":\"pie\"}]},\"layout\":{\"autotypenumbers\":\"strict\",\"colorway\":[\"#636efa\",\"#EF553B\",\"#00cc96\",\"#ab63fa\",\"#FFA15A\",\"#19d3f3\",\"#FF6692\",\"#B6E880\",\"#FF97FF\",\"#FECB52\"],\"font\":{\"color\":\"#2a3f5f\"},\"hovermode\":\"closest\",\"hoverlabel\":{\"align\":\"left\"},\"paper_bgcolor\":\"white\",\"plot_bgcolor\":\"#E5ECF6\",\"polar\":{\"bgcolor\":\"#E5ECF6\",\"angularaxis\":{\"gridcolor\":\"white\",\"linecolor\":\"white\",\"ticks\":\"\"},\"radialaxis\":{\"gridcolor\":\"white\",\"linecolor\":\"white\",\"ticks\":\"\"}},\"ternary\":{\"bgcolor\":\"#E5ECF6\",\"aaxis\":{\"gridcolor\":\"white\",\"linecolor\":\"white\",\"ticks\":\"\"},\"baxis\":{\"gridcolor\":\"white\",\"linecolor\":\"white\",\"ticks\":\"\"},\"caxis\":{\"gridcolor\":\"white\",\"linecolor\":\"white\",\"ticks\":\"\"}},\"coloraxis\":{\"colorbar\":{\"outlinewidth\":0,\"ticks\":\"\"}},\"colorscale\":{\"sequential\":[[0.0,\"#0d0887\"],[0.1111111111111111,\"#46039f\"],[0.2222222222222222,\"#7201a8\"],[0.3333333333333333,\"#9c179e\"],[0.4444444444444444,\"#bd3786\"],[0.5555555555555556,\"#d8576b\"],[0.6666666666666666,\"#ed7953\"],[0.7777777777777778,\"#fb9f3a\"],[0.8888888888888888,\"#fdca26\"],[1.0,\"#f0f921\"]],\"sequentialminus\":[[0.0,\"#0d0887\"],[0.1111111111111111,\"#46039f\"],[0.2222222222222222,\"#7201a8\"],[0.3333333333333333,\"#9c179e\"],[0.4444444444444444,\"#bd3786\"],[0.5555555555555556,\"#d8576b\"],[0.6666666666666666,\"#ed7953\"],[0.7777777777777778,\"#fb9f3a\"],[0.8888888888888888,\"#fdca26\"],[1.0,\"#f0f921\"]],\"diverging\":[[0,\"#8e0152\"],[0.1,\"#c51b7d\"],[0.2,\"#de77ae\"],[0.3,\"#f1b6da\"],[0.4,\"#fde0ef\"],[0.5,\"#f7f7f7\"],[0.6,\"#e6f5d0\"],[0.7,\"#b8e186\"],[0.8,\"#7fbc41\"],[0.9,\"#4d9221\"],[1,\"#276419\"]]},\"xaxis\":{\"gridcolor\":\"white\",\"linecolor\":\"white\",\"ticks\":\"\",\"title\":{\"standoff\":15},\"zerolinecolor\":\"white\",\"automargin\":true,\"zerolinewidth\":2},\"yaxis\":{\"gridcolor\":\"white\",\"linecolor\":\"white\",\"ticks\":\"\",\"title\":{\"standoff\":15},\"zerolinecolor\":\"white\",\"automargin\":true,\"zerolinewidth\":2},\"scene\":{\"xaxis\":{\"backgroundcolor\":\"#E5ECF6\",\"gridcolor\":\"white\",\"linecolor\":\"white\",\"showbackground\":true,\"ticks\":\"\",\"zerolinecolor\":\"white\",\"gridwidth\":2},\"yaxis\":{\"backgroundcolor\":\"#E5ECF6\",\"gridcolor\":\"white\",\"linecolor\":\"white\",\"showbackground\":true,\"ticks\":\"\",\"zerolinecolor\":\"white\",\"gridwidth\":2},\"zaxis\":{\"backgroundcolor\":\"#E5ECF6\",\"gridcolor\":\"white\",\"linecolor\":\"white\",\"showbackground\":true,\"ticks\":\"\",\"zerolinecolor\":\"white\",\"gridwidth\":2}},\"shapedefaults\":{\"line\":{\"color\":\"#2a3f5f\"}},\"annotationdefaults\":{\"arrowcolor\":\"#2a3f5f\",\"arrowhead\":0,\"arrowwidth\":1},\"geo\":{\"bgcolor\":\"white\",\"landcolor\":\"#E5ECF6\",\"subunitcolor\":\"white\",\"showland\":true,\"showlakes\":true,\"lakecolor\":\"white\"},\"title\":{\"x\":0.05},\"mapbox\":{\"style\":\"light\"}}},\"xaxis\":{\"anchor\":\"y\",\"domain\":[0.0,1.0]},\"yaxis\":{\"anchor\":\"x\",\"domain\":[0.0,1.0]},\"margin\":{\"t\":60}},                        {\"responsive\": true}                    ).then(function(){\n",
       "                            \n",
       "var gd = document.getElementById('82f5b3fe-b348-4524-bcba-fc59cf222f44');\n",
       "var x = new MutationObserver(function (mutations, observer) {{\n",
       "        var display = window.getComputedStyle(gd).display;\n",
       "        if (!display || display === 'none') {{\n",
       "            console.log([gd, 'removed!']);\n",
       "            Plotly.purge(gd);\n",
       "            observer.disconnect();\n",
       "        }}\n",
       "}});\n",
       "\n",
       "// Listen for the removal of the full notebook cells\n",
       "var notebookContainer = gd.closest('#notebook-container');\n",
       "if (notebookContainer) {{\n",
       "    x.observe(notebookContainer, {childList: true});\n",
       "}}\n",
       "\n",
       "// Listen for the clearing of the current output cell\n",
       "var outputEl = gd.closest('.output');\n",
       "if (outputEl) {{\n",
       "    x.observe(outputEl, {childList: true});\n",
       "}}\n",
       "\n",
       "                        })                };                });            </script>        </div>"
      ]
     },
     "metadata": {},
     "output_type": "display_data"
    }
   ],
   "source": [
    "img = colors_cv.copy()\n",
    "img\n",
    "img[:,:, 0] = 0\n",
    "img[:,:, 2] = 0\n",
    "px.imshow(img)"
   ]
  },
  {
   "cell_type": "code",
   "execution_count": 215,
   "metadata": {},
   "outputs": [
    {
     "data": {
      "application/vnd.plotly.v1+json": {
       "config": {
        "plotlyServerURL": "https://plot.ly"
       },
       "data": [
        {
         "hovertemplate": "x: %{x}<br>y: %{y}<br>color: [%{z[0]}, %{z[1]}, %{z[2]}]<extra></extra>",
         "name": "0",
         "source": "data:image/png;base64,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",
         "type": "image",
         "xaxis": "x",
         "yaxis": "y"
        }
       ],
       "layout": {
        "autosize": true,
        "margin": {
         "t": 60
        },
        "template": {
         "data": {
          "bar": [
           {
            "error_x": {
             "color": "#2a3f5f"
            },
            "error_y": {
             "color": "#2a3f5f"
            },
            "marker": {
             "line": {
              "color": "#E5ECF6",
              "width": 0.5
             },
             "pattern": {
              "fillmode": "overlay",
              "size": 10,
              "solidity": 0.2
             }
            },
            "type": "bar"
           }
          ],
          "barpolar": [
           {
            "marker": {
             "line": {
              "color": "#E5ECF6",
              "width": 0.5
             },
             "pattern": {
              "fillmode": "overlay",
              "size": 10,
              "solidity": 0.2
             }
            },
            "type": "barpolar"
           }
          ],
          "carpet": [
           {
            "aaxis": {
             "endlinecolor": "#2a3f5f",
             "gridcolor": "white",
             "linecolor": "white",
             "minorgridcolor": "white",
             "startlinecolor": "#2a3f5f"
            },
            "baxis": {
             "endlinecolor": "#2a3f5f",
             "gridcolor": "white",
             "linecolor": "white",
             "minorgridcolor": "white",
             "startlinecolor": "#2a3f5f"
            },
            "type": "carpet"
           }
          ],
          "choropleth": [
           {
            "colorbar": {
             "outlinewidth": 0,
             "ticks": ""
            },
            "type": "choropleth"
           }
          ],
          "contour": [
           {
            "colorbar": {
             "outlinewidth": 0,
             "ticks": ""
            },
            "colorscale": [
             [
              0,
              "#0d0887"
             ],
             [
              0.1111111111111111,
              "#46039f"
             ],
             [
              0.2222222222222222,
              "#7201a8"
             ],
             [
              0.3333333333333333,
              "#9c179e"
             ],
             [
              0.4444444444444444,
              "#bd3786"
             ],
             [
              0.5555555555555556,
              "#d8576b"
             ],
             [
              0.6666666666666666,
              "#ed7953"
             ],
             [
              0.7777777777777778,
              "#fb9f3a"
             ],
             [
              0.8888888888888888,
              "#fdca26"
             ],
             [
              1,
              "#f0f921"
             ]
            ],
            "type": "contour"
           }
          ],
          "contourcarpet": [
           {
            "colorbar": {
             "outlinewidth": 0,
             "ticks": ""
            },
            "type": "contourcarpet"
           }
          ],
          "heatmap": [
           {
            "colorbar": {
             "outlinewidth": 0,
             "ticks": ""
            },
            "colorscale": [
             [
              0,
              "#0d0887"
             ],
             [
              0.1111111111111111,
              "#46039f"
             ],
             [
              0.2222222222222222,
              "#7201a8"
             ],
             [
              0.3333333333333333,
              "#9c179e"
             ],
             [
              0.4444444444444444,
              "#bd3786"
             ],
             [
              0.5555555555555556,
              "#d8576b"
             ],
             [
              0.6666666666666666,
              "#ed7953"
             ],
             [
              0.7777777777777778,
              "#fb9f3a"
             ],
             [
              0.8888888888888888,
              "#fdca26"
             ],
             [
              1,
              "#f0f921"
             ]
            ],
            "type": "heatmap"
           }
          ],
          "heatmapgl": [
           {
            "colorbar": {
             "outlinewidth": 0,
             "ticks": ""
            },
            "colorscale": [
             [
              0,
              "#0d0887"
             ],
             [
              0.1111111111111111,
              "#46039f"
             ],
             [
              0.2222222222222222,
              "#7201a8"
             ],
             [
              0.3333333333333333,
              "#9c179e"
             ],
             [
              0.4444444444444444,
              "#bd3786"
             ],
             [
              0.5555555555555556,
              "#d8576b"
             ],
             [
              0.6666666666666666,
              "#ed7953"
             ],
             [
              0.7777777777777778,
              "#fb9f3a"
             ],
             [
              0.8888888888888888,
              "#fdca26"
             ],
             [
              1,
              "#f0f921"
             ]
            ],
            "type": "heatmapgl"
           }
          ],
          "histogram": [
           {
            "marker": {
             "pattern": {
              "fillmode": "overlay",
              "size": 10,
              "solidity": 0.2
             }
            },
            "type": "histogram"
           }
          ],
          "histogram2d": [
           {
            "colorbar": {
             "outlinewidth": 0,
             "ticks": ""
            },
            "colorscale": [
             [
              0,
              "#0d0887"
             ],
             [
              0.1111111111111111,
              "#46039f"
             ],
             [
              0.2222222222222222,
              "#7201a8"
             ],
             [
              0.3333333333333333,
              "#9c179e"
             ],
             [
              0.4444444444444444,
              "#bd3786"
             ],
             [
              0.5555555555555556,
              "#d8576b"
             ],
             [
              0.6666666666666666,
              "#ed7953"
             ],
             [
              0.7777777777777778,
              "#fb9f3a"
             ],
             [
              0.8888888888888888,
              "#fdca26"
             ],
             [
              1,
              "#f0f921"
             ]
            ],
            "type": "histogram2d"
           }
          ],
          "histogram2dcontour": [
           {
            "colorbar": {
             "outlinewidth": 0,
             "ticks": ""
            },
            "colorscale": [
             [
              0,
              "#0d0887"
             ],
             [
              0.1111111111111111,
              "#46039f"
             ],
             [
              0.2222222222222222,
              "#7201a8"
             ],
             [
              0.3333333333333333,
              "#9c179e"
             ],
             [
              0.4444444444444444,
              "#bd3786"
             ],
             [
              0.5555555555555556,
              "#d8576b"
             ],
             [
              0.6666666666666666,
              "#ed7953"
             ],
             [
              0.7777777777777778,
              "#fb9f3a"
             ],
             [
              0.8888888888888888,
              "#fdca26"
             ],
             [
              1,
              "#f0f921"
             ]
            ],
            "type": "histogram2dcontour"
           }
          ],
          "mesh3d": [
           {
            "colorbar": {
             "outlinewidth": 0,
             "ticks": ""
            },
            "type": "mesh3d"
           }
          ],
          "parcoords": [
           {
            "line": {
             "colorbar": {
              "outlinewidth": 0,
              "ticks": ""
             }
            },
            "type": "parcoords"
           }
          ],
          "pie": [
           {
            "automargin": true,
            "type": "pie"
           }
          ],
          "scatter": [
           {
            "fillpattern": {
             "fillmode": "overlay",
             "size": 10,
             "solidity": 0.2
            },
            "type": "scatter"
           }
          ],
          "scatter3d": [
           {
            "line": {
             "colorbar": {
              "outlinewidth": 0,
              "ticks": ""
             }
            },
            "marker": {
             "colorbar": {
              "outlinewidth": 0,
              "ticks": ""
             }
            },
            "type": "scatter3d"
           }
          ],
          "scattercarpet": [
           {
            "marker": {
             "colorbar": {
              "outlinewidth": 0,
              "ticks": ""
             }
            },
            "type": "scattercarpet"
           }
          ],
          "scattergeo": [
           {
            "marker": {
             "colorbar": {
              "outlinewidth": 0,
              "ticks": ""
             }
            },
            "type": "scattergeo"
           }
          ],
          "scattergl": [
           {
            "marker": {
             "colorbar": {
              "outlinewidth": 0,
              "ticks": ""
             }
            },
            "type": "scattergl"
           }
          ],
          "scattermapbox": [
           {
            "marker": {
             "colorbar": {
              "outlinewidth": 0,
              "ticks": ""
             }
            },
            "type": "scattermapbox"
           }
          ],
          "scatterpolar": [
           {
            "marker": {
             "colorbar": {
              "outlinewidth": 0,
              "ticks": ""
             }
            },
            "type": "scatterpolar"
           }
          ],
          "scatterpolargl": [
           {
            "marker": {
             "colorbar": {
              "outlinewidth": 0,
              "ticks": ""
             }
            },
            "type": "scatterpolargl"
           }
          ],
          "scatterternary": [
           {
            "marker": {
             "colorbar": {
              "outlinewidth": 0,
              "ticks": ""
             }
            },
            "type": "scatterternary"
           }
          ],
          "surface": [
           {
            "colorbar": {
             "outlinewidth": 0,
             "ticks": ""
            },
            "colorscale": [
             [
              0,
              "#0d0887"
             ],
             [
              0.1111111111111111,
              "#46039f"
             ],
             [
              0.2222222222222222,
              "#7201a8"
             ],
             [
              0.3333333333333333,
              "#9c179e"
             ],
             [
              0.4444444444444444,
              "#bd3786"
             ],
             [
              0.5555555555555556,
              "#d8576b"
             ],
             [
              0.6666666666666666,
              "#ed7953"
             ],
             [
              0.7777777777777778,
              "#fb9f3a"
             ],
             [
              0.8888888888888888,
              "#fdca26"
             ],
             [
              1,
              "#f0f921"
             ]
            ],
            "type": "surface"
           }
          ],
          "table": [
           {
            "cells": {
             "fill": {
              "color": "#EBF0F8"
             },
             "line": {
              "color": "white"
             }
            },
            "header": {
             "fill": {
              "color": "#C8D4E3"
             },
             "line": {
              "color": "white"
             }
            },
            "type": "table"
           }
          ]
         },
         "layout": {
          "annotationdefaults": {
           "arrowcolor": "#2a3f5f",
           "arrowhead": 0,
           "arrowwidth": 1
          },
          "autotypenumbers": "strict",
          "coloraxis": {
           "colorbar": {
            "outlinewidth": 0,
            "ticks": ""
           }
          },
          "colorscale": {
           "diverging": [
            [
             0,
             "#8e0152"
            ],
            [
             0.1,
             "#c51b7d"
            ],
            [
             0.2,
             "#de77ae"
            ],
            [
             0.3,
             "#f1b6da"
            ],
            [
             0.4,
             "#fde0ef"
            ],
            [
             0.5,
             "#f7f7f7"
            ],
            [
             0.6,
             "#e6f5d0"
            ],
            [
             0.7,
             "#b8e186"
            ],
            [
             0.8,
             "#7fbc41"
            ],
            [
             0.9,
             "#4d9221"
            ],
            [
             1,
             "#276419"
            ]
           ],
           "sequential": [
            [
             0,
             "#0d0887"
            ],
            [
             0.1111111111111111,
             "#46039f"
            ],
            [
             0.2222222222222222,
             "#7201a8"
            ],
            [
             0.3333333333333333,
             "#9c179e"
            ],
            [
             0.4444444444444444,
             "#bd3786"
            ],
            [
             0.5555555555555556,
             "#d8576b"
            ],
            [
             0.6666666666666666,
             "#ed7953"
            ],
            [
             0.7777777777777778,
             "#fb9f3a"
            ],
            [
             0.8888888888888888,
             "#fdca26"
            ],
            [
             1,
             "#f0f921"
            ]
           ],
           "sequentialminus": [
            [
             0,
             "#0d0887"
            ],
            [
             0.1111111111111111,
             "#46039f"
            ],
            [
             0.2222222222222222,
             "#7201a8"
            ],
            [
             0.3333333333333333,
             "#9c179e"
            ],
            [
             0.4444444444444444,
             "#bd3786"
            ],
            [
             0.5555555555555556,
             "#d8576b"
            ],
            [
             0.6666666666666666,
             "#ed7953"
            ],
            [
             0.7777777777777778,
             "#fb9f3a"
            ],
            [
             0.8888888888888888,
             "#fdca26"
            ],
            [
             1,
             "#f0f921"
            ]
           ]
          },
          "colorway": [
           "#636efa",
           "#EF553B",
           "#00cc96",
           "#ab63fa",
           "#FFA15A",
           "#19d3f3",
           "#FF6692",
           "#B6E880",
           "#FF97FF",
           "#FECB52"
          ],
          "font": {
           "color": "#2a3f5f"
          },
          "geo": {
           "bgcolor": "white",
           "lakecolor": "white",
           "landcolor": "#E5ECF6",
           "showlakes": true,
           "showland": true,
           "subunitcolor": "white"
          },
          "hoverlabel": {
           "align": "left"
          },
          "hovermode": "closest",
          "mapbox": {
           "style": "light"
          },
          "paper_bgcolor": "white",
          "plot_bgcolor": "#E5ECF6",
          "polar": {
           "angularaxis": {
            "gridcolor": "white",
            "linecolor": "white",
            "ticks": ""
           },
           "bgcolor": "#E5ECF6",
           "radialaxis": {
            "gridcolor": "white",
            "linecolor": "white",
            "ticks": ""
           }
          },
          "scene": {
           "xaxis": {
            "backgroundcolor": "#E5ECF6",
            "gridcolor": "white",
            "gridwidth": 2,
            "linecolor": "white",
            "showbackground": true,
            "ticks": "",
            "zerolinecolor": "white"
           },
           "yaxis": {
            "backgroundcolor": "#E5ECF6",
            "gridcolor": "white",
            "gridwidth": 2,
            "linecolor": "white",
            "showbackground": true,
            "ticks": "",
            "zerolinecolor": "white"
           },
           "zaxis": {
            "backgroundcolor": "#E5ECF6",
            "gridcolor": "white",
            "gridwidth": 2,
            "linecolor": "white",
            "showbackground": true,
            "ticks": "",
            "zerolinecolor": "white"
           }
          },
          "shapedefaults": {
           "line": {
            "color": "#2a3f5f"
           }
          },
          "ternary": {
           "aaxis": {
            "gridcolor": "white",
            "linecolor": "white",
            "ticks": ""
           },
           "baxis": {
            "gridcolor": "white",
            "linecolor": "white",
            "ticks": ""
           },
           "bgcolor": "#E5ECF6",
           "caxis": {
            "gridcolor": "white",
            "linecolor": "white",
            "ticks": ""
           }
          },
          "title": {
           "x": 0.05
          },
          "xaxis": {
           "automargin": true,
           "gridcolor": "white",
           "linecolor": "white",
           "ticks": "",
           "title": {
            "standoff": 15
           },
           "zerolinecolor": "white",
           "zerolinewidth": 2
          },
          "yaxis": {
           "automargin": true,
           "gridcolor": "white",
           "linecolor": "white",
           "ticks": "",
           "title": {
            "standoff": 15
           },
           "zerolinecolor": "white",
           "zerolinewidth": 2
          }
         }
        },
        "xaxis": {
         "anchor": "y",
         "autorange": true,
         "domain": [
          0.058347934918648314,
          0.9416520650813517
         ],
         "range": [
          -0.5,
          801.5
         ]
        },
        "yaxis": {
         "anchor": "x",
         "autorange": true,
         "domain": [
          0,
          1
         ],
         "range": [
          798.5,
          -0.5
         ]
        }
       }
      },
      "text/html": [
       "<div>                            <div id=\"c245bd55-7ef6-4b31-b610-68e848716783\" class=\"plotly-graph-div\" style=\"height:525px; width:100%;\"></div>            <script type=\"text/javascript\">                require([\"plotly\"], function(Plotly) {                    window.PLOTLYENV=window.PLOTLYENV || {};                                    if (document.getElementById(\"c245bd55-7ef6-4b31-b610-68e848716783\")) {                    Plotly.newPlot(                        \"c245bd55-7ef6-4b31-b610-68e848716783\",                        [{\"name\":\"0\",\"source\":\"data:image\\u002fpng;base64,iVBORw0KGgoAAAANSUhEUgAAAyIAAAMfCAIAAACly\\u002fR6AAB8B0lEQVR4Xuzdd5geVeE24Huz6QmE3nvvKFURkS6goCIoICpiL6BYUUQFVCzgJ3b9gQgWsKCggIoIiKIiRem9h94ChPTsfn\\u002fExXBINtt33pnnvnJ5hee8oJKdd545c+YMERERERERERERERERERERERERERERERERERERERERERERERERERERERFRZzvvvHMZRUREREQ\\u002fHXDAAVdeeeWuu+5aDkREREREn+28885XdknTioiIiBhIu+++e5pWRERExKDYbbfd0rQiIiIiBkWaVkRERMRgeWHT2nXXXdvKT0VERERE7+22227HH3\\u002f8vN\\u002f\\u002f9Kc\\u002ffdOb3pSaFRERETEw5m9aSM2KiAoYyThGMZqRjKWdMYxkxHyfaZ\\u002fvb5nLnK7fdzCHmcxlBnOYxWymz\\u002feZiIgh8eEPf\\u002figgw6a9\\u002fuRzx+KiBgEY1maZVmKpVmCxZjY9Z8TGN1VqkYxktG0d\\u002f3+uYvB+SuXrmo1TydzmM1cZnX9fl7xmsWzTOWZrv98kid4gkd5nBnz\\u002fTMjIvpn1113fa5jyWxWRAykEazOGqzB6qzKaizP+Pkq1Lxf7Yygves3g\\u002fdV1EkHc5nb9Zs5Xb\\u002fmVbFneYR7uY97uJu7uYeO8p8UEdG9XXfd9Utf+tK8389bm5XZrIjosbauhjTvP8exPhuzIRuyASsNZmHqm7auMtcrndzPzdzEzVzPrV23IOcVtbl0ln9TRDTZ\\u002fB3ryCOPvPDCC6+77rqqfSNGRJWMYHGWZBKLsyzrsj7rsjbL9r6+tK65PMId3MYt3MajPM3TPMnTmf2KaLQXdqx5v0\\u002fNiojnG9N1s28lVmEt1mBlVmTS81dHNVkHT\\u002fEAD3A39\\u002fIQD3Iv9\\u002fB0+fGIqLGFdSypWREBo3kRL2IzVmfZroXqkxhVfDQWZC5TmcITPMLtXMt\\u002f+A+zio9GRK1007EiosFG8BI+yfncz5M8y2w686vfv2bzLE9yP+dxJNtmIjCihnbeeee8YyciGMUkVuBFHMaveeoF5SC\\u002fBvXXs1zIp9mWFTJTGFETBx54YDcdKzcNI2ptMVZjZTZhW17Mmtkvb7jN5i7+zb+4iQeZzGPlpyKiVey8884XXXRRmSI1K6KGRrASL2JT1mED1mPpHO7V08lT3MktXNe1nOvBPLQYUR\\u002f53o2okaXZg13YlBVYhrHlR6KiZvAoD3M7f+GP3FV+JCJaTmpWROubxN68me0Y07WverSozq5XBl3NLzmDR8uPRESrSM2KaEHtLMnSvIL92J5x5UeiJqZzKb\\u002fibzzJ43kZdkQrSc2KaB1trMKGrMf27MAKOYiboZPH+Sd\\u002f5kZu5H46y09FRNXkGzqiFYxhG3ZmGzZh5Sa95SbmN5f7uZ5\\u002f8zf+wvTyIxFRHalZEdW2Nq\\u002fltazOMrk5GF1m8jj38CfO4tpyPCIiIhakjTHsxgXMeMEul\\u002fmVX8WvGfyBXRibpx8iqiWzWRGV0c4yrMLOHMymOUCjl+7kp5zL\\u002fTycxfIRwy\\u002ff4hEVMILN2I4d2Illc2hGPzzBZfyZy7kyZStiOOW7PGJYLc4OvJqt2IAJ5XhEH03ndq7gT\\u002fyJx8vxiBgCqVkRw6SdN\\u002fFONmSJPDkYg2MuT3MrP+F7mdmKGGqpWRFDqI3RLM3BfJIlyvGIQfQM3+AHPMJMOsvxiBhwqVkRQ2V5NmJPDmTlHHwxTB7mN\\u002fyam5hcDkbEwMo3fcQga2MNdmVndmL5cjxiGDzG3ziPC7knM1sRgyU1K2IwLc2h7MMmuUUY1TOF6\\u002fkTP+ChcjAi+i81K2JwLMn7eS9LMzqHWlRVJ7N5gp\\u002fwFR4txyOiP\\u002fLdHzGgRrMKB\\u002fIBVigHIyrtQb7Fz5nMzHIwIvogNStigIxjA3bjzWycYyta1u38iAu5jmnlYET0Sk4FEf02ihezL7vzohxVUQs3cj6\\u002f4UpmlYMR0UM5IUT0zyp8gt1ZnTHlYEQLm8W9\\u002fJHjub8cjIieSM2K6KuJHMGRjGVEORhREx3M4tt8ninlYER0LzUropfaWIWd+Dgb5RiKZujkDr7CH5icfbYieiqniIjeWIUdOZTtGVUORtTcbP7KD\\u002fkr95aDEfFCqVkRPbMYe3EAuzGhHIxokKlcwpmcy1PlYETMLzUrogc25nPsyFJZhhVBB0\\u002fyN47h3+VgRBN85CMfWX\\u002f99YvwlltuOfHEE+dPRs7\\u002fFxHxPG1M5PO8n\\u002fZyMKK5RrA0r+HVnMRneTYLtqJZ1l9\\u002f\\u002fS222KJMXyA1K2JB2lienfk4m2XaN2Ih2jmCPfgqv+eRlK1olqlTp956663P\\u002feUtt9wy3yCpWRELMIZXcjB7sFg5GBHP08ZGfIPz+Tl\\u002fYHr5kYi6uvXWW9\\u002f1rneV6XxSsyKebwvewx6sWo5ExEItxhvZnvP4XhZsRfxXVvNGdBnHO\\u002fgZb0vHiuiTlTmUM3kf48vBiAZKzYpgFCtxJt9n\\u002fUzyRvTDSNbjW5zFSowuxyMaJeeTaLZ21mAfjmLpcjAi+qiNPbier\\u002fEz7mFu+ZGIljZvtfsL17wX8gBVNNg49uJdvCJvfY4YHDO5hNP4Lc+WgxG1l5oVTbU0x7APK+fmecRg6uQhfsdneLgcjKi31KxopFfyHVbLbfOIoTKHB\\u002fgwZ5UjETWWmhVNMoJVOJx3M7EcjIhB9wzf51vcR0c5GFE\\u002fqVnRGKPYjQ+xc96cEzF85vJ3vsoFzCwHI2omNSuaYU3ezluyIVZENTzA6ZzC7eVIRJ2kZkXdjeAVHMX2eZwwokpm8Q++wJ9zAzFqKzUram0U7+UYJuWHPaJ6OpnC0XyfOeVgRJV95CMfWX\\u002f99W+55ZYTTzyxHJtPnrOKmmpnNT7LW1KwIqqqjSX5JjvzsexiGq1k\\u002ffXX32KLLcr0BbJfUNTR4ryWX\\u002fHWdKyIymtjX37N65lUDka0tNSsqJ3l+RRf58XlSERU12b8Pz7JcuVIROtKzYp6WY2fchirZB4roqW0sRKH8XPWLAcjWlTWZkVdtLMLv2TxciQiWsZ4duRa3sgfs1Qrqm699db7wQ9+8NxfvnBFfGpWtL42luUQjkzHiqiFifyM\\u002f8f3eITOcjyiIiZOnNj9QvjUrGh9m3EEr8\\u002f7cyJqZBIfY21O4NpyMGLY3XLLLWW0oDCrV6LF7c2n2SKXDBF1NIer+AK\\u002fK0ciWkJqVrSsNj7AZ1imHImIWnmML\\u002fL13D2M1pOaFS2ojSX4KB9kQjkYETU0jW\\u002fyFZ5M2YpWkpoVLWgTPsxBeUdhRJPM4gy+wo3lSERlpWZFq9mNT\\u002fPy\\u002fPBGNE8Hl\\u002fJl\\u002flCORFRTzlTROkZwMEexXjkSEQ1yO1\\u002fgdDrKkYiqSc2KFjGG93JUFrxHBI\\u002fxeb7HzHIkolJSs6IVLMUHOJJx5UhENNQMvsrXeaIciaiO1KyovLX4NG+hvRyJiEabw484gXJLyIiqSM2KatuWo9i7jCMi\\u002fusCPsc\\u002fyjiiClKzosK258tsm3msiFi4uVzBx\\u002flrORIx7FKzoqq25gzWLuOIiAW4mwP5ZxlHDK\\u002fUrKie0ezEaSxfjkRELNRDvIVL8\\u002fhhVMiIMogYXhN5Cz9Px4qIXlqBX3EIi5UjEcMls1lRJZN4Fx9luXIkIqJHHuVEvs+UciRi6KVmRWVM4EN8hCXLkYiIXpjC\\u002f+NrTC1HIoZYalZUw0iO4jO5jx0RA6GDL3IMc8qRiKGUmhUVsBxH8qH8PEbEwOnkBE7gkXIkYsjktBbDbTWO5F3ZHCsiBtpcfsCXuacciRgauUMTw2plPpUX6UTE4GjnrXyaVcuRiKGR2awYPpM4kYMZU45ERAyYmfycD+bZwxgGqVkxTCbwHd5SxhERg+JHfIBnyzhiUI0sg4ghsDKfT8eKiCF0CB18hvvLkYiBdfDBB3\\u002foQx+a9\\u002fvUrBhyq3I0byrjiIjB9Wbm8oWsiI\\u002fBtfrqqz\\u002f3+yyBj6G1AkdyEKPKkYiIwTWKg\\u002fgkK5YjEX223Xbb7bnnnvMn89eszGbFEBrbtXdDfu4iYlhM4FCm8SlmlIMRvbXFFluccMIJo0eP3nLLLb\\u002fyla\\u002fMmjVrpZVWWnfddZ\\u002f7QJbAx1AZz1F8Mj90ETHcOjmOr2RFfPTLpptu+t3vfnfs2LHz\\u002fvLee++dMWPGeuutN\\u002f9nMqsQQ2IJPsCR6VgRUQFtfJpOvp5dHqLvFltssec6FlZbbbX5Bv8ra7Ni8C3Ge\\u002fhYftwiojJGcATvY\\u002fFyJKKH\\u002fv73v\\u002f\\u002f4xz8u0+fL3EIMsrEcymdZrhyJiBhmj3EMJ2edVvRRe3v7L37xi\\u002fnXvBdy0zAGUxu7c3yuFyOikpbh89zJ7+ksByMWadKkSUsuuWQRTp48+ZJLLnniiSeWXnrp1KwYTFvzg3SsiKiwSfyI1\\u002fCPciRikXbZZZfFF3\\u002feSe73v\\u002f\\u002f90Ucf\\u002fdxf5qZhDJqXczprlHFEROXcy5u5tIwjFugVr3jFOuuss\\u002frqq2+77bZLL730c\\u002fk999zz+te\\u002ffr4P5qZhDJKXckI6VkS0iNU4gQ\\u002fx93Ik4oVOPPHEMgJnnnlmkeTRrxgEG3MsW5ZxRER1bcFn2aCMI3ruvvvuK5LUrBhoy\\u002fEpdqW9HImIqK52dudIli1HInpo+eWXL5LUrBhQYzmcN5ZxRERreDNH8L8tJyMW4IwzzvjXv\\u002f71yCOPFPnrXve6IskS+Bg4I\\u002fkgn883VES0shl8mq8ztxyJKOy2227HH3\\u002f8\\u002fMl555332c9+9rm\\u002fTM2KgfNOvsqkMo6IaDFP8XF+UMYRhTFjxpx11lkrrLDC\\u002fOGtt976ne9859prr918881Ts2KAvIpvsFYZR0S0pLv5IL8t44j5tbe3n3HGGWuttdCTX9ZmRb+18WKOTseKiBpZgyN5Ue76RHcOP\\u002fzwbjqW1KwYAMvxUbYp44iI1vYSPkH56FjEf2233XZvetObyvT5UrOif0bwMfbLBV9E1E4br+cT2Z4mFuyZZ56ZMeN\\u002fbx1\\u002f+OGHp06dOt84qVnRXx\\u002flvYwu44iIOhjFu\\u002fl4GUfguuuuO\\u002fzww2fNmoVf\\u002f\\u002frXr3vd63bffff3vve9M2fOfO4zmYKIfngj38+jhRFRd0\\u002fxds4q4wi87GUvmzBhwgUXXPBccsopp2y++ebzfp93GkaftLE1R6VjRUQDTOJo7uZqOsvBaLjLLrusSO6+++7nalZuGkafrMxH2aiMIyLqaRM+zsplHPFCd99993O\\u002fz03D6L0xfIYPMb4ciYiorWl8jc\\u002fzv4U3EYuQ2azovX14fzpWRDTMeD7Aa8s4ohuZzYpeWodrGVfGERGNMI1NubOMIxYos1nRGyvxs3SsiGiw8fyUFcs4YoFSs6LHluZTbFbGERHN8mI+yVJlHPFCqVnRM6PYm\\u002f0ZU45ERDTLGN7APowqRyIKWZsVPbMxv2DD\\u002fMhERNDJjbyRG8qRiPllNit6YCzHs1E6VkQEaGNjjmVsORIxv9SsWJSRfIhXl3FERNO9jiPyYunoTmYnYlH24YzskhURsSDPcgDnlnHEPJnNim5tzKfTsSIiFmICR7NhGUfMk5oVCzee9\\u002fKiMo6IiP95MYcxoYwjpGbFQrWzD2\\u002fIE8sREd0axf7snTNqLEB+KGIh1udDLFvGERFRWobDWb+MI1KzYiE+yNZlFhERC7YtH8pzZVFKzYoFOZiD89MREdFjIziYA8o4Gi7FO15gJa7L67oiInrvCTZnchlHY2W+Ip5vAieyZBlHRMSiLcmX89Rh\\u002fE9qVsxnJAewa2Y5IyL6pI3deGOe0Y7\\u002fSs2K+WzIoSxdxhER0VPL8PY8dRj\\u002flZoVXSZwMFtnKisioh\\u002fa2IqD8v6MIGfU+J\\u002fN+Xu+FyIiBsKzvJTryjiaJrNZARbnW+lYEREDZALfYLEyjqZJzQrwAbYvs4iI6Lsd+UBuGjVdalbwct5fZhER0V+HsV2ZRaOkZjXeYnyQFco4IiL6a3mOYPEyjuZIzWq2Nl7PK\\u002fKDEBExCEawA6\\u002fLrcPmytm12dbkIJYp44iIGBjLchBrlHE0RGpWg43iNVn5HhExyF7OPtkXvqEyj9lga3ARa5ZxREQMsDvYmXvLOGovs1kN9sXMY0dEDIm1OLbMogkym9VUO3BJ\\u002fvwjIoZKJzvxlzKOestsViMtzbHpWBERQ6iNY1mqjKPeUrMa6Y1sWWYRETG4XswbyizqLTWreTbkjUwo44iIGFwTOYD1yzhqLDWrYdrZg21zxzAiYsi18RL2oL0cibpKzWqYDTiYMWUcERFDYQwHs14ZR12lZjXJCF7Ni8o4IiKGzot5dU6\\u002fTZFbR02yKn9jtTKOiIghdTfbc38ZR\\u002f2kTjfJ0elYEREVsAafKrOopcxmNcbGXJc\\u002f8IiIauhkM64v46iZzGY1wzg+l44VEVEZbRzF2DKOmknNaoad2L7MIiJiOL2CV5RZ1ExqVgMsyf4sU8YRETGclmV\\u002flijjqJPUrAbYmp0YWcYRETGcRrIzW5Vx1ElqVt0txl6sXsYRETH81mQvFivjqI3UrLpbn\\u002f3KLCIiquL1ecthnaVm1d1bWLnMIiKiKlbjzWUWtZFH\\u002fGttLa7K+sqIiGp7ki24u4yjBjKbVWufSceKiKi8JbMpfG1lNqu+1uU6xpRxRERUzkw25o4yjlaX2ayaauf9jCrjiIioolG8j\\u002fYyjlaXmlVTm7Br\\u002fngjIlrECHZnozKOVpfzcB2N4NWsVcYREVFda\\u002fHqrOWpm9SsOlqXXRlXxhERUV3j2ZV1yjhaWmpW7Yxgi7y9ISKiBW3Nljkz10r+MGtnEq9jYhlHRETVLcZrWLyMo3WlZtXOeuxWZhER0RpeyXplFq0rNat23pEtSSMiWtaSHFpm0brySEO9LMlDjC7jiIhoGTNZjqfLOFpRZrPq5RPpWBERLW4MnyizaFGpWTWyAm8ss4iIaD0HslyZRStKzaqR17JCmUVEROtZkdeUWbSi1Ky6GM+r8qLoiIhaGMM+TCjjaDmpWXWxA5vkkYaIiFpoY2NeVsbRclKzamEML2eVMo6IiFa1CjvkHkXLS82qhTXYgZFlHBERrWoU27N6GUdrSc1qfW2sz4vLOCIiWtuWrJfVIK0tNav1jWXvrJSMiKidibyKsWUcLSQ1q\\u002fUtwavLLCIi6mAfJpVZtJDUrNb3mmyXFRFRUyvlQrq15ZZvi2vj32xexhERURNXsxWdZRwtIbNZLW47NimziIioj83ZpsyiVaRmtbi30l5mERFRH+0cUmbRKlKzWtmS7FpmERFRN7uzRJlFS0jNamWvYqkyi4iIulmaPcssWkJqVssazU5MLOOIiKibiezMqDKO6kvNalkbsFkWZkVENEA7m7FeGUf1pWa1rBexTplFREQ9rZOXqrWk1KzWNIHNsyIyIqIxlmLzvFet9aRmtaaV2K7MIiKizl7KimUWFZea1ZpWYdMyi4iIOtucVcssKi41qwW1s3umjiMiGmbe84Z58qmlpGa1oJF5k2hERCO9mpFlFlWWmtWC1mGjMouIiPrblDXLLKosNasFvTV\\u002fbhERjdTOm8ssqqytDKLi2rgjVzMREU11RzZNbCWZFWk1L2aNMouIiKZYi83KLCorNavV7J0pyIiIBmtj7zKLykrNailj2bnMIiKiWXZhTJlFNaVmtZQNWb3MIiKiWdbMa6RbRmpWS9km7zGMiGi8SWxTZlFNqVktZVMWK7OIiGiWxXlRmUU1pWa1jjVYL39iERGN1846eb9ha8hJu3WsxVplFhERTbQWa5dZVFBqVotoY01WLuOIiGiiVVkz+\\u002fu0gNSsFrEYmzO2jCMioonGsRkTyziqJjWrRSzBFmUWERHN9eI8e94CUrNaxBJsWGYREdFcGzOpzKJqUrNaxAYsVWYREdFcy2ST0haQmtUidiqDiIhouh3LIKomNatF7FAGERHRdDk1VF4eBm0FS\\u002fBE\\u002fqwiIuL5OpjE1DKO6shsVivYOx0rIiJeYASvKrOolNSsVrBbGURERMDuZRCVkprVCl5RBhEREeQBqapLzaq81VmxzCIiImCVvIet0lKzKm+b\\u002fClFRMRCjGDbMovqyAm88rbK+veIiFiINrYqs6iO1KxqG8Gm+VOKiIiFGMFmuRqvrpzAq23FLMyKiIhurcQKZRYVkZpVbevkzaAREdGtSaxTZlERqVnVtiaLl1lERMT\\u002fLM6aZRYVkZpVbauzWJlFRET8z2KsUWZREalZFTaBVRhdxhEREf8zmlUYX8ZRBalZFbYsq5ZZRETE87SxCsuWcVRBalaFLZvHDCMiogdWSs2qqNSsClsqz+hGREQPLM9SZRZVkJpVVW0sncMmIiJ6YN75IpuUVk9qVlWNZjVGlnFERERpFKsxqoxj2KVmVdWYbDcXERE9tjZjyyyGXWpWVY1hrTKLiIhYsLUYU2Yx7FKzqmpMdvWNiIgeS82qpNSsqhrHSmUWERGxYCvnpmEVpWZV1erZ\\u002fz0iInpsDKuUWQy71Kyq2qAMIiIiurNhGcSwS82qqvXLICIiojs5cVRP9mWqqnXLIAZDG6MZzUjaGNl15THiBRvQdDKHDtDBbDqZzUzm0vn8D0fUy0jGMIo2Rs13lMw7buY3e76jZE7XUTKr64iJQZYTR\\u002fWkZlXVemUQvTWeJViCSUxicRZnPGMZy\\u002fiu88ZoxjC6q2a1Y1E1a27XSWMW05nT9ZsZzORZpvMUT\\u002fMUTzGFKcx63j8vogpGseR8R8m8A2UcExjTdaCMZBTjumrW6PmOkm5q1nNHybyLkXlNaybTmMEMnuXpFxwl05\\u002f3D4veSs2qnuzMX0ntTH\\u002fBeT4WYnFWZzVWYRVWZnmW6CpP836N6mpU7V2\\u002f5jWqgToAOpjb9WsOc5g931X8vJPMDJ7gQe5nMvdxL5NzYomhMI5V5ztKVmEFlmLsfEfJcwfKyK7jY96vgVpb0tl1fDx3oMx\\u002flMzqOkqm8Aj3dR0o93IPz5T\\u002fsFigmYzLvGG1ZDarktZMx1qwNtblRWzOhqzN2oyfb3S4jFjQBFg3nvsa7OBJ7uR2ruc\\u002fXM0j+Z6MvmtjObbkRWzMOqzFkvO1peE6UNq6ClzPPXccTON27uAmruU\\u002f3JajZAHGsBr3lHEMo+E63qJbr+QPZdYQbV13LCYykRVYj\\u002fVZh7VZvRnb7z3TVbxu41Zu5lmeYSrPMq38eDTQaBZjAouxGBuyHut1laqJ5cdraAb3cAe3cwu38WjXITLvP+fdu2yeXflzmcUw6tWFRQyVtcug3iayIiuwPMuyKmuyBmuxzMDdsWghi7E5m8+XPM7t3Mnd3MXDPMyDPMCc+T4W9TWSlboOlOVYnnVZnbVYuZFHyVjWn+\\u002fJuk6e5m7u4S5um+8oeZBn5\\u002fsb627t1KxqSc2qpDXLoH7GsxEbdN37W5HlWIYl8kO5IEuzNNuC2TzGozzCg9zHTVzDrcws\\u002frZobaNYi01Yn\\u002fVYmeVYlmV6c4O6IdqYNN\\u002flyRymdB0lD3Eft3Md\\u002f67\\u002fYsgGnD5aS85olbRGGdTDaF7KdryE9ZjIBMZ3PeUXPTSKFVkRXU87TmMqj3Mtl3MZN+XBxlY1mo26jpJNWbLrKBmXo6Q3RrIMy3Tt1zmbaTzLU9zCP\\u002fkH\\u002f2B28bfVQWpWxeS4raSr2KLMWk5713rX1dmT3diJ0eWnYlA8yT+5gLN5pOvhx6auVamyEV1HySR255W8Im8zHSpzuJJzOY\\u002fbmd31\\u002fGOL+1fXvHdUQ2pW9YxgctdkRQtaluVYmk15CVuzbiNXjlTEHG7jCi7hlq6bKE\\u002fnGa3h1MbiLM8yrMH2bMeGuQYZPp1M5mr+zr94hEd4rPxUq3iAVXKEV0hqVvVM4m6WKOMqG8kqbMgGvJhNWacZDzu1lie6VnHdyG3cxH3lR2JQLdu1HHHeEqINWar8SAyzZ7pWcV3LndzIXS12B\\u002f5JVs9GYxWSmlU963Ili5dxBbWxIduxLRuyMitnaW4rmMZDTOYGLucS7s3V72BpY3m2Ywc2ZhVWYrF891benK5dUm\\u002fjSv7Ola1xlDzFltxRxjFccqhXz8v4Q6XngtpYj4N4Fat1vb6mvfxUtIA5XS89uZ6z+Q33lx+JPluF1\\u002fFaNupaw55rkFbUwQymcxfn8VNur3Tfmspu\\u002fLOMY7ikZlXPa\\u002fjZfFubV8NoxrMCe3MQm+dHp46mczk\\u002f59yuHR7r+CDW4BnJeCayAwezIxPKj0TL6+RmzuKXTO56RWOVTOMAflfGMVxyrqyed\\u002fBNxpbxsBjHaqzBFuzEtq1xMzP6ayp\\u002f5QKu5m7uLcejsDqrsyG7smuLrayMPprGNVzMpdzFfVXZkWsG7+PUMo7hMrIMYtgtW4kH85bj5WzHlmye80bDTGRPducBruFKruIKHi4\\u002f2HBLsgUv5SVszoq5ed4k43kpL+W9XMuV\\u002fIu\\u002f8UD5wSE2gmXKLIZRalb1LDmcNWsk27I\\u002f27I6y+ZHpMHaWZVV2YMHuZNL+S1Xlh9soPXYl51Zm1Wz6KrZluQVvIzHuJfr+AWXDNvziW15gLVactOwer7P24fhqngib+dtrMuYYfjvj6rrZC6z+Q\\u002f\\u002fx695qvxI7U1gD97PtoxiZL5C4wU6mMm9nMnXmVKOD7a5\\u002fID3lXEMl3xHVM8ZvGGIJrRGszRbcAh7M6Ycj1ioB\\u002fklp\\u002fIgT9R5sfxIlmBl3s5+LbxxcAyDGfyOU7mWx4bopaMdnMHBZRzDJTWren7Hq8tswC3LZryYvdmmKgvuo\\u002fXM4C+cy9VcV7c9EcezIVuyB6+s3NO\\u002f0TJmcg1ncxU3DPquKZ38jteUcQyXLLypmJGDO6fUzlrswcvZmtWGaNYsamssr2RH7uAK\\u002fs4F3F1+quUsz268gi3ZgHHleEQvjGEbtuJ+\\u002fs2l\\u002fJGbmFt+cEC0de1kODj\\u002f+OitzGZVzCTOZscyHhBb8y5exsrZhToGQSdPcQ\\u002fncQp3luMtYS3ewStZjaVyGRIDrZNnuZ9L+cFgPU9yMfswtYxjWORUWzEr8SteWsb90cZLOY6dy5GIwTKds\\u002fkID1V6w+zntLEUX+Dg7CkaQ+gffJY\\u002f01GO9MffeT0PlXEMi1yrVcy4AXs2fCxrsR9\\u002f5uJ0rBha4ziQyZzNa1mtogsU2lmZV3I6D\\u002fHudKwYWi\\u002flPC7jTaw3YD9+o7KSsEIq+dXXZGMGYCuFxdial\\u002fFqtkqVjuEzgn3YmX9xDpfxn6qsGGnnxby0a6XiYuV4xBAZxUvYluv5LX\\u002fmyv4+TDKS0WUWwyU1q2JG9+vPpI3deSPbs2a\\u002f\\u002fkkRA2YiO\\u002fMybuASfsFVzCk\\u002fNWTa2ZQD2J2NczqKamhjUzbkDfydszmn7\\u002ffb2\\u002fNzXSE5EVfM6D7OZo1gFz7OZiyVP9eonjFswSa8gYv5IjeXHxkCa\\u002fEx9mSFwX2mN6IvRrIua\\u002fEqPshJ\\u002fK4v87\\u002ft+emukNxQqpgxvatIbYxnOy7gPHZlud79AyKG1GhW4c3cwK\\u002fYjDGD\\u002fiROG2PYkJO5lfewes5CUWHtLMOO\\u002fJJL2YXxvTtKctOwSnJGrphRPZ3NamdFtuTd7Dpg6+YjhsgIXs\\u002fOnMUvuJrHy48MiCXZkgN4fV6AHq1mJNtxPhfyA67m\\u002fh49k5ibhlWSmlUxPbtpuCx78Vp2zwMl0cqW5B3sw\\u002fmcx0U8UX6kz5bg5ezDq\\u002fKGnGhlo9mLnbiQczhv0Vs1pGZVSWpWxYxcRM0azRt4E1uyTO\\u002fmkSMqajkO4ZVcxqn8ub\\u002fvfhvN9hzKy1mtHIxoSeN4NS\\u002fjAH7F6UwvP\\u002fKc9pzbKyRrsyqmfaHVaQS7cgnf5ZUsu9APRrSkFdmXn\\u002fFLNiwHe25NfspZHJCOFfXSxlLswte4lH0WelHelnN7heSPomLaFtCeJrAV53I+L2XiAj4SUQcjmMTeXM\\u002f32LAXLzUfzQZ8n9vZjyUWegaKaG1tjGcrfsk5bMnEBXwk5\\u002fbKyMRixTx\\u002fNmsim3EwB2f\\u002fxGiSEbyLPTmZc\\u002fnPInYQ2oS9eCdr5xokGmM0r2InzuBHXMdT\\u002fx1JzaqS1KyKGfHf00Q7m3Ig+7JO+aGI+mtjNT7Da\\u002fkF5yx4n6012Zd92SbfZtFI43k7u3A2P\\u002fnvexZGZDK3QvLFVDEjaLM4H2J\\u002f1unFTZOIGhrJFmzI6ziVM\\u002f93wb4Y+3EoW+Rx22i8NXgvr+RcvqTticxmVUf+KKqlbaTXt7uOo9kkHSsCjGMbvskFbAObcQ7f52XpWBHo2oP3w1yn\\u002fRCjMp1VFalZVTGKbfhJh9M6rJZpxojna2OUMdtY6\\u002fwp3\\u002f3ulIvWsdMYo7ISK+L52llJx7d0nM422T6rCnI2r4RVeB2Hs3ZHzhsRLzRvpdY+vHPpJTZ+lxGv4Af8hnsXsTo+onk6x5t7IC\\u002flG\\u002fyWO8sPxBBKzRpmo9iNd7LnvLesdfToVQoRTdLOG3kzL5v3xO0INuRYducn\\u002fLwvL9eNqK\\u002fONh1Yky+zO9\\u002flj8wqPxZDIjVrOC3LRziIlZ+7fduRa\\u002fOI+b2IT7HjC996sBh7sBWv5Yv8Z\\u002f6xiCb73+X6aF7JpvyUE3js+Z+LoZC1WcOjjRX5LZ9g1fn\\u002fGFKzIv5rAodzAfsv7K0HbSzL\\u002flzAB7IYPmKezvnvioxgFT7BH1h1gcdRDKrUrKHWxvK8j5t5STmYmhWB8byIH\\u002fE1li0HF2RZTuJXbMGEcjCiYToXeB99S27i46yQsjWUctNwSI1ma97H6xhXDiI1K2JtDuQDLF+OdGsEe7I13+EMbsmRFI31vNms+U3gc2zBd\\u002fhHVmsNjdSsodPGB3gbG3Tz7z01K5prDK\\u002fmXbx8YZchi7QMH+flfJ9zmFGORzTAQmsWxvJ6NuEU\\u002fl\\u002fON0Ngoaf7GFgr8D12WcBLPp8vNSsaajQncBBL9HMxw1hewYvYk\\u002fcxrRyPqLvuahba2YjPsTPvYXI5HgOqX19n0RMj2ZGLeM0iOxbmLPCeekSNjWYv7uIDLDUgX0ojWJK3cit7ZYvGaJq5zCmzF1iMV3ExezKqHIyBMwDfaNGNFfgAP2HDcmQhZvbk8IiohxGsxac4nZXKwYGwMj\\u002flONbJl100xxxmltlCrMMpHM4K5UgMkNw0HERb8lFe06tlJjNSs6I5XsX72XHe1ryDZAk+xBb8gF\\u002flnnw0wZxeLUtckWO71sVfVg5Gv6VmDYoRHMBHeVFvH5zNbFY0wjJ8hANYoxwZBKPZlQ3ZhhN4uByPqJfe1SyM50A248ucmZPQwMo8+sBbjE9xUh86lsxmRRNsxVl8eGg61nNW5oOczfblSES99OKm4XPa2ISTOJpJ5WD0Q2rWAFuVb\\u002fC5F74ZpIdSs6LOJvI2fssOw7IwfRQv4eccMu\\u002fliBG1NLu3s1nPWYqj+A6rlSPRV6lZA2YMO3EWh9BeDvbYDGaXWUQtbMgX+A4rliNDayW+z5fZrG\\u002fXQhEV1+ubhvNr5yB+wY7Dci1UP6lZA2NJ3smpbF2O9FJqVtTQWF7DdzicseXgcBjNe\\u002fleN+9jiGhds5leZr20LafyTpYsR6KXsgR+ACzLJziEpcuR3puem4ZRM5N4P+9mlXJkuG3L19mAb\\u002fNUORjRsvqyNuuFVucY1uF4HikHo8dSs\\u002fprDD9kz\\u002f7cKJzfrLxmKupkBN\\u002fmgIE6PgbWCFblWLZl32wMHLUxa0DuirSxNIexIa\\u002ftz23IhstNw74bzTZcz6sH9hzydPfvSYhoCePYnlt408AeHwOunX24nR1zAzFqoIMpZdYP7bySa9g6S7X6JjWrjxbnDZzJOuVIvz2RLRSj1S3Du\\u002fn5YBwfg2QNfsp7Wa4ciWgpHTxRZv22Hr\\u002fkQBYvR2JRUrP6YhIf4PhB2vbnycxmRUtbgc9x1CC9P2fwrMSnOY6Vy5GI1tHJk2U2EFbnC3yQJcqR6FbWZvVaG18e1Fb\\u002fRGpWtK61+SHbVOSJwt5akreyMW\\u002fnlnIwohUMymzWPCvzMdbgnTlL9Vxms3pnCf7BuwevY0nNihbVxiu5gh1atGPNM4aXcTmvzvdjtKIOHi+zgbMYh\\u002fLXzGn1XL5GemokL+a3bFuODLQnsjYrWs6SvJ\\u002fTarPLziRO5Yja\\u002fP+J5ugYpJuG89uO89iSUeVIvEBqVo+MYhe+zcvKkUGQ2axoMavwWY5j+XKklS3Dp\\u002fkcq5YjERXWOaizWc95Cd9mtzStRUrN6pHX8zVeMjT\\u002fvh5PzYoWsj7f5T21vImwBO\\u002fhe2xcjkRU1eDeNHzOCLbhBPYtR+L5hqI2tLr38B02GrLXnz2QmhWtYnt+xV6MKUfqYjR78Et2LEciKmkuD5TZ4GhjQ77Lx8uRmE9qVnfG8BlOGuL1GU8xrcwiKmYke3Mam9T+a2QEG3Iqr8uz2VF9U3m2zAbTkhzHUTW+1uqnmn8\\u002f9seSHMkRw7Lx7X1lEFEl43gL32atcqS+1uCbvI3x5UhEldxTBoNvNB\\u002fjKJYqRyI1a2EW4xPDuBHbXWUQURlLcyRfbeDS8JX5Mp\\u002fMySSqbHhOH5M4jE8O6mZHLSo1awEm8A0+MMT3Cuc3PMdJxCKtwtf4RGObxpJ8lG+wWjkSUQ13l8FQWYL38i0mliPNlppVWpJf8WYmlCNDKDUrqmh1vsGBDV+EMZY38g3WLEciKmA4Tx8TOIhfMqkcabDUrP9pYyW+z260l4ND684yiBhu6\\u002fL\\u002feG22ycFI9uEkNihHIobbHWUwtNrZjR+y6pA9nV9xqVn\\u002fsyZf4TXD3rFwWxlEDKst+Bavy\\u002ffmc9rYmx+wVTkSMayGuWahnb35MmvnG0P+FTxnRb7Oa4flucIXGsXUivxPidiL49iijANcw9H8rowjhsNMJjC3jIfDbM7hQ9xfjjRMZrNgFX7GvtUpNrPzkxlV0MZ+nJiO1Y3NOYE35po1quC+inQsjOK1nMHq5UjDpGZZkV\\u002fyiqptPHhrGUQMrTZenQVIPbFe11x4vk9jmN1SBsNqJC\\u002fnF6xSjjRJo78W2liDb7F1Ba9Eby6DiCE0glfyXVYqR2JBVuDb7Nnwr9QYdlU8cWzJt1irgqfZodH374Tllltu3333LdOWshrH8uoqrHl\\u002foZvKIGKojGQ\\u002ffsTK5Ugs3IqczP55FDOGURVrVjt7cWyrbza37777LrfccmXaA328UbbccsudcsopK6ywwtSpUy+44IJyuBUszpcqtR6rcEMZRAyJUbyN4+jLF0rDrcA3WYpTmFUORgy+68ugGkaxPyN4L0+Vg61g9913\\u002f+QnP\\u002fnQQw+9\\u002fe1vf+SRR8rhbvVlNmu55ZY7+eSTV1xxxba2tj322KMcbgWL8XNeX9mOhQeZXmYRg2w07+Bz6Vh9tiyf5d0N38I1hsWz9K4ADKXR7M8ZLbpH\\u002fB577NHW1rbiiiuefPLJvZ3T6nXNmjePtdJKK+Gqq6468sgjy09U3jh+yB4Vn9ufwQNlFjGYRvIGjmfFciR6Y3k+z0F9vlkQ0TeTmVlmVTKSPfkhY8uRyjvyyCOvuuoqrLTSSqecckqvmlbvata8jrXiiiviqquuOuyww2bNarGp8SU4jr3KuHpmcW+ZRQyakRzAt\\u002fOWjAGxOP+PAyp+LRc1c2\\u002fFa9Y8r+aLw\\u002fjG4L6ZNWvWYYcdNq9prbjiir1qWr2oWTXoWBP4IIcyvhypnlnD+AbQaJqRvIVvsng5En01iW9zSJVXJkTN3NMSSwLH8TY+NLzvDe6DPjetntasGnQsHM7hrdKiZ+SVOzE0RnIoX2SJciT6Z3E+z9ty9zCGxi3MKLNKWoIP8KEyrry+Na0e1ax6dKwjOIqlyriqZnEXs8s4YkC1sT+fyZr3QbIsn+GAHn7VRvTZvHUmLXNmXopPclgZV14fmtaij\\u002f0adKx29ucLrTVH2cljPFrGEQOnjZ35Cis3dufAwdbGSnyZXfOvOAbVIzxeZtU2gS9zYDV3ruxGb5vWImpWDTrWSHbj84wrRyrvcR4ss4iBswMnN\\u002fw9GENjJf6PHcs4YuA8yGNlVnnjOIZXttyzIr1qWt3VrBp0rDa24DOsW460gsdSs2LwvIofskYZx+BYjR\\u002fyqjKOGCAtWbOwDp9hy+7bSAX1vGl193\\u002fsuOOOm9expk2bdsQRR7Rcx8LyfIltWnS6\\u002flHuL7OIgbALX2WtMo7BtAZfZfcyjhgI97foIpM2tuJLrFCOVN6sWbOOOOKIadOmYcUVVzzuuOPKT6D7mvW5z31u3qby48eP\\u002f9KXvtTe3mI3UEfwc17Rcjd+nzODB1toSWO0ii35IhuUcQy+DTiWLco4on\\u002fmbWfdqieLdl7OT7svJBXU3t7+pS99afz48XjkkUc+97nPlZ9A9\\u002f+vHnzwwede37Pddtt99atfHTGiu89XykROZYfu\\u002fx9W3z08U2YR\\u002fbA2n2vdGd5W18a2fJ51ypGIfpja6ttZj2BHTmuhB9VGjBjx1a9+dbvttsMjjzzy9re\\u002f\\u002fcEHF7zKZxElZP6mtcMOOxx\\u002f\\u002fPEt0bQW48PsV8Yt6E6eLrOIvlqao1viJQj1tgefZdkyjuirp7mzzFrQvhzREpskjxgx4vjjj99hhx0sqmNZZM3y\\u002fKa1yy67VL9pjWFf3tUSW70v0i1MKbOIPlmSL3NwT476GFRtHMhXWLocieiTJ7mlzFrQeN7L6yv+4vV5HWuXXXbRg46lh1+4RdM65phj2toqesdh3pz8p1mpHGlNjzK5zCJ6bxzH8dbWXalYM+28mc+30D2SqKxO7mvRxwxfaEU+VeVVDW1tbcccc0zPO5Ye1izPb1p77rnn0UcfXX6iGiZwMutU9o+otzq4ho4yjuiNNo7gkLz0pVLaeQsf7vm3cMQCdfJvOsu4NbWxDj+o7O2oo48+es8999TjjqVXB\\u002fj8TWufffY58sgjy08Mt6U5p0W3yOrGFbU5fmJYjOJA3p95kwoaz\\u002fs4MP03+qOTK8usxW3Aryv4brwjjzxyn3320ZuOpVc1y\\u002fOb1n777ffhD3+4\\u002fMTwWYJj2LmMW98VzCmziB7bvk530etnBT7Jy8s4osdmc1WZtb7d+SxLlvHw+fCHP7zffvvpZcfS25rl+U3roIMOeu9731t+YjiM5q0cXMa18CD3lFlEz6zDl9iwjKNKNuYrrFfGET1zJw+XWS28lUMqshz+ve9970EHHaT3HUsfapbnN625c+eWw8NhZz7YEo+B9s1fyyCiB5blx2xdxlE9W3Iay5RxRA9cWgZ1sTiHs0sZD4d5VacPHUt\\u002fVoqvtNJKO++8809+8pNyYMity5n13lj5QH5WZhHdGsuP2L9vl1Ix9Do5i7cwvRyJ6NYb+GWZ1cgVHMgdZTzk3vrWt\\u002f7pT3964IEHyoFF6XvNqoiJfI83lXG9LMP9jC7jiIWYyEf5CBPLkaiwqXyNrzK1HIlYiJmsxBNlXC+n8X6eLeMW0dpXuu18hAPKuHYe48Yyi1iIUV0b9KZjtZiJvJ19GVWORCzE9bXvWHgTR7RuXWnV\\u002f93zvImPNmS\\u002fxdrefY8BtwlHsmIZRytYmU+xWRlHLMRfyqCORvLx1n3IrYVr1vYc2ZwL9j+XQcSCjOVUNijjaB3rcSrjyjhiQS4qg5pajE\\u002fw0jJuBa1as1biw406mdzOo2UW8Xxj+Rmb12DNZZO1sSlnMrYciXi+h+rxxuge2pCPtOI8fUvWrLG8mT0adTJ5imvKLGI+EziSPcs4WtPufLw5s\\u002fXRN9fyVJnVVxt78paWuwBpyZq1C4c1bVL9Kf5TZhFdRvFqDm25L6BYmLG8k32yHD66cU2jahbGczg7lXG1tV7NWo7jWbmM6+5ZbmJGGUeAjTiSVco4WtnKfIyNyjgCTOcmppVx3a3El1m+jCusxWpWG6exSRk3QCd3MbmMIxjH57Mkq37a2JxjmzZzHz00mbvpLOMG2IRTW+jrrpVq1ig+xs4t9G93YN1ehY1wo2pG8lFe3djDot7a2IcPM7Icica7g9vKrBna2IWPtMod9ZapWW28jHc0eS\\u002f0+7mJOWUczfZqPlVmUS9H85oyi2abw030+r0vtTGad\\u002fKylri8bJmatQrvZ60ybpIO\\u002fsPTZRwNti2fz7L32hvDsWxTxtFgT\\u002fFvOsq4Sdbm\\u002fS2xTrs1atZo3sBeDdnwvRv\\u002fZEqZRVOtzEdZv4yjjtbjo6xUxtFUU\\u002fhHmTVMO3tyQPVvcbVGzVqVTzO+jJvnFu4ps2ikUbyRvbNopyFGsg8HVf+UEkPjXm4vs+aZwKdZvYwrpgVq1pKcwRJl3FQXlEE00g58lDFlHPU1hg+xfRlHI51fBk01idMqXhCqXrNG8Sm2LuMGO6\\u002fh9+MDy3JMK750IvppZY5huTKOhulIzZrfS\\u002fl4lef1q16z9uStZdZsN2Zbh4Zr4\\u002fNsV8bRDC\\u002fjuJZ4vCoGz23cXGbN9nZeWWaVUematRaHsXQZN9tcfllm0SRv45CcZxurjbfyljKOJjkz9zQKy3A4a5RxNVS3Zo1if15e5f+Jw+X\\u002fcow11ryX6mQZdKON4ZNsWMbRDB38sMwabwQ7ckA1NyytaIdpYzvelSW+C\\u002fQAV5dZNMCSfJg1yziaZ20+xlJlHA3wLx4qs2A0h7JtBWf6K1qzRnNYwzcj7cZcfldmUXej2Y\\u002fXVHmlZwyZkbya12dis4HOZW6ZBViXwyt4TFS0Zr2VV5VZdJnLX7MdfNOsyeEsU8bRVMtWeTVKDJIp\\u002fC01qxt7c1CZDbcq1qzV+FJeINK9e7mmzKLWjmHjMotm24jPlVnU2jXcV2Yxn7F8tWpv4KlczRrN11iyjOP5HuKfdJZx1NTreWMF1xzE8BrBgbyhjKOmOvlnFmYt0tJ8rVK3DqtVs0bwRnYq43iBZ\\u002fkPT5Rx1NE6fL3MIrqcyDplFnX0BNcyrYzjBXbh9dWpN1X53zHPOhySqaweuib7lDbBJI7KK4OjGyvxKSaVcdTO7fy7zGJBluKQ6jyUXaGaNZbX8pLcGumh27guayFrb2\\u002f2qtRxGlUzglezTxlHvczh2lxa91AbL+O1FVnjXaGv79V5J+PLOBZiFhcytYyjRjbgHSxbxhHPtwyHsn4ZR41M5U\\u002fMKuNYiAm8i9XLeDhUpWa1cXhWGPTWH3mkzKIuxrAv22d6NxapjZezX\\u002fZzrrFHuKDMolvr8d4qfH9WpWa9lEPKLBblSf5QZlEXW3AY7WUcsSDtvJ8XlXHUxXk8VWaxKO9g6zIbcsNf9LAkF7JFGUcPbM5VORfXTzvnVfmd81FNf2Bv5pRxtLi5vIjryzh64Ap2Z0oZD6FKzGa9OxdhfXZd3m9YS+9mlzKLWJRdeUeZReu7ghvLLHpmS95eZkNr+GvWOry5Cv87WlTe1l5Dq\\u002fDpvLsw+mAkn2W1Mo4WdzIdZRY9M4JDWbeMh9Aw15sxHJpXRPfTWVkIXyfj+GTeXRh9tgxHMq6Mo2U9xDllFr2xFm8dxudDhrlmbcE+FdnaonVNzUFYJzuyF6PKOKJnRrInO1Vk4W303294tsyiN8ayzzAuTRrOmjWR\\u002fbPXS\\u002f\\u002fNzEMotbEib2bVMo7ojVU5mBXKOFrQFH7PjDKOXtqQ\\u002fZhYxkNiOGvWWrwlK1D6r4MbshC+BkawA3vnwdHop3b2Zvvh\\u002fX6PAXElN9JZxtFLI3nrcK1aHLbDsI1Ps3QZR5\\u002fcycV5jLvVLcbHh+t6K2pmIh9nsTKOljKHv3BXGUefLMunhuVe+rDVrJfyujKLvurgH9xbxtFS3prN42IAbcWhZRYt5W7+nmcMB9Ab2KbMBt\\u002fw1KzF+XJuFw6sK7g+c8utaz2OLLOI\\u002fvnE8D7IHv0xbzXIlWUc\\u002fTCKLw39HYPhqVn7sVWZRf88xR+YWcbRIo5kxTKL6J\\u002fl+eSw3CaJ\\u002fpvF73m6jKN\\u002fXjL0N9KGoWatyFuzicNgOIMnyyxawSvZs8wiBsKe7Fpm0Qqe4Mwyi34bw9tYrowH01DXrBHsw6ZlHANhCj8qs6i8ibx1iA\\u002f7aI7lODRr4VvRqdmmZzC0sTl7D2X5Gbr\\u002fpnlW5lUsWcYxQL7JE2UWFTaCPXnF0B+J0RAjeDm75yestTzBd8ssBshS7M1KZTxohvTQa+dlvLyMY+A8mHnm1rIc+2dVVgyqldifZcs4Kuyn3F9mMXBezkuHbIfCIa1ZE3kLS5RxDKhTmFJmUVVbsEfWKMegamPPPHXUQp7k1DKLAbUUb2ZCGQ+OIa1ZW7B7mcVAu4s\\u002flllU0gg+kmUzMQQW54ND\\u002fHUfffaHbEk6BPYaskuPoTvuRnP8kE3SNdkUfsnUMo7q2ZWdyixicOSnrTVM5awsfh8C7RzD6DIeBENXs\\u002fYclu1XG6iTa\\u002flXGUfFLMEJuV0YQ6aNE5hUxlEx\\u002f+KabDQ9NF7GbmU2CIaoZk3gIzmlDJm7uZhpZRxVclA2Nokh9iIOKLOokme5iHvKOAZHGx9hfBkPtCGqWXuyWZnFoJnNOTlWq2xlDimziMH3dlYps6iMe\\u002fkts8s4Bs2LeWWZDbShqFljeCOLl3EMpuu4JDPPlXUAG5ZZxODbgP3LLKqhgwu5roxjME3iwMFeoTUUNWsXtsodw6H3XZ4ps6iAtdhz6F9fGoHF2JM1yjgqYGq2JB16bWw12A+HDHrNWoxdWbWMY\\u002fBdx8\\u002fLLIZbO9uzZRlHDJWteHke+q6gM7ipzGLwrcaug3rdO+g1ay32yiE9XL6Yd+9UzVK8Lnv0xjBakteyVBnHsHqSL5ZZDIl2XsVaZTxwBrdmtbML65RxDJW7+VmZxbDaIHv0xrDbg43KLIbV6dxbZjFU1mOnwZsOGtyaNY63D97\\u002f9uiJ72VCqzra+NgQPD8c0b3xfDDrZavjcf6vzGIItfM2xpbxABncmrVXrpmG3QP8ko4yjuHwYvYss4jhsDebl1kMhw5+kRdFD7vNB+8+wyDWrDF8ssxiyD3Jb7ivjGPItfN5RpZxxHAYyXG51VAF93I2U8o4htwnGVVmA2EQa9YrsyVpRfyTi5lbxjG0duIVZRYxfHZihzKLoTWXS\\u002fhnGcdw2JJdymwgDGLNes+g\\u002ftOj557iFzxaxjG0DmVcmUUMn\\u002fG8vcxiaD3CmTxdxjEcRvD+MhsIg1WEtstUVqX8gb+XWQyh7bJHb1RNG1uzbRnHEPoHF5RZDJ8XsXWZ9dug1KyRvJqlyziGTycn5GXSw2U0u+VVclFBq7L7IC1IiUV6li\\u002fnlWiVsgx7D\\u002fgK2kGpWWvxssF7ODL65h\\u002fZFH64rMlOuWMYFTSOnfLuneFyBv8qsxhWY3k5q5dx\\u002fwxKzdoqjwpX0zE8UmYxyEawWd6uE5W1NS8epDNBdONRjiuzqIDN2arM+mfgD66l2IVJZRwVMJnvlVkMssV5w6C+MCuiPyayL4uVcQyyb2WvrGpakp0G9n1oA1+zVmLnMotqmMuZXFfGMZhWYa8yi6iSV7NqmcVgup5fZZOdytqVlcusHwa+Zg38jc0YQHfxE54t4xg0H8zbdaLiJvCBMotB8yw\\u002f4c4yjspYi+3KrB8Gvma9LY+tV9kMzuHfebxlaKzM68ssonr2Z8Uyi8HxH85mRhlHZbRxSJn1wwDXrJfwojKLirmNX2ZCa2gcwpJlFlE9S\\u002fGWMotBMJWfc3sZR8VszRZl1lcDPPH0q1y8t4TR\\u002fCuPgw62dm5lrTKOqKQ7WD\\u002frhQbbtWzDzDKO6vkpB5dZnwzkbNayWevbKmbxuRzqg20\\u002fliuziKpanteWWQyoWRydL95W8bqB2mR9IGvWgdmStIWczTllFgNnHK\\u002fOlqTRQsaxT77DB9U5\\u002fLbMoqrG8YYy65MBq1njeNWA34OMQfV57i6zGCCb8mLayziiqtp5MZuUcQyQezm2zKLC2tibMWXcewNWs7ZmvTKLaruJk7IWY5C8JKuyouWsPbAPssdz5nISt5RxVNsGA\\u002fICj4GpWW3swPJlHNU2h99zWRlHv63CzrljGC1nPDuwUhlHv\\u002f2Vc5ldxlFty\\u002fOK\\u002ft+lG5iatQJb5azSim7lNB4v4+iftXlJmUW0gu1Yu8yifx7ndG4r46i88WzV\\u002fyeZBqZmrc9mZRatoJPz+Asd5Uj01Si26\\u002f+RGTEsVuCljCzj6KsO\\u002fsJ52RG6RW3OBmXWSwNQs0axKauUcbSIh\\u002fk6T5dx9NUY9u3\\u002fPHPEsGhj3zxvOICe5iQeKeNoEauxcT+vOwagZi3OTowq42gdf+fUMou+2pAXl1lE69gqzzMNoJOz\\u002frWljWJHJpVxbwxAzVqGl5dZtJS5HMmtZRx98u7s4xAtrZ13lln0yS18Mk9zt7od+7lP6QDUrJ1Ypsyi1cziCJ4o4+ilJXldmUW0mv1Zosyilx7no8wp42g1y\\u002fKyMuuNAahZB5RBtKZLOT1fCv30GpYqs4hWszSvLrPojTmcxsVlHK3pwDLojf7WrBXZtsyiNT3L6VxdxtEbB5VBRGt6cxlEb1zFj5lWxtGatu\\u002fPfcP+1qz980xKbXTyH07nqXIkeuZFbFRmEa1p42zT02dP81OuySYOtTGOfcusx\\u002fpVs0awf5lFK+vkNC7Jt0Pf7NzPB1IiqmMSO5VZ9EAnF3NavkVr5sA+b9PTr5q1Ri536mcqX84uL30wgW0YX8YRrWk8L2FCGceiPMrx2YmwfrZktTLrmX7VrD1zx7CW\\u002fsGxeQi5tzZk\\u002fX4eUBHVMYL1soFWb83lGC4v42h9Y3hlmfVM388KbeyQXUnr6of8ssyiWxuxVplFtLK12aTMoltn8sMyi1oY1ee76H2vWWuzTp\\u002fvVUbFzeBobinjWIjF2JLFyziilU3ixUws41iI2\\u002fgcM8o4amEE67BmGfdA32vW5qxQZlEjd\\u002fMlnizjWJB579uNqJuXsnyZxYI8yZe4u4yjRlZk8zLrgT7WrHY2zubv9TaH33M2s8qReIE12bjMIlrfpqxRZvECszibc7O9c70tw8Z9eJdaH2vWMmzE6DKOenmYr3N7GcfzjWDnPGMYtTSBnbI4ZJFu4+t5QLv2xrBxH\\u002fYp7WPNWpVNyyzq6Ho+V2bxfG19fgIlovpe2efzRHMcx3VlFnW0MauU2aL08fBZmXXKLOqog19yGh3lSHRZum837CNawhYsWWbRpYNT+Hk2I22I9Vm5zBalLzVrLFvljmGjvI+\\u002f5XtkYd6SmypRYyP6+eLcGuvkbxxexlFfY9iCMWXcrT7WrJeUWdTadD7DrWUcYL8yiKiX1KwFu5XPMr2Mo9Ze0tt92ftYs7Yos6i1Ti7nOzxRjjTeqry4zCLqZUtWKrPGe5Lv8s9M8zfN1owrs271pWZtnVv1DTSDH3J+XsJT2C33z6P2RrNrmTXbXM7llGxG2kBL9XaiqS81a88sRWmmqXwuW8PPr43dyyyijnbP1\\u002f78buE4ppZxNEAbe5VZt\\u002fpSs3JZ01x38AkeK+OmWja7kkZDbJb9qJ\\u002fzOB\\u002fjtjKOxti1Vxcdva5Zq+UFuQ13LsdlqnyerfqwVV1EK1qaLcuskaZzLOeXcTTJOr3a1qHXNWvnPmw1HzVzKidnJy1szqQyi6ijSWxWZs3Twcn8sIyjYdrZscwWrtc1a8cyiOZ5hpO4uIwbZgzr5h070RATWC+Pe\\u002fyZk7IkK7BTGSxc72rWqOyYFfPczle4pckPM6\\u002fB2mUWUV9rs3qZNUYnt\\u002fBV7ihHopFeysgyW4je1awNWarMoqn+xIk8U8aNsRprlFlEfa3OamXWGE9zAheWcTTVMqxbZgvRu5r14t7ufho11slP+EYzJ7RGsBorlHFEfa3Ear09Z9RDJyfxk2Z+18UCje35MyG9O2Q2S82K+U3nK\\u002fy8jBtgAptlpUo0yhg2beZqxJ9xQh6vjvnNOxp6pBc1q501GVXG0WzPcARXlXHdLZ537EQDvZjFy6zuruAjTV4dEQs0mnV7uO9CL2rWWqxYZhE8zAe5sVEz6pPYpMwi6m6TRm1h0smNfIRHypEIlu\\u002fhMyG9qFmrs2yZRdDJv\\u002fgiD5Qj9bVOXuwZDbQMa5ZZfT3AF\\u002fJy6FiYZQe+Zq2WmhULM5vfcAJzypGa2r4MIpphuzKoqTl8jbOZXY5EYOBr1khWYbEyjugyje\\u002fz7TKuqW3LIKIZmrJ14kl8l2llHNFlcVbqSYla9CfmmcSavXpZYjTQdD7Er5lbjtRLO1uUWUQzbN3z00aL6uAcPsr0ciRiPiNYiyXK+AV6erwska0Yo4c+yMX1blovYmKZRTTD4vV++mMOF3NYGUcsyBo9eSakpzVr8R7ehIx4gM9wVY3fLb1bGUQ0ya5lUBcdXMWnmVyORCzIagNcs1Yqs4gF6eAKjuLucqQudiyDiCbpxVtzW8s9HM2VebQwemiVnmwk16OaNYJ1GVPGEQsxh4t4fy0fPGxjmzKLaJKX1nKd7lwO56JafmvFIBnHmovsUYsYnqe93jfjYzB08AcOqd\\u002fuyQ193UjEcyayYZm1uKd5M+fWe1FpDIZNF7kXfI9q1gg2KLOIHjiDY3isjFvZpj08aiLqakTNLrwf53PNfDdr9N8GizwjLGJ4nnbWLbOIHujgZL7LlHKkZW3Uw6Mmoq5GsFGZtayn+D6n1viRnRhUi36zYY9OGKNYpcwieuYpTuLnzCpHWtOGPTxqIupqBBuXWWuaxc\\u002f4Wp2uA2OIrT4wNWsjRpdZRI89zmH8roxb0CRWrOXy34iea2Oleuwd93uO4PEyjuixMaxfZs\\u002fXo5q1ZRlE9NJsDuScVn9B2Jo92SUlovYmtfqG1bM4lzcysxyJ6KUtyuD5elSzXlQGEb03m7fxS2aUI61j9Z7skhJRe61ds2ZyFm9Jx4oB8eIyeL4e1axaPVQSw+hJjuLs1l2ntVpqVgQWY7UyaxGzOYdPZz1WDJRNy+D5elSzFnHjMaLn7uEoLmnF53rmrUiZUMYRzTORlcusFXRwEZ\\u002fkrmz1HgNlERteLbpmLdGTN1BH9FAnd\\u002fIWbmy5r7nFWbEnh0xE7bWzAouVcbV1cguHcmfLfflElS3d\\u002feX3os8Zi+hpEX3wMHtxWWu912IJliuziKZajiXLrMLmcBm780A5EtFv3RWlRdes9cogYiDcxyGc10LPHi7BsmUW0VTLttBjt7M4j7czuRyJGAjd7eC+6JrV3d8d0R938okW2uVhUmpWxHNapmbN5lyO5LZyJGKArFMG81l0zVqzDCIGSCe38mH+3BJLJVKzIv6nNWpWJ5fwYW5piS+ZaFFrl8F8Fl2zWvWp3WgJndzH\\u002flzK3HKwStqYxPgyjmiqxVii4q9EmMtl7Mc96VgxqFYtg\\u002fksomaNZOkyixhoU3kVv67yzqVjur9eiWigNav8Hrbp\\u002fIY9ebociRhoy3fzZsNF1KxlGVtmEYPgWT7I6UwtR6phVEvveh0xGNaobM2ayukcVtnvk6iZsSxVZl0WUbNWqOxRFPXzIJ\\u002fhBzxbjlTA6Nw\\u002fjyiszqgyq4BpnMxneagciRgcY1ihzLosomYtn5oVQ+lhjuIbZVwBo1ipzCKabcVq1qzv8EkeLuOIQTOK5cusyyJq1rLVPIqixmbwKT7CU+XIsBrZzVEU0UzLM7LMhtVTfIqPVXmVZ9TS6G6eQ1\\u002fEMbJ0alYMi6\\u002fzDJ9kjYo8yzSuJZ5ejxhKS1Zn8W4nd\\u002fFVflCORAy+Ud08LriI2awlF1nEIgZDBz\\u002fhKG6uyJPYqyzyYIlomvaK3Erv5GY+xWmt+E76qIGR3bx6ahFnjtSsGDbT+TXv4+ZyZDhkm96IBajEgXEbh3E208uRiCExsu9PGi6emhXDaCZ\\u002fYQeuL0eGXCXOJhFVs0YZDLmbeAUXMbMciRgqI7tZVdJdzRqfTa9j2HXyGC\\u002fjl8O70cPqZRARw1uzpvEbtuOhiiwtiMZqYxxjyhjd16zFmFBmEcPhaQ7j2zxejgyV1KyIBRi2A+MJ\\u002fo8PMKUciRgOE1iszNB9zRrPuDKLGCYP81WO5YlyZEisUgYRMVwHxhS+wBd4oByJGCbjFzYx1d3Kq\\u002fHVeVg3Ao\\u002fxA27lxyxTDg6ybJoVsQDDcGA8wlu4NAveo1LGLmxiqrvZrHGpWVE1M\\u002fgD2\\u002fDvoXxyu31hlykRDTep+7PIwOrgWrbnj+lYUTV9qlljF7agK2J43cX+nDFk74WtxN5AEdW0XBkMjmf5NW\\u002fktnIkogLGLGxiqrualdmsqK47+AQn8mQ5MghWKIOI6LJiGQyCp\\u002fg6H67ILnoRL5TZrKif+\\u002fkqhw7B1e1QnEciWtSgX4XcxTv4MveVIxGV0aeaNSY1KyruWc5hP\\u002f5SjgyoYVjmG9EqBrdm\\u002fYv9+DXPlCMRVTJ6YY2pu5o1Ku+Njurr5FoO4czBWxWbmhWxUIN1eEznTN7I1UP5vEtE3yy0MXW3ocPohf1NEVVzN+\\u002fmet4xGPtSD9Ea34hWNCg1637+j28MzeLLiP4bubDG1F3NGtX9cESlPM0XuZoPsfPA\\u002fuwuXQYR0WWA97Cbw1\\u002f4NmfnFTrRQkYxuszQ\\u002fblooVNgEdXUye+5nfdxKIuX43210HeCRsSC3zDSN1P5Ed\\u002fOE4XRchbamBZas9pop62MIyrvNo7kVo4fqII0kOeRiJoZsMNjKsfwLWaUIxGV176wQrXQJfAjFrZoPqL6ZvJd9uZ6ZpaDvTexDCKiywDUrFncwB6ckI4VrWvkAuemuqtZCy5mEa3ir+zK97mvn4s8BuA8ElFX\\u002fTo8OnmAk9mdy8rBiJYycoGdaqFVqq2bsYhW8TBH8TeOYNsFHgI9kRcaRixU3yd7O7iSb3AuT5WDEa2ml7NZqVlRE1P5DW\\u002fmu33bfWdkDoWIbozq5kTSjU5+zMH8Ih0r6qF9gYfCAqJ5ctMw6mMOd3AYr+XhcnBRxi\\u002fwAiUi5hmxsJeMdOMx9u96U9bscjCiNfV+Nqu9zCJaWSe\\u002fY1fO6dWLOyYs8MiJiHnaenXf8BnOZVfO6tvsckRlLbhmLXTGKjUr6ul63sNBvIXNFnhQFMb15EMRjdXW89ms6zmVn\\u002fFQORLR+kYucOpqoTVLzi1RVw\\u002fxdf7KWzl4kXtrLfgCJSLm6dFC3mc4g1P5Vyaxolm6Ozr69Qh8RJV1cAW38GeOYZNuqlRmdSMWobuDpJPb+Cx\\u002fYEo5GFEjnQvsTQuY4HrOAj4eUSdP8xt250xmlYNd8jaEiEVYaM2azVnswpnpWFF7Cy5NC61ZC\\u002f54RP08xEG8mct5thzs5gwSERa2kHcaV\\u002fIe3sDkcjCijhbcm3LTMAL8gis5hDew7vwXIAu9FImIeZ5Xszq4m1\\u002fwQ26bfyCi3hZ807C7mpV1itEsd\\u002fJlzucdvOW5t63npmFEd543mzWHX\\u002fFtrunVtikRNbCAjqWbmtXB3DKLqLtn+Sc38BO+zuYWeD8kIub334PkRj7E5Tz9vNGIZpi7wKa10BsiHd2sCY6ot2e4hF04ngfbM68b0Z0OIx7mJHbhT+lY0VizFngXsLvZrNSsaLTHOYrz2zreP3fE9qycm4cRL\\u002fCwOZd2dHx3hEsWeCUf0RypWRG91cnf5oy4qt2e7MceLFl+JKKhpvAnzjbynBELekQ3omlm97pmzSmziAaabXqn33AZZ3M422VaK5qtk6v4Jn\\u002fiIZ2duSaPQMcCZ3QXujbLAltZROPMgk4e5lfszrt4vPxQRFM8xSfYkZ\\u002fy4H9PK7OLz0Q0TsfCSlN3NWtOJrQizP7fBUoH0ziZjfgO9+X0Eo0xh8l8m\\u002fX4Ks\\u002f+71n0zqwwiTBnYeeDhd40xCxmd\\u002f+JiPqbr2Y95xEO53QOZmc26P6CJaKVdXIHF\\u002fEzLlvAxXfnwk4vEQ0ye2GXG92VqFnMYlwZRzTKQs4gc7mcq9mGfdiPNbNmK+qlk3s5i\\u002fO4jJnl+DypWRHMWtgR0l3NmrmwbhbRILMWMJv1nNlcxn\\u002f4BQfyLhYrPxLRkp7lx\\u002fyIGxe9n3vOFNF4C61Z3d3qmDebFdFs3daseZ7lKj7K5vxu0R+PqLROzmET3svli+5YWZsV0U1j6q5mZTYrgpm96E138Vq25IfckVsp0VLmcA8\\u002fYzv25e5yfGE6mVFmEU2z0Nms7m4azkjNijB9YY\\u002fpLlgH\\u002f+Y9bMF+7MZGz72FOqKS5nAzF\\u002fBb\\u002frmwk8VCzen13xFRPzMXdhwsomblGiUar5NpZbZIs7mcq\\u002fgFO3Agm3d\\u002ftEUMh7ncxM+4mCsX8BRhT0wtg4gGmsH0MkP3X\\u002fzPLuxvimiWp8qgh+ZwBdfwc\\u002fbiQ2xYfiRi2NzI1\\u002fkjj\\u002fTrkrqvh0dEnUxf2AV5d2uzpi3sb4polill0CuzmMwP2Ii9+AvTencfMmLAdDCdf7AvG\\u002fN\\u002f3NuvjiU1KwKmW8irPTObFbFIU8qgz37PhbyUQ9maNbMxXQyVmdzLFfyYixe2jKQvppRBRAP1tWZlNitigC\\u002fXZ3Mpf+XF7MXObMni5aciBszTXMml\\u002fJnLevHgbA8N6OER0aKe7UvNmp7ZrAgG5XK9k6u5jp+zMXuwL8uWn4rolyc5j7O5lrsHa4eRJ8sgooFmLGyKuLua1cEzzKW9HIlolCllMFBmcxu38yc+z768nU26XzMZsSgd3MKPOIMpPDu4awGnlEFE08zh6YVNFHdXs\\u002fAEs1OzoukeK4OB1dk13\\u002fwNvsMOHMFLWIzReU9i9My8vdif4d98m98P3baHj5dBRNPM5oky67KImvUYsxlbxhGN8kAZDJ45XMRFbM5reQnrsMYij9RosLnczy1cxm+4thwfbPeXQUTTzO7manwRX96PD9bd\\u002fIgWMoQ16znXcA3LsDlbsj1bsUImt2I+j\\u002fNvLuYarubBcnxopGZF483pZlZ3ETVr3mxWRLNNLoMh8xh\\u002f5mJ+xhq8nNewbfmpaJwb+A0XcTf3MrccH0rDd3hEVMSsvs9mpWZF8CCdwzmP1MFkJvNPvs5GHMprWLn8YNTc\\u002fZzND7mZWcxd2KLbodPBo2UW0TSzuzkOFnHmWJVLWKuMI5rmSZYos+E1jpfxWnZmaSYxpvxItLzZPM1j\\u002fI1fc2nl3iD4KMuVWUTT3Mn2C7ttv4jZrIf7+xqGiHp4qHI1azoXciHj2ZEd2Jx1WDV9q\\u002fXN27H9Dm7iH1xQ3T1AHy6DiAaa1s1s1iJq1iweYaMyjmiah9igzCpiGufzB1ZkfdZmE7ZmUyaWn41Km84tXMkV3MYtXferK+yhMohooIeZU2ZdFlGzcE8ZRDRQ5c8mHdzP\\u002fVzMYizF0mzPXrwkL\\u002fOptmn8h9\\u002fzJx7ncaZUvV09p\\u002fIHRsQQ6K4oLbpm3V0GEQ10XxlUVidP8zR3cxUnsQS78lr2ZMlFLsiMIdHJE\\u002fyes\\u002flzC++kfm8ZRDTQXWUwn0XXrO7+7oimuL0MWsgUfsWvwNrsxitYj6VZkgl5z8Pgm8uzPMkT3M0\\u002f+DNXl59qRa18YEQMlLvLYD6Lrll3lEFEA9XlbHIHd\\u002fA9lmFTNmEtVmEVVmbFnnwlRM\\u002fM5fGuO7l3cwvXc3032+u0pNvKIKKBuitKi75\\u002fsFQ3m5tGNMW63FTPaZ92lmIFlmdV1mdDNmGNvMG69zp4gFu4mWuZzMM8zKPMLD9bA3NYnzvLOKJpluLJMuuy6EvXJ3mSJcs4olGm8STLlHENzOVRHuU6RjCW8UxgcTZhSzZlK5Yq\\u002f774r2e4nhu4mn\\u002fyJNOZxrRh3px9CDxez\\u002fYY0SuPdb+4ctE1q5Ob2K6MIxplDg\\u002fWs2bNr6OrH8y7sXUdZ3QNrcFL2IYt2ZCxtDOC9q7f1Fgnc5lLB3OYwY1cxeVc3v0zRjX3YF4TEuHG7h8MXnTNwvWpWdF0s3mQTcu4Oe7mbs4EbSzHeqzO6qzDKkxiIuMZzzjGteYt1jlM7\\u002fo1jWeYyhPczr3cyU3c1\\u002f2XaoM80M1mQRFNcX0ZPF9Pa1ZEs83mgTJrrM6uJUd\\u002f7UpGd63uWoalWIolmdT1+6VYnIksxgTGDvfsVwczmNr166muZwCf4Cme4Mmu\\u002fase4mFmlf+AmCezWRGLrEg9qln\\u002fKYOIppnN5DKL58zi3hfsoTSaCUxkAuMY2\\u002fVrDJNYumtHicUYx2Jd02ATun4znjbG9GxWbC4z6WRa10TUVGZ0zUhN55n5ytMUZjKTGcxgOs92Va60ht64P\\u002f\\u002fCIlxTBs\\u002fXo5p1HXN6+NGIepqVB6p6bRazFvL8zfyLukbQtqD\\u002fnPcY9HO\\u002fGcHort+gA8zq+k1n1428eb\\u002fpWNB\\u002fdsy3xCoGwp2Z6Yumm80NZfZ8PepOs7iHtcs4ojk6eIxpjC9Hog\\u002fmlZ7MhLSyqTyeyhpNd+civ8h6tERiLreUWUTTPMUjZRbRVI90\\u002fxR7RCPcssiNW3pUszq4ucwimmYKj5ZZRFOlZkVw88DUrLmLvPcYUX9P8nCZRTRValYENyzyznmPalZHljpGeJKHyiyiqR7kiTKLaJSZ3DMwNQtPc3+ZRTTKVB5e5PxwRBPM5VGmlXFEo0zm6TJ7gZ7WrCncVWYRTfNwziwReDZTuxHu6smd89SsiJ6bzDNlFtE8z2S73gh3LmRjwOfpac16ijsXeQcyoubu5qkyi2iep3LhHU3Xwd0DedNwLg\\u002f05J8XUWd3pGZFYEreihBNN4XJPZl96mnNwn08VmYRjTLvUZB5b3WJaKhO7mdqGUc0yuM9vHPei5p1TzZnjOjBLikR9dbBdWUW0TSPck+ZLUgvatZ9PJgL+Wi661OzouE6uL7MIhqlkwcHfjZrJrcu8h2JETV3TWpWNFwH15RZRKPM4uYe7trei5qFa5hRZhGNclsWpUTDPZ3179F0M7m2zBaidzXr36lZ0XSdXFVmEU1yRRlENM0Mri6zhehdzbojq+AjXFoGEU3ylzKIaJqHe75zXO9q1pxcx0S4oAwimuSPZRDRNP\\u002fq+ftte1ez8OcyiGiaq\\u002fPKnWisp\\u002fOYYURvqlCva9YFPa9wEfU0lyvLLKIZLs8pIJpuLn8qs4Xrdc16hBvLLKJp\\u002fl4GEc2QH\\u002f1ovOt69U6cXtcsXFgGEU3z1+zUGw3Uyd\\u002fKLKJpejGVpW816\\u002fdlENE0d\\u002ffqaiaiHh7m3jKLaJrelaC+1KzreLLMIhplKjeXWUTd3ZTNeaPpHuOmMutWX2rWdC4vs4hGeSYvz40Guj4P2UbT\\u002fZPpZdatPtas3J6PZnuWa\\u002fKGz2iUWVzDs2Uc0Sh\\u002fG4qaNZv\\u002f8HQZRzTHXO7mwTKOqK8HuCcvTo9Ge4pre3uB3Zea1clkbi\\u002fjiEa5p+cvW4iogbu4p8wiGuU27u\\u002ftY+Z9qVm4P7tnRdPdmWuNaJQ7uLvMIhrlRiaX2aL0sWY9xg3MLOOI5pjNLVmpEg0x79na3t0siaiVmdzAE2W8KH2sWbiBR8osolH+w5Qyi6ijKfynzCIa5WFuKLMe6HvNupoHyiyiUa7uw5VNRCt6MjUrmu4Bri6zHuh7zXqQG\\u002fLUSTTaE9mkNBrixlxSRKPN5ToeKuMe6HvN6uBiZpVxRHN05g2f0RAX9Pbxqohamc1FfTsI+l6zcHEWAEfT\\u002fSHXGlF7s7igzCIaZSoXl1nP9Ktm3c8VZRbRKPfy7zKLqJer+vAUe0St\\u002fIuHy6xn+lWz8LMyiGiaM8ogol5+WgYRTfPjMuixtjLopTE8xsQyjmiOpXmY9jKOqIU5LMeTZRzRHFNZus\\u002frQ\\u002fo7mzWT88ssolGmcFWZRdTFv\\u002fIG22i63\\u002fW5Y+l\\u002fzcIvmVtmEc3RwR\\u002fLLKIu\\u002fpCNe6LR5vLLMuuNAahZV3JvmUU0RyeXMr2MI1rfs\\u002fytb0+xR9TE3X3blfQ5A1CzpnBpmUU0yj19ewlDRMXdwH1lFtEol\\u002fJUmfXGANSsp\\u002fgzc8o4ojke4u9lFtH6LuvbvtcRNTFvV9Lhrlmd3MYtZRzRHM9wVRYKR808xb+ZWsYRzXETt\\u002fbztvkA1CzcwtVZJhmNdj23l1lEK7ud68osojk6+A+3lnEvDUzNepLLeaaMI5rjFm7OtUbURgc39\\u002f8ME9HCnuGfTCnjXhqYmoW\\u002f9Hkj+og6eJZ\\u002f5CWfURvPchnTyjiiOR7ikjLrvQGrWdfnUatouv6ulIyojin8ucwiGuUmbiqz3huwmoVf9HOdWERru5EbyyyiNd2QO4bRaJ0D9dLmgaxZv+fBMotolJ+XQURrOrMMIhplMheUWZ8MZM16qj\\u002fvsI6og3Pyjt2ogSf4XZlFNMqPBmoRyEDWLHyVmWUW0RyPc1aZRbSaX\\u002fBEmUU0xwz+X5n11QDXrMf5Q5lFNMq38y71aGlz+W6ZRTTKuQN4X2KAaxZ+xqwyi2iO27mizCJaxz+5s8wimmMWZ5RZPwx8zboqT1tFo83gV3noNlpUJ2cxo4wjmuN6\\u002flNm\\u002fTDwNetBzstJJpprDv\\u002fk\\u002fjKOaAWT+SdzyjiiITo4b2B3TRj4mjWNfzC5jCOa4y4uL7OIVvBP7i6ziOa4j78zvYz7YeBrFq7k6kxoRXM9wN9y4yVaznQuG9gL+YhW0snVXFnG\\u002fTMoNethLmFqGUc0xz+4o8wiqu0O\\u002fl5mEc0xlUt4rIz7Z1BqFn6bS6JotGv5d3Z2iBYyl6u5rowjmuMBzimzfhusmnUXF5ZZRHNM55yBvcEfMaimc3ZudUejXcC9ZdZvbWUwcNbh1kH9L4iotHZuYt0yjqik29kwzxhGc3Wy1mA8ATJYs1m4nd+UWURzzOX7ZRZRVd9Jx4pG+\\u002flgdCyDPdm0LRcysYwjGmIZbmKZMo6omEfZmEfLOKIhnuUVXFXGA2EQZ7PwHy4qs4jmeIxflFlE9ZyZjhWNdiHXl9kAGdyaNYtTmFnGEc3xPaaVWUSVTOP\\u002fyiyiOWbyw8F7G\\u002fPg1qxObuCfZRzRHPdxfplFVMm5g\\u002fF4VUTL+DvXD96W6oNbs3APv8tz7dFcT\\u002fOLbNYblTWVX\\u002fJMGUc0xHTOH9QLjUGvWXP4MzeVcURDdPAf\\u002flXGEdXwL\\u002f5DRxlHNMRNXDioT9kOes3CDVw8eLc9I6rubi7OCq2ooGn8mXvKOKIhZvFnbizjATUUNWs2P+KpMo5oiNn8YVAnpSP65h7+wOwyjmiIKZw22LNAQ1GzcH2WAUejXcnluTMTldLBv7i6jCOa41xuKLOBNkQ1C1\\u002fNKstotFPzKEhUyvTs4xCN9jQnlNkgGLqadQM\\u002fLbOI5vgrfy2ziOHzF\\u002f5RZhHNcfrQPJ43uC\\u002fbKWzIhaxUxhENsQX\\u002fZFQZRwy52WzLv8s4oiEeZCduKeNBMHSzWbgrE1rRaP\\u002fOGsWoiN\\u002fynzKLaI7Th+wR2yGtWTP4DXeVcURDdHJCdnaIYfcs\\u002f2\\u002fwNr2OqLq7+C0zynhwDGnNwk2cl+eHo7luzoRWDLvzhuZmSUQVzea8IXjA8DlDXbOm8Fsml3FEQzzJb3i8jCOGymOczZNlHNEQkzlnKLfyHOqahb\\u002fxF+aWcUQTzOWvXF7GEUPlCv6Wb+BoqLlczGVlPJiGoWZN58QhuykaUTn3cQFPl3HE4HuK87mvjCMaYgYnDfEWhsNQs3A9p5ZZRHOcxa1lFjH4buXXZRbRHCdzbZkNsuGpWfj8kD1MGVE5kzmlzCIG3yk8UGYRDXE3Xy6zwTdsNethTsw73qK5zsi+RTHErubMMotoiA5O4MEyHnzDVrNwDleUWURDPMVHsnVRDJkOPjyUj1dFVMvl\\u002fLbMhsRw1qzJfDtr4aO5LuEPZRYxOM7POzWjuWbwfe4v4yExnDWrg79xUW4dRkN18P8yvxBD4ElOyjdtNFQHf+Yvw3UEDGfNwl2cwRNlHNEQ\\u002f+Hc3DqMQdXJuVxTxhEN8ThncncZD5Vhrlk4l7+VWURDPM5vhmVVZjTHA3nzQDTaPzi3zIbQ8NesKXxpuObyIoZZB38cxtnsqL0OLuVP+QmLhurky0wp4yE0\\u002fDULl3NqbpxEQ03lRzxSxhED4RFOYWoZRzRBJyfz9zIeWpWoWfgwt5VZRENcwO\\u002fKLGIg\\u002fI4\\u002fl1lEQ9zGJ8psyFWlZj3N8TxbxhEN8RUml1lE\\u002fzzAl8osoiGe5XieLOMhV5WahfM5r8wiGuJ2Pp875zGAOvkCd5ZxREP8gd+X2XCoUM16lJ8N1\\u002fZhEcPvTP5RZhF99Xd+WmYRDTGZ0yuy5rVCNauTP3Euc8qRiCZ4hhOyWDkGxFS+xjNlHNEEs\\u002fkdF1bk\\u002fkCFahamcXLWwkdDdfBPfsfcciSiN+byO\\u002f6RTRyioe7gFKaV8TCpVs3ClXyrIhU0Yqg9xE+4r4wjeuM+fsJDZRzRBJ18m6vLePhUrmbhNP5UZhFN0MklnMfsciSiZ+bwey7OxWo01B\\u002f4UaV+\\u002fNvKoBqW4xaWKOOIJliZK1ixjCN64AG25oEyjmiCp1mPh8t4WFVxNguP80VmlnFEE9zPZzOhFX0wm8+kY0VDzeBYHivj4VbRmjWXX2TeO5rrlIrs+BKt5fecWmYRTdDJxfyqgo8QVbRmYTInZ2PsaKgOPs+9ZRyxcPdxXJ4ujIa6l\\u002f+rZmWobs2ay\\u002fn8hlnlSEQTXMv3KnhlFtU0l+9wXRlHNMFsfsvvq\\u002fmFWd2ahel8gbvKOKIJZvIb\\u002fpY757FInVzKr7OeNRrqDo5jRhlXQ6VrFh7h4zxdxhFNcDM\\u002fqMj7IqLKHuUUbi3jiCZ4ho\\u002fwaBlXRtVrFn7Lt6o5FRgx6M7lvKy3iW508Ft+V8YRTTCXb3F+GVdJRffNKqzIj9mljCOaYG0uZI0yjgB3swt3lnFEE1zAITxYxlXSArNZeIgvV\\u002fMRgohBdweHZYVWLFAnH0zHioa6j69W\\u002f7VSrVGzOvkLP6jsCreIwXUup+XWYRQ6+CG\\u002fLeOIJpjOyfy1+pegrVGzMIsfc0lONdFQx3F9mUWzXc\\u002fxZRbRBB1czGkt8XBty9Qs3M0Xq\\u002fayooghMplvVvlpmhhij3AS95VxRBM8wvHcU8aV1Eo1C3\\u002fjc9WfIowYeLM4i9\\u002fkXYeB2ZyT3ZujoTo5mr+XcVW1xpOG82vnFN5axhFNsB7nsEEZR8Pcwuu4qYwjmuCHvKuFdnlqsdkszOWTXJ45rWiiW\\u002fliHgVpuJkck44VTdTJFRzdQh1LK9YsPMyxrXJXNmKA\\u002fYTvt9a3TAygDv6PM8s4ognu4Zjq7+BQaMma1cGlnMoz5UhE7XVyDJeWcTTDRVmfGg31NCfzl5bbb6Alaxam8m0uLuOIJniSY\\u002fOQWQPdy+d5vIwjmuAvfJepZVx5rVqz8Djv5akyjmiCyzgpz5k1yky+zmVlHNEET\\u002fAunijjVtDCNQsPsDePlXFE7c3mZ\\u002fyGOeVI1NEczuHn+fOOJnqUfVtuSdZzWrtm4a98PnNa0UQPciI3lnHU0U18hQfKOKL2pnAsfynj1tHyNQuncXpun0QTXcGnmFbGUS\\u002fT+TRXlXFE7c3iJ\\u002fykjFtKHWrWFE7i0jx9E030Bz5bZlEjnXya88s4ovY6+SvfaPX7VW1l0LJ24VRWLeOI2hvHj9m3TodzzNPJLzmE6eVIRO3dy1u5pIxbTR1ms+b5M5\\u002fh6TKOqL3pfI6rM59bM51cxXHpWNFET3NsDTqWOtUsnMYXs1AlmugWvsrkMo5WNpmvcnMZR9TedL7IKWXcmmpVszr5Jt\\u002fJi0iicWZzHv+X1x3WxnS+z3nZwSEaZy7f55tl3LJqVbMwjW9xbhlH1N5UTsjPfm2cx9d4towjau93\\u002fL863Zeq55rZ7fg2m9f1\\u002f17EQo3k72yVn\\u002f3W1cm\\u002feWk2qYnGmfez\\u002f37+WY60srrNZs3zd47l3jKOqL05vI0byjhax40cko4VTXQfx9WsY6lrzcLZfJpnyjii9m7hC3mxdIu6h89zUxlH1N4zHM05Zdz6aluzOjmTj2ZJcDTOHM7l5FxltJynOZnfZdl7NM5MPsEZtdyVprY1C3P4MSfQUY5E1NtUvsI5+dlvIR2cx4lZ9h6N08nXOI3Z5Ugt1LlmYTrf48y6\\u002fulFLNQMDueftbw6rJ9OLuew7EQajTOLn\\u002fKtOj1aWKh5zcL9HM+fcl0fjfMkb+byMo7q+RcH8XgZR9RbB3\\u002fieB4oR2qk\\u002fjUL1\\u002fMprijjiNq7k49xXRlHlVzDx7m7jCNq70qO4sYyrpcGba6zNuexfhlH1NsoXsdXWa0ciQqYzEc5K8veo3FuYy9uL+PaacRs1jx38Np6T01GLMBsfsm3mFqOxHCbytf5eTpWNM797N2EjqVRNQu38X7uyqrgaJZOvsGP8ihIpczh1Dq9uS2iRzq5i\\u002fc1pGNpWs2ay+\\u002f5HPeXIxH1NpOjOC3zJhUxhx9xdHZ7j8a5n2P5I3PLkZpq0Nqs54zjAL7NuHIkot6W4su8jfZyJIZQB6fxUZ4oRyLqbQYf4GeN2rqkiTULo9mfUxlVjkTU2xqcyOsae+xXwTkcwV1lHFFvc3g7P2dmOVJrzbpp+Jx5G6IdkVfxROPczWe4LAsUh0Unf+cz6VjRONM5nNOb1rE0tmbNczqfz5aA0Tg38BmuL+MYfNfzSa4t44h6e5xj+XEZN0Oja9YzfJevMaUciai3i\\u002fkod5ZxDKY7+DiXlnFEvT3FSfxfY\\u002feUyfoMS\\u002fB+jsu\\u002fi2icHfkB65ZxDII7eCcXl3FEvXXwab7Hk+VIY6RawBgO4yv51xHN0sYunJIN4gfbZA7lwiyIi2bp4GN8u4HrsebX6JuGz5nJ\\u002f+MzjZ3TjIbq5M98hPtSAAZJZ9frdNKxomGmchQnNbxjYWQZNNVcvslcPsRy5WBEXXXyaxbnOFYqB6PfHuZYfpWOFc3yKCfx3ebsQdqN3CV7niV4O0exZDkSUWMjeBNfY5lyJPrhCT7CT7L1fjTLU3yBk5u8Hmt+qVmliezHdxlbjkTUWDuv43ssXY5EnzzB+zgrHSuaZQaH8XOeKUeaKjVrAUawDz\\u002fL23iiWUZyAN9kiXIkeunJrlNNOlY0yTQO5Fw6ypEGyxL4BejgXA7lnvywRIPM4Uw+zgPlSPTGg3yKX6RjRYN0ci9v47ycNgupWQs2h7P4MDdl7Wo0yBx+xOd4sByJnnmIz3Ays8uRiLrq5CY+ytlZ8\\u002f5CuWnYnZHsyNfZuByJqLF2XsNJrFKORLfu44icaqJxbuJDXJQJ3AVKzVqENtblDLYoRyJqrI1d+AFrliOxEPfyjuyPFY1zJW\\u002fi9twrXJjUrB5ZgTPZIf++olleyQ+yR3xPTOZd\\u002fCEdKxqkk4s5kEfKkZhP1mb1yEO8jZ8yvRyJqLELOIKbyjie7yYOT8eKZpnGmbwrHWuRMjvTC6vxId6bLbWiWXbnWLYt4wDX8El+X8YRNTaD7\\u002fB17itH4gVSs3pnSd7E55lUjkTU2GYcz575xihcwFFcWcYRNfY0R\\u002fPjbPLeQ\\u002fnS7LVRvIpv5w1w0Szrcjyvy0qDeTr4NZ\\u002fitnIkosbu5\\u002f38nlnlSCxEalYfvYJvsnHOOdEgK3Eir2dUOdIwszmbDzO5HImoq3mbYx3GxVmF2CspCX30F97OhdkgJxrkAT7Ej5lRjjTJdH7KB9OxokHm8mfew0XpWL2V2ax+WZsP81YmlCMRdTWJw\\u002fkAy5UjDfAY3+Akni5HIupqGqfzVe4sR6IHUrP6axJv50iWLUci6mo0B\\u002fC5pm1eeg\\u002fH8DNmliMRdfUwX+ZHWfDeZ6lZA2AUe\\u002fA11ilHIupqJLtwEuuXIzV1G0fwx7xPJBrkHj7KOXlFZ3+kZg2YbfgOmzOyHImoqy05mc3qvcqzgxt4J5eXIxF1NZdreT\\u002f\\u002fKEeil+r85TjE\\u002fsU+\\u002fJQp5UhEXV3F6zi7xu9HmMY5vC4dKxrkKc7ktelYAyKzWQNsMd7D+1ijHImoq+X4GIeyVDnS4h7nFE7g0XIkoq7u4nt8L4959MRHPvKR9ddf\\u002f5ZbbjnxxBPLsS65wTXAnuHbXMexbJUaG43wCF\\u002fgNo5mlXKwZT3EFzmdp8qRiFrq5N8czSVMKwdjQdZff\\u002f0tttiiTJ8vNw0H3jT+yF5cWI5E1NUUTuag2rxH9jHexLfTsaJB\\u002fsQr+X061sBKzRoUnTzG7hzFw9nNLRqhg7+yBRe29FKtGVzCllxERzkYUT8dPMzx7MFjOV8NuNSswXUC7+dvef9TNMX9HMj3WnRa63FO5o3cW45E1NIs\\u002fs57+VwK1iDJ2qzBNYvfcAvv5t15FVw0wmN8nts4ktXKwQqbzFc4g8fKkYhamsOP+QY35L1xgyezWYOug+s5moN4qByMqKUnOJU3cH05UlU3cwAnp2NFUzzAAXyCa9OxBlVq1hCZwq\\u002fYhj9lwUc0wgwuZ3POqPiXeAdnsTGXtfSasoie6uAytucsHi8HY6ClZg2p+3grX2VyORJRSx28m49zVwWvLzq4h09yaAX\\u002fx0UMivv4MvtxVzkSgyNrs4bagxzNv3g7uzK6HI+omWf4FjfzQXar1F5yf+VELsiroKMRZvNXvsm5eTPnUKrQV17TrM5BvJ+Vy5GIWlqXt\\u002fMBJpQjQ2463+UUbixHImrpQb7Dz7mtHIne2HnnnQ844IDn\\u002fnK99dabOHHi1KlTb7311ufCM88886KLLnruL1OzhtNYduCLbJE\\u002fiWiECezDl4b3CcR7+TjnMbUciaifDq7k0\\u002fyVGeVg9NKIESNOOumkl770peVAl3\\u002f84x+HH354Z+f\\u002fdsfIyX34TeQLHMqE\\u002fHlEI2zK19hh6O+Zz+KffJQrypGI+ulkGqfxybygcACNHz\\u002f+Rz\\u002f60VprrVUOcOeddx5yyCHTpj1vG\\u002f2c1qtiNz7ONixejkTUz1J8lDew1tB8C3VyLz\\u002fPe6CjKaZyJd\\u002fgN+VI9Nvyyy9\\u002fxhlnLL74807XTz755MEHH\\u002fzwww\\u002fPHxqaL7jooZU5hLcN2ZknYpjtzmHswrhyZEDN4GK+zznlSET9dHIHP+ZH3Je93fvpBz\\u002f4wRZbbHH11Ve\\u002f613vmj\\u002fffPPNv\\u002f\\u002f9748c+d\\u002fnCOfMmfPud7\\u002f7mmuumf8z8\\u002f7ebOhQIffzdQ7mtDwHEo1wIR\\u002fg+EGdYHqSE3k\\u002fvytHIuqng19xMCdybzrW4LnmmmuOPfbY5\\u002f7y2GOPLTrWc1KzquVZ\\u002fsn7eT13lIMRNTNv46ov8ybuKQcHwt3sz3HV3LYrYoDdzmt5G5fzbDkYA+38888\\u002f\\u002ffTTcfrpp59\\u002f\\u002fvnlcJfsm1VF0\\u002fgtV3MUr2fZcjyiTmbxJ9blK7yZJft\\u002f+dfBFM7kQ8wuByNqppPH+C3HDdLlSizMt771rSlTpvzkJz8pB+bT36+zGDyTOYz3cD5TysGImpnNJ3gbF\\u002fTzQnw6F\\u002fMOPpyOFfX3FH\\u002fknbwnHWvodXR0nH766R0d3c2VZzar0ubway5lXw7ipUP\\u002fBHzE0JnF77iB\\u002ffkAq5TjPTBvE8Zfcks5ElEzs\\u002fkXP+XXlE+3RXXkgbbWMJLV2Y8Ps1w5GFEzY9mQj\\u002fN6RpWDCzGH33MMN+YN0FF\\u002fj\\u002fMtfspdeWJqUH3961\\u002fffvvti33ee2jeHvGpWa1kBKvyHfYqRyLqZzxv4hhWLEde4EE+wxn9vN0Y0QI6+R0f4P481zEE3vrWtx522GFl2hupWa2njd35GFuxeP4Io+bW52h2Y9kX\\u002frB38gQXcTz\\u002fLsYiaqWTp\\u002fkPJ3BedmoYMuPGjdt333233HLLiRMnlmOLMnXq1Kuuuqr82opWsSyv5\\u002fVsz9hyMKJORvA6DuHlTHoufZq\\u002f8zN+mov6qLmZXM6ZWYbVilKzWtva7Mbb2JL2cjCiNtpYmdfwTjbtMOJmTuFX2eU6am4OV3Iaf+GmcjBaQWpWy2tndfbhCFYrByPqZAwrP+aDP3PQNy0zmRnlByLq5B5O5FzuZW45GC0iNas+luDTvI8x2Q8taqezaxvTD3KnlTiR1zImX2JROx3M4Ed8hsfLwWg1+Yaqm\\u002fU5gp1YI5tsRS108jCX8x0uYdZ\\u002f49HsyPvYkpXzVRa1MJt7+RNf47ZyMFpTvptqaBQvZl\\u002f2YuPMbEXL6mQyF3E+v+eZchzj2YXXs0vKVrSyDq7nj\\u002fyOfzGzHI+WlW+l2hrLpuzIm1O2ogU9wS\\u002f4Df9a9MumlmQb9uaNLFMORlRaB7dzGhdwXQpW\\u002faRm1dxoVmQ\\u002fjmDlcjCiiqZxGifxAFN7+iBhGxNYmQ\\u002fxFsaX4xFVNJmv8RseTMGqq9SsphjFO\\u002fkQqzA2f\\u002fBRPXN4gt\\u002fz2f6+AndFjuL1LN3zd\\u002fVEDJVOZvIg\\u002f8fX0q5qL2fbZlmCA9mXzfJuxKiMp7mNv\\u002fITru7p9NUibcQh7My6LF4ORgyPh7me8zmdx8rBqKPUrCZamVewIzuydpZtxfB5isv4Ixdwczk4IDZkV3bm5SxdDkYMkQ7u4yIu4FIeKMejvlKzmmsSG7Abb2Gd\\u002fCjE0HqKsziLG7ifOeX4AGpnBTbljeybma0YWp3cyulcws08UY5H3eXc2nSjmMC+fJDNysGIgfcAP+S7PMmMAbtFuEhtjGUp3sfbWLEcjxh4\\u002f+EkzuZZZpeD0QypWfFfI3kJ7+flLMOYcjyi7+bwNPdzKj8e\\u002fjUpS7A\\u002f72M1FmdkOR7RdzN5jCv4LhenXUVqVjzPCLZgX17KBiyXlVvRP89yM1fzB347uDcHe2skr2EPtmB9JpTjEb3QwSPcxD\\u002f49UA+yxEtLjUrFmx1tuIl7MgWKVvRe49wCX\\u002fiSm6u7muex7IhW7A9O+f169F7ndzEhVzKFdxbjkezpWZFdyayIhvxVnbJ4uHogTlcy5lcyt080jIX9UuzJjtxIJvmTmL0wFNcyOncxgM8VY5HpGZFT7QxguU5kPezZjkeAc9yLt\\u002fkcua2TLsqtNHOBnyAA3NlEQsxme9zOvfT0ao\\u002f7DEkUrOid9rYiTeyHSuwJO3lR6IpOpnKY9z6\\u002f9u7v9+s6jsO4K8WKLVooUV+VNsyqRUUZc3cJovOgUsWksWEZdnVkt3IjV4Y\\u002fwL\\u002fAa+MF2oiXswsWTLNTCTZdjEXh\\u002fNHfTYnxinCphToA1UQQWttabuLJ6drT6VTofbX+5WTJyfn+32eq89zvp\\u002fz\\u002fXX4Pb9bbKvV1\\u002fILfkY361iVG+YSNspHVPkbv+WFcnnEReSuEV9HXbHH6ffZxo1szPytpeRz3uMNXuUA\\u002f5xfc9svr+X0cCe3so3uvDBxKRnjNId4nVf4KyfSdxVfSdKsuCR1XMdWbmUXt6UJWtQucJgXeYkjvMXZJdTmNLOVrfyQO7g+87cWtUFe5gUO8i6HGCtXifgSkmbF5dFIK2u4kz3czpXlKrGAHWc\\u002fz3KYM3y8hLKrkjpW08omdvNzuspVYgEb5B\\u002fsZz8fcWb+rpGNBSJpVsyKNvbwS77DcpZlSHGhGWWUKvv5Nb3l8phwG7\\u002fip2xkOfW5ry4oY4wxwt\\u002f5Dc9yslwl4hLkdhCzaz27uIvtbOTqTCSexy5whgH6eY0\\u002fUsmz\\u002fJe1gpv5CT+ik\\u002fW0ZFRxvhrnUz7kJId4kT9xrFwr4nJIexffkHV8m1vopotuOrNKcX4Y5D0O8TZv8zpvL90xwUtXz430sJXNbKGLNeVaMQfGOMVh3uUt3uSNuX\\u002fzUywWbW1t1Wq1fDVpVnzzmtjItXSwg+9xS1508o0b5zgVXuUQJzjOqczyvZzqWEs77WxjB9+lvVwrZt0nvMlr9FKlnxOcL9eKuDTPPffcPffcMzAwULqeNCvmTB1NNNHINn7MLm7OW6tn03le4y\\u002f8gSqDDDKSvqvZVceKIthb2cUu7mRtuWJcNiMc4UX+zMt8VgR7Ij1mS6VSqVar0zOtpFkxv6zldn7ED7iORhpYwYpyxZjJOCOMMMxHvFE0OAfTzswXdfRwF3ewndU0FMGe5SJfySjDDDPEEV7hBV7idLlixGyqVCqYnmklzYr560q2cgs3s4V1tNDCmkwtnmacQc5yltN8wGHe4iDvMFyuHvPKMjYVkX4THcXuKGtoyl16mpEi0s9whr5iotXBxfYaglhQammWaZlW\\u002fsCxMDTSQTvX0E4bnbTRxgYay9UXvzHOcZKT9HFs0qyTY3ywmLdlX9yWs44OruUarqGDDjaykeYl2dc1xKkiwPuocqKYT3g8a2FjznV2dvb09Dz44IMTV\\u002fr7+\\u002ffu3VvLtJJmxcJTxxW00MxVNLOBLVzPJjrYQEP5SwvbOJ9ygr5iVeB7nOY85znLx4yUvxSLwApWs4aruIq1bOYGNtPJtYuxu2u4eHbo4wjvcpLznOMcZ\\u002fksQ98x5+rr63fv3r1z586enp7W1tZy8aRMa5H9P2OJqmfZpH1QG+jgpmIx\\u002faaiRVoo\\u002fQBDHKOPfxev+XiHDxlljFEuMJqmZimqmxrpy1jHVrZwA1100r5wunfHimeH9\\u002fkP7\\u002fAvjjNcBHst0sfK34uYO7UEa+\\u002fevZ2dneWyqWqjh0mzYqmoo41v0cF6NrCBq9lAa9FwTT7qqaN+0ompO3xPJG2lRqCWAI0zVnzWcqPa50TrMcSHDDBQnBzjGEeX9Kts4tLVsbp4uGhnPVezvjhpLLaqnwjz2udEmE9E\\u002fWTTg70W2rUrE2FeO6+F+cRxgTOc4gMGOMUpjvM+1UR6LCwtLS2PPfZYV1dXueAi+vv7k2ZFwEpWF6OQtWMlV9BAIytZyTIaJ+VbDcX2qkOMFr8zzmcMM8Igo3zKMOf5ZNKRMb6YI7VRyCsnHbVgb2JZEfINXDHpgaIW+BhleFJ2VQv8oWKV3+cMMcQnxWj2x5zj8+J3Iha25ubmJ554YvPmzeWCGSXNioiIiJhJU1PTvn37uru7ywUzeuqpp0o9wxERERExxQMPPPA1cqyHH344aVZERETERXV2du7Zs6d8dUa1HEt2eYyIiIiYwf33319f\\u002f79uqaNHjx44cKBSqfT19VWr1ZGREZO2J8W+ffseffTR2nnSrIiIiIgvtn379p07d9bOn3\\u002f++aeffrq3t3dKjamefPLJiRwrIiIiIi7qkUceqVQqzzzzzMz7OFQqlUqlcu+995YLIiIiImK6xsbG3t7exx9\\u002ffNWqVeWyqSqVyn333Ve+GhERERFfaMeOHQ899NDy5f9\\u002fhlX6sSIiIiK+grvvvruhYZG9IzciIiJiHpi8wDAiIiIiIiIiIiIiIiIiIiIiIiIiIiIiIiIiIiIiIiIiIiIiIiJi8fovluOyp6Z2O1EAAAAASUVORK5CYII=\",\"type\":\"image\",\"xaxis\":\"x\",\"yaxis\":\"y\",\"hovertemplate\":\"x: %{x}\\u003cbr\\u003ey: %{y}\\u003cbr\\u003ecolor: [%{z[0]}, %{z[1]}, %{z[2]}]\\u003cextra\\u003e\\u003c\\u002fextra\\u003e\"}],                        {\"template\":{\"data\":{\"histogram2dcontour\":[{\"type\":\"histogram2dcontour\",\"colorbar\":{\"outlinewidth\":0,\"ticks\":\"\"},\"colorscale\":[[0.0,\"#0d0887\"],[0.1111111111111111,\"#46039f\"],[0.2222222222222222,\"#7201a8\"],[0.3333333333333333,\"#9c179e\"],[0.4444444444444444,\"#bd3786\"],[0.5555555555555556,\"#d8576b\"],[0.6666666666666666,\"#ed7953\"],[0.7777777777777778,\"#fb9f3a\"],[0.8888888888888888,\"#fdca26\"],[1.0,\"#f0f921\"]]}],\"choropleth\":[{\"type\":\"choropleth\",\"colorbar\":{\"outlinewidth\":0,\"ticks\":\"\"}}],\"histogram2d\":[{\"type\":\"histogram2d\",\"colorbar\":{\"outlinewidth\":0,\"ticks\":\"\"},\"colorscale\":[[0.0,\"#0d0887\"],[0.1111111111111111,\"#46039f\"],[0.2222222222222222,\"#7201a8\"],[0.3333333333333333,\"#9c179e\"],[0.4444444444444444,\"#bd3786\"],[0.5555555555555556,\"#d8576b\"],[0.6666666666666666,\"#ed7953\"],[0.7777777777777778,\"#fb9f3a\"],[0.8888888888888888,\"#fdca26\"],[1.0,\"#f0f921\"]]}],\"heatmap\":[{\"type\":\"heatmap\",\"colorbar\":{\"outlinewidth\":0,\"ticks\":\"\"},\"colorscale\":[[0.0,\"#0d0887\"],[0.1111111111111111,\"#46039f\"],[0.2222222222222222,\"#7201a8\"],[0.3333333333333333,\"#9c179e\"],[0.4444444444444444,\"#bd3786\"],[0.5555555555555556,\"#d8576b\"],[0.6666666666666666,\"#ed7953\"],[0.7777777777777778,\"#fb9f3a\"],[0.8888888888888888,\"#fdca26\"],[1.0,\"#f0f921\"]]}],\"heatmapgl\":[{\"type\":\"heatmapgl\",\"colorbar\":{\"outlinewidth\":0,\"ticks\":\"\"},\"colorscale\":[[0.0,\"#0d0887\"],[0.1111111111111111,\"#46039f\"],[0.2222222222222222,\"#7201a8\"],[0.3333333333333333,\"#9c179e\"],[0.4444444444444444,\"#bd3786\"],[0.5555555555555556,\"#d8576b\"],[0.6666666666666666,\"#ed7953\"],[0.7777777777777778,\"#fb9f3a\"],[0.8888888888888888,\"#fdca26\"],[1.0,\"#f0f921\"]]}],\"contourcarpet\":[{\"type\":\"contourcarpet\",\"colorbar\":{\"outlinewidth\":0,\"ticks\":\"\"}}],\"contour\":[{\"type\":\"contour\",\"colorbar\":{\"outlinewidth\":0,\"ticks\":\"\"},\"colorscale\":[[0.0,\"#0d0887\"],[0.1111111111111111,\"#46039f\"],[0.2222222222222222,\"#7201a8\"],[0.3333333333333333,\"#9c179e\"],[0.4444444444444444,\"#bd3786\"],[0.5555555555555556,\"#d8576b\"],[0.6666666666666666,\"#ed7953\"],[0.7777777777777778,\"#fb9f3a\"],[0.8888888888888888,\"#fdca26\"],[1.0,\"#f0f921\"]]}],\"surface\":[{\"type\":\"surface\",\"colorbar\":{\"outlinewidth\":0,\"ticks\":\"\"},\"colorscale\":[[0.0,\"#0d0887\"],[0.1111111111111111,\"#46039f\"],[0.2222222222222222,\"#7201a8\"],[0.3333333333333333,\"#9c179e\"],[0.4444444444444444,\"#bd3786\"],[0.5555555555555556,\"#d8576b\"],[0.6666666666666666,\"#ed7953\"],[0.7777777777777778,\"#fb9f3a\"],[0.8888888888888888,\"#fdca26\"],[1.0,\"#f0f921\"]]}],\"mesh3d\":[{\"type\":\"mesh3d\",\"colorbar\":{\"outlinewidth\":0,\"ticks\":\"\"}}],\"scatter\":[{\"fillpattern\":{\"fillmode\":\"overlay\",\"size\":10,\"solidity\":0.2},\"type\":\"scatter\"}],\"parcoords\":[{\"type\":\"parcoords\",\"line\":{\"colorbar\":{\"outlinewidth\":0,\"ticks\":\"\"}}}],\"scatterpolargl\":[{\"type\":\"scatterpolargl\",\"marker\":{\"colorbar\":{\"outlinewidth\":0,\"ticks\":\"\"}}}],\"bar\":[{\"error_x\":{\"color\":\"#2a3f5f\"},\"error_y\":{\"color\":\"#2a3f5f\"},\"marker\":{\"line\":{\"color\":\"#E5ECF6\",\"width\":0.5},\"pattern\":{\"fillmode\":\"overlay\",\"size\":10,\"solidity\":0.2}},\"type\":\"bar\"}],\"scattergeo\":[{\"type\":\"scattergeo\",\"marker\":{\"colorbar\":{\"outlinewidth\":0,\"ticks\":\"\"}}}],\"scatterpolar\":[{\"type\":\"scatterpolar\",\"marker\":{\"colorbar\":{\"outlinewidth\":0,\"ticks\":\"\"}}}],\"histogram\":[{\"marker\":{\"pattern\":{\"fillmode\":\"overlay\",\"size\":10,\"solidity\":0.2}},\"type\":\"histogram\"}],\"scattergl\":[{\"type\":\"scattergl\",\"marker\":{\"colorbar\":{\"outlinewidth\":0,\"ticks\":\"\"}}}],\"scatter3d\":[{\"type\":\"scatter3d\",\"line\":{\"colorbar\":{\"outlinewidth\":0,\"ticks\":\"\"}},\"marker\":{\"colorbar\":{\"outlinewidth\":0,\"ticks\":\"\"}}}],\"scattermapbox\":[{\"type\":\"scattermapbox\",\"marker\":{\"colorbar\":{\"outlinewidth\":0,\"ticks\":\"\"}}}],\"scatterternary\":[{\"type\":\"scatterternary\",\"marker\":{\"colorbar\":{\"outlinewidth\":0,\"ticks\":\"\"}}}],\"scattercarpet\":[{\"type\":\"scattercarpet\",\"marker\":{\"colorbar\":{\"outlinewidth\":0,\"ticks\":\"\"}}}],\"carpet\":[{\"aaxis\":{\"endlinecolor\":\"#2a3f5f\",\"gridcolor\":\"white\",\"linecolor\":\"white\",\"minorgridcolor\":\"white\",\"startlinecolor\":\"#2a3f5f\"},\"baxis\":{\"endlinecolor\":\"#2a3f5f\",\"gridcolor\":\"white\",\"linecolor\":\"white\",\"minorgridcolor\":\"white\",\"startlinecolor\":\"#2a3f5f\"},\"type\":\"carpet\"}],\"table\":[{\"cells\":{\"fill\":{\"color\":\"#EBF0F8\"},\"line\":{\"color\":\"white\"}},\"header\":{\"fill\":{\"color\":\"#C8D4E3\"},\"line\":{\"color\":\"white\"}},\"type\":\"table\"}],\"barpolar\":[{\"marker\":{\"line\":{\"color\":\"#E5ECF6\",\"width\":0.5},\"pattern\":{\"fillmode\":\"overlay\",\"size\":10,\"solidity\":0.2}},\"type\":\"barpolar\"}],\"pie\":[{\"automargin\":true,\"type\":\"pie\"}]},\"layout\":{\"autotypenumbers\":\"strict\",\"colorway\":[\"#636efa\",\"#EF553B\",\"#00cc96\",\"#ab63fa\",\"#FFA15A\",\"#19d3f3\",\"#FF6692\",\"#B6E880\",\"#FF97FF\",\"#FECB52\"],\"font\":{\"color\":\"#2a3f5f\"},\"hovermode\":\"closest\",\"hoverlabel\":{\"align\":\"left\"},\"paper_bgcolor\":\"white\",\"plot_bgcolor\":\"#E5ECF6\",\"polar\":{\"bgcolor\":\"#E5ECF6\",\"angularaxis\":{\"gridcolor\":\"white\",\"linecolor\":\"white\",\"ticks\":\"\"},\"radialaxis\":{\"gridcolor\":\"white\",\"linecolor\":\"white\",\"ticks\":\"\"}},\"ternary\":{\"bgcolor\":\"#E5ECF6\",\"aaxis\":{\"gridcolor\":\"white\",\"linecolor\":\"white\",\"ticks\":\"\"},\"baxis\":{\"gridcolor\":\"white\",\"linecolor\":\"white\",\"ticks\":\"\"},\"caxis\":{\"gridcolor\":\"white\",\"linecolor\":\"white\",\"ticks\":\"\"}},\"coloraxis\":{\"colorbar\":{\"outlinewidth\":0,\"ticks\":\"\"}},\"colorscale\":{\"sequential\":[[0.0,\"#0d0887\"],[0.1111111111111111,\"#46039f\"],[0.2222222222222222,\"#7201a8\"],[0.3333333333333333,\"#9c179e\"],[0.4444444444444444,\"#bd3786\"],[0.5555555555555556,\"#d8576b\"],[0.6666666666666666,\"#ed7953\"],[0.7777777777777778,\"#fb9f3a\"],[0.8888888888888888,\"#fdca26\"],[1.0,\"#f0f921\"]],\"sequentialminus\":[[0.0,\"#0d0887\"],[0.1111111111111111,\"#46039f\"],[0.2222222222222222,\"#7201a8\"],[0.3333333333333333,\"#9c179e\"],[0.4444444444444444,\"#bd3786\"],[0.5555555555555556,\"#d8576b\"],[0.6666666666666666,\"#ed7953\"],[0.7777777777777778,\"#fb9f3a\"],[0.8888888888888888,\"#fdca26\"],[1.0,\"#f0f921\"]],\"diverging\":[[0,\"#8e0152\"],[0.1,\"#c51b7d\"],[0.2,\"#de77ae\"],[0.3,\"#f1b6da\"],[0.4,\"#fde0ef\"],[0.5,\"#f7f7f7\"],[0.6,\"#e6f5d0\"],[0.7,\"#b8e186\"],[0.8,\"#7fbc41\"],[0.9,\"#4d9221\"],[1,\"#276419\"]]},\"xaxis\":{\"gridcolor\":\"white\",\"linecolor\":\"white\",\"ticks\":\"\",\"title\":{\"standoff\":15},\"zerolinecolor\":\"white\",\"automargin\":true,\"zerolinewidth\":2},\"yaxis\":{\"gridcolor\":\"white\",\"linecolor\":\"white\",\"ticks\":\"\",\"title\":{\"standoff\":15},\"zerolinecolor\":\"white\",\"automargin\":true,\"zerolinewidth\":2},\"scene\":{\"xaxis\":{\"backgroundcolor\":\"#E5ECF6\",\"gridcolor\":\"white\",\"linecolor\":\"white\",\"showbackground\":true,\"ticks\":\"\",\"zerolinecolor\":\"white\",\"gridwidth\":2},\"yaxis\":{\"backgroundcolor\":\"#E5ECF6\",\"gridcolor\":\"white\",\"linecolor\":\"white\",\"showbackground\":true,\"ticks\":\"\",\"zerolinecolor\":\"white\",\"gridwidth\":2},\"zaxis\":{\"backgroundcolor\":\"#E5ECF6\",\"gridcolor\":\"white\",\"linecolor\":\"white\",\"showbackground\":true,\"ticks\":\"\",\"zerolinecolor\":\"white\",\"gridwidth\":2}},\"shapedefaults\":{\"line\":{\"color\":\"#2a3f5f\"}},\"annotationdefaults\":{\"arrowcolor\":\"#2a3f5f\",\"arrowhead\":0,\"arrowwidth\":1},\"geo\":{\"bgcolor\":\"white\",\"landcolor\":\"#E5ECF6\",\"subunitcolor\":\"white\",\"showland\":true,\"showlakes\":true,\"lakecolor\":\"white\"},\"title\":{\"x\":0.05},\"mapbox\":{\"style\":\"light\"}}},\"xaxis\":{\"anchor\":\"y\",\"domain\":[0.0,1.0]},\"yaxis\":{\"anchor\":\"x\",\"domain\":[0.0,1.0]},\"margin\":{\"t\":60}},                        {\"responsive\": true}                    ).then(function(){\n",
       "                            \n",
       "var gd = document.getElementById('c245bd55-7ef6-4b31-b610-68e848716783');\n",
       "var x = new MutationObserver(function (mutations, observer) {{\n",
       "        var display = window.getComputedStyle(gd).display;\n",
       "        if (!display || display === 'none') {{\n",
       "            console.log([gd, 'removed!']);\n",
       "            Plotly.purge(gd);\n",
       "            observer.disconnect();\n",
       "        }}\n",
       "}});\n",
       "\n",
       "// Listen for the removal of the full notebook cells\n",
       "var notebookContainer = gd.closest('#notebook-container');\n",
       "if (notebookContainer) {{\n",
       "    x.observe(notebookContainer, {childList: true});\n",
       "}}\n",
       "\n",
       "// Listen for the clearing of the current output cell\n",
       "var outputEl = gd.closest('.output');\n",
       "if (outputEl) {{\n",
       "    x.observe(outputEl, {childList: true});\n",
       "}}\n",
       "\n",
       "                        })                };                });            </script>        </div>"
      ]
     },
     "metadata": {},
     "output_type": "display_data"
    }
   ],
   "source": [
    "px.imshow(colors_cv)"
   ]
  },
  {
   "cell_type": "markdown",
   "metadata": {},
   "source": [
    "將藍紅對調"
   ]
  },
  {
   "cell_type": "code",
   "execution_count": 218,
   "metadata": {},
   "outputs": [
    {
     "data": {
      "application/vnd.plotly.v1+json": {
       "config": {
        "plotlyServerURL": "https://plot.ly"
       },
       "data": [
        {
         "hovertemplate": "x: %{x}<br>y: %{y}<br>color: [%{z[0]}, %{z[1]}, %{z[2]}]<extra></extra>",
         "name": "0",
         "source": "data:image/png;base64,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",
         "type": "image",
         "xaxis": "x",
         "yaxis": "y"
        }
       ],
       "layout": {
        "autosize": true,
        "margin": {
         "t": 60
        },
        "template": {
         "data": {
          "bar": [
           {
            "error_x": {
             "color": "#2a3f5f"
            },
            "error_y": {
             "color": "#2a3f5f"
            },
            "marker": {
             "line": {
              "color": "#E5ECF6",
              "width": 0.5
             },
             "pattern": {
              "fillmode": "overlay",
              "size": 10,
              "solidity": 0.2
             }
            },
            "type": "bar"
           }
          ],
          "barpolar": [
           {
            "marker": {
             "line": {
              "color": "#E5ECF6",
              "width": 0.5
             },
             "pattern": {
              "fillmode": "overlay",
              "size": 10,
              "solidity": 0.2
             }
            },
            "type": "barpolar"
           }
          ],
          "carpet": [
           {
            "aaxis": {
             "endlinecolor": "#2a3f5f",
             "gridcolor": "white",
             "linecolor": "white",
             "minorgridcolor": "white",
             "startlinecolor": "#2a3f5f"
            },
            "baxis": {
             "endlinecolor": "#2a3f5f",
             "gridcolor": "white",
             "linecolor": "white",
             "minorgridcolor": "white",
             "startlinecolor": "#2a3f5f"
            },
            "type": "carpet"
           }
          ],
          "choropleth": [
           {
            "colorbar": {
             "outlinewidth": 0,
             "ticks": ""
            },
            "type": "choropleth"
           }
          ],
          "contour": [
           {
            "colorbar": {
             "outlinewidth": 0,
             "ticks": ""
            },
            "colorscale": [
             [
              0,
              "#0d0887"
             ],
             [
              0.1111111111111111,
              "#46039f"
             ],
             [
              0.2222222222222222,
              "#7201a8"
             ],
             [
              0.3333333333333333,
              "#9c179e"
             ],
             [
              0.4444444444444444,
              "#bd3786"
             ],
             [
              0.5555555555555556,
              "#d8576b"
             ],
             [
              0.6666666666666666,
              "#ed7953"
             ],
             [
              0.7777777777777778,
              "#fb9f3a"
             ],
             [
              0.8888888888888888,
              "#fdca26"
             ],
             [
              1,
              "#f0f921"
             ]
            ],
            "type": "contour"
           }
          ],
          "contourcarpet": [
           {
            "colorbar": {
             "outlinewidth": 0,
             "ticks": ""
            },
            "type": "contourcarpet"
           }
          ],
          "heatmap": [
           {
            "colorbar": {
             "outlinewidth": 0,
             "ticks": ""
            },
            "colorscale": [
             [
              0,
              "#0d0887"
             ],
             [
              0.1111111111111111,
              "#46039f"
             ],
             [
              0.2222222222222222,
              "#7201a8"
             ],
             [
              0.3333333333333333,
              "#9c179e"
             ],
             [
              0.4444444444444444,
              "#bd3786"
             ],
             [
              0.5555555555555556,
              "#d8576b"
             ],
             [
              0.6666666666666666,
              "#ed7953"
             ],
             [
              0.7777777777777778,
              "#fb9f3a"
             ],
             [
              0.8888888888888888,
              "#fdca26"
             ],
             [
              1,
              "#f0f921"
             ]
            ],
            "type": "heatmap"
           }
          ],
          "heatmapgl": [
           {
            "colorbar": {
             "outlinewidth": 0,
             "ticks": ""
            },
            "colorscale": [
             [
              0,
              "#0d0887"
             ],
             [
              0.1111111111111111,
              "#46039f"
             ],
             [
              0.2222222222222222,
              "#7201a8"
             ],
             [
              0.3333333333333333,
              "#9c179e"
             ],
             [
              0.4444444444444444,
              "#bd3786"
             ],
             [
              0.5555555555555556,
              "#d8576b"
             ],
             [
              0.6666666666666666,
              "#ed7953"
             ],
             [
              0.7777777777777778,
              "#fb9f3a"
             ],
             [
              0.8888888888888888,
              "#fdca26"
             ],
             [
              1,
              "#f0f921"
             ]
            ],
            "type": "heatmapgl"
           }
          ],
          "histogram": [
           {
            "marker": {
             "pattern": {
              "fillmode": "overlay",
              "size": 10,
              "solidity": 0.2
             }
            },
            "type": "histogram"
           }
          ],
          "histogram2d": [
           {
            "colorbar": {
             "outlinewidth": 0,
             "ticks": ""
            },
            "colorscale": [
             [
              0,
              "#0d0887"
             ],
             [
              0.1111111111111111,
              "#46039f"
             ],
             [
              0.2222222222222222,
              "#7201a8"
             ],
             [
              0.3333333333333333,
              "#9c179e"
             ],
             [
              0.4444444444444444,
              "#bd3786"
             ],
             [
              0.5555555555555556,
              "#d8576b"
             ],
             [
              0.6666666666666666,
              "#ed7953"
             ],
             [
              0.7777777777777778,
              "#fb9f3a"
             ],
             [
              0.8888888888888888,
              "#fdca26"
             ],
             [
              1,
              "#f0f921"
             ]
            ],
            "type": "histogram2d"
           }
          ],
          "histogram2dcontour": [
           {
            "colorbar": {
             "outlinewidth": 0,
             "ticks": ""
            },
            "colorscale": [
             [
              0,
              "#0d0887"
             ],
             [
              0.1111111111111111,
              "#46039f"
             ],
             [
              0.2222222222222222,
              "#7201a8"
             ],
             [
              0.3333333333333333,
              "#9c179e"
             ],
             [
              0.4444444444444444,
              "#bd3786"
             ],
             [
              0.5555555555555556,
              "#d8576b"
             ],
             [
              0.6666666666666666,
              "#ed7953"
             ],
             [
              0.7777777777777778,
              "#fb9f3a"
             ],
             [
              0.8888888888888888,
              "#fdca26"
             ],
             [
              1,
              "#f0f921"
             ]
            ],
            "type": "histogram2dcontour"
           }
          ],
          "mesh3d": [
           {
            "colorbar": {
             "outlinewidth": 0,
             "ticks": ""
            },
            "type": "mesh3d"
           }
          ],
          "parcoords": [
           {
            "line": {
             "colorbar": {
              "outlinewidth": 0,
              "ticks": ""
             }
            },
            "type": "parcoords"
           }
          ],
          "pie": [
           {
            "automargin": true,
            "type": "pie"
           }
          ],
          "scatter": [
           {
            "fillpattern": {
             "fillmode": "overlay",
             "size": 10,
             "solidity": 0.2
            },
            "type": "scatter"
           }
          ],
          "scatter3d": [
           {
            "line": {
             "colorbar": {
              "outlinewidth": 0,
              "ticks": ""
             }
            },
            "marker": {
             "colorbar": {
              "outlinewidth": 0,
              "ticks": ""
             }
            },
            "type": "scatter3d"
           }
          ],
          "scattercarpet": [
           {
            "marker": {
             "colorbar": {
              "outlinewidth": 0,
              "ticks": ""
             }
            },
            "type": "scattercarpet"
           }
          ],
          "scattergeo": [
           {
            "marker": {
             "colorbar": {
              "outlinewidth": 0,
              "ticks": ""
             }
            },
            "type": "scattergeo"
           }
          ],
          "scattergl": [
           {
            "marker": {
             "colorbar": {
              "outlinewidth": 0,
              "ticks": ""
             }
            },
            "type": "scattergl"
           }
          ],
          "scattermapbox": [
           {
            "marker": {
             "colorbar": {
              "outlinewidth": 0,
              "ticks": ""
             }
            },
            "type": "scattermapbox"
           }
          ],
          "scatterpolar": [
           {
            "marker": {
             "colorbar": {
              "outlinewidth": 0,
              "ticks": ""
             }
            },
            "type": "scatterpolar"
           }
          ],
          "scatterpolargl": [
           {
            "marker": {
             "colorbar": {
              "outlinewidth": 0,
              "ticks": ""
             }
            },
            "type": "scatterpolargl"
           }
          ],
          "scatterternary": [
           {
            "marker": {
             "colorbar": {
              "outlinewidth": 0,
              "ticks": ""
             }
            },
            "type": "scatterternary"
           }
          ],
          "surface": [
           {
            "colorbar": {
             "outlinewidth": 0,
             "ticks": ""
            },
            "colorscale": [
             [
              0,
              "#0d0887"
             ],
             [
              0.1111111111111111,
              "#46039f"
             ],
             [
              0.2222222222222222,
              "#7201a8"
             ],
             [
              0.3333333333333333,
              "#9c179e"
             ],
             [
              0.4444444444444444,
              "#bd3786"
             ],
             [
              0.5555555555555556,
              "#d8576b"
             ],
             [
              0.6666666666666666,
              "#ed7953"
             ],
             [
              0.7777777777777778,
              "#fb9f3a"
             ],
             [
              0.8888888888888888,
              "#fdca26"
             ],
             [
              1,
              "#f0f921"
             ]
            ],
            "type": "surface"
           }
          ],
          "table": [
           {
            "cells": {
             "fill": {
              "color": "#EBF0F8"
             },
             "line": {
              "color": "white"
             }
            },
            "header": {
             "fill": {
              "color": "#C8D4E3"
             },
             "line": {
              "color": "white"
             }
            },
            "type": "table"
           }
          ]
         },
         "layout": {
          "annotationdefaults": {
           "arrowcolor": "#2a3f5f",
           "arrowhead": 0,
           "arrowwidth": 1
          },
          "autotypenumbers": "strict",
          "coloraxis": {
           "colorbar": {
            "outlinewidth": 0,
            "ticks": ""
           }
          },
          "colorscale": {
           "diverging": [
            [
             0,
             "#8e0152"
            ],
            [
             0.1,
             "#c51b7d"
            ],
            [
             0.2,
             "#de77ae"
            ],
            [
             0.3,
             "#f1b6da"
            ],
            [
             0.4,
             "#fde0ef"
            ],
            [
             0.5,
             "#f7f7f7"
            ],
            [
             0.6,
             "#e6f5d0"
            ],
            [
             0.7,
             "#b8e186"
            ],
            [
             0.8,
             "#7fbc41"
            ],
            [
             0.9,
             "#4d9221"
            ],
            [
             1,
             "#276419"
            ]
           ],
           "sequential": [
            [
             0,
             "#0d0887"
            ],
            [
             0.1111111111111111,
             "#46039f"
            ],
            [
             0.2222222222222222,
             "#7201a8"
            ],
            [
             0.3333333333333333,
             "#9c179e"
            ],
            [
             0.4444444444444444,
             "#bd3786"
            ],
            [
             0.5555555555555556,
             "#d8576b"
            ],
            [
             0.6666666666666666,
             "#ed7953"
            ],
            [
             0.7777777777777778,
             "#fb9f3a"
            ],
            [
             0.8888888888888888,
             "#fdca26"
            ],
            [
             1,
             "#f0f921"
            ]
           ],
           "sequentialminus": [
            [
             0,
             "#0d0887"
            ],
            [
             0.1111111111111111,
             "#46039f"
            ],
            [
             0.2222222222222222,
             "#7201a8"
            ],
            [
             0.3333333333333333,
             "#9c179e"
            ],
            [
             0.4444444444444444,
             "#bd3786"
            ],
            [
             0.5555555555555556,
             "#d8576b"
            ],
            [
             0.6666666666666666,
             "#ed7953"
            ],
            [
             0.7777777777777778,
             "#fb9f3a"
            ],
            [
             0.8888888888888888,
             "#fdca26"
            ],
            [
             1,
             "#f0f921"
            ]
           ]
          },
          "colorway": [
           "#636efa",
           "#EF553B",
           "#00cc96",
           "#ab63fa",
           "#FFA15A",
           "#19d3f3",
           "#FF6692",
           "#B6E880",
           "#FF97FF",
           "#FECB52"
          ],
          "font": {
           "color": "#2a3f5f"
          },
          "geo": {
           "bgcolor": "white",
           "lakecolor": "white",
           "landcolor": "#E5ECF6",
           "showlakes": true,
           "showland": true,
           "subunitcolor": "white"
          },
          "hoverlabel": {
           "align": "left"
          },
          "hovermode": "closest",
          "mapbox": {
           "style": "light"
          },
          "paper_bgcolor": "white",
          "plot_bgcolor": "#E5ECF6",
          "polar": {
           "angularaxis": {
            "gridcolor": "white",
            "linecolor": "white",
            "ticks": ""
           },
           "bgcolor": "#E5ECF6",
           "radialaxis": {
            "gridcolor": "white",
            "linecolor": "white",
            "ticks": ""
           }
          },
          "scene": {
           "xaxis": {
            "backgroundcolor": "#E5ECF6",
            "gridcolor": "white",
            "gridwidth": 2,
            "linecolor": "white",
            "showbackground": true,
            "ticks": "",
            "zerolinecolor": "white"
           },
           "yaxis": {
            "backgroundcolor": "#E5ECF6",
            "gridcolor": "white",
            "gridwidth": 2,
            "linecolor": "white",
            "showbackground": true,
            "ticks": "",
            "zerolinecolor": "white"
           },
           "zaxis": {
            "backgroundcolor": "#E5ECF6",
            "gridcolor": "white",
            "gridwidth": 2,
            "linecolor": "white",
            "showbackground": true,
            "ticks": "",
            "zerolinecolor": "white"
           }
          },
          "shapedefaults": {
           "line": {
            "color": "#2a3f5f"
           }
          },
          "ternary": {
           "aaxis": {
            "gridcolor": "white",
            "linecolor": "white",
            "ticks": ""
           },
           "baxis": {
            "gridcolor": "white",
            "linecolor": "white",
            "ticks": ""
           },
           "bgcolor": "#E5ECF6",
           "caxis": {
            "gridcolor": "white",
            "linecolor": "white",
            "ticks": ""
           }
          },
          "title": {
           "x": 0.05
          },
          "xaxis": {
           "automargin": true,
           "gridcolor": "white",
           "linecolor": "white",
           "ticks": "",
           "title": {
            "standoff": 15
           },
           "zerolinecolor": "white",
           "zerolinewidth": 2
          },
          "yaxis": {
           "automargin": true,
           "gridcolor": "white",
           "linecolor": "white",
           "ticks": "",
           "title": {
            "standoff": 15
           },
           "zerolinecolor": "white",
           "zerolinewidth": 2
          }
         }
        },
        "xaxis": {
         "anchor": "y",
         "autorange": true,
         "domain": [
          0.058347934918648314,
          0.9416520650813517
         ],
         "range": [
          -0.5,
          801.5
         ]
        },
        "yaxis": {
         "anchor": "x",
         "autorange": true,
         "domain": [
          0,
          1
         ],
         "range": [
          798.5,
          -0.5
         ]
        }
       }
      },
      "text/html": [
       "<div>                            <div id=\"208363ce-8149-45b2-97e5-c48f5980dbcb\" class=\"plotly-graph-div\" style=\"height:525px; width:100%;\"></div>            <script type=\"text/javascript\">                require([\"plotly\"], function(Plotly) {                    window.PLOTLYENV=window.PLOTLYENV || {};                                    if (document.getElementById(\"208363ce-8149-45b2-97e5-c48f5980dbcb\")) {                    Plotly.newPlot(                        \"208363ce-8149-45b2-97e5-c48f5980dbcb\",                        [{\"name\":\"0\",\"source\":\"data:image\\u002fpng;base64,iVBORw0KGgoAAAANSUhEUgAAAyIAAAMfCAIAAACly\\u002fR6AAB8F0lEQVR4Xuzdd5geVeE24Huz6QmEDqH3XpSqiEgXUFARFBAFsRdQrCiiAioW8BO7\\u002fkAEC1hQUEBFBERRkaL03kNvAUJ6dr8\\u002fYiAcks32nXfmua9cXuE5L6hk551nzpw5Q0RERERERERERERERERERERERERERERERERERERERERERERERERERERE1NlOO+1URhERERHRR\\u002fvvv\\u002f+VV165yy67lAMRERER0Ws77bTTlfOkaUVERET0p9122y1NKyIiImJA7LrrrmlaEREREQMiTSsiIiJioLy4ae2yyy5t5aciIiIioud23XXX448\\u002ffu7vf\\u002fazn73lLW9JzYqIiIjoH\\u002fM3LaRmRUQFDGcMIxjJcEbTziiGM2y+z7TP97fMYfa833cwmxnMYTqzmcksps33mYiIQfGRj3zkwAMPnPv74S8ciogYAKNZmmVZiqVZgsUYP+8\\u002fxzFyXqkawXBG0j7v989dDM5fucyrVnN1MptZzGHmvN\\u002fPLV4zeZYpPDPvP5\\u002fkCZ7gUR5n+nz\\u002fzIiIvtlll12e61gymxUR\\u002fWkYq7E6q7Maq7AqyzN2vgo191c7w2if95uB+yrqpIM5zJn3m9nzfs2tYs\\u002fyCPdyH\\u002fdwN3dzDx3lPykiomu77LLLl7\\u002f85bm\\u002fn7s2K7NZEdFtbfMa0tz\\u002fHMN6bMQGbMD6rDiQhal32uaVuR7p5H5u5iZu5npunXcLcm5Rm0Nn+TdFRJPN37GOPPLICy+88LrrrqvaN2JEVMkwFmdJJrA4y7IO67EOa7Fsz+tL65rDI9zBbdzCbTzK0zzNkzyd2a+IRntxx5r7+9SsiHihUfNu9q3IyqzJ6qzERCa8cHVUk3XwFA\\u002fwAHdzLw\\u002fxIPdyD0+XH4+IGltYx5KaFREwkpfwEjZlNZadt1B9AiOKj8aCzGEKk3mCR7ida\\u002fkv\\u002f2Vm8dGIqJUuOlZENNgwXsanOJ\\u002f7eZJnmUVnfvX51yye5Unu5zyOZJtMBEbU0E477ZR37EQEI5jACryEw\\u002fgNT72oHOTXgP56lgv5DNuwQmYKI2rigAMO6KJj5aZhRK0txqqsxMZsw0tZI\\u002fvlDbVZ3MV\\u002f+Dc38SCTeKz8VES0ip122umiiy4qU6RmRdTQMFbkJWzC2qzPuiydw716OnmKO7mF6+Yt53owDy1G1Ee+dyNqZGl2Z2c2YQWWYXT5kaio6TzKw9zOX\\u002fkTd5UfiYiWk5oV0fomsBdvZVtGzdtXPVpU57xXBl3NrziDR8uPRESrSM2KaEHtLMnSvIp92Y4x5UeiJqZxKb\\u002fm7zzJ43kZdkQrSc2KaB1trMwGrMt2bM8KOYiboZPH+Rd\\u002f4UZu5H46y09FRNXkGzqiFYxia3ZiazZmpSa95SbmN4f7uZ7\\u002f8Hf+yrTyIxFRHalZEdW2Fq\\u002fn9azGMrk5GPPM4HHu4c+cxbXleERERCxIG6PYlQuY\\u002fqJdLvMrv4pf0\\u002fkjOzM6Tz9EVEtmsyIqo51lWJmdOIhNcoBGD93JzziX+3k4i+Ujhl6+xSMqYBibsi3bsyPL5tCMPniCy\\u002fgLl3NlylbEUMp3ecSQWpzteS1bsj7jyvGIXprG7VzBn\\u002fkzj5fjETEIUrMihkg7b+FdbMASeXIwBsYcnuZWfsr3M7MVMdhSsyIGURsjWZqD+BRLlOMRA+gZvskPeYQZdJbjEdHvUrMiBsvybMgeHMBKOfhiiDzMb\\u002fkNNzGpHIyI\\u002fpVv+ogB1sbq7MJO7Mjy5XjEEHiMv3MeF3JPZrYiBkpqVsRAWppD2ZuNc4swqmcy1\\u002fNnfshD5WBE9F1qVsTAWJIP8D6WZmQOtaiqTmbxBD\\u002flqzxajkdEX+S7P6JfjWRlDuCDrFAORlTag3ybXzCJGeVgRPRCalZEPxnD+uzKW9kox1a0rNv5MRdyHVPLwYjokZwKIvpsBC9lH3bjJTmqohZu5Hx+y5XMLAcjoptyQojom5X5JLuxGqPKwYgWNpN7+RPHc385GBHdkZoV0VvjOYIjGc2wcjCiJjqYyXf4ApPLwYjoWmpWRA+1sTI78gk2zDEUzdDJHXyVPzIp+2xFdFdOERE9sTI7cCjbMaIcjKi5WfyNH\\u002fE37i0HI+LFUrMiumcx9mR\\u002fdmVcORjRIFO4hDM5l6fKwYiYX2pWRDdsxOfZgaWyDCuCDp7k7xzDf8rBiCb46Ec\\u002fut566xXhLbfccuKJJ86fDJ\\u002f\\u002fLyLiBdoYzxf4AO3lYERzDWNpXsdrOYnP8WwWbEWzrLfeeptvvnmZvkhqVsSCtLE8O\\u002fEJNs20b8RCtHMEu\\u002fM1\\u002fsAjKVvRLFOmTLn11luf+8tbbrllvkFSsyIWYBSv5iB2Z7FyMCJeoI0N+Sbn8wv+yLTyIxF1deutt7773e8u0\\u002fmkZkW80Oa8l91ZpRyJiIVajDezHefx\\u002fSzYivifrOaNmGcM7+TnvD0dK6JXVuJQzuT9jC0HIxooNSuCEazImfyA9TLJG9EHw1mXb3MWKzKyHI9olJxPotnaWZ29OYqly8GI6KU2dud6vs7PuYc55UciWtrc1e4vXvNeyANU0WBj2JN386q89TliYMzgEk7jdzxbDkbUXmpWNNXSHMPerJSb5xEDqZOH+D2f5eFyMKLeUrOikV7Nd1k1t80jBstsHuAjnFWORNRYalY0yTBW5nDew\\u002fhyMCIG3DP8gG9zHx3lYET9pGZFY4xgVz7MTnlzTsTQmcM\\u002f+BoXMKMcjKiZ1KxohjV4B2\\u002fLhlgR1fAAp3MKt5cjEXWSmhV1N4xXcRTb5XHCiCqZyT\\u002f5In\\u002fJDcSordSsqLURvI9jmJAf9ojq6WQyR\\u002fMDZpeDEVX20Y9+dL311rvllltOPPHEcmw+ec4qaqqdVfkcb0vBiqiqNpbkW+zEx7OLabSS9dZbb\\u002fPNNy\\u002fTF8l+QVFHi\\u002fN6fs3B6VgRldfGPvyGNzKhHIxoaalZUTvL82m+wUvLkYiork35f3yK5cqRiNaVmhX1sio\\u002f4zBWzjxWREtpY0UO4xesUQ5GtKiszYq6aGdnfsXi5UhEtIyx7MC1vJk\\u002fZalWVN266677wx\\u002f+8Lm\\u002ffPGK+NSsaH1tLMshHJmOFVEL4\\u002fk5\\u002f4\\u002fv8wid5XhERYwfP77rhfCpWdH6NuUI3pj350TUyAQ+zlqcwLXlYMSQu+WWW8poQWFWr0SL24vPsHkuGSLqaDZX8UV+X45EtITUrGhZbXyQz7JMORIRtfIYX+IbuXsYrSc1K1pQG0vwMT7EuHIwImpoKt\\u002fiqzyZshWtJDUrWtDGfIQD847CiCaZyRl8lRvLkYjKSs2KVrMrn+GV+eGNaJ4OLuUr\\u002fLEciaimnKmidQzjII5i3XIkIhrkdr7I6XSUIxFVk5oVLWIU7+OoLHiPCB7jC3yfGeVIRKWkZkUrWIoPciRjypGIaKjpfI1v8EQ5ElEdqVlReWvyGd5GezkSEY02mx9zAuWWkBFVkZoV1bYNR7FXGUdE\\u002fM8FfJ5\\u002flnFEFaRmRYVtx1fYJvNYEbFwc7iCT\\u002fC3ciRiyKVmRVVtxRmsVcYREQtwNwfwrzKOGFqpWVE9I9mR01i+HImIWKiHeBuX5vHDqJBhZRAxtMbzNn6RjhURPbQCv+YQFitHIoZKZrOiSibwbj7GcuVIRES3PMqJ\\u002fIDJ5UjE4EvNisoYx4f5KEuWIxERPTCZ\\u002f8fXmVKORAyy1KyohuEcxWdzHzsi+kMHX+IYZpcjEYMpNSsqYDmO5MP5eYyI\\u002ftPJCZzAI+VIxKDJaS2G2qocybuzOVZE9Lc5\\u002fJCvcE85EjE4cocmhtRKfDov0omIgdHOwXyGVcqRiMGR2awYOhM4kYMYVY5ERPSbGfyCD+XZwxgCqVkxRMbxXd5WxhERA+LHfJBnyzhiQA0vg4hBsBJfSMeKiEF0CB18lvvLkYj+ddBBB334wx+e+\\u002fvUrBh0q3A0bynjiIiB9Vbm8MWsiI+Btdpqqz33+yyBj8G1AkdyICPKkYiIgTWCA\\u002fkUE8uRiF7bdttt99hjj\\u002fmT+WtWZrNiEI2et3dDfu4iYkiM41Cm8mmml4MRPbX55pufcMIJI0eO3GKLLb761a\\u002fOnDlzxRVXXGeddZ77QJbAx2AZy1F8Kj90ETHUOjmOr2ZFfPTJJpts8r3vfW\\u002f06NFz\\u002f\\u002fLee++dPn36uuuuO\\u002f9nMqsQg2IJPsiR6VgRUQFtfIZOvpFdHqL3Fltssec6FlZdddX5Bv8na7Ni4C3Ge\\u002fl4ftwiojKGcQTvZ\\u002fFyJKKb\\u002fvGPf\\u002fzkJz8p0xfK3EIMsNEcyudYrhyJiBhij3EMJ2edVvRSe3v7L3\\u002f5y\\u002fnXvBdy0zAGUhu7cXyuFyOikpbhC9zJH+gsByMWacKECUsuuWQRTpo06ZJLLnniiSeWXnrp1KwYSFvxw3SsiKiwCfyY1\\u002fHPciRikXbeeefFF3\\u002fBSe4Pf\\u002fjD0Ucf\\u002fdxf5qZhDJhXcjqrl3FEROXcy1u5tIwjFuhVr3rV2muvvdpqq22zzTZLL730c\\u002fk999zzxje+cb4P5qZhDJCXc0I6VkS0iFU5gQ\\u002fzj3Ik4sVOPPHEMgJnnnlmkeTRrxgAG3EsW5RxRER1bc7nWL+MI7rvvvvuK5LUrOhvy\\u002fFpdqG9HImIqK52duNIli1HIrpp+eWXL5LUrOhXozmcN5dxRERreCtH8PyWkxELcMYZZ\\u002fz73\\u002f9+5JFHivwNb3hDkWQJfPSf4XyIL+QbKiJa2XQ+wzeYU45EFHbdddfjjz9+\\u002fuS888773Oc+99xfpmZF\\u002f3kXX2NCGUdEtJin+AQ\\u002fLOOIwqhRo84666wVVlhh\\u002fvDWW2\\u002f97ne\\u002fe+2112622WapWdFPXsM3WbOMIyJa0t18iN+VccT82tvbzzjjjDXXXOjJL2uzos\\u002faeClHp2NFRI2szpG8JHd9oiuHH354Fx1Lalb0g+X4GFuXcUREa3sZn6R8dCzif7bddtu3vOUtZfpCqVnRN8P4OPvmgi8iaqeNN\\u002fLJbE8TC\\u002fbMM89Mn\\u002f78W8cffvjhKVOmzDdOalb01cd4HyPLOCKiDkbwHj5RxhG47rrrDj\\u002f88JkzZ+I3v\\u002fnNG97wht122+1973vfjBkznvtMpiCiD97MD\\u002fJoYUTU3VO8g7PKOAKveMUrxo0bd8EFFzyXnHLKKZttttnc3+edhtErbWzFUelYEdEAEziau7maznIwGu6yyy4rkrvvvvu5mpWbhtErK\\u002fExNizjiIh62phPsFIZR7zY3Xff\\u002fdzvc9Mwem4Un+XDjC1HIiJqaypf5ws8v\\u002fAmYhEymxU9tzcfSMeKiIYZywd5fRlHdCGzWdFDa3MtY8o4IqIRprIJd5ZxxAJlNit6YkV+no4VEQ02lp8xsYwjFig1K7ptaT7NpmUcEdEsL+VTLFXGES+WmhXdM4K92I9R5UhERLOM4k3szYhyJKKQtVnRPRvxSzbIj0xEBJ3cyJu5oRyJmF9ms6IbRnM8G6ZjRUSANjbiWEaXIxHzS82KRRnOh3ltGUdENN0bOCIvlo6uZHYiFmVvzsguWRERC\\u002fIs+3NuGUfMldms6NJGfCYdKyJiIcZxNBuUccRcqVmxcGN5Hy8p44iIeN5LOYxxZRwhNSsWqp29eVOeWI6I6NII9mOvnFFjAfJDEQuxHh9m2TKOiIjSMhzOemUckZoVC\\u002fEhtiqziIhYsG34cJ4ri1JqVizIQRyUn46IiG4bxkHsX8bRcCne8SIrcl1e1xUR0XNPsBmTyjgaK\\u002fMV8ULjOJElyzgiIhZtSb6Spw7jealZMZ\\u002fh7M8umeWMiOiVNnblzXlGO\\u002f4nNSvmswGHsnQZR0REdy3DO\\u002fLUYfxPalbMM46D2CpTWRERfdDGlhyY92cEOaPG8zbjH\\u002fleiIjoD8\\u002fycq4r42iazGYFWJxvp2NFRPSTcXyTxco4miY1K8AH2a7MIiKi93bgg7lp1HSpWcEr+UCZRUREXx3GtmUWjZKa1XiL8SFWKOOIiOir5TmCxcs4miM1q9naeCOvyg9CRMQAGMb2vCG3DpsrZ9dmW4MDWaaMIyKifyzLgaxextEQqVkNNoLXZeV7RMQAeyV7Z1\\u002f4hso8ZoOtzkWsUcYREdHP7mAn7i3jqL3MZjXYlzKPHRExKNbk2DKLJshsVlNtzyX584+IGCyd7MhfyzjqLbNZjbQ0x6ZjRUQMojaOZakyjnpLzWqkN7NFmUVExMB6KW8qs6i31Kzm2YA3M66MIyJiYI1nf9Yr46ix1KyGaWd3tskdw4iIQdfGy9id9nIk6io1q2HW5yBGlXFERAyGURzEumUcdZWa1STDeC0vKeOIiBg8L+W1Of02RW4dNckq\\u002fJ1VyzgiIgbV3WzH\\u002fWUc9ZM63SRHp2NFRFTA6ny6zKKWMpvVGBtxXf7AIyKqoZNNub6Mo2Yym9UMY\\u002fh8OlZERGW0cRSjyzhqJjWrGXZkuzKLiIih9CpeVWZRM6lZDbAk+7FMGUdExFBalv1YooyjTlKzGmArdmR4GUdExFAazk5sWcZRJ6lZdbcYe7JaGUdExNBbgz1ZrIyjNlKz6m499i2ziIioijfmLYd1lppVd29jpTKLiIiqWJW3llnURh7xr7U1uSrrKyMiqu1JNufuMo4ayGxWrX02HSsiovKWzKbwtZXZrPpah+sYVcYREVE5M9iIO8o4Wl1ms2qqnQ8woowjIqKKRvB+2ss4Wl1qVk1tzC75442IaBHD2I0NyzhaXc7DdTSM17JmGUdERHWtyWuzlqduUrPqaB12YUwZR0REdY1lF9Yu42hpqVm1M4zN8\\u002faGiIgWtBVb5MxcK\\u002fnDrJ0JvIHxZRwREVW3GK9j8TKO1pWaVTvrsmuZRUREa3g165ZZtK7UrNp5Z7YkjYhoWUtyaJlF68ojDfWyJA8xsowjIqJlzGA5ni7jaEWZzaqXT6ZjRUS0uFF8ssyiRaVm1cgKvLnMIiKi9RzAcmUWrSg1q0ZezwplFhERrWciryuzaEWpWXUxltfkRdEREbUwir0ZV8bRclKz6mJ7Ns4jDRERtdDGRryijKPlpGbVwiheycplHBERrWplts89ipaXmlULq7M9w8s4IiJa1Qi2Y7UyjtaSmtX62liPl5ZxRES0ti1YN6tBWltqVusbzV5ZKRkRUTvjeQ2jyzhaSGpW61uC15ZZRETUwd5MKLNoIalZre912S4rIqKmVsyFdGvLLd8W18Z\\u002f2KyMIyKiJq5mSzrLOFpCZrNa3LZsXGYREVEfm7F1mUWrSM1qcQfTXmYREVEf7RxSZtEqUrNa2ZLsUmYREVE3u7FEmUVLSM1qZa9hqTKLiIi6WZo9yixaQmpWyxrJjowv44iIqJvx7MSIMo7qS81qWeuzaRZmRUQ0QDubsm4ZR\\u002fWlZrWsl7B2mUVERD2tnZeqtaTUrNY0js2yIjIiojGWYrO8V631pGa1phXZtswiIqLOXs7EMouKS81qTSuzSZlFRESdbcYqZRYVl5rVgtrZLVPHERENM\\u002fd5wzz51FJSs1rQ8LxJNCKikV7L8DKLKkvNakFrs2GZRURE\\u002fW3CGmUWVZaa1YIOzp9bREQjtfPWMosqayuDqLg27sjVTEREU92RTRNbSWZFWs1LWb3MIiKiKdZk0zKLykrNajV7ZQoyIqLB2tirzKKyUrNaymh2KrOIiGiWnRlVZlFNqVktZQNWK7OIiGiWNfIa6ZaRmtVSts57DCMiGm8CW5dZVFNqVkvZhMXKLCIimmVxXlJmUU2pWa1jddbNn1hEROO1s3beb9gactJuHWuyZplFREQTrclaZRYVlJrVItpYg5XKOCIimmgV1sj+Pi0gNatFLMZmjC7jiIhoojFsyvgyjqpJzWoRS7B5mUVERHO9NM+et4DUrBaxBBuUWURENNdGTCizqJrUrBaxPkuVWURENNcy2aS0BaRmtYgdyyAiIppuhzKIqknNahHbl0FERDRdTg2Vl4dBW8ESPJE\\u002fq4iIeKEOJjCljKM6MpvVCvZKx4qIiBcZxmvKLColNasV7FoGERERsFsZRKWkZrWCV5VBREQEeUCq6lKzKm81JpZZREQErJz3sFVaalblbZ0\\u002fpYiIWIhhbFNmUR05gVfelln\\u002fHhERC9HGlmUW1ZGaVW3D2CR\\u002fShERsRDD2DRX49WVE3i1TczCrIiI6NKKrFBmURGpWdW2dt4MGhERXZrA2mUWFZGaVW1rsHiZRUREPG9x1iizqIjUrGpbjcXKLCIi4nmLsXqZRUWkZlXYOFZmZBlHREQ8byQrM7aMowpSsypsWVYps4iIiBdoY2WWLeOogtSsCls2jxlGREQ3rJiaVVGpWRW2VJ7RjYiIbliepcosqiA1q6raWDqHTUREdMPc80U2Ka2e1KyqGsmqDC\\u002fjiIiI0ghWZUQZx5BLzaqqUdluLiIium0tRpdZDLnUrKoaxZplFhERsWBrMqrMYsilZlXVqOzqGxER3ZaaVUmpWVU1hhXLLCIiYsFWyk3DKkrNqqrVsv97RER02yhWLrMYcqlZVbV+GURERHRlgzKIIZeaVVXrlUFERERXcuKonuzLVFXrlEEMjDZGMpLhtDF83rXHsBdtQdPJbDpAB7PoZBYzmEPnCz8cUR\\u002fDGcUI2hgx3xEy95iZ36z5jpDZ846QmfOOlhhwOXFUT2pWVa1bBtFzY1mCJZjABBZnccYymtGMnXfuGMkoRs6rWe1YVM2aM+\\u002fEMZNpzJ73m+nM4Fmm8RRP8xRPMZnJzHzBPy9iqI1gyfmOkLkHyRjGMWreQTKcEYyZV7NGzneEdFGznjtC5l6IzG1aM5jKdKbzLE+\\u002f6AiZ9oJ\\u002fWPRcalb1ZGf+Smpn2ovO8rFQi7Maq7IyK7MSy7PEvPI099eIeY2qfd6vuY2qvw6BDubM+zWb2cya70p+7olmOk\\u002fwIPczifu4l0k5ucRAG8Mq8x0hK7MCSzF6viPkuYNk+LxjY+6v\\u002flpZ0jnv2HjuIJn\\u002fCJk57wiZzCPcN+8guZd7eKb8h8VCzGBMZg6rJbNZlbRGOtbCtLEOL2EzNmAt1mLsfKNDZdiCJsC68NwXYQdPcie3cz3\\u002f5WoeyTdl9E4by7EFL2Ej1mZNlpyvLQ3VQdI2r8B133PHwFRu5w5u4lr+y205QhZoFKtyTxnHEBqqIy669Gr+WGaN0TbvrsV4xrMC67Iea7MWqzVjA75n5hWv27iVm3mWZ5jCs0wtPx4NM5LFGMdiLMYGrMu680rV+PLjNTSde7iD27mF23h03uEx9z\\u002fn3rtsol34S5nFEOrRpUUMlrXKoO7GM5EVWJ5lWYU1WJ01Wab\\u002f7lq0kMXYjM3mSx7ndu7kbu7iYR7mQR5g9nwfi3oazorzDpLlWJ51WI01WamRR8ho1pvvubpOnuZu7uEubpvvCHmQZ+f7G+tvrdSsaknNqqQ1yqCOxrIh68+79zeR5ViGJfJjuSBLszTbgFk8xqM8woPcx01cw63MKP62aF0jWJONWY91WYnlWJZlenJzuiHamDDfpclsJs87Qh7iPm7nOv7ThIWQjTh9tJKczypp9TKoi5G8nG15GesynnGMnfeUX3TTCCYyEfOedpzKFB7nWi7nMm7Kg42taCQbzjtCNmHJeUfImBwhPTGcZVhm3m6ds5jKszzFLfyLf\\u002fJPZhV\\u002fWz2kZlVMjtxKuorNy6wFtc9b87oae7ArOzKy\\u002fFQMiCf5FxdwNo\\u002fMe\\u002fixuetVqmnYvCNkArvxal6Vd5kOltlcybmcx+3Mmvf8Y8v797xZ76iG1KzqGcakeVMVLWlZlmNpNuFlbMU6jVw9UhGzuY0ruIRb5t1IeTrPaQ2VNhZneZZhdbZjWzbI9cfQ6WQSV\\u002fMP\\u002fs0jPMJj5adaxwOsnOO7QlKzqmcCd7NEGVfbcFZmA9bnpWzC2s144Km1PDFvFdeN3MZN3Fd+JAbMsvOWIs5dQrQBS5UfiSH2zLxVXNdyJzdyV8vdfX+S1bLVWIWkZlXPOlzJ4mVcSW1swLZswwasxEpZntsKpvIQk7iBy7mEe3P9OxDaWJ5t2Z6NWJkVWSzfvJU3e94uqbdxJf\\u002fgylY5Qp5iC+4o4xgqOdir5xX8seIzQW2sy4G8hlXnvb6mvfxUtIDZ8158cj1n81vuLz8SvbIyb+D1bDhvDXuuP1pRB9OZxl2cx8+4veJ9awq78q8yjqGSmlU9r+Pn821sXhUjGcsK7MWBbJYfnjqaxuX8gnPn7fJYz4exBsJwxjKe7TmIHRhXfiRaXic3cxa\\u002fYtK8VzRWy1T25\\u002fdlHEMlZ8rqeSffYnQZD5ExrMrqbM6ObNMqtzOjb6bwNy7gau7m3nI85rMaq7EBu7BLy62rjF6ZyjVczKXcxX3V2ZFrOu\\u002fn1DKOoTK8DGLILVuRx\\u002fKW45VsyxZslnNHw4xnD3bjAa7hSq7iCh4uP9hgS7I5L+dlbMbE3DhvkrG8nJfzPq7lSv7N33mg\\u002fOCgG8YyZRZDKDWrepYc2po1nG3Yj21YjWXzQ9Jg7azCKuzOg9zJpfyOK8sPNsy67MNOrMUqWXTVbEvyKl7BY9zLdfySS4bw+cS2PMJaLblpWD0\\u002f4B1Dcl08nnfwdtZh1JD8L4hq62QOs\\u002fgv\\u002f8dveKr8SK2NY3c+wDaMYHi+QONFOpjBvZzJN5hcjg+8OfyQ95dxDJV8S1TPGbxp0Ca0RrI0m3MIezGqHI9YqAf5FafyIE\\u002fUdbH8cJZgJd7Bvi29bXAMuun8nlO5lscG7YWjHZzBQWUcQyU1q3p+z2vLbAAsy6a8lL3YujpL7qPVTOevnMvVXFenXRHHsgFbsDuvruCzv9EiZnANZ3MVNwzCjimd\\u002fJ7XlXEMlSy7qZjhAz2j1M6a7M4r2YpVB23eLGpqNK9mB+7gCv7BBdxdfqqlLM+uvIotWJ8x5XhED4xia7bkfv7DpfyJm5hTfrCftM3bx3Cg\\u002fguiZzKbVTETOJsdyrifbMW7eQUrZSfqGACdPMU9nMcp3FmOV96avJNXsypL5RIk+lsnz3I\\u002fl\\u002fLDgXuW5GL2ZkoZx5DIibZiVuTXvLyM+6aNl3McO5UjEQNlGmfzUR6q+KbZ5j2b9UUOyp6iMYj+yef4Cx3lSN\\u002f8gzfyUBnHkMjVWsWM6cenw0ezJvvyFy5Ox4rBNYYDmMTZvJ5VK7hEoZ2VeDWn8xDvSceKwfVyzuMy3sK6\\u002ffjjNyJrCSukcl98TTeqXzZSWIyteAWvZcuU6Rg6w9ibnfg353AZ\\u002f63CmpF2XsrL561SXKwcjxgkI3gZ23A9v+MvXNn3B0mGM7LMYqikZlXMyD7+mbSxG29mO9bo4z8rop+MZydewQ1cwi+5itnlpwZFO5uwP7uxUU5GUQ1tbMIGvIl\\u002fcDbn9OVee3t+siskp+GKGdnr2axh7Mwn2JSl8icb1TOKzdmYN3ExX+Lm8iMDbE0+zh6sMNBP9Eb03HDWYU1ew4c4id\\u002f3bu63PT\\u002ffFZLbSRUzqqcFqY2xbMsFnMcuLNfTf0TEIBrJyryVG\\u002fg1mzJqQJ\\u002fFaWMUG3Ayt\\u002fJeVss5KCqsnWXYgV9xKTsztqdHSG4aVknOxxUzovuzWe1MZAvewy79uHI+YlAM443sxFn8kqt5vPxIny3JFuzPG\\u002fPy82g1w9mW87mQH3I193fzmcTcNKyS1KyK6e5Nw2XZk9ezWx4piVa2JO9kb87nPC7iifIjvbIEr2RvXpM35EQrG8me7MiFnMN53dmoITWrSlKzKmb4ImvWSN7EW9iCZXo6lxxRSctxCK\\u002fmMk7lL315\\u002f9tItuNQXsmq5WBESxrDa3kF+\\u002fNrTmda+ZH5tOfcXiFZm1Ux7V0Up2HswiV8j1ezbBcfjWhBE9mHn\\u002fMrNigHu2cNfsZZ7J+OFfXSxlLszNe5lL27uCRvy7m9QvJHUTFtC+xO49iSczmflzN+gR+KaH3DmMBeXM\\u002f32aCbLzUfyfr8gNvZlyW6OANFtLI2xrIlv+IctmB8+ZHUrGrJxGLFlLNZ49mUgzgoeyhGkwzj3ezByZzLf7vYRWhj9uRdrJXrj2iMkbyGHTmDH3MdTz03lppVJalZFTPsuRNFO5twAPuw9gs\\u002fFNEEbazKZ3k9v+ScF++ztQb7sA9b57ssGmks72Bnzuanz71jYVimcyskX00V87+atTgfZj\\u002fW7uZNk4iaGs7mbMAbOJUz5160L8a+HMrmedQ2Gm913serOZcv80Rms6okfxQVM7xN+xu5jqPZOB0rAoxha77FBWy9KefwA16RjhWBeXvwfoTrOKRdezZSrIzUrOoYwdY6fqrjNFbNRGPEC7WNMmJNW39v8vkXTf7ejtYeYVRWYkXMr50V+XaH0ztsnc2zqiHn8opYmTdwuI6s4o0ozV2ltTfvYqMllh7m3byKH\\u002fJb7u1idXxEA43tdMAcL+eb\\u002fI47y\\u002fEYVKlZQ24Eu\\u002fIu9mCUjm6+TCGiKdp5M2\\u002flFc8\\u002fbTuMDTiW3fgpv+jdC3Yjaqmtkw5r8BV243v8iZnlp2KQpGYNrWX5KAey0v9u4HbkyjzieS\\u002fh0+yw4DceLMbubMnr+RL\\u002fLccjmmne5fpIXs0m\\u002fIwTeKz8XAyGrM0aKm1M5Hd8klWe\\u002f4NIzYoA4zicC9ivqzcetLEs+3EBH8yC+AjofP6uyDBW5pP8kVUWehzFAErNGnxtLM\\u002f7uZmXlYOpWdF4Y3kJP+brLFsOLsyynMSv2Zxx5WBEo3Qu4C76FtzEJ1ghZWtw5abhIBvJVryfNzCmHJSaFU23FgfwQZYvRxZpGHuwFd\\u002flDG7JsRQNNd9s1vzG8Xk257v8M6u1Bktq1mBq44O8nfUX+m8+NSuaahSv5d28csGXIN20DJ\\u002fglfyAc5hejkfU3kJqFkbzRjbmFP5fzjaDYiEn++h\\u002fK\\u002fB9dl7giz6fl5oVjTSSEziQJfphKcNoXsVL2IP3M7Ucj6i3hdcstLMhn2cn3sukcjz6WZ+\\u002f0GLRhrMDF\\u002fG6RXQszF7APfWIGhvJntzFB1mq376ShrEkB3Mre2abxmiWOcwus8JivIaL2YPsGD+g+uk7LRZqBT7IT9mgHFmgGYs+PCLqYRhr8mlOZ8VysL+sxM84jrXzdRdNMZsZZbZAa3MKh7NCORL9JjcNB9QWfIzX9WCpyfTUrGiK1\\u002fABdmBUOdK\\u002fluDDbM4P+XXuykf9ze7BosSJHDtvXfxl5WD0g9SsATKM\\u002ffkYL+nZw7OZzYoGWIaPsj+rlyMDZCS7sAFbcwIPl+MRddKTmoWxHMCmfIUzcwrqb5lFHwiL8WlO6nHHktmsqL8tOYuPDF7Hes5KfIiz2a4ciaiTbt80fE4bG3MSRzOhHIw+Sc3qd6vwTT6\\u002f4LeDLFJqVtTXeN7O79h+yBalj+Bl\\u002fIJDnn9BYkTNzOrZbNZzluIovsuq5Uj0XmpWPxrFjpzFIbSXg900nVllFlEDG\\u002fBFvsvEcmTwrcgP+Aqb9uZaKKLienjTcH7tHMgv2WHIroXqJjWrvyzJuziVrcqRHknNitoZzev4LoczuhwcKiN5H99f6PsYIlrXLKaVWY9sw6m8iyXLkeixLIHvF8vySQ5h6XKkp6blpmHUygQ+wHtYuRypgm34BuvzHZ4qByNaVM\\u002fXZr3YahzD2hzPI+Vg9EBqVt+N4kfs0fsbhfObmRdNRX0M4zvs3z\\u002fHxkAYxiocyzbsk62BoyZm9sNdkTaW5jA24PW9vwkZuWnYJyPZmut5bX+eR57u6j0JES1hDNtxC2\\u002fpz2NjgLSzN7ezQ24gRsvrYHKZ9Vo7r+YatspSrd5Kzeq1xXkTZ7J2OdJHT2QDxWhty\\u002fAeftH\\u002fx8aAWp2f8T6WK0ciWkgHT5RZH63LrziAxcuRWLTUrN6ZwAc5fkC2\\u002fnkys1nRwlbg8xw1gO\\u002fPGTgr8hmOY6VyJKJVdPJkmfXdanyRD7FEORKLkLVZvdDGVwaw2T+RmhWtai1+xNYVeqKwp5bkYDbiHdxSDkZU3wDMZs21Eh9ndd6Vc1RPZDarp5bgn7xnoDqW1KxoSW28mivYvoU71lyjeAWX89p8Q0br6eDxMusvi3Eof8ucVk\\u002fkS6T7hvNSfsc25Uj\\u002feiJrs6LFLMkHOK1Wu+xM4FSOqNX\\u002fp2iCjgG5aTi\\u002fbTmPLRhRjsQCpGZ10wh25ju8ohzpd5nNipayMp\\u002fjOJYvR1rdMnyGz7NKORJRWZ0DOJv1nJfxHXZN0+qG1KxueiNf52WD8W\\u002fs8dSsaBnr8T3eW9ubCEvwXr7PRuVIRDUN5E3D5wxja05gn3IkSgNfGurgvXyXDQfp9WcPpGZFa9iOX7Mno8qROhnJ7vyKHcqRiAqawwNlNhDa2IDv8YlyJF4gNatro\\u002fgsJw3q+oynmFpmEZUynL04jY0b8SUyjA04lTfk6eyouik8W2YDZ0mO46iaX2v1SQO+IXtvSY7kiCHY\\u002fPa+MoiojjG8je+wZjlSb6vzLd7O2HIkojruKYOBNpKPcxRLlSNBatbCLcYnh2wztrvKIKIiluZIvtbQZeEr8RU+lRNKVNdQnD4mcBifGsCNjlpYatYCjeObfHBQ7xXObyiOk4hFWpmv88lGt4wl+RjfZNVyJKIK7i6DwbEE7+PbjC9Hmi4168WW5Ne8lXHlyKBJzYrqWY1vckAWYRjNm\\u002fkma5QjEUNu6E4f4ziQXzGhHGm01Kz5tbEiP2BX2svBwXRnGUQMrXX4f7w+2+T8z3D25iTWL0cihtYdZTCY2tmVH7HKID2Z3wJSs+a3Bl\\u002fldUPcsXBbGUQMoc35Nm\\u002fI9+YLtLEXP2TLciRiCA1pzUI7e\\u002fEV1so3BvIvYT4T+QavH4LnCl9sBFMq8T8kYk+OY\\u002fMyjudcw9H8vowjBt8MxjGnjAffLM7hw9xfjjROZrPmWpmfs09Vqs2s\\u002fGzG0GtjX05Mx1qEzTiBN+eqNYbefZXoWBjB6zmD1cqRxknNwkR+xauqtfHgrWUQMZjaeG0WH3XXuvPmwvONGkPqljIYQsN5Jb9k5XKkWRr+pdDG6nybrSp3JXpzGUQMmmG8mu+xYjkSC7MC32GPxn+pxpCq3oljC77NmpU7xQ6e3n8jLLfccvvss0+ZtphVOZbXDv2a9xe7qQwiBsdw9uXHrFSORNcmcjL75XHMGDLVq1nt7Mmxrb\\u002fR3D777LPccsuVaTf08jbZcsstd8opp6ywwgpTpky54IILyuHWsDhfrtB6rMINZRAxCEbwdo6jN18nYQW+xVKcwsxyMGKgXV8GVTCC\\u002fRjG+3iqHGwNu+2226c+9amHHnroHe94xyOPPFIOd6k3s1nLLbfcySefPHHixLa2tt13370cbg2L8QveWNGOhQeZVmYRA2ok7+Tz6Vh9siyf4z3ZxjUG27P0rAAMnpHsxxktu0f87rvv3tbWNnHixJNPPrmnc1o9rllz57FWXHFFXHXVVUceeWT5iRYwhh+xe6Xn9qfzQJlFDJzhvInjmViORE8tzxc4sNe3CyJ6YxIzyqw6hrMHP2J0OdICjjzyyKuuugorrrjiKaec0qOm1bOaNbdjTZw4EVddddVhhx02c2bLTYwvwXHsWcZVM5N7yyxigAxnf76Tt2T0m8X5f+xf6Wu5qJl7K12z5notXxqytwX33syZMw877LC5TWvixIk9alo9qFm16Fjj+BCHMrYcqZqZQ\\u002fYG0Gia4byNb7F4ORJ9MYHvcEh1VyZEzdzTAgsCx\\u002fB2PjyU7wzupV43re7WrFp0LBzO4a3RpKfnlTsxGIZzKF9iiXIk+m5xvsDbc\\u002fcwBsMtTC+zClqCD\\u002fLhMm4BvWta3apZdelYR3AUS5VxNc3kLmaVcUQ\\u002famM\\u002fPps17wNoWT7L\\u002ft38so3opbnrTFrkzLwUn+KwMm4BvWhaiz7ya9Gx2tmPL7bSPGUnj\\u002fFoGUf0lzZ24qus1OCdAwdeGyvyFXbJv+YYQI\\u002fweJlV2Ti+wgFV3LVyEXratBZRs2rRsYazK19gTDlScY\\u002fzYJlF9JftObnx78EYLCvyf+xQxhH95UEeK7OKG8MxvLoFnxPpUdPqqmbVomO1sTmfZZ1ypPoeS82KgfIafsTqZRwDZ1V+xGvKOKJftGDNwtp8li267iKV1P2m1dX\\u002fteOOO25ux5o6deoRRxzRgh0Ly\\u002fNltm7J6fpHub\\u002fMIvpuZ77GmmUcA211vsZuZRzRd\\u002fe35CKTNrbky6xQjrSAmTNnHnHEEVOnTsXEiROPO+648hPoumZ9\\u002fvOfn7up\\u002fNixY7\\u002f85S+3t7fcLdRh\\u002fIJXteDNXzCdB1tmSWO0ii34EuuXcQyO9TmWzcs4oi\\u002fmbmfdmieLdl7Jz7quI5XU3t7+5S9\\u002feezYsXjkkUc+\\u002f\\u002fnPl59A1\\u002f+\\u002fHnzwwede37Ptttt+7WtfGzasq89XzHhOZfuu\\u002fz9W3T08U2YRvbYWn2\\u002fV2d16aGMbvsDa5UhEr01p7e2sh7EDp7XSQ2qGDRv2ta99bdttt8Ujjzzyjne848EHF7zKZxEVZP6mtf322x9\\u002f\\u002fPEt0rQW4yPsW8Yt506eLrOI3lmao1vgBQhNsDufY9kyjuidp7mzzFrOPhzRIpskDxs27Pjjj99+++0tqmNZZM3ywqa18847t0LTGsU+vLsFtnpfpFuYXGYRvbAkX+Gg7hzzMeDaOICvsnQ5EtELT3JLmbWcsbyPN1b+petzO9bOO++sGx1LN79yi6Z1zDHHtLVV9p7D3Dn5z7BiOdKKHmVSmUX01BiO4+BWXaVYS+28lS+01H2SqKRO7mvJxwxfbCKfrvaqhra2tmOOOab7HUs3a5YXNq099tjj6KOPLj9RFeM4mbUr\\u002fMfUEx1cQ0cZR3RfG0dwSF74UjntvI2PdP97OGIBOvkPnWXcitpYmx9W+FbU0Ucfvccee+h2x9Kjw3v+prX33nsfeeSR5SeG3tKc05JbZHXhipocPzEkRnAAH8icSUWN5f0ckA4cvdfJlWXW0tbnN5V8L96RRx65995760nH0qOa5YVNa9999\\u002f3IRz5SfmIoLcEx7FTGre4KZpdZRDdtV5876HW1Ap\\u002filWUc0U2zuKrMWt1ufI4ly3gofeQjH9l33331sGPpac3ywqZ14IEHvu997ys\\u002fMTRGcjAHlXENPMg9ZRbRHWvzZTYo46iajfgq65ZxRHfcycNlVgMHc0hllsO\\u002f733vO\\u002fDAA\\u002fW8Y+lFzfLCpjVnzpxyeGjsxIda5FHQnvtbGUQs0rL8hK3KOKppC05jmTKOWKRLy6AeFudwdi7joTG36vSiY+nLOvEVV1xxp512+ulPf1oODIF1OLPOGysfwM\\u002fLLKILo\\u002fkx+\\u002fXuQiqGRidn8TamlSMRXXgTvyqz2riCA7ijjIfAwQcf\\u002fOc\\u002f\\u002f\\u002fmBBx4oBxal9zWrMsbzfd5SxnWyDPczsowjFmg8H+OjjC9HouKm8HW+xpRyJGKBZrAiT5RxnZzGB3i2jFtGq1\\u002frtvNR9i\\u002fjmnmMG8ssYoFGzNucNx2rBY3nHezDiHIkYoGur3nHwls4opXLSuv+L5\\u002frLXysEXsu1vTue\\u002fS7jTmSiWUcrWIlPs2mZRyxQH8tg\\u002foZzida+QG3lq5Z23FkUy7a\\u002f1IGES82mlNZv4yjtazLqYwp44gXu6gMamkxPsnLy7g1tG7NWpGPNOiEcjuPllnE\\u002fEbzczarxYrLZmtjE85kdDkSMb+H6vDG6G7agI+25jx9i9as0byV3Rt0QnmKa8os4jnjOJI9yjha1258oimz9dE71\\u002fJUmdVVG3vwtha8+GjRmrUzhzVrUv0p\\u002fltmEXON4LUc2oJfQLFwo3kXe2c5fCzUNQ2qWRjL4exYxlXXijVrOY5npTKut2e5iellHIENOZKVyzha3Up8nA3LOALTuImpZVxvK\\u002fIVli\\u002fjSmu5mtXGaWxcxrXXyV1MKuOIMXwhS7LqqY3NOLZZM\\u002ffRTZO4m84yrr2NObWlvu5aq2aN4OPs1FL\\u002fhvvP7dXYCjeqZDgf47UNPSSaoI29+QjDy5FouDu4rcyaoI2d+Wjr3E1voZrVxit4Z3N3Q7+fm5hdxtFkr+XTZRb1czSvK7NostncRI\\u002ff+1ITI3kXr2iRy8sWqlkr8wHWLOPm6OC\\u002fPF3G0Vjb8IUse2+EURzL1mUcjfUU\\u002f6GjjJtjLT7QImu0W6VmjeRN7NmIDd+78C8ml1k000p8jPXKOOpqXT7GimUczTSZf5ZZo7SzB\\u002fu3wu2tVqlZq\\u002fAZxpZx09zCPWUWDTSCN7NXFuw0yHD25sBWOK3EwLuX28usacbxGVYr48ppiZq1JGewRBk30wVlEA20PR9jVBlHvY3iw2xXxtFA55dBM03gtMqXg+rXrBF8mq3KuLHOa\\u002fT9+MCyHNOaL52IPluJY1iujKNROlKznvdyPlHtef3q16w9OLjMmuzGbOvQaG18gW3LOJrjFRzXIo9YxcC4jZvLrMnewavLrEIqXrPW5DCWLuMmm8Ovyiya4+0cknNso7VxMG8r42iOM3NP4wWW4XBWL+OqqHLNGsF+vLLa\\u002fyOHwv\\u002flGGuouS\\u002fVyRLoxhvFp9igjKMJOvhRmTXcMHZg\\u002f6puWFrZBtPGtrw7y3wX4AGuLrOovSX5CGuUcTTTWnycpco4au\\u002ffPFRmMZJD2aaSM\\u002f2VrVkjOazRm5F2YQ6\\u002fL7Oot5Hsy+uqvdIzBtFwXssbM7nZOOcyp8wC63B4JY+Hytasg3lNmcVcc\\u002fhbtoNvljU4nGXKOJps2WqvSIkBMJm\\u002fp2Yt1F4cWGZDr5o1a1W+nJeIdOVerimzqLFj2KjMIjbk82UWNXYN95VZPGc0X6veG3gqWLNG8nWWLOOY30P8i84yjlp6I2+u5JqDGGrDOIA3lXHUUif\\u002fysKsRViar1fs1mHVatYw3syOZRyFZ\\u002fkvT5Rx1M\\u002fafKPMIuZ3ImuXWdTPE1zL1DKOws68sUrlpjr\\u002fS+Zam0MyldUt12Sf0vqbwFF5XXAswop8mgllHDVzO\\u002f8ps3ixpTikSg9lV6pmjeb1vCy3R7rlNq7LWsia24s9K3aURvUM47XsXcZRJ7O5NpfW3dLGK3h9ZdZ3V+oLfDXexdgyjgWayYVMKeOojfV5J8uWccSLLcOhrFfGURtT+DMzyzgWaBzvZrUyHhrVqVltHJ4VBj3zJx4ps6iHUezDdpnajW5p45Xsm\\u002f2ca+sRLiiz6MK6vK8a35\\u002fVqVkv55Ayi649yR\\u002fLLOphcw6jvYwjFqadD\\u002fCSMo56OI+nyiy69k62KrMhUIWqhyW5kM3LOBZpM67K2bhu2jmv2u+cj6r6I3sxu4yjpc3hJVxfxrFIV7Abk8t4UFVkNus9uQjrpevyfsMaeg87l1lEd+zCO8ssWt0V3Fhm0R1b8I4yG2xVqFlr89Zq\\u002fC9pQXlbe+2szGfy7sLopeF8jlXLOFrayXSUWXTHMA5lnTIeVENebkZxaF4R3SdnZSF8fYzhU3l3YfTJMhzJmDKOFvUQ55RZdN+aHDykz4YMec3anL0rs71Fa5qSg7A+dmBPRpRxRPcNZw92rMzS2+ib3\\u002fJsmUX3jWbvIV2WNLQ1azz7Za+XvpqRh1BqYiJvZZUyjuipVTiIFco4Ws5k\\u002fsD0Mo4e2YB9GV\\u002fGg2Roa9aavC2rUPqqgxuyEL7lDWN79spjo9EP2tmL7Yb6Gz767EpupLOMo0eGc\\u002fDQrVgcwoOwjc+wdBlHL9zJxXmIu7UtxieG7noramc8n2CxMo4WMpu\\u002fclcZRy8sy6eH6D76ENasl\\u002fOGMove6eCf3FvG0UIOzsZx0c+25NAyixZyN\\u002f\\u002fIM4b95k1sXWaDYahq1uJ8JbcL+9MVXJ+55Va1LkeWWUTffXKoH2aP3pq7GuTKMo5eG8GXh+KOwVDVrH3ZssyiL57ij8wo42gJRzKxzCL6bnk+NUS3SqJvZvIHni7j6IuXDcVNtCGpWRM5OJs49L8zeLLMovpezR5lFtFf9mCXMovqe4Izyyz6aBRvZ7kyHliDX7OGsTeblHH03WR+XGZRceM5eNAP+2iS5Tg0a+Fbz6nZpqf\\u002ftbEZew1u9RnM\\u002f665VuI1LFnG0S++xRNlFpU1jD141VAch9EYw3glu+WnrJU8wffKLPrFUuzFimU8gAb5wGvnFbyyjKO\\u002fPJh55layHPtlVVYMuBXZj2XLOCrrZ9xfZtFfXsnLB3GHwkGuWeN5G0uUcfSjU5hcZlFNm7N71ifHgGtjjzx11DKe5NQyi360FG9lXBkPlEGuWZuzW5lF\\u002f7qLP5VZVNAwPpolMzFIFudDg\\u002f6FH73yx2xJOuD2HMTLjsE86kZy\\u002fCBO1DXVZH7FlDKOqtmFHcssYuDkJ64VTOGsLH4fcO0cw8gyHhCDWbP2GKItWBumk2v5dxlHpSzBCbldGIOqjROYUMZRKf\\u002fmmmw0PRhewa5lNiAGrWaN46M5rQySu7mYqWUc1XFgNjWJIfAS9i+zqI5nuYh7yjgGQhsfZWwZ979Bq1l7sGmZxQCZxTk5VqtrJQ4ps4jB8Q5WLrOoiHv5HbPKOAbIS3l1mfW\\u002fwalZo3gzi5dxDJzruCQzzxW1PxuUWcTgWJ\\u002f9yiyqoIMLua6MY+BM4ICBX6E1ODVrZ7bMHcPB9j2eKbMYcmuyx1C8vjQCLMYerF7GMeSmZEvSwdbGlgP\\u002fYMgg1KzF2IVVyjgG2nX8osxiaLWzHVuUccRg2pJX5qHvyjmDm8osBtqq7DLA172DULPWZM8c0kPjS3n3TrUsxRuyP28MsSV5PUuVcQyhJ\\u002flSmcUgaOc1rFnG\\u002fWmga1Y7O7N2GcfguJufl1kMofWzP29Uwu5sWGYxhE7n3jKLwbEuOw7kVNBA16wxvGMg\\u002f\\u002ffHonw\\u002fE1pV0cbHB+X54YhFGcuHsl62Kh7n\\u002f8osBk07b2d0Gfebga5Ze+aaaYg9wK\\u002foKOMYfC9ljzKLGCp7sVmZxeDr4Jd5UfQQ22wg7zMMaM0axafKLAbZk\\u002fyW+8o4Blk7X2B4GUcMleEcl1sNQ+9ezmZyGccg+xQjyqx\\u002fDGjNenW2JK2Ef3Exc8o4BtOOvKrMIobWjmxfZjGY5nAJ\\u002fyrjGHxbsHOZ9Y8BrVnvHeB\\u002ffnTPU\\u002fySR8s4BtOhjCmziKE1lneUWQymRziTp8s4Bt8wPlBm\\u002fWPgatC2mcqqkD\\u002fyjzKLQbNt9ueNKmpjK7Yp4xg0\\u002f+SCMouh8hK2KrN+MEA1azivZekyjqHSyQl5mfTQGMmueY1cVNQq7DZgi1KiS8\\u002fylbwSrUKWYa8BWEE7QDVrTV4xkA9IRs\\u002f9M5vCD4012DF3DKOixrBj3r0zNM7g32UWQ2g0r2S1Mu6rAapZW+ZR4So6hkfKLAbUMDbN23Wi0rbipQN2LoiFeJTjyiyG3GZsWWZ9NRCH1lLszIQyjiE3ie+XWQyoxXnTAL8wK6JvxrMPi5VxDKhvZ6+sKlqSHfv7fWgDUbNWZKcyiyqYw5lcV8YxcFZmzzKLqJrXskqZxcC5nl9nk52K2oWVyqxPBqJmDcTNzegnd\\u002fFTni3jGCAfytt1ogWM44NlFgPkWX7KnWUcFbEm25ZZnwxEzXp7Hl2vrumcw3\\u002fyeMtgWIk3lllENe3HxDKLgfBfzmZ6GUdFtHFImfVJv9esl\\u002fGSMotKuY1fZUJrMBzCkmUWUU1L8bYyi343hV9wexlHpWzF5mXWe\\u002f0+7fTrXMC3gJH8Ow+DDqx2bmXNMo6orDtYLyuGBta1bM2MMo6q+RkHlVkv9e9s1rJZ79saZvL5HOoDa1+WK7OIKlue15dZ9KOZHJ0v3tbwhv7bYL1\\u002fa9YB2ZK0ZZzNOWUW\\u002fWUMr82WpNFixrB3vsMH0Dn8rsyimsbwpjLrpX6sWWN4zQDchYwB8wXuLrPoF5vwUtrLOKLK2nkpG5dx9It7ObbMorLa2ItRZdwb\\u002fViztmLdMosqu4mTshJjQLwsq7KiJa3V3w+zB5jDSdxSxlFl6\\u002ffTCzz6q2a1sT3Ll3FU2Wz+wGVlHH20MjvljmG0pLFsz4plHH30N85lVhlHlS3Pq\\u002frjDl1\\u002f1awV2DJnltZzK6fxeBlHX6zFy8osolVsy1plFn3xOKdzWxlHxY1ly\\u002f54kqm\\u002fatZ6bFpmUX2dnMdf6ShHondGsG1\\u002fHJkRQ2QFXs7wMo7e6eCvnJcdoVvSZqxfZj3WLzVrBJuwchlHS3iYb\\u002fB0GUfvjGKf\\u002fphnjhgibeyT5w37zdOcxCNlHC1hVTbq8zVHv9SsxdmREWUcreIfnFpm0Tsb8NIyi2gtW+Z5pn5zcta\\u002ftrAR7MCEMu6ZfqlZy\\u002fDKMosWMocjubWMoxfek30couW1864yi164hU\\u002flae7WtkOf9yntl5q1I8uUWbSWmRzBE2UcPbIkbyiziFa0H0uUWfTI43yM2WUcrWVZXlFmPdMvNWv\\u002fMohWdCmn50uhT17HUmUW0YqW5rVlFt03m9O4uIyjFR1QBj3T95o1kW3KLFrRs5zO1WUc3XdgGUS0rreWQXTfVfyEqWUcrWi7vt037HvN2i\\u002fPpNREJ\\u002f\\u002fldJ4qR6I7XsKGZRbRujbKNj299DQ\\u002f45ps4lATY9inzHqgjzVrGPuVWbSuTk7jknw79MZOfX4gJaJKJrBjmcUidXIxp+VbtFYO6MM2PX2sWavncqdupvCV7PLSY+PYmrFlHNG6xvIyxpVxdO1Rjs9OhHWzBauWWXf1sWbtkTuGNfRPjs1DyD2zAev1+XCKqJJhrJsNtHpmDsdweRlHqxvFq8usu\\u002fpyXmhj++xKWk8\\u002f4ldlFl3YkDXLLKLVrcXGZRZdOJMflVnUwIg+3EHvS81ai7X7cL8yKmw6R3NLGccCLcYWLF7GEa1uAi9lfBnHAt3G55lexlEDw1ibNcq4W\\u002fpSszZjhTKL2ribL\\u002fNkGceLzX3XbkQdvZzlyyxe7Em+zN1lHLUxkc3KrFt6XbPa2Sibv9fZbP7A2cwsR6KwBhuVWUQ9bMLqZRaFmZzNudneuc6WYaNevUut1zVrGTZkZBlHnTzMN7i9jGN+w9gpzxhGbY1jxywOWYTb+EYe0K65UWzUq31Ke12zVmGTMov6uZ7Pl1nMr60PT6BEtIJX9+FM0QzHcV2ZRf1sxMpltmi9PnhWYu0yi\\u002frp4FecRkc5EnMt3dsb9hEtYnOWLLOYq4NT+EU2I22E9VipzBatdzVrNFvmjmGDvJ+\\u002f53tkwd6WGypRc8P6\\u002fPLcmurk7xxexlFXo9icUWW8CL2uWS8rs6ixaXyWW8s4sG8ZRNRPataC3MrnmFbGUWMv6\\u002fme7L2uWZuXWdRYJ5fzXZ4oRxpuFV5aZhH1swUrllnDPcn3+Fem+ZtlK8aU2SL0rmZtlVv1jTOdH3F+XsLzArvm3nk0wkh2KbMmm8O5nJLNSBtnqZ5PMvWuZu2R5ShNNIXPZ2v457WxW5lF1NVu+dp\\u002f3i0cx5QyjtprY88yW4Te1axc1jTVHXySx8q4mZbNrqTRIJtmP+r\\u002feZyPc1sZR0Ps0sMLjl7UrFXzktxGO5fjMlUOW\\u002fZqq7qI1rQ0W5RZA03jWM4v42iOtXu4rUMvatZOvdpuPmrkVE7OTlo2Y0KZRdTVBDYts6bp4GR+VMbRKO3sUGZd6UXN2qEMomme4SQuLuNGGcU6ecdONMg41m36Ix9\\u002f4aQsyQo7lkFXelqzRmTHrIDb+Sq3NPdh5tVZq8wi6m0tViuzhujkFr7GHeVINNDLGV5mC9XTmrUBS5VZNNOfOZFnyrghVmX1Mouot9VYtcwa4mlO4MIyjmZahnXKbKF6WrNe2vMdUKOmOvkp32zihNYwVmWFMo6otxVZtednjdbXyUn8tInfdbFAo3vyPEhPD5hNU7PiedP4Kr8o49obx6ZNX6USDTSKTZq4IvHnnJDHq+N5c4+EbupRzWpnDUaUcTTZMxzBVWVcb4vnHTvRUC9l8TKrtyv4aHNXR8QCjWSdbu+50KOatSYTyyziYT7EjQ2aUZ\\u002fAxmUW0QQbN2gbk05u5KM8Uo5ELN\\u002ft50F6VLNWY9kyi+jk33yJB8qRulo7L\\u002fWMhlqGNcqsrh7gi3k5dCzYsgNTs1ZNzYoFm8VvOYHZ5UgtbVcGEc2xbRnU0my+ztnMKkciDEzNGs7KLFbGEXNN5Qd8p4xraZsyiGiOZmydeBLfY2oZR8y1OCt2r0J15zNzTWCNHr4wMRpmGh\\u002fmN8wpR+qknc3LLKI5turJiaMFdXAOH2NaORLxnGGsyRJlvADdP1qWyHaM0S0f4uI6N62XML7MIppj8To\\u002fATKbizmsjCNebPXuPQ\\u002fS\\u002fZq1eLdvREazPcBnuaq275betQwimmaXMqiHDq7iM0wqRyJebNUBqFkrllnEi3VwBUdxdzlSDzuUQUTT9OjNua3jHo7myjxaGN2ycvc2ketmzRrGOowq44gFms1FfKCGDx62sXWZRTTNy2u4TncOh3NRDb+1YoCMYY1utKhFfmCu9jrfjI+B0MEfOaRuuyc38lUjEYXxbFBmLe1p3sq5dV5UGgNhk27sBd\\u002fNmjWM9cssYpHO4BgeK+PWtUm3j5mI+hpWqwvvx\\u002fl8E9\\u002fNGn23fjfOCIv8wFztrFNmEYvUwcl8j8nlSIvasNvHTER9DWPDMmtRT\\u002fEDTq3tIzsxoLrzZsNunjJGsHKZRXTHU5zEL5hZjrSiDbp9zETU1zA2KrNWNJOf8\\u002fX6XAfGIFut\\u002f2rWhowss4huepzD+H0Zt5wJTKzh0t+InmpjxTrsH\\u002fcHjuDxMo7oplGsV2albtasLcogokdmcQDntPYLwtbo3i4pEQ0wobU3rJ7JubyZGeVIRI9sXgalbtasl5RBRE\\u002fN4u38iunlSKtYrXu7pEQ0QCvXrBmcxdvSsaIfvLQMSt2sWTV6qCSG0JMcxdmtuk5r1dSsiP9ZjFXLrCXM4hw+k\\u002fVY0T82KYNSN2vWIm8+RnTPPRzFJa33XM\\u002fc1SjjyjiimcazUplVXwcX8Snuylbv0T8WudlVd2rWEt17C3VEN3RyJ2\\u002fjxhb7mlucid07YCIaoJ0VWKyMq6yTWziUO1vsyyeqbOlFXX5356yxyK4W0UMPsyeXtdJ7LZZguTKLaLLlWLLMKms2l7EbD5QjEX3UdUnqTs1atwwi+u4+DuG8lnn2cAmWLbOIJlu2ZR69ncl5vINJ5UhE33W9e3t3albX\\u002f4SI3rqTT7bMLg8TUrMiXqBFatYszuVIbitHIvrF2mXwAt2pWWuUQUS\\u002f6ORWPsJfWmCpRGpWxAu1Qs3q5BI+wi0t8CUTLWqtMniB7tSs1nxqN1pCJ\\u002fexH5cypxysjjYmMLaMI5psMZao9GsR5nAZ+3JPOlYMoFXK4AUWWbOGs3SZRfSvKbyG31R359JRi7peiWikNar7HrZp\\u002fJY9eLociehfy3f5ZsNF1qxlGV1mEf3uWT7E6UwpR6pgRAvveB0xcFavaM2awukcVtHvk6iZ0SxVZs9bZM1aoaJHUdTPg3yWH\\u002fJsOTLkRubeecQCrMaIMhtyUzmZz\\u002fFQORIxEEaxQpk9b5E1a\\u002fnUrBg8D3MU3yzjITeCFcssIiZWsWZ9l0\\u002fxcBlHDJARLF9mz1tkzVq2ikdR1Nh0Ps1HeaocGULDuzyKIppqeYaX2RB6ik\\u002fz8equ8oxaGtnlc+iLPEKWTs2KIfANnuFTrF6JJ5nGtMCT6xGDb8mqLN7t5C6+xg\\u002fLkYiBNqLLRwUXOZu1ZDeqWER\\u002f6+CnHMXNlXgSe+VuHCoRzdNeidvpndzMpzmt9d5JHzUwvMvXTi3y3JGaFUNkGr\\u002fh\\u002fdxcjgy+bNEbsRAVODhu4zDOZlo5EjEIhvftScPFU7NiyMzgr2zP9eXIIKvAmSSimlYvg0F2E6\\u002fiImaUIxGDY3iXq0q6rlljs\\u002fF1DLFOHuMV\\u002fGooN3pYrQwiYq7Vy2DQTOW3bMtDlVhaEI3VxhhGlfH\\u002fdF2zFmNcmUUMvqc5jO\\u002fweDkyOFKzIhZiiA6OJ\\u002fg\\u002fPsjkciRi8I1jsTL7n65r1ljGlFnEkHiYr3EsT5Qjg2DlMoiIuYbi4JjMF\\u002fkiD5QjEUNi7MInpbpedzW2Kg\\u002frRuAxfsit\\u002fIRlysEBlU2zIhZi0A+OR3gbl2bBe1TI6IVPSnU9mzUmNSuqZTp\\u002fZGv+M3hPbrcv\\u002fDIlovEmLOo80n86uJbt+FM6VlRLr2vW6IUv6ooYOnexH2cM0nthK7AvUESVLVcGA+FZfsObua0ciRhyoxY+KdV1zcpsVlTVHXySE3myHOl3K5RBRMxvYhn0u6f4Bh+pxC56ES+W2ayoo\\u002fv5GocO+NXtwJ9DIlraAF+J3MU7+Qr3lSMRFdHrmjUqNSsq7VnOYV\\u002f+Wo70o0Ff4hvRWgayZv2bffkNz5QjEdUxcuFtqeuaNSLvjY6q6+RaDuHMgVoVm5oV0aWBOUSmcSZv5urBe94lone6aEtdb+gwcuF\\u002fY0SV3M17uJ539v+u1IOyvjeidQ1Azbqf\\u002f+Obg7H4MqLvhi+8LXVds0Ys6gMRlfE0X+JqPsxO\\u002ffmTu3QZRMT8+nUXu9n8le9wdl6hEy1jBCPL7H+6Phd1MQ0WUT2d\\u002fIHbeT+Hsng53jtdvBM0Ihb+lpGem8KP+U6eKIwW00Vb6qJmtdFOWxlHVNxtHMmtHN8\\u002fFan\\u002fziERtdRPh8gUjuHbTC9HIiqufeF1qosl8MMWvnA+otpm8D324npmlIM9Nb4MImJ+fa5ZM7mB3TkhHSta1fCFzEt1XbMWVs4iWsHf2IUfcF+fFnn0+RwSUW99OEQ6eYCT2Y3LysGIFjJ8IY2qiyLV1uVoRCt4mKP4O0ewzUIOgkXJCw0jutTbCd8OruSbnMtT5WBEa+nFbFZqVtTCFH7LW\\u002fleb3bfGZ7DIGIRRnR5KlmITn7CQfwyHSvqoH0hh8ECw7ly0zDqYjZ3cBiv5+FysGtjF3KBEhHzDFv4i0YW4jH2m\\u002femrFnlYEQr6t1sVnuZRbSuTn7PLpzTgxd3jFvIkRMR87T14L7hM5zLLpzVm9nliMpaWM3qYr4qNSvq6Hrey4G8jU0XcljMZ8yiPxLRcG3dnc26nlP5OQ+VIxGtbvhCJq66qFlyfol6eohv8DcO5qBF7K21sAuUiJinGwt5n+EMTuXfmcSKZun62OjDQ\\u002fARVdbBFdzCXziGjRdapjKjG9ENCz9QOrmNz\\u002fFHJpeDEbXRuZDOtMAprucs8G+JqIun+S27cSYzy8G58iaEiG5YSM2axVnszJnpWFFzCytMXdSshf0tEfXyEAfyVi7n2XJwIWePiHjOghbyTuVK3submFQORtTPwjpTbhpGgF9yJYfwJtZ5\\u002fgKkiwuRiJhnvprVwd38kh9x2\\u002fNxRL0t7KZh1zUrKxWjSe7kK5zPO3nb\\u002f963npuGEYsy32zWbH7Nd7imB9umRNTAAjuWLmtWB3PKLKLenuVf3MBP+QabvfheSES8WDvcyIe5nKeL0Yj6m7OQptXFLZGOha4Kjqi3Z7iEnTle+4OZ1Y3oUgcPD3MSO\\u002fPndKxoqJkLOVd0PZuVmhUN9jhHaTvfnA902G6YlXL7MOJFHtZx6exh3+twyUKu5SOaITUrouc6zf679quG2YN92Z0ly49ENNRk\\u002fszZhp0z\\u002fMWP6EY0zaxe1azZZRbRMLPonMZvuYyzOZxtM60VzdbJVXyLP\\u002fMQnZ25Jo\\u002foWMh8bhdrsyykmUU0yP\\u002fOHp08zK\\u002fZjXfz+As\\u002fFNEcT\\u002fFJduBnPPjciWXWCz4T0TAdCy9MXdes2ZnQioabNf8FSgdTOZkN+S735eQSjTGbSXyHdfkaz87\\u002fJHpms6LpZi\\u002f8bNDFTUPMZNaiPhNRZy+oWc95hMM5nYPYifUXdcES0bo6uYOL+DmXLfDSu3Php5iIRpi18EuNrivUTGYypowjGmOhZ485XM7VbM3e7MsaWbMV9dLJvZzFeVzGjHJ8ntSsaLqZCz8+uq5ZMxbezyIaYeYCZ7OeM4vL+C+\\u002f5ADezWLlRyJa0rP8hB9zY3f2c8+ZIhqti5rV9a2OubNZEc21iJo117NcxcfYjN9352+IqLBOzmFj3sfl3elYWZsVTddFW+q6ZmU2K5puRo9a0128ni34EXfkRkq0lNncw8\\u002fZln24uxxfuE6ml1lEk3Qxm9X1TcPpqVnRcNMW\\u002fpjugnXwH97L5uzLrmz4v7dQR1TUbG7mAn7HvxZ+ulio2b34eyLqZMbCj4FF1qxco0SjdTK1zLphFpdzFb9kew5gs0UdbRGDbw438XMu5soFPkXYHVPKIKJhpjOtzP6n6y\\u002f+Zxf+N0Y0xVNl0G2zuYJr+AV78mE2KD8SMWRu5Bv8iUf6eEHd+0Mkoh6mLfyCvOu1WVMX\\u002fjdGNMXkMuihmUzih2zInvyVqT29ExnRTzqYxj\\u002fZh434P+7tY8eSmhUxzUJf7JnZrIhFmFwGffAHLuTlHMpWrJFt6WKwzOBeruAnXLzwhSS9MbkMIhqmLzUrs1nRdP18qT6LS\\u002fkbL2VPdmILFi8\\u002fFdFvnuZKLuUvXNajR2e7qZ8PkYiW82xva9a0zGZFTC6D\\u002ftDJ1VzHL9iI3dmHZctPRfTJk5zH2VzL3QO3w8iTZRDRMNMXPkHcdc3q4Bnm0F6ORDTG5DLoP7O4jdv5M19gH97BxotaMxnRtQ5u4cecwWSeHei1gJPLIKJJZvP0wqeJu65ZeIJZqVnRZI+VQX\\u002frnDfj\\u002fE2+y\\u002fYcwctYjJF5T2J0z9yd2J\\u002fhP3yHPwzmpoePl0FEk8ziiTJ73iJr1mPMYnQZRzTGA2UwkGZzERexGa\\u002fnZazN6t04UqOx5nA\\u002ft3AZv+Xacnzg3V8GEU0yq8ur8UV+eT8+cPfzI1rCoNas51zDNSzDZmzBdmzJCpncivk8zn+4mGu4mgfL8cGSmhWNNrvLGd1F1qy5s1kRzTWpDAbRY\\u002fyFi\\u002fk5q\\u002fNKXsc25aeicW7gt1zE3dzLnHJ8cA3lIRIx5Gb2bTYrNSua7kE6h3YWqYNJTOJffIMNOZTXsVL5wai5+zmbH3EzM5mz8GW3g6eDR8ssoklmdXkMLPLcsQqXsGYZRzTJkyxRZkNtDK\\u002fg9ezE0kxgVPmRaHmzeJrH+Du\\u002f4dIKvj\\u002fwUZYrs4gmuZPtFn7TfpGzWQ\\u002f3\\u002fUUMEa3uoQrWrGlcyIWMZQe2ZzPWZpX0rdY3d8f2O7iJf3JBlXcAfbgMIhpmapezWYusWTN5hA3LOKJJHmL9MquMqZzPH5nIeqzFxmzFJowvPxuVNo1buJIruI1b5t2xrrSHyiCiYR5mdpk9b5E1C\\u002feUQUTDtMCZpIP7uZ+LWYylWJrt2JOX5WU+1TaV\\u002f\\u002fIH\\u002fszjPM7k6rer57TAwRExoLouSd2pWXeXQUTD3FcGFdbJ0zzN3VzFSSzBLryePViyGwsyYxB08gR\\u002f4Gz+0tL7qN9bBhENc1cZvEB3albX\\u002f4SI+ru9DFrKZH7Nr8Fa7MqrWJelWZJxecvDwJvDszzJE9zNP\\u002fkLV5efak2tfXBE9N3dZfAC3alZd5RBRMPU50xyB3fwfZZhEzZmTVZmZVZiYve+EqI75vD4vDu5d3ML13N9lxvstKTbyiCiYbouSd25f7BUlxucRtTfOtxU10mfdpZiBZZnFdZjAzZm9bzBuuc6eIBbuJlrmcTDPMyjzCg\\u002fWwuzWY87yziiSZbiyTJ7XncuXZ\\u002fkSZYs44jGmMqTLFPGtTCHR3mU6xjGaMYyjsXZmC3YhC1Zqvz74n+e4Xpu4Gr+xZNMYypTh3xz9kHweF37Y0Q3PbaopZXdqVmd3MS2ZRzRGLN5sK41a34d8\\u002frB3Btb13HGvKHVeRlbswUbMJp2htE+7zc11skc5tDBbKZzI1dxOZcv6imjmnswrwmJhrtxUY8Fd6dm4frUrGiyWTzIJmXcJHdzN2eCNpZjXVZjNdZmZSYwnrGMZQxjWvMm62ymzfs1lWeYwhPczr3cyU3ct6iv1QZ5oMsNgyLq7\\u002foyKHW\\u002fZkU01yweKLMG65y35Ohv85KR81Z3LcNSLMWSTJj3+6VYnPEsxjhGD\\u002fXsVwfTmTLv11PzngF8gqd4gifn7V\\u002f1EA8zs\\u002fwHxDyZzYqmW2Q96mbN+m8ZRDTJLCaVWcxnJve+aAelkYxjPOMYw+h5v0YxgaXn7SixGGNYbN402Lh5vxlLG6O6Nys2hxl0MnXeRNQUps+bkZrGM\\u002fOVp8nMYAbTmc40np1XudIZeub+\\u002fCuLhrumDErdrFnXMbvbH46om5l5mKoXZjJzIU\\u002fgzL+oaxhtC\\u002frPuY9BP\\u002febYYyc9xt0gJnzftM570be3N90LOg\\u002fO+ZbYhX9487M9UWTzeKGMit1sznN5B7WKuOIZujgMaYythyJXplbejIP0tqm8HhKazTZnd34GuvmEok53FJmEU3yFI+UWUSTPbKoJ9kjau6Wbmzb0s2a1cHNZRbRJJN5tMwimiw1K5ru5v6rWXO6cf8xos6e5OEyi2iy1Kxouhu6cde8mzWrI0sdo+Ge5KEyi2iyB3mizCIaYwb39F\\u002fNwtPcX2YRjTGFh7sxPxzRDHN4lKllHNEYk3i6zBag+zVrMneVWUSTPJyzSsT\\u002fPJvp3Wi4u7p31zw1K6K7JvFMmUU00zPZsjca7s6FbAtY6H7Neoo7u3EXMqK27uapMotopqdy4R1N1sHd\\u002fX3TcA4PdO+fGVFPd6RmRfzP5LwZIZpsMpO6N\\u002fPU\\u002fZqF+3iszCIaY+5jIHPf6RLRYJ3cz5QyjmiMx7t917xHNeuebNAYDdedXVIi6q6D68osokke5Z4yW7Ae1az7eDAX89Fk16dmRejg+jKLaIxOHhyY2awZ3NqN9yRG1NY1qVkROrimzCIaYyY3d3vH9h7VLFzD9DKLaIzbsiAlwtNZ\\u002fx5NNoNry2yhelqz\\u002fpOaFU3WyVVlFtE0V5RBRJNM5+oyW6ie1qw7sgo+Gu7SMohomr+WQUSTPNyTXeN6WrNm5zomGu6CMohomj+VQUST\\u002fLsn77ftac3CX8ogokmuzit3otGezmOG0XA9qkG9qFkX9KTGRdTNHK4ss4jmuDyngGiyOfy5zLrSi5r1CDeWWUST\\u002fKMMIpojP\\u002f7RaNf18H04vahZuLAMIprkb9mlNxqqk7+XWUST9GgqS29r1h\\u002fKIKJJ7u7h1UxEXTzMvWUW0SQ9LUC9q1nX8WSZRTTGFG4us4gmuCkb9EaTPcZNZbYIvatZ07i8zCIa45m8ODca6vo8aBtN9i+mldki9Lpm5fZ8NNezXJO3e0bjzOQani3jiMb4+2DVrFn8l6fLOKIZ5nA3D5ZxRL09wD15eXo01lNc2\\u002fML7N7VrE4mcXsZRzTGPT152UJELdzFPWUW0Ri3cX\\u002fPHzPvXc3C\\u002fdk9K5rszlxnROPcwd1lFtEYNzKpzBat1zXrMW5gRhlHNMMsbskqlWiQuc\\u002fX9vSGSURNzOAGnijjRet1zcINPFJmEY3xXyaXWURdTea\\u002fZRbRGA9zQ5l1S19q1tU8UGYRjXF1r65sIlrTk6lZ0WQPcHWZdUtfataD3JCnTqKxnsgmpdEgN+ayIhprDtfxUBl3S19qVgcXM7OMI5qhM2\\u002f3jAa5oOePWEXUxCwu6u0B0JeahYuzCDia7I+5zohGmMkFZRbRGFO4uMy6q481636uKLOIxriX\\u002f5RZRP1c1asn2SNq4t88XGbd1ceahZ+XQUSTnFEGEfXzszKIaJKflEEPtJVBj43iMcaXcUQzLM3DtJdxRG3MZjmeLOOIZpjC0n1YH9L32awZnF9mEY0xmavKLKJO\\u002fp032EaT\\u002fb4PHUt\\u002f1Cz8ijllFtEMHfypzCLq5I\\u002fZuCcaaw6\\u002fKrOe6ZeadSX3lllEM3RyKdPKOKIenuXvvX2SPaLl3d3bXUmf0y81azKXlllEY9zT25cwRFTeDdxXZhGNcSlPlVnP9EvNeoq\\u002fMLuMI5rhIf5RZhH1cFlv976OaHlzdyWtQs3q5DZuKeOIZniGq7JIOGroKf7DlDKOaIabuLXPt8z7pWbhFq7OMslorOu5vcwiWt3tXFdmEc3QwX+5tYx7rL9q1pNczjNlHNEMt3BzrjOiVjq4uT\\u002fOMhEt6Rn+xeQy7rH+qln4ax82o49obc\\u002fyz7zgM2rlWS5jahlHNMNDXFJmvdGPNev6PG4VTdb3lZIRVTKZv5RZRGPcxE1l1hv9WLPwyz6vFYtoVTdyY5lFtK4bcscwGquz\\u002f17Y3L816w88WGYRjfGLMohoXWeWQURjTOKCMuul\\u002fq1ZT\\u002fXtPdYRre2cvF83auIJfl9mEY3x4\\u002f5bBNK\\u002fNQtfY0aZRTTD45xVZhGt6Jc8UWYRzTCd\\u002f1dmvdfvNetx\\u002flhmEY3xnbxHPVreHL5XZhGNcW6\\u002f3pfo95qFnzOzzCKa4XauKLOI1vIv7iyziGaYyRll1icDUbOuyhNX0VjT+XUeuI0W1slZTC\\u002fjiGa4nv+WWZ8MRM16kPNyoolmms2\\u002fuL+MI1rFJP7F7DKOaIAOzuvvHRMGomZN5Z9MKuOIZriLy8ssolX8i7vLLKIZ7uMfTCvjPhmImoUruToTWtFMD\\u002fD33HSJljSNy\\u002fr7Yj6iNXRyNVeWcV8NUM16mEuYUsYRzfBP7iiziOq7g3+UWUQzTOESHivjvhqgmoXf5ZIoGuta\\u002fpOdHaLFzOFqrivjiGZ4gHPKrB8MXM26iwvLLKIZpnFOf9\\u002fgjxhg0zg7t7ujsS7g3jLrB21l0J\\u002fW5tYB\\u002fq+IqKh2bmKdMo6orNvZIM8YRjN1subAPP0xcLNZuJ3flllEM8zhB2UWUWXfTceKxvrFwHQsAz\\u002fVtA0XMr6MIxpgGW5imTKOqKBH2YhHyziiAZ7lVVxVxv1jQGez8F8uKrOIZniMX5ZZRDWdmY4VjXUh15dZvxnomjWTU5hRxhHN8H2mlllE1Uzl\\u002f8osohlm8KOBfBPzQNesTm7gX2Uc0Qz3cX6ZRVTNuQPziFVEC\\u002fgH1w\\u002fkduoDXbNwD7\\u002fPs+3RTE\\u002fzy2zUG5U2hV\\u002fxTBlHNMA0zh\\u002fgi4xBqFmz+Qs3lXFEA3TwX\\u002f5dxhHV8W\\u002f+S0cZRzTATVw4wE\\u002fYDkLNwg1cPJC3PiOq624uzgqtqKip\\u002fIV7yjiiAWbyF24s4342ODVrFj\\u002fmqTKOaIBZ\\u002fHGAJ6Ujeuse\\u002fsisMo5ogMmcNvAzQINTs3B9lgJHY13J5bkrE5XTwb+5uowjmuFcbiiz\\u002fjdoNQtfyyrLaKxT8xhIVM607OMQjfU0J5TZgBjMmnUDPyuziGb4G38rs4ih9Vf+WWYRzXD6YD2aN9Av2ylswIWsWMYRDbA5\\u002f2JEGUcMiVlsw3\\u002fKOKIBHmRHbinjATGYs1m4KxNa0Vj\\u002fyfrEqJDf8d8yi2iG0wfx8dpBrlnT+S13lXFEA3RyQnZ2iEp4lv83kBtfR1TXXfyO6WU8UAa5ZuEmzsvzw9FMN2dCKyrhvMG6YRJRLbM4b1AeMHzO4NesyfyOSWUc0QBP8lseL+OIwfQYZ\\u002fNkGUc0wCTOGdxtPAe\\u002fZuHv\\u002fJU5ZRxRd3P4G5eXccRguoK\\u002f5xs4GmgOF3NZGQ+sIalZ0zhxEG+MRlTIfVzA02UcMTie4nzuK+OIBpjOSYO+heGQ1Cxcz6llFtEMZ3FrmUUMjlv5TZlFNMPJXFtmA26oaha+MIgPVEZUyCROKbOIwXEKD5RZRAPczVfKbDAMYc16mBPznrdopjOyZ1EMgas5s8wiGqCDE3iwjAfDENYsnMMVZRbRAE\\u002fx0WxbFIOqg48M7iNWEVVxOb8rs0EytDVrEt\\u002fJWvhopkv4Y5lFDJzz817NaKbp\\u002fID7y3iQDG3N6uDvXJRbh9FAHfy\\u002fzC3EIHmSk\\u002fJNGw3UwV\\u002f469D99A9tzcJdnMETZRzRAP\\u002fl3Nw6jAHXyblcU8YRDfA4Z3J3GQ+eIa9ZOJe\\u002fl1lEAzzOb4doVWY0yQN5+0A01j85t8wGVRVq1mS+PHTzeRFDpoM\\u002fDelsdjRAB5fy5\\u002fyURQN18hUml\\u002fGgqkLNwuWcmpsn0UBT+DGPlHFEf3mEU5hSxhF118nJ\\u002fKOMB1tFahY+wm1lFtEAF\\u002fD7MovoL7\\u002fnL2UW0QC38ckyGwLVqVlPczzPlnFEA3yVSWUW0XcP8OUyi2iAZzmeJ8t4CFSnZuF8ziuziAa4nS\\u002fkrnn0s06+yJ1lHNEAf+QPZTY0KlWzHuXnQ7eFWMRQOpN\\u002flllEX\\u002fyDn5VZRANM4vTKrHmtVM3q5M+cy+xyJKLunuGELFSOfjOFr\\u002fNMGUfU3Sx+z4WVuT9QqZqFqZyctfDRQB38i98zpxyJ6Kk5\\u002fJ5\\u002fZhOHaKA7OIWpZTxkqlazcCXfrkwNjRg8D\\u002fFT7ivjiJ66j5\\u002fyUBlH1F0n3+HqMh5KFaxZOI0\\u002fl1lE3XVyCecxqxyJ6L7Z\\u002fIGLc7EaDfRHflyxH\\u002f22MqiK5biFJco4ou5W4gomlnFENz3AVjxQxhF19zTr8nAZD7Fqzmbhcb7EjDKOqLv7+VwmtKKXZvHZdKxooOkcy2NlPPQqW7Pm8MvMe0cznVKZHV+i1fyBU8ssou46uZhfV\\u002fIRosrWLEzi5GyOHQ3UwRe4t4wjunYfx+Xpwmige\\u002fm\\u002fqtaFKtesOZzPb5lZjkTU3bV8v5JXZlFVc\\u002fgu15VxRN3N4nf8oapfmFWuWZjGF7mrjCPqbga\\u002f5e+5ax7d0sml\\u002fCbrWaOB7uA4ppdxVVS8ZuERPsHTZRxRdzfzw8q8LyKq7VFO4dYyjqi7Z\\u002fgoj5ZxhVS\\u002fZuF3fLuq04ERA+hczstam1iEDn7H78s4ou7m8G3OL+Nqqey+WYWJ\\u002fISdyzii7tbiQlYv44jn3M3O3FnGEXV3AYfwYBlXS0vMZuEhvlLVxwgiBtAdHJYVWrFQnXwoHSsa6D6+1gqvlGqVmtXJX\\u002flhhVe5RQyUczkttw5jATr4Eb8r44i6m8bJ\\u002fK0VLkFbpWZhJj\\u002fhkpxuooGO4\\u002foyi7ie48ssou46uJjTWuTB2haqWbibL1XvhUURA24S36r20zQx6B7hJO4r44i6e4TjuaeMK6q1ahb+zudbYZowoj\\u002fN5Cx+m3cdxv\\u002fM4pzs3hwN1MnR\\u002fKOMq6tVnjScXzuncHAZR9TdupzD+mUcDXQLb+CmMo6oux\\u002fx7pba4anlZrMwh09xeea0omlu5Ut5DCTM4Jh0rGiaTq7g6JbqWFqzZuFhjm2dO7MR\\u002fean\\u002fKDVvmWiX3Xwf5xZxhF1dw\\u002fHtMIODoUWrVkdXMqpPFOORNRaJ8dwaRlHc1yU9anRQE9zMn9twb0GWrRmYQrf4eIyjqi7Jzk2D5g11L18gcfLOKLu\\u002fsr3mFLGLaB1axYe5308VcYRdXcZJ+UZs8aZwTe4rIwj6u4J3s0TZdwaWrpm4QH24rEyjqi1Wfyc3zK7HIm6ms05\\u002fCJ\\u002f5tE0j7JPCy7Jek6r1yz8jS9kTiua5kFO5MYyjrq6ia\\u002fyQBlH1NpkjuWvZdxKalCzcBqn5xZKNM0VfJqpZRz1M43PcFUZR9TaTH7KT8u4xdSjZk3mJC7N0zfRNH\\u002fkc2UWNdPJZzi\\u002fjCNqrZO\\u002f8c3Wv1fVVgYtbGdOZZUyjqi1MfyEfep1MMc8nfyKQ5hWjkTU2r0czCVl3HrqMZs111\\u002f4LE+XcUStTePzXJ253Brq5CqOS8eKpnmaY2vRsdSrZuE0vpTFKtE0t\\u002fA1JpVxtLpJfI2byzii1qbxJU4p41ZVs5rVybf4bl5GEo0yi\\u002fP4v7zusFam8QPOyw4O0Shz+AHfKuMWVrOahal8m3PLOKLWpnBCfu5r5Ty+zrNlHFFrv+f\\u002f1eueVF1XzW7Ld9isvv8HIxZgOP9gy\\u002fzct7ZO\\u002fsPLs0lNNMrcn\\u002fsP8K9ypLXVbzZrrn9wLPeWcUStzebt3FDG0Vpu5JB0rGia+ziudh1LfWsWzuYzPFPGEbV2C1\\u002fMi6Vb2D18gZvKOKLWnuFozinjOqhxzerkTD6WZcHRKLM5l5NzhdGSnuZkfp9l79EoM\\u002fgkZ9R0V5oa1yzM5iecQEc5ElFfU\\u002fgq5+TnvsV0cB4nZtl7NEonX+c0ZpUjNVHvmoVpfJ8z6\\u002fsnGLEA0zmcf9X06rCOOrmcw7ITaTTKTH7Gt+v1aGGh9jUL93M8f861fTTKk7yVy8s4qunfHMjjZRxRXx38meN5oByplSbULFzPp7mijCNq7U4+znVlHFVzDZ\\u002fg7jKOqLUrOYoby7huGrW9zlqcx3plHFFfI3gDX2PVciQqYhIf46wse49GuY09ub2Ma6ghs1lz3cHr6z49GfECs\\u002fgV32ZKORJVMIVv8It0rGiU+9mrGR1Lw2oWbuMD3JWVwdEcnXyTH+cxkMqZzan1entbxCJ0chfvb0zH0ryaNYc\\u002f8HnuL0ci6msGR3Fa5kwqZDY\\u002f5ujs9h6Ncj\\u002fH8ifmlCO11ai1Wc8Zw\\u002f58hzHlSER9LcVXeDvt5UgMsg5O42M8UY5E1Nd0PsjPG7ZtSTNrFkayH6cyohyJqK\\u002fVOZE3NPjIr4ZzOIK7yjiivmbzDn7BjHKk5pp20\\u002fA5czdFOyKv4olGuZvPclkWJw6ZTv7BZ9OxolGmcTinN69jaXDNmut0vpAtAaNRbuCzXF\\u002fGMTiu51NcW8YR9fU4x\\u002fKTMm6KhtesZ\\u002fgeX2dyORJRXxfzMe4s4xhod\\u002fAJLi3jiPp6ipP4vwbvKZMVGliCD3Bc\\u002fm1Eo+zAD1mnjGOA3MG7uLiMI+qrg8\\u002fwfZ4sRxokxWKuURzGV\\u002fMvJJqjjZ05JRvED4ZJHMqFWRQXzdHBx\\u002flOI9djza\\u002fhNw2fM4P\\u002fx2cbPK8ZjdPJX\\u002fgo9+XkP4A6571OJx0rGmQKR3FS4zsWhpdBc83hW8zhwyxXDkbUUSe\\u002fYXGOY8VyMPrFwxzLr9Oxojke5SS+16Q9SLuQe2SFJXgHR7FkORJRU8N4C19nmXIk+ugJPspPs\\u002f1+NMdTfJGTm70ea36pWS82nn35HqPLkYiaaucNfJ+ly5HotSd4P2elY0VzTOcwfsEz5UhzpWYt0DD25ud5G080x3D251ssUY5ELzw573STjhVNMZUDOJeOcqTRsgR+gTo4l0O5Jz8w0RCzOZNP8EA5Ej31IJ\\u002fml+lY0RCd3MvbOS+nzBdJzVqY2ZzFR7gpa1ejIWbzYz7Pg+VIdN9DfJaTmVWORNRRJzfxMc7OmvcFyU3Drg1nB77BRuVIRE218zpOYuVyJBbpPo7I6SYa5SY+zEWZvF2I1KxFamMdzmDzciSiptrYmR+yRjkSXbiXd2Z\\u002frGiUK3kLt+de4cKlZnXTCpzJ9vk3Fs3xan6YPeK7axLv5o\\u002fpWNEQnVzMATxSjsQLZG1WNz3E2\\u002fkZ08qRiJq6gCO4qYzjxW7i8HSsaI6pnMm707G6IXMzPbIqH+Z92VIrmmM3jmWbMo7nXMOn+EMZR9TUdL7LN7ivHIkFSM3qqSV5C19gQjkSUVObcjx75PtiAS7gKK4s44iaepqj+Uk2ee+2fG32wghew3fyFrhojnU4njdkncHzOvgNn+a2ciSipu7nA\\u002fyBmeVILFRqVq+9im+xUc470RArciJvZEQ50kCzOJuPMKkciaijuZtjHcbFWYHYQ6kIvfZX3sGF2SAnGuIBPsxPmF6ONM00fsaH0rGiIebwF97LRelYPZfZrD5ai49wMOPKkYg6msDhfJDlypGGeIxvchJPlyMRdTSV0\\u002fkad5Yj0S2pWX03gXdwJMuWIxF1NJL9+XwTNy+9h2P4OTPKkYg6epiv8OMseO+D1Kx+MYLd+TprlyMRdTScnTmJ9cqRGruNI\\u002fhT3ikSDXEPH+OcvJ6zb1Kz+tHWfJfNGF6ORNTRFpzMpvVf49nBDbyLy8uRiDqaw7V8gH+WI9Fjdf96HFT\\u002fZm9+xuRyJKKOruINnF3zdyNM5RzekI4VDfEUZ\\u002fL6dKx+ktmsfrcY7+X9rF6ORNTRcnycQ1mqHKmBxzmFE3i0HImoo7v4Pt\\u002fPIx7d89GPfnS99da75ZZbTjzxxHJsntze6nfP8B2u41i2TJGN2nuEL3IbR7NyOdjSHuJLnM5T5UhE7XTyH47mEqaWg7Fg66233uabb16mL5SbhgNhKn9iTy4sRyLqaDInc2Ct3iP7GG\\u002fhO+lY0RB\\u002f5tX8IR2rv6VmDZBOHmM3juLh7OgWtdfB39icC1t+qdZ0LmELLqKjHIyolw4e5nh257GcqwZAatZAO4EP8Pe8Ayqa4H4O4PstPK31OCfzZu4tRyJqZyb\\u002f4H18PgVrwGRt1kCbyW+5hffwnrwOLmrvMb7AbRzJquVgxU3iq5zBY+VIRO3M5id8kxvyzriBlNmsQdDB9RzNgTxUDkbUzhOcypu4vhypspvZn5PTsaIJHmB\\u002fPsm16VgDLDVr0Ezm12zNn7PgI2pvOpezGWe0wJd4B2exEZe1\\u002fLqyiEXp4DK24yweLwej\\u002f6VmDbL7OJivMakciaidDt7DJ7irotcWHdzDpzi0ov8DI\\u002frVfXyFfbmrHImBkrVZg+9BjubfvINdGFmOR9TIM3ybm\\u002fkQu1ZuH7m\\u002fcSIX5FXQUXuz+Bvf4ty8lXNwVexLr1lW40A+wErlSETtrMM7+CDjypEhMY3vcQo3liMRtfMg3+UX3FaORM\\u002fstNNO+++\\u002f\\u002f3N\\u002fue66644fP37KlCm33nrrc+GZZ5550UUXPfeXqVlDazTb8yU2z59F1N449ubLQ\\u002f8E4r18gvOYUo5E1EsHV\\u002fIZ\\u002fsb0cjB6bNiwYSeddNLLX\\u002f7ycmCef\\u002f7zn4cffnhn5\\u002fP7Y+TUXgXj+SKHMi5\\u002fIlF7m\\u002fB1th+a++Uz+Rcf44pyJKJeOpnKaXwqLyjsV2PHjv3xj3+85pprlgPceeedhxxyyNSpL9hIPyf16tiVT7A1i5cjEfWyFB\\u002fjTaw5eN9BndzLL\\u002fIe6GiCKVzJN\\u002fltORL9YPnllz\\u002fjjDMWX\\u002fwFJ+snn3zyoIMOevjhh+cPDd5XXHTLShzC2wf17BMxRHbjMHZmTDnS76ZzMT\\u002fgnHIkol46uYOf8GPuy97uffbDH\\u002f5w8803v\\u002frqq9\\u002f97nfPn2+22WY\\u002f+MEPhg\\u002f\\u002f33OEs2fPfs973nPNNdfM\\u002f5m5f282dKiU+\\u002fkGB3FangWJ2ruQD3L8gE8uPcmJfIDflyMR9dLBrzmIE7k3HWsgXXPNNccee+xzf3nssccWHes5qVlV8yz\\u002f4gO8kTvKwYgambtp1Vd4C\\u002feUg\\u002f3lbvbjuOpu3RXRT27n9bydy3m2HIz+d\\u002f75559++uk4\\u002ffTTzz\\u002f\\u002f\\u002fHJ4nuybVU1T+R1XcxRvZNlyPKIuZvJn1uGrvJUl++fir4PJnMmHmVUORtRIJ4\\u002fxO44bwMuVWLBvf\\u002fvbkydP\\u002fulPf1oOzKc\\u002fvtBioEziMN7L+UwuByNqZBaf5O1c0A8X4tO4mHfykXSsqLen+BPv4r3pWEOho6Pj9NNP7+joaqY8s1kVN5vfcCn7cCAvH5qn4CMG3kx+zw3sxwdZuRzvprkbMf6KW8qRiBqZxb\\u002f5Gb+hfLYtqiSPs7WK4azGvnyE5crBiBoZzQZ8gjcyohzswmz+wDHcmDdAR709zrf5GXflaakB9o1vfGO77bYr9nnvprl7xKdmtZZhrMJ32bMciaiXsbyFY5hYjizQg3yWM\\u002frhlmNEhXXyez7I\\u002fXmmY1AcfPDBhx12WJn2RGpWK2pjNz7OliyeP8SosfU4ml1ZdsE\\u002f6J08wUUcz3\\u002fKwYi66ORp\\u002fssJnJedGgbRmDFj9tlnny222GL8+PHl2KJMmTLlqquuWtAXV7SGZXkjb2Q7RpeDEXUxjDdwCK9kwgtGnuYf\\u002fJyf5cI+amwGl3NmlmG1ptSsVrcWu\\u002fJ2tqC9HIyohTZW4nW8i00YpoObOYVfZ6frqLHZXMlp\\u002fJWbysFoDalZNdDOauzNEaxaDkbUxShW4kMeO9DPl\\u002fEtJjG9\\u002fFBEXdzDiZzLvcwpB6NlpGbVyRJ8hvczKjuiRe10ztvK9EMruvNEXs+ofIVF7XQwnR\\u002fzWR4vB6P15DuqftbjCHZk9WyyFbXQycNczne5hJkYyQ68ny1YKV9kUQuzuJc\\u002f83VuKwejVeXbqZZG8FL2YU82ysxWtKxOJnER5\\u002fMHnimGx7Izb2TnlK1oZR1cz5\\u002f4Pf9mRjkeLSzfSzU2mk3YgbembEULeoJf8lv+3fXLppZka\\u002fbizSxTDkZUWge3cxoXcF0KVh2lZtXeSCayL0ewUjkYUUVTOY2TeIAp3XmQsI1xrMSHeRtjy\\u002fGIKprE1\\u002fktD6Zg1VdqVnOM4F18mJUZnT\\u002f6qJ7ZPMEf+FxfXoM7kaN4I0v37F09EYOhkxk8yP\\u002fx9bSrBsi5tmmW4AD2YdO8GzEq42lu42\\u002f8lKu7M321SBtyCDuxDouXgxFD42Gu53xO57FyMOopNauZVuJV7MAOrJVlWzF0nuIy\\u002fsQF3FwO9tkG7MJOvJKly8GIQdLBfVzEBVzKA+V41FlqVpNNYH125W2snR+GGFxPcRZncQP3M7sc7yftrMAmvJl9MrMVg6uTWzmdS7iZJ8rxqL+cWWME49iHD7FpORjR\\u002fx7gR3yPJ5neL7cIF6mN0SzF+3k7E8vxiP73X07ibJ5lVjkYTZGaFc8Zzsv4AK9kGUaV4xG9N5unuZ9T+cnQrktZgv14P6uyOMPL8Yjem8FjXMH3uDjtKlKz4kWGsTn78HLWZ7ms3Iq+eZabuZo\\u002f8ruBuznYU8N5HbuzOesxrhyP6IEOHuEm\\u002fslv+us5jqiF1KxYmNXYkpexA5unbEXPPcIl\\u002fJkrubmar3kezQZsznbslFevR891chMXcilXcG85Hk2XmhVdG89ENuRgds4C4uiG2VzLmVzK3TzSEhf2S7MGO3IAm+ROYnTDU1zI6dzGAzxVjkeQmhXd08YwlucAPsAa5XgEPMu5fIvLmdMS7arQRjvr80EOyFVFLMQkfsDp3E9HK\\u002f6gxyBKzYqeamNH3sy2rMCStJcfiaboZAqPcSu\\u002f5Vd1emJ9afbjDazDsozL12WDzeFJHuQyzuSv5XjEQuV7I3qnbd4ep1uz0f9v7\\u002f5+q6zvOIC\\u002fWqDUooUW+VFtD5OK4C\\u002fWzC2y6BRcspAsJiS7XLIbudEL41\\u002fgP+CV8UJNxIuZ3WliIsm2i7E4jD\\u002fq2ZwYpwhOKdADVRBBa21pu4uTp2ufaqeDSk\\u002f7fuXJyZPn+z29+vR8P8\\u002f3JzezMfO3lpKv+Yi3eYOD\\u002fHPhzG2\\u002fvJbTxz3cwa1syYGJS8kEZzjMW7zO3ziZvqv4npJmxSVq4ga2cQe7uDPN0KJ2kSO8wqsc5V3OLZF2p51tbOMX3M2Nmb+1qA3zGi9ziA84zES5SsR3kjQrLpdWOlnDPezhLq4uV4kGdoL9vMgRzvL5EsmuSppYTSeb2M1v6C1XiQY2zD\\u002fYz34+4+zCXB8bDSVpVsyTLvbwW37CcpZlSLHRjDNOjf38nv5yeYA7+R2\\u002fZiPLac6vakOZYIIx\\u002fs4feJFT5SoRlyQ\\u002fCDHf1rOL+9jORq7NZOIF7CJnGWKQN\\u002fkT1bzPfxcruI1fcS8V1tORUcWFapIv+ZRTHOYV\\u002fszxcq2IyyOtXfxg1vFjbmcLvWyhklWKC8MwH3GY93iPt3hvaY4JXrpmbqaPbWxmK72sKdeKK2CC0xzhA97lHd6+sqc+xeLS1dVVq9XKT5NmxZXQxkaup4cd\\u002fIzbc9jJD26SE1R5g8Oc5ASnM9P3cmliLd10cys7+Cnd5Vox777gHd6knxqDnORCuVbEpXrppZceeOCBoaGh0vOkWXEFNdFGG63cyi\\u002fZxW05tXo+XeBN\\u002fsofqTHMMGPpu5o\\u002fTawoAr2TXeziHtaWK8ZlM8ZRXuEvvMZXRaAnymP+VKvVWq02O9NKmhULzVru4l5+zg200sIKVpQrxlwmGWOMUT7j7aLROZS2ZiFooo\\u002f7uJvtrKalCPQsFflexhlllBGO8jov8ypnyhUj5le1WsXsTCtpVixkV7ON27mNrayjgw7WZHrxLJMMc45znOETjvAuh3if0XL1WDCWsamI8lvoKXZGWUNbfqNnGSui\\u002fCxnGSgmWh1aTEcQRAOqp1lmZVr5F45G0UoP3VxHN11U6KKLDbSWqy9+E5znFKcY4Pi0mSfH+WSxbsu+uC1nHT1cz3VcRw89bGQj7Uuyr2uE00VwD1DjZDGX8ETWwcYCUKlU+vr6Hn300akng4ODe\\u002ffurWdaSbOiETVxFR20cw3tbGArN7KJHjbQUv5SY5vkS04yUKwK\\u002fIgzXOAC5\\u002ficsfKXosGtYDVruIZrWMtmbmIzFa5fjN1do8V7wwBH+YBTXOA85znHVxn2jgWgubl59+7dO3fu7Ovr6+zsLBdPy7QW2X9oLFnNLJu2D2oLPdxSLKjfVLRKjdIXMMJxBviwOOrjfT5lnAnGuch4mpulpmlmlC9jHdvYyk30UqG7cbp2J4r3ho\\u002f5N+\\u002fzL04wWgR6Pconyt+LuJLqCdbevXsrlUq5bKb66GHSrFg6mujiR\\u002fSwng1s4Fo20Fk0XtOvZpponnZj5i7fU0lbqSGoJ0CTTBSf9dyo\\u002fjnVgozwKUMMFTfHOc6xJXuUTVy6JlYXLxbdrOda1hc3rcVW9VMhXv+cCvGpiJ9udqDXw7r+ZCrE6\\u002ff1EJ+6LnKW03zCEKc5zQk+ppYoj0bT0dHx1FNP9fb2lgu+xeDgYNKsiLqVrC5GIevXSq6ihVZWspJltE7Lt1qK7VVHGC\\u002f+ziRfMcoYw4zzJaNc4ItpV8b44gqoj0JePe2qB3oby4pwb+GqaS8T9aDHOKPTsqt60I8Uq\\u002fy+ZoQRvihGsj\\u002fnPF8Xfyei0bW3tz\\u002fzzDObN28uF8wpaVZERETEXNra2vbt27dly5ZywZyee+65Ut9wRERERMzwyCOP\\u002fB851uOPP540KyIiIuJbVSqVPXv2lJ\\u002fOqZ5jyR6PEREREXN4+OGHm5v\\u002f2y117NixgwcPVqvVgYGBWq02NjZm2vak2Ldv35NPPlm\\u002fT5oVERER8c22b9++c+fO+v2BAweef\\u002f75\\u002fv7+GTVmevbZZ6dyrIiIiIj4Vk888US1Wn3hhRfm3sehWq1Wq9UHH3ywXBARERERs7W2tvb39z\\u002f99NOrVq0ql81UrVYfeuih8tOIiIiI+EY7dux47LHHli\\u002f\\u002f3zOs0o8VERER8T3cf\\u002f\\u002f9LS2L7ITciIiIiAVg+gLDiIiIiIiIiIiIiIiIiIiIiIiIiIiIiIiIiIiIiIiIiIiIiIiIiMXrP6XzsqcNaJIqAAAAAElFTkSuQmCC\",\"type\":\"image\",\"xaxis\":\"x\",\"yaxis\":\"y\",\"hovertemplate\":\"x: %{x}\\u003cbr\\u003ey: %{y}\\u003cbr\\u003ecolor: [%{z[0]}, %{z[1]}, %{z[2]}]\\u003cextra\\u003e\\u003c\\u002fextra\\u003e\"}],                        {\"template\":{\"data\":{\"histogram2dcontour\":[{\"type\":\"histogram2dcontour\",\"colorbar\":{\"outlinewidth\":0,\"ticks\":\"\"},\"colorscale\":[[0.0,\"#0d0887\"],[0.1111111111111111,\"#46039f\"],[0.2222222222222222,\"#7201a8\"],[0.3333333333333333,\"#9c179e\"],[0.4444444444444444,\"#bd3786\"],[0.5555555555555556,\"#d8576b\"],[0.6666666666666666,\"#ed7953\"],[0.7777777777777778,\"#fb9f3a\"],[0.8888888888888888,\"#fdca26\"],[1.0,\"#f0f921\"]]}],\"choropleth\":[{\"type\":\"choropleth\",\"colorbar\":{\"outlinewidth\":0,\"ticks\":\"\"}}],\"histogram2d\":[{\"type\":\"histogram2d\",\"colorbar\":{\"outlinewidth\":0,\"ticks\":\"\"},\"colorscale\":[[0.0,\"#0d0887\"],[0.1111111111111111,\"#46039f\"],[0.2222222222222222,\"#7201a8\"],[0.3333333333333333,\"#9c179e\"],[0.4444444444444444,\"#bd3786\"],[0.5555555555555556,\"#d8576b\"],[0.6666666666666666,\"#ed7953\"],[0.7777777777777778,\"#fb9f3a\"],[0.8888888888888888,\"#fdca26\"],[1.0,\"#f0f921\"]]}],\"heatmap\":[{\"type\":\"heatmap\",\"colorbar\":{\"outlinewidth\":0,\"ticks\":\"\"},\"colorscale\":[[0.0,\"#0d0887\"],[0.1111111111111111,\"#46039f\"],[0.2222222222222222,\"#7201a8\"],[0.3333333333333333,\"#9c179e\"],[0.4444444444444444,\"#bd3786\"],[0.5555555555555556,\"#d8576b\"],[0.6666666666666666,\"#ed7953\"],[0.7777777777777778,\"#fb9f3a\"],[0.8888888888888888,\"#fdca26\"],[1.0,\"#f0f921\"]]}],\"heatmapgl\":[{\"type\":\"heatmapgl\",\"colorbar\":{\"outlinewidth\":0,\"ticks\":\"\"},\"colorscale\":[[0.0,\"#0d0887\"],[0.1111111111111111,\"#46039f\"],[0.2222222222222222,\"#7201a8\"],[0.3333333333333333,\"#9c179e\"],[0.4444444444444444,\"#bd3786\"],[0.5555555555555556,\"#d8576b\"],[0.6666666666666666,\"#ed7953\"],[0.7777777777777778,\"#fb9f3a\"],[0.8888888888888888,\"#fdca26\"],[1.0,\"#f0f921\"]]}],\"contourcarpet\":[{\"type\":\"contourcarpet\",\"colorbar\":{\"outlinewidth\":0,\"ticks\":\"\"}}],\"contour\":[{\"type\":\"contour\",\"colorbar\":{\"outlinewidth\":0,\"ticks\":\"\"},\"colorscale\":[[0.0,\"#0d0887\"],[0.1111111111111111,\"#46039f\"],[0.2222222222222222,\"#7201a8\"],[0.3333333333333333,\"#9c179e\"],[0.4444444444444444,\"#bd3786\"],[0.5555555555555556,\"#d8576b\"],[0.6666666666666666,\"#ed7953\"],[0.7777777777777778,\"#fb9f3a\"],[0.8888888888888888,\"#fdca26\"],[1.0,\"#f0f921\"]]}],\"surface\":[{\"type\":\"surface\",\"colorbar\":{\"outlinewidth\":0,\"ticks\":\"\"},\"colorscale\":[[0.0,\"#0d0887\"],[0.1111111111111111,\"#46039f\"],[0.2222222222222222,\"#7201a8\"],[0.3333333333333333,\"#9c179e\"],[0.4444444444444444,\"#bd3786\"],[0.5555555555555556,\"#d8576b\"],[0.6666666666666666,\"#ed7953\"],[0.7777777777777778,\"#fb9f3a\"],[0.8888888888888888,\"#fdca26\"],[1.0,\"#f0f921\"]]}],\"mesh3d\":[{\"type\":\"mesh3d\",\"colorbar\":{\"outlinewidth\":0,\"ticks\":\"\"}}],\"scatter\":[{\"fillpattern\":{\"fillmode\":\"overlay\",\"size\":10,\"solidity\":0.2},\"type\":\"scatter\"}],\"parcoords\":[{\"type\":\"parcoords\",\"line\":{\"colorbar\":{\"outlinewidth\":0,\"ticks\":\"\"}}}],\"scatterpolargl\":[{\"type\":\"scatterpolargl\",\"marker\":{\"colorbar\":{\"outlinewidth\":0,\"ticks\":\"\"}}}],\"bar\":[{\"error_x\":{\"color\":\"#2a3f5f\"},\"error_y\":{\"color\":\"#2a3f5f\"},\"marker\":{\"line\":{\"color\":\"#E5ECF6\",\"width\":0.5},\"pattern\":{\"fillmode\":\"overlay\",\"size\":10,\"solidity\":0.2}},\"type\":\"bar\"}],\"scattergeo\":[{\"type\":\"scattergeo\",\"marker\":{\"colorbar\":{\"outlinewidth\":0,\"ticks\":\"\"}}}],\"scatterpolar\":[{\"type\":\"scatterpolar\",\"marker\":{\"colorbar\":{\"outlinewidth\":0,\"ticks\":\"\"}}}],\"histogram\":[{\"marker\":{\"pattern\":{\"fillmode\":\"overlay\",\"size\":10,\"solidity\":0.2}},\"type\":\"histogram\"}],\"scattergl\":[{\"type\":\"scattergl\",\"marker\":{\"colorbar\":{\"outlinewidth\":0,\"ticks\":\"\"}}}],\"scatter3d\":[{\"type\":\"scatter3d\",\"line\":{\"colorbar\":{\"outlinewidth\":0,\"ticks\":\"\"}},\"marker\":{\"colorbar\":{\"outlinewidth\":0,\"ticks\":\"\"}}}],\"scattermapbox\":[{\"type\":\"scattermapbox\",\"marker\":{\"colorbar\":{\"outlinewidth\":0,\"ticks\":\"\"}}}],\"scatterternary\":[{\"type\":\"scatterternary\",\"marker\":{\"colorbar\":{\"outlinewidth\":0,\"ticks\":\"\"}}}],\"scattercarpet\":[{\"type\":\"scattercarpet\",\"marker\":{\"colorbar\":{\"outlinewidth\":0,\"ticks\":\"\"}}}],\"carpet\":[{\"aaxis\":{\"endlinecolor\":\"#2a3f5f\",\"gridcolor\":\"white\",\"linecolor\":\"white\",\"minorgridcolor\":\"white\",\"startlinecolor\":\"#2a3f5f\"},\"baxis\":{\"endlinecolor\":\"#2a3f5f\",\"gridcolor\":\"white\",\"linecolor\":\"white\",\"minorgridcolor\":\"white\",\"startlinecolor\":\"#2a3f5f\"},\"type\":\"carpet\"}],\"table\":[{\"cells\":{\"fill\":{\"color\":\"#EBF0F8\"},\"line\":{\"color\":\"white\"}},\"header\":{\"fill\":{\"color\":\"#C8D4E3\"},\"line\":{\"color\":\"white\"}},\"type\":\"table\"}],\"barpolar\":[{\"marker\":{\"line\":{\"color\":\"#E5ECF6\",\"width\":0.5},\"pattern\":{\"fillmode\":\"overlay\",\"size\":10,\"solidity\":0.2}},\"type\":\"barpolar\"}],\"pie\":[{\"automargin\":true,\"type\":\"pie\"}]},\"layout\":{\"autotypenumbers\":\"strict\",\"colorway\":[\"#636efa\",\"#EF553B\",\"#00cc96\",\"#ab63fa\",\"#FFA15A\",\"#19d3f3\",\"#FF6692\",\"#B6E880\",\"#FF97FF\",\"#FECB52\"],\"font\":{\"color\":\"#2a3f5f\"},\"hovermode\":\"closest\",\"hoverlabel\":{\"align\":\"left\"},\"paper_bgcolor\":\"white\",\"plot_bgcolor\":\"#E5ECF6\",\"polar\":{\"bgcolor\":\"#E5ECF6\",\"angularaxis\":{\"gridcolor\":\"white\",\"linecolor\":\"white\",\"ticks\":\"\"},\"radialaxis\":{\"gridcolor\":\"white\",\"linecolor\":\"white\",\"ticks\":\"\"}},\"ternary\":{\"bgcolor\":\"#E5ECF6\",\"aaxis\":{\"gridcolor\":\"white\",\"linecolor\":\"white\",\"ticks\":\"\"},\"baxis\":{\"gridcolor\":\"white\",\"linecolor\":\"white\",\"ticks\":\"\"},\"caxis\":{\"gridcolor\":\"white\",\"linecolor\":\"white\",\"ticks\":\"\"}},\"coloraxis\":{\"colorbar\":{\"outlinewidth\":0,\"ticks\":\"\"}},\"colorscale\":{\"sequential\":[[0.0,\"#0d0887\"],[0.1111111111111111,\"#46039f\"],[0.2222222222222222,\"#7201a8\"],[0.3333333333333333,\"#9c179e\"],[0.4444444444444444,\"#bd3786\"],[0.5555555555555556,\"#d8576b\"],[0.6666666666666666,\"#ed7953\"],[0.7777777777777778,\"#fb9f3a\"],[0.8888888888888888,\"#fdca26\"],[1.0,\"#f0f921\"]],\"sequentialminus\":[[0.0,\"#0d0887\"],[0.1111111111111111,\"#46039f\"],[0.2222222222222222,\"#7201a8\"],[0.3333333333333333,\"#9c179e\"],[0.4444444444444444,\"#bd3786\"],[0.5555555555555556,\"#d8576b\"],[0.6666666666666666,\"#ed7953\"],[0.7777777777777778,\"#fb9f3a\"],[0.8888888888888888,\"#fdca26\"],[1.0,\"#f0f921\"]],\"diverging\":[[0,\"#8e0152\"],[0.1,\"#c51b7d\"],[0.2,\"#de77ae\"],[0.3,\"#f1b6da\"],[0.4,\"#fde0ef\"],[0.5,\"#f7f7f7\"],[0.6,\"#e6f5d0\"],[0.7,\"#b8e186\"],[0.8,\"#7fbc41\"],[0.9,\"#4d9221\"],[1,\"#276419\"]]},\"xaxis\":{\"gridcolor\":\"white\",\"linecolor\":\"white\",\"ticks\":\"\",\"title\":{\"standoff\":15},\"zerolinecolor\":\"white\",\"automargin\":true,\"zerolinewidth\":2},\"yaxis\":{\"gridcolor\":\"white\",\"linecolor\":\"white\",\"ticks\":\"\",\"title\":{\"standoff\":15},\"zerolinecolor\":\"white\",\"automargin\":true,\"zerolinewidth\":2},\"scene\":{\"xaxis\":{\"backgroundcolor\":\"#E5ECF6\",\"gridcolor\":\"white\",\"linecolor\":\"white\",\"showbackground\":true,\"ticks\":\"\",\"zerolinecolor\":\"white\",\"gridwidth\":2},\"yaxis\":{\"backgroundcolor\":\"#E5ECF6\",\"gridcolor\":\"white\",\"linecolor\":\"white\",\"showbackground\":true,\"ticks\":\"\",\"zerolinecolor\":\"white\",\"gridwidth\":2},\"zaxis\":{\"backgroundcolor\":\"#E5ECF6\",\"gridcolor\":\"white\",\"linecolor\":\"white\",\"showbackground\":true,\"ticks\":\"\",\"zerolinecolor\":\"white\",\"gridwidth\":2}},\"shapedefaults\":{\"line\":{\"color\":\"#2a3f5f\"}},\"annotationdefaults\":{\"arrowcolor\":\"#2a3f5f\",\"arrowhead\":0,\"arrowwidth\":1},\"geo\":{\"bgcolor\":\"white\",\"landcolor\":\"#E5ECF6\",\"subunitcolor\":\"white\",\"showland\":true,\"showlakes\":true,\"lakecolor\":\"white\"},\"title\":{\"x\":0.05},\"mapbox\":{\"style\":\"light\"}}},\"xaxis\":{\"anchor\":\"y\",\"domain\":[0.0,1.0]},\"yaxis\":{\"anchor\":\"x\",\"domain\":[0.0,1.0]},\"margin\":{\"t\":60}},                        {\"responsive\": true}                    ).then(function(){\n",
       "                            \n",
       "var gd = document.getElementById('208363ce-8149-45b2-97e5-c48f5980dbcb');\n",
       "var x = new MutationObserver(function (mutations, observer) {{\n",
       "        var display = window.getComputedStyle(gd).display;\n",
       "        if (!display || display === 'none') {{\n",
       "            console.log([gd, 'removed!']);\n",
       "            Plotly.purge(gd);\n",
       "            observer.disconnect();\n",
       "        }}\n",
       "}});\n",
       "\n",
       "// Listen for the removal of the full notebook cells\n",
       "var notebookContainer = gd.closest('#notebook-container');\n",
       "if (notebookContainer) {{\n",
       "    x.observe(notebookContainer, {childList: true});\n",
       "}}\n",
       "\n",
       "// Listen for the clearing of the current output cell\n",
       "var outputEl = gd.closest('.output');\n",
       "if (outputEl) {{\n",
       "    x.observe(outputEl, {childList: true});\n",
       "}}\n",
       "\n",
       "                        })                };                });            </script>        </div>"
      ]
     },
     "metadata": {},
     "output_type": "display_data"
    }
   ],
   "source": [
    "px.imshow(colors_cv[:, :, ::-1])"
   ]
  },
  {
   "cell_type": "markdown",
   "metadata": {},
   "source": [
    "* 影像處理再階一點點\n",
    "    * 圖層操作\n",
    "    * histogram\n",
    "    * thresholding"
   ]
  }
 ],
 "metadata": {
  "kernelspec": {
   "display_name": "Python 3 (ipykernel)",
   "language": "python",
   "name": "python3"
  },
  "language_info": {
   "codemirror_mode": {
    "name": "ipython",
    "version": 3
   },
   "file_extension": ".py",
   "mimetype": "text/x-python",
   "name": "python",
   "nbconvert_exporter": "python",
   "pygments_lexer": "ipython3",
   "version": "3.8.10"
  }
 },
 "nbformat": 4,
 "nbformat_minor": 4
}
