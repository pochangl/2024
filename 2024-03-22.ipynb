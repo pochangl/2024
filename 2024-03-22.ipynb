{
 "cells": [
  {
   "cell_type": "markdown",
   "id": "d20b79dc-afdf-49fd-bad8-ea4c635a5309",
   "metadata": {},
   "source": [
    "# 作業"
   ]
  },
  {
   "cell_type": "markdown",
   "id": "beded7e9-9d7d-44b3-9afc-ace874b1309d",
   "metadata": {},
   "source": [
    "## 第一題 k911. 數錢\n",
    "https://zerojudge.tw/ShowProblem?problemid=k911"
   ]
  },
  {
   "cell_type": "markdown",
   "id": "eedcf247-0206-4c11-b287-612c7e49db1a",
   "metadata": {},
   "source": [
    "## 第二題 k912. 付錢\n",
    "https://zerojudge.tw/ShowProblem?problemid=k912"
   ]
  },
  {
   "cell_type": "markdown",
   "id": "dd5480b3-555f-463f-90d1-e1d4c2d9dc60",
   "metadata": {},
   "source": [
    "### dictionary key 是沒有順序的"
   ]
  },
  {
   "cell_type": "code",
   "execution_count": 4,
   "id": "bddff114-8b91-4f70-939f-d811bd3b369c",
   "metadata": {},
   "outputs": [
    {
     "name": "stdout",
     "output_type": "stream",
     "text": [
      "[1, 2, 10, 100, 3]\n"
     ]
    }
   ],
   "source": [
    "count = {}\n",
    "count[1] = 1\n",
    "count[2] = 3\n",
    "count[10] = 10\n",
    "count[100] = 99\n",
    "count[3] = 4\n",
    "print(list(count.keys()))"
   ]
  },
  {
   "cell_type": "markdown",
   "id": "ce3ff073-5ad8-4194-b678-ed907cc2fa86",
   "metadata": {},
   "source": [
    "#### 把 key 轉成 list 才能做排序"
   ]
  },
  {
   "cell_type": "code",
   "execution_count": 13,
   "id": "a70d4e30-a13c-4df5-9ca0-6c2a424bf6e2",
   "metadata": {
    "scrolled": true
   },
   "outputs": [
    {
     "data": {
      "text/plain": [
       "[100, 10, 3, 2, 1]"
      ]
     },
     "execution_count": 13,
     "metadata": {},
     "output_type": "execute_result"
    }
   ],
   "source": [
    "keys = list(count.keys())\n",
    "keys.sort(reverse=True)\n",
    "keys"
   ]
  },
  {
   "cell_type": "code",
   "execution_count": 14,
   "id": "1a795a3c-aa03-42f9-ac42-acd567e97c2e",
   "metadata": {},
   "outputs": [
    {
     "data": {
      "text/plain": [
       "100"
      ]
     },
     "execution_count": 14,
     "metadata": {},
     "output_type": "execute_result"
    }
   ],
   "source": [
    "keys[0]"
   ]
  },
  {
   "cell_type": "code",
   "execution_count": null,
   "id": "8337d532-f41e-48a4-b199-dd4d7e0dd836",
   "metadata": {},
   "outputs": [],
   "source": []
  },
  {
   "cell_type": "code",
   "execution_count": 15,
   "id": "7fd4a6b4-3465-4b7d-886f-72e6fedf3e86",
   "metadata": {},
   "outputs": [
    {
     "data": {
      "text/plain": [
       "1"
      ]
     },
     "execution_count": 15,
     "metadata": {},
     "output_type": "execute_result"
    }
   ],
   "source": [
    "list(count.keys())[0]"
   ]
  },
  {
   "cell_type": "markdown",
   "id": "5af44754-5e4d-455a-9915-ce25b8344547",
   "metadata": {},
   "source": [
    "### Dict 的 get"
   ]
  },
  {
   "cell_type": "code",
   "execution_count": 42,
   "id": "a36051b8-4357-41e3-8113-b97c563c0da2",
   "metadata": {},
   "outputs": [],
   "source": [
    "d = {1: 10}"
   ]
  },
  {
   "cell_type": "code",
   "execution_count": 43,
   "id": "c768fdd9-3193-48e5-a8b4-1b51ed2e25dc",
   "metadata": {},
   "outputs": [
    {
     "data": {
      "text/plain": [
       "10"
      ]
     },
     "execution_count": 43,
     "metadata": {},
     "output_type": "execute_result"
    }
   ],
   "source": [
    "d[1]"
   ]
  },
  {
   "cell_type": "code",
   "execution_count": 44,
   "id": "b86f03cb-2ad4-4b37-9386-2ecf5251a4c1",
   "metadata": {},
   "outputs": [
    {
     "ename": "KeyError",
     "evalue": "50",
     "output_type": "error",
     "traceback": [
      "\u001b[1;31m---------------------------------------------------------------------------\u001b[0m",
      "\u001b[1;31mKeyError\u001b[0m                                  Traceback (most recent call last)",
      "Cell \u001b[1;32mIn[44], line 1\u001b[0m\n\u001b[1;32m----> 1\u001b[0m \u001b[43md\u001b[49m\u001b[43m[\u001b[49m\u001b[38;5;241;43m50\u001b[39;49m\u001b[43m]\u001b[49m\n",
      "\u001b[1;31mKeyError\u001b[0m: 50"
     ]
    }
   ],
   "source": [
    "d[50]"
   ]
  },
  {
   "cell_type": "code",
   "execution_count": 45,
   "id": "e459671d-e5f1-44da-b75c-44392ea92571",
   "metadata": {},
   "outputs": [
    {
     "data": {
      "text/plain": [
       "0"
      ]
     },
     "execution_count": 45,
     "metadata": {},
     "output_type": "execute_result"
    }
   ],
   "source": [
    "d.get(50, 0)"
   ]
  },
  {
   "cell_type": "code",
   "execution_count": 46,
   "id": "33c77650-3c8c-4d7d-b24e-34e71c82bc43",
   "metadata": {},
   "outputs": [
    {
     "data": {
      "text/plain": [
       "{1: 11}"
      ]
     },
     "execution_count": 46,
     "metadata": {},
     "output_type": "execute_result"
    }
   ],
   "source": [
    "d[1] = d[1] + 1\n",
    "d"
   ]
  },
  {
   "cell_type": "code",
   "execution_count": 47,
   "id": "2cdfdfe6-94b9-4a8d-a06d-d6ff318551f1",
   "metadata": {},
   "outputs": [
    {
     "ename": "KeyError",
     "evalue": "50",
     "output_type": "error",
     "traceback": [
      "\u001b[1;31m---------------------------------------------------------------------------\u001b[0m",
      "\u001b[1;31mKeyError\u001b[0m                                  Traceback (most recent call last)",
      "Cell \u001b[1;32mIn[47], line 1\u001b[0m\n\u001b[1;32m----> 1\u001b[0m d[\u001b[38;5;241m50\u001b[39m] \u001b[38;5;241m=\u001b[39m \u001b[43md\u001b[49m\u001b[43m[\u001b[49m\u001b[38;5;241;43m50\u001b[39;49m\u001b[43m]\u001b[49m \u001b[38;5;241m+\u001b[39m \u001b[38;5;241m1\u001b[39m\n\u001b[0;32m      2\u001b[0m d\n",
      "\u001b[1;31mKeyError\u001b[0m: 50"
     ]
    }
   ],
   "source": [
    "d[50] = d[50] + 1\n",
    "d"
   ]
  },
  {
   "cell_type": "code",
   "execution_count": 48,
   "id": "c626fa16-5d4d-43d8-9213-0238023160bd",
   "metadata": {
    "scrolled": true
   },
   "outputs": [
    {
     "data": {
      "text/plain": [
       "{1: 11}"
      ]
     },
     "execution_count": 48,
     "metadata": {},
     "output_type": "execute_result"
    }
   ],
   "source": [
    "d"
   ]
  },
  {
   "cell_type": "code",
   "execution_count": 49,
   "id": "3dd91b59-64f8-43b9-bb90-35624c9763b6",
   "metadata": {},
   "outputs": [],
   "source": [
    "d[50] = d.get(50, 0) + 1"
   ]
  },
  {
   "cell_type": "code",
   "execution_count": 50,
   "id": "4d4225b0-43ac-446f-a312-4b0c9df12877",
   "metadata": {},
   "outputs": [
    {
     "data": {
      "text/plain": [
       "{1: 11, 50: 1}"
      ]
     },
     "execution_count": 50,
     "metadata": {},
     "output_type": "execute_result"
    }
   ],
   "source": [
    "d"
   ]
  },
  {
   "cell_type": "code",
   "execution_count": 51,
   "id": "a7615df2-f210-4ed1-86e6-73cecd2c04e7",
   "metadata": {},
   "outputs": [
    {
     "data": {
      "text/plain": [
       "1"
      ]
     },
     "execution_count": 51,
     "metadata": {},
     "output_type": "execute_result"
    }
   ],
   "source": [
    "d.get(50, 0)"
   ]
  },
  {
   "cell_type": "code",
   "execution_count": null,
   "id": "c1d5e614-e417-4fea-86d5-5e1c376eb296",
   "metadata": {},
   "outputs": [],
   "source": [
    "# d[51] = d.get(51, 0) + 1\n",
    "# 等於下面的程式碼\n",
    "\n",
    "if 51 in d:\n",
    "    d[51] = d[51] + 1\n",
    "else:\n",
    "    d[51] = 0 + 1"
   ]
  },
  {
   "cell_type": "markdown",
   "id": "9fefe53c-fee3-4dd7-be0e-87f514e28e8d",
   "metadata": {
    "jp-MarkdownHeadingCollapsed": true
   },
   "source": [
    "## 第三題 a040. 阿姆斯壯數\n",
    "https://zerojudge.tw/ShowProblem?problemid=a040"
   ]
  },
  {
   "cell_type": "markdown",
   "id": "31dd26ec-697e-4c54-a59b-5b43f7cb954f",
   "metadata": {},
   "source": [
    "### 解釋\n",
    "給一數字 123\n",
    "\n",
    "有3個位數\n",
    "\n",
    "每個位數出來就是[ 1, 2, 3 ]\n",
    "\n",
    "因為有3個位數, 所以要把每個數字都變成三次方\n",
    "\n",
    "[1^3, 2^3, 3^3] = [1, 8, 27]\n",
    "\n",
    "1 + 8 + 27 = 36\n",
    "\n",
    "36 != 123 那就不是阿姆斯壯數\n",
    "\n"
   ]
  },
  {
   "cell_type": "markdown",
   "id": "a17e844d-25a0-4379-9ef2-43d40d5d6caa",
   "metadata": {},
   "source": [
    "1634 有 4個位數, 所以要把每個數字都變成四次方\n",
    "\n",
    "1634 -> [1, 6^4, 3^4, 4^4] = [1, 1296, 81, 256] => 1 + 1296 + 81 + 256 = 1634\n",
    "\n",
    "1634 是阿姆斯壯數"
   ]
  },
  {
   "cell_type": "markdown",
   "id": "650d655e-87cf-4147-9a50-e37d48e015d8",
   "metadata": {},
   "source": [
    "# 復習"
   ]
  },
  {
   "cell_type": "markdown",
   "id": "f40a0ad3-983a-49de-992a-109d809097de",
   "metadata": {},
   "source": [
    "## 函式(進階)"
   ]
  },
  {
   "cell_type": "markdown",
   "id": "58e173b8-3eb7-4002-85f6-478d619ef0f6",
   "metadata": {},
   "source": [
    "### 匿名函式 (Lambda Functions)"
   ]
  },
  {
   "cell_type": "code",
   "execution_count": 53,
   "id": "2c2be9f3-cf93-4fb9-8f59-6b248a8cb80a",
   "metadata": {},
   "outputs": [],
   "source": [
    "def double1(a):\n",
    "    return a * 2"
   ]
  },
  {
   "cell_type": "code",
   "execution_count": 54,
   "id": "9a07348e-38b7-4908-a472-94cbae06a277",
   "metadata": {},
   "outputs": [
    {
     "data": {
      "text/plain": [
       "2"
      ]
     },
     "execution_count": 54,
     "metadata": {},
     "output_type": "execute_result"
    }
   ],
   "source": [
    "double(1)"
   ]
  },
  {
   "cell_type": "code",
   "execution_count": 55,
   "id": "8e76237a-a9c6-424b-a7e8-454aed26d501",
   "metadata": {
    "scrolled": true
   },
   "outputs": [
    {
     "data": {
      "text/plain": [
       "4"
      ]
     },
     "execution_count": 55,
     "metadata": {},
     "output_type": "execute_result"
    }
   ],
   "source": [
    "double(2)"
   ]
  },
  {
   "cell_type": "markdown",
   "id": "f7857c23-096f-4dc0-aa12-36af076831cf",
   "metadata": {},
   "source": [
    "#### double 函式改寫成匿名函式"
   ]
  },
  {
   "cell_type": "code",
   "execution_count": 56,
   "id": "5ca287e7-dc17-4bf1-9cdd-19feccee9e55",
   "metadata": {},
   "outputs": [
    {
     "data": {
      "text/plain": [
       "2"
      ]
     },
     "execution_count": 56,
     "metadata": {},
     "output_type": "execute_result"
    }
   ],
   "source": [
    "(lambda a: a * 2)(1)"
   ]
  },
  {
   "cell_type": "code",
   "execution_count": 57,
   "id": "a6c28488-d373-4caf-8244-d3d2040cf645",
   "metadata": {},
   "outputs": [
    {
     "data": {
      "text/plain": [
       "4"
      ]
     },
     "execution_count": 57,
     "metadata": {},
     "output_type": "execute_result"
    }
   ],
   "source": [
    "(lambda a: a * 2)(2)"
   ]
  },
  {
   "cell_type": "markdown",
   "id": "abb02bc4-68dd-4f84-b0e1-fa2360098566",
   "metadata": {},
   "source": [
    "```python\n",
    "def double1(a):\n",
    "    return a * 2\n",
    "double(1)\n",
    "```\n",
    "\n",
    "與下面相同\n",
    "```python\n",
    "double = lambda a: a * 2\n",
    "double(1)\n",
    "```"
   ]
  },
  {
   "cell_type": "markdown",
   "id": "65858923-c6a1-43b4-b746-f49d983e3d3e",
   "metadata": {},
   "source": [
    "我們有時候會希望能不特地定義新的函式佔用行數, 用完就丟"
   ]
  },
  {
   "cell_type": "code",
   "execution_count": 61,
   "id": "24ae27c1-d38a-4016-96f4-77c32f998cd0",
   "metadata": {},
   "outputs": [
    {
     "data": {
      "text/plain": [
       "[1, 16, 81, 256]"
      ]
     },
     "execution_count": 61,
     "metadata": {},
     "output_type": "execute_result"
    }
   ],
   "source": [
    "nums = [1, 2, 3, 4]\n",
    "powered = map(lambda x: x ** 4, nums)\n",
    "list(powered)"
   ]
  },
  {
   "cell_type": "code",
   "execution_count": 63,
   "id": "4b2ab20e-6756-4500-9f14-064c980b62e7",
   "metadata": {},
   "outputs": [
    {
     "data": {
      "text/plain": [
       "[1, 16, 81, 256]"
      ]
     },
     "execution_count": 63,
     "metadata": {},
     "output_type": "execute_result"
    }
   ],
   "source": [
    "def quad(num):\n",
    "    return num ** 4\n",
    "    \n",
    "## 中間隔了數十行\n",
    "\n",
    "nums = [1, 2, 3, 4]\n",
    "powered = map(quad, nums)\n",
    "list(powered)"
   ]
  },
  {
   "cell_type": "markdown",
   "id": "65195539-c3f9-4109-9297-8e87f6fc314b",
   "metadata": {},
   "source": [
    "匿名函式有時候可以增進程式碼的可讀性\n",
    "\n",
    "所以很多工程師會不時的使用"
   ]
  },
  {
   "cell_type": "markdown",
   "id": "0cea8703-8adb-4700-81df-caaf90b2deac",
   "metadata": {},
   "source": [
    "### 預設值"
   ]
  },
  {
   "cell_type": "code",
   "execution_count": 71,
   "id": "78bbf862-3b82-47e9-879c-277155594db9",
   "metadata": {},
   "outputs": [],
   "source": [
    "def point(x=0, y=0):\n",
    "    print(f'(x={x}, y={y})')\n",
    "    "
   ]
  },
  {
   "cell_type": "code",
   "execution_count": 72,
   "id": "c573a842-95ac-4fed-8aee-34173211a028",
   "metadata": {},
   "outputs": [
    {
     "name": "stdout",
     "output_type": "stream",
     "text": [
      "(x=1, y=2)\n"
     ]
    }
   ],
   "source": [
    "point(1, 2)"
   ]
  },
  {
   "cell_type": "code",
   "execution_count": 73,
   "id": "0d0e31eb-20f5-4088-9187-63c5aa2573fa",
   "metadata": {},
   "outputs": [
    {
     "name": "stdout",
     "output_type": "stream",
     "text": [
      "(x=1, y=0)\n"
     ]
    }
   ],
   "source": [
    "point(1)"
   ]
  },
  {
   "cell_type": "code",
   "execution_count": 77,
   "id": "5bc475d8-6f51-4894-bbce-f9e7d9dc33c2",
   "metadata": {},
   "outputs": [],
   "source": [
    "def create_user(name, is_admin=False):\n",
    "    if is_admin:\n",
    "        print(f'admin {name} created')\n",
    "    else:\n",
    "        print(f'user {name} created')"
   ]
  },
  {
   "cell_type": "code",
   "execution_count": 78,
   "id": "b37c13eb-60ee-4651-929a-413fa7bf135d",
   "metadata": {},
   "outputs": [
    {
     "name": "stdout",
     "output_type": "stream",
     "text": [
      "user charlie created\n"
     ]
    }
   ],
   "source": [
    "create_user('charlie')"
   ]
  },
  {
   "cell_type": "code",
   "execution_count": 80,
   "id": "be973394-72fd-4022-863d-47f8bf029d94",
   "metadata": {},
   "outputs": [
    {
     "name": "stdout",
     "output_type": "stream",
     "text": [
      "admin Steven created\n"
     ]
    }
   ],
   "source": [
    "create_user('Steven', is_admin=True)"
   ]
  },
  {
   "cell_type": "markdown",
   "id": "1bd3a804-68e6-485e-836f-d6253d3eb9f3",
   "metadata": {},
   "source": [
    "因為你不會想看到下面這種程式碼\n",
    "```python\n",
    "create_user('Charile', is_admin=False)\n",
    "create_user('Allen', is_admin=False)\n",
    "create_user('Brian', is_admin=False)\n",
    "```\n",
    "這個比較順眼\n",
    "```python\n",
    "create_user('Charile')\n",
    "create_user('Allen')\n",
    "create_user('Brian')\n",
    "```\n",
    "如果不小心寫錯呢\n",
    "```python\n",
    "create_user('Charile', is_admin=False)\n",
    "create_user('Allen', is_admin=False)\n",
    "create_user('Brian', is_admin=True) # 寫錯了 Brian 是一般使用者\n",
    "```\n",
    "\n",
    "少做少錯, 不做不錯"
   ]
  },
  {
   "cell_type": "markdown",
   "id": "f5046d5f-03f1-4762-b57a-2b41a0864e9c",
   "metadata": {},
   "source": [
    "### positional arguments vs keyword arguments"
   ]
  },
  {
   "cell_type": "code",
   "execution_count": 83,
   "id": "62048e73-ed81-41f6-ad2c-808c0386d0d4",
   "metadata": {},
   "outputs": [],
   "source": [
    "def point(x, y, z):\n",
    "    return f'(x={x}, y={y}, z={z})'"
   ]
  },
  {
   "cell_type": "markdown",
   "id": "79a0851a-b33c-43af-af5e-ce4eaf49e5fe",
   "metadata": {},
   "source": [
    "#### positional argument, 沒名字但有順序"
   ]
  },
  {
   "cell_type": "code",
   "execution_count": 84,
   "id": "26b2db56-f29f-4962-8735-f85265e9a39b",
   "metadata": {},
   "outputs": [
    {
     "data": {
      "text/plain": [
       "'(x=1, y=2, z=3)'"
      ]
     },
     "execution_count": 84,
     "metadata": {},
     "output_type": "execute_result"
    }
   ],
   "source": [
    "point(1, 2, 3)"
   ]
  },
  {
   "cell_type": "markdown",
   "id": "439c20ab-2001-47ce-97b1-f344189d401f",
   "metadata": {},
   "source": [
    "#### keyword arguments, 有名字但沒順序"
   ]
  },
  {
   "cell_type": "code",
   "execution_count": 85,
   "id": "c5de720c-939d-43fb-9844-8ac0362e4085",
   "metadata": {},
   "outputs": [
    {
     "data": {
      "text/plain": [
       "'(x=1, y=2, z=3)'"
      ]
     },
     "execution_count": 85,
     "metadata": {},
     "output_type": "execute_result"
    }
   ],
   "source": [
    "point(x=1, y=2, z=3)"
   ]
  },
  {
   "cell_type": "code",
   "execution_count": 86,
   "id": "67bf83cc-8057-4fa0-983c-c9d341b4591c",
   "metadata": {},
   "outputs": [
    {
     "data": {
      "text/plain": [
       "'(x=1, y=2, z=3)'"
      ]
     },
     "execution_count": 86,
     "metadata": {},
     "output_type": "execute_result"
    }
   ],
   "source": [
    "point(z=3, y=2, x=1)"
   ]
  },
  {
   "cell_type": "markdown",
   "id": "185723a8-54a1-453c-a7bd-1791b38e4126",
   "metadata": {},
   "source": [
    "positional argument 一定在 keyword argument 之前"
   ]
  },
  {
   "cell_type": "code",
   "execution_count": 89,
   "id": "ec27aacf-6ff9-4064-bd63-ced0212945f8",
   "metadata": {},
   "outputs": [
    {
     "data": {
      "text/plain": [
       "'(x=1, y=2, z=3)'"
      ]
     },
     "execution_count": 89,
     "metadata": {},
     "output_type": "execute_result"
    }
   ],
   "source": [
    "point(1, 2, z = 3)"
   ]
  },
  {
   "cell_type": "code",
   "execution_count": 90,
   "id": "374ce39a-84e2-4d68-9d46-52e437065737",
   "metadata": {},
   "outputs": [
    {
     "ename": "SyntaxError",
     "evalue": "positional argument follows keyword argument (190865620.py, line 1)",
     "output_type": "error",
     "traceback": [
      "\u001b[1;36m  Cell \u001b[1;32mIn[90], line 1\u001b[1;36m\u001b[0m\n\u001b[1;33m    point(x=1, 2, 3)\u001b[0m\n\u001b[1;37m                   ^\u001b[0m\n\u001b[1;31mSyntaxError\u001b[0m\u001b[1;31m:\u001b[0m positional argument follows keyword argument\n"
     ]
    }
   ],
   "source": [
    "point(x=1, 2, 3)"
   ]
  },
  {
   "cell_type": "code",
   "execution_count": 93,
   "id": "29c09648-09be-4a37-9aa3-3ed3fa20b582",
   "metadata": {},
   "outputs": [],
   "source": [
    "def foo(*args, **kwargs):\n",
    "    print('positional arguments: ', args)\n",
    "    print('keyword arguments: ', kwargs)"
   ]
  },
  {
   "cell_type": "markdown",
   "id": "a05b974d-2e0c-4b3f-930e-56bea4b544f9",
   "metadata": {},
   "source": [
    "*args 是 positional argument\n",
    "\n",
    "**kwargs 是 keyword arguments"
   ]
  },
  {
   "cell_type": "code",
   "execution_count": 94,
   "id": "96a6293f-13b9-4af5-84ed-93fa6d78afb7",
   "metadata": {},
   "outputs": [
    {
     "name": "stdout",
     "output_type": "stream",
     "text": [
      "positional arguments:  (1, 2)\n",
      "keyword arguments:  {'z': 3}\n"
     ]
    }
   ],
   "source": [
    "foo(1, 2, z=3)"
   ]
  },
  {
   "cell_type": "code",
   "execution_count": 95,
   "id": "1cae380d-8fde-409b-aadf-f7a5294d6609",
   "metadata": {},
   "outputs": [],
   "source": [
    "def foo2(x, y, *args, **kwargs):\n",
    "    print('x: ', x)\n",
    "    print('y: ', y)\n",
    "    print('args: ', args)\n",
    "    print('kwargs: ', kwargs)\n"
   ]
  },
  {
   "cell_type": "code",
   "execution_count": 97,
   "id": "fea40e6e-9c38-49e6-a5af-925da4b8c6fd",
   "metadata": {},
   "outputs": [
    {
     "name": "stdout",
     "output_type": "stream",
     "text": [
      "x:  1\n",
      "y:  2\n",
      "args:  (3, 4)\n",
      "kwargs:  {}\n"
     ]
    }
   ],
   "source": [
    "foo2(1, 2, 3, 4)"
   ]
  },
  {
   "cell_type": "code",
   "execution_count": 98,
   "id": "c132c1da-efb0-49dc-9cdb-ad5bbe47b8e9",
   "metadata": {},
   "outputs": [
    {
     "name": "stdout",
     "output_type": "stream",
     "text": [
      "x:  1\n",
      "y:  2\n",
      "args:  ()\n",
      "kwargs:  {'z': 3, 'k': 4}\n"
     ]
    }
   ],
   "source": [
    "foo2(x=1, y=2, z=3, k=4)"
   ]
  },
  {
   "cell_type": "code",
   "execution_count": 99,
   "id": "648ad982-a3b5-468c-92c6-8907b4c257b6",
   "metadata": {},
   "outputs": [
    {
     "ename": "TypeError",
     "evalue": "foo3() takes 2 positional arguments but 3 were given",
     "output_type": "error",
     "traceback": [
      "\u001b[1;31m---------------------------------------------------------------------------\u001b[0m",
      "\u001b[1;31mTypeError\u001b[0m                                 Traceback (most recent call last)",
      "Cell \u001b[1;32mIn[99], line 4\u001b[0m\n\u001b[0;32m      1\u001b[0m \u001b[38;5;28;01mdef\u001b[39;00m \u001b[38;5;21mfoo3\u001b[39m(x, y):\n\u001b[0;32m      2\u001b[0m     \u001b[38;5;28mprint\u001b[39m(x, y)\n\u001b[1;32m----> 4\u001b[0m \u001b[43mfoo3\u001b[49m\u001b[43m(\u001b[49m\u001b[38;5;241;43m1\u001b[39;49m\u001b[43m,\u001b[49m\u001b[43m \u001b[49m\u001b[38;5;241;43m2\u001b[39;49m\u001b[43m,\u001b[49m\u001b[43m \u001b[49m\u001b[38;5;241;43m3\u001b[39;49m\u001b[43m)\u001b[49m\n",
      "\u001b[1;31mTypeError\u001b[0m: foo3() takes 2 positional arguments but 3 were given"
     ]
    }
   ],
   "source": [
    "def foo3(x, y):\n",
    "    print(x, y)\n",
    "\n",
    "foo3(1, 2, 3)"
   ]
  },
  {
   "cell_type": "code",
   "execution_count": 100,
   "id": "7017b73b-39dd-4e9a-8da7-90e01bf73b20",
   "metadata": {},
   "outputs": [
    {
     "name": "stdout",
     "output_type": "stream",
     "text": [
      "1 2\n"
     ]
    }
   ],
   "source": [
    "def foo4(x, y, *args, **kwargs):\n",
    "    print(x, y)\n",
    "\n",
    "foo4(1, 2, 3, 4, k=0, l=3)"
   ]
  },
  {
   "cell_type": "code",
   "execution_count": 101,
   "id": "e1796812-ae72-4ae9-9129-b612958116b7",
   "metadata": {},
   "outputs": [
    {
     "name": "stdout",
     "output_type": "stream",
     "text": [
      "1 2 3 4 5 6\n"
     ]
    }
   ],
   "source": [
    "print(1, 2, 3, 4, 5, 6)"
   ]
  },
  {
   "cell_type": "code",
   "execution_count": 102,
   "id": "60a417a6-21cd-44ef-b537-b071c035160d",
   "metadata": {},
   "outputs": [
    {
     "name": "stdout",
     "output_type": "stream",
     "text": [
      "1\n"
     ]
    }
   ],
   "source": [
    "print(1)"
   ]
  },
  {
   "cell_type": "code",
   "execution_count": 106,
   "id": "1fbfaae0-67d5-462d-a7cc-68b0608f7d58",
   "metadata": {},
   "outputs": [],
   "source": [
    "a, b = [1, 2]"
   ]
  },
  {
   "cell_type": "code",
   "execution_count": 107,
   "id": "61e00ebf-2f98-42c5-92ce-79a128e8f6c0",
   "metadata": {},
   "outputs": [
    {
     "data": {
      "text/plain": [
       "1"
      ]
     },
     "execution_count": 107,
     "metadata": {},
     "output_type": "execute_result"
    }
   ],
   "source": [
    "a"
   ]
  },
  {
   "cell_type": "code",
   "execution_count": 108,
   "id": "12feedff-5c10-4b38-82f5-d132d9dbf298",
   "metadata": {},
   "outputs": [
    {
     "data": {
      "text/plain": [
       "2"
      ]
     },
     "execution_count": 108,
     "metadata": {},
     "output_type": "execute_result"
    }
   ],
   "source": [
    "b"
   ]
  },
  {
   "cell_type": "code",
   "execution_count": 112,
   "id": "c9e1d395-58ea-49e5-8af8-ed9e3c945bb0",
   "metadata": {},
   "outputs": [
    {
     "data": {
      "text/plain": [
       "[1, 2, 3, 4, 5, 6, 7, 8, 9]"
      ]
     },
     "execution_count": 112,
     "metadata": {},
     "output_type": "execute_result"
    }
   ],
   "source": [
    "list(range(1, 9 + 1))"
   ]
  },
  {
   "cell_type": "code",
   "execution_count": 113,
   "id": "b6175225-9791-4521-8280-9418d786ad8b",
   "metadata": {},
   "outputs": [
    {
     "name": "stdout",
     "output_type": "stream",
     "text": [
      "1\n",
      "6\n",
      "3\n",
      "4\n"
     ]
    }
   ],
   "source": [
    "for i in \"1634\":\n",
    "    print(i)"
   ]
  },
  {
   "cell_type": "code",
   "execution_count": 114,
   "id": "8964bb5e-0502-4bed-8fd9-a3b7e0496829",
   "metadata": {},
   "outputs": [],
   "source": [
    "numbers = [1, 2, 3, 4]"
   ]
  },
  {
   "cell_type": "code",
   "execution_count": 115,
   "id": "e8ad5bd0-1d46-4281-9284-2a97ed5b6173",
   "metadata": {},
   "outputs": [
    {
     "name": "stdout",
     "output_type": "stream",
     "text": [
      "[1, 2, 3, 4]\n"
     ]
    }
   ],
   "source": [
    "print(numbers)"
   ]
  },
  {
   "cell_type": "code",
   "execution_count": 116,
   "id": "c4519511-3a71-433e-b6e1-3e36dc693367",
   "metadata": {},
   "outputs": [
    {
     "name": "stdout",
     "output_type": "stream",
     "text": [
      "1 2 3 4\n"
     ]
    }
   ],
   "source": [
    "print(*numbers)"
   ]
  },
  {
   "cell_type": "code",
   "execution_count": 117,
   "id": "6506a722-1bac-49fe-a310-21bd799dc128",
   "metadata": {},
   "outputs": [
    {
     "name": "stdout",
     "output_type": "stream",
     "text": [
      "1 2 3 4\n"
     ]
    }
   ],
   "source": [
    "print(1, 2, 3, 4)"
   ]
  },
  {
   "cell_type": "code",
   "execution_count": null,
   "id": "6054f366-e602-439d-b2b5-0c253bd37e6d",
   "metadata": {},
   "outputs": [],
   "source": []
  }
 ],
 "metadata": {
  "kernelspec": {
   "display_name": "Python 3 (ipykernel)",
   "language": "python",
   "name": "python3"
  },
  "language_info": {
   "codemirror_mode": {
    "name": "ipython",
    "version": 3
   },
   "file_extension": ".py",
   "mimetype": "text/x-python",
   "name": "python",
   "nbconvert_exporter": "python",
   "pygments_lexer": "ipython3",
   "version": "3.12.2"
  }
 },
 "nbformat": 4,
 "nbformat_minor": 5
}
