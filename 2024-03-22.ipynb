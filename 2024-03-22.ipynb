{
 "cells": [
  {
   "cell_type": "markdown",
   "id": "d20b79dc-afdf-49fd-bad8-ea4c635a5309",
   "metadata": {},
   "source": [
    "# 作業"
   ]
  },
  {
   "cell_type": "markdown",
   "id": "beded7e9-9d7d-44b3-9afc-ace874b1309d",
   "metadata": {},
   "source": [
    "## 第一題"
   ]
  },
  {
   "cell_type": "markdown",
   "id": "eedcf247-0206-4c11-b287-612c7e49db1a",
   "metadata": {},
   "source": [
    "## 第二題"
   ]
  },
  {
   "cell_type": "markdown",
   "id": "9fefe53c-fee3-4dd7-be0e-87f514e28e8d",
   "metadata": {},
   "source": [
    "## 第三題"
   ]
  },
  {
   "cell_type": "code",
   "execution_count": null,
   "id": "ecf71dad-79e0-4ca9-9997-88b8efc86f00",
   "metadata": {},
   "outputs": [],
   "source": []
  }
 ],
 "metadata": {
  "kernelspec": {
   "display_name": "Python 3 (ipykernel)",
   "language": "python",
   "name": "python3"
  },
  "language_info": {
   "codemirror_mode": {
    "name": "ipython",
    "version": 3
   },
   "file_extension": ".py",
   "mimetype": "text/x-python",
   "name": "python",
   "nbconvert_exporter": "python",
   "pygments_lexer": "ipython3",
   "version": "3.10.13"
  }
 },
 "nbformat": 4,
 "nbformat_minor": 5
}
