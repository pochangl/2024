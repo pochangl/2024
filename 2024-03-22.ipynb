{
 "cells": [
  {
   "cell_type": "markdown",
   "id": "d20b79dc-afdf-49fd-bad8-ea4c635a5309",
   "metadata": {},
   "source": [
    "# 作業"
   ]
  },
  {
   "cell_type": "markdown",
   "id": "beded7e9-9d7d-44b3-9afc-ace874b1309d",
   "metadata": {},
   "source": [
    "## 第一題 k911. 數錢\n",
    "https://zerojudge.tw/ShowProblem?problemid=k911"
   ]
  },
  {
   "cell_type": "markdown",
   "id": "eedcf247-0206-4c11-b287-612c7e49db1a",
   "metadata": {},
   "source": [
    "## 第二題 k912. 付錢\n",
    "https://zerojudge.tw/ShowProblem?problemid=k912"
   ]
  },
  {
   "cell_type": "markdown",
   "id": "dd5480b3-555f-463f-90d1-e1d4c2d9dc60",
   "metadata": {},
   "source": [
    "### dictionary key 是沒有順序的"
   ]
  },
  {
   "cell_type": "code",
   "execution_count": 4,
   "id": "bddff114-8b91-4f70-939f-d811bd3b369c",
   "metadata": {},
   "outputs": [
    {
     "name": "stdout",
     "output_type": "stream",
     "text": [
      "[1, 2, 10, 100, 3]\n"
     ]
    }
   ],
   "source": [
    "count = {}\n",
    "count[1] = 1\n",
    "count[2] = 3\n",
    "count[10] = 10\n",
    "count[100] = 99\n",
    "count[3] = 4\n",
    "print(list(count.keys()))"
   ]
  },
  {
   "cell_type": "markdown",
   "id": "ce3ff073-5ad8-4194-b678-ed907cc2fa86",
   "metadata": {},
   "source": [
    "#### 把 key 轉成 list 才能做排序"
   ]
  },
  {
   "cell_type": "code",
   "execution_count": 13,
   "id": "a70d4e30-a13c-4df5-9ca0-6c2a424bf6e2",
   "metadata": {
    "scrolled": true
   },
   "outputs": [
    {
     "data": {
      "text/plain": [
       "[100, 10, 3, 2, 1]"
      ]
     },
     "execution_count": 13,
     "metadata": {},
     "output_type": "execute_result"
    }
   ],
   "source": [
    "keys = list(count.keys())\n",
    "keys.sort(reverse=True)\n",
    "keys"
   ]
  },
  {
   "cell_type": "code",
   "execution_count": 14,
   "id": "1a795a3c-aa03-42f9-ac42-acd567e97c2e",
   "metadata": {},
   "outputs": [
    {
     "data": {
      "text/plain": [
       "100"
      ]
     },
     "execution_count": 14,
     "metadata": {},
     "output_type": "execute_result"
    }
   ],
   "source": [
    "keys[0]"
   ]
  },
  {
   "cell_type": "code",
   "execution_count": null,
   "id": "8337d532-f41e-48a4-b199-dd4d7e0dd836",
   "metadata": {},
   "outputs": [],
   "source": []
  },
  {
   "cell_type": "code",
   "execution_count": 15,
   "id": "7fd4a6b4-3465-4b7d-886f-72e6fedf3e86",
   "metadata": {},
   "outputs": [
    {
     "data": {
      "text/plain": [
       "1"
      ]
     },
     "execution_count": 15,
     "metadata": {},
     "output_type": "execute_result"
    }
   ],
   "source": [
    "list(count.keys())[0]"
   ]
  },
  {
   "cell_type": "markdown",
   "id": "5af44754-5e4d-455a-9915-ce25b8344547",
   "metadata": {},
   "source": [
    "### Dict 的 get"
   ]
  },
  {
   "cell_type": "code",
   "execution_count": 42,
   "id": "a36051b8-4357-41e3-8113-b97c563c0da2",
   "metadata": {},
   "outputs": [],
   "source": [
    "d = {1: 10}"
   ]
  },
  {
   "cell_type": "code",
   "execution_count": 43,
   "id": "c768fdd9-3193-48e5-a8b4-1b51ed2e25dc",
   "metadata": {},
   "outputs": [
    {
     "data": {
      "text/plain": [
       "10"
      ]
     },
     "execution_count": 43,
     "metadata": {},
     "output_type": "execute_result"
    }
   ],
   "source": [
    "d[1]"
   ]
  },
  {
   "cell_type": "code",
   "execution_count": 44,
   "id": "b86f03cb-2ad4-4b37-9386-2ecf5251a4c1",
   "metadata": {},
   "outputs": [
    {
     "ename": "KeyError",
     "evalue": "50",
     "output_type": "error",
     "traceback": [
      "\u001b[1;31m---------------------------------------------------------------------------\u001b[0m",
      "\u001b[1;31mKeyError\u001b[0m                                  Traceback (most recent call last)",
      "Cell \u001b[1;32mIn[44], line 1\u001b[0m\n\u001b[1;32m----> 1\u001b[0m \u001b[43md\u001b[49m\u001b[43m[\u001b[49m\u001b[38;5;241;43m50\u001b[39;49m\u001b[43m]\u001b[49m\n",
      "\u001b[1;31mKeyError\u001b[0m: 50"
     ]
    }
   ],
   "source": [
    "d[50]"
   ]
  },
  {
   "cell_type": "code",
   "execution_count": 45,
   "id": "e459671d-e5f1-44da-b75c-44392ea92571",
   "metadata": {},
   "outputs": [
    {
     "data": {
      "text/plain": [
       "0"
      ]
     },
     "execution_count": 45,
     "metadata": {},
     "output_type": "execute_result"
    }
   ],
   "source": [
    "d.get(50, 0)"
   ]
  },
  {
   "cell_type": "code",
   "execution_count": 46,
   "id": "33c77650-3c8c-4d7d-b24e-34e71c82bc43",
   "metadata": {},
   "outputs": [
    {
     "data": {
      "text/plain": [
       "{1: 11}"
      ]
     },
     "execution_count": 46,
     "metadata": {},
     "output_type": "execute_result"
    }
   ],
   "source": [
    "d[1] = d[1] + 1\n",
    "d"
   ]
  },
  {
   "cell_type": "code",
   "execution_count": 47,
   "id": "2cdfdfe6-94b9-4a8d-a06d-d6ff318551f1",
   "metadata": {},
   "outputs": [
    {
     "ename": "KeyError",
     "evalue": "50",
     "output_type": "error",
     "traceback": [
      "\u001b[1;31m---------------------------------------------------------------------------\u001b[0m",
      "\u001b[1;31mKeyError\u001b[0m                                  Traceback (most recent call last)",
      "Cell \u001b[1;32mIn[47], line 1\u001b[0m\n\u001b[1;32m----> 1\u001b[0m d[\u001b[38;5;241m50\u001b[39m] \u001b[38;5;241m=\u001b[39m \u001b[43md\u001b[49m\u001b[43m[\u001b[49m\u001b[38;5;241;43m50\u001b[39;49m\u001b[43m]\u001b[49m \u001b[38;5;241m+\u001b[39m \u001b[38;5;241m1\u001b[39m\n\u001b[0;32m      2\u001b[0m d\n",
      "\u001b[1;31mKeyError\u001b[0m: 50"
     ]
    }
   ],
   "source": [
    "d[50] = d[50] + 1\n",
    "d"
   ]
  },
  {
   "cell_type": "code",
   "execution_count": 48,
   "id": "c626fa16-5d4d-43d8-9213-0238023160bd",
   "metadata": {
    "scrolled": true
   },
   "outputs": [
    {
     "data": {
      "text/plain": [
       "{1: 11}"
      ]
     },
     "execution_count": 48,
     "metadata": {},
     "output_type": "execute_result"
    }
   ],
   "source": [
    "d"
   ]
  },
  {
   "cell_type": "code",
   "execution_count": 49,
   "id": "3dd91b59-64f8-43b9-bb90-35624c9763b6",
   "metadata": {},
   "outputs": [],
   "source": [
    "d[50] = d.get(50, 0) + 1"
   ]
  },
  {
   "cell_type": "code",
   "execution_count": 50,
   "id": "4d4225b0-43ac-446f-a312-4b0c9df12877",
   "metadata": {},
   "outputs": [
    {
     "data": {
      "text/plain": [
       "{1: 11, 50: 1}"
      ]
     },
     "execution_count": 50,
     "metadata": {},
     "output_type": "execute_result"
    }
   ],
   "source": [
    "d"
   ]
  },
  {
   "cell_type": "code",
   "execution_count": 51,
   "id": "a7615df2-f210-4ed1-86e6-73cecd2c04e7",
   "metadata": {},
   "outputs": [
    {
     "data": {
      "text/plain": [
       "1"
      ]
     },
     "execution_count": 51,
     "metadata": {},
     "output_type": "execute_result"
    }
   ],
   "source": [
    "d.get(50, 0)"
   ]
  },
  {
   "cell_type": "code",
   "execution_count": null,
   "id": "c1d5e614-e417-4fea-86d5-5e1c376eb296",
   "metadata": {},
   "outputs": [],
   "source": [
    "# d[51] = d.get(51, 0) + 1\n",
    "# 等於下面的程式碼\n",
    "\n",
    "if 51 in d:\n",
    "    d[51] = d[51] + 1\n",
    "else:\n",
    "    d[51] = 0 + 1"
   ]
  },
  {
   "cell_type": "markdown",
   "id": "9fefe53c-fee3-4dd7-be0e-87f514e28e8d",
   "metadata": {
    "jp-MarkdownHeadingCollapsed": true
   },
   "source": [
    "## 第三題 a040. 阿姆斯壯數\n",
    "https://zerojudge.tw/ShowProblem?problemid=a040"
   ]
  },
  {
   "cell_type": "markdown",
   "id": "31dd26ec-697e-4c54-a59b-5b43f7cb954f",
   "metadata": {},
   "source": [
    "### 解釋\n",
    "給一數字 123\n",
    "\n",
    "有3個位數\n",
    "\n",
    "每個位數出來就是[ 1, 2, 3 ]\n",
    "\n",
    "因為有3個位數, 所以要把每個數字都變成三次方\n",
    "\n",
    "[1^3, 2^3, 3^3] = [1, 8, 27]\n",
    "\n",
    "1 + 8 + 27 = 36\n",
    "\n",
    "36 != 123 那就不是阿姆斯壯數\n",
    "\n"
   ]
  },
  {
   "cell_type": "markdown",
   "id": "a17e844d-25a0-4379-9ef2-43d40d5d6caa",
   "metadata": {},
   "source": [
    "1634 有 4個位數, 所以要把每個數字都變成四次方\n",
    "\n",
    "1634 -> [1, 6^4, 3^4, 4^4] = [1, 1296, 81, 256] => 1 + 1296 + 81 + 256 = 1634\n",
    "\n",
    "1634 是阿姆斯壯數"
   ]
  },
  {
   "cell_type": "markdown",
   "id": "650d655e-87cf-4147-9a50-e37d48e015d8",
   "metadata": {},
   "source": [
    "# 復習"
   ]
  },
  {
   "cell_type": "markdown",
   "id": "f40a0ad3-983a-49de-992a-109d809097de",
   "metadata": {},
   "source": [
    "## 函式(進階)"
   ]
  },
  {
   "cell_type": "markdown",
   "id": "58e173b8-3eb7-4002-85f6-478d619ef0f6",
   "metadata": {},
   "source": [
    "### 匿名函式 (Lambda Functions)"
   ]
  },
  {
   "cell_type": "code",
   "execution_count": 53,
   "id": "2c2be9f3-cf93-4fb9-8f59-6b248a8cb80a",
   "metadata": {},
   "outputs": [],
   "source": [
    "def double1(a):\n",
    "    return a * 2"
   ]
  },
  {
   "cell_type": "code",
   "execution_count": 54,
   "id": "9a07348e-38b7-4908-a472-94cbae06a277",
   "metadata": {},
   "outputs": [
    {
     "data": {
      "text/plain": [
       "2"
      ]
     },
     "execution_count": 54,
     "metadata": {},
     "output_type": "execute_result"
    }
   ],
   "source": [
    "double(1)"
   ]
  },
  {
   "cell_type": "code",
   "execution_count": 55,
   "id": "8e76237a-a9c6-424b-a7e8-454aed26d501",
   "metadata": {
    "scrolled": true
   },
   "outputs": [
    {
     "data": {
      "text/plain": [
       "4"
      ]
     },
     "execution_count": 55,
     "metadata": {},
     "output_type": "execute_result"
    }
   ],
   "source": [
    "double(2)"
   ]
  },
  {
   "cell_type": "markdown",
   "id": "f7857c23-096f-4dc0-aa12-36af076831cf",
   "metadata": {},
   "source": [
    "### double 函式改寫成匿名函式"
   ]
  },
  {
   "cell_type": "code",
   "execution_count": 56,
   "id": "5ca287e7-dc17-4bf1-9cdd-19feccee9e55",
   "metadata": {},
   "outputs": [
    {
     "data": {
      "text/plain": [
       "2"
      ]
     },
     "execution_count": 56,
     "metadata": {},
     "output_type": "execute_result"
    }
   ],
   "source": [
    "(lambda a: a * 2)(1)"
   ]
  },
  {
   "cell_type": "code",
   "execution_count": 57,
   "id": "a6c28488-d373-4caf-8244-d3d2040cf645",
   "metadata": {},
   "outputs": [
    {
     "data": {
      "text/plain": [
       "4"
      ]
     },
     "execution_count": 57,
     "metadata": {},
     "output_type": "execute_result"
    }
   ],
   "source": [
    "(lambda a: a * 2)(2)"
   ]
  },
  {
   "cell_type": "markdown",
   "id": "0cea8703-8adb-4700-81df-caaf90b2deac",
   "metadata": {},
   "source": [
    "### 預設值"
   ]
  },
  {
   "cell_type": "markdown",
   "id": "f5046d5f-03f1-4762-b57a-2b41a0864e9c",
   "metadata": {},
   "source": [
    "### positional arguments vs keyword arguments"
   ]
  },
  {
   "cell_type": "code",
   "execution_count": null,
   "id": "62048e73-ed81-41f6-ad2c-808c0386d0d4",
   "metadata": {},
   "outputs": [],
   "source": []
  }
 ],
 "metadata": {
  "kernelspec": {
   "display_name": "Python 3 (ipykernel)",
   "language": "python",
   "name": "python3"
  },
  "language_info": {
   "codemirror_mode": {
    "name": "ipython",
    "version": 3
   },
   "file_extension": ".py",
   "mimetype": "text/x-python",
   "name": "python",
   "nbconvert_exporter": "python",
   "pygments_lexer": "ipython3",
   "version": "3.12.2"
  }
 },
 "nbformat": 4,
 "nbformat_minor": 5
}
