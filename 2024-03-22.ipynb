{
 "cells": [
  {
   "cell_type": "markdown",
   "id": "d20b79dc-afdf-49fd-bad8-ea4c635a5309",
   "metadata": {},
   "source": [
    "# 作業"
   ]
  },
  {
   "cell_type": "markdown",
   "id": "beded7e9-9d7d-44b3-9afc-ace874b1309d",
   "metadata": {},
   "source": [
    "## 第一題 k911. 數錢\n",
    "https://zerojudge.tw/ShowProblem?problemid=k911"
   ]
  },
  {
   "cell_type": "markdown",
   "id": "eedcf247-0206-4c11-b287-612c7e49db1a",
   "metadata": {},
   "source": [
    "## 第二題 k912. 付錢\n",
    "https://zerojudge.tw/ShowProblem?problemid=k912"
   ]
  },
  {
   "cell_type": "code",
   "execution_count": 4,
   "id": "bddff114-8b91-4f70-939f-d811bd3b369c",
   "metadata": {},
   "outputs": [
    {
     "name": "stdout",
     "output_type": "stream",
     "text": [
      "[1, 2, 10, 100, 3]\n"
     ]
    }
   ],
   "source": [
    "count = {}\n",
    "count[1] = 1\n",
    "count[2] = 3\n",
    "count[10] = 10\n",
    "count[100] = 99\n",
    "count[3] = 4\n",
    "print(list(count.keys()))"
   ]
  },
  {
   "cell_type": "code",
   "execution_count": 5,
   "id": "a70d4e30-a13c-4df5-9ca0-6c2a424bf6e2",
   "metadata": {},
   "outputs": [
    {
     "ename": "NameError",
     "evalue": "name 'key' is not defined",
     "output_type": "error",
     "traceback": [
      "\u001b[1;31m---------------------------------------------------------------------------\u001b[0m",
      "\u001b[1;31mNameError\u001b[0m                                 Traceback (most recent call last)",
      "Cell \u001b[1;32mIn[5], line 2\u001b[0m\n\u001b[0;32m      1\u001b[0m keys \u001b[38;5;241m=\u001b[39m \u001b[38;5;28mlist\u001b[39m(count\u001b[38;5;241m.\u001b[39mkeys())\n\u001b[1;32m----> 2\u001b[0m \u001b[43mkey\u001b[49m\u001b[38;5;241m.\u001b[39msort()\n",
      "\u001b[1;31mNameError\u001b[0m: name 'key' is not defined"
     ]
    }
   ],
   "source": [
    "keys = list(count.keys())\n",
    "key.sort()"
   ]
  },
  {
   "cell_type": "markdown",
   "id": "9fefe53c-fee3-4dd7-be0e-87f514e28e8d",
   "metadata": {},
   "source": [
    "## 第三題 a040. 阿姆斯壯數\n",
    "https://zerojudge.tw/ShowProblem?problemid=a040"
   ]
  },
  {
   "cell_type": "markdown",
   "id": "650d655e-87cf-4147-9a50-e37d48e015d8",
   "metadata": {},
   "source": [
    "# 復習"
   ]
  },
  {
   "cell_type": "markdown",
   "id": "f40a0ad3-983a-49de-992a-109d809097de",
   "metadata": {},
   "source": [
    "## 函式(進階)"
   ]
  },
  {
   "cell_type": "markdown",
   "id": "58e173b8-3eb7-4002-85f6-478d619ef0f6",
   "metadata": {},
   "source": [
    "### 匿名匿式 (Lambda Functions)"
   ]
  },
  {
   "cell_type": "markdown",
   "id": "0cea8703-8adb-4700-81df-caaf90b2deac",
   "metadata": {},
   "source": [
    "### 預設值"
   ]
  },
  {
   "cell_type": "markdown",
   "id": "f5046d5f-03f1-4762-b57a-2b41a0864e9c",
   "metadata": {},
   "source": [
    "### positional arguments vs keyword arguments"
   ]
  },
  {
   "cell_type": "code",
   "execution_count": null,
   "id": "62048e73-ed81-41f6-ad2c-808c0386d0d4",
   "metadata": {},
   "outputs": [],
   "source": []
  }
 ],
 "metadata": {
  "kernelspec": {
   "display_name": "Python 3 (ipykernel)",
   "language": "python",
   "name": "python3"
  },
  "language_info": {
   "codemirror_mode": {
    "name": "ipython",
    "version": 3
   },
   "file_extension": ".py",
   "mimetype": "text/x-python",
   "name": "python",
   "nbconvert_exporter": "python",
   "pygments_lexer": "ipython3",
   "version": "3.12.2"
  }
 },
 "nbformat": 4,
 "nbformat_minor": 5
}
