{
 "cells": [
  {
   "cell_type": "markdown",
   "id": "d20b79dc-afdf-49fd-bad8-ea4c635a5309",
   "metadata": {},
   "source": [
    "# 作業"
   ]
  },
  {
   "cell_type": "markdown",
   "id": "beded7e9-9d7d-44b3-9afc-ace874b1309d",
   "metadata": {},
   "source": [
    "## 第一題 k911. 數錢\n",
    "https://zerojudge.tw/ShowProblem?problemid=k911"
   ]
  },
  {
   "cell_type": "markdown",
   "id": "eedcf247-0206-4c11-b287-612c7e49db1a",
   "metadata": {},
   "source": [
    "## 第二題 k912. 付錢\n",
    "https://zerojudge.tw/ShowProblem?problemid=k912"
   ]
  },
  {
   "cell_type": "markdown",
   "id": "dd5480b3-555f-463f-90d1-e1d4c2d9dc60",
   "metadata": {},
   "source": [
    "### dictionary key 是沒有順序的"
   ]
  },
  {
   "cell_type": "code",
   "execution_count": 4,
   "id": "bddff114-8b91-4f70-939f-d811bd3b369c",
   "metadata": {},
   "outputs": [
    {
     "name": "stdout",
     "output_type": "stream",
     "text": [
      "[1, 2, 10, 100, 3]\n"
     ]
    }
   ],
   "source": [
    "count = {}\n",
    "count[1] = 1\n",
    "count[2] = 3\n",
    "count[10] = 10\n",
    "count[100] = 99\n",
    "count[3] = 4\n",
    "print(list(count.keys()))"
   ]
  },
  {
   "cell_type": "markdown",
   "id": "ce3ff073-5ad8-4194-b678-ed907cc2fa86",
   "metadata": {},
   "source": [
    "#### 把 key 轉成 list 才能做排序"
   ]
  },
  {
   "cell_type": "code",
   "execution_count": 13,
   "id": "a70d4e30-a13c-4df5-9ca0-6c2a424bf6e2",
   "metadata": {
    "scrolled": true
   },
   "outputs": [
    {
     "data": {
      "text/plain": [
       "[100, 10, 3, 2, 1]"
      ]
     },
     "execution_count": 13,
     "metadata": {},
     "output_type": "execute_result"
    }
   ],
   "source": [
    "keys = list(count.keys())\n",
    "keys.sort(reverse=True)\n",
    "keys"
   ]
  },
  {
   "cell_type": "code",
   "execution_count": 14,
   "id": "1a795a3c-aa03-42f9-ac42-acd567e97c2e",
   "metadata": {},
   "outputs": [
    {
     "data": {
      "text/plain": [
       "100"
      ]
     },
     "execution_count": 14,
     "metadata": {},
     "output_type": "execute_result"
    }
   ],
   "source": [
    "keys[0]"
   ]
  },
  {
   "cell_type": "code",
   "execution_count": null,
   "id": "8337d532-f41e-48a4-b199-dd4d7e0dd836",
   "metadata": {},
   "outputs": [],
   "source": []
  },
  {
   "cell_type": "code",
   "execution_count": 15,
   "id": "7fd4a6b4-3465-4b7d-886f-72e6fedf3e86",
   "metadata": {},
   "outputs": [
    {
     "data": {
      "text/plain": [
       "1"
      ]
     },
     "execution_count": 15,
     "metadata": {},
     "output_type": "execute_result"
    }
   ],
   "source": [
    "list(count.keys())[0]"
   ]
  },
  {
   "cell_type": "markdown",
   "id": "5af44754-5e4d-455a-9915-ce25b8344547",
   "metadata": {},
   "source": [
    "### Dict 的 get"
   ]
  },
  {
   "cell_type": "code",
   "execution_count": 26,
   "id": "a36051b8-4357-41e3-8113-b97c563c0da2",
   "metadata": {},
   "outputs": [],
   "source": [
    "d = {1: 10}"
   ]
  },
  {
   "cell_type": "code",
   "execution_count": 34,
   "id": "c768fdd9-3193-48e5-a8b4-1b51ed2e25dc",
   "metadata": {},
   "outputs": [
    {
     "data": {
      "text/plain": [
       "10"
      ]
     },
     "execution_count": 34,
     "metadata": {},
     "output_type": "execute_result"
    }
   ],
   "source": [
    "d[1]"
   ]
  },
  {
   "cell_type": "code",
   "execution_count": 35,
   "id": "b86f03cb-2ad4-4b37-9386-2ecf5251a4c1",
   "metadata": {},
   "outputs": [
    {
     "data": {
      "text/plain": [
       "1"
      ]
     },
     "execution_count": 35,
     "metadata": {},
     "output_type": "execute_result"
    }
   ],
   "source": [
    "d[50]"
   ]
  },
  {
   "cell_type": "markdown",
   "id": "9fefe53c-fee3-4dd7-be0e-87f514e28e8d",
   "metadata": {
    "jp-MarkdownHeadingCollapsed": true
   },
   "source": [
    "## 第三題 a040. 阿姆斯壯數\n",
    "https://zerojudge.tw/ShowProblem?problemid=a040"
   ]
  },
  {
   "cell_type": "markdown",
   "id": "31dd26ec-697e-4c54-a59b-5b43f7cb954f",
   "metadata": {},
   "source": [
    "### 解釋\n",
    "給一數字 123\n",
    "\n",
    "有3個位數\n",
    "\n",
    "每個位數出來就是[ 1, 2, 3 ]\n",
    "\n",
    "因為有3個位數, 所以要把每個數字都變成三次方\n",
    "\n",
    "[1^3, 2^3, 3^3] = [1, 8, 27]\n",
    "\n",
    "1 + 8 + 27 = 36\n",
    "\n",
    "36 != 123 那就不是阿姆斯壯數\n",
    "\n"
   ]
  },
  {
   "cell_type": "markdown",
   "id": "a17e844d-25a0-4379-9ef2-43d40d5d6caa",
   "metadata": {},
   "source": [
    "1634 有 4個位數, 所以要把每個數字都變成四次方\n",
    "\n",
    "1634 -> [1, 6^4, 3^4, 4^4] = [1, 1296, 81, 256] => 1 + 1296 + 81 + 256 = 1634\n",
    "\n",
    "1634 是阿姆斯壯數"
   ]
  },
  {
   "cell_type": "markdown",
   "id": "650d655e-87cf-4147-9a50-e37d48e015d8",
   "metadata": {},
   "source": [
    "# 復習"
   ]
  },
  {
   "cell_type": "markdown",
   "id": "f40a0ad3-983a-49de-992a-109d809097de",
   "metadata": {},
   "source": [
    "## 函式(進階)"
   ]
  },
  {
   "cell_type": "markdown",
   "id": "58e173b8-3eb7-4002-85f6-478d619ef0f6",
   "metadata": {},
   "source": [
    "### 匿名匿式 (Lambda Functions)"
   ]
  },
  {
   "cell_type": "markdown",
   "id": "0cea8703-8adb-4700-81df-caaf90b2deac",
   "metadata": {},
   "source": [
    "### 預設值"
   ]
  },
  {
   "cell_type": "markdown",
   "id": "f5046d5f-03f1-4762-b57a-2b41a0864e9c",
   "metadata": {},
   "source": [
    "### positional arguments vs keyword arguments"
   ]
  },
  {
   "cell_type": "code",
   "execution_count": null,
   "id": "62048e73-ed81-41f6-ad2c-808c0386d0d4",
   "metadata": {},
   "outputs": [],
   "source": []
  }
 ],
 "metadata": {
  "kernelspec": {
   "display_name": "Python 3 (ipykernel)",
   "language": "python",
   "name": "python3"
  },
  "language_info": {
   "codemirror_mode": {
    "name": "ipython",
    "version": 3
   },
   "file_extension": ".py",
   "mimetype": "text/x-python",
   "name": "python",
   "nbconvert_exporter": "python",
   "pygments_lexer": "ipython3",
   "version": "3.12.2"
  }
 },
 "nbformat": 4,
 "nbformat_minor": 5
}
