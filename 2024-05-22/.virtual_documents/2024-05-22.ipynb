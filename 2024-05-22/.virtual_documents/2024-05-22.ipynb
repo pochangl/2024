














csv_file = 'https://raw.githubusercontent.com/plotly/datasets/master/solar.csv'








!curl -O "https://upload.wikimedia.org/wikipedia/commons/f/f4/Noise_salt_and_pepper.png"


!curl -O "https://upload.wikimedia.org/wikipedia/commons/d/d2/512x512-Gaussian-Noise.jpg"


!curl -O "https://upload.wikimedia.org/wikipedia/en/0/0a/Locator_Grid_double_size.png"


import numpy as np


matrix33 = np.arange(9)
matrix33.shape = (3, 3)
matrix33





matrix33.sum()


np.sum(matrix33)





matrix33.mean()


np.mean(matrix33)


np.sum(matrix33 / len(matrix33.ravel()))


kernel = np.ones_like(matrix33)
kernel


np.sum(matrix33 * kernel / len(kernel.ravel())





matrix55 = np.arange(4*4)
matrix55.shape = (4,4)
matrix55


kernel


matrix55[0:2, 0:2]


(matrix55[0:2, 0:2] * kernel / 9)
