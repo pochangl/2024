

















salt_paper = "https://upload.wikimedia.org/wikipedia/commons/f/f4/Noise_salt_and_pepper.png"
gaussian_noise = "https://upload.wikimedia.org/wikipedia/commons/d/d2/512x512-Gaussian-Noise.jpg"
grid = "https://upload.wikimedia.org/wikipedia/en/0/0a/Locator_Grid_double_size.png"


!curl -O "https://upload.wikimedia.org/wikipedia/commons/f/f4/Noise_salt_and_pepper.png"


!curl -O "https://upload.wikimedia.org/wikipedia/commons/d/d2/512x512-Gaussian-Noise.jpg"






