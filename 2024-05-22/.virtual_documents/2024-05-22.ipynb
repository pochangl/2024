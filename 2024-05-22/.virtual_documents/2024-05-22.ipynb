

















salt_paper_url = "https://upload.wikimedia.org/wikipedia/commons/f/f4/Noise_salt_and_pepper.png"
gaussian_noise_url = "https://upload.wikimedia.org/wikipedia/commons/d/d2/512x512-Gaussian-Noise.jpg"


!curl -O "https://upload.wikimedia.org/wikipedia/commons/f/f4/Noise_salt_and_pepper.png"






