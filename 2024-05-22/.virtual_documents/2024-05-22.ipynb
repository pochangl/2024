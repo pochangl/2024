














csv_file = 'https://raw.githubusercontent.com/plotly/datasets/master/solar.csv'








!curl -O "https://upload.wikimedia.org/wikipedia/commons/f/f4/Noise_salt_and_pepper.png"


!curl -O "https://upload.wikimedia.org/wikipedia/commons/d/d2/512x512-Gaussian-Noise.jpg"


!curl -O "https://upload.wikimedia.org/wikipedia/en/0/0a/Locator_Grid_double_size.png"


import numpy as np


matrix33 = np.arange(9)
matrix33.shape = (3, 3)
matrix33






