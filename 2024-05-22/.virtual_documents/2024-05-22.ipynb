














csv_file = 'https://raw.githubusercontent.com/plotly/datasets/master/solar.csv'








!curl -O "https://upload.wikimedia.org/wikipedia/commons/f/f4/Noise_salt_and_pepper.png"


!curl -O "https://upload.wikimedia.org/wikipedia/commons/d/d2/512x512-Gaussian-Noise.jpg"


!curl -O "https://upload.wikimedia.org/wikipedia/en/0/0a/Locator_Grid_double_size.png"


import numpy as np


matrix33 = np.arange(9)
matrix33.shape = (3, 3)
matrix33





matrix33.sum()


np.sum(matrix33)





matrix33.mean()


np.mean(matrix33)


np.sum(matrix33 / len(matrix33.ravel()))


kernel = np.ones_like(matrix33)
kernel


np.sum(matrix33 * kernel / len(kernel.ravel())





matrix44 = np.arange(4*4)
matrix44.shape = (4,4)
matrix44


kernel


matrix44[0:3, 0:3]


np.sum(matrix44[0:3, 0:3] * kernel / 9)


np.array([
    [np.sum(matrix44[0:3, 0:3] * kernel / 9), np.sum(matrix44[0:3, 1:4] * kernel / 9)],
    [np.sum(matrix44[1:4, 0:3] * kernel / 9), np.sum(matrix44[1:4, 1:4] * kernel / 9)]])


from scipy import ndimage


ndimage.convolve(matrix55, kernel) / 9





import cv2
import plotly.express as px


salt_pepper = cv2.imread('Noise_salt_and_pepper.png', cv2.IMREAD_GRAYSCALE)
px.imshow(salt_pepper, color_continuous_scale='gray')


mean_salt_pepper = ndimage.convolve(matrix55, kernel) / 9


salt_pepper.shape



