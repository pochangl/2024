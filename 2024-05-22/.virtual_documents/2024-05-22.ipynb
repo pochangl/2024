

















salt_paper_url = "https://www.researchgate.net/profile/Mirko-Myllykoski/publication/281448221/figure/fig9/AS:618233690329094@1524409806247/Two-examples-of-noisy-images-salt-and-pepper-noise-on-the-left-and-Gaussian-noise.png"

gaussian_noise_url = "https://upload.wikimedia.org/wikipedia/commons/d/d2/512x512-Gaussian-Noise.jpg"


!curl -P "https://www.researchgate.net/profile/Mirko-Myllykoski/publication/281448221/figure/fig9/AS:618233690329094@1524409806247/Two-examples-of-noisy-images-salt-and-pepper-noise-on-the-left-and-Gaussian-noise.png"



