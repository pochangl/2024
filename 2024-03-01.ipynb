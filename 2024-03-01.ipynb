{
 "cells": [
  {
   "cell_type": "code",
   "execution_count": null,
   "id": "60867402-4016-4945-b37f-e0d6fbecf9c7",
   "metadata": {},
   "outputs": [],
   "source": []
  },
  {
   "cell_type": "markdown",
   "id": "4acc05bb-5f4d-447d-ba60-631c4908fbec",
   "metadata": {},
   "source": [
    "# 1. 作業"
   ]
  },
  {
   "cell_type": "markdown",
   "id": "fe097244-5c1d-478f-9a80-68f5106a0211",
   "metadata": {},
   "source": [
    "## 起手式\n"
   ]
  },
  {
   "cell_type": "code",
   "execution_count": 142,
   "id": "afa00e59-a8e2-41dc-866f-19ca2faff224",
   "metadata": {},
   "outputs": [],
   "source": [
    "### 讀 input 數例"
   ]
  },
  {
   "cell_type": "code",
   "execution_count": 140,
   "id": "a5ebad02-aa52-4b7a-80d4-8a648d3fb6ec",
   "metadata": {},
   "outputs": [
    {
     "name": "stdin",
     "output_type": "stream",
     "text": [
      " 1 2 3 4\n"
     ]
    }
   ],
   "source": [
    "a = list(map(int, input().split()))"
   ]
  },
  {
   "cell_type": "markdown",
   "id": "12497811-632c-4380-97b6-75335793b4bd",
   "metadata": {},
   "source": [
    "## 第三題"
   ]
  },
  {
   "cell_type": "markdown",
   "id": "bf5dc15a-bc18-4863-819a-3b2b0231d866",
   "metadata": {},
   "source": [
    "### 題目解釋"
   ]
  },
  {
   "cell_type": "markdown",
   "id": "3e8dcddf-c7d9-46f6-8030-993e4e68f0c8",
   "metadata": {},
   "source": [
    "1. 程式會給你2組數字\n",
    "   \n",
    "舉例\n",
    "\n",
    "第一組數列A是 1 2 3 4\n",
    "\n",
    "第二組數列B是 3 4 5 6"
   ]
  },
  {
   "cell_type": "markdown",
   "id": "1251f173-1944-4f0e-b7fd-906a0eec7d85",
   "metadata": {},
   "source": [
    "2. 輸出的第一行是\"只存在數列Ａ的數字＂ - 例 1 2\n",
    "3. 輸出的第二行是＂只存在數列Ｂ的數字＂- 例 5 6\n",
    "4. 輸出的第三行是\"存在A也存在B的數字 - 例 3 4"
   ]
  },
  {
   "cell_type": "code",
   "execution_count": null,
   "id": "53c2a96a-ffc8-44c2-ab1d-e04e579488f1",
   "metadata": {},
   "outputs": [],
   "source": [
    "交集聯的東西使用 set 來做操作很適合\n"
   ]
  },
  {
   "cell_type": "markdown",
   "id": "b521be50-c578-4ee7-8059-116175d15036",
   "metadata": {},
   "source": [
    "輸出的順序很重要, 1 2 不能輸出成 2 1\n",
    "\n",
    "因為 set 是沒有順序的\n",
    "\n",
    "所以要把 set 轉換成 list 然後做排序"
   ]
  },
  {
   "cell_type": "markdown",
   "id": "985f7162-6c14-4b0d-8f63-62bc7b968b25",
   "metadata": {},
   "source": [
    "### 讀入 INPUT"
   ]
  },
  {
   "cell_type": "code",
   "execution_count": 7,
   "id": "e426936e-8dd9-444f-aae3-e553f1e33bb0",
   "metadata": {},
   "outputs": [
    {
     "name": "stdin",
     "output_type": "stream",
     "text": [
      " 1 2 3 4\n"
     ]
    }
   ],
   "source": [
    "# 模疑 第三題 input 第一行\n",
    "str1 = input()"
   ]
  },
  {
   "cell_type": "code",
   "execution_count": 9,
   "id": "3dfb6402-a0c4-421c-a7ea-6b473663d24f",
   "metadata": {},
   "outputs": [
    {
     "name": "stdin",
     "output_type": "stream",
     "text": [
      " 3 4 5 6\n"
     ]
    }
   ],
   "source": [
    "# 模擬 第三題 input 第二行\n",
    "str2 = input()"
   ]
  },
  {
   "cell_type": "code",
   "execution_count": 3,
   "id": "86878129-b8bd-4693-ae23-28b603747df8",
   "metadata": {},
   "outputs": [
    {
     "data": {
      "text/plain": [
       "'1 2 3 4'"
      ]
     },
     "execution_count": 3,
     "metadata": {},
     "output_type": "execute_result"
    }
   ],
   "source": [
    "str1"
   ]
  },
  {
   "cell_type": "code",
   "execution_count": 4,
   "id": "976faf55-d274-481a-9c65-40189cc96711",
   "metadata": {},
   "outputs": [
    {
     "data": {
      "text/plain": [
       "'3 4 5 6'"
      ]
     },
     "execution_count": 4,
     "metadata": {},
     "output_type": "execute_result"
    }
   ],
   "source": [
    "str2"
   ]
  },
  {
   "cell_type": "code",
   "execution_count": 11,
   "id": "d512f393-8549-45bb-b1f8-6b67b90810ee",
   "metadata": {},
   "outputs": [
    {
     "data": {
      "text/plain": [
       "{' ', '1', '2', '3', '4'}"
      ]
     },
     "execution_count": 11,
     "metadata": {},
     "output_type": "execute_result"
    }
   ],
   "source": [
    "set1 = set(str1)\n",
    "set1"
   ]
  },
  {
   "cell_type": "code",
   "execution_count": 12,
   "id": "8b72c3e1-33fc-46cb-8383-483cf83446c2",
   "metadata": {},
   "outputs": [
    {
     "data": {
      "text/plain": [
       "['1', '2', '3', '4']"
      ]
     },
     "execution_count": 12,
     "metadata": {},
     "output_type": "execute_result"
    }
   ],
   "source": [
    "str1.split()"
   ]
  },
  {
   "cell_type": "code",
   "execution_count": 14,
   "id": "b6f4bfac-4423-4874-a37e-fc017decc05a",
   "metadata": {},
   "outputs": [
    {
     "data": {
      "text/plain": [
       "{'1', '2', '3', '4'}"
      ]
     },
     "execution_count": 14,
     "metadata": {},
     "output_type": "execute_result"
    }
   ],
   "source": [
    "set1 = set(str1.split())\n",
    "set1"
   ]
  },
  {
   "cell_type": "code",
   "execution_count": 15,
   "id": "410e3d50-fb82-4ff7-b7c0-028906d1c10e",
   "metadata": {},
   "outputs": [
    {
     "data": {
      "text/plain": [
       "{'3', '4', '5', '6'}"
      ]
     },
     "execution_count": 15,
     "metadata": {},
     "output_type": "execute_result"
    }
   ],
   "source": [
    "set2 = set(str2.split())\n",
    "set2"
   ]
  },
  {
   "cell_type": "code",
   "execution_count": 16,
   "id": "c45777c2-dc4a-4c8f-97be-14a530819a93",
   "metadata": {},
   "outputs": [
    {
     "data": {
      "text/plain": [
       "{'1', '2'}"
      ]
     },
     "execution_count": 16,
     "metadata": {},
     "output_type": "execute_result"
    }
   ],
   "source": [
    "set1 - set2"
   ]
  },
  {
   "cell_type": "code",
   "execution_count": 18,
   "id": "49215826-b5c9-41df-a4e8-96876eeb4c0b",
   "metadata": {},
   "outputs": [
    {
     "data": {
      "text/plain": [
       "{'1', '2', '3', '4', '5', '6'}"
      ]
     },
     "execution_count": 18,
     "metadata": {},
     "output_type": "execute_result"
    }
   ],
   "source": [
    "set1 | set2"
   ]
  },
  {
   "cell_type": "code",
   "execution_count": 19,
   "id": "66903929-fc31-4966-9f7c-0edefc159bd7",
   "metadata": {},
   "outputs": [
    {
     "data": {
      "text/plain": [
       "{'5', '6'}"
      ]
     },
     "execution_count": 19,
     "metadata": {},
     "output_type": "execute_result"
    }
   ],
   "source": [
    "set2 - set1"
   ]
  },
  {
   "cell_type": "code",
   "execution_count": 20,
   "id": "77dc62b8-15ab-4064-9a1e-28f8a6ad24b6",
   "metadata": {},
   "outputs": [
    {
     "data": {
      "text/plain": [
       "{'3', '4'}"
      ]
     },
     "execution_count": 20,
     "metadata": {},
     "output_type": "execute_result"
    }
   ],
   "source": [
    "set2 & set1"
   ]
  },
  {
   "cell_type": "code",
   "execution_count": 21,
   "id": "bc4f943c-5801-4384-8e15-527243978fea",
   "metadata": {},
   "outputs": [
    {
     "name": "stdout",
     "output_type": "stream",
     "text": [
      "3 4\n"
     ]
    }
   ],
   "source": [
    "print(*(set2 & set1))"
   ]
  },
  {
   "cell_type": "code",
   "execution_count": 22,
   "id": "8cfec31e-1576-4cc0-9653-1118ca9b17b2",
   "metadata": {},
   "outputs": [],
   "source": [
    "list1 = list(set2 & set1)\n",
    "list1.sort()"
   ]
  },
  {
   "cell_type": "code",
   "execution_count": 23,
   "id": "458a90fb-7579-4fc7-9200-40a9a14fc3d6",
   "metadata": {},
   "outputs": [
    {
     "data": {
      "text/plain": [
       "['3', '4']"
      ]
     },
     "execution_count": 23,
     "metadata": {},
     "output_type": "execute_result"
    }
   ],
   "source": [
    "list1"
   ]
  },
  {
   "cell_type": "code",
   "execution_count": 24,
   "id": "1098592f-7f25-4e86-84dc-3ca93bda23fa",
   "metadata": {},
   "outputs": [
    {
     "name": "stdout",
     "output_type": "stream",
     "text": [
      "3 4\n"
     ]
    }
   ],
   "source": [
    "print(*list1)"
   ]
  },
  {
   "cell_type": "markdown",
   "id": "fcfda3cc-28a5-4f92-afda-e48901727089",
   "metadata": {},
   "source": [
    "print(*list1) 等於把 list1 容器裡的元素按照順序 print 出來"
   ]
  },
  {
   "cell_type": "code",
   "execution_count": 25,
   "id": "5466a672-f2c9-4dd5-acdf-cd682f5fa84b",
   "metadata": {},
   "outputs": [
    {
     "name": "stdout",
     "output_type": "stream",
     "text": [
      "3 4\n"
     ]
    }
   ],
   "source": [
    "print('3', '4')"
   ]
  },
  {
   "cell_type": "code",
   "execution_count": 26,
   "id": "c3b7203e-4270-40d4-ba0e-e071ef77332f",
   "metadata": {},
   "outputs": [
    {
     "name": "stdin",
     "output_type": "stream",
     "text": [
      " 1 2 3 10 11\n"
     ]
    }
   ],
   "source": [
    "a = input()"
   ]
  },
  {
   "cell_type": "code",
   "execution_count": 28,
   "id": "57d946a1-c869-4028-8988-d8a0e3751546",
   "metadata": {},
   "outputs": [
    {
     "data": {
      "text/plain": [
       "{'1', '10', '11', '2', '3'}"
      ]
     },
     "execution_count": 28,
     "metadata": {},
     "output_type": "execute_result"
    }
   ],
   "source": [
    "seta = set(a.split())\n",
    "seta"
   ]
  },
  {
   "cell_type": "code",
   "execution_count": 31,
   "id": "8d760ace-3981-425f-882c-c63234efa90b",
   "metadata": {},
   "outputs": [
    {
     "name": "stdout",
     "output_type": "stream",
     "text": [
      "2 11 1 10 3\n"
     ]
    }
   ],
   "source": [
    "print(*seta)"
   ]
  },
  {
   "cell_type": "code",
   "execution_count": 43,
   "id": "b8a5b6c7-3a7f-4868-bf7c-a0f439511108",
   "metadata": {},
   "outputs": [
    {
     "data": {
      "text/plain": [
       "['1', '10', '11', '2', '3']"
      ]
     },
     "execution_count": 43,
     "metadata": {},
     "output_type": "execute_result"
    }
   ],
   "source": [
    "lista = list(seta)\n",
    "lista.sort()\n",
    "lista"
   ]
  },
  {
   "cell_type": "markdown",
   "id": "7da91255-fa14-4395-8b4b-bacb6d282e1d",
   "metadata": {},
   "source": [
    "### SET 轉成 list"
   ]
  },
  {
   "cell_type": "code",
   "execution_count": 44,
   "id": "0433b7b8-fc70-4877-a28b-d56c68c16e31",
   "metadata": {},
   "outputs": [
    {
     "data": {
      "text/plain": [
       "[1, 2, 3, 10, 11]"
      ]
     },
     "execution_count": 44,
     "metadata": {},
     "output_type": "execute_result"
    }
   ],
   "source": [
    "lista = []\n",
    "for item in a.split():\n",
    "    lista.append(int(item))\n",
    "lista"
   ]
  },
  {
   "cell_type": "code",
   "execution_count": 42,
   "id": "7f13356d-0986-44b5-866b-8c63a2c76ad4",
   "metadata": {},
   "outputs": [
    {
     "data": {
      "text/plain": [
       "[1, 2, 3, 10, 11]"
      ]
     },
     "execution_count": 42,
     "metadata": {},
     "output_type": "execute_result"
    }
   ],
   "source": [
    "lista.sort()\n",
    "lista"
   ]
  },
  {
   "cell_type": "code",
   "execution_count": 45,
   "id": "7ee3703c-ec4d-48a0-8152-8878a9323602",
   "metadata": {},
   "outputs": [
    {
     "name": "stdout",
     "output_type": "stream",
     "text": [
      "1 2 3 10 11\n"
     ]
    }
   ],
   "source": [
    "print(*lista)"
   ]
  },
  {
   "cell_type": "markdown",
   "id": "d2fd33ef-5dc1-418c-a14e-ccfe69703674",
   "metadata": {},
   "source": [
    "### list append"
   ]
  },
  {
   "cell_type": "code",
   "execution_count": 33,
   "id": "5b585a1a-a234-4e4e-9612-efd1905c98bb",
   "metadata": {},
   "outputs": [
    {
     "data": {
      "text/plain": [
       "[]"
      ]
     },
     "execution_count": 33,
     "metadata": {},
     "output_type": "execute_result"
    }
   ],
   "source": [
    "l = []\n",
    "l"
   ]
  },
  {
   "cell_type": "code",
   "execution_count": 34,
   "id": "ea19f63d-0dbf-4a04-b1c9-44cdf78ddb5d",
   "metadata": {},
   "outputs": [],
   "source": [
    "l.append(1)"
   ]
  },
  {
   "cell_type": "code",
   "execution_count": 35,
   "id": "26aae944-e343-41fe-970e-8a39666c2246",
   "metadata": {},
   "outputs": [
    {
     "data": {
      "text/plain": [
       "[1]"
      ]
     },
     "execution_count": 35,
     "metadata": {},
     "output_type": "execute_result"
    }
   ],
   "source": [
    "l"
   ]
  },
  {
   "cell_type": "code",
   "execution_count": 36,
   "id": "5b573672-61ac-4b5c-9cf1-0a60197cb39a",
   "metadata": {},
   "outputs": [],
   "source": [
    "l.append(10)"
   ]
  },
  {
   "cell_type": "code",
   "execution_count": 37,
   "id": "9283fe15-96f3-4488-bb95-3ddb66ef5948",
   "metadata": {},
   "outputs": [
    {
     "data": {
      "text/plain": [
       "[1, 10]"
      ]
     },
     "execution_count": 37,
     "metadata": {},
     "output_type": "execute_result"
    }
   ],
   "source": [
    "l"
   ]
  },
  {
   "cell_type": "code",
   "execution_count": 38,
   "id": "16c621a4-e343-4f09-ae00-513e52cf707d",
   "metadata": {},
   "outputs": [],
   "source": [
    "l.append(0)"
   ]
  },
  {
   "cell_type": "code",
   "execution_count": 39,
   "id": "ed2ac6f2-885a-443d-960f-a0dcf0849776",
   "metadata": {
    "scrolled": true
   },
   "outputs": [
    {
     "data": {
      "text/plain": [
       "[1, 10, 0]"
      ]
     },
     "execution_count": 39,
     "metadata": {},
     "output_type": "execute_result"
    }
   ],
   "source": [
    "l"
   ]
  },
  {
   "cell_type": "markdown",
   "id": "77be99a9-34e0-4363-a295-9a767f0c2879",
   "metadata": {},
   "source": [
    "### split"
   ]
  },
  {
   "cell_type": "code",
   "execution_count": 56,
   "id": "253a4099-1d77-4389-86e1-8c9bd0458c9f",
   "metadata": {},
   "outputs": [
    {
     "name": "stdin",
     "output_type": "stream",
     "text": [
      " 1 2 3 10 20\n"
     ]
    }
   ],
   "source": [
    "a = input()"
   ]
  },
  {
   "cell_type": "code",
   "execution_count": 57,
   "id": "6b25efa3-fe55-433a-8012-b5dccfede596",
   "metadata": {},
   "outputs": [
    {
     "data": {
      "text/plain": [
       "{' ', '0', '1', '2', '3'}"
      ]
     },
     "execution_count": 57,
     "metadata": {},
     "output_type": "execute_result"
    }
   ],
   "source": [
    "set(a)"
   ]
  },
  {
   "cell_type": "code",
   "execution_count": 58,
   "id": "3170c850-0c01-45aa-b419-2d99df8cef09",
   "metadata": {},
   "outputs": [
    {
     "data": {
      "text/plain": [
       "['1', '2', '3', '10', '20']"
      ]
     },
     "execution_count": 58,
     "metadata": {},
     "output_type": "execute_result"
    }
   ],
   "source": [
    "a.split()"
   ]
  },
  {
   "cell_type": "markdown",
   "id": "4ec69545-a0cb-4640-8601-49793a03de99",
   "metadata": {},
   "source": [
    "#### 還原問題"
   ]
  },
  {
   "cell_type": "code",
   "execution_count": 69,
   "id": "2975af7b-4b9a-4145-9147-d7208d2c8c6b",
   "metadata": {},
   "outputs": [],
   "source": [
    "b = '\\r 1 2 3 b4'"
   ]
  },
  {
   "cell_type": "code",
   "execution_count": 70,
   "id": "61e7eab0-49cd-48a7-b386-6148d4018463",
   "metadata": {},
   "outputs": [
    {
     "data": {
      "text/plain": [
       "{'\\r', '1', '2', '3', '4'}"
      ]
     },
     "execution_count": 70,
     "metadata": {},
     "output_type": "execute_result"
    }
   ],
   "source": [
    "set_b = set(b)\n",
    "set_b"
   ]
  },
  {
   "cell_type": "code",
   "execution_count": 71,
   "id": "37e1fcaf-656d-4296-b79d-a055c7b0c0e6",
   "metadata": {},
   "outputs": [
    {
     "data": {
      "text/plain": [
       "['1234']"
      ]
     },
     "execution_count": 71,
     "metadata": {},
     "output_type": "execute_result"
    }
   ],
   "source": [
    "b.split()"
   ]
  },
  {
   "cell_type": "code",
   "execution_count": 72,
   "id": "c87c5d6d-b0c6-4dc3-b0f5-9a2556aa0df2",
   "metadata": {
    "collapsed": true,
    "jupyter": {
     "outputs_hidden": true
    }
   },
   "outputs": [
    {
     "ename": "ValueError",
     "evalue": "invalid literal for int() with base 10: '\\r'",
     "output_type": "error",
     "traceback": [
      "\u001b[1;31m---------------------------------------------------------------------------\u001b[0m",
      "\u001b[1;31mValueError\u001b[0m                                Traceback (most recent call last)",
      "Cell \u001b[1;32mIn[72], line 1\u001b[0m\n\u001b[1;32m----> 1\u001b[0m \u001b[38;5;28;43mlist\u001b[39;49m\u001b[43m(\u001b[49m\u001b[38;5;28;43mmap\u001b[39;49m\u001b[43m(\u001b[49m\u001b[38;5;28;43mint\u001b[39;49m\u001b[43m,\u001b[49m\u001b[43m \u001b[49m\u001b[43mset_b\u001b[49m\u001b[43m)\u001b[49m\u001b[43m)\u001b[49m\n",
      "\u001b[1;31mValueError\u001b[0m: invalid literal for int() with base 10: '\\r'"
     ]
    }
   ],
   "source": [
    "list(map(int, set_b))"
   ]
  },
  {
   "cell_type": "markdown",
   "id": "9c978b5c-4917-4055-ba3e-176d3a105c26",
   "metadata": {},
   "source": [
    "### 字串 set 轉成 字串 list"
   ]
  },
  {
   "cell_type": "code",
   "execution_count": 74,
   "id": "a8929418-6480-4cdd-9475-404edf11ea66",
   "metadata": {},
   "outputs": [
    {
     "name": "stdin",
     "output_type": "stream",
     "text": [
      " 1 2 10 20\n"
     ]
    }
   ],
   "source": [
    "a = input()"
   ]
  },
  {
   "cell_type": "code",
   "execution_count": 75,
   "id": "2640dbe2-a7ed-41b4-a4eb-82fdb538ad5e",
   "metadata": {},
   "outputs": [
    {
     "data": {
      "text/plain": [
       "['1', '2', '10', '20']"
      ]
     },
     "execution_count": 75,
     "metadata": {},
     "output_type": "execute_result"
    }
   ],
   "source": [
    "list_a = list(a.split())\n",
    "list_a"
   ]
  },
  {
   "cell_type": "code",
   "execution_count": 76,
   "id": "628e9258-cfc9-4176-a153-eda5f861b344",
   "metadata": {},
   "outputs": [
    {
     "data": {
      "text/plain": [
       "['1', '10', '2', '20']"
      ]
     },
     "execution_count": 76,
     "metadata": {},
     "output_type": "execute_result"
    }
   ],
   "source": [
    "list_a.sort()\n",
    "list_a"
   ]
  },
  {
   "cell_type": "code",
   "execution_count": 78,
   "id": "31ae3db6-4ebc-47de-a1bb-c80f1133f3ab",
   "metadata": {},
   "outputs": [
    {
     "data": {
      "text/plain": [
       "[1, 10, 2, 20]"
      ]
     },
     "execution_count": 78,
     "metadata": {},
     "output_type": "execute_result"
    }
   ],
   "source": [
    "list_a = list(map(int, list_a))\n",
    "list_a"
   ]
  },
  {
   "cell_type": "code",
   "execution_count": 80,
   "id": "1efd847b-e593-44b9-abe4-1695b116f14f",
   "metadata": {
    "scrolled": true
   },
   "outputs": [
    {
     "data": {
      "text/plain": [
       "[1, 2, 10, 20]"
      ]
     },
     "execution_count": 80,
     "metadata": {},
     "output_type": "execute_result"
    }
   ],
   "source": [
    "list_a.sort()\n",
    "list_a"
   ]
  },
  {
   "cell_type": "markdown",
   "id": "3731fce4-eb7c-40e3-933d-4733c1c7cf3a",
   "metadata": {},
   "source": [
    "### zero judge print 容器"
   ]
  },
  {
   "cell_type": "code",
   "execution_count": 83,
   "id": "8da146f8-d052-4587-8b41-363bd0bac09a",
   "metadata": {},
   "outputs": [],
   "source": [
    "a = [1, 2, 3, 4] # 想輸出 1 2 3 4 而不是[1, 2, 3, 4]"
   ]
  },
  {
   "cell_type": "code",
   "execution_count": 84,
   "id": "c3a7a988-b7f5-47da-8f8c-5a8e1378f5e7",
   "metadata": {},
   "outputs": [
    {
     "name": "stdout",
     "output_type": "stream",
     "text": [
      "[1, 2, 3, 4]\n"
     ]
    }
   ],
   "source": [
    "print(a)"
   ]
  },
  {
   "cell_type": "code",
   "execution_count": 85,
   "id": "41a817e5-ae96-4bfa-bf71-4bd362b85bbf",
   "metadata": {},
   "outputs": [
    {
     "name": "stdout",
     "output_type": "stream",
     "text": [
      "1 2 3 4\n"
     ]
    }
   ],
   "source": [
    "print(*a)"
   ]
  },
  {
   "cell_type": "code",
   "execution_count": 86,
   "id": "3e567b3b-8685-4d51-8699-fef7d0cded16",
   "metadata": {},
   "outputs": [
    {
     "name": "stdout",
     "output_type": "stream",
     "text": [
      "1 2 3 4\n",
      "1 2 3 4\n",
      "1 2 3 4\n"
     ]
    }
   ],
   "source": [
    "# 等同於\n",
    "a = [1, 2, 3, 4]\n",
    "\n",
    "print(*a)\n",
    "print(*[1, 2, 3, 4])\n",
    "print(1, 2, 3, 4)"
   ]
  },
  {
   "cell_type": "markdown",
   "id": "8e1587d7-5f76-4042-a970-4af1b2ecadc1",
   "metadata": {},
   "source": [
    "# 2. 發問"
   ]
  },
  {
   "cell_type": "markdown",
   "id": "51264f93-7712-4c57-afda-a088d37f0d89",
   "metadata": {},
   "source": [
    "## 容器內容物的轉換"
   ]
  },
  {
   "cell_type": "code",
   "execution_count": 88,
   "id": "df6c8f1f-6a0e-445a-a2f1-9b620ab2fb1b",
   "metadata": {},
   "outputs": [],
   "source": [
    "a = ['1', '2', '3', '10']"
   ]
  },
  {
   "cell_type": "code",
   "execution_count": 89,
   "id": "63bf2566-bcd1-49ba-ab46-1e87883a496c",
   "metadata": {},
   "outputs": [
    {
     "data": {
      "text/plain": [
       "['1', '10', '2', '3']"
      ]
     },
     "execution_count": 89,
     "metadata": {},
     "output_type": "execute_result"
    }
   ],
   "source": [
    "a.sort()\n",
    "a"
   ]
  },
  {
   "cell_type": "code",
   "execution_count": 94,
   "id": "0897d1f3-ba03-46ec-bf78-5293bb9e4640",
   "metadata": {},
   "outputs": [
    {
     "data": {
      "text/plain": [
       "<map at 0x2de579454b0>"
      ]
     },
     "execution_count": 94,
     "metadata": {},
     "output_type": "execute_result"
    }
   ],
   "source": [
    "### map 轉換\n",
    "m = map(int, a)\n",
    "m"
   ]
  },
  {
   "cell_type": "code",
   "execution_count": 96,
   "id": "ac5acb44-da00-4518-8a18-d70933a14f29",
   "metadata": {},
   "outputs": [
    {
     "data": {
      "text/plain": [
       "[1, 10, 2, 3]"
      ]
     },
     "execution_count": 96,
     "metadata": {},
     "output_type": "execute_result"
    }
   ],
   "source": [
    "m = list(m)\n",
    "m"
   ]
  },
  {
   "cell_type": "markdown",
   "id": "8bdb0777-df36-4d49-9c1d-4c00077ecfa5",
   "metadata": {},
   "source": [
    "### list comprehension"
   ]
  },
  {
   "cell_type": "code",
   "execution_count": 99,
   "id": "916daa6d-dc04-4497-8b07-e5c8747c000b",
   "metadata": {
    "scrolled": true
   },
   "outputs": [
    {
     "data": {
      "text/plain": [
       "[1, 10, 2, 3]"
      ]
     },
     "execution_count": 99,
     "metadata": {},
     "output_type": "execute_result"
    }
   ],
   "source": [
    "l = [int(item) for item in a ]\n",
    "l"
   ]
  },
  {
   "cell_type": "markdown",
   "id": "e52fb617-95d7-432e-992e-b3be72e3d7b4",
   "metadata": {},
   "source": [
    "### list comprehension vs for loop"
   ]
  },
  {
   "cell_type": "code",
   "execution_count": 105,
   "id": "b7f3fc67-6984-4b37-aa45-9fe150c8d72a",
   "metadata": {},
   "outputs": [
    {
     "data": {
      "text/plain": [
       "[1, 100, 4, 9]"
      ]
     },
     "execution_count": 105,
     "metadata": {},
     "output_type": "execute_result"
    }
   ],
   "source": [
    "l2 = [num * num for num in l]\n",
    "l2"
   ]
  },
  {
   "cell_type": "code",
   "execution_count": 106,
   "id": "6e247064-f751-4142-aac8-62e3e6bafe1c",
   "metadata": {
    "scrolled": true
   },
   "outputs": [
    {
     "data": {
      "text/plain": [
       "[1, 100, 4, 9]"
      ]
     },
     "execution_count": 106,
     "metadata": {},
     "output_type": "execute_result"
    }
   ],
   "source": [
    "l3 = []\n",
    "for num in l:\n",
    "    l3.append(num * num)\n",
    "l3"
   ]
  },
  {
   "cell_type": "markdown",
   "id": "59b35d69-d96b-4a6f-8549-8a1a98768cff",
   "metadata": {},
   "source": [
    "## 資料型態轉換"
   ]
  },
  {
   "cell_type": "code",
   "execution_count": 109,
   "id": "b7983bd3-33bb-4f01-b363-c6b130ad4981",
   "metadata": {},
   "outputs": [],
   "source": [
    "a = \"10\""
   ]
  },
  {
   "cell_type": "code",
   "execution_count": 114,
   "id": "c880e6ba-cb27-45cc-8d32-ebbe0d23e9ff",
   "metadata": {},
   "outputs": [
    {
     "data": {
      "text/plain": [
       "'10'"
      ]
     },
     "execution_count": 114,
     "metadata": {},
     "output_type": "execute_result"
    }
   ],
   "source": [
    "a"
   ]
  },
  {
   "cell_type": "code",
   "execution_count": 115,
   "id": "b53d3369-f457-42b8-be53-74911fdaa256",
   "metadata": {},
   "outputs": [
    {
     "data": {
      "text/plain": [
       "str"
      ]
     },
     "execution_count": 115,
     "metadata": {},
     "output_type": "execute_result"
    }
   ],
   "source": [
    "type(a)"
   ]
  },
  {
   "cell_type": "code",
   "execution_count": 116,
   "id": "64917b67-99d5-4c38-b0b6-56d0e3cf2d68",
   "metadata": {},
   "outputs": [],
   "source": [
    "i = int(a)"
   ]
  },
  {
   "cell_type": "code",
   "execution_count": 117,
   "id": "5dfd2d7f-e62d-4529-9592-70dc688f9a37",
   "metadata": {},
   "outputs": [
    {
     "data": {
      "text/plain": [
       "10"
      ]
     },
     "execution_count": 117,
     "metadata": {},
     "output_type": "execute_result"
    }
   ],
   "source": [
    "i"
   ]
  },
  {
   "cell_type": "code",
   "execution_count": 118,
   "id": "60d77c65-694b-4691-85bb-25fc2e23f079",
   "metadata": {
    "scrolled": true
   },
   "outputs": [
    {
     "data": {
      "text/plain": [
       "int"
      ]
     },
     "execution_count": 118,
     "metadata": {},
     "output_type": "execute_result"
    }
   ],
   "source": [
    "type(i)"
   ]
  },
  {
   "cell_type": "markdown",
   "id": "a288cbd7-7a19-451e-81c9-382dcfec1d0f",
   "metadata": {},
   "source": [
    "## for loop"
   ]
  },
  {
   "cell_type": "markdown",
   "id": "13206990-32be-4e75-93e2-873895ca7d6b",
   "metadata": {},
   "source": [
    "### 重覆執行一樣的動作"
   ]
  },
  {
   "cell_type": "code",
   "execution_count": 121,
   "id": "9355d48e-daea-423d-832a-96e745e9cc2e",
   "metadata": {},
   "outputs": [
    {
     "name": "stdout",
     "output_type": "stream",
     "text": [
      "1\n",
      "1\n",
      "1\n",
      "1\n",
      "1\n"
     ]
    }
   ],
   "source": [
    "print('1')\n",
    "print('1')\n",
    "print('1')\n",
    "print('1')\n",
    "print('1')"
   ]
  },
  {
   "cell_type": "code",
   "execution_count": 122,
   "id": "118a382f-18e4-4bba-a28b-aab5a30b478e",
   "metadata": {},
   "outputs": [
    {
     "name": "stdout",
     "output_type": "stream",
     "text": [
      "1\n",
      "1\n",
      "1\n",
      "1\n",
      "1\n"
     ]
    }
   ],
   "source": [
    "for i in range(5):\n",
    "    print('1')"
   ]
  },
  {
   "cell_type": "markdown",
   "id": "956adacd-c919-49a9-9e97-ea8c7d6b8115",
   "metadata": {},
   "source": [
    "### range vs list"
   ]
  },
  {
   "cell_type": "code",
   "execution_count": 126,
   "id": "eded20b1-b8f6-4e57-85c0-5ff4fbbf4881",
   "metadata": {},
   "outputs": [
    {
     "name": "stdout",
     "output_type": "stream",
     "text": [
      "0\n",
      "1\n",
      "2\n",
      "3\n",
      "4\n"
     ]
    }
   ],
   "source": [
    "for i in range(5):\n",
    "    print(i)"
   ]
  },
  {
   "cell_type": "code",
   "execution_count": 127,
   "id": "61d321ce-597c-4df1-a77d-dfa454aed793",
   "metadata": {},
   "outputs": [
    {
     "name": "stdout",
     "output_type": "stream",
     "text": [
      "0\n",
      "1\n",
      "2\n",
      "3\n",
      "4\n"
     ]
    }
   ],
   "source": [
    "for i in [0, 1, 2, 3, 4]:\n",
    "    print(i)"
   ]
  },
  {
   "cell_type": "code",
   "execution_count": 128,
   "id": "eeb5fd06-1bbb-4983-ac6a-e84e1008db71",
   "metadata": {},
   "outputs": [
    {
     "data": {
      "text/plain": [
       "range(0, 5)"
      ]
     },
     "execution_count": 128,
     "metadata": {},
     "output_type": "execute_result"
    }
   ],
   "source": [
    "range(5)"
   ]
  },
  {
   "cell_type": "code",
   "execution_count": 129,
   "id": "ff755004-e1b7-492e-aa3a-f80bca917525",
   "metadata": {},
   "outputs": [
    {
     "data": {
      "text/plain": [
       "[0, 1, 2, 3, 4]"
      ]
     },
     "execution_count": 129,
     "metadata": {},
     "output_type": "execute_result"
    }
   ],
   "source": [
    "list(range(5))"
   ]
  },
  {
   "cell_type": "markdown",
   "id": "e403d197-587f-467c-8c2c-389605ec185b",
   "metadata": {},
   "source": [
    "### for loop list"
   ]
  },
  {
   "cell_type": "code",
   "execution_count": 131,
   "id": "8bdfd8c3-81f6-4099-b2e0-3ce1d48f0a12",
   "metadata": {},
   "outputs": [
    {
     "name": "stdout",
     "output_type": "stream",
     "text": [
      "3\n",
      "5\n",
      "7\n",
      "9\n"
     ]
    }
   ],
   "source": [
    "l = [3, 5, 7, 9]\n",
    "for i in l:\n",
    "    print(i)\n"
   ]
  },
  {
   "cell_type": "code",
   "execution_count": 135,
   "id": "ed34e882-7889-4cbd-a6ec-3a62951aa0e1",
   "metadata": {},
   "outputs": [
    {
     "name": "stdout",
     "output_type": "stream",
     "text": [
      "3\n",
      "5\n",
      "7\n",
      "9\n"
     ]
    }
   ],
   "source": [
    "t = (3, 5, 7, 9)\n",
    "for i in t:\n",
    "    print(i)"
   ]
  },
  {
   "cell_type": "code",
   "execution_count": 136,
   "id": "bd06bea2-249c-452e-b046-b349139029af",
   "metadata": {},
   "outputs": [
    {
     "name": "stdout",
     "output_type": "stream",
     "text": [
      "key1\n",
      "key2\n"
     ]
    }
   ],
   "source": [
    "d = {'key1': 2, 'key2': 4}\n",
    "for i in d:\n",
    "    print(i)"
   ]
  },
  {
   "cell_type": "markdown",
   "id": "19f1e46d-57d6-4685-bc18-a65afeed7a60",
   "metadata": {},
   "source": [
    "# 3. 復習"
   ]
  },
  {
   "cell_type": "code",
   "execution_count": 141,
   "id": "0461b706-7ba8-41b2-b1d2-b46508021922",
   "metadata": {},
   "outputs": [
    {
     "data": {
      "text/plain": [
       "[1, 2, 3, 4]"
      ]
     },
     "execution_count": 141,
     "metadata": {},
     "output_type": "execute_result"
    }
   ],
   "source": [
    "a"
   ]
  },
  {
   "cell_type": "code",
   "execution_count": null,
   "id": "b27837b6-0565-4b40-9298-d9e4c6d3f333",
   "metadata": {},
   "outputs": [],
   "source": []
  }
 ],
 "metadata": {
  "kernelspec": {
   "display_name": "Python 3 (ipykernel)",
   "language": "python",
   "name": "python3"
  },
  "language_info": {
   "codemirror_mode": {
    "name": "ipython",
    "version": 3
   },
   "file_extension": ".py",
   "mimetype": "text/x-python",
   "name": "python",
   "nbconvert_exporter": "python",
   "pygments_lexer": "ipython3",
   "version": "3.12.2"
  }
 },
 "nbformat": 4,
 "nbformat_minor": 5
}
