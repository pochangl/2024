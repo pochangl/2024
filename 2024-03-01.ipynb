{
 "cells": [
  {
   "cell_type": "markdown",
   "id": "4acc05bb-5f4d-447d-ba60-631c4908fbec",
   "metadata": {},
   "source": [
    "# 1. 作業"
   ]
  },
  {
   "cell_type": "markdown",
   "id": "8e1587d7-5f76-4042-a970-4af1b2ecadc1",
   "metadata": {},
   "source": [
    "# 2. 發問"
   ]
  },
  {
   "cell_type": "markdown",
   "id": "19f1e46d-57d6-4685-bc18-a65afeed7a60",
   "metadata": {},
   "source": [
    "# 3. 復習"
   ]
  },
  {
   "cell_type": "code",
   "execution_count": 7,
   "id": "e426936e-8dd9-444f-aae3-e553f1e33bb0",
   "metadata": {},
   "outputs": [
    {
     "name": "stdin",
     "output_type": "stream",
     "text": [
      " 1 2 3 4\n"
     ]
    }
   ],
   "source": [
    "# 模疑 第三題 input 第一行\n",
    "str1 = input()"
   ]
  },
  {
   "cell_type": "code",
   "execution_count": 9,
   "id": "3dfb6402-a0c4-421c-a7ea-6b473663d24f",
   "metadata": {},
   "outputs": [
    {
     "name": "stdin",
     "output_type": "stream",
     "text": [
      " 3 4 5 6\n"
     ]
    }
   ],
   "source": [
    "# 模擬 第三題 input 第二行\n",
    "str2 = input()"
   ]
  },
  {
   "cell_type": "code",
   "execution_count": 3,
   "id": "86878129-b8bd-4693-ae23-28b603747df8",
   "metadata": {},
   "outputs": [
    {
     "data": {
      "text/plain": [
       "'1 2 3 4'"
      ]
     },
     "execution_count": 3,
     "metadata": {},
     "output_type": "execute_result"
    }
   ],
   "source": [
    "str1"
   ]
  },
  {
   "cell_type": "code",
   "execution_count": 4,
   "id": "976faf55-d274-481a-9c65-40189cc96711",
   "metadata": {},
   "outputs": [
    {
     "data": {
      "text/plain": [
       "'3 4 5 6'"
      ]
     },
     "execution_count": 4,
     "metadata": {},
     "output_type": "execute_result"
    }
   ],
   "source": [
    "str2"
   ]
  },
  {
   "cell_type": "code",
   "execution_count": 11,
   "id": "d512f393-8549-45bb-b1f8-6b67b90810ee",
   "metadata": {},
   "outputs": [
    {
     "data": {
      "text/plain": [
       "{' ', '1', '2', '3', '4'}"
      ]
     },
     "execution_count": 11,
     "metadata": {},
     "output_type": "execute_result"
    }
   ],
   "source": [
    "set1 = set(str1)\n",
    "set1"
   ]
  },
  {
   "cell_type": "code",
   "execution_count": 12,
   "id": "8b72c3e1-33fc-46cb-8383-483cf83446c2",
   "metadata": {},
   "outputs": [
    {
     "data": {
      "text/plain": [
       "['1', '2', '3', '4']"
      ]
     },
     "execution_count": 12,
     "metadata": {},
     "output_type": "execute_result"
    }
   ],
   "source": [
    "str1.split()"
   ]
  },
  {
   "cell_type": "code",
   "execution_count": 14,
   "id": "b6f4bfac-4423-4874-a37e-fc017decc05a",
   "metadata": {},
   "outputs": [
    {
     "data": {
      "text/plain": [
       "{'1', '2', '3', '4'}"
      ]
     },
     "execution_count": 14,
     "metadata": {},
     "output_type": "execute_result"
    }
   ],
   "source": [
    "set1 = set(str1.split())\n",
    "set1"
   ]
  },
  {
   "cell_type": "code",
   "execution_count": 15,
   "id": "410e3d50-fb82-4ff7-b7c0-028906d1c10e",
   "metadata": {},
   "outputs": [
    {
     "data": {
      "text/plain": [
       "{'3', '4', '5', '6'}"
      ]
     },
     "execution_count": 15,
     "metadata": {},
     "output_type": "execute_result"
    }
   ],
   "source": [
    "set2 = set(str2.split())\n",
    "set2"
   ]
  },
  {
   "cell_type": "code",
   "execution_count": 16,
   "id": "c45777c2-dc4a-4c8f-97be-14a530819a93",
   "metadata": {},
   "outputs": [
    {
     "data": {
      "text/plain": [
       "{'1', '2'}"
      ]
     },
     "execution_count": 16,
     "metadata": {},
     "output_type": "execute_result"
    }
   ],
   "source": [
    "set1 - set2"
   ]
  },
  {
   "cell_type": "code",
   "execution_count": 18,
   "id": "49215826-b5c9-41df-a4e8-96876eeb4c0b",
   "metadata": {},
   "outputs": [
    {
     "data": {
      "text/plain": [
       "{'1', '2', '3', '4', '5', '6'}"
      ]
     },
     "execution_count": 18,
     "metadata": {},
     "output_type": "execute_result"
    }
   ],
   "source": [
    "set1 | set2"
   ]
  },
  {
   "cell_type": "code",
   "execution_count": 19,
   "id": "66903929-fc31-4966-9f7c-0edefc159bd7",
   "metadata": {},
   "outputs": [
    {
     "data": {
      "text/plain": [
       "{'5', '6'}"
      ]
     },
     "execution_count": 19,
     "metadata": {},
     "output_type": "execute_result"
    }
   ],
   "source": [
    "set2 - set1"
   ]
  },
  {
   "cell_type": "code",
   "execution_count": 20,
   "id": "77dc62b8-15ab-4064-9a1e-28f8a6ad24b6",
   "metadata": {},
   "outputs": [
    {
     "data": {
      "text/plain": [
       "{'3', '4'}"
      ]
     },
     "execution_count": 20,
     "metadata": {},
     "output_type": "execute_result"
    }
   ],
   "source": [
    "set2 & set1"
   ]
  },
  {
   "cell_type": "code",
   "execution_count": 21,
   "id": "bc4f943c-5801-4384-8e15-527243978fea",
   "metadata": {},
   "outputs": [
    {
     "name": "stdout",
     "output_type": "stream",
     "text": [
      "3 4\n"
     ]
    }
   ],
   "source": [
    "print(*(set2 & set1))"
   ]
  },
  {
   "cell_type": "code",
   "execution_count": 22,
   "id": "8cfec31e-1576-4cc0-9653-1118ca9b17b2",
   "metadata": {},
   "outputs": [],
   "source": [
    "list1 = list(set2 & set1)\n",
    "list1.sort()"
   ]
  },
  {
   "cell_type": "code",
   "execution_count": 23,
   "id": "458a90fb-7579-4fc7-9200-40a9a14fc3d6",
   "metadata": {},
   "outputs": [
    {
     "data": {
      "text/plain": [
       "['3', '4']"
      ]
     },
     "execution_count": 23,
     "metadata": {},
     "output_type": "execute_result"
    }
   ],
   "source": [
    "list1"
   ]
  },
  {
   "cell_type": "code",
   "execution_count": 24,
   "id": "1098592f-7f25-4e86-84dc-3ca93bda23fa",
   "metadata": {},
   "outputs": [
    {
     "name": "stdout",
     "output_type": "stream",
     "text": [
      "3 4\n"
     ]
    }
   ],
   "source": [
    "print(*list1)"
   ]
  },
  {
   "cell_type": "markdown",
   "id": "fcfda3cc-28a5-4f92-afda-e48901727089",
   "metadata": {},
   "source": [
    "print(*list1) 等於把 list1 容器裡的元素按照順序 print 出來"
   ]
  },
  {
   "cell_type": "code",
   "execution_count": 25,
   "id": "5466a672-f2c9-4dd5-acdf-cd682f5fa84b",
   "metadata": {},
   "outputs": [
    {
     "name": "stdout",
     "output_type": "stream",
     "text": [
      "3 4\n"
     ]
    }
   ],
   "source": [
    "print('3', '4')"
   ]
  },
  {
   "cell_type": "code",
   "execution_count": null,
   "id": "c3b7203e-4270-40d4-ba0e-e071ef77332f",
   "metadata": {},
   "outputs": [],
   "source": []
  }
 ],
 "metadata": {
  "kernelspec": {
   "display_name": "Python 3 (ipykernel)",
   "language": "python",
   "name": "python3"
  },
  "language_info": {
   "codemirror_mode": {
    "name": "ipython",
    "version": 3
   },
   "file_extension": ".py",
   "mimetype": "text/x-python",
   "name": "python",
   "nbconvert_exporter": "python",
   "pygments_lexer": "ipython3",
   "version": "3.12.2"
  }
 },
 "nbformat": 4,
 "nbformat_minor": 5
}
