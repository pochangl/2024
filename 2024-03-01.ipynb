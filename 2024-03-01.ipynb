{
 "cells": [
  {
   "cell_type": "markdown",
   "id": "4acc05bb-5f4d-447d-ba60-631c4908fbec",
   "metadata": {},
   "source": [
    "# 1. 作業"
   ]
  },
  {
   "cell_type": "markdown",
   "id": "8e1587d7-5f76-4042-a970-4af1b2ecadc1",
   "metadata": {},
   "source": [
    "# 2. 發問"
   ]
  },
  {
   "cell_type": "markdown",
   "id": "19f1e46d-57d6-4685-bc18-a65afeed7a60",
   "metadata": {},
   "source": [
    "# 3. 復習"
   ]
  },
  {
   "cell_type": "code",
   "execution_count": null,
   "id": "e426936e-8dd9-444f-aae3-e553f1e33bb0",
   "metadata": {},
   "outputs": [],
   "source": []
  },
  {
   "cell_type": "code",
   "execution_count": null,
   "id": "3dfb6402-a0c4-421c-a7ea-6b473663d24f",
   "metadata": {},
   "outputs": [],
   "source": []
  }
 ],
 "metadata": {
  "kernelspec": {
   "display_name": "Python 3 (ipykernel)",
   "language": "python",
   "name": "python3"
  },
  "language_info": {
   "codemirror_mode": {
    "name": "ipython",
    "version": 3
   },
   "file_extension": ".py",
   "mimetype": "text/x-python",
   "name": "python",
   "nbconvert_exporter": "python",
   "pygments_lexer": "ipython3",
   "version": "3.12.2"
  }
 },
 "nbformat": 4,
 "nbformat_minor": 5
}
