{
 "cells": [
  {
   "cell_type": "markdown",
   "metadata": {},
   "source": [
    "# 作業提問"
   ]
  },
  {
   "cell_type": "markdown",
   "metadata": {},
   "source": [
    "## k934. 質數\n",
    "https://zerojudge.tw/ShowProblem?problemid=k934"
   ]
  },
  {
   "cell_type": "markdown",
   "metadata": {},
   "source": [
    "## k970. 質因數分解\n",
    "https://zerojudge.tw/ShowProblem?problemid=k970"
   ]
  },
  {
   "cell_type": "markdown",
   "metadata": {},
   "source": [
    "## k971. 最小公倍數\n",
    "https://zerojudge.tw/ShowProblem?problemid=k971"
   ]
  },
  {
   "cell_type": "markdown",
   "metadata": {},
   "source": [
    "# 視覺班提問"
   ]
  },
  {
   "cell_type": "markdown",
   "metadata": {},
   "source": []
  }
 ],
 "metadata": {
  "language_info": {
   "name": "python"
  }
 },
 "nbformat": 4,
 "nbformat_minor": 2
}
