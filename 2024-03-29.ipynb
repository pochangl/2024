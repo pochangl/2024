{
 "cells": [
  {
   "cell_type": "markdown",
   "metadata": {},
   "source": [
    "# 作業提問"
   ]
  },
  {
   "cell_type": "markdown",
   "metadata": {},
   "source": [
    "## k934. 質數\n",
    "https://zerojudge.tw/ShowProblem?problemid=k934"
   ]
  },
  {
   "cell_type": "markdown",
   "metadata": {},
   "source": [
    "## k970. 質因數分解\n",
    "https://zerojudge.tw/ShowProblem?problemid=k970"
   ]
  },
  {
   "cell_type": "markdown",
   "metadata": {},
   "source": [
    "## k971. 最小公倍數\n",
    "https://zerojudge.tw/ShowProblem?problemid=k971"
   ]
  },
  {
   "cell_type": "markdown",
   "metadata": {},
   "source": [
    "## 課程復習"
   ]
  },
  {
   "cell_type": "code",
   "execution_count": 1,
   "metadata": {},
   "outputs": [],
   "source": [
    "import numpy as np"
   ]
  },
  {
   "cell_type": "code",
   "execution_count": 2,
   "metadata": {},
   "outputs": [
    {
     "data": {
      "text/plain": [
       "[1, 2, 3, 1, 2, 3]"
      ]
     },
     "execution_count": 2,
     "metadata": {},
     "output_type": "execute_result"
    }
   ],
   "source": [
    "a = [1, 2, 3]  * 2\n",
    "a"
   ]
  },
  {
   "cell_type": "code",
   "execution_count": 3,
   "metadata": {},
   "outputs": [
    {
     "data": {
      "text/plain": [
       "[1, 2, 3, 1, 2, 3]"
      ]
     },
     "execution_count": 3,
     "metadata": {},
     "output_type": "execute_result"
    }
   ],
   "source": [
    "b = [1, 2, 3]\n",
    "b + b"
   ]
  },
  {
   "cell_type": "code",
   "execution_count": 8,
   "metadata": {},
   "outputs": [
    {
     "data": {
      "text/plain": [
       "array([1, 2, 3])"
      ]
     },
     "execution_count": 8,
     "metadata": {},
     "output_type": "execute_result"
    }
   ],
   "source": [
    "a_np = np.array([1, 2, 3])\n",
    "a_np"
   ]
  },
  {
   "cell_type": "code",
   "execution_count": 9,
   "metadata": {},
   "outputs": [
    {
     "data": {
      "text/plain": [
       "array([2, 4, 6])"
      ]
     },
     "execution_count": 9,
     "metadata": {},
     "output_type": "execute_result"
    }
   ],
   "source": [
    "a_np * 2"
   ]
  },
  {
   "cell_type": "code",
   "execution_count": 27,
   "metadata": {},
   "outputs": [
    {
     "data": {
      "text/plain": [
       "array([[0, 1, 2],\n",
       "       [3, 4, 5],\n",
       "       [6, 7, 8]])"
      ]
     },
     "execution_count": 27,
     "metadata": {},
     "output_type": "execute_result"
    }
   ],
   "source": [
    "data = list(range(9))\n",
    "a = np.array(data)\n",
    "a.shape = (3, 3)\n",
    "a"
   ]
  },
  {
   "cell_type": "markdown",
   "metadata": {},
   "source": [
    "### universal function"
   ]
  },
  {
   "cell_type": "code",
   "execution_count": 28,
   "metadata": {
    "scrolled": true
   },
   "outputs": [
    {
     "data": {
      "text/plain": [
       "1.0"
      ]
     },
     "execution_count": 28,
     "metadata": {},
     "output_type": "execute_result"
    }
   ],
   "source": [
    "import math\n",
    "math.sin(math.pi / 2)"
   ]
  },
  {
   "cell_type": "code",
   "execution_count": 29,
   "metadata": {},
   "outputs": [
    {
     "data": {
      "text/plain": [
       "1.0"
      ]
     },
     "execution_count": 29,
     "metadata": {},
     "output_type": "execute_result"
    }
   ],
   "source": [
    "import numpy as np\n",
    "np.sin(math.pi/2)"
   ]
  },
  {
   "cell_type": "code",
   "execution_count": 31,
   "metadata": {},
   "outputs": [
    {
     "data": {
      "text/plain": [
       "array([[ 0.        ,  0.84147098,  0.90929743],\n",
       "       [ 0.14112001, -0.7568025 , -0.95892427],\n",
       "       [-0.2794155 ,  0.6569866 ,  0.98935825]])"
      ]
     },
     "execution_count": 31,
     "metadata": {},
     "output_type": "execute_result"
    }
   ],
   "source": [
    "np.sin(a)"
   ]
  },
  {
   "cell_type": "code",
   "execution_count": 32,
   "metadata": {},
   "outputs": [
    {
     "ename": "TypeError",
     "evalue": "only length-1 arrays can be converted to Python scalars",
     "output_type": "error",
     "traceback": [
      "\u001b[1;31m---------------------------------------------------------------------------\u001b[0m",
      "\u001b[1;31mTypeError\u001b[0m                                 Traceback (most recent call last)",
      "Cell \u001b[1;32mIn[32], line 1\u001b[0m\n\u001b[1;32m----> 1\u001b[0m \u001b[43mmath\u001b[49m\u001b[38;5;241;43m.\u001b[39;49m\u001b[43msin\u001b[49m\u001b[43m(\u001b[49m\u001b[43ma\u001b[49m\u001b[43m)\u001b[49m\n",
      "\u001b[1;31mTypeError\u001b[0m: only length-1 arrays can be converted to Python scalars"
     ]
    }
   ],
   "source": [
    "math.sin(a)"
   ]
  },
  {
   "cell_type": "markdown",
   "metadata": {},
   "source": [
    "math 的 sin 函式一次只能處理一個數字\n",
    "\n",
    "numpy 的 sin 函式一次能處理所有的 numpy array 的數字"
   ]
  },
  {
   "cell_type": "code",
   "execution_count": 34,
   "metadata": {},
   "outputs": [],
   "source": [
    "import pandas as pd"
   ]
  },
  {
   "cell_type": "code",
   "execution_count": 37,
   "metadata": {},
   "outputs": [],
   "source": [
    "tables = pd.read_html(\"https://zh.wikipedia.org/zh-tw/%E8%B4%A2%E5%AF%8C%E4%B8%96%E7%95%8C500%E5%BC%BA\")"
   ]
  },
  {
   "cell_type": "code",
   "execution_count": 39,
   "metadata": {},
   "outputs": [],
   "source": [
    "df = tables[0]"
   ]
  },
  {
   "cell_type": "markdown",
   "metadata": {},
   "source": [
    "pandas 的資料組構主要有兩個東西\n",
    "\n",
    "DataFrame - 類似 Table 的東西\n",
    "\n",
    "Series - 類似 List 的東西 \n",
    "\n"
   ]
  },
  {
   "cell_type": "code",
   "execution_count": 41,
   "metadata": {
    "scrolled": true
   },
   "outputs": [
    {
     "data": {
      "text/html": [
       "<div>\n",
       "<style scoped>\n",
       "    .dataframe tbody tr th:only-of-type {\n",
       "        vertical-align: middle;\n",
       "    }\n",
       "\n",
       "    .dataframe tbody tr th {\n",
       "        vertical-align: top;\n",
       "    }\n",
       "\n",
       "    .dataframe thead th {\n",
       "        text-align: right;\n",
       "    }\n",
       "</style>\n",
       "<table border=\"1\" class=\"dataframe\">\n",
       "  <thead>\n",
       "    <tr style=\"text-align: right;\">\n",
       "      <th></th>\n",
       "      <th>排名</th>\n",
       "      <th>公司</th>\n",
       "      <th>國家/地區</th>\n",
       "      <th>產業</th>\n",
       "      <th>收入 (十億美元)</th>\n",
       "    </tr>\n",
       "  </thead>\n",
       "  <tbody>\n",
       "    <tr>\n",
       "      <th>0</th>\n",
       "      <td>1</td>\n",
       "      <td>沃爾瑪</td>\n",
       "      <td>美國</td>\n",
       "      <td>零售業</td>\n",
       "      <td>$611.3</td>\n",
       "    </tr>\n",
       "    <tr>\n",
       "      <th>1</th>\n",
       "      <td>2</td>\n",
       "      <td>沙烏地阿拉伯國家石油公司</td>\n",
       "      <td>沙烏地阿拉伯</td>\n",
       "      <td>能源</td>\n",
       "      <td>$603.7</td>\n",
       "    </tr>\n",
       "    <tr>\n",
       "      <th>2</th>\n",
       "      <td>3</td>\n",
       "      <td>國家電網</td>\n",
       "      <td>中國</td>\n",
       "      <td>能源</td>\n",
       "      <td>$530.0</td>\n",
       "    </tr>\n",
       "    <tr>\n",
       "      <th>3</th>\n",
       "      <td>4</td>\n",
       "      <td>亞馬遜公司</td>\n",
       "      <td>美國</td>\n",
       "      <td>網際網路服務和零售</td>\n",
       "      <td>$514.0</td>\n",
       "    </tr>\n",
       "    <tr>\n",
       "      <th>4</th>\n",
       "      <td>5</td>\n",
       "      <td>中國石油天然氣集團</td>\n",
       "      <td>中國</td>\n",
       "      <td>石油</td>\n",
       "      <td>$483.1</td>\n",
       "    </tr>\n",
       "    <tr>\n",
       "      <th>5</th>\n",
       "      <td>6</td>\n",
       "      <td>中國石油化工集團</td>\n",
       "      <td>中國</td>\n",
       "      <td>石油</td>\n",
       "      <td>$471.2</td>\n",
       "    </tr>\n",
       "    <tr>\n",
       "      <th>6</th>\n",
       "      <td>7</td>\n",
       "      <td>艾克森美孚</td>\n",
       "      <td>美國</td>\n",
       "      <td>石油</td>\n",
       "      <td>$413.7</td>\n",
       "    </tr>\n",
       "    <tr>\n",
       "      <th>7</th>\n",
       "      <td>8</td>\n",
       "      <td>蘋果公司</td>\n",
       "      <td>美國</td>\n",
       "      <td>科技</td>\n",
       "      <td>$394.3</td>\n",
       "    </tr>\n",
       "    <tr>\n",
       "      <th>8</th>\n",
       "      <td>9</td>\n",
       "      <td>殼牌</td>\n",
       "      <td>英國</td>\n",
       "      <td>石油</td>\n",
       "      <td>$386.2</td>\n",
       "    </tr>\n",
       "    <tr>\n",
       "      <th>9</th>\n",
       "      <td>10</td>\n",
       "      <td>聯合健康集團</td>\n",
       "      <td>美國</td>\n",
       "      <td>健康護理</td>\n",
       "      <td>$324.2</td>\n",
       "    </tr>\n",
       "  </tbody>\n",
       "</table>\n",
       "</div>"
      ],
      "text/plain": [
       "   排名            公司   國家/地區         產業 收入 (十億美元)\n",
       "0   1           沃爾瑪      美國        零售業    $611.3\n",
       "1   2  沙烏地阿拉伯國家石油公司  沙烏地阿拉伯         能源    $603.7\n",
       "2   3          國家電網      中國         能源    $530.0\n",
       "3   4         亞馬遜公司      美國  網際網路服務和零售    $514.0\n",
       "4   5     中國石油天然氣集團      中國         石油    $483.1\n",
       "5   6      中國石油化工集團      中國         石油    $471.2\n",
       "6   7         艾克森美孚      美國         石油    $413.7\n",
       "7   8          蘋果公司      美國         科技    $394.3\n",
       "8   9            殼牌      英國         石油    $386.2\n",
       "9  10        聯合健康集團      美國       健康護理    $324.2"
      ]
     },
     "execution_count": 41,
     "metadata": {},
     "output_type": "execute_result"
    }
   ],
   "source": [
    "df"
   ]
  },
  {
   "cell_type": "code",
   "execution_count": 45,
   "metadata": {},
   "outputs": [
    {
     "data": {
      "text/plain": [
       "pandas.core.frame.DataFrame"
      ]
     },
     "execution_count": 45,
     "metadata": {},
     "output_type": "execute_result"
    }
   ],
   "source": [
    "type(df)"
   ]
  },
  {
   "cell_type": "code",
   "execution_count": 47,
   "metadata": {
    "scrolled": true
   },
   "outputs": [
    {
     "data": {
      "text/plain": [
       "0             沃爾瑪\n",
       "1    沙烏地阿拉伯國家石油公司\n",
       "2            國家電網\n",
       "3           亞馬遜公司\n",
       "4       中國石油天然氣集團\n",
       "5        中國石油化工集團\n",
       "6           艾克森美孚\n",
       "7            蘋果公司\n",
       "8              殼牌\n",
       "9          聯合健康集團\n",
       "Name: 公司, dtype: object"
      ]
     },
     "execution_count": 47,
     "metadata": {},
     "output_type": "execute_result"
    }
   ],
   "source": [
    "df['公司']"
   ]
  },
  {
   "cell_type": "code",
   "execution_count": 46,
   "metadata": {},
   "outputs": [
    {
     "data": {
      "text/plain": [
       "pandas.core.series.Series"
      ]
     },
     "execution_count": 46,
     "metadata": {},
     "output_type": "execute_result"
    }
   ],
   "source": [
    "type(df['公司'])"
   ]
  },
  {
   "cell_type": "code",
   "execution_count": 48,
   "metadata": {},
   "outputs": [
    {
     "data": {
      "text/plain": [
       "0    $611.3\n",
       "1    $603.7\n",
       "2    $530.0\n",
       "3    $514.0\n",
       "4    $483.1\n",
       "5    $471.2\n",
       "6    $413.7\n",
       "7    $394.3\n",
       "8    $386.2\n",
       "9    $324.2\n",
       "Name: 收入 (十億美元), dtype: object"
      ]
     },
     "execution_count": 48,
     "metadata": {},
     "output_type": "execute_result"
    }
   ],
   "source": [
    "df['收入 (十億美元)']"
   ]
  },
  {
   "cell_type": "code",
   "execution_count": 53,
   "metadata": {},
   "outputs": [
    {
     "name": "stderr",
     "output_type": "stream",
     "text": [
      "C:\\Users\\charlie\\AppData\\Local\\Temp\\ipykernel_10376\\1609996323.py:1: UserWarning: Pandas doesn't allow columns to be created via a new attribute name - see https://pandas.pydata.org/pandas-docs/stable/indexing.html#attribute-access\n",
      "  df.indexes = ['ranking', 'company', 'country/area', 'industry', 'income', 'income2']\n"
     ]
    }
   ],
   "source": [
    "df.indexes = ['ranking', 'company', 'country/area', 'industry', 'income', 'income2']"
   ]
  },
  {
   "cell_type": "code",
   "execution_count": 52,
   "metadata": {},
   "outputs": [
    {
     "data": {
      "text/html": [
       "<div>\n",
       "<style scoped>\n",
       "    .dataframe tbody tr th:only-of-type {\n",
       "        vertical-align: middle;\n",
       "    }\n",
       "\n",
       "    .dataframe tbody tr th {\n",
       "        vertical-align: top;\n",
       "    }\n",
       "\n",
       "    .dataframe thead th {\n",
       "        text-align: right;\n",
       "    }\n",
       "</style>\n",
       "<table border=\"1\" class=\"dataframe\">\n",
       "  <thead>\n",
       "    <tr style=\"text-align: right;\">\n",
       "      <th></th>\n",
       "      <th>排名</th>\n",
       "      <th>公司</th>\n",
       "      <th>國家/地區</th>\n",
       "      <th>產業</th>\n",
       "      <th>收入 (十億美元)</th>\n",
       "      <th>收入 X 2</th>\n",
       "    </tr>\n",
       "  </thead>\n",
       "  <tbody>\n",
       "    <tr>\n",
       "      <th>0</th>\n",
       "      <td>1</td>\n",
       "      <td>沃爾瑪</td>\n",
       "      <td>美國</td>\n",
       "      <td>零售業</td>\n",
       "      <td>$611.3</td>\n",
       "      <td>$611.3</td>\n",
       "    </tr>\n",
       "    <tr>\n",
       "      <th>1</th>\n",
       "      <td>2</td>\n",
       "      <td>沙烏地阿拉伯國家石油公司</td>\n",
       "      <td>沙烏地阿拉伯</td>\n",
       "      <td>能源</td>\n",
       "      <td>$603.7</td>\n",
       "      <td>$603.7</td>\n",
       "    </tr>\n",
       "    <tr>\n",
       "      <th>2</th>\n",
       "      <td>3</td>\n",
       "      <td>國家電網</td>\n",
       "      <td>中國</td>\n",
       "      <td>能源</td>\n",
       "      <td>$530.0</td>\n",
       "      <td>$530.0</td>\n",
       "    </tr>\n",
       "    <tr>\n",
       "      <th>3</th>\n",
       "      <td>4</td>\n",
       "      <td>亞馬遜公司</td>\n",
       "      <td>美國</td>\n",
       "      <td>網際網路服務和零售</td>\n",
       "      <td>$514.0</td>\n",
       "      <td>$514.0</td>\n",
       "    </tr>\n",
       "    <tr>\n",
       "      <th>4</th>\n",
       "      <td>5</td>\n",
       "      <td>中國石油天然氣集團</td>\n",
       "      <td>中國</td>\n",
       "      <td>石油</td>\n",
       "      <td>$483.1</td>\n",
       "      <td>$483.1</td>\n",
       "    </tr>\n",
       "    <tr>\n",
       "      <th>5</th>\n",
       "      <td>6</td>\n",
       "      <td>中國石油化工集團</td>\n",
       "      <td>中國</td>\n",
       "      <td>石油</td>\n",
       "      <td>$471.2</td>\n",
       "      <td>$471.2</td>\n",
       "    </tr>\n",
       "    <tr>\n",
       "      <th>6</th>\n",
       "      <td>7</td>\n",
       "      <td>艾克森美孚</td>\n",
       "      <td>美國</td>\n",
       "      <td>石油</td>\n",
       "      <td>$413.7</td>\n",
       "      <td>$413.7</td>\n",
       "    </tr>\n",
       "    <tr>\n",
       "      <th>7</th>\n",
       "      <td>8</td>\n",
       "      <td>蘋果公司</td>\n",
       "      <td>美國</td>\n",
       "      <td>科技</td>\n",
       "      <td>$394.3</td>\n",
       "      <td>$394.3</td>\n",
       "    </tr>\n",
       "    <tr>\n",
       "      <th>8</th>\n",
       "      <td>9</td>\n",
       "      <td>殼牌</td>\n",
       "      <td>英國</td>\n",
       "      <td>石油</td>\n",
       "      <td>$386.2</td>\n",
       "      <td>$386.2</td>\n",
       "    </tr>\n",
       "    <tr>\n",
       "      <th>9</th>\n",
       "      <td>10</td>\n",
       "      <td>聯合健康集團</td>\n",
       "      <td>美國</td>\n",
       "      <td>健康護理</td>\n",
       "      <td>$324.2</td>\n",
       "      <td>$324.2</td>\n",
       "    </tr>\n",
       "  </tbody>\n",
       "</table>\n",
       "</div>"
      ],
      "text/plain": [
       "   排名            公司   國家/地區         產業 收入 (十億美元)  收入 X 2\n",
       "0   1           沃爾瑪      美國        零售業    $611.3  $611.3\n",
       "1   2  沙烏地阿拉伯國家石油公司  沙烏地阿拉伯         能源    $603.7  $603.7\n",
       "2   3          國家電網      中國         能源    $530.0  $530.0\n",
       "3   4         亞馬遜公司      美國  網際網路服務和零售    $514.0  $514.0\n",
       "4   5     中國石油天然氣集團      中國         石油    $483.1  $483.1\n",
       "5   6      中國石油化工集團      中國         石油    $471.2  $471.2\n",
       "6   7         艾克森美孚      美國         石油    $413.7  $413.7\n",
       "7   8          蘋果公司      美國         科技    $394.3  $394.3\n",
       "8   9            殼牌      英國         石油    $386.2  $386.2\n",
       "9  10        聯合健康集團      美國       健康護理    $324.2  $324.2"
      ]
     },
     "execution_count": 52,
     "metadata": {},
     "output_type": "execute_result"
    }
   ],
   "source": [
    "df"
   ]
  },
  {
   "cell_type": "markdown",
   "metadata": {},
   "source": [
    "# 視覺班提問"
   ]
  },
  {
   "cell_type": "markdown",
   "metadata": {},
   "source": [
    "np.ndarray(shape=(2,2), dtype=float, order='F')"
   ]
  },
  {
   "cell_type": "code",
   "execution_count": null,
   "metadata": {},
   "outputs": [],
   "source": []
  }
 ],
 "metadata": {
  "kernelspec": {
   "display_name": "Python 3 (ipykernel)",
   "language": "python",
   "name": "python3"
  },
  "language_info": {
   "codemirror_mode": {
    "name": "ipython",
    "version": 3
   },
   "file_extension": ".py",
   "mimetype": "text/x-python",
   "name": "python",
   "nbconvert_exporter": "python",
   "pygments_lexer": "ipython3",
   "version": "3.12.2"
  }
 },
 "nbformat": 4,
 "nbformat_minor": 4
}
