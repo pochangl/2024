{
 "cells": [
  {
   "cell_type": "markdown",
   "id": "dcc9544d-9057-4a5b-8ef5-9ec211bb400d",
   "metadata": {},
   "source": [
    "# 基礎班"
   ]
  },
  {
   "cell_type": "markdown",
   "id": "ad4260da-aa53-4ce8-befa-63c0fc8575cd",
   "metadata": {},
   "source": [
    "變數\n",
    "```python\n",
    "a = 1\n",
    "```"
   ]
  },
  {
   "cell_type": "markdown",
   "id": "8a4ea909-9431-4df4-be22-807dc8a451aa",
   "metadata": {},
   "source": [
    "### 四則運算\n",
    "```python\n",
    "a = 1\n",
    "b = 2\n",
    "\n",
    "a + b\n",
    "a * b\n",
    "a / b\n",
    "a % b\n",
    "```"
   ]
  },
  {
   "cell_type": "markdown",
   "id": "831c4675-0702-48a0-b85b-d3364083f75e",
   "metadata": {},
   "source": [
    "\n",
    "### 函式\n",
    "```python\n",
    "\n",
    "def add(a, b):\n",
    "    return a + b\n",
    "\n",
    "/// 函式呼叫\n",
    "print(add(1, 2))\n",
    "```"
   ]
  },
  {
   "cell_type": "markdown",
   "id": "5e6c3af7-1d8b-4a44-8583-6ad6f249bead",
   "metadata": {},
   "source": [
    "###導入套件\n",
    "\n",
    "```python\n",
    "from matplotlib.pyplot as plt\n",
    "\n",
    "```"
   ]
  },
  {
   "cell_type": "markdown",
   "id": "9686d3b1-44a9-453d-804d-c1386eda4e90",
   "metadata": {},
   "source": [
    "### 基本資料型態\n",
    "* str - 字串 \"abcdef\"\n",
    "* bool - 布林值 True, False\n",
    "* int - 正整數 1, 2, 3, 4\n",
    "* float - 1.2"
   ]
  },
  {
   "cell_type": "markdown",
   "id": "1502ceab-b0c7-4eae-b306-10a8f8ae638b",
   "metadata": {},
   "source": [
    "### 容器形別\n",
    "\n",
    "* tuple - (1, 2, 3, 4)\n",
    "* list - [1, 2, 3, 4]\n",
    "* set - {1, 2, 3, 4}\n",
    "* dict - {'key1': 1, 'value1': 2}"
   ]
  },
  {
   "cell_type": "markdown",
   "id": "de9f2be6-8764-424d-8b8d-078ae26c5a3a",
   "metadata": {},
   "source": [
    "#### 問, tuple 與 list 的差異\n",
    "tuple 不可更動\n",
    "\n",
    "list 可以更動"
   ]
  },
  {
   "cell_type": "code",
   "execution_count": null,
   "id": "5c0e74a6-d47a-4978-8ee3-701e238b710a",
   "metadata": {},
   "outputs": [],
   "source": [
    "t = (1, 2, 3)\n",
    "l = [1, 2, 3]"
   ]
  },
  {
   "cell_type": "code",
   "execution_count": null,
   "id": "e01e8c13-1f7a-4e76-a027-d2ef84e069f7",
   "metadata": {},
   "outputs": [],
   "source": [
    "l[0] = 5\n",
    "l"
   ]
  },
  {
   "cell_type": "code",
   "execution_count": null,
   "id": "3a5ebd16-68b7-4ecf-a7a0-ae1a07b168e2",
   "metadata": {},
   "outputs": [],
   "source": [
    "t[0] = 5"
   ]
  },
  {
   "cell_type": "code",
   "execution_count": null,
   "id": "3afffe4f-d5ec-49f0-8b1c-74d5613cfb3a",
   "metadata": {},
   "outputs": [],
   "source": [
    "t[1:]"
   ]
  },
  {
   "cell_type": "code",
   "execution_count": null,
   "id": "24a9191e-180a-476b-a383-af748ebeb6f4",
   "metadata": {},
   "outputs": [],
   "source": [
    "l[1:]"
   ]
  },
  {
   "cell_type": "code",
   "execution_count": null,
   "id": "105fa7dc-892f-419d-8def-105030bb297f",
   "metadata": {},
   "outputs": [],
   "source": []
  },
  {
   "cell_type": "markdown",
   "id": "fbc97659-9763-4cac-8a16-d1189e89914f",
   "metadata": {},
   "source": [
    "### 使用到的套件\n",
    "```python\n",
    "\n",
    "// 資料整理\n",
    "import pandas\n",
    "\n",
    "// 數學計算, 向量計算\n",
    "import numpy\n",
    "\n",
    "// 製圖\n",
    "import plotly.express as px\n",
    "import matplotlib\n",
    "\n",
    "// 抓網路資料\n",
    "import requests\n",
    "```"
   ]
  },
  {
   "cell_type": "markdown",
   "id": "5ba5c18a-4b4b-4349-b0fc-ae2344c0bafa",
   "metadata": {},
   "source": [
    "## 綜合練習"
   ]
  },
  {
   "cell_type": "markdown",
   "id": "2fe6a80d-39f7-404f-9a87-830652e70c9a",
   "metadata": {},
   "source": [
    "下載 kaggle 資料\n",
    "https://www.kaggle.com/datasets/dillonmyrick/bike-store-sample-database"
   ]
  },
  {
   "cell_type": "markdown",
   "id": "81c6509e-e9f1-48b3-8cd3-c4a488d09e3e",
   "metadata": {},
   "source": [
    "### 練習1\n",
    "使用 pandas 讀入customers.csv  orders.csv"
   ]
  },
  {
   "cell_type": "code",
   "execution_count": null,
   "id": "a15cdce4-ae29-4060-bd36-44aa12f8c15a",
   "metadata": {},
   "outputs": [],
   "source": [
    "import pandas as pd"
   ]
  },
  {
   "cell_type": "code",
   "execution_count": null,
   "id": "b523944e-efbe-4c90-ad51-e9eb60bdf575",
   "metadata": {},
   "outputs": [],
   "source": [
    "customers = pd.read_csv('customers.csv')\n",
    "customers"
   ]
  },
  {
   "cell_type": "code",
   "execution_count": null,
   "id": "011c79cb-550f-4b06-bbbf-54a4be5b15c2",
   "metadata": {},
   "outputs": [],
   "source": [
    "orders = pd.read_csv('orders.csv')\n",
    "orders"
   ]
  },
  {
   "cell_type": "code",
   "execution_count": null,
   "id": "f70eb78b-7965-4f25-bc58-4231384accca",
   "metadata": {},
   "outputs": [],
   "source": [
    "# 讀其它資料夾的檔案\n",
    "\n",
    "# 相對路徑\n",
    "pd.read_csv('data/brands.csv')\n",
    "\n",
    "# 絕對路征\n",
    "pd.read_csv('C:\\\\data\\\\brands.csv')"
   ]
  },
  {
   "cell_type": "markdown",
   "id": "0fad3333-3f7e-48d9-ba3e-55e894173396",
   "metadata": {},
   "source": [
    "### 練習二\n",
    "將 customers 跟 orders 合併成一個 DataFrame\n",
    "\n",
    "需要利用 customers 與 orders 裡面的 customer_id 作為合併的依據\n",
    "\n",
    "使用 pandas 的 merge\n",
    "\n",
    "https://pandas.pydata.org/docs/reference/api/pandas.merge.html"
   ]
  },
  {
   "cell_type": "code",
   "execution_count": null,
   "id": "6c0bece8-2092-48b2-82d2-bb8fa2d0f5c3",
   "metadata": {},
   "outputs": [],
   "source": [
    "orders.columns"
   ]
  },
  {
   "cell_type": "code",
   "execution_count": null,
   "id": "694438af-6e02-4d0c-bd0c-49c97f2e91c5",
   "metadata": {
    "scrolled": true
   },
   "outputs": [],
   "source": [
    "merged = pd.merge(left=customers, right=orders, on='customer_id')\n",
    "merged[['customer_id', 'first_name', 'last_name', 'order_id', 'order_status']]"
   ]
  },
  {
   "cell_type": "markdown",
   "id": "2735fef2-0e8e-4067-87fd-2c4a4bbe3d2c",
   "metadata": {},
   "source": [
    "### 練習3\n",
    "找出 Le Wood 所有訂單\n",
    "\n",
    "first_name Le\n",
    "\n",
    "last_name Wood\n"
   ]
  },
  {
   "cell_type": "code",
   "execution_count": null,
   "id": "a42c2ced-5f53-44e8-a045-53b1d1575ef1",
   "metadata": {},
   "outputs": [],
   "source": [
    "filters = (merged['first_name'] == 'Le') & (merged['last_name'] == 'Wood')\n",
    "merged[filters]"
   ]
  },
  {
   "cell_type": "code",
   "execution_count": null,
   "id": "fb8f0acc-bdf5-4562-ae7a-608256dfb9f7",
   "metadata": {},
   "outputs": [],
   "source": [
    "merged[(merged['first_name'] == 'Le') & (merged['last_name'] == 'Wood')]"
   ]
  },
  {
   "cell_type": "code",
   "execution_count": null,
   "id": "15c55ea2-9481-40b4-abd5-4581e0158369",
   "metadata": {},
   "outputs": [],
   "source": [
    "merged.query('first_name == \"Le\" & last_name == \"Wood\"')"
   ]
  },
  {
   "cell_type": "markdown",
   "id": "7e2b12b2-2683-43d6-86d2-6de991cc7bfa",
   "metadata": {},
   "source": [
    "### 練習 4\n",
    "\n",
    "計算 customer_id 等於 1 的人有多少訂單\n"
   ]
  },
  {
   "cell_type": "code",
   "execution_count": null,
   "id": "c4588034-abfb-42d1-babc-17dae8398db7",
   "metadata": {},
   "outputs": [],
   "source": [
    "filter1 = merged['customer_id'] == 1\n",
    "merged[filter1]['customer_id'].count()"
   ]
  },
  {
   "cell_type": "markdown",
   "id": "81b7d918-04e2-43ce-bebd-bf1330596183",
   "metadata": {},
   "source": [
    "# 影像班"
   ]
  },
  {
   "cell_type": "markdown",
   "id": "f4731de0-9ff4-4809-9d41-85f675fbadc1",
   "metadata": {},
   "source": [
    "作業 01\n",
    "請計算底下其中一張 cell 圖片裡面總共有幾個cell。\n",
    "\n",
    "https://www.nexcelom.com/wp-content/uploads/2020/07/trypan-blue-stained-cho-cells.jpg\n",
    "\n",
    "https://www.news-medical.net/image.axd?picture=2020%2F4%2Fart2-1-3.jpg\n",
    "\n",
    "https://media-us.amboss.com/media/thumbs/big_5769bf9d1ee41.jpg"
   ]
  },
  {
   "cell_type": "code",
   "execution_count": null,
   "id": "861253cb-df83-44c7-8b86-1c05cf74dc92",
   "metadata": {},
   "outputs": [],
   "source": [
    "!curl -O https://media-us.amboss.com/media/thumbs/big_5769bf9d1ee41.jpg"
   ]
  },
  {
   "cell_type": "code",
   "execution_count": null,
   "id": "625515b7-e041-48d3-aaab-89eb489d92a7",
   "metadata": {},
   "outputs": [],
   "source": [
    "import cv2"
   ]
  },
  {
   "cell_type": "code",
   "execution_count": null,
   "id": "dc86e7ed-2baf-428e-92c6-d6523dc1f29a",
   "metadata": {},
   "outputs": [],
   "source": [
    "original = cv2.imread('big_5769bf9d1ee41.jpg', cv2.IMREAD_GRAYSCALE)"
   ]
  },
  {
   "cell_type": "code",
   "execution_count": null,
   "id": "5c97175f-2f1e-4f0c-8405-38b2475f3468",
   "metadata": {},
   "outputs": [],
   "source": [
    "import plotly.express as px\n",
    "px.imshow(original, color_continuous_scale='gray')"
   ]
  },
  {
   "cell_type": "code",
   "execution_count": null,
   "id": "382fb34f-e18c-438f-a01a-748154f6a86a",
   "metadata": {},
   "outputs": [],
   "source": [
    "_, binary = cv2.threshold(original, 200, 255, cv2.THRESH_BINARY)"
   ]
  },
  {
   "cell_type": "code",
   "execution_count": null,
   "id": "bfb7f88d-27de-4aa9-998d-830cca71f0ec",
   "metadata": {},
   "outputs": [],
   "source": [
    "px.imshow(binary, color_continuous_scale='gray')"
   ]
  },
  {
   "cell_type": "code",
   "execution_count": null,
   "id": "cf363e30-a0c8-41c6-8a0c-077cf9e570a8",
   "metadata": {},
   "outputs": [],
   "source": [
    "binary_inv = 255 - binary\n",
    "px.imshow(binary_inv, color_continuous_scale='gray')"
   ]
  },
  {
   "cell_type": "code",
   "execution_count": null,
   "id": "a408d6e3-3ad9-4de0-ae72-7e602b5b4d5d",
   "metadata": {},
   "outputs": [],
   "source": [
    "_, binary3 = cv2.threshold(original, 200, 255, cv2.THRESH_BINARY_INV)\n",
    "px.imshow(binary3, color_continuous_scale='gray')"
   ]
  },
  {
   "cell_type": "code",
   "execution_count": null,
   "id": "d4d264ae-84de-49cd-a3a6-c0bb3b5c9374",
   "metadata": {},
   "outputs": [],
   "source": [
    "# open 的操作,  erode 再 diluate\n",
    "kernel = cv2.getStructuringElement(cv2.MORPH_RECT, (3, 3))\n",
    "eroded = cv2.erode(binary3, kernel)"
   ]
  },
  {
   "cell_type": "code",
   "execution_count": null,
   "id": "c120693e-756a-4d3c-b0d5-784ad1e9a4c1",
   "metadata": {},
   "outputs": [],
   "source": [
    "px.imshow(eroded, color_continuous_scale='gray')"
   ]
  },
  {
   "cell_type": "code",
   "execution_count": null,
   "id": "18ef21f9-4b86-48fa-9d7a-1f35c90637b2",
   "metadata": {
    "scrolled": true
   },
   "outputs": [],
   "source": [
    "opened = cv2.dilate(eroded, kernel)\n",
    "px.imshow(opened, color_continuous_scale='gray')"
   ]
  },
  {
   "cell_type": "code",
   "execution_count": null,
   "id": "cf78c21a-0b2f-4ceb-9484-48bca12c5da0",
   "metadata": {},
   "outputs": [],
   "source": [
    "contours, hierarchy = cv2.findContours(opened, cv2.RETR_EXTERNAL, cv2.CHAIN_APPROX_SIMPLE)"
   ]
  },
  {
   "cell_type": "code",
   "execution_count": null,
   "id": "576d72d5-f698-4fc4-97e0-c19b466862ec",
   "metadata": {},
   "outputs": [],
   "source": [
    "processed = original.copy()\n",
    "for (i, c) in enumerate(contours):\n",
    "  (x, y, w, h) = cv2.boundingRect(c)\n",
    "  cv2.rectangle(processed, (x, y), (x+w, y+h), (0, 0, 255), 3)\n",
    "  cv2.putText(processed, f\"{i+1}\", (x, y - 5), 2, 0.5, (0, 0, 255), 2)\n",
    "px.imshow(processed)"
   ]
  },
  {
   "cell_type": "raw",
   "id": "3d63d2d5-99a7-4995-98ee-94b2244866ff",
   "metadata": {},
   "source": [
    "contours 有多組邊界的資訊"
   ]
  },
  {
   "cell_type": "code",
   "execution_count": null,
   "id": "4e6e0743-fd7d-4a29-944d-86537a9ff0fd",
   "metadata": {},
   "outputs": [],
   "source": [
    "# 取得第一組邊界的資訊\n",
    "contours[0]"
   ]
  },
  {
   "cell_type": "code",
   "execution_count": null,
   "id": "32e96469-4b1e-49bc-8b2c-1023b11c4408",
   "metadata": {},
   "outputs": [],
   "source": [
    "# 取得第一組邊界的正方向\n",
    "cv2.boundingRect(contours[0])"
   ]
  },
  {
   "cell_type": "markdown",
   "id": "1059cb95-c560-4f18-98bb-833fa75e4888",
   "metadata": {},
   "source": [
    "### enumerate 解釋"
   ]
  },
  {
   "cell_type": "code",
   "execution_count": null,
   "id": "7ff3f424-1d5d-4193-8113-ae80e0583adc",
   "metadata": {},
   "outputs": [],
   "source": [
    "a = ['a' , 'b', 'c']\n",
    "for item in a:\n",
    "    print(item)"
   ]
  },
  {
   "cell_type": "code",
   "execution_count": null,
   "id": "1fe58cdc-83c5-41c1-9ce9-e0e58b3f67e5",
   "metadata": {},
   "outputs": [],
   "source": [
    "for index, item in enumerate(a):\n",
    "    print(index, item)"
   ]
  },
  {
   "cell_type": "markdown",
   "id": "46532426-2185-468d-af10-f834735c2d26",
   "metadata": {},
   "source": [
    "# 綜合問答"
   ]
  },
  {
   "cell_type": "markdown",
   "id": "7acbefa1-5090-40bc-ac8b-2027909edd95",
   "metadata": {},
   "source": [
    "rds 練習\n",
    "\n",
    "https://www.kaggle.com/datasets/dillonmyrick/bike-store-sample-database"
   ]
  },
  {
   "cell_type": "code",
   "execution_count": null,
   "id": "701c628b-b630-4772-bcae-9ef9be34d848",
   "metadata": {},
   "outputs": [],
   "source": [
    "#"
   ]
  }
 ],
 "metadata": {
  "kernelspec": {
   "display_name": "Python 3 (ipykernel)",
   "language": "python",
   "name": "python3"
  },
  "language_info": {
   "codemirror_mode": {
    "name": "ipython",
    "version": 3
   },
   "file_extension": ".py",
   "mimetype": "text/x-python",
   "name": "python",
   "nbconvert_exporter": "python",
   "pygments_lexer": "ipython3",
   "version": "3.10.13"
  }
 },
 "nbformat": 4,
 "nbformat_minor": 5
}
