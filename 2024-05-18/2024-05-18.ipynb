{
 "cells": [
  {
   "cell_type": "markdown",
   "id": "dcc9544d-9057-4a5b-8ef5-9ec211bb400d",
   "metadata": {},
   "source": [
    "# 基礎班"
   ]
  },
  {
   "cell_type": "markdown",
   "id": "ad4260da-aa53-4ce8-befa-63c0fc8575cd",
   "metadata": {},
   "source": [
    "變數\n",
    "```python\n",
    "a = 1\n",
    "```"
   ]
  },
  {
   "cell_type": "markdown",
   "id": "8a4ea909-9431-4df4-be22-807dc8a451aa",
   "metadata": {},
   "source": [
    "### 四則運算\n",
    "```python\n",
    "a = 1\n",
    "b = 2\n",
    "\n",
    "a + b\n",
    "a * b\n",
    "a / b\n",
    "a % b\n",
    "```"
   ]
  },
  {
   "cell_type": "markdown",
   "id": "831c4675-0702-48a0-b85b-d3364083f75e",
   "metadata": {},
   "source": [
    "\n",
    "### 函式\n",
    "```python\n",
    "\n",
    "def add(a, b):\n",
    "    return a + b\n",
    "\n",
    "/// 函式呼叫\n",
    "print(add(1, 2))\n",
    "```"
   ]
  },
  {
   "cell_type": "markdown",
   "id": "5e6c3af7-1d8b-4a44-8583-6ad6f249bead",
   "metadata": {},
   "source": [
    "###導入套件\n",
    "\n",
    "```python\n",
    "from matplotlib.pyplot as plt\n",
    "\n",
    "```"
   ]
  },
  {
   "cell_type": "markdown",
   "id": "9686d3b1-44a9-453d-804d-c1386eda4e90",
   "metadata": {},
   "source": [
    "### 基本資料型態\n",
    "* str - 字串 \"abcdef\"\n",
    "* bool - 布林值 True, False\n",
    "* int - 正整數 1, 2, 3, 4\n",
    "* float - 1.2"
   ]
  },
  {
   "cell_type": "markdown",
   "id": "1502ceab-b0c7-4eae-b306-10a8f8ae638b",
   "metadata": {},
   "source": [
    "### 容器形別\n",
    "\n",
    "* tuple - (1, 2, 3, 4)\n",
    "* list - [1, 2, 3, 4]\n",
    "* set - {1, 2, 3, 4}\n",
    "* dict - {'key1': 1, 'value1': 2}"
   ]
  },
  {
   "cell_type": "markdown",
   "id": "de9f2be6-8764-424d-8b8d-078ae26c5a3a",
   "metadata": {},
   "source": [
    "#### 問, tuple 與 list 的差異\n",
    "tuple 不可更動\n",
    "\n",
    "list 可以更動"
   ]
  },
  {
   "cell_type": "code",
   "execution_count": null,
   "id": "5c0e74a6-d47a-4978-8ee3-701e238b710a",
   "metadata": {},
   "outputs": [],
   "source": [
    "t = (1, 2, 3)\n",
    "l = [1, 2, 3]"
   ]
  },
  {
   "cell_type": "code",
   "execution_count": null,
   "id": "e01e8c13-1f7a-4e76-a027-d2ef84e069f7",
   "metadata": {},
   "outputs": [],
   "source": [
    "l[0] = 5\n",
    "l"
   ]
  },
  {
   "cell_type": "code",
   "execution_count": null,
   "id": "3a5ebd16-68b7-4ecf-a7a0-ae1a07b168e2",
   "metadata": {},
   "outputs": [],
   "source": [
    "t[0] = 5"
   ]
  },
  {
   "cell_type": "code",
   "execution_count": null,
   "id": "3afffe4f-d5ec-49f0-8b1c-74d5613cfb3a",
   "metadata": {},
   "outputs": [],
   "source": [
    "t[1:]"
   ]
  },
  {
   "cell_type": "code",
   "execution_count": null,
   "id": "24a9191e-180a-476b-a383-af748ebeb6f4",
   "metadata": {},
   "outputs": [],
   "source": [
    "l[1:]"
   ]
  },
  {
   "cell_type": "code",
   "execution_count": null,
   "id": "105fa7dc-892f-419d-8def-105030bb297f",
   "metadata": {},
   "outputs": [],
   "source": []
  },
  {
   "cell_type": "markdown",
   "id": "fbc97659-9763-4cac-8a16-d1189e89914f",
   "metadata": {},
   "source": [
    "### 使用到的套件\n",
    "```python\n",
    "\n",
    "// 資料整理\n",
    "import pandas\n",
    "\n",
    "// 數學計算, 向量計算\n",
    "import numpy\n",
    "\n",
    "// 製圖\n",
    "import plotly.express as px\n",
    "import matplotlib\n",
    "\n",
    "// 抓網路資料\n",
    "import requests\n",
    "```"
   ]
  },
  {
   "cell_type": "markdown",
   "id": "5ba5c18a-4b4b-4349-b0fc-ae2344c0bafa",
   "metadata": {},
   "source": [
    "## 綜合練習"
   ]
  },
  {
   "cell_type": "markdown",
   "id": "2fe6a80d-39f7-404f-9a87-830652e70c9a",
   "metadata": {},
   "source": [
    "下載 kaggle 資料\n",
    "https://www.kaggle.com/datasets/dillonmyrick/bike-store-sample-database"
   ]
  },
  {
   "cell_type": "markdown",
   "id": "81c6509e-e9f1-48b3-8cd3-c4a488d09e3e",
   "metadata": {},
   "source": [
    "### 練習1\n",
    "使用 pandas 讀入customers.csv  orders.csv"
   ]
  },
  {
   "cell_type": "code",
   "execution_count": 95,
   "id": "a15cdce4-ae29-4060-bd36-44aa12f8c15a",
   "metadata": {},
   "outputs": [],
   "source": [
    "import pandas as pd"
   ]
  },
  {
   "cell_type": "code",
   "execution_count": 96,
   "id": "b523944e-efbe-4c90-ad51-e9eb60bdf575",
   "metadata": {},
   "outputs": [
    {
     "data": {
      "text/html": [
       "<div>\n",
       "<style scoped>\n",
       "    .dataframe tbody tr th:only-of-type {\n",
       "        vertical-align: middle;\n",
       "    }\n",
       "\n",
       "    .dataframe tbody tr th {\n",
       "        vertical-align: top;\n",
       "    }\n",
       "\n",
       "    .dataframe thead th {\n",
       "        text-align: right;\n",
       "    }\n",
       "</style>\n",
       "<table border=\"1\" class=\"dataframe\">\n",
       "  <thead>\n",
       "    <tr style=\"text-align: right;\">\n",
       "      <th></th>\n",
       "      <th>customer_id</th>\n",
       "      <th>first_name</th>\n",
       "      <th>last_name</th>\n",
       "      <th>phone</th>\n",
       "      <th>email</th>\n",
       "      <th>street</th>\n",
       "      <th>city</th>\n",
       "      <th>state</th>\n",
       "      <th>zip_code</th>\n",
       "    </tr>\n",
       "  </thead>\n",
       "  <tbody>\n",
       "    <tr>\n",
       "      <th>0</th>\n",
       "      <td>1</td>\n",
       "      <td>Debra</td>\n",
       "      <td>Burks</td>\n",
       "      <td>NaN</td>\n",
       "      <td>debra.burks@yahoo.com</td>\n",
       "      <td>9273 Thorne Ave.</td>\n",
       "      <td>Orchard Park</td>\n",
       "      <td>NY</td>\n",
       "      <td>14127</td>\n",
       "    </tr>\n",
       "    <tr>\n",
       "      <th>1</th>\n",
       "      <td>2</td>\n",
       "      <td>Kasha</td>\n",
       "      <td>Todd</td>\n",
       "      <td>NaN</td>\n",
       "      <td>kasha.todd@yahoo.com</td>\n",
       "      <td>910 Vine Street</td>\n",
       "      <td>Campbell</td>\n",
       "      <td>CA</td>\n",
       "      <td>95008</td>\n",
       "    </tr>\n",
       "    <tr>\n",
       "      <th>2</th>\n",
       "      <td>3</td>\n",
       "      <td>Tameka</td>\n",
       "      <td>Fisher</td>\n",
       "      <td>NaN</td>\n",
       "      <td>tameka.fisher@aol.com</td>\n",
       "      <td>769C Honey Creek St.</td>\n",
       "      <td>Redondo Beach</td>\n",
       "      <td>CA</td>\n",
       "      <td>90278</td>\n",
       "    </tr>\n",
       "    <tr>\n",
       "      <th>3</th>\n",
       "      <td>4</td>\n",
       "      <td>Daryl</td>\n",
       "      <td>Spence</td>\n",
       "      <td>NaN</td>\n",
       "      <td>daryl.spence@aol.com</td>\n",
       "      <td>988 Pearl Lane</td>\n",
       "      <td>Uniondale</td>\n",
       "      <td>NY</td>\n",
       "      <td>11553</td>\n",
       "    </tr>\n",
       "    <tr>\n",
       "      <th>4</th>\n",
       "      <td>5</td>\n",
       "      <td>Charolette</td>\n",
       "      <td>Rice</td>\n",
       "      <td>(916) 381-6003</td>\n",
       "      <td>charolette.rice@msn.com</td>\n",
       "      <td>107 River Dr.</td>\n",
       "      <td>Sacramento</td>\n",
       "      <td>CA</td>\n",
       "      <td>95820</td>\n",
       "    </tr>\n",
       "    <tr>\n",
       "      <th>...</th>\n",
       "      <td>...</td>\n",
       "      <td>...</td>\n",
       "      <td>...</td>\n",
       "      <td>...</td>\n",
       "      <td>...</td>\n",
       "      <td>...</td>\n",
       "      <td>...</td>\n",
       "      <td>...</td>\n",
       "      <td>...</td>\n",
       "    </tr>\n",
       "    <tr>\n",
       "      <th>1440</th>\n",
       "      <td>1441</td>\n",
       "      <td>Jamaal</td>\n",
       "      <td>Morrison</td>\n",
       "      <td>NaN</td>\n",
       "      <td>jamaal.morrison@msn.com</td>\n",
       "      <td>796 SE. Nut Swamp St.</td>\n",
       "      <td>Staten Island</td>\n",
       "      <td>NY</td>\n",
       "      <td>10301</td>\n",
       "    </tr>\n",
       "    <tr>\n",
       "      <th>1441</th>\n",
       "      <td>1442</td>\n",
       "      <td>Cassie</td>\n",
       "      <td>Cline</td>\n",
       "      <td>NaN</td>\n",
       "      <td>cassie.cline@gmail.com</td>\n",
       "      <td>947 Lafayette Drive</td>\n",
       "      <td>Brooklyn</td>\n",
       "      <td>NY</td>\n",
       "      <td>11201</td>\n",
       "    </tr>\n",
       "    <tr>\n",
       "      <th>1442</th>\n",
       "      <td>1443</td>\n",
       "      <td>Lezlie</td>\n",
       "      <td>Lamb</td>\n",
       "      <td>NaN</td>\n",
       "      <td>lezlie.lamb@gmail.com</td>\n",
       "      <td>401 Brandywine Street</td>\n",
       "      <td>Central Islip</td>\n",
       "      <td>NY</td>\n",
       "      <td>11722</td>\n",
       "    </tr>\n",
       "    <tr>\n",
       "      <th>1443</th>\n",
       "      <td>1444</td>\n",
       "      <td>Ivette</td>\n",
       "      <td>Estes</td>\n",
       "      <td>NaN</td>\n",
       "      <td>ivette.estes@gmail.com</td>\n",
       "      <td>88 N. Canterbury Ave.</td>\n",
       "      <td>Canandaigua</td>\n",
       "      <td>NY</td>\n",
       "      <td>14424</td>\n",
       "    </tr>\n",
       "    <tr>\n",
       "      <th>1444</th>\n",
       "      <td>1445</td>\n",
       "      <td>Ester</td>\n",
       "      <td>Acevedo</td>\n",
       "      <td>NaN</td>\n",
       "      <td>ester.acevedo@gmail.com</td>\n",
       "      <td>671 Miles Court</td>\n",
       "      <td>San Lorenzo</td>\n",
       "      <td>CA</td>\n",
       "      <td>94580</td>\n",
       "    </tr>\n",
       "  </tbody>\n",
       "</table>\n",
       "<p>1445 rows × 9 columns</p>\n",
       "</div>"
      ],
      "text/plain": [
       "      customer_id  first_name last_name           phone  \\\n",
       "0               1       Debra     Burks             NaN   \n",
       "1               2       Kasha      Todd             NaN   \n",
       "2               3      Tameka    Fisher             NaN   \n",
       "3               4       Daryl    Spence             NaN   \n",
       "4               5  Charolette      Rice  (916) 381-6003   \n",
       "...           ...         ...       ...             ...   \n",
       "1440         1441      Jamaal  Morrison             NaN   \n",
       "1441         1442      Cassie     Cline             NaN   \n",
       "1442         1443      Lezlie      Lamb             NaN   \n",
       "1443         1444      Ivette     Estes             NaN   \n",
       "1444         1445       Ester   Acevedo             NaN   \n",
       "\n",
       "                        email                  street           city state  \\\n",
       "0       debra.burks@yahoo.com       9273 Thorne Ave.    Orchard Park    NY   \n",
       "1        kasha.todd@yahoo.com        910 Vine Street        Campbell    CA   \n",
       "2       tameka.fisher@aol.com   769C Honey Creek St.   Redondo Beach    CA   \n",
       "3        daryl.spence@aol.com         988 Pearl Lane       Uniondale    NY   \n",
       "4     charolette.rice@msn.com          107 River Dr.      Sacramento    CA   \n",
       "...                       ...                     ...            ...   ...   \n",
       "1440  jamaal.morrison@msn.com  796 SE. Nut Swamp St.   Staten Island    NY   \n",
       "1441   cassie.cline@gmail.com    947 Lafayette Drive        Brooklyn    NY   \n",
       "1442    lezlie.lamb@gmail.com  401 Brandywine Street   Central Islip    NY   \n",
       "1443   ivette.estes@gmail.com  88 N. Canterbury Ave.     Canandaigua    NY   \n",
       "1444  ester.acevedo@gmail.com        671 Miles Court     San Lorenzo    CA   \n",
       "\n",
       "      zip_code  \n",
       "0        14127  \n",
       "1        95008  \n",
       "2        90278  \n",
       "3        11553  \n",
       "4        95820  \n",
       "...        ...  \n",
       "1440     10301  \n",
       "1441     11201  \n",
       "1442     11722  \n",
       "1443     14424  \n",
       "1444     94580  \n",
       "\n",
       "[1445 rows x 9 columns]"
      ]
     },
     "execution_count": 96,
     "metadata": {},
     "output_type": "execute_result"
    }
   ],
   "source": [
    "customers = pd.read_csv('customers.csv')\n",
    "customers"
   ]
  },
  {
   "cell_type": "code",
   "execution_count": 97,
   "id": "011c79cb-550f-4b06-bbbf-54a4be5b15c2",
   "metadata": {},
   "outputs": [
    {
     "data": {
      "text/html": [
       "<div>\n",
       "<style scoped>\n",
       "    .dataframe tbody tr th:only-of-type {\n",
       "        vertical-align: middle;\n",
       "    }\n",
       "\n",
       "    .dataframe tbody tr th {\n",
       "        vertical-align: top;\n",
       "    }\n",
       "\n",
       "    .dataframe thead th {\n",
       "        text-align: right;\n",
       "    }\n",
       "</style>\n",
       "<table border=\"1\" class=\"dataframe\">\n",
       "  <thead>\n",
       "    <tr style=\"text-align: right;\">\n",
       "      <th></th>\n",
       "      <th>order_id</th>\n",
       "      <th>customer_id</th>\n",
       "      <th>order_status</th>\n",
       "      <th>order_date</th>\n",
       "      <th>required_date</th>\n",
       "      <th>shipped_date</th>\n",
       "      <th>store_id</th>\n",
       "      <th>staff_id</th>\n",
       "    </tr>\n",
       "  </thead>\n",
       "  <tbody>\n",
       "    <tr>\n",
       "      <th>0</th>\n",
       "      <td>1</td>\n",
       "      <td>259</td>\n",
       "      <td>4</td>\n",
       "      <td>2016-01-01</td>\n",
       "      <td>2016-01-03</td>\n",
       "      <td>2016-01-03</td>\n",
       "      <td>1</td>\n",
       "      <td>2</td>\n",
       "    </tr>\n",
       "    <tr>\n",
       "      <th>1</th>\n",
       "      <td>2</td>\n",
       "      <td>1212</td>\n",
       "      <td>4</td>\n",
       "      <td>2016-01-01</td>\n",
       "      <td>2016-01-04</td>\n",
       "      <td>2016-01-03</td>\n",
       "      <td>2</td>\n",
       "      <td>6</td>\n",
       "    </tr>\n",
       "    <tr>\n",
       "      <th>2</th>\n",
       "      <td>3</td>\n",
       "      <td>523</td>\n",
       "      <td>4</td>\n",
       "      <td>2016-01-02</td>\n",
       "      <td>2016-01-05</td>\n",
       "      <td>2016-01-03</td>\n",
       "      <td>2</td>\n",
       "      <td>7</td>\n",
       "    </tr>\n",
       "    <tr>\n",
       "      <th>3</th>\n",
       "      <td>4</td>\n",
       "      <td>175</td>\n",
       "      <td>4</td>\n",
       "      <td>2016-01-03</td>\n",
       "      <td>2016-01-04</td>\n",
       "      <td>2016-01-05</td>\n",
       "      <td>1</td>\n",
       "      <td>3</td>\n",
       "    </tr>\n",
       "    <tr>\n",
       "      <th>4</th>\n",
       "      <td>5</td>\n",
       "      <td>1324</td>\n",
       "      <td>4</td>\n",
       "      <td>2016-01-03</td>\n",
       "      <td>2016-01-06</td>\n",
       "      <td>2016-01-06</td>\n",
       "      <td>2</td>\n",
       "      <td>6</td>\n",
       "    </tr>\n",
       "    <tr>\n",
       "      <th>...</th>\n",
       "      <td>...</td>\n",
       "      <td>...</td>\n",
       "      <td>...</td>\n",
       "      <td>...</td>\n",
       "      <td>...</td>\n",
       "      <td>...</td>\n",
       "      <td>...</td>\n",
       "      <td>...</td>\n",
       "    </tr>\n",
       "    <tr>\n",
       "      <th>1610</th>\n",
       "      <td>1611</td>\n",
       "      <td>6</td>\n",
       "      <td>3</td>\n",
       "      <td>2018-09-06</td>\n",
       "      <td>2018-09-06</td>\n",
       "      <td>NaN</td>\n",
       "      <td>2</td>\n",
       "      <td>7</td>\n",
       "    </tr>\n",
       "    <tr>\n",
       "      <th>1611</th>\n",
       "      <td>1612</td>\n",
       "      <td>3</td>\n",
       "      <td>3</td>\n",
       "      <td>2018-10-21</td>\n",
       "      <td>2018-10-21</td>\n",
       "      <td>NaN</td>\n",
       "      <td>1</td>\n",
       "      <td>3</td>\n",
       "    </tr>\n",
       "    <tr>\n",
       "      <th>1612</th>\n",
       "      <td>1613</td>\n",
       "      <td>1</td>\n",
       "      <td>3</td>\n",
       "      <td>2018-11-18</td>\n",
       "      <td>2018-11-18</td>\n",
       "      <td>NaN</td>\n",
       "      <td>2</td>\n",
       "      <td>6</td>\n",
       "    </tr>\n",
       "    <tr>\n",
       "      <th>1613</th>\n",
       "      <td>1614</td>\n",
       "      <td>135</td>\n",
       "      <td>3</td>\n",
       "      <td>2018-11-28</td>\n",
       "      <td>2018-11-28</td>\n",
       "      <td>NaN</td>\n",
       "      <td>3</td>\n",
       "      <td>8</td>\n",
       "    </tr>\n",
       "    <tr>\n",
       "      <th>1614</th>\n",
       "      <td>1615</td>\n",
       "      <td>136</td>\n",
       "      <td>3</td>\n",
       "      <td>2018-12-28</td>\n",
       "      <td>2018-12-28</td>\n",
       "      <td>NaN</td>\n",
       "      <td>3</td>\n",
       "      <td>8</td>\n",
       "    </tr>\n",
       "  </tbody>\n",
       "</table>\n",
       "<p>1615 rows × 8 columns</p>\n",
       "</div>"
      ],
      "text/plain": [
       "      order_id  customer_id  order_status  order_date required_date  \\\n",
       "0            1          259             4  2016-01-01    2016-01-03   \n",
       "1            2         1212             4  2016-01-01    2016-01-04   \n",
       "2            3          523             4  2016-01-02    2016-01-05   \n",
       "3            4          175             4  2016-01-03    2016-01-04   \n",
       "4            5         1324             4  2016-01-03    2016-01-06   \n",
       "...        ...          ...           ...         ...           ...   \n",
       "1610      1611            6             3  2018-09-06    2018-09-06   \n",
       "1611      1612            3             3  2018-10-21    2018-10-21   \n",
       "1612      1613            1             3  2018-11-18    2018-11-18   \n",
       "1613      1614          135             3  2018-11-28    2018-11-28   \n",
       "1614      1615          136             3  2018-12-28    2018-12-28   \n",
       "\n",
       "     shipped_date  store_id  staff_id  \n",
       "0      2016-01-03         1         2  \n",
       "1      2016-01-03         2         6  \n",
       "2      2016-01-03         2         7  \n",
       "3      2016-01-05         1         3  \n",
       "4      2016-01-06         2         6  \n",
       "...           ...       ...       ...  \n",
       "1610          NaN         2         7  \n",
       "1611          NaN         1         3  \n",
       "1612          NaN         2         6  \n",
       "1613          NaN         3         8  \n",
       "1614          NaN         3         8  \n",
       "\n",
       "[1615 rows x 8 columns]"
      ]
     },
     "execution_count": 97,
     "metadata": {},
     "output_type": "execute_result"
    }
   ],
   "source": [
    "orders = pd.read_csv('orders.csv')\n",
    "orders"
   ]
  },
  {
   "cell_type": "code",
   "execution_count": 98,
   "id": "f70eb78b-7965-4f25-bc58-4231384accca",
   "metadata": {
    "scrolled": true
   },
   "outputs": [
    {
     "ename": "FileNotFoundError",
     "evalue": "[Errno 2] No such file or directory: 'C:\\\\data\\\\brands.csv'",
     "output_type": "error",
     "traceback": [
      "\u001b[0;31m---------------------------------------------------------------------------\u001b[0m",
      "\u001b[0;31mFileNotFoundError\u001b[0m                         Traceback (most recent call last)",
      "Cell \u001b[0;32mIn[98], line 7\u001b[0m\n\u001b[1;32m      4\u001b[0m pd\u001b[38;5;241m.\u001b[39mread_csv(\u001b[38;5;124m'\u001b[39m\u001b[38;5;124mdata/brands.csv\u001b[39m\u001b[38;5;124m'\u001b[39m)\n\u001b[1;32m      6\u001b[0m \u001b[38;5;66;03m# 絕對路征\u001b[39;00m\n\u001b[0;32m----> 7\u001b[0m \u001b[43mpd\u001b[49m\u001b[38;5;241;43m.\u001b[39;49m\u001b[43mread_csv\u001b[49m\u001b[43m(\u001b[49m\u001b[38;5;124;43m'\u001b[39;49m\u001b[38;5;124;43mC:\u001b[39;49m\u001b[38;5;130;43;01m\\\\\u001b[39;49;00m\u001b[38;5;124;43mdata\u001b[39;49m\u001b[38;5;130;43;01m\\\\\u001b[39;49;00m\u001b[38;5;124;43mbrands.csv\u001b[39;49m\u001b[38;5;124;43m'\u001b[39;49m\u001b[43m)\u001b[49m\n",
      "File \u001b[0;32m~/.local/lib/python3.10/site-packages/pandas/io/parsers/readers.py:1026\u001b[0m, in \u001b[0;36mread_csv\u001b[0;34m(filepath_or_buffer, sep, delimiter, header, names, index_col, usecols, dtype, engine, converters, true_values, false_values, skipinitialspace, skiprows, skipfooter, nrows, na_values, keep_default_na, na_filter, verbose, skip_blank_lines, parse_dates, infer_datetime_format, keep_date_col, date_parser, date_format, dayfirst, cache_dates, iterator, chunksize, compression, thousands, decimal, lineterminator, quotechar, quoting, doublequote, escapechar, comment, encoding, encoding_errors, dialect, on_bad_lines, delim_whitespace, low_memory, memory_map, float_precision, storage_options, dtype_backend)\u001b[0m\n\u001b[1;32m   1013\u001b[0m kwds_defaults \u001b[38;5;241m=\u001b[39m _refine_defaults_read(\n\u001b[1;32m   1014\u001b[0m     dialect,\n\u001b[1;32m   1015\u001b[0m     delimiter,\n\u001b[0;32m   (...)\u001b[0m\n\u001b[1;32m   1022\u001b[0m     dtype_backend\u001b[38;5;241m=\u001b[39mdtype_backend,\n\u001b[1;32m   1023\u001b[0m )\n\u001b[1;32m   1024\u001b[0m kwds\u001b[38;5;241m.\u001b[39mupdate(kwds_defaults)\n\u001b[0;32m-> 1026\u001b[0m \u001b[38;5;28;01mreturn\u001b[39;00m \u001b[43m_read\u001b[49m\u001b[43m(\u001b[49m\u001b[43mfilepath_or_buffer\u001b[49m\u001b[43m,\u001b[49m\u001b[43m \u001b[49m\u001b[43mkwds\u001b[49m\u001b[43m)\u001b[49m\n",
      "File \u001b[0;32m~/.local/lib/python3.10/site-packages/pandas/io/parsers/readers.py:620\u001b[0m, in \u001b[0;36m_read\u001b[0;34m(filepath_or_buffer, kwds)\u001b[0m\n\u001b[1;32m    617\u001b[0m _validate_names(kwds\u001b[38;5;241m.\u001b[39mget(\u001b[38;5;124m\"\u001b[39m\u001b[38;5;124mnames\u001b[39m\u001b[38;5;124m\"\u001b[39m, \u001b[38;5;28;01mNone\u001b[39;00m))\n\u001b[1;32m    619\u001b[0m \u001b[38;5;66;03m# Create the parser.\u001b[39;00m\n\u001b[0;32m--> 620\u001b[0m parser \u001b[38;5;241m=\u001b[39m \u001b[43mTextFileReader\u001b[49m\u001b[43m(\u001b[49m\u001b[43mfilepath_or_buffer\u001b[49m\u001b[43m,\u001b[49m\u001b[43m \u001b[49m\u001b[38;5;241;43m*\u001b[39;49m\u001b[38;5;241;43m*\u001b[39;49m\u001b[43mkwds\u001b[49m\u001b[43m)\u001b[49m\n\u001b[1;32m    622\u001b[0m \u001b[38;5;28;01mif\u001b[39;00m chunksize \u001b[38;5;129;01mor\u001b[39;00m iterator:\n\u001b[1;32m    623\u001b[0m     \u001b[38;5;28;01mreturn\u001b[39;00m parser\n",
      "File \u001b[0;32m~/.local/lib/python3.10/site-packages/pandas/io/parsers/readers.py:1620\u001b[0m, in \u001b[0;36mTextFileReader.__init__\u001b[0;34m(self, f, engine, **kwds)\u001b[0m\n\u001b[1;32m   1617\u001b[0m     \u001b[38;5;28mself\u001b[39m\u001b[38;5;241m.\u001b[39moptions[\u001b[38;5;124m\"\u001b[39m\u001b[38;5;124mhas_index_names\u001b[39m\u001b[38;5;124m\"\u001b[39m] \u001b[38;5;241m=\u001b[39m kwds[\u001b[38;5;124m\"\u001b[39m\u001b[38;5;124mhas_index_names\u001b[39m\u001b[38;5;124m\"\u001b[39m]\n\u001b[1;32m   1619\u001b[0m \u001b[38;5;28mself\u001b[39m\u001b[38;5;241m.\u001b[39mhandles: IOHandles \u001b[38;5;241m|\u001b[39m \u001b[38;5;28;01mNone\u001b[39;00m \u001b[38;5;241m=\u001b[39m \u001b[38;5;28;01mNone\u001b[39;00m\n\u001b[0;32m-> 1620\u001b[0m \u001b[38;5;28mself\u001b[39m\u001b[38;5;241m.\u001b[39m_engine \u001b[38;5;241m=\u001b[39m \u001b[38;5;28;43mself\u001b[39;49m\u001b[38;5;241;43m.\u001b[39;49m\u001b[43m_make_engine\u001b[49m\u001b[43m(\u001b[49m\u001b[43mf\u001b[49m\u001b[43m,\u001b[49m\u001b[43m \u001b[49m\u001b[38;5;28;43mself\u001b[39;49m\u001b[38;5;241;43m.\u001b[39;49m\u001b[43mengine\u001b[49m\u001b[43m)\u001b[49m\n",
      "File \u001b[0;32m~/.local/lib/python3.10/site-packages/pandas/io/parsers/readers.py:1880\u001b[0m, in \u001b[0;36mTextFileReader._make_engine\u001b[0;34m(self, f, engine)\u001b[0m\n\u001b[1;32m   1878\u001b[0m     \u001b[38;5;28;01mif\u001b[39;00m \u001b[38;5;124m\"\u001b[39m\u001b[38;5;124mb\u001b[39m\u001b[38;5;124m\"\u001b[39m \u001b[38;5;129;01mnot\u001b[39;00m \u001b[38;5;129;01min\u001b[39;00m mode:\n\u001b[1;32m   1879\u001b[0m         mode \u001b[38;5;241m+\u001b[39m\u001b[38;5;241m=\u001b[39m \u001b[38;5;124m\"\u001b[39m\u001b[38;5;124mb\u001b[39m\u001b[38;5;124m\"\u001b[39m\n\u001b[0;32m-> 1880\u001b[0m \u001b[38;5;28mself\u001b[39m\u001b[38;5;241m.\u001b[39mhandles \u001b[38;5;241m=\u001b[39m \u001b[43mget_handle\u001b[49m\u001b[43m(\u001b[49m\n\u001b[1;32m   1881\u001b[0m \u001b[43m    \u001b[49m\u001b[43mf\u001b[49m\u001b[43m,\u001b[49m\n\u001b[1;32m   1882\u001b[0m \u001b[43m    \u001b[49m\u001b[43mmode\u001b[49m\u001b[43m,\u001b[49m\n\u001b[1;32m   1883\u001b[0m \u001b[43m    \u001b[49m\u001b[43mencoding\u001b[49m\u001b[38;5;241;43m=\u001b[39;49m\u001b[38;5;28;43mself\u001b[39;49m\u001b[38;5;241;43m.\u001b[39;49m\u001b[43moptions\u001b[49m\u001b[38;5;241;43m.\u001b[39;49m\u001b[43mget\u001b[49m\u001b[43m(\u001b[49m\u001b[38;5;124;43m\"\u001b[39;49m\u001b[38;5;124;43mencoding\u001b[39;49m\u001b[38;5;124;43m\"\u001b[39;49m\u001b[43m,\u001b[49m\u001b[43m \u001b[49m\u001b[38;5;28;43;01mNone\u001b[39;49;00m\u001b[43m)\u001b[49m\u001b[43m,\u001b[49m\n\u001b[1;32m   1884\u001b[0m \u001b[43m    \u001b[49m\u001b[43mcompression\u001b[49m\u001b[38;5;241;43m=\u001b[39;49m\u001b[38;5;28;43mself\u001b[39;49m\u001b[38;5;241;43m.\u001b[39;49m\u001b[43moptions\u001b[49m\u001b[38;5;241;43m.\u001b[39;49m\u001b[43mget\u001b[49m\u001b[43m(\u001b[49m\u001b[38;5;124;43m\"\u001b[39;49m\u001b[38;5;124;43mcompression\u001b[39;49m\u001b[38;5;124;43m\"\u001b[39;49m\u001b[43m,\u001b[49m\u001b[43m \u001b[49m\u001b[38;5;28;43;01mNone\u001b[39;49;00m\u001b[43m)\u001b[49m\u001b[43m,\u001b[49m\n\u001b[1;32m   1885\u001b[0m \u001b[43m    \u001b[49m\u001b[43mmemory_map\u001b[49m\u001b[38;5;241;43m=\u001b[39;49m\u001b[38;5;28;43mself\u001b[39;49m\u001b[38;5;241;43m.\u001b[39;49m\u001b[43moptions\u001b[49m\u001b[38;5;241;43m.\u001b[39;49m\u001b[43mget\u001b[49m\u001b[43m(\u001b[49m\u001b[38;5;124;43m\"\u001b[39;49m\u001b[38;5;124;43mmemory_map\u001b[39;49m\u001b[38;5;124;43m\"\u001b[39;49m\u001b[43m,\u001b[49m\u001b[43m \u001b[49m\u001b[38;5;28;43;01mFalse\u001b[39;49;00m\u001b[43m)\u001b[49m\u001b[43m,\u001b[49m\n\u001b[1;32m   1886\u001b[0m \u001b[43m    \u001b[49m\u001b[43mis_text\u001b[49m\u001b[38;5;241;43m=\u001b[39;49m\u001b[43mis_text\u001b[49m\u001b[43m,\u001b[49m\n\u001b[1;32m   1887\u001b[0m \u001b[43m    \u001b[49m\u001b[43merrors\u001b[49m\u001b[38;5;241;43m=\u001b[39;49m\u001b[38;5;28;43mself\u001b[39;49m\u001b[38;5;241;43m.\u001b[39;49m\u001b[43moptions\u001b[49m\u001b[38;5;241;43m.\u001b[39;49m\u001b[43mget\u001b[49m\u001b[43m(\u001b[49m\u001b[38;5;124;43m\"\u001b[39;49m\u001b[38;5;124;43mencoding_errors\u001b[39;49m\u001b[38;5;124;43m\"\u001b[39;49m\u001b[43m,\u001b[49m\u001b[43m \u001b[49m\u001b[38;5;124;43m\"\u001b[39;49m\u001b[38;5;124;43mstrict\u001b[39;49m\u001b[38;5;124;43m\"\u001b[39;49m\u001b[43m)\u001b[49m\u001b[43m,\u001b[49m\n\u001b[1;32m   1888\u001b[0m \u001b[43m    \u001b[49m\u001b[43mstorage_options\u001b[49m\u001b[38;5;241;43m=\u001b[39;49m\u001b[38;5;28;43mself\u001b[39;49m\u001b[38;5;241;43m.\u001b[39;49m\u001b[43moptions\u001b[49m\u001b[38;5;241;43m.\u001b[39;49m\u001b[43mget\u001b[49m\u001b[43m(\u001b[49m\u001b[38;5;124;43m\"\u001b[39;49m\u001b[38;5;124;43mstorage_options\u001b[39;49m\u001b[38;5;124;43m\"\u001b[39;49m\u001b[43m,\u001b[49m\u001b[43m \u001b[49m\u001b[38;5;28;43;01mNone\u001b[39;49;00m\u001b[43m)\u001b[49m\u001b[43m,\u001b[49m\n\u001b[1;32m   1889\u001b[0m \u001b[43m\u001b[49m\u001b[43m)\u001b[49m\n\u001b[1;32m   1890\u001b[0m \u001b[38;5;28;01massert\u001b[39;00m \u001b[38;5;28mself\u001b[39m\u001b[38;5;241m.\u001b[39mhandles \u001b[38;5;129;01mis\u001b[39;00m \u001b[38;5;129;01mnot\u001b[39;00m \u001b[38;5;28;01mNone\u001b[39;00m\n\u001b[1;32m   1891\u001b[0m f \u001b[38;5;241m=\u001b[39m \u001b[38;5;28mself\u001b[39m\u001b[38;5;241m.\u001b[39mhandles\u001b[38;5;241m.\u001b[39mhandle\n",
      "File \u001b[0;32m~/.local/lib/python3.10/site-packages/pandas/io/common.py:873\u001b[0m, in \u001b[0;36mget_handle\u001b[0;34m(path_or_buf, mode, encoding, compression, memory_map, is_text, errors, storage_options)\u001b[0m\n\u001b[1;32m    868\u001b[0m \u001b[38;5;28;01melif\u001b[39;00m \u001b[38;5;28misinstance\u001b[39m(handle, \u001b[38;5;28mstr\u001b[39m):\n\u001b[1;32m    869\u001b[0m     \u001b[38;5;66;03m# Check whether the filename is to be opened in binary mode.\u001b[39;00m\n\u001b[1;32m    870\u001b[0m     \u001b[38;5;66;03m# Binary mode does not support 'encoding' and 'newline'.\u001b[39;00m\n\u001b[1;32m    871\u001b[0m     \u001b[38;5;28;01mif\u001b[39;00m ioargs\u001b[38;5;241m.\u001b[39mencoding \u001b[38;5;129;01mand\u001b[39;00m \u001b[38;5;124m\"\u001b[39m\u001b[38;5;124mb\u001b[39m\u001b[38;5;124m\"\u001b[39m \u001b[38;5;129;01mnot\u001b[39;00m \u001b[38;5;129;01min\u001b[39;00m ioargs\u001b[38;5;241m.\u001b[39mmode:\n\u001b[1;32m    872\u001b[0m         \u001b[38;5;66;03m# Encoding\u001b[39;00m\n\u001b[0;32m--> 873\u001b[0m         handle \u001b[38;5;241m=\u001b[39m \u001b[38;5;28;43mopen\u001b[39;49m\u001b[43m(\u001b[49m\n\u001b[1;32m    874\u001b[0m \u001b[43m            \u001b[49m\u001b[43mhandle\u001b[49m\u001b[43m,\u001b[49m\n\u001b[1;32m    875\u001b[0m \u001b[43m            \u001b[49m\u001b[43mioargs\u001b[49m\u001b[38;5;241;43m.\u001b[39;49m\u001b[43mmode\u001b[49m\u001b[43m,\u001b[49m\n\u001b[1;32m    876\u001b[0m \u001b[43m            \u001b[49m\u001b[43mencoding\u001b[49m\u001b[38;5;241;43m=\u001b[39;49m\u001b[43mioargs\u001b[49m\u001b[38;5;241;43m.\u001b[39;49m\u001b[43mencoding\u001b[49m\u001b[43m,\u001b[49m\n\u001b[1;32m    877\u001b[0m \u001b[43m            \u001b[49m\u001b[43merrors\u001b[49m\u001b[38;5;241;43m=\u001b[39;49m\u001b[43merrors\u001b[49m\u001b[43m,\u001b[49m\n\u001b[1;32m    878\u001b[0m \u001b[43m            \u001b[49m\u001b[43mnewline\u001b[49m\u001b[38;5;241;43m=\u001b[39;49m\u001b[38;5;124;43m\"\u001b[39;49m\u001b[38;5;124;43m\"\u001b[39;49m\u001b[43m,\u001b[49m\n\u001b[1;32m    879\u001b[0m \u001b[43m        \u001b[49m\u001b[43m)\u001b[49m\n\u001b[1;32m    880\u001b[0m     \u001b[38;5;28;01melse\u001b[39;00m:\n\u001b[1;32m    881\u001b[0m         \u001b[38;5;66;03m# Binary mode\u001b[39;00m\n\u001b[1;32m    882\u001b[0m         handle \u001b[38;5;241m=\u001b[39m \u001b[38;5;28mopen\u001b[39m(handle, ioargs\u001b[38;5;241m.\u001b[39mmode)\n",
      "\u001b[0;31mFileNotFoundError\u001b[0m: [Errno 2] No such file or directory: 'C:\\\\data\\\\brands.csv'"
     ]
    }
   ],
   "source": [
    "# 讀其它資料夾的檔案\n",
    "\n",
    "# 相對路徑\n",
    "pd.read_csv('data/brands.csv')\n",
    "\n",
    "# 絕對路征\n",
    "pd.read_csv('C:\\\\data\\\\brands.csv')"
   ]
  },
  {
   "cell_type": "markdown",
   "id": "0fad3333-3f7e-48d9-ba3e-55e894173396",
   "metadata": {},
   "source": [
    "### 練習二\n",
    "將 customers 跟 orders 合併成一個 DataFrame\n",
    "\n",
    "需要利用 customers 與 orders 裡面的 customer_id 作為合併的依據\n",
    "\n",
    "使用 pandas 的 merge\n",
    "\n",
    "https://pandas.pydata.org/docs/reference/api/pandas.merge.html"
   ]
  },
  {
   "cell_type": "code",
   "execution_count": 99,
   "id": "6c0bece8-2092-48b2-82d2-bb8fa2d0f5c3",
   "metadata": {},
   "outputs": [
    {
     "data": {
      "text/plain": [
       "Index(['order_id', 'customer_id', 'order_status', 'order_date',\n",
       "       'required_date', 'shipped_date', 'store_id', 'staff_id'],\n",
       "      dtype='object')"
      ]
     },
     "execution_count": 99,
     "metadata": {},
     "output_type": "execute_result"
    }
   ],
   "source": [
    "orders.columns"
   ]
  },
  {
   "cell_type": "code",
   "execution_count": 100,
   "id": "694438af-6e02-4d0c-bd0c-49c97f2e91c5",
   "metadata": {
    "scrolled": true
   },
   "outputs": [
    {
     "data": {
      "text/html": [
       "<div>\n",
       "<style scoped>\n",
       "    .dataframe tbody tr th:only-of-type {\n",
       "        vertical-align: middle;\n",
       "    }\n",
       "\n",
       "    .dataframe tbody tr th {\n",
       "        vertical-align: top;\n",
       "    }\n",
       "\n",
       "    .dataframe thead th {\n",
       "        text-align: right;\n",
       "    }\n",
       "</style>\n",
       "<table border=\"1\" class=\"dataframe\">\n",
       "  <thead>\n",
       "    <tr style=\"text-align: right;\">\n",
       "      <th></th>\n",
       "      <th>customer_id</th>\n",
       "      <th>first_name</th>\n",
       "      <th>last_name</th>\n",
       "      <th>order_id</th>\n",
       "      <th>order_status</th>\n",
       "    </tr>\n",
       "  </thead>\n",
       "  <tbody>\n",
       "    <tr>\n",
       "      <th>0</th>\n",
       "      <td>1</td>\n",
       "      <td>Debra</td>\n",
       "      <td>Burks</td>\n",
       "      <td>599</td>\n",
       "      <td>4</td>\n",
       "    </tr>\n",
       "    <tr>\n",
       "      <th>1</th>\n",
       "      <td>1</td>\n",
       "      <td>Debra</td>\n",
       "      <td>Burks</td>\n",
       "      <td>1555</td>\n",
       "      <td>1</td>\n",
       "    </tr>\n",
       "    <tr>\n",
       "      <th>2</th>\n",
       "      <td>1</td>\n",
       "      <td>Debra</td>\n",
       "      <td>Burks</td>\n",
       "      <td>1613</td>\n",
       "      <td>3</td>\n",
       "    </tr>\n",
       "    <tr>\n",
       "      <th>3</th>\n",
       "      <td>2</td>\n",
       "      <td>Kasha</td>\n",
       "      <td>Todd</td>\n",
       "      <td>692</td>\n",
       "      <td>3</td>\n",
       "    </tr>\n",
       "    <tr>\n",
       "      <th>4</th>\n",
       "      <td>2</td>\n",
       "      <td>Kasha</td>\n",
       "      <td>Todd</td>\n",
       "      <td>1084</td>\n",
       "      <td>4</td>\n",
       "    </tr>\n",
       "    <tr>\n",
       "      <th>...</th>\n",
       "      <td>...</td>\n",
       "      <td>...</td>\n",
       "      <td>...</td>\n",
       "      <td>...</td>\n",
       "      <td>...</td>\n",
       "    </tr>\n",
       "    <tr>\n",
       "      <th>1610</th>\n",
       "      <td>1441</td>\n",
       "      <td>Jamaal</td>\n",
       "      <td>Morrison</td>\n",
       "      <td>1366</td>\n",
       "      <td>4</td>\n",
       "    </tr>\n",
       "    <tr>\n",
       "      <th>1611</th>\n",
       "      <td>1442</td>\n",
       "      <td>Cassie</td>\n",
       "      <td>Cline</td>\n",
       "      <td>1036</td>\n",
       "      <td>4</td>\n",
       "    </tr>\n",
       "    <tr>\n",
       "      <th>1612</th>\n",
       "      <td>1443</td>\n",
       "      <td>Lezlie</td>\n",
       "      <td>Lamb</td>\n",
       "      <td>558</td>\n",
       "      <td>4</td>\n",
       "    </tr>\n",
       "    <tr>\n",
       "      <th>1613</th>\n",
       "      <td>1444</td>\n",
       "      <td>Ivette</td>\n",
       "      <td>Estes</td>\n",
       "      <td>616</td>\n",
       "      <td>4</td>\n",
       "    </tr>\n",
       "    <tr>\n",
       "      <th>1614</th>\n",
       "      <td>1445</td>\n",
       "      <td>Ester</td>\n",
       "      <td>Acevedo</td>\n",
       "      <td>1424</td>\n",
       "      <td>4</td>\n",
       "    </tr>\n",
       "  </tbody>\n",
       "</table>\n",
       "<p>1615 rows × 5 columns</p>\n",
       "</div>"
      ],
      "text/plain": [
       "      customer_id first_name last_name  order_id  order_status\n",
       "0               1      Debra     Burks       599             4\n",
       "1               1      Debra     Burks      1555             1\n",
       "2               1      Debra     Burks      1613             3\n",
       "3               2      Kasha      Todd       692             3\n",
       "4               2      Kasha      Todd      1084             4\n",
       "...           ...        ...       ...       ...           ...\n",
       "1610         1441     Jamaal  Morrison      1366             4\n",
       "1611         1442     Cassie     Cline      1036             4\n",
       "1612         1443     Lezlie      Lamb       558             4\n",
       "1613         1444     Ivette     Estes       616             4\n",
       "1614         1445      Ester   Acevedo      1424             4\n",
       "\n",
       "[1615 rows x 5 columns]"
      ]
     },
     "execution_count": 100,
     "metadata": {},
     "output_type": "execute_result"
    }
   ],
   "source": [
    "merged = pd.merge(left=customers, right=orders, on='customer_id')\n",
    "merged[['customer_id', 'first_name', 'last_name', 'order_id', 'order_status']]"
   ]
  },
  {
   "cell_type": "markdown",
   "id": "2735fef2-0e8e-4067-87fd-2c4a4bbe3d2c",
   "metadata": {},
   "source": [
    "### 練習3\n",
    "找出 Le Wood 所有訂單\n",
    "\n",
    "first_name Le\n",
    "\n",
    "last_name Wood\n"
   ]
  },
  {
   "cell_type": "code",
   "execution_count": 101,
   "id": "a42c2ced-5f53-44e8-a045-53b1d1575ef1",
   "metadata": {},
   "outputs": [
    {
     "data": {
      "text/html": [
       "<div>\n",
       "<style scoped>\n",
       "    .dataframe tbody tr th:only-of-type {\n",
       "        vertical-align: middle;\n",
       "    }\n",
       "\n",
       "    .dataframe tbody tr th {\n",
       "        vertical-align: top;\n",
       "    }\n",
       "\n",
       "    .dataframe thead th {\n",
       "        text-align: right;\n",
       "    }\n",
       "</style>\n",
       "<table border=\"1\" class=\"dataframe\">\n",
       "  <thead>\n",
       "    <tr style=\"text-align: right;\">\n",
       "      <th></th>\n",
       "      <th>customer_id</th>\n",
       "      <th>first_name</th>\n",
       "      <th>last_name</th>\n",
       "      <th>phone</th>\n",
       "      <th>email</th>\n",
       "      <th>street</th>\n",
       "      <th>city</th>\n",
       "      <th>state</th>\n",
       "      <th>zip_code</th>\n",
       "      <th>order_id</th>\n",
       "      <th>order_status</th>\n",
       "      <th>order_date</th>\n",
       "      <th>required_date</th>\n",
       "      <th>shipped_date</th>\n",
       "      <th>store_id</th>\n",
       "      <th>staff_id</th>\n",
       "    </tr>\n",
       "  </thead>\n",
       "  <tbody>\n",
       "    <tr>\n",
       "      <th>256</th>\n",
       "      <td>118</td>\n",
       "      <td>Le</td>\n",
       "      <td>Wood</td>\n",
       "      <td>NaN</td>\n",
       "      <td>le.wood@yahoo.com</td>\n",
       "      <td>90 Primrose Dr.</td>\n",
       "      <td>Pittsford</td>\n",
       "      <td>NY</td>\n",
       "      <td>14534</td>\n",
       "      <td>617</td>\n",
       "      <td>4</td>\n",
       "      <td>2016-12-21</td>\n",
       "      <td>2016-12-23</td>\n",
       "      <td>2016-12-23</td>\n",
       "      <td>2</td>\n",
       "      <td>7</td>\n",
       "    </tr>\n",
       "  </tbody>\n",
       "</table>\n",
       "</div>"
      ],
      "text/plain": [
       "     customer_id first_name last_name phone              email  \\\n",
       "256          118         Le      Wood   NaN  le.wood@yahoo.com   \n",
       "\n",
       "               street       city state  zip_code  order_id  order_status  \\\n",
       "256  90 Primrose Dr.   Pittsford    NY     14534       617             4   \n",
       "\n",
       "     order_date required_date shipped_date  store_id  staff_id  \n",
       "256  2016-12-21    2016-12-23   2016-12-23         2         7  "
      ]
     },
     "execution_count": 101,
     "metadata": {},
     "output_type": "execute_result"
    }
   ],
   "source": [
    "filters = (merged['first_name'] == 'Le') & (merged['last_name'] == 'Wood')\n",
    "merged[filters]"
   ]
  },
  {
   "cell_type": "code",
   "execution_count": 102,
   "id": "fb8f0acc-bdf5-4562-ae7a-608256dfb9f7",
   "metadata": {},
   "outputs": [
    {
     "data": {
      "text/html": [
       "<div>\n",
       "<style scoped>\n",
       "    .dataframe tbody tr th:only-of-type {\n",
       "        vertical-align: middle;\n",
       "    }\n",
       "\n",
       "    .dataframe tbody tr th {\n",
       "        vertical-align: top;\n",
       "    }\n",
       "\n",
       "    .dataframe thead th {\n",
       "        text-align: right;\n",
       "    }\n",
       "</style>\n",
       "<table border=\"1\" class=\"dataframe\">\n",
       "  <thead>\n",
       "    <tr style=\"text-align: right;\">\n",
       "      <th></th>\n",
       "      <th>customer_id</th>\n",
       "      <th>first_name</th>\n",
       "      <th>last_name</th>\n",
       "      <th>phone</th>\n",
       "      <th>email</th>\n",
       "      <th>street</th>\n",
       "      <th>city</th>\n",
       "      <th>state</th>\n",
       "      <th>zip_code</th>\n",
       "      <th>order_id</th>\n",
       "      <th>order_status</th>\n",
       "      <th>order_date</th>\n",
       "      <th>required_date</th>\n",
       "      <th>shipped_date</th>\n",
       "      <th>store_id</th>\n",
       "      <th>staff_id</th>\n",
       "    </tr>\n",
       "  </thead>\n",
       "  <tbody>\n",
       "    <tr>\n",
       "      <th>256</th>\n",
       "      <td>118</td>\n",
       "      <td>Le</td>\n",
       "      <td>Wood</td>\n",
       "      <td>NaN</td>\n",
       "      <td>le.wood@yahoo.com</td>\n",
       "      <td>90 Primrose Dr.</td>\n",
       "      <td>Pittsford</td>\n",
       "      <td>NY</td>\n",
       "      <td>14534</td>\n",
       "      <td>617</td>\n",
       "      <td>4</td>\n",
       "      <td>2016-12-21</td>\n",
       "      <td>2016-12-23</td>\n",
       "      <td>2016-12-23</td>\n",
       "      <td>2</td>\n",
       "      <td>7</td>\n",
       "    </tr>\n",
       "  </tbody>\n",
       "</table>\n",
       "</div>"
      ],
      "text/plain": [
       "     customer_id first_name last_name phone              email  \\\n",
       "256          118         Le      Wood   NaN  le.wood@yahoo.com   \n",
       "\n",
       "               street       city state  zip_code  order_id  order_status  \\\n",
       "256  90 Primrose Dr.   Pittsford    NY     14534       617             4   \n",
       "\n",
       "     order_date required_date shipped_date  store_id  staff_id  \n",
       "256  2016-12-21    2016-12-23   2016-12-23         2         7  "
      ]
     },
     "execution_count": 102,
     "metadata": {},
     "output_type": "execute_result"
    }
   ],
   "source": [
    "merged[(merged['first_name'] == 'Le') & (merged['last_name'] == 'Wood')]"
   ]
  },
  {
   "cell_type": "code",
   "execution_count": 103,
   "id": "15c55ea2-9481-40b4-abd5-4581e0158369",
   "metadata": {},
   "outputs": [
    {
     "data": {
      "text/html": [
       "<div>\n",
       "<style scoped>\n",
       "    .dataframe tbody tr th:only-of-type {\n",
       "        vertical-align: middle;\n",
       "    }\n",
       "\n",
       "    .dataframe tbody tr th {\n",
       "        vertical-align: top;\n",
       "    }\n",
       "\n",
       "    .dataframe thead th {\n",
       "        text-align: right;\n",
       "    }\n",
       "</style>\n",
       "<table border=\"1\" class=\"dataframe\">\n",
       "  <thead>\n",
       "    <tr style=\"text-align: right;\">\n",
       "      <th></th>\n",
       "      <th>customer_id</th>\n",
       "      <th>first_name</th>\n",
       "      <th>last_name</th>\n",
       "      <th>phone</th>\n",
       "      <th>email</th>\n",
       "      <th>street</th>\n",
       "      <th>city</th>\n",
       "      <th>state</th>\n",
       "      <th>zip_code</th>\n",
       "      <th>order_id</th>\n",
       "      <th>order_status</th>\n",
       "      <th>order_date</th>\n",
       "      <th>required_date</th>\n",
       "      <th>shipped_date</th>\n",
       "      <th>store_id</th>\n",
       "      <th>staff_id</th>\n",
       "    </tr>\n",
       "  </thead>\n",
       "  <tbody>\n",
       "    <tr>\n",
       "      <th>256</th>\n",
       "      <td>118</td>\n",
       "      <td>Le</td>\n",
       "      <td>Wood</td>\n",
       "      <td>NaN</td>\n",
       "      <td>le.wood@yahoo.com</td>\n",
       "      <td>90 Primrose Dr.</td>\n",
       "      <td>Pittsford</td>\n",
       "      <td>NY</td>\n",
       "      <td>14534</td>\n",
       "      <td>617</td>\n",
       "      <td>4</td>\n",
       "      <td>2016-12-21</td>\n",
       "      <td>2016-12-23</td>\n",
       "      <td>2016-12-23</td>\n",
       "      <td>2</td>\n",
       "      <td>7</td>\n",
       "    </tr>\n",
       "  </tbody>\n",
       "</table>\n",
       "</div>"
      ],
      "text/plain": [
       "     customer_id first_name last_name phone              email  \\\n",
       "256          118         Le      Wood   NaN  le.wood@yahoo.com   \n",
       "\n",
       "               street       city state  zip_code  order_id  order_status  \\\n",
       "256  90 Primrose Dr.   Pittsford    NY     14534       617             4   \n",
       "\n",
       "     order_date required_date shipped_date  store_id  staff_id  \n",
       "256  2016-12-21    2016-12-23   2016-12-23         2         7  "
      ]
     },
     "execution_count": 103,
     "metadata": {},
     "output_type": "execute_result"
    }
   ],
   "source": [
    "merged.query('first_name == \"Le\" & last_name == \"Wood\"')"
   ]
  },
  {
   "cell_type": "markdown",
   "id": "7e2b12b2-2683-43d6-86d2-6de991cc7bfa",
   "metadata": {},
   "source": [
    "### 練習 4\n",
    "\n",
    "計算 customer_id 等於 1 的人有多少訂單\n"
   ]
  },
  {
   "cell_type": "code",
   "execution_count": 104,
   "id": "c4588034-abfb-42d1-babc-17dae8398db7",
   "metadata": {},
   "outputs": [
    {
     "data": {
      "text/plain": [
       "3"
      ]
     },
     "execution_count": 104,
     "metadata": {},
     "output_type": "execute_result"
    }
   ],
   "source": [
    "filter1 = merged['customer_id'] == 1\n",
    "merged[filter1]['customer_id'].count()"
   ]
  },
  {
   "cell_type": "markdown",
   "id": "9e3f59fb-9d30-443b-9b70-b909196b59a7",
   "metadata": {},
   "source": [
    "### 練習5\n",
    "計算每個 customer 分別有多少訂單\n",
    "\n",
    "提示\n",
    "\n",
    "df.groupby\n",
    "\n",
    "df.size"
   ]
  },
  {
   "cell_type": "code",
   "execution_count": 124,
   "id": "d989f5c3-b49a-4a80-9411-388c76f000a2",
   "metadata": {
    "scrolled": true
   },
   "outputs": [
    {
     "data": {
      "text/plain": [
       "customer_id\n",
       "1       3\n",
       "2       3\n",
       "3       3\n",
       "4       3\n",
       "5       3\n",
       "       ..\n",
       "1441    1\n",
       "1442    1\n",
       "1443    1\n",
       "1444    1\n",
       "1445    1\n",
       "Length: 1445, dtype: int64"
      ]
     },
     "execution_count": 124,
     "metadata": {},
     "output_type": "execute_result"
    }
   ],
   "source": [
    "num_orders = merged.groupby(['customer_id']).size()\n",
    "num_orders"
   ]
  },
  {
   "cell_type": "code",
   "execution_count": 125,
   "id": "837267ba-5759-4f92-90c9-7b19a06298d7",
   "metadata": {},
   "outputs": [],
   "source": [
    "num_orders = num_orders.reset_index()"
   ]
  },
  {
   "cell_type": "code",
   "execution_count": 126,
   "id": "40cec430-6832-48ff-893c-fd743414935a",
   "metadata": {},
   "outputs": [
    {
     "data": {
      "text/html": [
       "<div>\n",
       "<style scoped>\n",
       "    .dataframe tbody tr th:only-of-type {\n",
       "        vertical-align: middle;\n",
       "    }\n",
       "\n",
       "    .dataframe tbody tr th {\n",
       "        vertical-align: top;\n",
       "    }\n",
       "\n",
       "    .dataframe thead th {\n",
       "        text-align: right;\n",
       "    }\n",
       "</style>\n",
       "<table border=\"1\" class=\"dataframe\">\n",
       "  <thead>\n",
       "    <tr style=\"text-align: right;\">\n",
       "      <th></th>\n",
       "      <th>customer_id</th>\n",
       "      <th>0</th>\n",
       "    </tr>\n",
       "  </thead>\n",
       "  <tbody>\n",
       "    <tr>\n",
       "      <th>0</th>\n",
       "      <td>1</td>\n",
       "      <td>3</td>\n",
       "    </tr>\n",
       "    <tr>\n",
       "      <th>1</th>\n",
       "      <td>2</td>\n",
       "      <td>3</td>\n",
       "    </tr>\n",
       "    <tr>\n",
       "      <th>2</th>\n",
       "      <td>3</td>\n",
       "      <td>3</td>\n",
       "    </tr>\n",
       "    <tr>\n",
       "      <th>3</th>\n",
       "      <td>4</td>\n",
       "      <td>3</td>\n",
       "    </tr>\n",
       "    <tr>\n",
       "      <th>4</th>\n",
       "      <td>5</td>\n",
       "      <td>3</td>\n",
       "    </tr>\n",
       "    <tr>\n",
       "      <th>...</th>\n",
       "      <td>...</td>\n",
       "      <td>...</td>\n",
       "    </tr>\n",
       "    <tr>\n",
       "      <th>1440</th>\n",
       "      <td>1441</td>\n",
       "      <td>1</td>\n",
       "    </tr>\n",
       "    <tr>\n",
       "      <th>1441</th>\n",
       "      <td>1442</td>\n",
       "      <td>1</td>\n",
       "    </tr>\n",
       "    <tr>\n",
       "      <th>1442</th>\n",
       "      <td>1443</td>\n",
       "      <td>1</td>\n",
       "    </tr>\n",
       "    <tr>\n",
       "      <th>1443</th>\n",
       "      <td>1444</td>\n",
       "      <td>1</td>\n",
       "    </tr>\n",
       "    <tr>\n",
       "      <th>1444</th>\n",
       "      <td>1445</td>\n",
       "      <td>1</td>\n",
       "    </tr>\n",
       "  </tbody>\n",
       "</table>\n",
       "<p>1445 rows × 2 columns</p>\n",
       "</div>"
      ],
      "text/plain": [
       "      customer_id  0\n",
       "0               1  3\n",
       "1               2  3\n",
       "2               3  3\n",
       "3               4  3\n",
       "4               5  3\n",
       "...           ... ..\n",
       "1440         1441  1\n",
       "1441         1442  1\n",
       "1442         1443  1\n",
       "1443         1444  1\n",
       "1444         1445  1\n",
       "\n",
       "[1445 rows x 2 columns]"
      ]
     },
     "execution_count": 126,
     "metadata": {},
     "output_type": "execute_result"
    }
   ],
   "source": [
    "num_orders"
   ]
  },
  {
   "cell_type": "markdown",
   "id": "3a907965-b097-448e-a362-725e88c26212",
   "metadata": {},
   "source": [
    "### 練習6 改 num_orders 的欄位\n",
    "\n",
    "0 改成 orders"
   ]
  },
  {
   "cell_type": "code",
   "execution_count": 129,
   "id": "e1937877-71fc-41ca-b1fa-9b60feec9496",
   "metadata": {
    "scrolled": true
   },
   "outputs": [
    {
     "data": {
      "text/html": [
       "<div>\n",
       "<style scoped>\n",
       "    .dataframe tbody tr th:only-of-type {\n",
       "        vertical-align: middle;\n",
       "    }\n",
       "\n",
       "    .dataframe tbody tr th {\n",
       "        vertical-align: top;\n",
       "    }\n",
       "\n",
       "    .dataframe thead th {\n",
       "        text-align: right;\n",
       "    }\n",
       "</style>\n",
       "<table border=\"1\" class=\"dataframe\">\n",
       "  <thead>\n",
       "    <tr style=\"text-align: right;\">\n",
       "      <th></th>\n",
       "      <th>customer_id</th>\n",
       "      <th>orders</th>\n",
       "    </tr>\n",
       "  </thead>\n",
       "  <tbody>\n",
       "    <tr>\n",
       "      <th>0</th>\n",
       "      <td>1</td>\n",
       "      <td>3</td>\n",
       "    </tr>\n",
       "    <tr>\n",
       "      <th>1</th>\n",
       "      <td>2</td>\n",
       "      <td>3</td>\n",
       "    </tr>\n",
       "    <tr>\n",
       "      <th>2</th>\n",
       "      <td>3</td>\n",
       "      <td>3</td>\n",
       "    </tr>\n",
       "    <tr>\n",
       "      <th>3</th>\n",
       "      <td>4</td>\n",
       "      <td>3</td>\n",
       "    </tr>\n",
       "    <tr>\n",
       "      <th>4</th>\n",
       "      <td>5</td>\n",
       "      <td>3</td>\n",
       "    </tr>\n",
       "    <tr>\n",
       "      <th>...</th>\n",
       "      <td>...</td>\n",
       "      <td>...</td>\n",
       "    </tr>\n",
       "    <tr>\n",
       "      <th>1440</th>\n",
       "      <td>1441</td>\n",
       "      <td>1</td>\n",
       "    </tr>\n",
       "    <tr>\n",
       "      <th>1441</th>\n",
       "      <td>1442</td>\n",
       "      <td>1</td>\n",
       "    </tr>\n",
       "    <tr>\n",
       "      <th>1442</th>\n",
       "      <td>1443</td>\n",
       "      <td>1</td>\n",
       "    </tr>\n",
       "    <tr>\n",
       "      <th>1443</th>\n",
       "      <td>1444</td>\n",
       "      <td>1</td>\n",
       "    </tr>\n",
       "    <tr>\n",
       "      <th>1444</th>\n",
       "      <td>1445</td>\n",
       "      <td>1</td>\n",
       "    </tr>\n",
       "  </tbody>\n",
       "</table>\n",
       "<p>1445 rows × 2 columns</p>\n",
       "</div>"
      ],
      "text/plain": [
       "      customer_id  orders\n",
       "0               1       3\n",
       "1               2       3\n",
       "2               3       3\n",
       "3               4       3\n",
       "4               5       3\n",
       "...           ...     ...\n",
       "1440         1441       1\n",
       "1441         1442       1\n",
       "1442         1443       1\n",
       "1443         1444       1\n",
       "1444         1445       1\n",
       "\n",
       "[1445 rows x 2 columns]"
      ]
     },
     "execution_count": 129,
     "metadata": {},
     "output_type": "execute_result"
    }
   ],
   "source": [
    "num_orders.columns = ['customer_id', 'orders']\n",
    "num_orders"
   ]
  },
  {
   "cell_type": "markdown",
   "id": "99a948f7-e05a-421e-9509-9ee9bcdbb8e5",
   "metadata": {},
   "source": [
    "### 練習 7\n",
    "統計每個訂單量有幾個人\n",
    "\n",
    "比如說有幾個人有3個訂單\n",
    "\n",
    "提示\n",
    "照抄練習5"
   ]
  },
  {
   "cell_type": "code",
   "execution_count": 132,
   "id": "c36f6b9e-76af-4b9d-b681-f79263fe827d",
   "metadata": {},
   "outputs": [
    {
     "ename": "TypeError",
     "evalue": "'Index' object is not callable",
     "output_type": "error",
     "traceback": [
      "\u001b[0;31m---------------------------------------------------------------------------\u001b[0m",
      "\u001b[0;31mTypeError\u001b[0m                                 Traceback (most recent call last)",
      "Cell \u001b[0;32mIn[132], line 1\u001b[0m\n\u001b[0;32m----> 1\u001b[0m stats \u001b[38;5;241m=\u001b[39m \u001b[43mnum_orders\u001b[49m\u001b[38;5;241;43m.\u001b[39;49m\u001b[43mgroupby\u001b[49m\u001b[43m(\u001b[49m\u001b[43m[\u001b[49m\u001b[38;5;124;43m'\u001b[39;49m\u001b[38;5;124;43morders\u001b[39;49m\u001b[38;5;124;43m'\u001b[39;49m\u001b[43m]\u001b[49m\u001b[43m)\u001b[49m\u001b[38;5;241;43m.\u001b[39;49m\u001b[43msize\u001b[49m\u001b[43m(\u001b[49m\u001b[43m)\u001b[49m\u001b[38;5;241;43m.\u001b[39;49m\u001b[43mindex\u001b[49m\u001b[43m(\u001b[49m\u001b[43m)\u001b[49m\n",
      "\u001b[0;31mTypeError\u001b[0m: 'Index' object is not callable"
     ]
    }
   ],
   "source": [
    "stats = num_orders.groupby(['orders']).size().reste_index()\n"
   ]
  },
  {
   "cell_type": "markdown",
   "id": "81b7d918-04e2-43ce-bebd-bf1330596183",
   "metadata": {},
   "source": [
    "# 影像班"
   ]
  },
  {
   "cell_type": "markdown",
   "id": "f4731de0-9ff4-4809-9d41-85f675fbadc1",
   "metadata": {},
   "source": [
    "作業 01\n",
    "請計算底下其中一張 cell 圖片裡面總共有幾個cell。\n",
    "\n",
    "https://www.nexcelom.com/wp-content/uploads/2020/07/trypan-blue-stained-cho-cells.jpg\n",
    "\n",
    "https://www.news-medical.net/image.axd?picture=2020%2F4%2Fart2-1-3.jpg\n",
    "\n",
    "https://media-us.amboss.com/media/thumbs/big_5769bf9d1ee41.jpg"
   ]
  },
  {
   "cell_type": "code",
   "execution_count": null,
   "id": "861253cb-df83-44c7-8b86-1c05cf74dc92",
   "metadata": {},
   "outputs": [],
   "source": [
    "!curl -O https://media-us.amboss.com/media/thumbs/big_5769bf9d1ee41.jpg"
   ]
  },
  {
   "cell_type": "code",
   "execution_count": null,
   "id": "625515b7-e041-48d3-aaab-89eb489d92a7",
   "metadata": {},
   "outputs": [],
   "source": [
    "import cv2"
   ]
  },
  {
   "cell_type": "code",
   "execution_count": null,
   "id": "dc86e7ed-2baf-428e-92c6-d6523dc1f29a",
   "metadata": {},
   "outputs": [],
   "source": [
    "original = cv2.imread('big_5769bf9d1ee41.jpg', cv2.IMREAD_GRAYSCALE)"
   ]
  },
  {
   "cell_type": "code",
   "execution_count": null,
   "id": "5c97175f-2f1e-4f0c-8405-38b2475f3468",
   "metadata": {},
   "outputs": [],
   "source": [
    "import plotly.express as px\n",
    "px.imshow(original, color_continuous_scale='gray')"
   ]
  },
  {
   "cell_type": "code",
   "execution_count": null,
   "id": "382fb34f-e18c-438f-a01a-748154f6a86a",
   "metadata": {},
   "outputs": [],
   "source": [
    "_, binary = cv2.threshold(original, 200, 255, cv2.THRESH_BINARY)"
   ]
  },
  {
   "cell_type": "code",
   "execution_count": null,
   "id": "bfb7f88d-27de-4aa9-998d-830cca71f0ec",
   "metadata": {},
   "outputs": [],
   "source": [
    "px.imshow(binary, color_continuous_scale='gray')"
   ]
  },
  {
   "cell_type": "code",
   "execution_count": null,
   "id": "cf363e30-a0c8-41c6-8a0c-077cf9e570a8",
   "metadata": {},
   "outputs": [],
   "source": [
    "binary_inv = 255 - binary\n",
    "px.imshow(binary_inv, color_continuous_scale='gray')"
   ]
  },
  {
   "cell_type": "code",
   "execution_count": null,
   "id": "a408d6e3-3ad9-4de0-ae72-7e602b5b4d5d",
   "metadata": {},
   "outputs": [],
   "source": [
    "_, binary3 = cv2.threshold(original, 200, 255, cv2.THRESH_BINARY_INV)\n",
    "px.imshow(binary3, color_continuous_scale='gray')"
   ]
  },
  {
   "cell_type": "code",
   "execution_count": null,
   "id": "d4d264ae-84de-49cd-a3a6-c0bb3b5c9374",
   "metadata": {},
   "outputs": [],
   "source": [
    "# open 的操作,  erode 再 diluate\n",
    "kernel = cv2.getStructuringElement(cv2.MORPH_RECT, (3, 3))\n",
    "eroded = cv2.erode(binary3, kernel)"
   ]
  },
  {
   "cell_type": "code",
   "execution_count": null,
   "id": "c120693e-756a-4d3c-b0d5-784ad1e9a4c1",
   "metadata": {},
   "outputs": [],
   "source": [
    "px.imshow(eroded, color_continuous_scale='gray')"
   ]
  },
  {
   "cell_type": "code",
   "execution_count": null,
   "id": "18ef21f9-4b86-48fa-9d7a-1f35c90637b2",
   "metadata": {
    "scrolled": true
   },
   "outputs": [],
   "source": [
    "opened = cv2.dilate(eroded, kernel)\n",
    "px.imshow(opened, color_continuous_scale='gray')"
   ]
  },
  {
   "cell_type": "code",
   "execution_count": null,
   "id": "cf78c21a-0b2f-4ceb-9484-48bca12c5da0",
   "metadata": {},
   "outputs": [],
   "source": [
    "contours, hierarchy = cv2.findContours(opened, cv2.RETR_EXTERNAL, cv2.CHAIN_APPROX_SIMPLE)"
   ]
  },
  {
   "cell_type": "code",
   "execution_count": null,
   "id": "576d72d5-f698-4fc4-97e0-c19b466862ec",
   "metadata": {},
   "outputs": [],
   "source": [
    "processed = original.copy()\n",
    "for (i, c) in enumerate(contours):\n",
    "  (x, y, w, h) = cv2.boundingRect(c)\n",
    "  cv2.rectangle(processed, (x, y), (x+w, y+h), (0, 0, 255), 3)\n",
    "  cv2.putText(processed, f\"{i+1}\", (x, y - 5), 2, 0.5, (0, 0, 255), 2)\n",
    "px.imshow(processed)"
   ]
  },
  {
   "cell_type": "raw",
   "id": "3d63d2d5-99a7-4995-98ee-94b2244866ff",
   "metadata": {},
   "source": [
    "contours 有多組邊界的資訊"
   ]
  },
  {
   "cell_type": "code",
   "execution_count": null,
   "id": "4e6e0743-fd7d-4a29-944d-86537a9ff0fd",
   "metadata": {},
   "outputs": [],
   "source": [
    "# 取得第一組邊界的資訊\n",
    "contours[0]"
   ]
  },
  {
   "cell_type": "code",
   "execution_count": null,
   "id": "32e96469-4b1e-49bc-8b2c-1023b11c4408",
   "metadata": {},
   "outputs": [],
   "source": [
    "# 取得第一組邊界的正方向\n",
    "cv2.boundingRect(contours[0])"
   ]
  },
  {
   "cell_type": "markdown",
   "id": "1059cb95-c560-4f18-98bb-833fa75e4888",
   "metadata": {},
   "source": [
    "### enumerate 解釋"
   ]
  },
  {
   "cell_type": "code",
   "execution_count": null,
   "id": "7ff3f424-1d5d-4193-8113-ae80e0583adc",
   "metadata": {},
   "outputs": [],
   "source": [
    "a = ['a' , 'b', 'c']\n",
    "for item in a:\n",
    "    print(item)"
   ]
  },
  {
   "cell_type": "code",
   "execution_count": null,
   "id": "1fe58cdc-83c5-41c1-9ce9-e0e58b3f67e5",
   "metadata": {},
   "outputs": [],
   "source": [
    "for index, item in enumerate(a):\n",
    "    print(index, item)"
   ]
  },
  {
   "cell_type": "markdown",
   "id": "46532426-2185-468d-af10-f834735c2d26",
   "metadata": {},
   "source": [
    "# 綜合問答"
   ]
  },
  {
   "cell_type": "markdown",
   "id": "7acbefa1-5090-40bc-ac8b-2027909edd95",
   "metadata": {},
   "source": [
    "rds 練習\n",
    "\n",
    "https://www.kaggle.com/datasets/dillonmyrick/bike-store-sample-database"
   ]
  },
  {
   "cell_type": "code",
   "execution_count": null,
   "id": "701c628b-b630-4772-bcae-9ef9be34d848",
   "metadata": {},
   "outputs": [],
   "source": [
    "#"
   ]
  }
 ],
 "metadata": {
  "kernelspec": {
   "display_name": "Python 3 (ipykernel)",
   "language": "python",
   "name": "python3"
  },
  "language_info": {
   "codemirror_mode": {
    "name": "ipython",
    "version": 3
   },
   "file_extension": ".py",
   "mimetype": "text/x-python",
   "name": "python",
   "nbconvert_exporter": "python",
   "pygments_lexer": "ipython3",
   "version": "3.10.13"
  }
 },
 "nbformat": 4,
 "nbformat_minor": 5
}
