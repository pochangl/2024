{
 "cells": [
  {
   "cell_type": "markdown",
   "id": "dcc9544d-9057-4a5b-8ef5-9ec211bb400d",
   "metadata": {},
   "source": [
    "# 基礎班"
   ]
  },
  {
   "cell_type": "markdown",
   "id": "ad4260da-aa53-4ce8-befa-63c0fc8575cd",
   "metadata": {},
   "source": [
    "變數\n",
    "```python\n",
    "a = 1\n",
    "```"
   ]
  },
  {
   "cell_type": "markdown",
   "id": "8a4ea909-9431-4df4-be22-807dc8a451aa",
   "metadata": {},
   "source": [
    "### 四則運算\n",
    "```python\n",
    "a = 1\n",
    "b = 2\n",
    "\n",
    "a + b\n",
    "a * b\n",
    "a / b\n",
    "a % b\n",
    "```"
   ]
  },
  {
   "cell_type": "markdown",
   "id": "831c4675-0702-48a0-b85b-d3364083f75e",
   "metadata": {},
   "source": [
    "\n",
    "### 函式\n",
    "```python\n",
    "\n",
    "def add(a, b):\n",
    "    return a + b\n",
    "\n",
    "/// 函式呼叫\n",
    "print(add(1, 2))\n",
    "```"
   ]
  },
  {
   "cell_type": "markdown",
   "id": "5e6c3af7-1d8b-4a44-8583-6ad6f249bead",
   "metadata": {},
   "source": [
    "###導入套件\n",
    "\n",
    "```python\n",
    "from matplotlib.pyplot as plt\n",
    "\n",
    "```"
   ]
  },
  {
   "cell_type": "markdown",
   "id": "9686d3b1-44a9-453d-804d-c1386eda4e90",
   "metadata": {},
   "source": [
    "### 基本資料型態\n",
    "* str - 字串 \"abcdef\"\n",
    "* bool - 布林值 True, False\n",
    "* int - 正整數 1, 2, 3, 4\n",
    "* float - 1.2"
   ]
  },
  {
   "cell_type": "markdown",
   "id": "1502ceab-b0c7-4eae-b306-10a8f8ae638b",
   "metadata": {},
   "source": [
    "### 容器形別\n",
    "\n",
    "* tuple - (1, 2, 3, 4)\n",
    "* list - [1, 2, 3, 4]\n",
    "* set - {1, 2, 3, 4}\n",
    "* dict - {'key1': 1, 'value1': 2}"
   ]
  },
  {
   "cell_type": "markdown",
   "id": "fbc97659-9763-4cac-8a16-d1189e89914f",
   "metadata": {},
   "source": [
    "### 使用到的套件\n",
    "```python\n",
    "import pandas\n",
    "import numpy\n",
    "import plotly.express as px\n",
    "import matplotlib\n",
    "```"
   ]
  },
  {
   "cell_type": "markdown",
   "id": "81b7d918-04e2-43ce-bebd-bf1330596183",
   "metadata": {},
   "source": [
    "# 影像班"
   ]
  },
  {
   "cell_type": "markdown",
   "id": "46532426-2185-468d-af10-f834735c2d26",
   "metadata": {},
   "source": [
    "# 綜合問答"
   ]
  },
  {
   "cell_type": "markdown",
   "id": "7acbefa1-5090-40bc-ac8b-2027909edd95",
   "metadata": {},
   "source": [
    "rds 練習\n",
    "\n",
    "https://www.kaggle.com/datasets/dillonmyrick/bike-store-sample-database"
   ]
  },
  {
   "cell_type": "code",
   "execution_count": null,
   "id": "701c628b-b630-4772-bcae-9ef9be34d848",
   "metadata": {},
   "outputs": [],
   "source": [
    "#"
   ]
  }
 ],
 "metadata": {
  "kernelspec": {
   "display_name": "Python 3 (ipykernel)",
   "language": "python",
   "name": "python3"
  },
  "language_info": {
   "codemirror_mode": {
    "name": "ipython",
    "version": 3
   },
   "file_extension": ".py",
   "mimetype": "text/x-python",
   "name": "python",
   "nbconvert_exporter": "python",
   "pygments_lexer": "ipython3",
   "version": "3.10.13"
  }
 },
 "nbformat": 4,
 "nbformat_minor": 5
}
