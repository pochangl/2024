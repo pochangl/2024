{
 "cells": [
  {
   "cell_type": "markdown",
   "metadata": {},
   "source": [
    "# 基礎班問答 13:30 - 14:30"
   ]
  },
  {
   "cell_type": "markdown",
   "metadata": {},
   "source": [
    "問1. Class內如果有多個函式，如何使用共同變數，有沒有使用技巧@@?"
   ]
  },
  {
   "cell_type": "raw",
   "metadata": {},
   "source": [
    "如果某個按鈕執行了，該class內的第一個函式，會取得某些值\n",
    "後續如果在執行某個按鈕，執行class內的第二個函式，如果在第二個函式內使用第一個函式的值\n",
    "第一個函式的值會持續保留上一次執行後的值嗎"
   ]
  },
  {
   "cell_type": "code",
   "execution_count": 59,
   "metadata": {},
   "outputs": [],
   "source": [
    "class Cls:\n",
    "    def func1(self, a, b):\n",
    "        Cls.func1_result = a + b\n",
    "        return a + b\n",
    "\n",
    "    def func2(self):\n",
    "        return Cls.func1_result\n",
    "        "
   ]
  },
  {
   "cell_type": "code",
   "execution_count": 58,
   "metadata": {},
   "outputs": [],
   "source": [
    "globals()['a'] = 1"
   ]
  },
  {
   "cell_type": "code",
   "execution_count": 64,
   "metadata": {},
   "outputs": [
    {
     "data": {
      "text/plain": [
       "1"
      ]
     },
     "execution_count": 64,
     "metadata": {},
     "output_type": "execute_result"
    }
   ],
   "source": [
    "a"
   ]
  },
  {
   "cell_type": "markdown",
   "metadata": {},
   "source": [
    "## 問2."
   ]
  },
  {
   "cell_type": "markdown",
   "metadata": {
    "scrolled": true
   },
   "source": [
    "```python \n",
    "\n",
    "@app.callback(                              \n",
    "        Output(component_id=\"my-output\", component_property=\"children\"),   #Output(\"my-output\", \"children\"),\n",
    "        Output(component_id=\"my-output-1\", component_property=\"children\"),\n",
    "        Input(component_id=\"my-button\", component_property=\"n_clicks\"),\n",
    "        # Input(component_id=\"my-button-1\", component_property=\"n_clicks\")  #Input(\"my-button-1\", \"n_clicks\")\n",
    ")  #@表裝飾器，下面一行須直接接函式\n",
    "def click_button(n):  #兩個input，()內就有兩個代數\n",
    "    return n, n+10\n",
    " \n",
    "為什麼def function跟@app.callback中間不能有空一行，這個原理是什麼\n",
    " \n",
    "@app.callback(\n",
    "    [Output('previous_fn_data', 'data')],\n",
    "    [Input('fn_report', 'data')]\n",
    ")\n",
    " \n",
    "def save_data(data):\n",
    " \n",
    "    return [data]\n",
    "```\n",
    "這段程式實測上還是可以執行\n",
    " \n",
    "兩段程式的差異點是什麼???"
   ]
  },
  {
   "cell_type": "markdown",
   "metadata": {},
   "source": [
    "答: 在我電腦上都可以執行, 也許是 Sam 有什麼考量"
   ]
  },
  {
   "cell_type": "markdown",
   "metadata": {},
   "source": [
    "## 問3 dash 可以顯示本機路徑的圖檔嗎??"
   ]
  },
  {
   "cell_type": "markdown",
   "metadata": {},
   "source": [
    "把圖片放到 assets/ 資料夾內\n",
    "然後用\n",
    "```python\n",
    "html.Img(src=...)\n",
    "```\n",
    "將圖呈現出來\n",
    "\n",
    "其它地方的圖片請先手動或用程式 copy 到 assets folder 裡\n",
    "\n",
    "```python\n",
    "import shutil\n",
    "\n",
    "shutil.copyfile(src, dst)\n",
    "```\n"
   ]
  },
  {
   "cell_type": "markdown",
   "metadata": {},
   "source": [
    "# 影像班問答 14:30 - 15: 30"
   ]
  },
  {
   "cell_type": "markdown",
   "metadata": {},
   "source": [
    "# 綜合問答 15:30 -"
   ]
  },
  {
   "cell_type": "markdown",
   "metadata": {},
   "source": [
    "# 練習"
   ]
  },
  {
   "cell_type": "markdown",
   "metadata": {},
   "source": [
    "## 總合"
   ]
  },
  {
   "cell_type": "code",
   "execution_count": 65,
   "metadata": {},
   "outputs": [],
   "source": [
    "a = [1, 2, 3, 4]"
   ]
  },
  {
   "cell_type": "markdown",
   "metadata": {},
   "source": [
    "## 加法"
   ]
  },
  {
   "cell_type": "code",
   "execution_count": null,
   "metadata": {},
   "outputs": [],
   "source": [
    "a = [1, 2, 3, 4]\n",
    "b = [3, 5, 7, 9]"
   ]
  },
  {
   "cell_type": "markdown",
   "metadata": {},
   "source": [
    "## indexing"
   ]
  },
  {
   "cell_type": "code",
   "execution_count": null,
   "metadata": {},
   "outputs": [],
   "source": [
    "a = [1, 2, 3, 4]"
   ]
  },
  {
   "cell_type": "markdown",
   "metadata": {},
   "source": [
    "## Slicing"
   ]
  },
  {
   "cell_type": "code",
   "execution_count": null,
   "metadata": {},
   "outputs": [],
   "source": [
    "a = [1, 2, 3, 4]"
   ]
  },
  {
   "cell_type": "markdown",
   "metadata": {},
   "source": [
    "## 2D slicing"
   ]
  },
  {
   "cell_type": "code",
   "execution_count": null,
   "metadata": {},
   "outputs": [],
   "source": [
    "a = [\n",
    "    [1, 2, 3, 4, 5],\n",
    "    [6, 7, 8, 9, 10],\n",
    "    [11, 12, 13, 14, 15],\n",
    "    [16, 17, 18, 19, 20],\n",
    "    [21, 22, 23, 24, 25],\n",
    "]\n",
    "    "
   ]
  },
  {
   "cell_type": "markdown",
   "metadata": {},
   "source": [
    "## 一元一次方程式"
   ]
  },
  {
   "cell_type": "markdown",
   "metadata": {},
   "source": [
    "$$\n",
    "f(x) = 2a + 4\n",
    "$$\n",
    "\n",
    "```\n",
    "markdown 寫法\n",
    "$$\n",
    "f(x) = 2a + 4\n",
    "$$\n",
    "\n",
    "```"
   ]
  },
  {
   "cell_type": "code",
   "execution_count": null,
   "metadata": {},
   "outputs": [],
   "source": [
    "a = [1, 2, 3, 4]"
   ]
  },
  {
   "cell_type": "markdown",
   "metadata": {},
   "source": [
    "## 一元二次方程式\n",
    "$$\n",
    "f(a) = 2a^2 + 3a + 1\n",
    "$$"
   ]
  },
  {
   "cell_type": "code",
   "execution_count": null,
   "metadata": {},
   "outputs": [],
   "source": [
    "a = [1, 2, 3, 4]"
   ]
  },
  {
   "cell_type": "markdown",
   "metadata": {},
   "source": [
    "## 二元一次方程式\n",
    "$$\n",
    "f(a, b) = 2a + 3b + 5\n",
    "$$"
   ]
  },
  {
   "cell_type": "code",
   "execution_count": null,
   "metadata": {},
   "outputs": [],
   "source": [
    "a = [1, 2, 3, 4]\n",
    "b = [3, 5, 7, 9]"
   ]
  },
  {
   "cell_type": "markdown",
   "metadata": {},
   "source": [
    "## 三角函數角度 (degree) 轉弧度(radian) "
   ]
  },
  {
   "cell_type": "code",
   "execution_count": null,
   "metadata": {},
   "outputs": [],
   "source": [
    "degrees = [0, 30, 45, 60, 90, 135, 180, 225]"
   ]
  },
  {
   "cell_type": "code",
   "execution_count": null,
   "metadata": {},
   "outputs": [],
   "source": [
    "radians = [0 , 0.52359878, 0.78539816, 1.04719755, 1.57079633, 2.35619449, 3.14159265, 3.92699082]"
   ]
  },
  {
   "cell_type": "markdown",
   "metadata": {},
   "source": [
    "## 統計"
   ]
  },
  {
   "cell_type": "code",
   "execution_count": null,
   "metadata": {},
   "outputs": [],
   "source": [
    "data = numpy.random.normal(loc=5, scale=15, size=100)"
   ]
  },
  {
   "cell_type": "code",
   "execution_count": null,
   "metadata": {},
   "outputs": [],
   "source": []
  }
 ],
 "metadata": {
  "kernelspec": {
   "display_name": "Python 3 (ipykernel)",
   "language": "python",
   "name": "python3"
  },
  "language_info": {
   "codemirror_mode": {
    "name": "ipython",
    "version": 3
   },
   "file_extension": ".py",
   "mimetype": "text/x-python",
   "name": "python",
   "nbconvert_exporter": "python",
   "pygments_lexer": "ipython3",
   "version": "3.8.10"
  }
 },
 "nbformat": 4,
 "nbformat_minor": 4
}
