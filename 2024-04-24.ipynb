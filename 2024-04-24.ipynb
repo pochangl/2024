{
 "cells": [
  {
   "cell_type": "code",
   "execution_count": 1,
   "id": "293e0f8d-4789-49bc-b877-bdd1f8d0f004",
   "metadata": {},
   "outputs": [],
   "source": [
    "import cv2\n",
    "import pandas\n",
    "import numpy\n",
    "from plotly import express as px"
   ]
  },
  {
   "cell_type": "markdown",
   "id": "965cf859-7096-4fac-87d7-a2075bfd7e98",
   "metadata": {},
   "source": [
    "自動排程\n",
    "\n",
    "https://pypi.org/project/APScheduler/"
   ]
  },
  {
   "cell_type": "code",
   "execution_count": null,
   "id": "c72cb5b5-4c78-42cb-aa82-5b8caf7a2fd5",
   "metadata": {},
   "outputs": [],
   "source": []
  }
 ],
 "metadata": {
  "kernelspec": {
   "display_name": "Python 3 (ipykernel)",
   "language": "python",
   "name": "python3"
  },
  "language_info": {
   "codemirror_mode": {
    "name": "ipython",
    "version": 3
   },
   "file_extension": ".py",
   "mimetype": "text/x-python",
   "name": "python",
   "nbconvert_exporter": "python",
   "pygments_lexer": "ipython3",
   "version": "3.8.10"
  }
 },
 "nbformat": 4,
 "nbformat_minor": 5
}
