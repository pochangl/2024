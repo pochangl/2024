{
 "cells": [
  {
   "cell_type": "code",
   "execution_count": 3,
   "id": "293e0f8d-4789-49bc-b877-bdd1f8d0f004",
   "metadata": {},
   "outputs": [],
   "source": [
    "import cv2\n",
    "import pandas as pd\n",
    "import numpy as np\n",
    "from plotly import express as px"
   ]
  },
  {
   "cell_type": "markdown",
   "id": "965cf859-7096-4fac-87d7-a2075bfd7e98",
   "metadata": {},
   "source": [
    "自動排程\n",
    "\n",
    "https://pypi.org/project/APScheduler/"
   ]
  },
  {
   "cell_type": "code",
   "execution_count": null,
   "id": "c72cb5b5-4c78-42cb-aa82-5b8caf7a2fd5",
   "metadata": {},
   "outputs": [],
   "source": []
  },
  {
   "cell_type": "code",
   "execution_count": 6,
   "id": "1c0f757a-0c17-4a38-b65e-f26381f14532",
   "metadata": {},
   "outputs": [
    {
     "data": {
      "text/plain": [
       "array([[[0., 0., 0.],\n",
       "        [0., 0., 0.]]])"
      ]
     },
     "execution_count": 6,
     "metadata": {},
     "output_type": "execute_result"
    }
   ],
   "source": [
    "n"
   ]
  },
  {
   "cell_type": "code",
   "execution_count": null,
   "id": "1b6d1f10-2e97-4fbe-8e67-fd0d36fbaa9a",
   "metadata": {},
   "outputs": [],
   "source": [
    "pandas.read_csv('titanic_train.csv"
   ]
  }
 ],
 "metadata": {
  "kernelspec": {
   "display_name": "Python 3 (ipykernel)",
   "language": "python",
   "name": "python3"
  },
  "language_info": {
   "codemirror_mode": {
    "name": "ipython",
    "version": 3
   },
   "file_extension": ".py",
   "mimetype": "text/x-python",
   "name": "python",
   "nbconvert_exporter": "python",
   "pygments_lexer": "ipython3",
   "version": "3.8.10"
  }
 },
 "nbformat": 4,
 "nbformat_minor": 5
}
