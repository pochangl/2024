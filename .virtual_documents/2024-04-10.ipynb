








'A'


ord('A')


chr(65)


chr(ord('A') + 5)





text = 'This is a pen'


# 將文字轉換成 Ascii 數字的 list
numbers = [ ord(character) for character in text ]
numbers


# 將所有數字 + 8 並依 ASCII table 還原成字母
encrypted_numbers = [chr(num + 8)for num in numbers]
encrypted_numbers


# 再將字母字還原成字串
''.join(encrypted_numbers)

















def rom_to_int(text):
    return 1

def int_to_rom(text):
    return 'I'


a, b = input().split()


num1 = rom_to_int(a)
num2 = rom_to_int(b)
result = abs(num1 - num2)

print(int_to_rom(result))





























def fib(n):
    if n == 0:
        return 0
    elif n == 1:
        return 1
    return fib(n -1) + fib(n-2)



fib(0)


fib(1)


fib(2)


fib(3)


fib(4)


fib(5)


# 執行了 5 秒左右
fib(35)






# 快取
cache = {} 

def fib2(n):
    # 前兩項
    if n == 0:
        return 0
    elif n == 1:
        return 1

    # 嘗試存取快取
    try:
        return cache[n]
    except KeyError:
        pass

    # 如果沒有就計算費式數列
    value = fib2(n -1) + fib2(n-2)

    # 把結果存到快取
    cache[n] = value

    # 回傳結果
    return value


fib2(1)
cache


fib2(2)
cache


fib2(3)
cache


fib2(100)


cache





print(1, 2, 3)








print('a')
print('b')
print('c')


print('a\nb\nc\n')








rom_values = [
    ('CM', 900),
    ('M', 1000),
    ('CD', 400),
    ('D', 500),
    ('XC', 90),
    ('C', 100),
    ('XL', 40),
    ('L', 50),
    ('IX', 9),
    ('X', 10),
    ('IV', 4),
    ('V', 5),
    ('I', 1),
]

def rom_to_int(text):
    total = 0

    while text:
        for rom, value in rom_values:
            if rom in text:
                total = total + value
                text = text[len(rom):]
    return total


assert rom_to_int('I') == 1
assert rom_to_int('II') == 2
assert rom_to_int('IV') == 4
assert rom_to_int('IX') == 9
assert rom_to_int('XL') == 40
assert rom_to_int('XC') == 90
assert rom_to_int('CD') == 400
assert rom_to_int('CM') == 900
assert rom_to_int('MCDLXVIII') == 1468


text = 'abc'
# 拿掉 AB
text[2:]

# 拿掉AB 第二個寫法
text[len('ab'):]











n = 5


left = 5
right = 5


def brackets(left, right):
    if left == right == 0:
        return ['']

    # 確保右括號比左括號多
    if right < left:
        return []

    combinations = []
    # 加左分支的 Bracket
    if left != 0:
        for combo in brackets(left=left-1, right=right):
            combinations.append('(' + combo)

    # 加右分支的 bracket
    if right != 0:
        for combo in brackets(left=left, right=right -1):
            combinations.append(')' + combo)
            
    return combinations


brackets(left=1, right=1)


assert brackets(left=1, right=1) == ['()']

assert brackets(left=3, right=3) == [
    '((()))',
    '(()())',
    '(())()',
    '()(())',
    '()()()',
]






[1, 2, 3] == [1, 2, 3]


[1, 2, 3] == [1, 2]


[1, 2, 3] == [1, 3, 2]














# 快
print('\n'.join(brackets(3, 3)))


# 慢
for b in brackets(3, 3):
    print(b)



