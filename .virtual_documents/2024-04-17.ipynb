





text = 'I am batman.'
target = 'bat'


text[0:3] == target


text[1:1+3] == target


text[5:5+3] == target


text[5:5+3]


text.find?


'I am batman.'.find('bat')


text = 'aab'
target = 'ab'
# 要在 aab 裡找到 ab 的位置


text[0: 0 + 2]


text[1: 1 + 2]





text.find(target)








while True:
    try:
        _ = input()
    except:
        break
    text, target = input().split()
    





t = ['甲', '乙','丙','丁','戊','己','庚','辛','壬','癸']
d = ['子', '丑', '寅', '卯', '辰', '巳', '午', '未', '申', '酉', '戌', '亥']


t[0] + d[0]


t[1] + d[1]


t[9] +d[9]


t[10%10] + d[10]


t[11 % 10] + d[11]


t[12 % 10] + d[13 % 12]





# 假設 1800 是甲子年 (不正確)

year = 2024
r = (year - 1800) % 60
r


t[r % 10] + d[r % 12]





h1, m1, h2, m2, minutes = map(int, '21 00 21 15 13'.split())


f'{h1}點{m1}分, 公車{h2}點{m2}分到, 回家拿東西需要{minutes}分鐘'


import datetime


t1 = datetime.datetime(year=2000, month=1, day=1, hour=h1, minute=m1)
t1


t2 = datetime.datetime(year=2000, month=1, day=1, hour=h2, minute=m2)
t2


delta = t2 - t1
delta


delta.seconds /60








import datetime
t = datetime.datetime.now()
t








t.strftime('%Y')


# 2024-04-27
t.strftime('%Y-%m-%d')


s = '2024-04-27 12:12:12'

t2 = datetime.datetime.strptime(s, '%Y-%m-%d %H:%M:%S')
t2


t - datetime.timedelta(days=7)


t - datetime.timedelta(minutes=10)


t2 - t


# 練習






import pandas as pd


from sklearn.model_selection import train_test_split


df = pd.read_csv('mobile_price_range.csv')
df


y = df['price_range']


x = df[df.columns[:-1]]


x


x_train, x_test, y_train, y_test = train_test_split(x, y, random_state=1, test_size=0.2)


len(x_train)


len(x_test)


from sklearn.svm import SVC
clf = SVC()


clf.fit(x_train, y_train)


clf.score(x_test, y_test)








def f(x):
    return 2 * (x**2) + 3 *x + 6


data = [{'x': i, 'y': f(i)} for i in range(-100, 200)]


df = pandas.DataFrame(data)


df


x = df[['x']]
y = df['y']
x_train, x_test, y_train, y_test = train_test_split(x, y, random_state=1, test_size=0.2)






r = SVR(kernel='poly', degree=2, C=100)

r.fit(x_train, y_train)


r.score(x_test, y_test)


f(180.5)


r.predict([[180.5]])











df = pd.read_csv('titanic_train.csv')
df.head()


# 單獨取一欄位 Series
df['Sex'].head()


# 單獨取一欄位輸出成 DataFrame
df[['Sex']].head()


sex_age = df[['PassengerId', 'Sex', 'Age']]
sex_age.head()


sex_age.groupby('Sex').Age.mean()


embarked = df[['PassengerId', 'Embarked']]
embarked.columns = ['id', 'Embarked']
embarked.head()


pd.merge(sex_age, embarked, left_on='PassengerId', right_on='id')


pd.merge(sex_age, embarked.head(), left_on='PassengerId', right_on='id', how='outer')


pd.concat([sex_age.head(), sex_age.tail()])


df[df.PassengerId == 200]


df[df.PassengerId > 100][df.PassengerId < 200]


df.PassengerId > 100


h = df.head()
h


h[h.PassengerId == 3]


h[[False, False, True, False, False]]


h[(h.PassengerId == 3) & (h.PassengerId < 5)]


h.PassengerId



