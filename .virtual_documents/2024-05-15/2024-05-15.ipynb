








class Cls:
    def func1(self, a, b):
        Cls.func1_result = a + b
        return a + b

    def func2(self):
        return Cls.func1_result
        


globals()['a'] = 1


a





























a = [1, 2, 3, 4]


total = 0
for val in a:
    total = total + val
total


sum(a)


import numpy as np





a = [1, 2, 3, 4]
b = [3, 5, 7, 9]





a = [1, 2, 3, 4]





a = [1, 2, 3, 4]





a = [
    [1, 2, 3, 4, 5],
    [6, 7, 8, 9, 10],
    [11, 12, 13, 14, 15],
    [16, 17, 18, 19, 20],
    [21, 22, 23, 24, 25],
]
    








a = [1, 2, 3, 4]





a = [1, 2, 3, 4]





a = [1, 2, 3, 4]
b = [3, 5, 7, 9]





degrees = [0, 30, 45, 60, 90, 135, 180, 225]


radians = [0 , 0.52359878, 0.78539816, 1.04719755, 1.57079633, 2.35619449, 3.14159265, 3.92699082]





data = numpy.random.normal(loc=5, scale=15, size=100)



