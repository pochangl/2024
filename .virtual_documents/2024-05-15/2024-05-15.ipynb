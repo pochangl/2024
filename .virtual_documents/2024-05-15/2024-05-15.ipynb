








class Cls:
    def func1(self, a, b):
        Cls.func1_result = a + b
        return a + b

    def func2(self):
        return Cls.func1_result
        


globals()['a'] = 1





```python 
@app.callback(                              
        Output(component_id="my-output", component_property="children"),   #Output("my-output", "children"),
        Output(component_id="my-output-1", component_property="children"),
        Input(component_id="my-button", component_property="n_clicks"),
        # Input(component_id="my-button-1", component_property="n_clicks")  #Input("my-button-1", "n_clicks")
)  #@表裝飾器，下面一行須直接接函式
def click_button(n):  #兩個input，()內就有兩個代數
    return n, n+10
 
為什麼def function跟@app.callback中間不能有空一行，這個原理是什麼
 
@app.callback(
    [Output('previous_fn_data', 'data')],
    [Input('fn_report', 'data')]
)
 
def save_data(data):
 
    return [data]
```















a = [1, 2, 3, 4]





a = [1, 2, 3, 4]
b = [3, 5, 7, 9]





a = [1, 2, 3, 4]





a = [1, 2, 3, 4]





a = [
    [1, 2, 3, 4, 5],
    [6, 7, 8, 9, 10],
    [11, 12, 13, 14, 15],
    [16, 17, 18, 19, 20],
    [21, 22, 23, 24, 25],
]
    








a = [1, 2, 3, 4]





a = [1, 2, 3, 4]





a = [1, 2, 3, 4]
b = [3, 5, 7, 9]





degrees = [0, 30, 45, 60, 90, 135, 180, 225]


radians = [0 , 0.52359878, 0.78539816, 1.04719755, 1.57079633, 2.35619449, 3.14159265, 3.92699082]





data = numpy.random.normal(loc=5, scale=15, size=100)



