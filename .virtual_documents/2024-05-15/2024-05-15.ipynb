








class Cls:
    def func1(self, a, b):
        Cls.func1_result = a + b
        return a + b

    def func2(self):
        return Cls.func1_result
        


globals()['a'] = 1


a




















開啟檔案





from PIL import Image
img = Image.open('assets/A229.png')
img


import cv2


img = cv2.imread('assets/A229.png')
type(img)


cv2.imshow('img1', img)
cv2.waitKey(0) 
cv2.destroyAllWindows()








from PIL import Image
img = Image.open('assets/A229.png')
img


img.shape


img.thumbnail((50, 50))
img


img.shape











a = [1, 2, 3, 4]





total = 0
for val in a:
    total = total + val
total





sum(a)





import numpy as np


a = np.array(a)
a.sum()





np.sum(a)





a = [1, 2, 3, 4]
b = [3, 5, 7, 9]

# 預期結果 4, 7, 10, 13





result = []

for index in range(0, 4):
    result.append(a[index] + b[index])
print(result)





a = np.array(a)
b = np.array(b)

a + b





a = [1, 2, 3, 4]

a[1]





a = [1, 2, 3, 4, 5, 6, 7, 8, 9]





result = []
for index in range(1, 7):
    result.append(a[index])
result





a[1: 7]





a = np.array(a)
a[1: 7]








a = [
    [1, 2, 3, 4, 5],
    [6, 7, 8, 9, 10],
    [11, 12, 13, 14, 15],
    [16, 17, 18, 19, 20],
    [21, 22, 23, 24, 25],
]
    








a = [1, 2, 3, 4]





a = [1, 2, 3, 4]





a = [1, 2, 3, 4]
b = [3, 5, 7, 9]





degrees = [0, 30, 45, 60, 90, 135, 180, 225]


radians = [0 , 0.52359878, 0.78539816, 1.04719755, 1.57079633, 2.35619449, 3.14159265, 3.92699082]





data = numpy.random.normal(loc=5, scale=15, size=100)



