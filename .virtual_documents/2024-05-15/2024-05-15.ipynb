








class Cls:
    def func1(self, a, b):
        Cls.func1_result = a + b
        return a + b

    def func2(self):
        return Cls.func1_result
        


globals()['a'] = 1


a




















開啟檔案





from PIL import Image
img = Image.open('assets/A229.png')
img


import cv2


img = cv2.imread('assets/A229.png')
type(img)


cv2.imshow('img1', img)
cv2.waitKey(0) 
cv2.destroyAllWindows()








from PIL import Image
original = Image.open('assets/A229.png')


original


original.size


img = original.copy()
img.thumbnail((50, 50))
img
img.size


image = original.copy()
img.thumbnail((1000, 1000))
img.size


img.resize((1000, 1000))





from plotly import express as px
img = original.copy()



px.imshow(img)


# (312, 3) 到 (422, 120) 的正方型
left = 312
upper = 3
right = 422
lower = 120

img.crop((left, upper, right, lower))







bgr = cv2.imread('assets/A229.png')


bgr.shape   # BGR


px.imshow(bgr)


original[60][373]


## BGR = 120, 115, 243
## RGB = 243, 115, 120
bgr[60][373][::-1]


rgb = original[:,:,::-1]
px.imshow(rgb)


# (312, 3) 到 (422, 120) 的正方型
cropped = rgb[3:120, 312:422]
px.imshow(cropped)


from PIL import Image
original = Image.open('assets/A229.png')
original





img = original.copy()
print(img.rotate(45, fillcolor='black').size)
img.rotate(45, fillcolor='black')





img = original.copy()
print(img.rotate(45, expand=True, fillcolor='black').size)
img.rotate(45, expand=True, fillcolor='black')





original = cv2.imread('assets/A229.png')


img = Image.fromarray(original[:, :, ::-1])
img





import numpy as np


img = Image.open('assets/A229.png').convert('RGB')


cv2_img = np.array(img)[:,:, ::-1]


cv2.imshow('title', cv2_img)
cv2.waitKey(0)
cv2.destroyAllWindows()











import numpy as np
a = np.array([1, 2, 12, 200, 400])
speed = a[1:] - a[:-1]
acceleration = speed[1:] - speed[:-1]
print(speed)
print(acceleration)








a = [1, 2, 3, 4]





total = 0
for val in a:
    total = total + val
total





sum(a)





import numpy as np


a = np.array(a)
a.sum()





np.sum(a)





a = [1, 2, 3, 4]
b = [3, 5, 7, 9]

# 預期結果 4, 7, 10, 13





result = []

for index in range(0, 4):
    result.append(a[index] + b[index])
print(result)





a = np.array(a)
b = np.array(b)

a + b





a = [1, 2, 3, 4]

a[1]





a = [1, 2, 3, 4, 5, 6, 7, 8, 9]





result = []
for index in range(1, 7):
    result.append(a[index])
result





a[1: 7]





a = np.array(a)
a[1: 7]








a = [
    [1,  2,  3 , 4,  5],
    [6,  7,  8,  9,  10],
    [11, 12, 13, 14, 15],
    [16, 17, 18, 19, 20],
    [21, 22, 23, 24, 25],
]
    





result= [[], [], [],]

for x in range(3):
    for y in range(3):
        result[x].append(a[x + 1][y + 1])
print(result)


###python 作法


result = [
    a[1][1:4],
    a[2][1:4],
    a[3][1:4],
]
result


a = np.array(a)
a








a = [1, 2, 3, 4]





a = [1, 2, 3, 4]





a = [1, 2, 3, 4]
b = [3, 5, 7, 9]





degrees = [0, 30, 45, 60, 90, 135, 180, 225]


radians = [0 , 0.52359878, 0.78539816, 1.04719755, 1.57079633, 2.35619449, 3.14159265, 3.92699082]





data = numpy.random.normal(loc=5, scale=15, size=100)



