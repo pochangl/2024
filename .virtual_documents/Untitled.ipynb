import cv2
import pandas as pd
import numpy as np
from plotly import express as px








n


df = pandas.read_csv('titanic_train.csv')
df


series = df['Fare']
series


series.mean()


titanic_train.mean()


titanic_train[['Age', 'Fare']]


titanic_train[['Age', 'Fare']].mean()


series['Fare']


df.head()





df1 = df[['PassengerId', 'Name', 'Sex', 'Age']]
df1


df2 = df[['PassengerId', 'Ticket', 'Fare', 'Cabin', 'Embarked']]
df2


pd3 = pd.merge(left=df1, right=df2, on=["PassengerId"])
pd3


df1 = pd.DataFrame([{'col': 1, 'row': 2, 'data': 3}, {'col': 2, 'row': 3, 'data': 4}])
df1


df2 = pd.DataFrame([{'col': 2, 'row': 3, 'Label': 'Label2'}, {'col': 1, 'row': 2, 'Label': 'Label1'}])
df2


pd.merge(left=df1, right=df2, on=['col', 'row'])


fares = numpy.array(df['Fare'])
fares





array1 = np.array([1, 2, 3, 4])
array2 = np.array([5, 6, 7, 8])


array1


array2


list1 = [1, 2, 3, 4]
list2 = [5, 6, 7, 8]


list1


list2


list1


array1


list1 * 2


array1 * 2


array1


array1 * array2


list1 * list2


array1 + array2


array1 - array2


array1 * array2


array1 / array2


nd1 = np.array([[1, 2], [3, 4]])
nd1


nd2 = np.array([[5, 6], [7, 8]])
nd2


nd1 * nd2


nd1[:, 0:]


np.array([[1, 2, 3]]).transpose()





import cv2


cv2.putText?



