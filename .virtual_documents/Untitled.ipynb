import cv2
import pandas as pd
import numpy as np
from plotly import express as px








n


df = pandas.read_csv('titanic_train.csv')
df


series = df['Fare']
series


series.mean()


titanic_train.mean()


titanic_train[['Age', 'Fare']]


titanic_train[['Age', 'Fare']].mean()


series['Fare']


df.head()





df1 = df[['PassengerId', 'Name', 'Sex', 'Age']]
df1


df2 = df[['PassengerId', 'Ticket', 'Fare', 'Cabin', 'Embarked']]
df2


pd3 = pd.merge(left=df1, right=df2, on=["PassengerId"])
pd3


df1 = pd.DataFrame([{'col': 1, 'row': 2, 'data': 3}, {'col': 2, 'row': 3, 'data': 4}])
df1


df2 = pd.DataFrame([{'col': 2, 'row': 3, 'Label': 'Label2'}, {'col': 1, 'row': 2, 'Label': 'Label1'}])
df2


pd.merge(left=df1, right=df2, on=['col', 'row'])


np.array([1,2, 3])



