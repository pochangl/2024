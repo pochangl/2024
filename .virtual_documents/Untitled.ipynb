import cv2
import pandas as pd
import numpy as np
from plotly import express as px








n


df = pandas.read_csv('titanic_train.csv')
df


series = df['Fare']
series


series.mean()


titanic_train.mean()


titanic_train[['Age', 'Fare']]


titanic_train[['Age', 'Fare']].mean()


series['Fare']


df.head()


df1 = df[['PassengerId', 'Name', 'Sex', 'Age']]
df1


df2 = df[['PassengerId', 'Ticket', 'Fare', 'Cabin', 'Embarked']]
df2


pd3 = pd.merge(left=df1, right=df2, on="PassengerId")
pd3



