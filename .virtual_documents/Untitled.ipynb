import cv2
import pandas as pd
import numpy as np
from plotly import express as px








n


df = pandas.read_csv('titanic_train.csv')
df


fare_series = df['Fare']
fare_series


fare_series.mean()


titanic_train
