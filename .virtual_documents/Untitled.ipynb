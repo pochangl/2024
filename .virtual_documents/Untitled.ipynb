import cv2
import pandas as pd
import numpy as np
from plotly import express as px








n


df = pandas.read_csv('titanic_train.csv')
df


series = df['Fare']
series


series.mean()


titanic_train.mean()


titanic_train[['Age', 'Fare']]


titanic_train[['Age', 'Fare']].mean()


series['Fare']


df.head()





df1 = df[['PassengerId', 'Name', 'Sex', 'Age']]
df1


df2 = df[['PassengerId', 'Ticket', 'Fare', 'Cabin', 'Embarked']]
df2


pd3 = pd.merge(left=df1, right=df2, on=["PassengerId"])
pd3


df1 = pd.DataFrame([{'col': 1, 'row': 2, 'data': 3}, {'col': 2, 'row': 3, 'data': 4}])
df1


df2 = pd.DataFrame([{'col': 2, 'row': 3, 'Label': 'Label2'}, {'col': 1, 'row': 2, 'Label': 'Label1'}])
df2


pd.merge(left=df1, right=df2, on=['col', 'row'])


fares = numpy.array(df['Fare'])
fares





array1 = np.array([1, 2, 3, 4])
array2 = np.array([5, 6, 7, 8])


array1


array2


list1 = [1, 2, 3, 4]
list2 = [5, 6, 7, 8]


list1


list2


list1


array1


list1 * 2


array1 * 2


array1


array1 * array2


list1 * list2


array1 + array2


array1 - array2


array1 * array2


array1 / array2


nd1 = np.array([[1, 2], [3, 4]])
nd1


nd2 = np.array([[5, 6], [7, 8]])
nd2


nd1 * nd2


nd1[:, 0:]


np.array([[1, 2, 3]]).transpose()





import cv2
from plotly import express as px





img = cv2.imread('A229.png')
px.imshow(img)


cv2.imshow('Step 01', img)
cv2.waitKey(0)
cv2.destroyAllWindows()


gray = cv2.cvtColor(img, cv2.COLOR_BGR2GRAY)


px.imshow(gray, color_continuous_scale='gray')


result = cv2.threshold(gray, 250, 255, cv2.THRESH_BINARY)


t, t_img = result


px.imshow(t_img, color_continuous_scale='gray')


t_img_2 = 256 - t_img


px.imshow(t_img_2, color_continuous_scale='gray')


kernel = cv2.getStructuringElement(cv2.MORPH_ELLIPSE, (7, 7))


kernel


dilated = cv2.erode(src=t_img_2, kernel=kernel)


px.imshow(dilated, color_continuous_scale='gray')


opened = cv2.dilate(src=dilated, kernel=kernel)


px.imshow(opened, color_continuous_scale='gray')





dilated = cv2.dilate(src=opened, kernel=kernel)
closed = cv2.erode(src=dilated, kernel=kernel)


px.imshow(closed, color_continuous_scale='gray')





import pandas as pd


df = pd.read_csv('titanic_train.csv')


df.sort_values(['Survived', 'Age'], ascending=[False, True])


df1 = pd.DataFrame([{'id': 1, 'name': 'Richard'}, {'id': 2, 'name': 'Bruno'}])
df1


pd.DataFrame([]_
