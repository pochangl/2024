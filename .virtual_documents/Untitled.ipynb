import cv2
import pandas as pd
import numpy as np
from plotly import express as px








n


titanic_train = pandas.read_csv('titanic_train.csv')
titanic_train



