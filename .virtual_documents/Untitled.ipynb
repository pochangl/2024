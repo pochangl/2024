import cv2
import pandas as pd
import numpy as np
from plotly import express as px








n


titanic_train = pandas.read_csv('titanic_train.csv')
titanic_train


fare_series = titanic_train['Fare']
fare_series


fare_series.mean()



