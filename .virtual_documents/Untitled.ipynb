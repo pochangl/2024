import cv2
import pandas as pd
import numpy as np
from plotly import express as px








n


df = pandas.read_csv('titanic_train.csv')
df


series = df['Fare']
series


series.mean()


titanic_train.mean()


titanic_train[['Age', 'Fare']]


titanic_train[['Age', 'Fare']].mean()


series['Fare']


df.head()


pd.DataFrame([{'PassengerId': 1, '}])
