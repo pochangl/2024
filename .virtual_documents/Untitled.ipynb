import cv2
import pandas as pd
import numpy as np
from plotly import express as px








n


pandas.read_csv('train_
