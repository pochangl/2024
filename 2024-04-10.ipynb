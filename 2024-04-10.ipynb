{
 "cells": [
  {
   "cell_type": "markdown",
   "id": "37279636-7da3-40bc-a1ad-a9870ff9410d",
   "metadata": {},
   "source": [
    "# 作業"
   ]
  },
  {
   "cell_type": "markdown",
   "id": "ae689155-946f-4c08-ba19-b90b2c87f812",
   "metadata": {},
   "source": [
    "## a009. 解碼器 "
   ]
  },
  {
   "cell_type": "markdown",
   "id": "7efc86b0-bfe4-409b-b1a4-37936c14c8e5",
   "metadata": {},
   "source": [
    "### ASCII table\n",
    "字母與數對的對應 Table\n",
    "\n",
    "https://zh.wikipedia.org/zh-tw/ASCII"
   ]
  },
  {
   "cell_type": "code",
   "execution_count": 3,
   "id": "ef26c5f3-f6e3-46df-b3b9-71e45f102f64",
   "metadata": {},
   "outputs": [
    {
     "data": {
      "text/plain": [
       "'A'"
      ]
     },
     "execution_count": 3,
     "metadata": {},
     "output_type": "execute_result"
    }
   ],
   "source": [
    "'A'"
   ]
  },
  {
   "cell_type": "code",
   "execution_count": 5,
   "id": "ae11133d-2830-4660-8bd7-41f539639101",
   "metadata": {},
   "outputs": [
    {
     "data": {
      "text/plain": [
       "65"
      ]
     },
     "execution_count": 5,
     "metadata": {},
     "output_type": "execute_result"
    }
   ],
   "source": [
    "ord('A')"
   ]
  },
  {
   "cell_type": "code",
   "execution_count": 8,
   "id": "bc3f938a-a143-4b62-a559-2b2cac1b9309",
   "metadata": {},
   "outputs": [
    {
     "data": {
      "text/plain": [
       "'A'"
      ]
     },
     "execution_count": 8,
     "metadata": {},
     "output_type": "execute_result"
    }
   ],
   "source": [
    "chr(65)"
   ]
  },
  {
   "cell_type": "code",
   "execution_count": 11,
   "id": "7e8dcd6a-fabd-4b80-9fa3-eadc6887f034",
   "metadata": {},
   "outputs": [
    {
     "data": {
      "text/plain": [
       "'F'"
      ]
     },
     "execution_count": 11,
     "metadata": {},
     "output_type": "execute_result"
    }
   ],
   "source": [
    "chr(ord('A') + 5)"
   ]
  },
  {
   "cell_type": "markdown",
   "id": "b16dc171-28db-4c4b-b877-144107eeeb8b",
   "metadata": {},
   "source": [
    "### 加密舉例"
   ]
  },
  {
   "cell_type": "code",
   "execution_count": 12,
   "id": "8bdee3a3-2e90-4152-bafe-3b4681ccb69e",
   "metadata": {},
   "outputs": [],
   "source": [
    "text = 'This is a pen'"
   ]
  },
  {
   "cell_type": "code",
   "execution_count": 24,
   "id": "92d514b4-d72c-4ac0-9dfa-4ebf1856dc06",
   "metadata": {},
   "outputs": [
    {
     "data": {
      "text/plain": [
       "[84, 104, 105, 115, 32, 105, 115, 32, 97, 32, 112, 101, 110]"
      ]
     },
     "execution_count": 24,
     "metadata": {},
     "output_type": "execute_result"
    }
   ],
   "source": [
    "# 將文字轉換成 Ascii 數字的 list\n",
    "numbers = [ ord(character) for character in text ]\n",
    "numbers"
   ]
  },
  {
   "cell_type": "code",
   "execution_count": 25,
   "id": "9d16d379-82d5-4cc6-b1ec-638ba801334e",
   "metadata": {},
   "outputs": [
    {
     "data": {
      "text/plain": [
       "['\\\\', 'p', 'q', '{', '(', 'q', '{', '(', 'i', '(', 'x', 'm', 'v']"
      ]
     },
     "execution_count": 25,
     "metadata": {},
     "output_type": "execute_result"
    }
   ],
   "source": [
    "# 將所有數字 + 8 並依 ASCII table 還原成字母\n",
    "encrypted_numbers = [chr(num + 8)for num in numbers]\n",
    "encrypted_numbers"
   ]
  },
  {
   "cell_type": "code",
   "execution_count": 26,
   "id": "e2906dd9-3462-47dd-ab28-c1de2d4c5448",
   "metadata": {
    "scrolled": true
   },
   "outputs": [
    {
     "data": {
      "text/plain": [
       "'\\\\pq{(q{(i(xmv'"
      ]
     },
     "execution_count": 26,
     "metadata": {},
     "output_type": "execute_result"
    }
   ],
   "source": [
    "# 再將字母字還原成字串\n",
    "''.join(encrypted_numbers)"
   ]
  },
  {
   "cell_type": "markdown",
   "id": "3a1dbecd-2381-48bb-80a4-2159222d1593",
   "metadata": {},
   "source": [
    "```python\n",
    "ord('A') 將字母變成數字\n",
    "chr(65) 將數字變成字母\n",
    "```"
   ]
  },
  {
   "cell_type": "markdown",
   "id": "914178e5-d130-4ff3-ad50-7a370b06f226",
   "metadata": {},
   "source": [
    "## a013. 羅馬數字"
   ]
  },
  {
   "cell_type": "markdown",
   "id": "fb0febbf-3b14-48b9-a5e6-25302cc2629f",
   "metadata": {},
   "source": [
    "```\n",
    "I\t1\n",
    "V\t5\n",
    "X\t10\n",
    "L\t50\n",
    "C\t100\n",
    "D\t500\n",
    "M\t1,000\n",
    "```"
   ]
  },
  {
   "cell_type": "markdown",
   "id": "292f94ae-79b7-40a8-a96c-8aa14f6941e5",
   "metadata": {},
   "source": [
    "線上羅馬數字轉換器\n",
    "\n",
    "https://www.rapidtables.com/convert/number/roman-numerals-converter.html"
   ]
  },
  {
   "cell_type": "markdown",
   "id": "73af5885-2181-424d-b5c2-0c6671a70dd1",
   "metadata": {},
   "source": [
    "### 需要作的事\n",
    "\n",
    "將羅馬數字轉成整數\n",
    "\n",
    "將整數轉成羅馬數字"
   ]
  },
  {
   "cell_type": "code",
   "execution_count": 35,
   "id": "6738ac52-3777-4a3a-ab86-4c2da0bb5286",
   "metadata": {},
   "outputs": [],
   "source": [
    "def rom_to_int(text):\n",
    "    return 1\n",
    "\n",
    "def int_to_rom(text):\n",
    "    return 'I'"
   ]
  },
  {
   "cell_type": "code",
   "execution_count": 37,
   "id": "e0cff11d-6b32-4e21-a70d-04812ba6e242",
   "metadata": {},
   "outputs": [
    {
     "name": "stdin",
     "output_type": "stream",
     "text": [
      " X I\n"
     ]
    }
   ],
   "source": [
    "a, b = input().split()"
   ]
  },
  {
   "cell_type": "code",
   "execution_count": 40,
   "id": "d7ad3ec5-e3bc-4ffe-a4a5-0d76fa0f616f",
   "metadata": {},
   "outputs": [
    {
     "name": "stdout",
     "output_type": "stream",
     "text": [
      "I\n"
     ]
    }
   ],
   "source": [
    "num1 = rom_to_int(a)\n",
    "num2 = rom_to_int(b)\n",
    "result = abs(num1 - num2)\n",
    "\n",
    "print(int_to_rom(result))"
   ]
  },
  {
   "cell_type": "markdown",
   "id": "d824c20f-13bc-449b-8d9b-e6a276bfce1c",
   "metadata": {},
   "source": [
    "## a229. 括號匹配問題 -"
   ]
  },
  {
   "cell_type": "markdown",
   "id": "ebffcf1d-b8fd-4685-abc2-ebb1809c4d0f",
   "metadata": {},
   "source": [
    "一組括號就是 \"(\" 與 \")\" 各一個\n",
    "\n",
    "題目要求列出所有可能的括號組合"
   ]
  },
  {
   "cell_type": "raw",
   "id": "da3db663-a965-4b0f-b38d-80dd5db1fba0",
   "metadata": {},
   "source": [
    "1 組\n",
    "()"
   ]
  },
  {
   "cell_type": "raw",
   "id": "73aa5691-cbaf-4551-8b48-b39d03ddba57",
   "metadata": {},
   "source": [
    "2 組\n",
    "(())\n",
    "()()"
   ]
  },
  {
   "cell_type": "raw",
   "id": "d68ee596-3cc9-4d75-b356-b47f0613dce4",
   "metadata": {},
   "source": [
    "3 組\n",
    "((()))\n",
    "(()())\n",
    "(())()\n",
    "()()()"
   ]
  },
  {
   "cell_type": "markdown",
   "id": "29c7d9bb-4893-44d6-a18f-679e57ff0d5c",
   "metadata": {},
   "source": [
    "### 遞迴"
   ]
  },
  {
   "cell_type": "markdown",
   "id": "04464f98-5919-4001-a4d1-010f4a5fdf3e",
   "metadata": {},
   "source": [
    "#### 之前的作業費式數列\n",
    "https://zerojudge.tw/ShowProblem?problemid=k861"
   ]
  },
  {
   "cell_type": "raw",
   "id": "4f32840a-e4da-439d-af83-5664f38bca17",
   "metadata": {},
   "source": [
    "fib(0) = 0\n",
    "fib(1) = 1\n",
    "fib(n) = fib(n-1) + fib(n-2)"
   ]
  },
  {
   "cell_type": "code",
   "execution_count": 44,
   "id": "bd0ff377-1018-4909-a31f-917572135213",
   "metadata": {},
   "outputs": [],
   "source": [
    "def fib(n):\n",
    "    if n == 0:\n",
    "        return 0\n",
    "    elif n == 1:\n",
    "        return 1\n",
    "    return fib(n -1) + fib(n-2)\n"
   ]
  },
  {
   "cell_type": "code",
   "execution_count": 45,
   "id": "e616cddb-d99a-4d6d-b325-7c2dd4450abd",
   "metadata": {},
   "outputs": [
    {
     "data": {
      "text/plain": [
       "0"
      ]
     },
     "execution_count": 45,
     "metadata": {},
     "output_type": "execute_result"
    }
   ],
   "source": [
    "fib(0)"
   ]
  },
  {
   "cell_type": "code",
   "execution_count": 46,
   "id": "b3623325-cbac-4d4d-9fc7-60c8f5b41d5c",
   "metadata": {},
   "outputs": [
    {
     "data": {
      "text/plain": [
       "1"
      ]
     },
     "execution_count": 46,
     "metadata": {},
     "output_type": "execute_result"
    }
   ],
   "source": [
    "fib(1)"
   ]
  },
  {
   "cell_type": "code",
   "execution_count": 47,
   "id": "c6758028-0499-429d-a801-cd890bebc516",
   "metadata": {},
   "outputs": [],
   "source": [
    "fib(2)"
   ]
  },
  {
   "cell_type": "code",
   "execution_count": null,
   "id": "885ea3b1-50e8-40ce-a40f-94928af867fb",
   "metadata": {},
   "outputs": [],
   "source": []
  }
 ],
 "metadata": {
  "kernelspec": {
   "display_name": "Python 3 (ipykernel)",
   "language": "python",
   "name": "python3"
  },
  "language_info": {
   "codemirror_mode": {
    "name": "ipython",
    "version": 3
   },
   "file_extension": ".py",
   "mimetype": "text/x-python",
   "name": "python",
   "nbconvert_exporter": "python",
   "pygments_lexer": "ipython3",
   "version": "3.12.2"
  }
 },
 "nbformat": 4,
 "nbformat_minor": 5
}
