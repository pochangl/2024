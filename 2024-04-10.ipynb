{
 "cells": [
  {
   "cell_type": "markdown",
   "id": "37279636-7da3-40bc-a1ad-a9870ff9410d",
   "metadata": {},
   "source": [
    "# 作業"
   ]
  },
  {
   "cell_type": "markdown",
   "id": "ae689155-946f-4c08-ba19-b90b2c87f812",
   "metadata": {},
   "source": [
    "## a009. 解碼器 "
   ]
  },
  {
   "cell_type": "markdown",
   "id": "d824c20f-13bc-449b-8d9b-e6a276bfce1c",
   "metadata": {
    "jp-MarkdownHeadingCollapsed": true
   },
   "source": [
    "## a229. 括號匹配問題 -"
   ]
  },
  {
   "cell_type": "code",
   "execution_count": null,
   "id": "4ffa80fb-4618-4caa-b9a8-940115f9a915",
   "metadata": {},
   "outputs": [],
   "source": []
  }
 ],
 "metadata": {
  "kernelspec": {
   "display_name": "Python 3 (ipykernel)",
   "language": "python",
   "name": "python3"
  },
  "language_info": {
   "codemirror_mode": {
    "name": "ipython",
    "version": 3
   },
   "file_extension": ".py",
   "mimetype": "text/x-python",
   "name": "python",
   "nbconvert_exporter": "python",
   "pygments_lexer": "ipython3",
   "version": "3.12.2"
  }
 },
 "nbformat": 4,
 "nbformat_minor": 5
}
