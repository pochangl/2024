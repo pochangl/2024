{
 "cells": [
  {
   "cell_type": "markdown",
   "id": "37279636-7da3-40bc-a1ad-a9870ff9410d",
   "metadata": {},
   "source": [
    "# 作業"
   ]
  },
  {
   "cell_type": "markdown",
   "id": "ae689155-946f-4c08-ba19-b90b2c87f812",
   "metadata": {},
   "source": [
    "## a009. 解碼器 "
   ]
  },
  {
   "cell_type": "markdown",
   "id": "7efc86b0-bfe4-409b-b1a4-37936c14c8e5",
   "metadata": {},
   "source": [
    "### ASCII table\n",
    "字母與數對的對應 Table\n",
    "\n",
    "https://zh.wikipedia.org/zh-tw/ASCII"
   ]
  },
  {
   "cell_type": "code",
   "execution_count": 3,
   "id": "ef26c5f3-f6e3-46df-b3b9-71e45f102f64",
   "metadata": {},
   "outputs": [
    {
     "data": {
      "text/plain": [
       "'A'"
      ]
     },
     "execution_count": 3,
     "metadata": {},
     "output_type": "execute_result"
    }
   ],
   "source": [
    "'A'"
   ]
  },
  {
   "cell_type": "code",
   "execution_count": 5,
   "id": "ae11133d-2830-4660-8bd7-41f539639101",
   "metadata": {},
   "outputs": [
    {
     "data": {
      "text/plain": [
       "65"
      ]
     },
     "execution_count": 5,
     "metadata": {},
     "output_type": "execute_result"
    }
   ],
   "source": [
    "ord('A')"
   ]
  },
  {
   "cell_type": "code",
   "execution_count": 8,
   "id": "bc3f938a-a143-4b62-a559-2b2cac1b9309",
   "metadata": {},
   "outputs": [
    {
     "data": {
      "text/plain": [
       "'A'"
      ]
     },
     "execution_count": 8,
     "metadata": {},
     "output_type": "execute_result"
    }
   ],
   "source": [
    "chr(65)"
   ]
  },
  {
   "cell_type": "code",
   "execution_count": 11,
   "id": "7e8dcd6a-fabd-4b80-9fa3-eadc6887f034",
   "metadata": {},
   "outputs": [
    {
     "data": {
      "text/plain": [
       "'F'"
      ]
     },
     "execution_count": 11,
     "metadata": {},
     "output_type": "execute_result"
    }
   ],
   "source": [
    "chr(ord('A') + 5)"
   ]
  },
  {
   "cell_type": "markdown",
   "id": "b16dc171-28db-4c4b-b877-144107eeeb8b",
   "metadata": {},
   "source": [
    "### 加密舉例"
   ]
  },
  {
   "cell_type": "code",
   "execution_count": 12,
   "id": "8bdee3a3-2e90-4152-bafe-3b4681ccb69e",
   "metadata": {},
   "outputs": [],
   "source": [
    "text = 'This is a pen'"
   ]
  },
  {
   "cell_type": "code",
   "execution_count": 24,
   "id": "92d514b4-d72c-4ac0-9dfa-4ebf1856dc06",
   "metadata": {},
   "outputs": [
    {
     "data": {
      "text/plain": [
       "[84, 104, 105, 115, 32, 105, 115, 32, 97, 32, 112, 101, 110]"
      ]
     },
     "execution_count": 24,
     "metadata": {},
     "output_type": "execute_result"
    }
   ],
   "source": [
    "# 將文字轉換成 Ascii 數字的 list\n",
    "numbers = [ ord(character) for character in text ]\n",
    "numbers"
   ]
  },
  {
   "cell_type": "code",
   "execution_count": 25,
   "id": "9d16d379-82d5-4cc6-b1ec-638ba801334e",
   "metadata": {},
   "outputs": [
    {
     "data": {
      "text/plain": [
       "['\\\\', 'p', 'q', '{', '(', 'q', '{', '(', 'i', '(', 'x', 'm', 'v']"
      ]
     },
     "execution_count": 25,
     "metadata": {},
     "output_type": "execute_result"
    }
   ],
   "source": [
    "# 將所有數字 + 8 並依 ASCII table 還原成字母\n",
    "encrypted_numbers = [chr(num + 8)for num in numbers]\n",
    "encrypted_numbers"
   ]
  },
  {
   "cell_type": "code",
   "execution_count": 26,
   "id": "e2906dd9-3462-47dd-ab28-c1de2d4c5448",
   "metadata": {
    "scrolled": true
   },
   "outputs": [
    {
     "data": {
      "text/plain": [
       "'\\\\pq{(q{(i(xmv'"
      ]
     },
     "execution_count": 26,
     "metadata": {},
     "output_type": "execute_result"
    }
   ],
   "source": [
    "# 再將字母字還原成字串\n",
    "''.join(encrypted_numbers)"
   ]
  },
  {
   "cell_type": "markdown",
   "id": "3a1dbecd-2381-48bb-80a4-2159222d1593",
   "metadata": {},
   "source": [
    "```python\n",
    "ord('A') 將字母變成數字\n",
    "chr(65) 將數字變成字母\n",
    "```"
   ]
  },
  {
   "cell_type": "markdown",
   "id": "914178e5-d130-4ff3-ad50-7a370b06f226",
   "metadata": {},
   "source": [
    "## a013. 羅馬數字"
   ]
  },
  {
   "cell_type": "markdown",
   "id": "fb0febbf-3b14-48b9-a5e6-25302cc2629f",
   "metadata": {},
   "source": [
    "```\n",
    "I\t1\n",
    "V\t5\n",
    "X\t10\n",
    "L\t50\n",
    "C\t100\n",
    "D\t500\n",
    "M\t1,000\n",
    "```"
   ]
  },
  {
   "cell_type": "markdown",
   "id": "292f94ae-79b7-40a8-a96c-8aa14f6941e5",
   "metadata": {},
   "source": [
    "線上羅馬數字轉換器\n",
    "\n",
    "https://www.rapidtables.com/convert/number/roman-numerals-converter.html"
   ]
  },
  {
   "cell_type": "markdown",
   "id": "73af5885-2181-424d-b5c2-0c6671a70dd1",
   "metadata": {},
   "source": [
    "### 需要作的事\n",
    "\n",
    "將羅馬數字轉成整數\n",
    "\n",
    "將整數轉成羅馬數字"
   ]
  },
  {
   "cell_type": "code",
   "execution_count": 35,
   "id": "6738ac52-3777-4a3a-ab86-4c2da0bb5286",
   "metadata": {},
   "outputs": [],
   "source": [
    "def rom_to_int(text):\n",
    "    return 1\n",
    "\n",
    "def int_to_rom(text):\n",
    "    return 'I'"
   ]
  },
  {
   "cell_type": "code",
   "execution_count": 37,
   "id": "e0cff11d-6b32-4e21-a70d-04812ba6e242",
   "metadata": {},
   "outputs": [
    {
     "name": "stdin",
     "output_type": "stream",
     "text": [
      " X I\n"
     ]
    }
   ],
   "source": [
    "a, b = input().split()"
   ]
  },
  {
   "cell_type": "code",
   "execution_count": 106,
   "id": "d7ad3ec5-e3bc-4ffe-a4a5-0d76fa0f616f",
   "metadata": {},
   "outputs": [
    {
     "name": "stdout",
     "output_type": "stream",
     "text": [
      "I\n"
     ]
    }
   ],
   "source": [
    "num1 = rom_to_int(a)\n",
    "num2 = rom_to_int(b)\n",
    "result = abs(num1 - num2)\n",
    "\n",
    "print(int_to_rom(result))"
   ]
  },
  {
   "cell_type": "markdown",
   "id": "d824c20f-13bc-449b-8d9b-e6a276bfce1c",
   "metadata": {},
   "source": [
    "## a229. 括號匹配問題 -\n",
    "很容易超時"
   ]
  },
  {
   "cell_type": "markdown",
   "id": "ebffcf1d-b8fd-4685-abc2-ebb1809c4d0f",
   "metadata": {},
   "source": [
    "一組括號就是 \"(\" 與 \")\" 各一個\n",
    "\n",
    "題目要求列出所有可能的括號組合"
   ]
  },
  {
   "cell_type": "raw",
   "id": "da3db663-a965-4b0f-b38d-80dd5db1fba0",
   "metadata": {},
   "source": [
    "1 組\n",
    "()"
   ]
  },
  {
   "cell_type": "raw",
   "id": "73aa5691-cbaf-4551-8b48-b39d03ddba57",
   "metadata": {},
   "source": [
    "2 組\n",
    "(())\n",
    "()()"
   ]
  },
  {
   "cell_type": "raw",
   "id": "d68ee596-3cc9-4d75-b356-b47f0613dce4",
   "metadata": {},
   "source": [
    "3 組\n",
    "((()))\n",
    "(()())\n",
    "(())()\n",
    "()()()"
   ]
  },
  {
   "cell_type": "markdown",
   "id": "29c7d9bb-4893-44d6-a18f-679e57ff0d5c",
   "metadata": {},
   "source": [
    "### 遞迴"
   ]
  },
  {
   "cell_type": "code",
   "execution_count": null,
   "id": "f2b03d58-58b0-4900-be67-3ece148d6ca4",
   "metadata": {},
   "outputs": [],
   "source": []
  },
  {
   "cell_type": "markdown",
   "id": "04464f98-5919-4001-a4d1-010f4a5fdf3e",
   "metadata": {},
   "source": [
    "#### 之前的作業費式數列\n",
    "https://zerojudge.tw/ShowProblem?problemid=k861"
   ]
  },
  {
   "cell_type": "raw",
   "id": "4f32840a-e4da-439d-af83-5664f38bca17",
   "metadata": {},
   "source": [
    "fib(0) = 0\n",
    "fib(1) = 1\n",
    "fib(n) = fib(n-1) + fib(n-2)"
   ]
  },
  {
   "cell_type": "code",
   "execution_count": 70,
   "id": "bd0ff377-1018-4909-a31f-917572135213",
   "metadata": {},
   "outputs": [],
   "source": [
    "def fib(n):\n",
    "    if n == 0:\n",
    "        return 0\n",
    "    elif n == 1:\n",
    "        return 1\n",
    "    return fib(n -1) + fib(n-2)\n"
   ]
  },
  {
   "cell_type": "code",
   "execution_count": 71,
   "id": "e616cddb-d99a-4d6d-b325-7c2dd4450abd",
   "metadata": {},
   "outputs": [
    {
     "data": {
      "text/plain": [
       "0"
      ]
     },
     "execution_count": 71,
     "metadata": {},
     "output_type": "execute_result"
    }
   ],
   "source": [
    "fib(0)"
   ]
  },
  {
   "cell_type": "code",
   "execution_count": 72,
   "id": "b3623325-cbac-4d4d-9fc7-60c8f5b41d5c",
   "metadata": {},
   "outputs": [
    {
     "data": {
      "text/plain": [
       "1"
      ]
     },
     "execution_count": 72,
     "metadata": {},
     "output_type": "execute_result"
    }
   ],
   "source": [
    "fib(1)"
   ]
  },
  {
   "cell_type": "code",
   "execution_count": 73,
   "id": "c6758028-0499-429d-a801-cd890bebc516",
   "metadata": {},
   "outputs": [
    {
     "data": {
      "text/plain": [
       "1"
      ]
     },
     "execution_count": 73,
     "metadata": {},
     "output_type": "execute_result"
    }
   ],
   "source": [
    "fib(2)"
   ]
  },
  {
   "cell_type": "code",
   "execution_count": 74,
   "id": "885ea3b1-50e8-40ce-a40f-94928af867fb",
   "metadata": {},
   "outputs": [
    {
     "data": {
      "text/plain": [
       "2"
      ]
     },
     "execution_count": 74,
     "metadata": {},
     "output_type": "execute_result"
    }
   ],
   "source": [
    "fib(3)"
   ]
  },
  {
   "cell_type": "code",
   "execution_count": 75,
   "id": "2b2df4a7-be5d-49c4-be55-6651a4678729",
   "metadata": {},
   "outputs": [
    {
     "data": {
      "text/plain": [
       "3"
      ]
     },
     "execution_count": 75,
     "metadata": {},
     "output_type": "execute_result"
    }
   ],
   "source": [
    "fib(4)"
   ]
  },
  {
   "cell_type": "code",
   "execution_count": 76,
   "id": "d6f4e90b-f80d-45e1-a261-5eee66410961",
   "metadata": {},
   "outputs": [
    {
     "data": {
      "text/plain": [
       "5"
      ]
     },
     "execution_count": 76,
     "metadata": {},
     "output_type": "execute_result"
    }
   ],
   "source": [
    "fib(5)"
   ]
  },
  {
   "cell_type": "code",
   "execution_count": 85,
   "id": "8889a0ee-af0f-4b8f-a93a-189bc599e9ef",
   "metadata": {},
   "outputs": [
    {
     "data": {
      "text/plain": [
       "9227465"
      ]
     },
     "execution_count": 85,
     "metadata": {},
     "output_type": "execute_result"
    }
   ],
   "source": [
    "# 執行了 5 秒左右\n",
    "fib(35)"
   ]
  },
  {
   "cell_type": "markdown",
   "id": "9209ffc3-7405-4ce0-8e22-9df82e2c5fdb",
   "metadata": {},
   "source": [
    "### 使用快取優化費式函數"
   ]
  },
  {
   "cell_type": "code",
   "execution_count": 89,
   "id": "a6cab305-4c3c-432f-8518-1c9aa3f63622",
   "metadata": {},
   "outputs": [],
   "source": [
    "\n",
    "# 快取\n",
    "cache = {} \n",
    "\n",
    "def fib2(n):\n",
    "    # 前兩項\n",
    "    if n == 0:\n",
    "        return 0\n",
    "    elif n == 1:\n",
    "        return 1\n",
    "\n",
    "    # 嘗試存取快取\n",
    "    try:\n",
    "        return cache[n]\n",
    "    except KeyError:\n",
    "        pass\n",
    "\n",
    "    # 如果沒有就計算費式數列\n",
    "    value = fib2(n -1) + fib2(n-2)\n",
    "\n",
    "    # 把結果存到快取\n",
    "    cache[n] = value\n",
    "\n",
    "    # 回傳結果\n",
    "    return value"
   ]
  },
  {
   "cell_type": "code",
   "execution_count": 94,
   "id": "8130fcba-ef47-4237-b28b-2dbe5a813c02",
   "metadata": {},
   "outputs": [
    {
     "data": {
      "text/plain": [
       "{}"
      ]
     },
     "execution_count": 94,
     "metadata": {},
     "output_type": "execute_result"
    }
   ],
   "source": [
    "fib2(1)\n",
    "cache"
   ]
  },
  {
   "cell_type": "code",
   "execution_count": 95,
   "id": "86c7af16-4a5b-409e-8b54-31dcf642cd1d",
   "metadata": {},
   "outputs": [
    {
     "data": {
      "text/plain": [
       "{2: 1}"
      ]
     },
     "execution_count": 95,
     "metadata": {},
     "output_type": "execute_result"
    }
   ],
   "source": [
    "fib2(2)\n",
    "cache"
   ]
  },
  {
   "cell_type": "code",
   "execution_count": 96,
   "id": "319cb12f-5b17-4bb8-bb7d-3f0097f5f7e4",
   "metadata": {},
   "outputs": [
    {
     "data": {
      "text/plain": [
       "{2: 1, 3: 2}"
      ]
     },
     "execution_count": 96,
     "metadata": {},
     "output_type": "execute_result"
    }
   ],
   "source": [
    "fib2(3)\n",
    "cache"
   ]
  },
  {
   "cell_type": "code",
   "execution_count": 99,
   "id": "f0463747-d4cf-4f64-ad7d-e21f8ebcc03b",
   "metadata": {},
   "outputs": [
    {
     "data": {
      "text/plain": [
       "354224848179261915075"
      ]
     },
     "execution_count": 99,
     "metadata": {},
     "output_type": "execute_result"
    }
   ],
   "source": [
    "fib2(100)"
   ]
  },
  {
   "cell_type": "code",
   "execution_count": 100,
   "id": "7cd47fc1-44c0-4a14-8dbc-a736f230938c",
   "metadata": {
    "scrolled": true
   },
   "outputs": [
    {
     "data": {
      "text/plain": [
       "{2: 1,\n",
       " 3: 2,\n",
       " 4: 3,\n",
       " 5: 5,\n",
       " 6: 8,\n",
       " 7: 13,\n",
       " 8: 21,\n",
       " 9: 34,\n",
       " 10: 55,\n",
       " 11: 89,\n",
       " 12: 144,\n",
       " 13: 233,\n",
       " 14: 377,\n",
       " 15: 610,\n",
       " 16: 987,\n",
       " 17: 1597,\n",
       " 18: 2584,\n",
       " 19: 4181,\n",
       " 20: 6765,\n",
       " 21: 10946,\n",
       " 22: 17711,\n",
       " 23: 28657,\n",
       " 24: 46368,\n",
       " 25: 75025,\n",
       " 26: 121393,\n",
       " 27: 196418,\n",
       " 28: 317811,\n",
       " 29: 514229,\n",
       " 30: 832040,\n",
       " 31: 1346269,\n",
       " 32: 2178309,\n",
       " 33: 3524578,\n",
       " 34: 5702887,\n",
       " 35: 9227465,\n",
       " 36: 14930352,\n",
       " 37: 24157817,\n",
       " 38: 39088169,\n",
       " 39: 63245986,\n",
       " 40: 102334155,\n",
       " 41: 165580141,\n",
       " 42: 267914296,\n",
       " 43: 433494437,\n",
       " 44: 701408733,\n",
       " 45: 1134903170,\n",
       " 46: 1836311903,\n",
       " 47: 2971215073,\n",
       " 48: 4807526976,\n",
       " 49: 7778742049,\n",
       " 50: 12586269025,\n",
       " 51: 20365011074,\n",
       " 52: 32951280099,\n",
       " 53: 53316291173,\n",
       " 54: 86267571272,\n",
       " 55: 139583862445,\n",
       " 56: 225851433717,\n",
       " 57: 365435296162,\n",
       " 58: 591286729879,\n",
       " 59: 956722026041,\n",
       " 60: 1548008755920,\n",
       " 61: 2504730781961,\n",
       " 62: 4052739537881,\n",
       " 63: 6557470319842,\n",
       " 64: 10610209857723,\n",
       " 65: 17167680177565,\n",
       " 66: 27777890035288,\n",
       " 67: 44945570212853,\n",
       " 68: 72723460248141,\n",
       " 69: 117669030460994,\n",
       " 70: 190392490709135,\n",
       " 71: 308061521170129,\n",
       " 72: 498454011879264,\n",
       " 73: 806515533049393,\n",
       " 74: 1304969544928657,\n",
       " 75: 2111485077978050,\n",
       " 76: 3416454622906707,\n",
       " 77: 5527939700884757,\n",
       " 78: 8944394323791464,\n",
       " 79: 14472334024676221,\n",
       " 80: 23416728348467685,\n",
       " 81: 37889062373143906,\n",
       " 82: 61305790721611591,\n",
       " 83: 99194853094755497,\n",
       " 84: 160500643816367088,\n",
       " 85: 259695496911122585,\n",
       " 86: 420196140727489673,\n",
       " 87: 679891637638612258,\n",
       " 88: 1100087778366101931,\n",
       " 89: 1779979416004714189,\n",
       " 90: 2880067194370816120,\n",
       " 91: 4660046610375530309,\n",
       " 92: 7540113804746346429,\n",
       " 93: 12200160415121876738,\n",
       " 94: 19740274219868223167,\n",
       " 95: 31940434634990099905,\n",
       " 96: 51680708854858323072,\n",
       " 97: 83621143489848422977,\n",
       " 98: 135301852344706746049,\n",
       " 99: 218922995834555169026,\n",
       " 100: 354224848179261915075}"
      ]
     },
     "execution_count": 100,
     "metadata": {},
     "output_type": "execute_result"
    }
   ],
   "source": [
    "cache"
   ]
  },
  {
   "cell_type": "markdown",
   "id": "c8d97a5b-a467-47ed-9bf1-50669f09f660",
   "metadata": {},
   "source": [
    "### print()"
   ]
  },
  {
   "cell_type": "code",
   "execution_count": 101,
   "id": "76580cb5-2e08-4eb8-8030-33cd0c60db10",
   "metadata": {},
   "outputs": [
    {
     "name": "stdout",
     "output_type": "stream",
     "text": [
      "1 2 3\n"
     ]
    }
   ],
   "source": [
    "print(1, 2, 3)"
   ]
  },
  {
   "cell_type": "raw",
   "id": "c98ef5c3-9e07-4c68-b906-a6fe44bb80f3",
   "metadata": {},
   "source": [
    "print 是昂貴的計算\n",
    "昂貴的意思就是慢\n",
    "如果在意程式效能的話,  print 就要減少"
   ]
  },
  {
   "cell_type": "markdown",
   "id": "44653b18-006a-4bcd-a14f-106628b2dfc5",
   "metadata": {},
   "source": [
    "```python\n",
    "print('a')\n",
    "print('b')\n",
    "print('c')\n",
    "```\n",
    "三次昂貴的運算, 所以比較慢\n",
    "\n",
    "```python\n",
    "print('a\\nb\\nc\\n')\n",
    "```\n",
    "一次昂貴的運算, 所以比較快"
   ]
  },
  {
   "cell_type": "code",
   "execution_count": 103,
   "id": "b133bb24-0faa-431f-9d92-7f94c1565778",
   "metadata": {},
   "outputs": [
    {
     "name": "stdout",
     "output_type": "stream",
     "text": [
      "a\n",
      "b\n",
      "c\n"
     ]
    }
   ],
   "source": [
    "print('a')\n",
    "print('b')\n",
    "print('c')"
   ]
  },
  {
   "cell_type": "code",
   "execution_count": 105,
   "id": "b235bc12-b109-4afe-910d-62cca122eaf7",
   "metadata": {},
   "outputs": [
    {
     "name": "stdout",
     "output_type": "stream",
     "text": [
      "a\n",
      "b\n",
      "c\n",
      "\n"
     ]
    }
   ],
   "source": [
    "print('a\\nb\\nc\\n')"
   ]
  },
  {
   "cell_type": "markdown",
   "id": "c75c50dd-3b5e-46ff-b8c5-6da67b17bf6a",
   "metadata": {},
   "source": [
    "## 羅馬數字轉成整數"
   ]
  },
  {
   "cell_type": "code",
   "execution_count": 122,
   "id": "4c63ca10-e30b-46a3-9a4a-065c6e9ed125",
   "metadata": {},
   "outputs": [],
   "source": [
    "values = {\n",
    "    'I': 1,\n",
    "    'V': 5,\n",
    "    'X': 10,\n",
    "    'L': 50,\n",
    "    'C': 100,\n",
    "    'D': 500,\n",
    "    'M': 1000,\n",
    "}\n",
    "\n",
    "def rom_to_int(text):\n",
    "    letters = text.split()\n",
    "    total = 0\n",
    "    for ch in letters:\n",
    "        total += values[ch]\n",
    "    return total"
   ]
  },
  {
   "cell_type": "code",
   "execution_count": 123,
   "id": "813a6ae0-dd3a-4609-b220-fb561284a146",
   "metadata": {},
   "outputs": [
    {
     "ename": "KeyError",
     "evalue": "'II'",
     "output_type": "error",
     "traceback": [
      "\u001b[1;31m---------------------------------------------------------------------------\u001b[0m",
      "\u001b[1;31mKeyError\u001b[0m                                  Traceback (most recent call last)",
      "Cell \u001b[1;32mIn[123], line 2\u001b[0m\n\u001b[0;32m      1\u001b[0m \u001b[38;5;28;01massert\u001b[39;00m rom_to_int(\u001b[38;5;124m'\u001b[39m\u001b[38;5;124mI\u001b[39m\u001b[38;5;124m'\u001b[39m) \u001b[38;5;241m==\u001b[39m \u001b[38;5;241m1\u001b[39m\n\u001b[1;32m----> 2\u001b[0m \u001b[38;5;28;01massert\u001b[39;00m \u001b[43mrom_to_int\u001b[49m\u001b[43m(\u001b[49m\u001b[38;5;124;43m'\u001b[39;49m\u001b[38;5;124;43mII\u001b[39;49m\u001b[38;5;124;43m'\u001b[39;49m\u001b[43m)\u001b[49m \u001b[38;5;241m==\u001b[39m \u001b[38;5;241m2\u001b[39m\n",
      "Cell \u001b[1;32mIn[122], line 15\u001b[0m, in \u001b[0;36mrom_to_int\u001b[1;34m(text)\u001b[0m\n\u001b[0;32m     13\u001b[0m total \u001b[38;5;241m=\u001b[39m \u001b[38;5;241m0\u001b[39m\n\u001b[0;32m     14\u001b[0m \u001b[38;5;28;01mfor\u001b[39;00m ch \u001b[38;5;129;01min\u001b[39;00m letters:\n\u001b[1;32m---> 15\u001b[0m     total \u001b[38;5;241m+\u001b[39m\u001b[38;5;241m=\u001b[39m \u001b[43mvalues\u001b[49m\u001b[43m[\u001b[49m\u001b[43mch\u001b[49m\u001b[43m]\u001b[49m\n\u001b[0;32m     16\u001b[0m \u001b[38;5;28;01mreturn\u001b[39;00m total\n",
      "\u001b[1;31mKeyError\u001b[0m: 'II'"
     ]
    }
   ],
   "source": [
    "assert rom_to_int('I') == 1\n",
    "assert rom_to_int('II') == 2"
   ]
  },
  {
   "cell_type": "code",
   "execution_count": null,
   "id": "1d47c758-0e46-4121-b7d8-8ca60c765e54",
   "metadata": {},
   "outputs": [],
   "source": []
  }
 ],
 "metadata": {
  "kernelspec": {
   "display_name": "Python 3 (ipykernel)",
   "language": "python",
   "name": "python3"
  },
  "language_info": {
   "codemirror_mode": {
    "name": "ipython",
    "version": 3
   },
   "file_extension": ".py",
   "mimetype": "text/x-python",
   "name": "python",
   "nbconvert_exporter": "python",
   "pygments_lexer": "ipython3",
   "version": "3.12.2"
  }
 },
 "nbformat": 4,
 "nbformat_minor": 5
}
