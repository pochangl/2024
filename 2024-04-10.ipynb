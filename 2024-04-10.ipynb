{
 "cells": [
  {
   "cell_type": "markdown",
   "id": "37279636-7da3-40bc-a1ad-a9870ff9410d",
   "metadata": {},
   "source": [
    "# 作業"
   ]
  },
  {
   "cell_type": "markdown",
   "id": "ae689155-946f-4c08-ba19-b90b2c87f812",
   "metadata": {},
   "source": [
    "## a009. 解碼器 "
   ]
  },
  {
   "cell_type": "markdown",
   "id": "7efc86b0-bfe4-409b-b1a4-37936c14c8e5",
   "metadata": {},
   "source": [
    "### ASCII\n",
    "每個字母對對應到的數字\n",
    "\n",
    "https://zh.wikipedia.org/zh-tw/ASCII"
   ]
  },
  {
   "cell_type": "code",
   "execution_count": 3,
   "id": "ef26c5f3-f6e3-46df-b3b9-71e45f102f64",
   "metadata": {},
   "outputs": [
    {
     "data": {
      "text/plain": [
       "'A'"
      ]
     },
     "execution_count": 3,
     "metadata": {},
     "output_type": "execute_result"
    }
   ],
   "source": [
    "'A'"
   ]
  },
  {
   "cell_type": "code",
   "execution_count": 5,
   "id": "ae11133d-2830-4660-8bd7-41f539639101",
   "metadata": {},
   "outputs": [
    {
     "data": {
      "text/plain": [
       "65"
      ]
     },
     "execution_count": 5,
     "metadata": {},
     "output_type": "execute_result"
    }
   ],
   "source": [
    "ord('A')"
   ]
  },
  {
   "cell_type": "code",
   "execution_count": 8,
   "id": "bc3f938a-a143-4b62-a559-2b2cac1b9309",
   "metadata": {},
   "outputs": [
    {
     "data": {
      "text/plain": [
       "'A'"
      ]
     },
     "execution_count": 8,
     "metadata": {},
     "output_type": "execute_result"
    }
   ],
   "source": [
    "chr(65)"
   ]
  },
  {
   "cell_type": "code",
   "execution_count": 10,
   "id": "7e8dcd6a-fabd-4b80-9fa3-eadc6887f034",
   "metadata": {},
   "outputs": [
    {
     "data": {
      "text/plain": [
       "70"
      ]
     },
     "execution_count": 10,
     "metadata": {},
     "output_type": "execute_result"
    }
   ],
   "source": [
    "ord('A') + 5"
   ]
  },
  {
   "cell_type": "markdown",
   "id": "914178e5-d130-4ff3-ad50-7a370b06f226",
   "metadata": {},
   "source": [
    "## a013. 羅馬數字"
   ]
  },
  {
   "cell_type": "markdown",
   "id": "d824c20f-13bc-449b-8d9b-e6a276bfce1c",
   "metadata": {
    "jp-MarkdownHeadingCollapsed": true
   },
   "source": [
    "## a229. 括號匹配問題 -"
   ]
  },
  {
   "cell_type": "code",
   "execution_count": null,
   "id": "4ffa80fb-4618-4caa-b9a8-940115f9a915",
   "metadata": {},
   "outputs": [],
   "source": []
  }
 ],
 "metadata": {
  "kernelspec": {
   "display_name": "Python 3 (ipykernel)",
   "language": "python",
   "name": "python3"
  },
  "language_info": {
   "codemirror_mode": {
    "name": "ipython",
    "version": 3
   },
   "file_extension": ".py",
   "mimetype": "text/x-python",
   "name": "python",
   "nbconvert_exporter": "python",
   "pygments_lexer": "ipython3",
   "version": "3.12.2"
  }
 },
 "nbformat": 4,
 "nbformat_minor": 5
}
